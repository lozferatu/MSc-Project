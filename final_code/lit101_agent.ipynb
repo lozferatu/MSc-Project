{
 "cells": [
  {
   "cell_type": "code",
   "id": "initial_id",
   "metadata": {
    "collapsed": true,
    "ExecuteTime": {
     "end_time": "2024-09-22T22:15:29.271759200Z",
     "start_time": "2024-09-22T22:15:29.257206800Z"
    }
   },
   "source": [
    "#!pip install gym\n",
    "#!pip install tensorflow[and-cuda]\n",
    "#!pip install tensorflow==2.5.0 keras-rl2\n",
    "#!pip install keras-rl2\n",
    "#!pip uninstall tensorflow -y\n",
    "# not compatible with tf >2.15\n",
    "#!pip uninstall keras-rl2 -y\n",
    "#!pip install tensorflow-addons==0.16.1\n",
    "#!pip uninstall keras\n",
    "#!pip install pygame"
   ],
   "outputs": [],
   "execution_count": 25
  },
  {
   "cell_type": "code",
   "execution_count": 3,
   "outputs": [],
   "source": [
    "#!pip list"
   ],
   "metadata": {
    "collapsed": false,
    "ExecuteTime": {
     "end_time": "2024-09-22T21:44:17.859660600Z",
     "start_time": "2024-09-22T21:44:17.846561800Z"
    }
   },
   "id": "c525115d0eee9a8a"
  },
  {
   "cell_type": "code",
   "execution_count": 4,
   "outputs": [],
   "source": [
    "#!pip uninstall tensorflow tensorflow-gpu tensorboard tensorflow-estimator tensorflow-io tensorflow-io-gcs-filesystem -y\n",
    "\n",
    "#!pip uninstall keras-nightly Keras-Preprocessing -y\n",
    "#!pip uninstall keras-rl2"
   ],
   "metadata": {
    "collapsed": false,
    "ExecuteTime": {
     "end_time": "2024-09-22T21:44:18.195821400Z",
     "start_time": "2024-09-22T21:44:18.172620900Z"
    }
   },
   "id": "4ba9ba79ed42a9e6"
  },
  {
   "cell_type": "code",
   "execution_count": 5,
   "outputs": [],
   "source": [
    "#!pip cache purge"
   ],
   "metadata": {
    "collapsed": false,
    "ExecuteTime": {
     "end_time": "2024-09-22T21:44:18.429567800Z",
     "start_time": "2024-09-22T21:44:18.420597300Z"
    }
   },
   "id": "5b689dcb93e7b0ee"
  },
  {
   "cell_type": "code",
   "execution_count": 6,
   "outputs": [],
   "source": [
    "#!pip list\n"
   ],
   "metadata": {
    "collapsed": false,
    "ExecuteTime": {
     "end_time": "2024-09-22T21:44:18.693972400Z",
     "start_time": "2024-09-22T21:44:18.677524600Z"
    }
   },
   "id": "958d0f4fbd4b359b"
  },
  {
   "metadata": {
    "ExecuteTime": {
     "end_time": "2024-09-22T21:44:19.176675800Z",
     "start_time": "2024-09-22T21:44:19.163725500Z"
    }
   },
   "cell_type": "code",
   "source": [
    "#keras.__version__\n",
    "#!pip uninstall keras -y"
   ],
   "id": "283148854c4c3167",
   "outputs": [],
   "execution_count": 7
  },
  {
   "metadata": {
    "ExecuteTime": {
     "end_time": "2024-09-22T21:44:19.583463Z",
     "start_time": "2024-09-22T21:44:19.571486700Z"
    }
   },
   "cell_type": "code",
   "source": [
    "#print(tf.sysconfig.get_build_info())"
   ],
   "id": "b60b6517ee015268",
   "outputs": [],
   "execution_count": 8
  },
  {
   "metadata": {
    "ExecuteTime": {
     "end_time": "2024-09-22T21:44:20.157511400Z",
     "start_time": "2024-09-22T21:44:20.141436900Z"
    }
   },
   "cell_type": "code",
   "outputs": [],
   "execution_count": 8,
   "source": [],
   "id": "1316362bc209c2d6"
  },
  {
   "metadata": {
    "ExecuteTime": {
     "end_time": "2024-09-22T21:44:20.659489800Z",
     "start_time": "2024-09-22T21:44:20.650526100Z"
    }
   },
   "cell_type": "code",
   "outputs": [],
   "execution_count": 9,
   "source": [
    "# set tf warning level to 2 ....shows errors but not warnings\n",
    "#os.environ['TF_CPP_MIN_LOG_LEVEL'] = '1'\n",
    "#tf.__version__"
   ],
   "id": "72861eebc814b36f"
  },
  {
   "metadata": {
    "collapsed": false,
    "ExecuteTime": {
     "end_time": "2024-09-23T20:58:33.842431227Z",
     "start_time": "2024-09-23T20:58:32.305659858Z"
    }
   },
   "cell_type": "code",
   "source": [
    "from gym import Env\n",
    "from gym.spaces import Discrete, Box\n",
    "import os\n",
    "\n",
    "\n",
    "import tensorflow as tf\n",
    "#tf.config.run_functions_eagerly(True)\n",
    "#print(tf.config.functions_run_eagerly())\n",
    "from tensorflow import keras\n",
    "from tensorflow.keras.models import load_model\n",
    "\n",
    "\n",
    "#from rl.agents import DQNAgent\n",
    "#from rl.policy import BoltzmannQPolicy\n",
    "#from rl.memory import SequentialMemory\n",
    "\n",
    "\n",
    "from tensorflow.keras.models import Sequential\n",
    "from tensorflow.keras.layers import Dense, Flatten\n",
    "\n",
    "# tyr legacy adam due to numpy error\n",
    "from tensorflow.keras.optimizers import Adam\n",
    "#from tensorflow.keras.optimizers.legacy import Adam\n",
    "\n",
    "import numpy as np\n",
    "import random\n",
    "\n",
    "import pygame"
   ],
   "id": "89483b04081c5e6e",
   "outputs": [
    {
     "name": "stderr",
     "output_type": "stream",
     "text": [
      "2024-09-23 21:58:32.699121: E external/local_xla/xla/stream_executor/cuda/cuda_fft.cc:485] Unable to register cuFFT factory: Attempting to register factory for plugin cuFFT when one has already been registered\n",
      "2024-09-23 21:58:32.714025: E external/local_xla/xla/stream_executor/cuda/cuda_dnn.cc:8454] Unable to register cuDNN factory: Attempting to register factory for plugin cuDNN when one has already been registered\n",
      "2024-09-23 21:58:32.719513: E external/local_xla/xla/stream_executor/cuda/cuda_blas.cc:1452] Unable to register cuBLAS factory: Attempting to register factory for plugin cuBLAS when one has already been registered\n",
      "2024-09-23 21:58:32.732732: I tensorflow/core/platform/cpu_feature_guard.cc:210] This TensorFlow binary is optimized to use available CPU instructions in performance-critical operations.\n",
      "To enable the following instructions: AVX2 FMA, in other operations, rebuild TensorFlow with the appropriate compiler flags.\n",
      "2024-09-23 21:58:33.377651: W tensorflow/compiler/tf2tensorrt/utils/py_utils.cc:38] TF-TRT Warning: Could not find TensorRT\n"
     ]
    }
   ],
   "execution_count": 1
  },
  {
   "cell_type": "code",
   "execution_count": 1,
   "outputs": [],
   "source": [],
   "metadata": {
    "collapsed": false,
    "ExecuteTime": {
     "end_time": "2024-09-23T20:58:40.460796981Z",
     "start_time": "2024-09-23T20:58:40.408517275Z"
    }
   },
   "id": "f0e4c69b6ae13a72"
  },
  {
   "cell_type": "code",
   "execution_count": 2,
   "outputs": [
    {
     "name": "stdout",
     "output_type": "stream",
     "text": [
      "OrderedDict([('cpu_compiler', '/usr/lib/llvm-17/bin/clang'), ('cuda_compute_capabilities', ['sm_60', 'sm_70', 'sm_80', 'sm_89', 'compute_90']), ('cuda_version', '12.3'), ('cudnn_version', '8'), ('is_cuda_build', True), ('is_rocm_build', False), ('is_tensorrt_build', True)])\n"
     ]
    }
   ],
   "source": [
    "print(tf.sysconfig.get_build_info())"
   ],
   "metadata": {
    "collapsed": false,
    "ExecuteTime": {
     "end_time": "2024-09-23T20:58:41.517524924Z",
     "start_time": "2024-09-23T20:58:41.474146743Z"
    }
   },
   "id": "487ff50e7b8917dd"
  },
  {
   "metadata": {
    "collapsed": false,
    "ExecuteTime": {
     "end_time": "2024-09-23T20:58:42.580793556Z",
     "start_time": "2024-09-23T20:58:42.566778674Z"
    }
   },
   "cell_type": "code",
   "outputs": [
    {
     "name": "stdout",
     "output_type": "stream",
     "text": [
      "CUDA is available\n",
      "Device: PhysicalDevice(name='/physical_device:GPU:0', device_type='GPU')\n"
     ]
    },
    {
     "name": "stderr",
     "output_type": "stream",
     "text": [
      "WARNING: All log messages before absl::InitializeLog() is called are written to STDERR\n",
      "I0000 00:00:1727125122.508317   28292 cuda_executor.cc:1015] successful NUMA node read from SysFS had negative value (-1), but there must be at least one NUMA node, so returning NUMA node zero. See more at https://github.com/torvalds/linux/blob/v6.0/Documentation/ABI/testing/sysfs-bus-pci#L344-L355\n",
      "I0000 00:00:1727125122.564999   28292 cuda_executor.cc:1015] successful NUMA node read from SysFS had negative value (-1), but there must be at least one NUMA node, so returning NUMA node zero. See more at https://github.com/torvalds/linux/blob/v6.0/Documentation/ABI/testing/sysfs-bus-pci#L344-L355\n",
      "I0000 00:00:1727125122.565278   28292 cuda_executor.cc:1015] successful NUMA node read from SysFS had negative value (-1), but there must be at least one NUMA node, so returning NUMA node zero. See more at https://github.com/torvalds/linux/blob/v6.0/Documentation/ABI/testing/sysfs-bus-pci#L344-L355\n"
     ]
    }
   ],
   "execution_count": 3,
   "source": [
    "# Check if TensorFlow is built with CUDA support\n",
    "if tf.config.list_physical_devices('GPU'):\n",
    "    print(\"CUDA is available\")\n",
    "    print(f\"Device: {tf.config.list_physical_devices('GPU')[0]}\")\n",
    "else:\n",
    "    print(\"CUDA is not available\")"
   ],
   "id": "66dae882324f6dbe"
  },
  {
   "metadata": {},
   "cell_type": "markdown",
   "source": [
    "# Create Environment"
   ],
   "id": "8b45b612b25fa240"
  },
  {
   "cell_type": "code",
   "execution_count": 6,
   "outputs": [],
   "source": [
    "# inherit from gym env\n",
    "class SwatEnv(Env):\n",
    "    def __init__(self):\n",
    "        print('init reached')\n",
    "        # 0 decrease, 1 hold, 2 increase\n",
    "        self.action_space = Discrete(3)\n",
    "        # temperature array\n",
    "        self.observation_space = Box(low=np.array([0]), high=np.array([100] ))\n",
    "        # set start temp\n",
    "        self.state = 38 + random.randint(-3, 3)\n",
    "        # set shower length\n",
    "        self.shower_length = 60\n",
    "        \n",
    "    def step(self, action):\n",
    "        #print(f'step reached {action}')\n",
    "        # apply action\n",
    "        # subtract 1 fro action so 1 - 1 = 0 no change\n",
    "        self.state = self.state + action -1\n",
    "        # reduce shower length\n",
    "        self.shower_length = self.shower_length - 1\n",
    "        \n",
    "        # calculate reward\n",
    "        if self.state >= 37 and self.state <= 39:\n",
    "            reward = 1\n",
    "        else:\n",
    "            reward = -1\n",
    "            \n",
    "        # Check if shower is done\n",
    "        if self.shower_length <= 0:\n",
    "            done = True\n",
    "        else:\n",
    "            done = False\n",
    "            \n",
    "        # apply temp noise\n",
    "        self.state += random.randint(-1,1)\n",
    "        # place holder for info\n",
    "        info = {}\n",
    "        \n",
    "        return int(self.state), reward, done, info\n",
    "\n",
    "    def reset(self):\n",
    "        # reset temp\n",
    "        self.state = 38 + random.randint(-3, 3)\n",
    "        # reset shower time\n",
    "        self.shower_length = 60\n",
    "        return int(self.state)\n",
    "        \n",
    "    #def render(self):\n",
    "        # for vis ie pygame\n",
    "        #pass\n",
    "    def render(self, screen, font):\n",
    "        screen.fill((255, 255, 255))  # Fill the screen with white\n",
    "\n",
    "        # Draw the temperature meter\n",
    "        pygame.draw.rect(screen, (0, 0, 255), (100, 150, 50, 200))  # Blue background\n",
    "        temp_height = (self.state - 0) / 100 * 200  # Scale temp to meter height\n",
    "        pygame.draw.rect(screen, (255, 0, 0), (100, 350 - temp_height, 50, temp_height))  # Red temperature\n",
    "\n",
    "        # Display temperature value\n",
    "        temp_text = font.render(f'Temp: {self.state}°C', True, (0, 0, 0))\n",
    "        screen.blit(temp_text, (200, 150))\n",
    "\n",
    "        # Display shower length\n",
    "        shower_text = font.render(f'Shower Time: {self.shower_length}s', True, (0, 0, 0))\n",
    "        screen.blit(shower_text, (200, 200))\n",
    "    \n",
    "\n",
    "        \n"
   ],
   "metadata": {
    "collapsed": false,
    "ExecuteTime": {
     "end_time": "2024-09-23T20:53:13.603635711Z",
     "start_time": "2024-09-23T20:53:13.575182604Z"
    }
   },
   "id": "57e0e505639a90cf"
  },
  {
   "cell_type": "code",
   "execution_count": 7,
   "outputs": [
    {
     "name": "stdout",
     "output_type": "stream",
     "text": [
      "init reached\n"
     ]
    },
    {
     "name": "stderr",
     "output_type": "stream",
     "text": [
      "/home/loz/MSc/MSc_Project/venv/lib/python3.10/site-packages/gym/spaces/box.py:127: UserWarning: \u001B[33mWARN: Box bound precision lowered by casting to float32\u001B[0m\n",
      "  logger.warn(f\"Box bound precision lowered by casting to {self.dtype}\")\n"
     ]
    }
   ],
   "source": [
    "\n",
    "def main():\n",
    "    # Initialize pygame\n",
    "    pygame.init()\n",
    "    screen = pygame.display.set_mode((600, 400))\n",
    "    pygame.display.set_caption(\"SWAT Environment Visualization\")\n",
    "\n",
    "    # Font for rendering text\n",
    "    font = pygame.font.SysFont('Arial', 24)\n",
    "\n",
    "    # Create the environment\n",
    "    env = SwatEnv()\n",
    "\n",
    "    # Initialize game loop variables\n",
    "    running = True\n",
    "    clock = pygame.time.Clock()\n",
    "\n",
    "    state = env.reset()  # Initialize environment state\n",
    "\n",
    "    while running:\n",
    "        # Handle events\n",
    "        for event in pygame.event.get():\n",
    "            if event.type == pygame.QUIT:\n",
    "                running = False\n",
    "\n",
    "        # Action logic (can be random for testing purposes)\n",
    "        action = random.randint(0, 2)  # Replace with your agent's action\n",
    "\n",
    "        # Perform step\n",
    "        state, reward, done, info = env.step(action)\n",
    "\n",
    "        # Render the environment\n",
    "        env.render(screen, font)\n",
    "\n",
    "        # Update the display\n",
    "        pygame.display.flip()\n",
    "\n",
    "        # End if the shower is done\n",
    "        if done:\n",
    "            state = env.reset()\n",
    "\n",
    "        # Control frame rate (optional)\n",
    "        clock.tick(30)  # 30 FPS\n",
    "\n",
    "    pygame.quit()\n",
    "\n",
    "if __name__ == \"__main__\":\n",
    "    main()\n"
   ],
   "metadata": {
    "collapsed": false,
    "ExecuteTime": {
     "end_time": "2024-09-23T20:53:19.865313383Z",
     "start_time": "2024-09-23T20:53:14.585977431Z"
    }
   },
   "id": "2bd88380fdb4aaa5"
  },
  {
   "metadata": {
    "ExecuteTime": {
     "end_time": "2024-09-22T22:16:51.601242Z",
     "start_time": "2024-09-22T22:16:51.585573600Z"
    }
   },
   "cell_type": "code",
   "outputs": [
    {
     "name": "stdout",
     "output_type": "stream",
     "text": [
      "init reached\n"
     ]
    }
   ],
   "execution_count": 28,
   "source": [
    "env = SwatEnv()"
   ],
   "id": "97f2c748134a82a7"
  },
  {
   "metadata": {
    "ExecuteTime": {
     "end_time": "2024-09-22T22:16:51.948713600Z",
     "start_time": "2024-09-22T22:16:51.933066100Z"
    }
   },
   "cell_type": "code",
   "outputs": [
    {
     "data": {
      "text/plain": "1"
     },
     "execution_count": 29,
     "metadata": {},
     "output_type": "execute_result"
    }
   ],
   "execution_count": 29,
   "source": [
    "# sample from action space\n",
    "env.action_space.sample()"
   ],
   "id": "4105b29d17c4c342"
  },
  {
   "metadata": {
    "ExecuteTime": {
     "end_time": "2024-09-22T22:16:52.219137700Z",
     "start_time": "2024-09-22T22:16:52.203485700Z"
    }
   },
   "cell_type": "code",
   "outputs": [
    {
     "data": {
      "text/plain": "array([61.075497], dtype=float32)"
     },
     "execution_count": 30,
     "metadata": {},
     "output_type": "execute_result"
    }
   ],
   "execution_count": 30,
   "source": [
    "env.observation_space.sample()"
   ],
   "id": "9d5141d7337386af"
  },
  {
   "metadata": {
    "ExecuteTime": {
     "end_time": "2024-09-22T22:16:52.568626100Z",
     "start_time": "2024-09-22T22:16:52.505067Z"
    }
   },
   "cell_type": "code",
   "outputs": [
    {
     "name": "stdout",
     "output_type": "stream",
     "text": [
      "39\n",
      "39\n",
      "40\n",
      "39\n",
      "40\n",
      "42\n",
      "41\n",
      "42\n",
      "42\n",
      "41\n",
      "41\n",
      "41\n",
      "41\n",
      "41\n",
      "43\n",
      "43\n",
      "43\n",
      "44\n",
      "45\n",
      "44\n",
      "45\n",
      "44\n",
      "43\n",
      "44\n",
      "45\n",
      "44\n",
      "44\n",
      "44\n",
      "44\n",
      "42\n",
      "43\n",
      "44\n",
      "44\n",
      "44\n",
      "44\n",
      "44\n",
      "42\n",
      "42\n",
      "42\n",
      "42\n",
      "43\n",
      "44\n",
      "42\n",
      "43\n",
      "43\n",
      "42\n",
      "42\n",
      "40\n",
      "40\n",
      "38\n",
      "38\n",
      "40\n",
      "39\n",
      "38\n",
      "38\n",
      "39\n",
      "37\n",
      "37\n",
      "36\n",
      "36\n",
      "Episode:1 Score:-40\n",
      "38\n",
      "39\n",
      "39\n",
      "39\n",
      "39\n",
      "39\n",
      "40\n",
      "38\n",
      "38\n",
      "38\n",
      "37\n",
      "36\n",
      "36\n",
      "36\n",
      "36\n",
      "36\n",
      "36\n",
      "34\n",
      "35\n",
      "35\n",
      "37\n",
      "36\n",
      "38\n",
      "36\n",
      "36\n",
      "38\n",
      "38\n",
      "37\n",
      "36\n",
      "36\n",
      "36\n",
      "37\n",
      "36\n",
      "36\n",
      "35\n",
      "35\n",
      "35\n",
      "35\n",
      "35\n",
      "37\n",
      "38\n",
      "38\n",
      "36\n",
      "36\n",
      "36\n",
      "36\n",
      "37\n",
      "35\n",
      "35\n",
      "34\n",
      "33\n",
      "33\n",
      "32\n",
      "32\n",
      "31\n",
      "32\n",
      "30\n",
      "29\n",
      "30\n",
      "29\n",
      "Episode:2 Score:-6\n",
      "40\n",
      "42\n",
      "42\n",
      "43\n",
      "43\n",
      "41\n",
      "41\n",
      "42\n",
      "42\n",
      "43\n",
      "41\n",
      "40\n",
      "40\n",
      "39\n",
      "39\n",
      "37\n",
      "38\n",
      "40\n",
      "42\n",
      "44\n",
      "43\n",
      "44\n",
      "45\n",
      "46\n",
      "48\n",
      "46\n",
      "46\n",
      "47\n",
      "46\n",
      "46\n",
      "46\n",
      "45\n",
      "44\n",
      "43\n",
      "43\n",
      "43\n",
      "42\n",
      "42\n",
      "41\n",
      "42\n",
      "42\n",
      "43\n",
      "43\n",
      "45\n",
      "46\n",
      "46\n",
      "48\n",
      "49\n",
      "50\n",
      "52\n",
      "52\n",
      "52\n",
      "50\n",
      "49\n",
      "49\n",
      "47\n",
      "47\n",
      "49\n",
      "48\n",
      "50\n",
      "Episode:3 Score:-52\n",
      "39\n",
      "37\n",
      "39\n",
      "39\n",
      "39\n",
      "41\n",
      "41\n",
      "41\n",
      "41\n",
      "41\n",
      "40\n",
      "41\n",
      "43\n",
      "43\n",
      "43\n",
      "43\n",
      "42\n",
      "40\n",
      "40\n",
      "40\n",
      "39\n",
      "38\n",
      "36\n",
      "35\n",
      "36\n",
      "37\n",
      "36\n",
      "34\n",
      "34\n",
      "35\n",
      "34\n",
      "35\n",
      "36\n",
      "37\n",
      "38\n",
      "40\n",
      "40\n",
      "40\n",
      "41\n",
      "39\n",
      "40\n",
      "40\n",
      "39\n",
      "40\n",
      "39\n",
      "40\n",
      "39\n",
      "38\n",
      "38\n",
      "38\n",
      "38\n",
      "38\n",
      "39\n",
      "38\n",
      "37\n",
      "37\n",
      "38\n",
      "39\n",
      "41\n",
      "40\n",
      "Episode:4 Score:-8\n",
      "39\n",
      "40\n",
      "40\n",
      "42\n",
      "42\n",
      "42\n",
      "41\n",
      "40\n",
      "40\n",
      "41\n",
      "40\n",
      "42\n",
      "43\n",
      "44\n",
      "44\n",
      "45\n",
      "45\n",
      "45\n",
      "47\n",
      "47\n",
      "49\n",
      "51\n",
      "52\n",
      "53\n",
      "53\n",
      "53\n",
      "55\n",
      "57\n",
      "57\n",
      "58\n",
      "56\n",
      "58\n",
      "56\n",
      "55\n",
      "53\n",
      "53\n",
      "52\n",
      "51\n",
      "52\n",
      "51\n",
      "52\n",
      "51\n",
      "52\n",
      "51\n",
      "49\n",
      "51\n",
      "51\n",
      "53\n",
      "55\n",
      "54\n",
      "53\n",
      "53\n",
      "53\n",
      "53\n",
      "55\n",
      "56\n",
      "57\n",
      "57\n",
      "59\n",
      "60\n",
      "Episode:5 Score:-58\n",
      "36\n",
      "37\n",
      "37\n",
      "35\n",
      "35\n",
      "36\n",
      "38\n",
      "37\n",
      "37\n",
      "39\n",
      "41\n",
      "41\n",
      "41\n",
      "43\n",
      "43\n",
      "45\n",
      "45\n",
      "45\n",
      "45\n",
      "46\n",
      "46\n",
      "47\n",
      "48\n",
      "46\n",
      "44\n",
      "45\n",
      "47\n",
      "46\n",
      "46\n",
      "45\n",
      "47\n",
      "46\n",
      "47\n",
      "46\n",
      "46\n",
      "45\n",
      "45\n",
      "45\n",
      "46\n",
      "45\n",
      "46\n",
      "47\n",
      "46\n",
      "45\n",
      "47\n",
      "47\n",
      "47\n",
      "45\n",
      "46\n",
      "47\n",
      "47\n",
      "46\n",
      "46\n",
      "46\n",
      "45\n",
      "45\n",
      "44\n",
      "46\n",
      "46\n",
      "44\n",
      "Episode:6 Score:-46\n",
      "34\n",
      "35\n",
      "33\n",
      "32\n",
      "31\n",
      "32\n",
      "33\n",
      "33\n",
      "32\n",
      "31\n",
      "32\n",
      "33\n",
      "34\n",
      "32\n",
      "32\n",
      "33\n",
      "35\n",
      "33\n",
      "34\n",
      "34\n",
      "33\n",
      "33\n",
      "34\n",
      "34\n",
      "32\n",
      "30\n",
      "28\n",
      "30\n",
      "32\n",
      "32\n",
      "31\n",
      "29\n",
      "31\n",
      "32\n",
      "32\n",
      "33\n",
      "33\n",
      "33\n",
      "34\n",
      "33\n",
      "33\n",
      "32\n",
      "34\n",
      "36\n",
      "36\n",
      "38\n",
      "39\n",
      "39\n",
      "40\n",
      "40\n",
      "39\n",
      "40\n",
      "40\n",
      "40\n",
      "41\n",
      "40\n",
      "40\n",
      "40\n",
      "40\n",
      "40\n",
      "Episode:7 Score:-46\n",
      "39\n",
      "37\n",
      "37\n",
      "37\n",
      "39\n",
      "39\n",
      "40\n",
      "40\n",
      "42\n",
      "42\n",
      "40\n",
      "42\n",
      "40\n",
      "40\n",
      "40\n",
      "41\n",
      "41\n",
      "40\n",
      "39\n",
      "38\n",
      "38\n",
      "38\n",
      "39\n",
      "38\n",
      "37\n",
      "37\n",
      "35\n",
      "33\n",
      "32\n",
      "30\n",
      "32\n",
      "31\n",
      "30\n",
      "29\n",
      "29\n",
      "27\n",
      "26\n",
      "25\n",
      "27\n",
      "27\n",
      "28\n",
      "30\n",
      "28\n",
      "30\n",
      "31\n",
      "30\n",
      "29\n",
      "30\n",
      "30\n",
      "31\n",
      "29\n",
      "28\n",
      "26\n",
      "26\n",
      "26\n",
      "27\n",
      "28\n",
      "27\n",
      "26\n",
      "25\n",
      "Episode:8 Score:-32\n",
      "39\n",
      "39\n",
      "38\n",
      "38\n",
      "39\n",
      "39\n",
      "40\n",
      "40\n",
      "40\n",
      "38\n",
      "37\n",
      "39\n",
      "40\n",
      "38\n",
      "38\n",
      "37\n",
      "38\n",
      "36\n",
      "34\n",
      "33\n",
      "33\n",
      "35\n",
      "35\n",
      "35\n",
      "34\n",
      "33\n",
      "34\n",
      "33\n",
      "35\n",
      "34\n",
      "35\n",
      "35\n",
      "35\n",
      "37\n",
      "36\n",
      "35\n",
      "35\n",
      "33\n",
      "33\n",
      "35\n",
      "34\n",
      "35\n",
      "36\n",
      "36\n",
      "36\n",
      "37\n",
      "35\n",
      "33\n",
      "33\n",
      "31\n",
      "30\n",
      "29\n",
      "28\n",
      "28\n",
      "30\n",
      "31\n",
      "31\n",
      "30\n",
      "30\n",
      "30\n",
      "Episode:9 Score:-28\n",
      "37\n",
      "37\n",
      "35\n",
      "35\n",
      "33\n",
      "34\n",
      "32\n",
      "33\n",
      "33\n",
      "35\n",
      "36\n",
      "37\n",
      "39\n",
      "37\n",
      "37\n",
      "38\n",
      "38\n",
      "39\n",
      "40\n",
      "42\n",
      "40\n",
      "39\n",
      "39\n",
      "39\n",
      "38\n",
      "38\n",
      "39\n",
      "39\n",
      "40\n",
      "38\n",
      "38\n",
      "40\n",
      "39\n",
      "41\n",
      "41\n",
      "41\n",
      "39\n",
      "39\n",
      "40\n",
      "40\n",
      "39\n",
      "41\n",
      "41\n",
      "41\n",
      "41\n",
      "40\n",
      "41\n",
      "41\n",
      "42\n",
      "41\n",
      "42\n",
      "42\n",
      "40\n",
      "39\n",
      "40\n",
      "38\n",
      "40\n",
      "39\n",
      "40\n",
      "39\n",
      "Episode:10 Score:-24\n"
     ]
    }
   ],
   "execution_count": 31,
   "source": [
    "episodes = 10\n",
    "for episode in range(1, episodes+1):\n",
    "    state = env.reset()\n",
    "    done = False\n",
    "    score = 0 \n",
    "    \n",
    "    while not done:\n",
    "        #env.render()\n",
    "        action = env.action_space.sample()\n",
    "        n_state, reward, done, info = env.step(action)\n",
    "        print(n_state)\n",
    "        score+=reward\n",
    "    print('Episode:{} Score:{}'.format(episode, score))"
   ],
   "id": "ebac901508fda9c9"
  },
  {
   "metadata": {},
   "cell_type": "markdown",
   "source": [
    "# Create Deep Learning Model#"
   ],
   "id": "8cbe185c6d90d1ec"
  },
  {
   "metadata": {
    "ExecuteTime": {
     "end_time": "2024-09-22T22:16:53.071166100Z",
     "start_time": "2024-09-22T22:16:53.055553900Z"
    }
   },
   "cell_type": "code",
   "source": [],
   "id": "6c984dd207cab06e",
   "outputs": [],
   "execution_count": 31
  },
  {
   "metadata": {
    "ExecuteTime": {
     "end_time": "2024-09-22T22:16:53.500243500Z",
     "start_time": "2024-09-22T22:16:53.489961900Z"
    }
   },
   "cell_type": "code",
   "source": [
    "states = env.observation_space.shape\n",
    "actions = env.action_space.n"
   ],
   "id": "803ec7a6019f3243",
   "outputs": [],
   "execution_count": 32
  },
  {
   "cell_type": "code",
   "execution_count": 32,
   "outputs": [],
   "source": [],
   "metadata": {
    "collapsed": false,
    "ExecuteTime": {
     "end_time": "2024-09-22T22:16:53.830835100Z",
     "start_time": "2024-09-22T22:16:53.815209700Z"
    }
   },
   "id": "3603941aef4b2538"
  },
  {
   "cell_type": "code",
   "execution_count": 33,
   "outputs": [
    {
     "data": {
      "text/plain": "(1,)"
     },
     "execution_count": 33,
     "metadata": {},
     "output_type": "execute_result"
    }
   ],
   "source": [
    "states"
   ],
   "metadata": {
    "collapsed": false,
    "ExecuteTime": {
     "end_time": "2024-09-22T22:16:54.038442800Z",
     "start_time": "2024-09-22T22:16:54.022821900Z"
    }
   },
   "id": "69ba5c3d076535ef"
  },
  {
   "metadata": {
    "ExecuteTime": {
     "end_time": "2024-09-22T22:16:54.337332300Z",
     "start_time": "2024-09-22T22:16:54.321715600Z"
    }
   },
   "cell_type": "code",
   "source": [
    "actions"
   ],
   "id": "a30d0d67fec2b5bf",
   "outputs": [
    {
     "data": {
      "text/plain": "3"
     },
     "execution_count": 34,
     "metadata": {},
     "output_type": "execute_result"
    }
   ],
   "execution_count": 34
  },
  {
   "metadata": {
    "ExecuteTime": {
     "end_time": "2024-09-22T22:16:54.568984800Z",
     "start_time": "2024-09-22T22:16:54.552234700Z"
    }
   },
   "cell_type": "code",
   "source": [
    "def build_model(states, actions):\n",
    "    model = Sequential()    \n",
    "    model.add(Dense(24, activation='relu', input_shape=states))\n",
    "    #model.add(Dense(24, activation='relu', input_shape=(1,)))\n",
    "    model.add(Dense(24, activation='relu'))\n",
    "    model.add(Dense(actions, activation='linear'))\n",
    "    return model"
   ],
   "id": "ed2f0a9118190377",
   "outputs": [],
   "execution_count": 35
  },
  {
   "metadata": {
    "ExecuteTime": {
     "end_time": "2024-09-22T22:16:54.881078900Z",
     "start_time": "2024-09-22T22:16:54.865418100Z"
    }
   },
   "cell_type": "code",
   "source": [
    "#del model"
   ],
   "id": "69758ce59d7ad830",
   "outputs": [],
   "execution_count": 36
  },
  {
   "metadata": {
    "ExecuteTime": {
     "end_time": "2024-09-22T22:16:55.279248900Z",
     "start_time": "2024-09-22T22:16:55.232274800Z"
    }
   },
   "cell_type": "code",
   "source": [
    "model = build_model(states, actions)"
   ],
   "id": "6ba60cf6161d3e4c",
   "outputs": [],
   "execution_count": 37
  },
  {
   "metadata": {
    "ExecuteTime": {
     "end_time": "2024-09-22T22:16:55.565831600Z",
     "start_time": "2024-09-22T22:16:55.550131900Z"
    }
   },
   "cell_type": "code",
   "source": [
    "model.summary()"
   ],
   "id": "83d8647280b71a53",
   "outputs": [
    {
     "name": "stdout",
     "output_type": "stream",
     "text": [
      "Model: \"sequential_1\"\n",
      "_________________________________________________________________\n",
      "Layer (type)                 Output Shape              Param #   \n",
      "=================================================================\n",
      "dense_3 (Dense)              (None, 24)                48        \n",
      "_________________________________________________________________\n",
      "dense_4 (Dense)              (None, 24)                600       \n",
      "_________________________________________________________________\n",
      "dense_5 (Dense)              (None, 3)                 75        \n",
      "=================================================================\n",
      "Total params: 723\n",
      "Trainable params: 723\n",
      "Non-trainable params: 0\n",
      "_________________________________________________________________\n"
     ]
    }
   ],
   "execution_count": 38
  },
  {
   "metadata": {},
   "cell_type": "markdown",
   "source": [
    "# Build Agent wit Keras-RL"
   ],
   "id": "97d8cab3cd58809f"
  },
  {
   "metadata": {
    "ExecuteTime": {
     "end_time": "2024-09-22T22:16:56.470596700Z",
     "start_time": "2024-09-22T22:16:56.454931400Z"
    }
   },
   "cell_type": "code",
   "source": [
    "#@tf.function(reduce_retracing=True)\n",
    "def build_agent(model, actions):\n",
    "    policy = BoltzmannQPolicy()\n",
    "    memory = SequentialMemory(limit=50000, window_length=1)\n",
    "    dqn = DQNAgent(model=model, memory=memory, policy=policy,\n",
    "                  nb_actions=actions, nb_steps_warmup=10, target_model_update=1e-2)\n",
    "    return dqn"
   ],
   "id": "36752bcb3387eb28",
   "outputs": [],
   "execution_count": 39
  },
  {
   "cell_type": "code",
   "execution_count": 40,
   "outputs": [],
   "source": [
    "dqn = build_agent(model, actions)"
   ],
   "metadata": {
    "collapsed": false,
    "ExecuteTime": {
     "end_time": "2024-09-22T22:16:56.873312500Z",
     "start_time": "2024-09-22T22:16:56.857672Z"
    }
   },
   "id": "261ea55dd51e628c"
  },
  {
   "cell_type": "code",
   "execution_count": 41,
   "outputs": [],
   "source": [
    "dqn.compile(Adam(learning_rate=1e-3), metrics=['mae'])"
   ],
   "metadata": {
    "collapsed": false,
    "ExecuteTime": {
     "end_time": "2024-09-22T22:16:58.040308300Z",
     "start_time": "2024-09-22T22:16:57.238526800Z"
    }
   },
   "id": "92692ff464f3c981"
  },
  {
   "metadata": {
    "ExecuteTime": {
     "end_time": "2024-09-22T22:17:14.149801800Z",
     "start_time": "2024-09-22T22:16:58.040308300Z"
    }
   },
   "cell_type": "code",
   "outputs": [
    {
     "name": "stdout",
     "output_type": "stream",
     "text": [
      "Training for 5000 steps ...\n",
      "Interval 1 (0 steps performed)\n",
      " 1423/10000 [===>..........................] - ETA: 1:36 - reward: -0.5264done, took 16.064 seconds\n"
     ]
    },
    {
     "data": {
      "text/plain": "<tensorflow.python.keras.callbacks.History at 0x1d02e5392b0>"
     },
     "execution_count": 42,
     "metadata": {},
     "output_type": "execute_result"
    }
   ],
   "execution_count": 42,
   "source": [
    "\n",
    "\n",
    "dqn.fit(env, nb_steps=5000, visualize=False, verbose=1)\n"
   ],
   "id": "55edb33778c5ff93"
  },
  {
   "metadata": {
    "ExecuteTime": {
     "end_time": "2024-09-22T22:04:41.652656400Z",
     "start_time": "2024-09-22T22:04:37.103682200Z"
    }
   },
   "cell_type": "code",
   "outputs": [
    {
     "name": "stdout",
     "output_type": "stream",
     "text": [
      "Testing for 100 episodes ...\n",
      "Episode 1: reward: 10.000, steps: 60\n",
      "Episode 2: reward: 16.000, steps: 60\n",
      "Episode 3: reward: 6.000, steps: 60\n",
      "Episode 4: reward: 8.000, steps: 60\n",
      "Episode 5: reward: 4.000, steps: 60\n",
      "Episode 6: reward: 18.000, steps: 60\n",
      "Episode 7: reward: -16.000, steps: 60\n",
      "Episode 8: reward: -12.000, steps: 60\n",
      "Episode 9: reward: -8.000, steps: 60\n",
      "Episode 10: reward: -2.000, steps: 60\n",
      "Episode 11: reward: -2.000, steps: 60\n",
      "Episode 12: reward: 8.000, steps: 60\n",
      "Episode 13: reward: -10.000, steps: 60\n",
      "Episode 14: reward: 4.000, steps: 60\n",
      "Episode 15: reward: 2.000, steps: 60\n",
      "Episode 16: reward: 6.000, steps: 60\n",
      "Episode 17: reward: -10.000, steps: 60\n",
      "Episode 18: reward: 0.000, steps: 60\n",
      "Episode 19: reward: 10.000, steps: 60\n",
      "Episode 20: reward: -8.000, steps: 60\n",
      "Episode 21: reward: -6.000, steps: 60\n",
      "Episode 22: reward: 6.000, steps: 60\n",
      "Episode 23: reward: 0.000, steps: 60\n",
      "Episode 24: reward: -2.000, steps: 60\n",
      "Episode 25: reward: 8.000, steps: 60\n",
      "Episode 26: reward: 6.000, steps: 60\n",
      "Episode 27: reward: 4.000, steps: 60\n",
      "Episode 28: reward: 28.000, steps: 60\n",
      "Episode 29: reward: 0.000, steps: 60\n",
      "Episode 30: reward: 8.000, steps: 60\n",
      "Episode 31: reward: 8.000, steps: 60\n",
      "Episode 32: reward: -4.000, steps: 60\n",
      "Episode 33: reward: -2.000, steps: 60\n",
      "Episode 34: reward: -16.000, steps: 60\n",
      "Episode 35: reward: 0.000, steps: 60\n",
      "Episode 36: reward: -22.000, steps: 60\n",
      "Episode 37: reward: 6.000, steps: 60\n",
      "Episode 38: reward: -2.000, steps: 60\n",
      "Episode 39: reward: 10.000, steps: 60\n",
      "Episode 40: reward: -26.000, steps: 60\n",
      "Episode 41: reward: 2.000, steps: 60\n",
      "Episode 42: reward: 8.000, steps: 60\n",
      "Episode 43: reward: 12.000, steps: 60\n",
      "Episode 44: reward: 4.000, steps: 60\n",
      "Episode 45: reward: 2.000, steps: 60\n",
      "Episode 46: reward: -12.000, steps: 60\n",
      "Episode 47: reward: -14.000, steps: 60\n",
      "Episode 48: reward: -6.000, steps: 60\n",
      "Episode 49: reward: 0.000, steps: 60\n",
      "Episode 50: reward: 14.000, steps: 60\n",
      "Episode 51: reward: 8.000, steps: 60\n",
      "Episode 52: reward: 2.000, steps: 60\n",
      "Episode 53: reward: -6.000, steps: 60\n",
      "Episode 54: reward: 2.000, steps: 60\n",
      "Episode 55: reward: 12.000, steps: 60\n",
      "Episode 56: reward: -10.000, steps: 60\n",
      "Episode 57: reward: -14.000, steps: 60\n",
      "Episode 58: reward: 12.000, steps: 60\n",
      "Episode 59: reward: -4.000, steps: 60\n",
      "Episode 60: reward: 0.000, steps: 60\n",
      "Episode 61: reward: 14.000, steps: 60\n",
      "Episode 62: reward: 14.000, steps: 60\n",
      "Episode 63: reward: 8.000, steps: 60\n",
      "Episode 64: reward: 8.000, steps: 60\n",
      "Episode 65: reward: 8.000, steps: 60\n",
      "Episode 66: reward: 10.000, steps: 60\n",
      "Episode 67: reward: 12.000, steps: 60\n",
      "Episode 68: reward: -2.000, steps: 60\n",
      "Episode 69: reward: 12.000, steps: 60\n",
      "Episode 70: reward: -14.000, steps: 60\n",
      "Episode 71: reward: 10.000, steps: 60\n",
      "Episode 72: reward: -16.000, steps: 60\n",
      "Episode 73: reward: 4.000, steps: 60\n",
      "Episode 74: reward: -12.000, steps: 60\n",
      "Episode 75: reward: 8.000, steps: 60\n",
      "Episode 76: reward: 0.000, steps: 60\n",
      "Episode 77: reward: 6.000, steps: 60\n",
      "Episode 78: reward: 12.000, steps: 60\n",
      "Episode 79: reward: -8.000, steps: 60\n",
      "Episode 80: reward: 24.000, steps: 60\n",
      "Episode 81: reward: -6.000, steps: 60\n",
      "Episode 82: reward: 0.000, steps: 60\n",
      "Episode 83: reward: 16.000, steps: 60\n",
      "Episode 84: reward: -4.000, steps: 60\n",
      "Episode 85: reward: 8.000, steps: 60\n",
      "Episode 86: reward: -2.000, steps: 60\n",
      "Episode 87: reward: -20.000, steps: 60\n",
      "Episode 88: reward: 0.000, steps: 60\n",
      "Episode 89: reward: -2.000, steps: 60\n",
      "Episode 90: reward: 0.000, steps: 60\n",
      "Episode 91: reward: -22.000, steps: 60\n",
      "Episode 92: reward: 14.000, steps: 60\n",
      "Episode 93: reward: -2.000, steps: 60\n",
      "Episode 94: reward: 18.000, steps: 60\n",
      "Episode 95: reward: -8.000, steps: 60\n",
      "Episode 96: reward: 10.000, steps: 60\n",
      "Episode 97: reward: 0.000, steps: 60\n",
      "Episode 98: reward: 12.000, steps: 60\n",
      "Episode 99: reward: -6.000, steps: 60\n",
      "Episode 100: reward: -10.000, steps: 60\n",
      "1.34\n"
     ]
    }
   ],
   "execution_count": 23,
   "source": [
    "scores = dqn.test(env, nb_episodes=100, visualize=False)\n",
    "print(np.mean(scores.history['episode_reward']))"
   ],
   "id": "480c28428c2a347a"
  },
  {
   "metadata": {},
   "cell_type": "code",
   "outputs": [],
   "execution_count": null,
   "source": [],
   "id": "892f339dfb0521a2"
  },
  {
   "metadata": {},
   "cell_type": "code",
   "outputs": [],
   "execution_count": null,
   "source": [],
   "id": "d5d95c43632b1a97"
  },
  {
   "cell_type": "code",
   "source": [
    "os.getcwd()"
   ],
   "metadata": {
    "collapsed": false,
    "ExecuteTime": {
     "end_time": "2024-09-22T14:08:02.671496Z",
     "start_time": "2024-09-22T14:08:02.664423Z"
    }
   },
   "id": "f8006474c7e95115",
   "outputs": [
    {
     "data": {
      "text/plain": [
       "'/home/loz/Documents/GitHub/MSc-Project/final_code'"
      ]
     },
     "execution_count": 12,
     "metadata": {},
     "output_type": "execute_result"
    }
   ],
   "execution_count": 12
  },
  {
   "cell_type": "code",
   "source": [
    "#os.listdir()"
   ],
   "metadata": {
    "collapsed": false,
    "ExecuteTime": {
     "end_time": "2024-09-22T18:09:26.766493Z",
     "start_time": "2024-09-22T18:09:26.754832700Z"
    }
   },
   "id": "3efd9c6ae4abd830",
   "outputs": [],
   "execution_count": 26
  },
  {
   "cell_type": "code",
   "source": [
    "# get pre_trained model of SWaT\n",
    "swat_lstm = tf.keras.models.load_model('swat_lstm_100s.keras')\n"
   ],
   "metadata": {
    "collapsed": false,
    "ExecuteTime": {
     "end_time": "2024-09-22T18:09:06.000715200Z",
     "start_time": "2024-09-22T18:09:05.868741200Z"
    }
   },
   "id": "be505a35c8017c05",
   "outputs": [
    {
     "ename": "OSError",
     "evalue": "Unable to synchronously open file (file signature not found)",
     "output_type": "error",
     "traceback": [
      "\u001B[1;31m---------------------------------------------------------------------------\u001B[0m",
      "\u001B[1;31mOSError\u001B[0m                                   Traceback (most recent call last)",
      "Cell \u001B[1;32mIn[24], line 2\u001B[0m\n\u001B[0;32m      1\u001B[0m \u001B[38;5;66;03m# get pre_trained model of SWaT\u001B[39;00m\n\u001B[1;32m----> 2\u001B[0m swat_lstm \u001B[38;5;241m=\u001B[39m \u001B[43mtf\u001B[49m\u001B[38;5;241;43m.\u001B[39;49m\u001B[43mkeras\u001B[49m\u001B[38;5;241;43m.\u001B[39;49m\u001B[43mmodels\u001B[49m\u001B[38;5;241;43m.\u001B[39;49m\u001B[43mload_model\u001B[49m\u001B[43m(\u001B[49m\u001B[38;5;124;43m'\u001B[39;49m\u001B[38;5;124;43mswat_lstm_100s.keras\u001B[39;49m\u001B[38;5;124;43m'\u001B[39;49m\u001B[43m)\u001B[49m\n",
      "File \u001B[1;32m~\\venv\\lib\\site-packages\\keras\\utils\\traceback_utils.py:70\u001B[0m, in \u001B[0;36mfilter_traceback.<locals>.error_handler\u001B[1;34m(*args, **kwargs)\u001B[0m\n\u001B[0;32m     67\u001B[0m     filtered_tb \u001B[38;5;241m=\u001B[39m _process_traceback_frames(e\u001B[38;5;241m.\u001B[39m__traceback__)\n\u001B[0;32m     68\u001B[0m     \u001B[38;5;66;03m# To get the full stack trace, call:\u001B[39;00m\n\u001B[0;32m     69\u001B[0m     \u001B[38;5;66;03m# `tf.debugging.disable_traceback_filtering()`\u001B[39;00m\n\u001B[1;32m---> 70\u001B[0m     \u001B[38;5;28;01mraise\u001B[39;00m e\u001B[38;5;241m.\u001B[39mwith_traceback(filtered_tb) \u001B[38;5;28;01mfrom\u001B[39;00m \u001B[38;5;28;01mNone\u001B[39;00m\n\u001B[0;32m     71\u001B[0m \u001B[38;5;28;01mfinally\u001B[39;00m:\n\u001B[0;32m     72\u001B[0m     \u001B[38;5;28;01mdel\u001B[39;00m filtered_tb\n",
      "File \u001B[1;32m~\\venv\\lib\\site-packages\\h5py\\_hl\\files.py:562\u001B[0m, in \u001B[0;36mFile.__init__\u001B[1;34m(self, name, mode, driver, libver, userblock_size, swmr, rdcc_nslots, rdcc_nbytes, rdcc_w0, track_order, fs_strategy, fs_persist, fs_threshold, fs_page_size, page_buf_size, min_meta_keep, min_raw_keep, locking, alignment_threshold, alignment_interval, meta_block_size, **kwds)\u001B[0m\n\u001B[0;32m    553\u001B[0m     fapl \u001B[38;5;241m=\u001B[39m make_fapl(driver, libver, rdcc_nslots, rdcc_nbytes, rdcc_w0,\n\u001B[0;32m    554\u001B[0m                      locking, page_buf_size, min_meta_keep, min_raw_keep,\n\u001B[0;32m    555\u001B[0m                      alignment_threshold\u001B[38;5;241m=\u001B[39malignment_threshold,\n\u001B[0;32m    556\u001B[0m                      alignment_interval\u001B[38;5;241m=\u001B[39malignment_interval,\n\u001B[0;32m    557\u001B[0m                      meta_block_size\u001B[38;5;241m=\u001B[39mmeta_block_size,\n\u001B[0;32m    558\u001B[0m                      \u001B[38;5;241m*\u001B[39m\u001B[38;5;241m*\u001B[39mkwds)\n\u001B[0;32m    559\u001B[0m     fcpl \u001B[38;5;241m=\u001B[39m make_fcpl(track_order\u001B[38;5;241m=\u001B[39mtrack_order, fs_strategy\u001B[38;5;241m=\u001B[39mfs_strategy,\n\u001B[0;32m    560\u001B[0m                      fs_persist\u001B[38;5;241m=\u001B[39mfs_persist, fs_threshold\u001B[38;5;241m=\u001B[39mfs_threshold,\n\u001B[0;32m    561\u001B[0m                      fs_page_size\u001B[38;5;241m=\u001B[39mfs_page_size)\n\u001B[1;32m--> 562\u001B[0m     fid \u001B[38;5;241m=\u001B[39m make_fid(name, mode, userblock_size, fapl, fcpl, swmr\u001B[38;5;241m=\u001B[39mswmr)\n\u001B[0;32m    564\u001B[0m \u001B[38;5;28;01mif\u001B[39;00m \u001B[38;5;28misinstance\u001B[39m(libver, \u001B[38;5;28mtuple\u001B[39m):\n\u001B[0;32m    565\u001B[0m     \u001B[38;5;28mself\u001B[39m\u001B[38;5;241m.\u001B[39m_libver \u001B[38;5;241m=\u001B[39m libver\n",
      "File \u001B[1;32m~\\venv\\lib\\site-packages\\h5py\\_hl\\files.py:235\u001B[0m, in \u001B[0;36mmake_fid\u001B[1;34m(name, mode, userblock_size, fapl, fcpl, swmr)\u001B[0m\n\u001B[0;32m    233\u001B[0m     \u001B[38;5;28;01mif\u001B[39;00m swmr \u001B[38;5;129;01mand\u001B[39;00m swmr_support:\n\u001B[0;32m    234\u001B[0m         flags \u001B[38;5;241m|\u001B[39m\u001B[38;5;241m=\u001B[39m h5f\u001B[38;5;241m.\u001B[39mACC_SWMR_READ\n\u001B[1;32m--> 235\u001B[0m     fid \u001B[38;5;241m=\u001B[39m \u001B[43mh5f\u001B[49m\u001B[38;5;241;43m.\u001B[39;49m\u001B[43mopen\u001B[49m\u001B[43m(\u001B[49m\u001B[43mname\u001B[49m\u001B[43m,\u001B[49m\u001B[43m \u001B[49m\u001B[43mflags\u001B[49m\u001B[43m,\u001B[49m\u001B[43m \u001B[49m\u001B[43mfapl\u001B[49m\u001B[38;5;241;43m=\u001B[39;49m\u001B[43mfapl\u001B[49m\u001B[43m)\u001B[49m\n\u001B[0;32m    236\u001B[0m \u001B[38;5;28;01melif\u001B[39;00m mode \u001B[38;5;241m==\u001B[39m \u001B[38;5;124m'\u001B[39m\u001B[38;5;124mr+\u001B[39m\u001B[38;5;124m'\u001B[39m:\n\u001B[0;32m    237\u001B[0m     fid \u001B[38;5;241m=\u001B[39m h5f\u001B[38;5;241m.\u001B[39mopen(name, h5f\u001B[38;5;241m.\u001B[39mACC_RDWR, fapl\u001B[38;5;241m=\u001B[39mfapl)\n",
      "File \u001B[1;32mh5py\\\\_objects.pyx:54\u001B[0m, in \u001B[0;36mh5py._objects.with_phil.wrapper\u001B[1;34m()\u001B[0m\n",
      "File \u001B[1;32mh5py\\\\_objects.pyx:55\u001B[0m, in \u001B[0;36mh5py._objects.with_phil.wrapper\u001B[1;34m()\u001B[0m\n",
      "File \u001B[1;32mh5py\\\\h5f.pyx:102\u001B[0m, in \u001B[0;36mh5py.h5f.open\u001B[1;34m()\u001B[0m\n",
      "\u001B[1;31mOSError\u001B[0m: Unable to synchronously open file (file signature not found)"
     ]
    }
   ],
   "execution_count": 24
  },
  {
   "cell_type": "code",
   "execution_count": null,
   "outputs": [],
   "source": [],
   "metadata": {
    "collapsed": false
   },
   "id": "478f1bc17bca7a69"
  }
 ],
 "metadata": {
  "kernelspec": {
   "display_name": "Python 3",
   "language": "python",
   "name": "python3"
  },
  "language_info": {
   "codemirror_mode": {
    "name": "ipython",
    "version": 2
   },
   "file_extension": ".py",
   "mimetype": "text/x-python",
   "name": "python",
   "nbconvert_exporter": "python",
   "pygments_lexer": "ipython2",
   "version": "2.7.6"
  }
 },
 "nbformat": 4,
 "nbformat_minor": 5
}
