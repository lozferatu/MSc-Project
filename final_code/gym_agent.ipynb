{
 "cells": [
  {
   "cell_type": "code",
   "id": "initial_id",
   "metadata": {
    "collapsed": true,
    "ExecuteTime": {
     "end_time": "2024-09-22T17:21:04.102734Z",
     "start_time": "2024-09-22T17:20:51.101689Z"
    }
   },
   "source": [
    "#!pip install gym\n",
    "!pip install tensorflow[and-cuda]\n",
    "# not compatible with tf >2.15\n",
    "#!pip uninstall keras-rl2 -y"
   ],
   "outputs": [
    {
     "name": "stdout",
     "output_type": "stream",
     "text": [
      "Collecting tensorflow[and-cuda]\r\n",
      "  Obtaining dependency information for tensorflow[and-cuda] from https://files.pythonhosted.org/packages/d7/24/f7b5c130975303efa4a91341e294fd784b94910c2a4c0f0f0561e5fc7405/tensorflow-2.17.0-cp312-cp312-manylinux_2_17_x86_64.manylinux2014_x86_64.whl.metadata\r\n",
      "  Using cached tensorflow-2.17.0-cp312-cp312-manylinux_2_17_x86_64.manylinux2014_x86_64.whl.metadata (4.2 kB)\r\n",
      "Requirement already satisfied: absl-py>=1.0.0 in /home/loz/Documents/GitHub/MSc-Project/venv/lib/python3.12/site-packages (from tensorflow[and-cuda]) (2.1.0)\r\n",
      "Requirement already satisfied: astunparse>=1.6.0 in /home/loz/Documents/GitHub/MSc-Project/venv/lib/python3.12/site-packages (from tensorflow[and-cuda]) (1.6.3)\r\n",
      "Requirement already satisfied: flatbuffers>=24.3.25 in /home/loz/Documents/GitHub/MSc-Project/venv/lib/python3.12/site-packages (from tensorflow[and-cuda]) (24.3.25)\r\n",
      "Requirement already satisfied: gast!=0.5.0,!=0.5.1,!=0.5.2,>=0.2.1 in /home/loz/Documents/GitHub/MSc-Project/venv/lib/python3.12/site-packages (from tensorflow[and-cuda]) (0.6.0)\r\n",
      "Requirement already satisfied: google-pasta>=0.1.1 in /home/loz/Documents/GitHub/MSc-Project/venv/lib/python3.12/site-packages (from tensorflow[and-cuda]) (0.2.0)\r\n",
      "Requirement already satisfied: h5py>=3.10.0 in /home/loz/Documents/GitHub/MSc-Project/venv/lib/python3.12/site-packages (from tensorflow[and-cuda]) (3.11.0)\r\n",
      "Requirement already satisfied: libclang>=13.0.0 in /home/loz/Documents/GitHub/MSc-Project/venv/lib/python3.12/site-packages (from tensorflow[and-cuda]) (18.1.1)\r\n",
      "Requirement already satisfied: ml-dtypes<0.5.0,>=0.3.1 in /home/loz/Documents/GitHub/MSc-Project/venv/lib/python3.12/site-packages (from tensorflow[and-cuda]) (0.4.1)\r\n",
      "Requirement already satisfied: opt-einsum>=2.3.2 in /home/loz/Documents/GitHub/MSc-Project/venv/lib/python3.12/site-packages (from tensorflow[and-cuda]) (3.3.0)\r\n",
      "Requirement already satisfied: packaging in /home/loz/Documents/GitHub/MSc-Project/venv/lib/python3.12/site-packages (from tensorflow[and-cuda]) (24.1)\r\n",
      "Requirement already satisfied: protobuf!=4.21.0,!=4.21.1,!=4.21.2,!=4.21.3,!=4.21.4,!=4.21.5,<5.0.0dev,>=3.20.3 in /home/loz/Documents/GitHub/MSc-Project/venv/lib/python3.12/site-packages (from tensorflow[and-cuda]) (4.25.4)\r\n",
      "Requirement already satisfied: requests<3,>=2.21.0 in /home/loz/Documents/GitHub/MSc-Project/venv/lib/python3.12/site-packages (from tensorflow[and-cuda]) (2.32.3)\r\n",
      "Requirement already satisfied: setuptools in /home/loz/Documents/GitHub/MSc-Project/venv/lib/python3.12/site-packages (from tensorflow[and-cuda]) (74.1.2)\r\n",
      "Requirement already satisfied: six>=1.12.0 in /home/loz/Documents/GitHub/MSc-Project/venv/lib/python3.12/site-packages (from tensorflow[and-cuda]) (1.16.0)\r\n",
      "Requirement already satisfied: termcolor>=1.1.0 in /home/loz/Documents/GitHub/MSc-Project/venv/lib/python3.12/site-packages (from tensorflow[and-cuda]) (2.4.0)\r\n",
      "Requirement already satisfied: typing-extensions>=3.6.6 in /home/loz/Documents/GitHub/MSc-Project/venv/lib/python3.12/site-packages (from tensorflow[and-cuda]) (4.12.2)\r\n",
      "Requirement already satisfied: wrapt>=1.11.0 in /home/loz/Documents/GitHub/MSc-Project/venv/lib/python3.12/site-packages (from tensorflow[and-cuda]) (1.16.0)\r\n",
      "Requirement already satisfied: grpcio<2.0,>=1.24.3 in /home/loz/Documents/GitHub/MSc-Project/venv/lib/python3.12/site-packages (from tensorflow[and-cuda]) (1.66.1)\r\n",
      "Requirement already satisfied: tensorboard<2.18,>=2.17 in /home/loz/Documents/GitHub/MSc-Project/venv/lib/python3.12/site-packages (from tensorflow[and-cuda]) (2.17.1)\r\n",
      "Requirement already satisfied: keras>=3.2.0 in /home/loz/Documents/GitHub/MSc-Project/venv/lib/python3.12/site-packages (from tensorflow[and-cuda]) (3.5.0)\r\n",
      "Requirement already satisfied: numpy<2.0.0,>=1.26.0 in /home/loz/Documents/GitHub/MSc-Project/venv/lib/python3.12/site-packages (from tensorflow[and-cuda]) (1.26.4)\r\n",
      "Requirement already satisfied: nvidia-cublas-cu12==12.3.4.1 in /home/loz/Documents/GitHub/MSc-Project/venv/lib/python3.12/site-packages (from tensorflow[and-cuda]) (12.3.4.1)\r\n",
      "Requirement already satisfied: nvidia-cuda-cupti-cu12==12.3.101 in /home/loz/Documents/GitHub/MSc-Project/venv/lib/python3.12/site-packages (from tensorflow[and-cuda]) (12.3.101)\r\n",
      "Requirement already satisfied: nvidia-cuda-nvcc-cu12==12.3.107 in /home/loz/Documents/GitHub/MSc-Project/venv/lib/python3.12/site-packages (from tensorflow[and-cuda]) (12.3.107)\r\n",
      "Requirement already satisfied: nvidia-cuda-nvrtc-cu12==12.3.107 in /home/loz/Documents/GitHub/MSc-Project/venv/lib/python3.12/site-packages (from tensorflow[and-cuda]) (12.3.107)\r\n",
      "Requirement already satisfied: nvidia-cuda-runtime-cu12==12.3.101 in /home/loz/Documents/GitHub/MSc-Project/venv/lib/python3.12/site-packages (from tensorflow[and-cuda]) (12.3.101)\r\n",
      "Requirement already satisfied: nvidia-cudnn-cu12==8.9.7.29 in /home/loz/Documents/GitHub/MSc-Project/venv/lib/python3.12/site-packages (from tensorflow[and-cuda]) (8.9.7.29)\r\n",
      "Requirement already satisfied: nvidia-cufft-cu12==11.0.12.1 in /home/loz/Documents/GitHub/MSc-Project/venv/lib/python3.12/site-packages (from tensorflow[and-cuda]) (11.0.12.1)\r\n",
      "Requirement already satisfied: nvidia-curand-cu12==10.3.4.107 in /home/loz/Documents/GitHub/MSc-Project/venv/lib/python3.12/site-packages (from tensorflow[and-cuda]) (10.3.4.107)\r\n",
      "Requirement already satisfied: nvidia-cusolver-cu12==11.5.4.101 in /home/loz/Documents/GitHub/MSc-Project/venv/lib/python3.12/site-packages (from tensorflow[and-cuda]) (11.5.4.101)\r\n",
      "Requirement already satisfied: nvidia-cusparse-cu12==12.2.0.103 in /home/loz/Documents/GitHub/MSc-Project/venv/lib/python3.12/site-packages (from tensorflow[and-cuda]) (12.2.0.103)\r\n",
      "Requirement already satisfied: nvidia-nccl-cu12==2.19.3 in /home/loz/Documents/GitHub/MSc-Project/venv/lib/python3.12/site-packages (from tensorflow[and-cuda]) (2.19.3)\r\n",
      "Requirement already satisfied: nvidia-nvjitlink-cu12==12.3.101 in /home/loz/Documents/GitHub/MSc-Project/venv/lib/python3.12/site-packages (from tensorflow[and-cuda]) (12.3.101)\r\n",
      "Requirement already satisfied: wheel<1.0,>=0.23.0 in /home/loz/Documents/GitHub/MSc-Project/venv/lib/python3.12/site-packages (from astunparse>=1.6.0->tensorflow[and-cuda]) (0.44.0)\r\n",
      "Requirement already satisfied: rich in /home/loz/Documents/GitHub/MSc-Project/venv/lib/python3.12/site-packages (from keras>=3.2.0->tensorflow[and-cuda]) (13.8.1)\r\n",
      "Requirement already satisfied: namex in /home/loz/Documents/GitHub/MSc-Project/venv/lib/python3.12/site-packages (from keras>=3.2.0->tensorflow[and-cuda]) (0.0.8)\r\n",
      "Requirement already satisfied: optree in /home/loz/Documents/GitHub/MSc-Project/venv/lib/python3.12/site-packages (from keras>=3.2.0->tensorflow[and-cuda]) (0.12.1)\r\n",
      "Requirement already satisfied: charset-normalizer<4,>=2 in /home/loz/Documents/GitHub/MSc-Project/venv/lib/python3.12/site-packages (from requests<3,>=2.21.0->tensorflow[and-cuda]) (3.3.2)\r\n",
      "Requirement already satisfied: idna<4,>=2.5 in /home/loz/Documents/GitHub/MSc-Project/venv/lib/python3.12/site-packages (from requests<3,>=2.21.0->tensorflow[and-cuda]) (3.9)\r\n",
      "Requirement already satisfied: urllib3<3,>=1.21.1 in /home/loz/Documents/GitHub/MSc-Project/venv/lib/python3.12/site-packages (from requests<3,>=2.21.0->tensorflow[and-cuda]) (2.2.3)\r\n",
      "Requirement already satisfied: certifi>=2017.4.17 in /home/loz/Documents/GitHub/MSc-Project/venv/lib/python3.12/site-packages (from requests<3,>=2.21.0->tensorflow[and-cuda]) (2024.8.30)\r\n",
      "Requirement already satisfied: markdown>=2.6.8 in /home/loz/Documents/GitHub/MSc-Project/venv/lib/python3.12/site-packages (from tensorboard<2.18,>=2.17->tensorflow[and-cuda]) (3.7)\r\n",
      "Requirement already satisfied: tensorboard-data-server<0.8.0,>=0.7.0 in /home/loz/Documents/GitHub/MSc-Project/venv/lib/python3.12/site-packages (from tensorboard<2.18,>=2.17->tensorflow[and-cuda]) (0.7.2)\r\n",
      "Requirement already satisfied: werkzeug>=1.0.1 in /home/loz/Documents/GitHub/MSc-Project/venv/lib/python3.12/site-packages (from tensorboard<2.18,>=2.17->tensorflow[and-cuda]) (3.0.4)\r\n",
      "Requirement already satisfied: MarkupSafe>=2.1.1 in /home/loz/Documents/GitHub/MSc-Project/venv/lib/python3.12/site-packages (from werkzeug>=1.0.1->tensorboard<2.18,>=2.17->tensorflow[and-cuda]) (2.1.5)\r\n",
      "Requirement already satisfied: markdown-it-py>=2.2.0 in /home/loz/Documents/GitHub/MSc-Project/venv/lib/python3.12/site-packages (from rich->keras>=3.2.0->tensorflow[and-cuda]) (3.0.0)\r\n",
      "Requirement already satisfied: pygments<3.0.0,>=2.13.0 in /home/loz/Documents/GitHub/MSc-Project/venv/lib/python3.12/site-packages (from rich->keras>=3.2.0->tensorflow[and-cuda]) (2.18.0)\r\n",
      "Requirement already satisfied: mdurl~=0.1 in /home/loz/Documents/GitHub/MSc-Project/venv/lib/python3.12/site-packages (from markdown-it-py>=2.2.0->rich->keras>=3.2.0->tensorflow[and-cuda]) (0.1.2)\r\n",
      "Using cached tensorflow-2.17.0-cp312-cp312-manylinux_2_17_x86_64.manylinux2014_x86_64.whl (601.4 MB)\r\n",
      "Installing collected packages: tensorflow\r\n",
      "Successfully installed tensorflow-2.17.0\r\n",
      "\r\n",
      "\u001B[1m[\u001B[0m\u001B[34;49mnotice\u001B[0m\u001B[1;39;49m]\u001B[0m\u001B[39;49m A new release of pip is available: \u001B[0m\u001B[31;49m23.2.1\u001B[0m\u001B[39;49m -> \u001B[0m\u001B[32;49m24.2\u001B[0m\r\n",
      "\u001B[1m[\u001B[0m\u001B[34;49mnotice\u001B[0m\u001B[1;39;49m]\u001B[0m\u001B[39;49m To update, run: \u001B[0m\u001B[32;49mpip install --upgrade pip\u001B[0m\r\n"
     ]
    }
   ],
   "execution_count": 1
  },
  {
   "metadata": {
    "ExecuteTime": {
     "end_time": "2024-09-22T17:22:57.567379Z",
     "start_time": "2024-09-22T17:22:57.564682Z"
    }
   },
   "cell_type": "code",
   "source": "#keras.__version__",
   "id": "283148854c4c3167",
   "outputs": [],
   "execution_count": 5
  },
  {
   "metadata": {
    "ExecuteTime": {
     "end_time": "2024-09-22T16:32:40.543246Z",
     "start_time": "2024-09-22T16:32:40.541021Z"
    }
   },
   "cell_type": "code",
   "source": "print(tf.sysconfig.get_build_info()[\"cudnn_version\"])",
   "id": "b60b6517ee015268",
   "outputs": [
    {
     "name": "stdout",
     "output_type": "stream",
     "text": [
      "8\n"
     ]
    }
   ],
   "execution_count": 49
  },
  {
   "metadata": {
    "ExecuteTime": {
     "end_time": "2024-09-22T14:43:28.220802Z",
     "start_time": "2024-09-22T14:43:28.218462Z"
    }
   },
   "cell_type": "code",
   "outputs": [],
   "execution_count": 8,
   "source": [
    "from gym import Env\n",
    "from gym.spaces import Discrete, Box\n",
    "import os"
   ],
   "id": "1316362bc209c2d6"
  },
  {
   "metadata": {
    "ExecuteTime": {
     "end_time": "2024-09-22T14:43:51.139349Z",
     "start_time": "2024-09-22T14:43:51.137333Z"
    }
   },
   "cell_type": "code",
   "outputs": [],
   "execution_count": 11,
   "source": [
    "# set tf warning level to 2 ....shows errors but not warnings\n",
    "os.environ['TF_CPP_MIN_LOG_LEVEL'] = '1'\n",
    "#tf.__version__"
   ],
   "id": "72861eebc814b36f"
  },
  {
   "metadata": {
    "collapsed": false,
    "ExecuteTime": {
     "end_time": "2024-09-22T17:22:48.819261Z",
     "start_time": "2024-09-22T17:22:47.412277Z"
    }
   },
   "cell_type": "code",
   "source": [
    "\n",
    "import tensorflow as tf\n",
    "from tensorflow import keras\n",
    "from tensorflow.keras.models import load_model\n",
    "\n",
    "import numpy as np\n",
    "import random\n"
   ],
   "id": "89483b04081c5e6e",
   "outputs": [
    {
     "name": "stderr",
     "output_type": "stream",
     "text": [
      "2024-09-22 18:22:47.513611: I tensorflow/core/util/port.cc:153] oneDNN custom operations are on. You may see slightly different numerical results due to floating-point round-off errors from different computation orders. To turn them off, set the environment variable `TF_ENABLE_ONEDNN_OPTS=0`.\n",
      "2024-09-22 18:22:47.523703: E external/local_xla/xla/stream_executor/cuda/cuda_fft.cc:485] Unable to register cuFFT factory: Attempting to register factory for plugin cuFFT when one has already been registered\n",
      "2024-09-22 18:22:47.533076: E external/local_xla/xla/stream_executor/cuda/cuda_dnn.cc:8454] Unable to register cuDNN factory: Attempting to register factory for plugin cuDNN when one has already been registered\n",
      "2024-09-22 18:22:47.535819: E external/local_xla/xla/stream_executor/cuda/cuda_blas.cc:1452] Unable to register cuBLAS factory: Attempting to register factory for plugin cuBLAS when one has already been registered\n",
      "2024-09-22 18:22:47.542919: I tensorflow/core/platform/cpu_feature_guard.cc:210] This TensorFlow binary is optimized to use available CPU instructions in performance-critical operations.\n",
      "To enable the following instructions: AVX2 AVX_VNNI FMA, in other operations, rebuild TensorFlow with the appropriate compiler flags.\n",
      "2024-09-22 18:22:48.174539: W tensorflow/compiler/tf2tensorrt/utils/py_utils.cc:38] TF-TRT Warning: Could not find TensorRT\n"
     ]
    }
   ],
   "execution_count": 3
  },
  {
   "metadata": {
    "collapsed": false,
    "ExecuteTime": {
     "end_time": "2024-09-22T14:32:46.846138Z",
     "start_time": "2024-09-22T14:32:46.841976Z"
    }
   },
   "cell_type": "code",
   "outputs": [
    {
     "name": "stdout",
     "output_type": "stream",
     "text": [
      "CUDA is available\n",
      "Device: PhysicalDevice(name='/physical_device:GPU:0', device_type='GPU')\n"
     ]
    }
   ],
   "execution_count": 19,
   "source": [
    "# Check if TensorFlow is built with CUDA support\n",
    "if tf.config.list_physical_devices('GPU'):\n",
    "    print(\"CUDA is available\")\n",
    "    print(f\"Device: {tf.config.list_physical_devices('GPU')[0]}\")\n",
    "else:\n",
    "    print(\"CUDA is not available\")"
   ],
   "id": "66dae882324f6dbe"
  },
  {
   "metadata": {},
   "cell_type": "markdown",
   "source": "# Create Environment",
   "id": "8b45b612b25fa240"
  },
  {
   "metadata": {
    "ExecuteTime": {
     "end_time": "2024-09-22T15:21:07.083721Z",
     "start_time": "2024-09-22T15:21:07.080031Z"
    }
   },
   "cell_type": "code",
   "outputs": [],
   "execution_count": 15,
   "source": [
    "# inherit from gym env\n",
    "class SwatEnv(Env):\n",
    "    def __init__(self):\n",
    "        # 0 decrease, 1 hold, 2 increase\n",
    "        self.action_space = Discrete(3)\n",
    "        # temperature array\n",
    "        self.observation_space = Box(low=np.array([0]), high=np.array([100]))\n",
    "        # set start temp\n",
    "        self.state = 38 + random.randint(-3, 3)\n",
    "        # set shower length\n",
    "        self.shower_length = 60\n",
    "        \n",
    "    def step(self, action):\n",
    "        # apply action\n",
    "        # subtract 1 fro action so 1 - 1 = 0 no change\n",
    "        self.state = self.state + action -1\n",
    "        # reduce shower length\n",
    "        self.shower_length = self.shower_length - 1\n",
    "        \n",
    "        # calculate reward\n",
    "        if self.state >= 37 and self.state <= 39:\n",
    "            reward = 1\n",
    "        else:\n",
    "            reward = -1\n",
    "            \n",
    "        # Check if shower is done\n",
    "        if self.shower_length <= 0:\n",
    "            done = True\n",
    "        else:\n",
    "            done = False\n",
    "            \n",
    "        # apply temp noise\n",
    "        self.state += random.randint(-1,1)\n",
    "        # place holder for info\n",
    "        info = {}\n",
    "        \n",
    "        return self.state, reward, done, info\n",
    "        \n",
    "    def render(self):\n",
    "        # for vis ie pygame\n",
    "        pass\n",
    "    \n",
    "    def reset(self):\n",
    "        # reset temp\n",
    "        self.state = 38 + random.randint(-3, 3)\n",
    "        # reset shower time\n",
    "        self.shower_length = 60\n",
    "        return self.state\n",
    "        \n",
    "    "
   ],
   "id": "58fbf11aef7e38e0"
  },
  {
   "metadata": {
    "ExecuteTime": {
     "end_time": "2024-09-22T15:22:04.591584Z",
     "start_time": "2024-09-22T15:22:04.587168Z"
    }
   },
   "cell_type": "code",
   "outputs": [
    {
     "name": "stderr",
     "output_type": "stream",
     "text": [
      "/home/loz/Documents/GitHub/MSc-Project/venv/lib/python3.12/site-packages/gym/spaces/box.py:127: UserWarning: \u001B[33mWARN: Box bound precision lowered by casting to float32\u001B[0m\n",
      "  logger.warn(f\"Box bound precision lowered by casting to {self.dtype}\")\n"
     ]
    }
   ],
   "execution_count": 16,
   "source": "env = SwatEnv()",
   "id": "97f2c748134a82a7"
  },
  {
   "metadata": {
    "ExecuteTime": {
     "end_time": "2024-09-22T15:26:14.677861Z",
     "start_time": "2024-09-22T15:26:14.673525Z"
    }
   },
   "cell_type": "code",
   "outputs": [
    {
     "data": {
      "text/plain": [
       "2"
      ]
     },
     "execution_count": 22,
     "metadata": {},
     "output_type": "execute_result"
    }
   ],
   "execution_count": 22,
   "source": [
    "# sample from action space\n",
    "env.action_space.sample()"
   ],
   "id": "4105b29d17c4c342"
  },
  {
   "metadata": {
    "ExecuteTime": {
     "end_time": "2024-09-22T15:25:09.656405Z",
     "start_time": "2024-09-22T15:25:09.651833Z"
    }
   },
   "cell_type": "code",
   "outputs": [
    {
     "data": {
      "text/plain": [
       "array([25.64734], dtype=float32)"
      ]
     },
     "execution_count": 18,
     "metadata": {},
     "output_type": "execute_result"
    }
   ],
   "execution_count": 18,
   "source": "env.observation_space.sample()",
   "id": "9d5141d7337386af"
  },
  {
   "metadata": {
    "ExecuteTime": {
     "end_time": "2024-09-22T15:32:02.793173Z",
     "start_time": "2024-09-22T15:32:02.786612Z"
    }
   },
   "cell_type": "code",
   "outputs": [
    {
     "name": "stdout",
     "output_type": "stream",
     "text": [
      "Episode:1 Score:2\n",
      "Episode:2 Score:-42\n",
      "Episode:3 Score:-52\n",
      "Episode:4 Score:-32\n",
      "Episode:5 Score:-40\n",
      "Episode:6 Score:-60\n",
      "Episode:7 Score:-42\n",
      "Episode:8 Score:-60\n",
      "Episode:9 Score:-26\n",
      "Episode:10 Score:-58\n"
     ]
    }
   ],
   "execution_count": 25,
   "source": [
    "episodes = 10\n",
    "for episode in range(1, episodes+1):\n",
    "    state = env.reset()\n",
    "    done = False\n",
    "    score = 0 \n",
    "    \n",
    "    while not done:\n",
    "        #env.render()\n",
    "        action = env.action_space.sample()\n",
    "        n_state, reward, done, info = env.step(action)\n",
    "        score+=reward\n",
    "    print('Episode:{} Score:{}'.format(episode, score))"
   ],
   "id": "ebac901508fda9c9"
  },
  {
   "metadata": {},
   "cell_type": "markdown",
   "source": "# Create Deep Learning Model#",
   "id": "8cbe185c6d90d1ec"
  },
  {
   "metadata": {
    "ExecuteTime": {
     "end_time": "2024-09-22T15:33:52.750959Z",
     "start_time": "2024-09-22T15:33:52.746370Z"
    }
   },
   "cell_type": "code",
   "source": [
    "from tensorflow.keras.models import Sequential\n",
    "from tensorflow.keras.layers import Dense, Flatten\n",
    "from tensorflow.keras.optimizers import Adam"
   ],
   "id": "6c984dd207cab06e",
   "outputs": [],
   "execution_count": 26
  },
  {
   "metadata": {
    "ExecuteTime": {
     "end_time": "2024-09-22T15:34:07.792897Z",
     "start_time": "2024-09-22T15:34:07.790600Z"
    }
   },
   "cell_type": "code",
   "source": [
    "states = env.observation_space.shape\n",
    "actions = env.action_space.n"
   ],
   "id": "803ec7a6019f3243",
   "outputs": [],
   "execution_count": 27
  },
  {
   "metadata": {
    "ExecuteTime": {
     "end_time": "2024-09-22T15:34:19.307863Z",
     "start_time": "2024-09-22T15:34:19.305093Z"
    }
   },
   "cell_type": "code",
   "source": "actions",
   "id": "a30d0d67fec2b5bf",
   "outputs": [
    {
     "data": {
      "text/plain": [
       "3"
      ]
     },
     "execution_count": 28,
     "metadata": {},
     "output_type": "execute_result"
    }
   ],
   "execution_count": 28
  },
  {
   "metadata": {
    "ExecuteTime": {
     "end_time": "2024-09-22T15:36:06.664819Z",
     "start_time": "2024-09-22T15:36:06.661848Z"
    }
   },
   "cell_type": "code",
   "source": [
    "def build_model(states, actions):\n",
    "    model = Sequential()    \n",
    "    model.add(Dense(24, activation='relu', input_shape=states))\n",
    "    model.add(Dense(24, activation='relu'))\n",
    "    model.add(Dense(actions, activation='linear'))\n",
    "    return model"
   ],
   "id": "ed2f0a9118190377",
   "outputs": [],
   "execution_count": 32
  },
  {
   "metadata": {
    "ExecuteTime": {
     "end_time": "2024-09-22T15:37:08.665258Z",
     "start_time": "2024-09-22T15:37:08.662406Z"
    }
   },
   "cell_type": "code",
   "source": "#del model",
   "id": "69758ce59d7ad830",
   "outputs": [],
   "execution_count": 36
  },
  {
   "metadata": {
    "ExecuteTime": {
     "end_time": "2024-09-22T15:37:09.351113Z",
     "start_time": "2024-09-22T15:37:09.297637Z"
    }
   },
   "cell_type": "code",
   "source": "model = build_model(states, actions)",
   "id": "6ba60cf6161d3e4c",
   "outputs": [],
   "execution_count": 37
  },
  {
   "metadata": {
    "ExecuteTime": {
     "end_time": "2024-09-22T15:37:20.308755Z",
     "start_time": "2024-09-22T15:37:20.296698Z"
    }
   },
   "cell_type": "code",
   "source": "model.summary()",
   "id": "83d8647280b71a53",
   "outputs": [
    {
     "data": {
      "text/plain": [
       "\u001B[1mModel: \"sequential_2\"\u001B[0m\n"
      ],
      "text/html": [
       "<pre style=\"white-space:pre;overflow-x:auto;line-height:normal;font-family:Menlo,'DejaVu Sans Mono',consolas,'Courier New',monospace\"><span style=\"font-weight: bold\">Model: \"sequential_2\"</span>\n",
       "</pre>\n"
      ]
     },
     "metadata": {},
     "output_type": "display_data"
    },
    {
     "data": {
      "text/plain": [
       "┏━━━━━━━━━━━━━━━━━━━━━━━━━━━━━━━━━┳━━━━━━━━━━━━━━━━━━━━━━━━┳━━━━━━━━━━━━━━━┓\n",
       "┃\u001B[1m \u001B[0m\u001B[1mLayer (type)                   \u001B[0m\u001B[1m \u001B[0m┃\u001B[1m \u001B[0m\u001B[1mOutput Shape          \u001B[0m\u001B[1m \u001B[0m┃\u001B[1m \u001B[0m\u001B[1m      Param #\u001B[0m\u001B[1m \u001B[0m┃\n",
       "┡━━━━━━━━━━━━━━━━━━━━━━━━━━━━━━━━━╇━━━━━━━━━━━━━━━━━━━━━━━━╇━━━━━━━━━━━━━━━┩\n",
       "│ dense_6 (\u001B[38;5;33mDense\u001B[0m)                 │ (\u001B[38;5;45mNone\u001B[0m, \u001B[38;5;34m24\u001B[0m)             │            \u001B[38;5;34m48\u001B[0m │\n",
       "├─────────────────────────────────┼────────────────────────┼───────────────┤\n",
       "│ dense_7 (\u001B[38;5;33mDense\u001B[0m)                 │ (\u001B[38;5;45mNone\u001B[0m, \u001B[38;5;34m24\u001B[0m)             │           \u001B[38;5;34m600\u001B[0m │\n",
       "├─────────────────────────────────┼────────────────────────┼───────────────┤\n",
       "│ dense_8 (\u001B[38;5;33mDense\u001B[0m)                 │ (\u001B[38;5;45mNone\u001B[0m, \u001B[38;5;34m3\u001B[0m)              │            \u001B[38;5;34m75\u001B[0m │\n",
       "└─────────────────────────────────┴────────────────────────┴───────────────┘\n"
      ],
      "text/html": [
       "<pre style=\"white-space:pre;overflow-x:auto;line-height:normal;font-family:Menlo,'DejaVu Sans Mono',consolas,'Courier New',monospace\">┏━━━━━━━━━━━━━━━━━━━━━━━━━━━━━━━━━┳━━━━━━━━━━━━━━━━━━━━━━━━┳━━━━━━━━━━━━━━━┓\n",
       "┃<span style=\"font-weight: bold\"> Layer (type)                    </span>┃<span style=\"font-weight: bold\"> Output Shape           </span>┃<span style=\"font-weight: bold\">       Param # </span>┃\n",
       "┡━━━━━━━━━━━━━━━━━━━━━━━━━━━━━━━━━╇━━━━━━━━━━━━━━━━━━━━━━━━╇━━━━━━━━━━━━━━━┩\n",
       "│ dense_6 (<span style=\"color: #0087ff; text-decoration-color: #0087ff\">Dense</span>)                 │ (<span style=\"color: #00d7ff; text-decoration-color: #00d7ff\">None</span>, <span style=\"color: #00af00; text-decoration-color: #00af00\">24</span>)             │            <span style=\"color: #00af00; text-decoration-color: #00af00\">48</span> │\n",
       "├─────────────────────────────────┼────────────────────────┼───────────────┤\n",
       "│ dense_7 (<span style=\"color: #0087ff; text-decoration-color: #0087ff\">Dense</span>)                 │ (<span style=\"color: #00d7ff; text-decoration-color: #00d7ff\">None</span>, <span style=\"color: #00af00; text-decoration-color: #00af00\">24</span>)             │           <span style=\"color: #00af00; text-decoration-color: #00af00\">600</span> │\n",
       "├─────────────────────────────────┼────────────────────────┼───────────────┤\n",
       "│ dense_8 (<span style=\"color: #0087ff; text-decoration-color: #0087ff\">Dense</span>)                 │ (<span style=\"color: #00d7ff; text-decoration-color: #00d7ff\">None</span>, <span style=\"color: #00af00; text-decoration-color: #00af00\">3</span>)              │            <span style=\"color: #00af00; text-decoration-color: #00af00\">75</span> │\n",
       "└─────────────────────────────────┴────────────────────────┴───────────────┘\n",
       "</pre>\n"
      ]
     },
     "metadata": {},
     "output_type": "display_data"
    },
    {
     "data": {
      "text/plain": [
       "\u001B[1m Total params: \u001B[0m\u001B[38;5;34m723\u001B[0m (2.82 KB)\n"
      ],
      "text/html": [
       "<pre style=\"white-space:pre;overflow-x:auto;line-height:normal;font-family:Menlo,'DejaVu Sans Mono',consolas,'Courier New',monospace\"><span style=\"font-weight: bold\"> Total params: </span><span style=\"color: #00af00; text-decoration-color: #00af00\">723</span> (2.82 KB)\n",
       "</pre>\n"
      ]
     },
     "metadata": {},
     "output_type": "display_data"
    },
    {
     "data": {
      "text/plain": [
       "\u001B[1m Trainable params: \u001B[0m\u001B[38;5;34m723\u001B[0m (2.82 KB)\n"
      ],
      "text/html": [
       "<pre style=\"white-space:pre;overflow-x:auto;line-height:normal;font-family:Menlo,'DejaVu Sans Mono',consolas,'Courier New',monospace\"><span style=\"font-weight: bold\"> Trainable params: </span><span style=\"color: #00af00; text-decoration-color: #00af00\">723</span> (2.82 KB)\n",
       "</pre>\n"
      ]
     },
     "metadata": {},
     "output_type": "display_data"
    },
    {
     "data": {
      "text/plain": [
       "\u001B[1m Non-trainable params: \u001B[0m\u001B[38;5;34m0\u001B[0m (0.00 B)\n"
      ],
      "text/html": [
       "<pre style=\"white-space:pre;overflow-x:auto;line-height:normal;font-family:Menlo,'DejaVu Sans Mono',consolas,'Courier New',monospace\"><span style=\"font-weight: bold\"> Non-trainable params: </span><span style=\"color: #00af00; text-decoration-color: #00af00\">0</span> (0.00 B)\n",
       "</pre>\n"
      ]
     },
     "metadata": {},
     "output_type": "display_data"
    }
   ],
   "execution_count": 38
  },
  {
   "metadata": {},
   "cell_type": "markdown",
   "source": "# Build Agent wit Keras-RL",
   "id": "97d8cab3cd58809f"
  },
  {
   "metadata": {
    "ExecuteTime": {
     "end_time": "2024-09-22T15:56:06.242426Z",
     "start_time": "2024-09-22T15:56:06.237707Z"
    }
   },
   "cell_type": "code",
   "source": "#! pip install keras-rl2",
   "id": "6751cc71c6fe3c80",
   "outputs": [],
   "execution_count": 40
  },
  {
   "metadata": {
    "ExecuteTime": {
     "end_time": "2024-09-22T15:59:25.626277Z",
     "start_time": "2024-09-22T15:59:24.171082Z"
    }
   },
   "cell_type": "code",
   "source": "pip uninstall tensorflow -y",
   "id": "b5f5609ed6e44f8c",
   "outputs": [
    {
     "name": "stdout",
     "output_type": "stream",
     "text": [
      "Found existing installation: tensorflow 2.17.0\r\n",
      "Uninstalling tensorflow-2.17.0:\r\n",
      "  Successfully uninstalled tensorflow-2.17.0\r\n",
      "Note: you may need to restart the kernel to use updated packages.\n"
     ]
    }
   ],
   "execution_count": 43
  },
  {
   "metadata": {
    "ExecuteTime": {
     "end_time": "2024-09-22T16:01:27.889658Z",
     "start_time": "2024-09-22T16:01:26.997543Z"
    }
   },
   "cell_type": "code",
   "source": "!pip install tensorflow[and-cuda]==2.15",
   "id": "b32630d9b447cc6f",
   "outputs": [
    {
     "name": "stdout",
     "output_type": "stream",
     "text": [
      "\u001B[31mERROR: Could not find a version that satisfies the requirement tensorflow[and-cuda]==2.15 (from versions: 2.16.0rc0, 2.16.1, 2.16.2, 2.17.0rc0, 2.17.0rc1, 2.17.0)\u001B[0m\u001B[31m\r\n",
      "\u001B[0m\u001B[31mERROR: No matching distribution found for tensorflow[and-cuda]==2.15\u001B[0m\u001B[31m\r\n",
      "\u001B[0m\r\n",
      "\u001B[1m[\u001B[0m\u001B[34;49mnotice\u001B[0m\u001B[1;39;49m]\u001B[0m\u001B[39;49m A new release of pip is available: \u001B[0m\u001B[31;49m23.2.1\u001B[0m\u001B[39;49m -> \u001B[0m\u001B[32;49m24.2\u001B[0m\r\n",
      "\u001B[1m[\u001B[0m\u001B[34;49mnotice\u001B[0m\u001B[1;39;49m]\u001B[0m\u001B[39;49m To update, run: \u001B[0m\u001B[32;49mpip install --upgrade pip\u001B[0m\r\n"
     ]
    }
   ],
   "execution_count": 45
  },
  {
   "metadata": {},
   "cell_type": "markdown",
   "source": "",
   "id": "d2db7d307107de95"
  },
  {
   "metadata": {
    "ExecuteTime": {
     "end_time": "2024-09-22T15:56:13.936060Z",
     "start_time": "2024-09-22T15:56:13.697211Z"
    }
   },
   "cell_type": "code",
   "source": [
    "from rl.agents import DQNAgent\n",
    "from rl.policy import BoltzmannQPolicy\n",
    "from rl.memory import SequentialMemory"
   ],
   "id": "36752bcb3387eb28",
   "outputs": [
    {
     "ename": "ImportError",
     "evalue": "cannot import name 'model_from_config' from 'tensorflow.keras.models' (/home/loz/Documents/GitHub/MSc-Project/venv/lib/python3.12/site-packages/keras/_tf_keras/keras/models/__init__.py)",
     "output_type": "error",
     "traceback": [
      "\u001B[0;31m---------------------------------------------------------------------------\u001B[0m",
      "\u001B[0;31mImportError\u001B[0m                               Traceback (most recent call last)",
      "Cell \u001B[0;32mIn[41], line 1\u001B[0m\n\u001B[0;32m----> 1\u001B[0m \u001B[38;5;28;01mfrom\u001B[39;00m \u001B[38;5;21;01mrl\u001B[39;00m\u001B[38;5;21;01m.\u001B[39;00m\u001B[38;5;21;01magents\u001B[39;00m \u001B[38;5;28;01mimport\u001B[39;00m DQNAgent\n\u001B[1;32m      2\u001B[0m \u001B[38;5;28;01mfrom\u001B[39;00m \u001B[38;5;21;01mrl\u001B[39;00m\u001B[38;5;21;01m.\u001B[39;00m\u001B[38;5;21;01mpolicy\u001B[39;00m \u001B[38;5;28;01mimport\u001B[39;00m BoltzmannQPolicy\n\u001B[1;32m      3\u001B[0m \u001B[38;5;28;01mfrom\u001B[39;00m \u001B[38;5;21;01mrl\u001B[39;00m\u001B[38;5;21;01m.\u001B[39;00m\u001B[38;5;21;01mmemory\u001B[39;00m \u001B[38;5;28;01mimport\u001B[39;00m SequentialMemory\n",
      "File \u001B[0;32m~/Documents/GitHub/MSc-Project/venv/lib/python3.12/site-packages/rl/agents/__init__.py:1\u001B[0m\n\u001B[0;32m----> 1\u001B[0m \u001B[38;5;28;01mfrom\u001B[39;00m \u001B[38;5;21;01m.\u001B[39;00m\u001B[38;5;21;01mdqn\u001B[39;00m \u001B[38;5;28;01mimport\u001B[39;00m DQNAgent, NAFAgent, ContinuousDQNAgent\n\u001B[1;32m      2\u001B[0m \u001B[38;5;28;01mfrom\u001B[39;00m \u001B[38;5;21;01m.\u001B[39;00m\u001B[38;5;21;01mddpg\u001B[39;00m \u001B[38;5;28;01mimport\u001B[39;00m DDPGAgent\n\u001B[1;32m      3\u001B[0m \u001B[38;5;28;01mfrom\u001B[39;00m \u001B[38;5;21;01m.\u001B[39;00m\u001B[38;5;21;01mcem\u001B[39;00m \u001B[38;5;28;01mimport\u001B[39;00m CEMAgent\n",
      "File \u001B[0;32m~/Documents/GitHub/MSc-Project/venv/lib/python3.12/site-packages/rl/agents/dqn.py:8\u001B[0m\n\u001B[1;32m      5\u001B[0m \u001B[38;5;28;01mfrom\u001B[39;00m \u001B[38;5;21;01mtensorflow\u001B[39;00m\u001B[38;5;21;01m.\u001B[39;00m\u001B[38;5;21;01mkeras\u001B[39;00m\u001B[38;5;21;01m.\u001B[39;00m\u001B[38;5;21;01mlayers\u001B[39;00m \u001B[38;5;28;01mimport\u001B[39;00m Lambda, Input, Layer, Dense\n\u001B[1;32m      7\u001B[0m \u001B[38;5;28;01mfrom\u001B[39;00m \u001B[38;5;21;01mrl\u001B[39;00m\u001B[38;5;21;01m.\u001B[39;00m\u001B[38;5;21;01mcore\u001B[39;00m \u001B[38;5;28;01mimport\u001B[39;00m Agent\n\u001B[0;32m----> 8\u001B[0m \u001B[38;5;28;01mfrom\u001B[39;00m \u001B[38;5;21;01mrl\u001B[39;00m\u001B[38;5;21;01m.\u001B[39;00m\u001B[38;5;21;01mpolicy\u001B[39;00m \u001B[38;5;28;01mimport\u001B[39;00m EpsGreedyQPolicy, GreedyQPolicy\n\u001B[1;32m      9\u001B[0m \u001B[38;5;28;01mfrom\u001B[39;00m \u001B[38;5;21;01mrl\u001B[39;00m\u001B[38;5;21;01m.\u001B[39;00m\u001B[38;5;21;01mutil\u001B[39;00m \u001B[38;5;28;01mimport\u001B[39;00m \u001B[38;5;241m*\u001B[39m\n\u001B[1;32m     12\u001B[0m \u001B[38;5;28;01mdef\u001B[39;00m \u001B[38;5;21mmean_q\u001B[39m(y_true, y_pred):\n",
      "File \u001B[0;32m~/Documents/GitHub/MSc-Project/venv/lib/python3.12/site-packages/rl/policy.py:3\u001B[0m\n\u001B[1;32m      1\u001B[0m \u001B[38;5;28;01mimport\u001B[39;00m \u001B[38;5;21;01mnumpy\u001B[39;00m \u001B[38;5;28;01mas\u001B[39;00m \u001B[38;5;21;01mnp\u001B[39;00m\n\u001B[0;32m----> 3\u001B[0m \u001B[38;5;28;01mfrom\u001B[39;00m \u001B[38;5;21;01mrl\u001B[39;00m\u001B[38;5;21;01m.\u001B[39;00m\u001B[38;5;21;01mutil\u001B[39;00m \u001B[38;5;28;01mimport\u001B[39;00m \u001B[38;5;241m*\u001B[39m\n\u001B[1;32m      6\u001B[0m \u001B[38;5;28;01mclass\u001B[39;00m \u001B[38;5;21;01mPolicy\u001B[39;00m:\n\u001B[1;32m      7\u001B[0m \u001B[38;5;250m    \u001B[39m\u001B[38;5;124;03m\"\"\"Abstract base class for all implemented policies.\u001B[39;00m\n\u001B[1;32m      8\u001B[0m \n\u001B[1;32m      9\u001B[0m \u001B[38;5;124;03m    Each policy helps with selection of action to take on an environment.\u001B[39;00m\n\u001B[0;32m   (...)\u001B[0m\n\u001B[1;32m     17\u001B[0m \u001B[38;5;124;03m        agent (rl.core.Agent): Agent used\u001B[39;00m\n\u001B[1;32m     18\u001B[0m \u001B[38;5;124;03m    \"\"\"\u001B[39;00m\n",
      "File \u001B[0;32m~/Documents/GitHub/MSc-Project/venv/lib/python3.12/site-packages/rl/util.py:3\u001B[0m\n\u001B[1;32m      1\u001B[0m \u001B[38;5;28;01mimport\u001B[39;00m \u001B[38;5;21;01mnumpy\u001B[39;00m \u001B[38;5;28;01mas\u001B[39;00m \u001B[38;5;21;01mnp\u001B[39;00m\n\u001B[0;32m----> 3\u001B[0m \u001B[38;5;28;01mfrom\u001B[39;00m \u001B[38;5;21;01mtensorflow\u001B[39;00m\u001B[38;5;21;01m.\u001B[39;00m\u001B[38;5;21;01mkeras\u001B[39;00m\u001B[38;5;21;01m.\u001B[39;00m\u001B[38;5;21;01mmodels\u001B[39;00m \u001B[38;5;28;01mimport\u001B[39;00m model_from_config, Sequential, Model, model_from_config\n\u001B[1;32m      4\u001B[0m \u001B[38;5;28;01mimport\u001B[39;00m \u001B[38;5;21;01mtensorflow\u001B[39;00m\u001B[38;5;21;01m.\u001B[39;00m\u001B[38;5;21;01mkeras\u001B[39;00m\u001B[38;5;21;01m.\u001B[39;00m\u001B[38;5;21;01moptimizers\u001B[39;00m \u001B[38;5;28;01mas\u001B[39;00m \u001B[38;5;21;01moptimizers\u001B[39;00m\n\u001B[1;32m      5\u001B[0m \u001B[38;5;28;01mimport\u001B[39;00m \u001B[38;5;21;01mtensorflow\u001B[39;00m\u001B[38;5;21;01m.\u001B[39;00m\u001B[38;5;21;01mkeras\u001B[39;00m\u001B[38;5;21;01m.\u001B[39;00m\u001B[38;5;21;01mbackend\u001B[39;00m \u001B[38;5;28;01mas\u001B[39;00m \u001B[38;5;21;01mK\u001B[39;00m\n",
      "\u001B[0;31mImportError\u001B[0m: cannot import name 'model_from_config' from 'tensorflow.keras.models' (/home/loz/Documents/GitHub/MSc-Project/venv/lib/python3.12/site-packages/keras/_tf_keras/keras/models/__init__.py)"
     ]
    }
   ],
   "execution_count": 41
  },
  {
   "metadata": {},
   "cell_type": "code",
   "outputs": [],
   "execution_count": null,
   "source": "",
   "id": "871b899974a6293e"
  },
  {
   "metadata": {},
   "cell_type": "code",
   "outputs": [],
   "execution_count": null,
   "source": "",
   "id": "b11b02a4c37f5a1"
  },
  {
   "metadata": {},
   "cell_type": "code",
   "outputs": [],
   "execution_count": null,
   "source": "",
   "id": "55edb33778c5ff93"
  },
  {
   "metadata": {},
   "cell_type": "code",
   "outputs": [],
   "execution_count": null,
   "source": "",
   "id": "480c28428c2a347a"
  },
  {
   "metadata": {},
   "cell_type": "code",
   "outputs": [],
   "execution_count": null,
   "source": "",
   "id": "429b92f0f3a7264e"
  },
  {
   "metadata": {},
   "cell_type": "code",
   "outputs": [],
   "execution_count": null,
   "source": "",
   "id": "892f339dfb0521a2"
  },
  {
   "metadata": {},
   "cell_type": "code",
   "outputs": [],
   "execution_count": null,
   "source": "",
   "id": "d5d95c43632b1a97"
  },
  {
   "cell_type": "code",
   "source": [
    "os.getcwd()"
   ],
   "metadata": {
    "collapsed": false,
    "ExecuteTime": {
     "end_time": "2024-09-22T14:08:02.671496Z",
     "start_time": "2024-09-22T14:08:02.664423Z"
    }
   },
   "id": "f8006474c7e95115",
   "outputs": [
    {
     "data": {
      "text/plain": [
       "'/home/loz/Documents/GitHub/MSc-Project/final_code'"
      ]
     },
     "execution_count": 12,
     "metadata": {},
     "output_type": "execute_result"
    }
   ],
   "execution_count": 12
  },
  {
   "cell_type": "code",
   "source": "#os.listdir()",
   "metadata": {
    "collapsed": false,
    "ExecuteTime": {
     "end_time": "2024-09-22T14:08:06.391475Z",
     "start_time": "2024-09-22T14:08:06.387608Z"
    }
   },
   "id": "3efd9c6ae4abd830",
   "outputs": [],
   "execution_count": 13
  },
  {
   "cell_type": "code",
   "source": [
    "# get pre_trained model of SWaT\n",
    "swat_lstm = tf.keras.models.load_model('swat_lstm_100s.keras')\n"
   ],
   "metadata": {
    "collapsed": false,
    "ExecuteTime": {
     "end_time": "2024-09-22T14:08:15.152408Z",
     "start_time": "2024-09-22T14:08:14.094061Z"
    }
   },
   "id": "be505a35c8017c05",
   "outputs": [
    {
     "name": "stderr",
     "output_type": "stream",
     "text": [
      "I0000 00:00:1727014094.107138    6297 cuda_executor.cc:1015] successful NUMA node read from SysFS had negative value (-1), but there must be at least one NUMA node, so returning NUMA node zero. See more at https://github.com/torvalds/linux/blob/v6.0/Documentation/ABI/testing/sysfs-bus-pci#L344-L355\n",
      "I0000 00:00:1727014094.107642    6297 cuda_executor.cc:1015] successful NUMA node read from SysFS had negative value (-1), but there must be at least one NUMA node, so returning NUMA node zero. See more at https://github.com/torvalds/linux/blob/v6.0/Documentation/ABI/testing/sysfs-bus-pci#L344-L355\n",
      "I0000 00:00:1727014094.107869    6297 cuda_executor.cc:1015] successful NUMA node read from SysFS had negative value (-1), but there must be at least one NUMA node, so returning NUMA node zero. See more at https://github.com/torvalds/linux/blob/v6.0/Documentation/ABI/testing/sysfs-bus-pci#L344-L355\n",
      "I0000 00:00:1727014094.187711    6297 cuda_executor.cc:1015] successful NUMA node read from SysFS had negative value (-1), but there must be at least one NUMA node, so returning NUMA node zero. See more at https://github.com/torvalds/linux/blob/v6.0/Documentation/ABI/testing/sysfs-bus-pci#L344-L355\n",
      "I0000 00:00:1727014094.187842    6297 cuda_executor.cc:1015] successful NUMA node read from SysFS had negative value (-1), but there must be at least one NUMA node, so returning NUMA node zero. See more at https://github.com/torvalds/linux/blob/v6.0/Documentation/ABI/testing/sysfs-bus-pci#L344-L355\n",
      "I0000 00:00:1727014094.187917    6297 cuda_executor.cc:1015] successful NUMA node read from SysFS had negative value (-1), but there must be at least one NUMA node, so returning NUMA node zero. See more at https://github.com/torvalds/linux/blob/v6.0/Documentation/ABI/testing/sysfs-bus-pci#L344-L355\n",
      "2024-09-22 15:08:14.188190: I tensorflow/core/common_runtime/gpu/gpu_device.cc:2021] Created device /job:localhost/replica:0/task:0/device:GPU:0 with 6341 MB memory:  -> device: 0, name: NVIDIA RTX A2000 8GB Laptop GPU, pci bus id: 0000:01:00.0, compute capability: 8.6\n"
     ]
    }
   ],
   "execution_count": 14
  },
  {
   "cell_type": "code",
   "execution_count": null,
   "outputs": [],
   "source": [],
   "metadata": {
    "collapsed": false
   },
   "id": "478f1bc17bca7a69"
  }
 ],
 "metadata": {
  "kernelspec": {
   "display_name": "Python 3",
   "language": "python",
   "name": "python3"
  },
  "language_info": {
   "codemirror_mode": {
    "name": "ipython",
    "version": 2
   },
   "file_extension": ".py",
   "mimetype": "text/x-python",
   "name": "python",
   "nbconvert_exporter": "python",
   "pygments_lexer": "ipython2",
   "version": "2.7.6"
  }
 },
 "nbformat": 4,
 "nbformat_minor": 5
}
