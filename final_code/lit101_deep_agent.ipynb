{
 "cells": [
  {
   "cell_type": "code",
   "id": "initial_id",
   "metadata": {
    "collapsed": true,
    "ExecuteTime": {
     "end_time": "2024-09-25T18:38:54.585408Z",
     "start_time": "2024-09-25T18:38:54.583149Z"
    }
   },
   "source": [
    "#!pip install gym\n",
    "#!pip install tensorflow[and-cuda]\n",
    "#!pip install pygame"
   ],
   "outputs": [],
   "execution_count": 1
  },
  {
   "metadata": {
    "ExecuteTime": {
     "end_time": "2024-09-26T15:16:40.503028Z",
     "start_time": "2024-09-26T15:16:40.500521Z"
    }
   },
   "cell_type": "code",
   "source": [
    "# set tf warning level to 2 ....shows errors but not warnings\n",
    "import os\n",
    "os.environ['TF_CPP_MIN_LOG_LEVEL'] = '3'\n",
    "#tf.__version__"
   ],
   "id": "72861eebc814b36f",
   "outputs": [],
   "execution_count": 2
  },
  {
   "metadata": {
    "collapsed": false,
    "ExecuteTime": {
     "end_time": "2024-09-27T18:27:51.659389Z",
     "start_time": "2024-09-27T18:27:50.943088Z"
    }
   },
   "cell_type": "code",
   "source": [
    "from gym import Env\n",
    "from gym.spaces import Discrete, Box\n",
    "\n",
    "import pandas as pd\n",
    "import matplotlib.pyplot as plt\n",
    "\n",
    "\n",
    "import tensorflow as tf\n",
    "#tf.config.run_functions_eagerly(True)\n",
    "#print(tf.config.functions_run_eagerly())\n",
    "from tensorflow import keras\n",
    "from tensorflow.keras.models import load_model, Sequential\n",
    "\n",
    "# for experience replay\n",
    "from collections import deque\n",
    "from tensorflow.keras.layers import Dense, Flatten\n",
    "\n",
    "# tyr legacy adam due to numpy error\n",
    "from tensorflow.keras.optimizers import Adam\n",
    "#from tensorflow.keras.optimizers.legacy import Adam\n",
    "\n",
    "import numpy as np\n",
    "import random\n",
    "import os\n",
    "\n",
    "import pygame\n",
    "\n",
    "\n",
    "# get component class from custom module\n",
    "from component_module import Component, plot_correlation_network, plot_component_comparison, getKDEDensity, getDistributionBins, kde_mutual_information, drop_static_columns, performFourierAndLimitHarmonics, scaler_sec_midnight, save_component, load_component, calculate_phase_and_time_difference\n",
    "\n",
    "# Set the random seed\n",
    "seed_value = 44\n",
    "np.random.seed(seed_value)\n",
    "random.seed(seed_value)"
   ],
   "id": "89483b04081c5e6e",
   "outputs": [],
   "execution_count": 14
  },
  {
   "metadata": {
    "collapsed": false,
    "ExecuteTime": {
     "end_time": "2024-09-27T18:30:29.732325Z",
     "start_time": "2024-09-27T18:30:27.401564Z"
    }
   },
   "cell_type": "code",
   "source": [
    "# Check if TensorFlow is built with CUDA support\n",
    "if tf.config.list_physical_devices('GPU'):\n",
    "    print(\"CUDA is available\")\n",
    "    print(f\"Device: {tf.config.list_physical_devices('GPU')[0]}\")\n",
    "else:\n",
    "    print(\"CUDA is not available\")"
   ],
   "id": "66dae882324f6dbe",
   "outputs": [
    {
     "name": "stdout",
     "output_type": "stream",
     "text": [
      "CUDA is available\n",
      "Device: PhysicalDevice(name='/physical_device:GPU:0', device_type='GPU')\n"
     ]
    },
    {
     "name": "stderr",
     "output_type": "stream",
     "text": [
      "WARNING: All log messages before absl::InitializeLog() is called are written to STDERR\n",
      "I0000 00:00:1727461829.569003    6502 cuda_executor.cc:1015] successful NUMA node read from SysFS had negative value (-1), but there must be at least one NUMA node, so returning NUMA node zero. See more at https://github.com/torvalds/linux/blob/v6.0/Documentation/ABI/testing/sysfs-bus-pci#L344-L355\n",
      "I0000 00:00:1727461829.723767    6502 cuda_executor.cc:1015] successful NUMA node read from SysFS had negative value (-1), but there must be at least one NUMA node, so returning NUMA node zero. See more at https://github.com/torvalds/linux/blob/v6.0/Documentation/ABI/testing/sysfs-bus-pci#L344-L355\n",
      "I0000 00:00:1727461829.725876    6502 cuda_executor.cc:1015] successful NUMA node read from SysFS had negative value (-1), but there must be at least one NUMA node, so returning NUMA node zero. See more at https://github.com/torvalds/linux/blob/v6.0/Documentation/ABI/testing/sysfs-bus-pci#L344-L355\n"
     ]
    }
   ],
   "execution_count": 15
  },
  {
   "metadata": {},
   "cell_type": "markdown",
   "source": [
    "# Create Environment"
   ],
   "id": "8b45b612b25fa240"
  },
  {
   "metadata": {
    "ExecuteTime": {
     "end_time": "2024-09-27T18:25:15.397012Z",
     "start_time": "2024-09-27T18:25:15.102055Z"
    }
   },
   "cell_type": "code",
   "source": [
    "# ubuntu\n",
    "df_normalised = pd.read_csv(\"/home/loz/Documents/GitHub/MSc-Project/SWaT_12_23_sec_minmax.csv\", index_col='time_in_seconds')\n",
    "data_array = df_normalised.to_numpy()\n",
    "#df_normalised.shape"
   ],
   "id": "7f882fb888e5454b",
   "outputs": [],
   "execution_count": 4
  },
  {
   "metadata": {
    "ExecuteTime": {
     "end_time": "2024-09-27T18:25:16.438318Z",
     "start_time": "2024-09-27T18:25:16.435683Z"
    }
   },
   "cell_type": "code",
   "source": "#df_normalised",
   "id": "4270862575c1a5ca",
   "outputs": [],
   "execution_count": 5
  },
  {
   "metadata": {
    "ExecuteTime": {
     "end_time": "2024-09-27T18:30:36.394291Z",
     "start_time": "2024-09-27T18:30:36.386776Z"
    }
   },
   "cell_type": "code",
   "source": "data_array[35].max()",
   "id": "7f9b7fd3fbd6dbc6",
   "outputs": [
    {
     "data": {
      "text/plain": [
       "1.0"
      ]
     },
     "execution_count": 16,
     "metadata": {},
     "output_type": "execute_result"
    }
   ],
   "execution_count": 16
  },
  {
   "metadata": {},
   "cell_type": "markdown",
   "source": "",
   "id": "2e77426240355b11"
  },
  {
   "metadata": {
    "ExecuteTime": {
     "end_time": "2024-09-27T18:30:37.310888Z",
     "start_time": "2024-09-27T18:30:37.307357Z"
    }
   },
   "cell_type": "code",
   "source": [
    "component_pos = {key: idx for idx, key in enumerate(df_normalised.columns)}\n",
    "#component_pos.items()"
   ],
   "id": "d374679f3925cbdc",
   "outputs": [],
   "execution_count": 17
  },
  {
   "metadata": {
    "ExecuteTime": {
     "end_time": "2024-09-27T18:30:37.751875Z",
     "start_time": "2024-09-27T18:30:37.748521Z"
    }
   },
   "cell_type": "code",
   "source": "#data_array[component_pos['LIT101']]",
   "id": "ef6622de8b9b58c5",
   "outputs": [],
   "execution_count": 18
  },
  {
   "metadata": {
    "ExecuteTime": {
     "end_time": "2024-09-27T18:30:38.019488Z",
     "start_time": "2024-09-27T18:30:38.016085Z"
    }
   },
   "cell_type": "code",
   "source": "#df_comp_files",
   "id": "f6ba77c089ac156e",
   "outputs": [],
   "execution_count": 19
  },
  {
   "metadata": {
    "ExecuteTime": {
     "end_time": "2024-09-27T18:30:38.264168Z",
     "start_time": "2024-09-27T18:30:38.261777Z"
    }
   },
   "cell_type": "code",
   "source": "",
   "id": "c07ce45c9ecfaf57",
   "outputs": [],
   "execution_count": null
  },
  {
   "metadata": {
    "ExecuteTime": {
     "end_time": "2024-09-27T18:30:38.563183Z",
     "start_time": "2024-09-27T18:30:38.537755Z"
    }
   },
   "cell_type": "code",
   "source": [
    "path = '/home/loz/Documents/GitHub/MSc-Project/final_code/component_objs/'\n",
    "df_comp_files = pd.read_csv(path + 'component_filenames.csv', index_col=0)\n",
    "components = {}\n",
    "for component_name, filename in df_comp_files['filename'].items():    \n",
    "    # put returned component object into dict\n",
    "    components[component_name] = load_component(filename)\n",
    "    #print(filename)"
   ],
   "id": "b36f327e1be69a9e",
   "outputs": [
    {
     "name": "stdout",
     "output_type": "stream",
     "text": [
      "Component 'FIT101' has been loaded from /home/loz/Documents/GitHub/MSc-Project/final_code/component_objs/FIT101.\n",
      "Component 'LIT101' has been loaded from /home/loz/Documents/GitHub/MSc-Project/final_code/component_objs/LIT101.\n",
      "Component 'MV101' has been loaded from /home/loz/Documents/GitHub/MSc-Project/final_code/component_objs/MV101.\n",
      "Component 'P101' has been loaded from /home/loz/Documents/GitHub/MSc-Project/final_code/component_objs/P101.\n",
      "Component 'P102' has been loaded from /home/loz/Documents/GitHub/MSc-Project/final_code/component_objs/P102.\n",
      "Component 'AIT201' has been loaded from /home/loz/Documents/GitHub/MSc-Project/final_code/component_objs/AIT201.\n",
      "Component 'AIT202' has been loaded from /home/loz/Documents/GitHub/MSc-Project/final_code/component_objs/AIT202.\n",
      "Component 'AIT203' has been loaded from /home/loz/Documents/GitHub/MSc-Project/final_code/component_objs/AIT203.\n",
      "Component 'FIT201' has been loaded from /home/loz/Documents/GitHub/MSc-Project/final_code/component_objs/FIT201.\n",
      "Component 'MV201' has been loaded from /home/loz/Documents/GitHub/MSc-Project/final_code/component_objs/MV201.\n",
      "Component 'P201' has been loaded from /home/loz/Documents/GitHub/MSc-Project/final_code/component_objs/P201.\n",
      "Component 'P202' has been loaded from /home/loz/Documents/GitHub/MSc-Project/final_code/component_objs/P202.\n",
      "Component 'P203' has been loaded from /home/loz/Documents/GitHub/MSc-Project/final_code/component_objs/P203.\n",
      "Component 'P204' has been loaded from /home/loz/Documents/GitHub/MSc-Project/final_code/component_objs/P204.\n",
      "Component 'P205' has been loaded from /home/loz/Documents/GitHub/MSc-Project/final_code/component_objs/P205.\n",
      "Component 'P206' has been loaded from /home/loz/Documents/GitHub/MSc-Project/final_code/component_objs/P206.\n",
      "Component 'DPIT301' has been loaded from /home/loz/Documents/GitHub/MSc-Project/final_code/component_objs/DPIT301.\n",
      "Component 'FIT301' has been loaded from /home/loz/Documents/GitHub/MSc-Project/final_code/component_objs/FIT301.\n",
      "Component 'LIT301' has been loaded from /home/loz/Documents/GitHub/MSc-Project/final_code/component_objs/LIT301.\n",
      "Component 'MV301' has been loaded from /home/loz/Documents/GitHub/MSc-Project/final_code/component_objs/MV301.\n",
      "Component 'MV302' has been loaded from /home/loz/Documents/GitHub/MSc-Project/final_code/component_objs/MV302.\n",
      "Component 'MV303' has been loaded from /home/loz/Documents/GitHub/MSc-Project/final_code/component_objs/MV303.\n",
      "Component 'MV304' has been loaded from /home/loz/Documents/GitHub/MSc-Project/final_code/component_objs/MV304.\n",
      "Component 'P301' has been loaded from /home/loz/Documents/GitHub/MSc-Project/final_code/component_objs/P301.\n",
      "Component 'P302' has been loaded from /home/loz/Documents/GitHub/MSc-Project/final_code/component_objs/P302.\n",
      "Component 'AIT401' has been loaded from /home/loz/Documents/GitHub/MSc-Project/final_code/component_objs/AIT401.\n",
      "Component 'AIT402' has been loaded from /home/loz/Documents/GitHub/MSc-Project/final_code/component_objs/AIT402.\n",
      "Component 'FIT401' has been loaded from /home/loz/Documents/GitHub/MSc-Project/final_code/component_objs/FIT401.\n",
      "Component 'LIT401' has been loaded from /home/loz/Documents/GitHub/MSc-Project/final_code/component_objs/LIT401.\n",
      "Component 'P401' has been loaded from /home/loz/Documents/GitHub/MSc-Project/final_code/component_objs/P401.\n",
      "Component 'P402' has been loaded from /home/loz/Documents/GitHub/MSc-Project/final_code/component_objs/P402.\n",
      "Component 'P403' has been loaded from /home/loz/Documents/GitHub/MSc-Project/final_code/component_objs/P403.\n",
      "Component 'P404' has been loaded from /home/loz/Documents/GitHub/MSc-Project/final_code/component_objs/P404.\n",
      "Component 'UV401' has been loaded from /home/loz/Documents/GitHub/MSc-Project/final_code/component_objs/UV401.\n",
      "Component 'AIT501' has been loaded from /home/loz/Documents/GitHub/MSc-Project/final_code/component_objs/AIT501.\n",
      "Component 'AIT502' has been loaded from /home/loz/Documents/GitHub/MSc-Project/final_code/component_objs/AIT502.\n",
      "Component 'AIT503' has been loaded from /home/loz/Documents/GitHub/MSc-Project/final_code/component_objs/AIT503.\n",
      "Component 'AIT504' has been loaded from /home/loz/Documents/GitHub/MSc-Project/final_code/component_objs/AIT504.\n",
      "Component 'FIT501' has been loaded from /home/loz/Documents/GitHub/MSc-Project/final_code/component_objs/FIT501.\n",
      "Component 'FIT502' has been loaded from /home/loz/Documents/GitHub/MSc-Project/final_code/component_objs/FIT502.\n",
      "Component 'FIT503' has been loaded from /home/loz/Documents/GitHub/MSc-Project/final_code/component_objs/FIT503.\n",
      "Component 'FIT504' has been loaded from /home/loz/Documents/GitHub/MSc-Project/final_code/component_objs/FIT504.\n",
      "Component 'P501' has been loaded from /home/loz/Documents/GitHub/MSc-Project/final_code/component_objs/P501.\n",
      "Component 'P502' has been loaded from /home/loz/Documents/GitHub/MSc-Project/final_code/component_objs/P502.\n",
      "Component 'PIT501' has been loaded from /home/loz/Documents/GitHub/MSc-Project/final_code/component_objs/PIT501.\n",
      "Component 'PIT502' has been loaded from /home/loz/Documents/GitHub/MSc-Project/final_code/component_objs/PIT502.\n",
      "Component 'PIT503' has been loaded from /home/loz/Documents/GitHub/MSc-Project/final_code/component_objs/PIT503.\n",
      "Component 'FIT601' has been loaded from /home/loz/Documents/GitHub/MSc-Project/final_code/component_objs/FIT601.\n",
      "Component 'P601' has been loaded from /home/loz/Documents/GitHub/MSc-Project/final_code/component_objs/P601.\n",
      "Component 'P602' has been loaded from /home/loz/Documents/GitHub/MSc-Project/final_code/component_objs/P602.\n",
      "Component 'P603' has been loaded from /home/loz/Documents/GitHub/MSc-Project/final_code/component_objs/P603.\n"
     ]
    }
   ],
   "execution_count": 20
  },
  {
   "metadata": {
    "ExecuteTime": {
     "end_time": "2024-09-27T18:30:39.705615Z",
     "start_time": "2024-09-27T18:30:39.701633Z"
    }
   },
   "cell_type": "code",
   "source": "#components['LIT101'].norm_step_size",
   "id": "33f521277294fbe9",
   "outputs": [],
   "execution_count": 21
  },
  {
   "metadata": {
    "ExecuteTime": {
     "end_time": "2024-09-27T18:30:41.758016Z",
     "start_time": "2024-09-27T18:30:40.192063Z"
    }
   },
   "cell_type": "code",
   "source": [
    "# test lstm swat simulator\n",
    "# Load the model from the SavedModel directory\n",
    "# 20 secs\n",
    "#swat_lstm = tf.keras.models.load_model('swat_lstm_1_0.keras')\n",
    "\n",
    "swat_lstm = tf.keras.models.load_model('best_model_20.keras')\n",
    "model_window = 20\n",
    "\n",
    "#swat_lstm = tf.keras.models.load_model('swat_lstm_100s.keras')\n",
    "#model_window = 100\n",
    "\n"
   ],
   "id": "c2384e58148b04d9",
   "outputs": [
    {
     "name": "stderr",
     "output_type": "stream",
     "text": [
      "I0000 00:00:1727461840.206590    6502 cuda_executor.cc:1015] successful NUMA node read from SysFS had negative value (-1), but there must be at least one NUMA node, so returning NUMA node zero. See more at https://github.com/torvalds/linux/blob/v6.0/Documentation/ABI/testing/sysfs-bus-pci#L344-L355\n",
      "I0000 00:00:1727461840.209715    6502 cuda_executor.cc:1015] successful NUMA node read from SysFS had negative value (-1), but there must be at least one NUMA node, so returning NUMA node zero. See more at https://github.com/torvalds/linux/blob/v6.0/Documentation/ABI/testing/sysfs-bus-pci#L344-L355\n",
      "I0000 00:00:1727461840.212199    6502 cuda_executor.cc:1015] successful NUMA node read from SysFS had negative value (-1), but there must be at least one NUMA node, so returning NUMA node zero. See more at https://github.com/torvalds/linux/blob/v6.0/Documentation/ABI/testing/sysfs-bus-pci#L344-L355\n",
      "I0000 00:00:1727461840.336925    6502 cuda_executor.cc:1015] successful NUMA node read from SysFS had negative value (-1), but there must be at least one NUMA node, so returning NUMA node zero. See more at https://github.com/torvalds/linux/blob/v6.0/Documentation/ABI/testing/sysfs-bus-pci#L344-L355\n",
      "I0000 00:00:1727461840.338616    6502 cuda_executor.cc:1015] successful NUMA node read from SysFS had negative value (-1), but there must be at least one NUMA node, so returning NUMA node zero. See more at https://github.com/torvalds/linux/blob/v6.0/Documentation/ABI/testing/sysfs-bus-pci#L344-L355\n",
      "I0000 00:00:1727461840.339970    6502 cuda_executor.cc:1015] successful NUMA node read from SysFS had negative value (-1), but there must be at least one NUMA node, so returning NUMA node zero. See more at https://github.com/torvalds/linux/blob/v6.0/Documentation/ABI/testing/sysfs-bus-pci#L344-L355\n",
      "2024-09-27 19:30:40.341476: I tensorflow/core/common_runtime/gpu/gpu_device.cc:2021] Created device /job:localhost/replica:0/task:0/device:GPU:0 with 6235 MB memory:  -> device: 0, name: NVIDIA RTX A2000 8GB Laptop GPU, pci bus id: 0000:01:00.0, compute capability: 8.6\n"
     ]
    }
   ],
   "execution_count": 22
  },
  {
   "metadata": {},
   "cell_type": "markdown",
   "source": "prediction = swat_lstm.predict(reshaped_input)",
   "id": "3894c0718e36844b"
  },
  {
   "metadata": {},
   "cell_type": "markdown",
   "source": "# Q Learning Table Implementation",
   "id": "3447e33dfb0856ce"
  },
  {
   "metadata": {
    "ExecuteTime": {
     "end_time": "2024-09-27T18:30:45.383367Z",
     "start_time": "2024-09-27T18:30:45.380472Z"
    }
   },
   "cell_type": "code",
   "source": "",
   "id": "ad57c8d9f6dba87a",
   "outputs": [],
   "execution_count": null
  },
  {
   "metadata": {
    "collapsed": false,
    "ExecuteTime": {
     "end_time": "2024-09-27T18:30:46.033374Z",
     "start_time": "2024-09-27T18:30:46.014978Z"
    }
   },
   "cell_type": "code",
   "source": [
    "# inherit from gym env\n",
    "class SwatEnv(Env):\n",
    "    def __init__(self, data_array, window_size=19, episode_length=100):\n",
    "        print('init reached')\n",
    "        # 0: both off, 1: MV101 On MV201 Off, 2: MV101 Off MV201 On, 3: both on\n",
    "        self.action_space = Discrete(4)\n",
    "        self.episode_length = episode_length\n",
    "        \n",
    "        # make sure array is 3 dims for model input\n",
    "        if len(data_array.shape) == 2:\n",
    "            # Add a batch dimension to make it (1, time_steps, features)\n",
    "            data_array = data_array[np.newaxis, :, :]\n",
    "        \n",
    "        # swat value array, only position 1 used as lit101 level. 2.d.p \n",
    "        self.observation_space = Box(\n",
    "            # round to 2 d.p. to act as binning values\n",
    "            low=np.round(np.full((1, 37), 0.00), 2),  # 1x37 array with all elements set to 0.00\n",
    "            high=np.round(np.full((1, 37), 100.00), 2),  # 1x37 array with all elements set to 100.00\n",
    "            dtype=np.float32  # Specify float with two decimal places precision\n",
    "        )\n",
    "        \n",
    "        # Initialise data params\n",
    "        self.data_array = data_array\n",
    "        self.window_size = window_size \n",
    "        \n",
    "        # use reset to intialise the data window to use \n",
    "        self.reset(data_array)      \n",
    "        \n",
    "        # state history is 98 time steps preceding\n",
    "        #self.state_history = model_input\n",
    "        # set start state as last row in modelinput\n",
    "        #elf.state = self.state_history [0,-1,:]\n",
    "        \n",
    "        # set shower length\n",
    "        self.episode_length = episode_length\n",
    "        \n",
    "        self.lit101_value_record = []\n",
    "    \n",
    "    # Override inherited method  \n",
    "    def sample_observation(self):\n",
    "        return np.round(self.observation_space.sample(), 2)\n",
    "\n",
    "        \n",
    "    def update_state(self, state_history, action_input):\n",
    "        # Ensure action_input is reshaped to 1x37 array\n",
    "        action_input = action_input.reshape(1, -1)\n",
    "        \n",
    "        # add action to previous states\n",
    "        model_input = np.concatenate((state_history[:, 1:, :], action_input[:, np.newaxis, :]), axis=1)\n",
    "        # predict\n",
    "        \n",
    "        new_state = swat_lstm.predict(model_input)\n",
    "        new_state = np.round(new_state, 2)\n",
    "        \n",
    "        # prob don't use as new window wanted\n",
    "        # update history with new state\n",
    "        #self.state_history = np.concatenate((state_history[:, 1:, :], new_state[:, np.newaxis, :]), axis=1)\n",
    "        \n",
    "        # flatten new_state from (1,37) to (37,)\n",
    "        new_state = new_state.flatten()\n",
    "        #print(new_state)\n",
    "        \n",
    "        return new_state\n",
    "        \n",
    "    def step(self, action):\n",
    "        #print(f'step reached {action}')\n",
    "        \n",
    "        # copy current state\n",
    "        action_input = self.state.copy() \n",
    "        \n",
    "        # MV101 \n",
    "        if action == 0:\n",
    "            ## MV101 and MV201 off         \n",
    "            action_input[component_pos['MV101']] = 0\n",
    "            action_input[component_pos['MV201']] = 0\n",
    "            \n",
    "        elif action == 1:\n",
    "            # MV101 On, MV201 Off\n",
    "            action_input[component_pos['MV101']] = 1\n",
    "            action_input[component_pos['MV201']] = 0\n",
    "        elif action == 2:\n",
    "            # MV101 Off, MV201 On\n",
    "            action_input[component_pos['MV101']] = 0\n",
    "            action_input[component_pos['MV201']] = 1\n",
    "        elif action == 3:\n",
    "            # Both MV101 and MV201 On\n",
    "            action_input[component_pos['MV101']] = 1\n",
    "            action_input[component_pos['MV201']] = 1\n",
    "\n",
    "        \n",
    "        \n",
    "        new_state = self.update_state(self.state_history, action_input)\n",
    "        # test with no actions\n",
    "        #new_state = self.update_state(self.state_history, self.state.copy())\n",
    "        \n",
    "        \n",
    "        #print(new_state.shape, self.state.shape)\n",
    "        \n",
    "        #record lit101 state\n",
    "        #self.lit101_value_record.append((np.round(new_state[component_pos['LIT101']], 2)))\n",
    "        # get change in value for plotting\n",
    "        \n",
    "        self.lit101_value_record.append(np.round(new_state[component_pos['LIT101']]-self.state[component_pos['LIT101']], 2))\n",
    "\n",
    "                                     \n",
    "        # check for increase\n",
    "        if new_state[component_pos['LIT101']] > self.state[component_pos['LIT101']]:\n",
    "            reward = new_state[component_pos['LIT101']] - self.state[component_pos['LIT101']]\n",
    "        elif new_state[component_pos['LIT101']] == self.state[component_pos['LIT101']]:\n",
    "            reward = -1\n",
    "        elif new_state[component_pos['LIT101']] < self.state[component_pos['LIT101']]:\n",
    "            reward = self.state[component_pos['LIT101']] - new_state[component_pos['LIT101']]\n",
    "            \n",
    "        #print(f'lit:{self.state[component_pos['LIT101']], new_state[component_pos['LIT101']]} reward:{reward}')\n",
    "        \n",
    "        # prob not needed as should be reset to new window\n",
    "        # update state\n",
    "        self.state = new_state\n",
    "        \n",
    "        done = True\n",
    "        \n",
    "        # single episode to allow a new data window\n",
    "    \n",
    "        # reduce episode_length\n",
    "        #self.episode_length = self.episode_length - 1\n",
    "        \n",
    "        # Check if episode is done\n",
    "        #if self.episode_length <= 0:\n",
    "        #    done = True\n",
    "        #else:\n",
    "        #    done = False         \n",
    "        \n",
    "        return self.state, reward, self.lit101_value_record, done #, info\n",
    "\n",
    "    def reset(self, data_array):\n",
    "        # state history is 98 time steps preceding\n",
    "        #self.state_history = model_input\n",
    "        \n",
    "        # Randomly select new window from data_array for each episode\n",
    "        start_idx = np.random.randint(0, data_array.shape[1] - self.window_size)\n",
    "        self.state_history = data_array[:, start_idx:start_idx + self.window_size, :]\n",
    "        # Set the start state as the last row in the selected window\n",
    "        self.state = self.state_history[0, -1, :]\n",
    "        \n",
    "        # reset episode\n",
    "        #self.episode_length = episode_length\n",
    "        # reset value record\n",
    "        self.lit101_value_record = []\n",
    "        return self.state\n",
    "        \n",
    "    #def render(self):\n",
    "        # for vis ie pygame\n",
    "        #pass\n",
    "    def render(self, screen, font):\n",
    "        '''\n",
    "        screen.fill((255, 255, 255))  # Fill the screen with white\n",
    "\n",
    "        # Draw the temperature meter\n",
    "        pygame.draw.rect(screen, (0, 0, 255), (100, 150, 50, 200))  # Blue background\n",
    "        temp_height = (self.state - 0) / 100 * 200  # Scale temp to meter height\n",
    "        pygame.draw.rect(screen, (255, 0, 0), (100, 350 - temp_height, 50, temp_height))  # Red temperature\n",
    "\n",
    "        # Display temperature value\n",
    "        temp_text = font.render(f'Temp: {self.state}°C', True, (0, 0, 0))\n",
    "        screen.blit(temp_text, (200, 150))\n",
    "\n",
    "        # Display shower length\n",
    "        shower_text = font.render(f'Shower Time: {self.shower_length}s', True, (0, 0, 0))\n",
    "        screen.blit(shower_text, (200, 200))\n",
    "        '''\n",
    "        pass\n",
    "\n",
    "        \n"
   ],
   "id": "57e0e505639a90cf",
   "outputs": [],
   "execution_count": 23
  },
  {
   "metadata": {
    "ExecuteTime": {
     "end_time": "2024-09-27T18:30:47.145773Z",
     "start_time": "2024-09-27T18:30:47.139700Z"
    }
   },
   "cell_type": "code",
   "source": [
    "bin_size = (1/50)\n",
    "bin_size"
   ],
   "id": "e6b52899d507994e",
   "outputs": [
    {
     "data": {
      "text/plain": [
       "0.02"
      ]
     },
     "execution_count": 24,
     "metadata": {},
     "output_type": "execute_result"
    }
   ],
   "execution_count": 24
  },
  {
   "metadata": {
    "ExecuteTime": {
     "end_time": "2024-09-27T18:30:49.096862Z",
     "start_time": "2024-09-27T18:30:49.089484Z"
    }
   },
   "cell_type": "code",
   "source": "component_pos['LIT101']",
   "id": "a943ce0a01134498",
   "outputs": [
    {
     "data": {
      "text/plain": [
       "1"
      ]
     },
     "execution_count": 25,
     "metadata": {},
     "output_type": "execute_result"
    }
   ],
   "execution_count": 25
  },
  {
   "metadata": {
    "ExecuteTime": {
     "end_time": "2024-09-27T18:30:49.843242Z",
     "start_time": "2024-09-27T18:30:49.833612Z"
    }
   },
   "cell_type": "code",
   "source": [
    "\n",
    "# add paraam dict here and pass\n",
    "def run_trial(environment, data_array, window_size, episodes, q_table=None):\n",
    "    '''\n",
    "    Function to run agent with a given starting point of a data window from the data_set\n",
    "    :param environment: SWaTEnv\n",
    "    :param model_input_window: Random slice of SWaT data in format for LSTM (1,19,37)\n",
    "    :param number_of_episodes: Times to repeat\n",
    "    :return: \n",
    "    '''\n",
    "    \n",
    "    # Q learning hyper parameters \n",
    "    # learning rate\n",
    "    alpha = 0.1  \n",
    "    # Future discount factor\n",
    "    gamma = 0.9    \n",
    "    # Initial exploration rate \n",
    "    epsilon = 1.0    \n",
    "    # reduce exploration at each episode\n",
    "    epsilon_decay = 0.999\n",
    "    # final exploration rate/ stochastic behaviour\n",
    "    min_epsilon = 0.01\n",
    "    # number of episodes\n",
    "    episodes = episodes \n",
    "    \n",
    "    # Discrete levels for continuous values, normalised data so range 0-1\n",
    "    num_bins = 50  \n",
    "    # get bin size, use 2 to allow for outside of normal range\n",
    "    bin_size = (2/num_bins)\n",
    "    \n",
    "    \n",
    "    #this_env = environment(data_array, window_size, episode_length)\n",
    "    # env is reset after every episode so no internal counter\n",
    "    this_env = environment(data_array, window_size)\n",
    "    \n",
    "    #intitalise with zeros if one not passed\n",
    "    if q_table is None:\n",
    "        # Initialise Q-table with zeros, dims: number of possible states * number of actions\n",
    "        q_table = np.zeros((num_bins, this_env.action_space.n))\n",
    "    \n",
    "    # make sure array is 3 dims for model input\n",
    "    if len(data_array.shape) == 2:\n",
    "        # Add a batch dimension to make it (1, time_steps, features)\n",
    "        data_array = data_array[np.newaxis, :, :]\n",
    "        \n",
    "        \n",
    "\n",
    "    \n",
    "    # store lit101 values form each episode\n",
    "    #lit101_list = []\n",
    "    \n",
    "    # target variable\n",
    "    target_loc = component_pos['LIT101']\n",
    "    \n",
    "    \n",
    "    \n",
    "    #episodes = episode_length\n",
    "    for episode in range(1, episodes+1):\n",
    "        \n",
    "        this_env.reset(data_array)\n",
    "        state = this_env.state\n",
    "        # just to initialise\n",
    "        n_state = this_env.state\n",
    "        #print(n_state)\n",
    "        \n",
    "        state_idx = int(np.round((n_state[target_loc]/ bin_size),2))\n",
    "        done = False\n",
    "        score = 0 \n",
    "        \n",
    "        while not done:\n",
    "            #env.render()\n",
    "            # sample from 4 possible states \n",
    "            \n",
    "            # compare epsilon to random number, as epsilon decreases chance of random exploration decreases \n",
    "            if np.random.uniform(0, 1) < epsilon:\n",
    "                # random explore\n",
    "                action = this_env.action_space.sample()\n",
    "            else:\n",
    "                # take best action for this state for q table\n",
    "                # deliberate exploit\n",
    "                action = np.argmax(q_table[state_idx]) \n",
    "                \n",
    "            # force action    \n",
    "            # just activate MV101 to see if response from lstm model is linear\n",
    "            #action = 1\n",
    "            \n",
    "            # pass 1 x 37 array of SWat states\n",
    "            #action = one_state\n",
    "            #n_state, reward, done, info = env.step(action)\n",
    "            n_state, reward, value_change, done = this_env.step(action)\n",
    "            \n",
    "            # bin new state of target variable\n",
    "            target_state_idx = int(np.round((n_state[target_loc]// bin_size),2))\n",
    "            \n",
    "            # Q-learning update rule\n",
    "            q_table[state_idx, action] = q_table[state_idx, action] + alpha * (\n",
    "            reward + gamma * np.max(q_table[target_state_idx]) - q_table[state_idx, action]\n",
    "            )\n",
    "            \n",
    "            #print(n_state)\n",
    "            score+=reward\n",
    "        #print('Episode:{} Score:{}'.format(episode, score))\n",
    "        # add this episodes list of values\n",
    "        lit101_list = this_env.lit101_value_record\n",
    "        \n",
    "        # reduce exploration factor\n",
    "        epsilon = max(min_epsilon, epsilon * epsilon_decay)\n",
    "    return lit101_list, q_table\n",
    "    \n",
    "    \n",
    "    #return input_windows\n"
   ],
   "id": "cb02313aec39a8e1",
   "outputs": [],
   "execution_count": 26
  },
  {
   "metadata": {
    "ExecuteTime": {
     "end_time": "2024-09-26T20:32:41.329022Z",
     "start_time": "2024-09-26T20:32:41.326201Z"
    }
   },
   "cell_type": "code",
   "source": [
    "# q table at each 2000 episodes\n",
    "#q_table_list = []"
   ],
   "id": "14f72e87c9cd3c30",
   "outputs": [],
   "execution_count": 63
  },
  {
   "metadata": {
    "ExecuteTime": {
     "end_time": "2024-09-27T18:31:01.658055Z",
     "start_time": "2024-09-27T18:31:01.653867Z"
    }
   },
   "cell_type": "code",
   "source": [
    "#for _ in range(10):\n",
    "#    lit101_li, q_table = run_trial(SwatEnv,data_array,model_window,2000)\n",
    "#    q_table_list.append(q_table)"
   ],
   "id": "f42c0146cd2f032d",
   "outputs": [],
   "execution_count": 27
  },
  {
   "metadata": {
    "ExecuteTime": {
     "end_time": "2024-09-27T18:31:07.778137Z",
     "start_time": "2024-09-27T18:31:07.773217Z"
    }
   },
   "cell_type": "code",
   "source": "#q_table_list\n",
   "id": "afd4772b95cc1e3f",
   "outputs": [],
   "execution_count": 28
  },
  {
   "metadata": {
    "ExecuteTime": {
     "end_time": "2024-09-27T18:31:13.646035Z",
     "start_time": "2024-09-27T18:31:13.642476Z"
    }
   },
   "cell_type": "code",
   "source": "#np.savez('/home/loz/Documents/GitHub/MSc-Project/final_code#/component_objs/q_table_list_2000s.npz', *q_table_list) ",
   "id": "6efcebbbaf98c704",
   "outputs": [],
   "execution_count": 29
  },
  {
   "metadata": {
    "ExecuteTime": {
     "end_time": "2024-09-25T18:38:57.977387525Z",
     "start_time": "2024-09-25T15:53:50.035999Z"
    }
   },
   "cell_type": "code",
   "source": "",
   "id": "a4c40be9fa4bc99e",
   "outputs": [],
   "execution_count": null
  },
  {
   "metadata": {},
   "cell_type": "markdown",
   "source": "# Create Deep Policy Table",
   "id": "71582d3749d8b6e1"
  },
  {
   "metadata": {},
   "cell_type": "markdown",
   "source": [
    "# Create Deep Learning Model#"
   ],
   "id": "8cbe185c6d90d1ec"
  },
  {
   "metadata": {
    "ExecuteTime": {
     "end_time": "2024-09-25T18:38:57.977415422Z",
     "start_time": "2024-09-25T15:53:50.086414Z"
    }
   },
   "cell_type": "code",
   "source": [],
   "id": "6c984dd207cab06e",
   "outputs": [],
   "execution_count": null
  },
  {
   "metadata": {
    "ExecuteTime": {
     "end_time": "2024-09-27T18:24:44.311576Z",
     "start_time": "2024-09-27T18:24:44.208179Z"
    }
   },
   "cell_type": "code",
   "source": [
    "states = env.observation_space.shape\n",
    "actions = env.action_space.n"
   ],
   "id": "803ec7a6019f3243",
   "outputs": [
    {
     "ename": "NameError",
     "evalue": "name 'env' is not defined",
     "output_type": "error",
     "traceback": [
      "\u001B[0;31m---------------------------------------------------------------------------\u001B[0m",
      "\u001B[0;31mNameError\u001B[0m                                 Traceback (most recent call last)",
      "Cell \u001B[0;32mIn[1], line 1\u001B[0m\n\u001B[0;32m----> 1\u001B[0m states \u001B[38;5;241m=\u001B[39m \u001B[43menv\u001B[49m\u001B[38;5;241m.\u001B[39mobservation_space\u001B[38;5;241m.\u001B[39mshape\n\u001B[1;32m      2\u001B[0m actions \u001B[38;5;241m=\u001B[39m env\u001B[38;5;241m.\u001B[39maction_space\u001B[38;5;241m.\u001B[39mn\n",
      "\u001B[0;31mNameError\u001B[0m: name 'env' is not defined"
     ]
    }
   ],
   "execution_count": 1
  },
  {
   "cell_type": "code",
   "source": [],
   "metadata": {
    "collapsed": false,
    "ExecuteTime": {
     "end_time": "2024-09-25T18:38:57.977473583Z",
     "start_time": "2024-09-25T12:22:52.679141Z"
    }
   },
   "id": "3603941aef4b2538",
   "outputs": [],
   "execution_count": null
  },
  {
   "cell_type": "code",
   "source": [
    "states"
   ],
   "metadata": {
    "collapsed": false,
    "ExecuteTime": {
     "end_time": "2024-09-25T18:38:57.977499635Z",
     "start_time": "2024-09-25T12:22:52.729520Z"
    }
   },
   "id": "69ba5c3d076535ef",
   "outputs": [
    {
     "data": {
      "text/plain": [
       "(1, 37)"
      ]
     },
     "execution_count": 24,
     "metadata": {},
     "output_type": "execute_result"
    }
   ],
   "execution_count": 24
  },
  {
   "metadata": {
    "ExecuteTime": {
     "end_time": "2024-09-25T18:38:57.978203586Z",
     "start_time": "2024-09-25T12:22:52.785232Z"
    }
   },
   "cell_type": "code",
   "source": [
    "actions"
   ],
   "id": "a30d0d67fec2b5bf",
   "outputs": [
    {
     "data": {
      "text/plain": [
       "4"
      ]
     },
     "execution_count": 25,
     "metadata": {},
     "output_type": "execute_result"
    }
   ],
   "execution_count": 25
  },
  {
   "metadata": {
    "ExecuteTime": {
     "end_time": "2024-09-25T18:38:57.978299500Z",
     "start_time": "2024-09-25T12:22:52.840762Z"
    }
   },
   "cell_type": "code",
   "source": [
    "def build_model(states, actions):\n",
    "    model = Sequential()    \n",
    "    model.add(Dense(24, activation='relu', input_shape=states))\n",
    "    #model.add(Dense(24, activation='relu', input_shape=(1,)))\n",
    "    model.add(Dense(24, activation='relu'))\n",
    "    model.add(Dense(actions, activation='linear'))\n",
    "    return model"
   ],
   "id": "ed2f0a9118190377",
   "outputs": [],
   "execution_count": 26
  },
  {
   "metadata": {
    "ExecuteTime": {
     "end_time": "2024-09-25T18:38:57.978388176Z",
     "start_time": "2024-09-25T12:22:52.889261Z"
    }
   },
   "cell_type": "code",
   "source": [
    "#del model"
   ],
   "id": "69758ce59d7ad830",
   "outputs": [],
   "execution_count": 27
  },
  {
   "metadata": {
    "ExecuteTime": {
     "end_time": "2024-09-25T18:38:57.978417601Z",
     "start_time": "2024-09-25T12:22:52.942523Z"
    }
   },
   "cell_type": "code",
   "source": [
    "model = build_model(states, actions)"
   ],
   "id": "6ba60cf6161d3e4c",
   "outputs": [
    {
     "name": "stderr",
     "output_type": "stream",
     "text": [
      "/home/loz/Documents/GitHub/MSc-Project/venv/lib/python3.12/site-packages/keras/src/layers/core/dense.py:87: UserWarning: Do not pass an `input_shape`/`input_dim` argument to a layer. When using Sequential models, prefer using an `Input(shape)` object as the first layer in the model instead.\n",
      "  super().__init__(activity_regularizer=activity_regularizer, **kwargs)\n"
     ]
    }
   ],
   "execution_count": 28
  },
  {
   "metadata": {
    "ExecuteTime": {
     "end_time": "2024-09-25T18:38:57.978440996Z",
     "start_time": "2024-09-25T12:22:52.994737Z"
    }
   },
   "cell_type": "code",
   "source": [
    "model.summary()"
   ],
   "id": "83d8647280b71a53",
   "outputs": [
    {
     "data": {
      "text/plain": [
       "\u001B[1mModel: \"sequential\"\u001B[0m\n"
      ],
      "text/html": [
       "<pre style=\"white-space:pre;overflow-x:auto;line-height:normal;font-family:Menlo,'DejaVu Sans Mono',consolas,'Courier New',monospace\"><span style=\"font-weight: bold\">Model: \"sequential\"</span>\n",
       "</pre>\n"
      ]
     },
     "metadata": {},
     "output_type": "display_data"
    },
    {
     "data": {
      "text/plain": [
       "┏━━━━━━━━━━━━━━━━━━━━━━━━━━━━━━━━━┳━━━━━━━━━━━━━━━━━━━━━━━━┳━━━━━━━━━━━━━━━┓\n",
       "┃\u001B[1m \u001B[0m\u001B[1mLayer (type)                   \u001B[0m\u001B[1m \u001B[0m┃\u001B[1m \u001B[0m\u001B[1mOutput Shape          \u001B[0m\u001B[1m \u001B[0m┃\u001B[1m \u001B[0m\u001B[1m      Param #\u001B[0m\u001B[1m \u001B[0m┃\n",
       "┡━━━━━━━━━━━━━━━━━━━━━━━━━━━━━━━━━╇━━━━━━━━━━━━━━━━━━━━━━━━╇━━━━━━━━━━━━━━━┩\n",
       "│ dense (\u001B[38;5;33mDense\u001B[0m)                   │ (\u001B[38;5;45mNone\u001B[0m, \u001B[38;5;34m1\u001B[0m, \u001B[38;5;34m24\u001B[0m)          │           \u001B[38;5;34m912\u001B[0m │\n",
       "├─────────────────────────────────┼────────────────────────┼───────────────┤\n",
       "│ dense_1 (\u001B[38;5;33mDense\u001B[0m)                 │ (\u001B[38;5;45mNone\u001B[0m, \u001B[38;5;34m1\u001B[0m, \u001B[38;5;34m24\u001B[0m)          │           \u001B[38;5;34m600\u001B[0m │\n",
       "├─────────────────────────────────┼────────────────────────┼───────────────┤\n",
       "│ dense_2 (\u001B[38;5;33mDense\u001B[0m)                 │ (\u001B[38;5;45mNone\u001B[0m, \u001B[38;5;34m1\u001B[0m, \u001B[38;5;34m4\u001B[0m)           │           \u001B[38;5;34m100\u001B[0m │\n",
       "└─────────────────────────────────┴────────────────────────┴───────────────┘\n"
      ],
      "text/html": [
       "<pre style=\"white-space:pre;overflow-x:auto;line-height:normal;font-family:Menlo,'DejaVu Sans Mono',consolas,'Courier New',monospace\">┏━━━━━━━━━━━━━━━━━━━━━━━━━━━━━━━━━┳━━━━━━━━━━━━━━━━━━━━━━━━┳━━━━━━━━━━━━━━━┓\n",
       "┃<span style=\"font-weight: bold\"> Layer (type)                    </span>┃<span style=\"font-weight: bold\"> Output Shape           </span>┃<span style=\"font-weight: bold\">       Param # </span>┃\n",
       "┡━━━━━━━━━━━━━━━━━━━━━━━━━━━━━━━━━╇━━━━━━━━━━━━━━━━━━━━━━━━╇━━━━━━━━━━━━━━━┩\n",
       "│ dense (<span style=\"color: #0087ff; text-decoration-color: #0087ff\">Dense</span>)                   │ (<span style=\"color: #00d7ff; text-decoration-color: #00d7ff\">None</span>, <span style=\"color: #00af00; text-decoration-color: #00af00\">1</span>, <span style=\"color: #00af00; text-decoration-color: #00af00\">24</span>)          │           <span style=\"color: #00af00; text-decoration-color: #00af00\">912</span> │\n",
       "├─────────────────────────────────┼────────────────────────┼───────────────┤\n",
       "│ dense_1 (<span style=\"color: #0087ff; text-decoration-color: #0087ff\">Dense</span>)                 │ (<span style=\"color: #00d7ff; text-decoration-color: #00d7ff\">None</span>, <span style=\"color: #00af00; text-decoration-color: #00af00\">1</span>, <span style=\"color: #00af00; text-decoration-color: #00af00\">24</span>)          │           <span style=\"color: #00af00; text-decoration-color: #00af00\">600</span> │\n",
       "├─────────────────────────────────┼────────────────────────┼───────────────┤\n",
       "│ dense_2 (<span style=\"color: #0087ff; text-decoration-color: #0087ff\">Dense</span>)                 │ (<span style=\"color: #00d7ff; text-decoration-color: #00d7ff\">None</span>, <span style=\"color: #00af00; text-decoration-color: #00af00\">1</span>, <span style=\"color: #00af00; text-decoration-color: #00af00\">4</span>)           │           <span style=\"color: #00af00; text-decoration-color: #00af00\">100</span> │\n",
       "└─────────────────────────────────┴────────────────────────┴───────────────┘\n",
       "</pre>\n"
      ]
     },
     "metadata": {},
     "output_type": "display_data"
    },
    {
     "data": {
      "text/plain": [
       "\u001B[1m Total params: \u001B[0m\u001B[38;5;34m1,612\u001B[0m (6.30 KB)\n"
      ],
      "text/html": [
       "<pre style=\"white-space:pre;overflow-x:auto;line-height:normal;font-family:Menlo,'DejaVu Sans Mono',consolas,'Courier New',monospace\"><span style=\"font-weight: bold\"> Total params: </span><span style=\"color: #00af00; text-decoration-color: #00af00\">1,612</span> (6.30 KB)\n",
       "</pre>\n"
      ]
     },
     "metadata": {},
     "output_type": "display_data"
    },
    {
     "data": {
      "text/plain": [
       "\u001B[1m Trainable params: \u001B[0m\u001B[38;5;34m1,612\u001B[0m (6.30 KB)\n"
      ],
      "text/html": [
       "<pre style=\"white-space:pre;overflow-x:auto;line-height:normal;font-family:Menlo,'DejaVu Sans Mono',consolas,'Courier New',monospace\"><span style=\"font-weight: bold\"> Trainable params: </span><span style=\"color: #00af00; text-decoration-color: #00af00\">1,612</span> (6.30 KB)\n",
       "</pre>\n"
      ]
     },
     "metadata": {},
     "output_type": "display_data"
    },
    {
     "data": {
      "text/plain": [
       "\u001B[1m Non-trainable params: \u001B[0m\u001B[38;5;34m0\u001B[0m (0.00 B)\n"
      ],
      "text/html": [
       "<pre style=\"white-space:pre;overflow-x:auto;line-height:normal;font-family:Menlo,'DejaVu Sans Mono',consolas,'Courier New',monospace\"><span style=\"font-weight: bold\"> Non-trainable params: </span><span style=\"color: #00af00; text-decoration-color: #00af00\">0</span> (0.00 B)\n",
       "</pre>\n"
      ]
     },
     "metadata": {},
     "output_type": "display_data"
    }
   ],
   "execution_count": 29
  },
  {
   "metadata": {},
   "cell_type": "markdown",
   "source": [
    "# Build Agent wit Keras-RL"
   ],
   "id": "97d8cab3cd58809f"
  },
  {
   "metadata": {
    "ExecuteTime": {
     "end_time": "2024-09-25T18:38:57.978590837Z",
     "start_time": "2024-09-25T12:22:53.056255Z"
    }
   },
   "cell_type": "code",
   "source": [
    "#@tf.function(reduce_retracing=True)\n",
    "def build_agent(model, actions):\n",
    "    policy = BoltzmannQPolicy()\n",
    "    memory = SequentialMemory(limit=50000, window_length=1)\n",
    "    dqn = DQNAgent(model=model, memory=memory, policy=policy,\n",
    "                  nb_actions=actions, nb_steps_warmup=10, target_model_update=1e-2)\n",
    "    return dqn"
   ],
   "id": "36752bcb3387eb28",
   "outputs": [],
   "execution_count": 30
  },
  {
   "cell_type": "code",
   "source": [
    "dqn = build_agent(model, actions)"
   ],
   "metadata": {
    "collapsed": false,
    "ExecuteTime": {
     "end_time": "2024-09-25T18:38:57.978625403Z",
     "start_time": "2024-09-25T12:22:53.106952Z"
    }
   },
   "id": "261ea55dd51e628c",
   "outputs": [
    {
     "ename": "NameError",
     "evalue": "name 'BoltzmannQPolicy' is not defined",
     "output_type": "error",
     "traceback": [
      "\u001B[0;31m---------------------------------------------------------------------------\u001B[0m",
      "\u001B[0;31mNameError\u001B[0m                                 Traceback (most recent call last)",
      "Cell \u001B[0;32mIn[31], line 1\u001B[0m\n\u001B[0;32m----> 1\u001B[0m dqn \u001B[38;5;241m=\u001B[39m \u001B[43mbuild_agent\u001B[49m\u001B[43m(\u001B[49m\u001B[43mmodel\u001B[49m\u001B[43m,\u001B[49m\u001B[43m \u001B[49m\u001B[43mactions\u001B[49m\u001B[43m)\u001B[49m\n",
      "Cell \u001B[0;32mIn[30], line 3\u001B[0m, in \u001B[0;36mbuild_agent\u001B[0;34m(model, actions)\u001B[0m\n\u001B[1;32m      2\u001B[0m \u001B[38;5;28;01mdef\u001B[39;00m \u001B[38;5;21mbuild_agent\u001B[39m(model, actions):\n\u001B[0;32m----> 3\u001B[0m     policy \u001B[38;5;241m=\u001B[39m \u001B[43mBoltzmannQPolicy\u001B[49m()\n\u001B[1;32m      4\u001B[0m     memory \u001B[38;5;241m=\u001B[39m SequentialMemory(limit\u001B[38;5;241m=\u001B[39m\u001B[38;5;241m50000\u001B[39m, window_length\u001B[38;5;241m=\u001B[39m\u001B[38;5;241m1\u001B[39m)\n\u001B[1;32m      5\u001B[0m     dqn \u001B[38;5;241m=\u001B[39m DQNAgent(model\u001B[38;5;241m=\u001B[39mmodel, memory\u001B[38;5;241m=\u001B[39mmemory, policy\u001B[38;5;241m=\u001B[39mpolicy,\n\u001B[1;32m      6\u001B[0m                   nb_actions\u001B[38;5;241m=\u001B[39mactions, nb_steps_warmup\u001B[38;5;241m=\u001B[39m\u001B[38;5;241m10\u001B[39m, target_model_update\u001B[38;5;241m=\u001B[39m\u001B[38;5;241m1e-2\u001B[39m)\n",
      "\u001B[0;31mNameError\u001B[0m: name 'BoltzmannQPolicy' is not defined"
     ]
    }
   ],
   "execution_count": 31
  },
  {
   "cell_type": "code",
   "execution_count": 41,
   "outputs": [],
   "source": [
    "dqn.compile(Adam(learning_rate=1e-3), metrics=['mae'])"
   ],
   "metadata": {
    "collapsed": false,
    "ExecuteTime": {
     "end_time": "2024-09-25T18:38:57.978654625Z",
     "start_time": "2024-09-22T22:16:57.238526800Z"
    }
   },
   "id": "92692ff464f3c981"
  },
  {
   "metadata": {
    "ExecuteTime": {
     "end_time": "2024-09-25T18:38:57.978675945Z",
     "start_time": "2024-09-22T22:16:58.040308300Z"
    }
   },
   "cell_type": "code",
   "outputs": [
    {
     "name": "stdout",
     "output_type": "stream",
     "text": [
      "Training for 5000 steps ...\n",
      "Interval 1 (0 steps performed)\n",
      " 1423/10000 [===>..........................] - ETA: 1:36 - reward: -0.5264done, took 16.064 seconds\n"
     ]
    },
    {
     "data": {
      "text/plain": "<tensorflow.python.keras.callbacks.History at 0x1d02e5392b0>"
     },
     "execution_count": 42,
     "metadata": {},
     "output_type": "execute_result"
    }
   ],
   "execution_count": 42,
   "source": [
    "\n",
    "\n",
    "dqn.fit(env, nb_steps=5000, visualize=False, verbose=1)\n"
   ],
   "id": "55edb33778c5ff93"
  },
  {
   "metadata": {
    "ExecuteTime": {
     "end_time": "2024-09-25T18:38:57.978707778Z",
     "start_time": "2024-09-22T22:04:37.103682200Z"
    }
   },
   "cell_type": "code",
   "outputs": [
    {
     "name": "stdout",
     "output_type": "stream",
     "text": [
      "Testing for 100 episodes ...\n",
      "Episode 1: reward: 10.000, steps: 60\n",
      "Episode 2: reward: 16.000, steps: 60\n",
      "Episode 3: reward: 6.000, steps: 60\n",
      "Episode 4: reward: 8.000, steps: 60\n",
      "Episode 5: reward: 4.000, steps: 60\n",
      "Episode 6: reward: 18.000, steps: 60\n",
      "Episode 7: reward: -16.000, steps: 60\n",
      "Episode 8: reward: -12.000, steps: 60\n",
      "Episode 9: reward: -8.000, steps: 60\n",
      "Episode 10: reward: -2.000, steps: 60\n",
      "Episode 11: reward: -2.000, steps: 60\n",
      "Episode 12: reward: 8.000, steps: 60\n",
      "Episode 13: reward: -10.000, steps: 60\n",
      "Episode 14: reward: 4.000, steps: 60\n",
      "Episode 15: reward: 2.000, steps: 60\n",
      "Episode 16: reward: 6.000, steps: 60\n",
      "Episode 17: reward: -10.000, steps: 60\n",
      "Episode 18: reward: 0.000, steps: 60\n",
      "Episode 19: reward: 10.000, steps: 60\n",
      "Episode 20: reward: -8.000, steps: 60\n",
      "Episode 21: reward: -6.000, steps: 60\n",
      "Episode 22: reward: 6.000, steps: 60\n",
      "Episode 23: reward: 0.000, steps: 60\n",
      "Episode 24: reward: -2.000, steps: 60\n",
      "Episode 25: reward: 8.000, steps: 60\n",
      "Episode 26: reward: 6.000, steps: 60\n",
      "Episode 27: reward: 4.000, steps: 60\n",
      "Episode 28: reward: 28.000, steps: 60\n",
      "Episode 29: reward: 0.000, steps: 60\n",
      "Episode 30: reward: 8.000, steps: 60\n",
      "Episode 31: reward: 8.000, steps: 60\n",
      "Episode 32: reward: -4.000, steps: 60\n",
      "Episode 33: reward: -2.000, steps: 60\n",
      "Episode 34: reward: -16.000, steps: 60\n",
      "Episode 35: reward: 0.000, steps: 60\n",
      "Episode 36: reward: -22.000, steps: 60\n",
      "Episode 37: reward: 6.000, steps: 60\n",
      "Episode 38: reward: -2.000, steps: 60\n",
      "Episode 39: reward: 10.000, steps: 60\n",
      "Episode 40: reward: -26.000, steps: 60\n",
      "Episode 41: reward: 2.000, steps: 60\n",
      "Episode 42: reward: 8.000, steps: 60\n",
      "Episode 43: reward: 12.000, steps: 60\n",
      "Episode 44: reward: 4.000, steps: 60\n",
      "Episode 45: reward: 2.000, steps: 60\n",
      "Episode 46: reward: -12.000, steps: 60\n",
      "Episode 47: reward: -14.000, steps: 60\n",
      "Episode 48: reward: -6.000, steps: 60\n",
      "Episode 49: reward: 0.000, steps: 60\n",
      "Episode 50: reward: 14.000, steps: 60\n",
      "Episode 51: reward: 8.000, steps: 60\n",
      "Episode 52: reward: 2.000, steps: 60\n",
      "Episode 53: reward: -6.000, steps: 60\n",
      "Episode 54: reward: 2.000, steps: 60\n",
      "Episode 55: reward: 12.000, steps: 60\n",
      "Episode 56: reward: -10.000, steps: 60\n",
      "Episode 57: reward: -14.000, steps: 60\n",
      "Episode 58: reward: 12.000, steps: 60\n",
      "Episode 59: reward: -4.000, steps: 60\n",
      "Episode 60: reward: 0.000, steps: 60\n",
      "Episode 61: reward: 14.000, steps: 60\n",
      "Episode 62: reward: 14.000, steps: 60\n",
      "Episode 63: reward: 8.000, steps: 60\n",
      "Episode 64: reward: 8.000, steps: 60\n",
      "Episode 65: reward: 8.000, steps: 60\n",
      "Episode 66: reward: 10.000, steps: 60\n",
      "Episode 67: reward: 12.000, steps: 60\n",
      "Episode 68: reward: -2.000, steps: 60\n",
      "Episode 69: reward: 12.000, steps: 60\n",
      "Episode 70: reward: -14.000, steps: 60\n",
      "Episode 71: reward: 10.000, steps: 60\n",
      "Episode 72: reward: -16.000, steps: 60\n",
      "Episode 73: reward: 4.000, steps: 60\n",
      "Episode 74: reward: -12.000, steps: 60\n",
      "Episode 75: reward: 8.000, steps: 60\n",
      "Episode 76: reward: 0.000, steps: 60\n",
      "Episode 77: reward: 6.000, steps: 60\n",
      "Episode 78: reward: 12.000, steps: 60\n",
      "Episode 79: reward: -8.000, steps: 60\n",
      "Episode 80: reward: 24.000, steps: 60\n",
      "Episode 81: reward: -6.000, steps: 60\n",
      "Episode 82: reward: 0.000, steps: 60\n",
      "Episode 83: reward: 16.000, steps: 60\n",
      "Episode 84: reward: -4.000, steps: 60\n",
      "Episode 85: reward: 8.000, steps: 60\n",
      "Episode 86: reward: -2.000, steps: 60\n",
      "Episode 87: reward: -20.000, steps: 60\n",
      "Episode 88: reward: 0.000, steps: 60\n",
      "Episode 89: reward: -2.000, steps: 60\n",
      "Episode 90: reward: 0.000, steps: 60\n",
      "Episode 91: reward: -22.000, steps: 60\n",
      "Episode 92: reward: 14.000, steps: 60\n",
      "Episode 93: reward: -2.000, steps: 60\n",
      "Episode 94: reward: 18.000, steps: 60\n",
      "Episode 95: reward: -8.000, steps: 60\n",
      "Episode 96: reward: 10.000, steps: 60\n",
      "Episode 97: reward: 0.000, steps: 60\n",
      "Episode 98: reward: 12.000, steps: 60\n",
      "Episode 99: reward: -6.000, steps: 60\n",
      "Episode 100: reward: -10.000, steps: 60\n",
      "1.34\n"
     ]
    }
   ],
   "execution_count": 23,
   "source": [
    "scores = dqn.test(env, nb_episodes=100, visualize=False)\n",
    "print(np.mean(scores.history['episode_reward']))"
   ],
   "id": "480c28428c2a347a"
  },
  {
   "metadata": {},
   "cell_type": "code",
   "outputs": [],
   "execution_count": null,
   "source": [],
   "id": "892f339dfb0521a2"
  },
  {
   "metadata": {},
   "cell_type": "code",
   "outputs": [],
   "execution_count": null,
   "source": [],
   "id": "d5d95c43632b1a97"
  },
  {
   "cell_type": "code",
   "source": [
    "os.getcwd()"
   ],
   "metadata": {
    "collapsed": false,
    "ExecuteTime": {
     "end_time": "2024-09-25T18:38:57.978756701Z",
     "start_time": "2024-09-22T14:08:02.664423Z"
    }
   },
   "id": "f8006474c7e95115",
   "outputs": [
    {
     "data": {
      "text/plain": [
       "'/home/loz/Documents/GitHub/MSc-Project/final_code'"
      ]
     },
     "execution_count": 12,
     "metadata": {},
     "output_type": "execute_result"
    }
   ],
   "execution_count": 12
  },
  {
   "cell_type": "code",
   "source": [
    "#os.listdir()"
   ],
   "metadata": {
    "collapsed": false,
    "ExecuteTime": {
     "end_time": "2024-09-25T18:38:57.978788042Z",
     "start_time": "2024-09-22T18:09:26.754832700Z"
    }
   },
   "id": "3efd9c6ae4abd830",
   "outputs": [],
   "execution_count": 26
  },
  {
   "cell_type": "code",
   "source": [
    "# get pre_trained model of SWaT\n",
    "swat_lstm = tf.keras.models.load_model('swat_lstm_100s.keras')\n"
   ],
   "metadata": {
    "collapsed": false,
    "ExecuteTime": {
     "end_time": "2024-09-25T18:38:57.978809833Z",
     "start_time": "2024-09-22T18:09:05.868741200Z"
    }
   },
   "id": "be505a35c8017c05",
   "outputs": [
    {
     "ename": "OSError",
     "evalue": "Unable to synchronously open file (file signature not found)",
     "output_type": "error",
     "traceback": [
      "\u001B[1;31m---------------------------------------------------------------------------\u001B[0m",
      "\u001B[1;31mOSError\u001B[0m                                   Traceback (most recent call last)",
      "Cell \u001B[1;32mIn[24], line 2\u001B[0m\n\u001B[0;32m      1\u001B[0m \u001B[38;5;66;03m# get pre_trained model of SWaT\u001B[39;00m\n\u001B[1;32m----> 2\u001B[0m swat_lstm \u001B[38;5;241m=\u001B[39m \u001B[43mtf\u001B[49m\u001B[38;5;241;43m.\u001B[39;49m\u001B[43mkeras\u001B[49m\u001B[38;5;241;43m.\u001B[39;49m\u001B[43mmodels\u001B[49m\u001B[38;5;241;43m.\u001B[39;49m\u001B[43mload_model\u001B[49m\u001B[43m(\u001B[49m\u001B[38;5;124;43m'\u001B[39;49m\u001B[38;5;124;43mswat_lstm_100s.keras\u001B[39;49m\u001B[38;5;124;43m'\u001B[39;49m\u001B[43m)\u001B[49m\n",
      "File \u001B[1;32m~\\venv\\lib\\site-packages\\keras\\utils\\traceback_utils.py:70\u001B[0m, in \u001B[0;36mfilter_traceback.<locals>.error_handler\u001B[1;34m(*args, **kwargs)\u001B[0m\n\u001B[0;32m     67\u001B[0m     filtered_tb \u001B[38;5;241m=\u001B[39m _process_traceback_frames(e\u001B[38;5;241m.\u001B[39m__traceback__)\n\u001B[0;32m     68\u001B[0m     \u001B[38;5;66;03m# To get the full stack trace, call:\u001B[39;00m\n\u001B[0;32m     69\u001B[0m     \u001B[38;5;66;03m# `tf.debugging.disable_traceback_filtering()`\u001B[39;00m\n\u001B[1;32m---> 70\u001B[0m     \u001B[38;5;28;01mraise\u001B[39;00m e\u001B[38;5;241m.\u001B[39mwith_traceback(filtered_tb) \u001B[38;5;28;01mfrom\u001B[39;00m \u001B[38;5;28;01mNone\u001B[39;00m\n\u001B[0;32m     71\u001B[0m \u001B[38;5;28;01mfinally\u001B[39;00m:\n\u001B[0;32m     72\u001B[0m     \u001B[38;5;28;01mdel\u001B[39;00m filtered_tb\n",
      "File \u001B[1;32m~\\venv\\lib\\site-packages\\h5py\\_hl\\files.py:562\u001B[0m, in \u001B[0;36mFile.__init__\u001B[1;34m(self, name, mode, driver, libver, userblock_size, swmr, rdcc_nslots, rdcc_nbytes, rdcc_w0, track_order, fs_strategy, fs_persist, fs_threshold, fs_page_size, page_buf_size, min_meta_keep, min_raw_keep, locking, alignment_threshold, alignment_interval, meta_block_size, **kwds)\u001B[0m\n\u001B[0;32m    553\u001B[0m     fapl \u001B[38;5;241m=\u001B[39m make_fapl(driver, libver, rdcc_nslots, rdcc_nbytes, rdcc_w0,\n\u001B[0;32m    554\u001B[0m                      locking, page_buf_size, min_meta_keep, min_raw_keep,\n\u001B[0;32m    555\u001B[0m                      alignment_threshold\u001B[38;5;241m=\u001B[39malignment_threshold,\n\u001B[0;32m    556\u001B[0m                      alignment_interval\u001B[38;5;241m=\u001B[39malignment_interval,\n\u001B[0;32m    557\u001B[0m                      meta_block_size\u001B[38;5;241m=\u001B[39mmeta_block_size,\n\u001B[0;32m    558\u001B[0m                      \u001B[38;5;241m*\u001B[39m\u001B[38;5;241m*\u001B[39mkwds)\n\u001B[0;32m    559\u001B[0m     fcpl \u001B[38;5;241m=\u001B[39m make_fcpl(track_order\u001B[38;5;241m=\u001B[39mtrack_order, fs_strategy\u001B[38;5;241m=\u001B[39mfs_strategy,\n\u001B[0;32m    560\u001B[0m                      fs_persist\u001B[38;5;241m=\u001B[39mfs_persist, fs_threshold\u001B[38;5;241m=\u001B[39mfs_threshold,\n\u001B[0;32m    561\u001B[0m                      fs_page_size\u001B[38;5;241m=\u001B[39mfs_page_size)\n\u001B[1;32m--> 562\u001B[0m     fid \u001B[38;5;241m=\u001B[39m make_fid(name, mode, userblock_size, fapl, fcpl, swmr\u001B[38;5;241m=\u001B[39mswmr)\n\u001B[0;32m    564\u001B[0m \u001B[38;5;28;01mif\u001B[39;00m \u001B[38;5;28misinstance\u001B[39m(libver, \u001B[38;5;28mtuple\u001B[39m):\n\u001B[0;32m    565\u001B[0m     \u001B[38;5;28mself\u001B[39m\u001B[38;5;241m.\u001B[39m_libver \u001B[38;5;241m=\u001B[39m libver\n",
      "File \u001B[1;32m~\\venv\\lib\\site-packages\\h5py\\_hl\\files.py:235\u001B[0m, in \u001B[0;36mmake_fid\u001B[1;34m(name, mode, userblock_size, fapl, fcpl, swmr)\u001B[0m\n\u001B[0;32m    233\u001B[0m     \u001B[38;5;28;01mif\u001B[39;00m swmr \u001B[38;5;129;01mand\u001B[39;00m swmr_support:\n\u001B[0;32m    234\u001B[0m         flags \u001B[38;5;241m|\u001B[39m\u001B[38;5;241m=\u001B[39m h5f\u001B[38;5;241m.\u001B[39mACC_SWMR_READ\n\u001B[1;32m--> 235\u001B[0m     fid \u001B[38;5;241m=\u001B[39m \u001B[43mh5f\u001B[49m\u001B[38;5;241;43m.\u001B[39;49m\u001B[43mopen\u001B[49m\u001B[43m(\u001B[49m\u001B[43mname\u001B[49m\u001B[43m,\u001B[49m\u001B[43m \u001B[49m\u001B[43mflags\u001B[49m\u001B[43m,\u001B[49m\u001B[43m \u001B[49m\u001B[43mfapl\u001B[49m\u001B[38;5;241;43m=\u001B[39;49m\u001B[43mfapl\u001B[49m\u001B[43m)\u001B[49m\n\u001B[0;32m    236\u001B[0m \u001B[38;5;28;01melif\u001B[39;00m mode \u001B[38;5;241m==\u001B[39m \u001B[38;5;124m'\u001B[39m\u001B[38;5;124mr+\u001B[39m\u001B[38;5;124m'\u001B[39m:\n\u001B[0;32m    237\u001B[0m     fid \u001B[38;5;241m=\u001B[39m h5f\u001B[38;5;241m.\u001B[39mopen(name, h5f\u001B[38;5;241m.\u001B[39mACC_RDWR, fapl\u001B[38;5;241m=\u001B[39mfapl)\n",
      "File \u001B[1;32mh5py\\\\_objects.pyx:54\u001B[0m, in \u001B[0;36mh5py._objects.with_phil.wrapper\u001B[1;34m()\u001B[0m\n",
      "File \u001B[1;32mh5py\\\\_objects.pyx:55\u001B[0m, in \u001B[0;36mh5py._objects.with_phil.wrapper\u001B[1;34m()\u001B[0m\n",
      "File \u001B[1;32mh5py\\\\h5f.pyx:102\u001B[0m, in \u001B[0;36mh5py.h5f.open\u001B[1;34m()\u001B[0m\n",
      "\u001B[1;31mOSError\u001B[0m: Unable to synchronously open file (file signature not found)"
     ]
    }
   ],
   "execution_count": 24
  },
  {
   "cell_type": "code",
   "execution_count": null,
   "outputs": [],
   "source": [],
   "metadata": {
    "collapsed": false
   },
   "id": "478f1bc17bca7a69"
  }
 ],
 "metadata": {
  "kernelspec": {
   "display_name": "Python 3",
   "language": "python",
   "name": "python3"
  },
  "language_info": {
   "codemirror_mode": {
    "name": "ipython",
    "version": 2
   },
   "file_extension": ".py",
   "mimetype": "text/x-python",
   "name": "python",
   "nbconvert_exporter": "python",
   "pygments_lexer": "ipython2",
   "version": "2.7.6"
  }
 },
 "nbformat": 4,
 "nbformat_minor": 5
}
