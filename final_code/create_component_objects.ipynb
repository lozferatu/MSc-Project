{
 "cells": [
  {
   "metadata": {
    "ExecuteTime": {
     "end_time": "2024-10-03T13:28:19.039281140Z",
     "start_time": "2024-10-03T13:28:18.397122436Z"
    }
   },
   "cell_type": "code",
   "source": [
    "#!pip install matplotlib\n",
    "#!pip install scipy\n",
    "#!pip install networkx\n",
    "#!pip install seaborn\n",
    "#!pip install scikit-learn\n"
   ],
   "outputs": [],
   "execution_count": 1
  },
  {
   "cell_type": "code",
   "metadata": {
    "collapsed": true,
    "ExecuteTime": {
     "end_time": "2024-10-03T13:28:19.045982486Z",
     "start_time": "2024-10-03T13:28:18.397283780Z"
    }
   },
   "source": [
    "import pandas as pd\n",
    "import numpy as np\n",
    "\n",
    "import matplotlib.pyplot as plt\n",
    "import scipy.stats as stats\n",
    "#import statsmodels.api as sm\n",
    "\n",
    "# for type hinting\n",
    "#from typing import List\n",
    "\n",
    "# for pearson corr coef and p values\n",
    "from scipy.stats import pearsonr\n",
    "\n",
    "# For plotting relationships\n",
    "import networkx as nx\n",
    "\n",
    "\n",
    "#from matplotlib.lines import Line2D\n",
    "#from matplotlib.text import Annotation\n",
    "#import seaborn as sns\n",
    "\n",
    "# for non linear coefficients\n",
    "from scipy.stats import spearmanr\n",
    "from scipy.spatial.distance import squareform, pdist\n",
    "from sklearn.feature_selection import mutual_info_regression\n",
    "from sklearn.preprocessing import StandardScaler, MinMaxScaler\n",
    "\n",
    "# get component class from custom module\n",
    "from component_module import Component, plot_correlation_network, plot_component_comparison, getKDEDensity, getDistributionBins, kde_mutual_information, drop_static_columns, performFourierAndLimitHarmonics, scaler_sec_midnight, save_component, load_component, calculate_phase_and_time_difference"
   ],
   "outputs": [],
   "execution_count": 2
  },
  {
   "cell_type": "markdown",
   "source": [
    "See range of values in each column so allow filtering of unchanging values before correlation matrix."
   ],
   "metadata": {
    "collapsed": false
   }
  },
  {
   "cell_type": "code",
   "source": [
    "# windows\n",
    "csv_path = \"/home/loz/MSc/MSc_Project/SWaT DataSWaT 2015-12-23.csv\"\n",
    "converted_path = \"/home/loz/MSc/MSc_Project/SWaT_12_23_sec_orig.csv\"\n",
    "# ubuntu\n",
    "#csv_path = \"/home/loz/Documents/GitHub/MSc-Project/SWaT DataSWaT 2015-12-23.csv\"\n",
    "#converted_path = \"/home/loz/Documents/GitHub/MSc-Project/SWaT_12_23_sec_minmax.csv\"\n",
    "\n",
    "# dataset with original values for step size etc\n",
    "df_orig = pd.read_csv(csv_path, index_col='time_in_seconds')\n",
    "\n",
    "#df_orig.columns\n",
    "# drop time columns and use normal index as 1 second increments anyway\n",
    "#df_orig = df_orig.drop(columns=['Timestamp', 'time', 'date'])\n",
    "# call function to normalise and covert timestamp to seconds since midnight\n",
    "#df_norm_sec = scaler_sec_midnight(csv_path, converted_path, scaler_type='minmax')  \n",
    "\n",
    "# dataset with minmax scaled values\n",
    "df_norm_sec = pd.read_csv(converted_path, index_col='time_in_seconds')\n",
    "\n",
    "df= df_norm_sec.copy()\n",
    "#df_norm_sec"
   ],
   "metadata": {
    "collapsed": false,
    "ExecuteTime": {
     "end_time": "2024-10-03T13:28:44.302457592Z",
     "start_time": "2024-10-03T13:28:43.811743748Z"
    }
   },
   "outputs": [],
   "execution_count": 4
  },
  {
   "cell_type": "markdown",
   "source": [
    "# Create Component Object for Each Component in SWaT Data"
   ],
   "metadata": {
    "collapsed": false
   }
  },
  {
   "cell_type": "markdown",
   "source": [
    "Use a class to hold knowledge about each component which can be updated throughout pipeline. Can include functions which return top antecendent/ dependent modules etc."
   ],
   "metadata": {
    "collapsed": false
   }
  },
  {
   "cell_type": "code",
   "source": [
    "# iterate through every column and create object of component class\n",
    "# dictionary for all component objects\n",
    "# intialise from original data- not normalised\n",
    "components = {}\n",
    "for n, component in enumerate(df_orig.columns):\n",
    "    # print(n, component)\n",
    "    components[component] = Component(name= component, list_position= n, df_orig=df_orig)\n"
   ],
   "metadata": {
    "collapsed": false,
    "ExecuteTime": {
     "end_time": "2024-10-03T13:28:46.837687135Z",
     "start_time": "2024-10-03T13:28:46.741664115Z"
    }
   },
   "outputs": [
    {
     "name": "stderr",
     "output_type": "stream",
     "text": [
      "/home/loz/MSc/MSc_Project/final_code/component_module.py:68: RuntimeWarning: invalid value encountered in scalar divide\n",
      "  norm_step_size = step_size/ (max_value - min_value)\n",
      "/home/loz/MSc/MSc_Project/final_code/component_module.py:72: RuntimeWarning: invalid value encountered in scalar divide\n",
      "  change_ratio = value_range / step_size\n"
     ]
    }
   ],
   "execution_count": 5
  },
  {
   "metadata": {
    "ExecuteTime": {
     "end_time": "2024-10-03T13:28:47.673388964Z",
     "start_time": "2024-10-03T13:28:47.601952811Z"
    }
   },
   "cell_type": "code",
   "source": [
    "components['LIT101'].change_ratio"
   ],
   "outputs": [
    {
     "data": {
      "text/plain": "150.18229379918944"
     },
     "execution_count": 6,
     "metadata": {},
     "output_type": "execute_result"
    }
   ],
   "execution_count": 6
  },
  {
   "cell_type": "markdown",
   "source": [
    "# Make Matrices then update object for each component"
   ],
   "metadata": {
    "collapsed": false
   }
  },
  {
   "metadata": {},
   "cell_type": "markdown",
   "source": [
    "### Calculate the linear (Pearson) correlation matrix"
   ]
  },
  {
   "metadata": {
    "collapsed": false,
    "ExecuteTime": {
     "end_time": "2024-10-03T13:28:51.457688709Z",
     "start_time": "2024-10-03T13:28:49.551093605Z"
    }
   },
   "cell_type": "code",
   "source": [
    "# set linear correaltion attribute\n",
    "\n",
    "#if df.index.name != 'Timestamp':\n",
    "#    df = df.set_index('Timestamp')\n",
    "\n",
    "\n",
    "# Calculate the linear correlation matrix\n",
    "correlation_matrix = df.corr().round(decimals= 4)\n",
    "\n",
    "# DataFrame to store p-values with rows and cols being column names\n",
    "p_values = pd.DataFrame(index=df.columns, columns=df.columns)\n",
    "\n",
    "# Calculate p-values\n",
    "# for every column\n",
    "for col1 in df.columns:\n",
    "    # calculate values with every other column\n",
    "    for col2 in df.columns:\n",
    "        correlation_coefficient, p_value = pearsonr(df[col1], df[col2])\n",
    "        # Save values to corresponding location in p_values df, rounded to 4.d.p\n",
    "        p_values.loc[col1, col2] = round(p_value, 4)\n",
    "\n",
    "# Apply a color gradient to the correlation matrix and display it\n",
    "correlation_matrix_styled  = correlation_matrix.style.background_gradient(cmap='coolwarm').format(precision= 2)\n",
    "p_values_styled  = p_values.style.background_gradient(cmap='coolwarm').format(precision= 2)\n",
    "\n"
   ],
   "outputs": [],
   "execution_count": 7
  },
  {
   "metadata": {
    "ExecuteTime": {
     "end_time": "2024-10-03T13:28:51.467565048Z",
     "start_time": "2024-10-03T13:28:51.458704282Z"
    }
   },
   "cell_type": "code",
   "source": [
    "#correlation_matrix_styled"
   ],
   "outputs": [],
   "execution_count": 8
  },
  {
   "cell_type": "markdown",
   "source": [
    "### Assign relevant linear correllation values to each component object"
   ],
   "metadata": {
    "collapsed": false
   }
  },
  {
   "cell_type": "code",
   "source": [
    "# Set Component objects values\n",
    "for component_name, component_obj in components.items():\n",
    "    if component_name in correlation_matrix.index:\n",
    "        # Convert correlation coefficient row to dict\n",
    "        correlation_dict = {col: value for col, value in zip(correlation_matrix.columns, correlation_matrix.loc[component_name]) if col != component_name }\n",
    "        component_obj.correlation_dict = correlation_dict\n",
    "        #print(component_name, component_obj.correlation_dict )\n",
    "\n",
    "    if component_name in p_values.index:\n",
    "        # Convert p-value row to dict\n",
    "        p_value_dict = {col: value for col, value in zip(p_values.columns, p_values.loc[component_name])}\n",
    "        #p_value_dict = {index: value for index, value in enumerate(p_values.loc[component_name])}\n",
    "        component_obj.p_value_dict = p_value_dict"
   ],
   "metadata": {
    "collapsed": false,
    "ExecuteTime": {
     "end_time": "2024-10-03T13:28:52.688854142Z",
     "start_time": "2024-10-03T13:28:52.630616557Z"
    }
   },
   "outputs": [],
   "execution_count": 9
  },
  {
   "cell_type": "markdown",
   "source": [
    "# Non-Linear Correlation of Components\n",
    "The previous stage looked for linear correlation between components, other non- linear methods were evaluated as the complex interplay of componets could lead to non-linear behaviour even with pairwise linear relationships. These methods look for monatonic relationships- the values for two components consistently change together ( positive or negative)."
   ],
   "metadata": {
    "collapsed": false
   }
  },
  {
   "cell_type": "markdown",
   "source": [
    "### Calculate the correlation matrix using Spearman's rank correlation"
   ],
   "metadata": {
    "collapsed": false
   }
  },
  {
   "cell_type": "code",
   "source": [
    "# Calculate the correlation matrix using Spearman's rank correlation\n",
    "non_lin_correlation_matrix = df.corr(method='spearman').round(decimals=4)\n",
    "\n",
    "# DataFrame to store p-values with rows and cols being column names\n",
    "non_lin_p_values = pd.DataFrame(index=df.columns, columns=df.columns)\n",
    "\n",
    "# Calculate p-values\n",
    "# for every column\n",
    "for col1 in df.columns:\n",
    "    # calculate values with every other column\n",
    "    for col2 in df.columns:\n",
    "        correlation_coefficient, p_value = spearmanr(df[col1], df[col2])\n",
    "        # Save values to corresponding location in p_values df, rounded to 4.d.p\n",
    "        non_lin_p_values.loc[col1, col2] = round(p_value, 4)\n",
    "\n",
    "# Apply a color gradient to the correlation matrix and display it\n",
    "non_lin_correlation_matrix_styled = non_lin_correlation_matrix.style.background_gradient(cmap='coolwarm')\n",
    "non_lin_p_values_styled = non_lin_p_values.style.background_gradient(cmap='coolwarm').format(precision=2)\n"
   ],
   "metadata": {
    "collapsed": false,
    "ExecuteTime": {
     "end_time": "2024-10-03T13:29:02.836207466Z",
     "start_time": "2024-10-03T13:28:54.391759366Z"
    }
   },
   "outputs": [],
   "execution_count": 10
  },
  {
   "cell_type": "code",
   "source": [
    "#non_lin_correlation_dict"
   ],
   "metadata": {
    "collapsed": false,
    "ExecuteTime": {
     "end_time": "2024-10-03T13:29:02.853000570Z",
     "start_time": "2024-10-03T13:29:02.837246354Z"
    }
   },
   "outputs": [],
   "execution_count": 11
  },
  {
   "cell_type": "markdown",
   "source": [
    "### Assign relevant non-linear correlation values to each component object"
   ],
   "metadata": {
    "collapsed": false
   }
  },
  {
   "cell_type": "code",
   "source": [
    "for component_name, component_obj in components.items():\n",
    "     if component_name in non_lin_correlation_matrix.index:\n",
    "        # Convert correlation coefficient row to dict\n",
    "        non_lin_correlation_dict = {col: value for col, value in zip(non_lin_correlation_matrix.columns, non_lin_correlation_matrix.loc[component_name]) if col != component_name}\n",
    "        component_obj.non_lin_correlation_dict = non_lin_correlation_dict\n",
    "        #print(component_name, component_obj.non_lin_correlation_dict )\n",
    "         \n",
    "     if component_name in non_lin_p_values.index:      \n",
    "        # Convert p-value row to dict\n",
    "        non_lin_p_value_dict = {col: value for col, value in zip(non_lin_p_values.columns, non_lin_p_values.loc[component_name])}\n",
    "        #p_value_dict = {index: value for index, value in enumerate(p_values.loc[component_name])}\n",
    "        component_obj.non_lin_p_value_dict = non_lin_p_value_dict"
   ],
   "metadata": {
    "collapsed": false,
    "ExecuteTime": {
     "end_time": "2024-10-03T13:29:03.837954763Z",
     "start_time": "2024-10-03T13:29:03.765271693Z"
    }
   },
   "outputs": [],
   "execution_count": 12
  },
  {
   "cell_type": "code",
   "source": [],
   "metadata": {
    "collapsed": false,
    "ExecuteTime": {
     "end_time": "2024-10-03T13:29:05.010716403Z",
     "start_time": "2024-10-03T13:29:04.927187829Z"
    }
   },
   "outputs": [],
   "execution_count": 12
  },
  {
   "cell_type": "markdown",
   "source": [
    "# Kernel Distributions"
   ],
   "metadata": {
    "collapsed": false
   }
  },
  {
   "cell_type": "markdown",
   "source": [
    "Get distributions for each variable. Get range, divide into 100 bins then count variables ineach. Visualise in plot"
   ],
   "metadata": {
    "collapsed": false
   }
  },
  {
   "metadata": {
    "collapsed": false,
    "ExecuteTime": {
     "end_time": "2024-10-03T13:29:06.493734822Z",
     "start_time": "2024-10-03T13:29:06.435397085Z"
    }
   },
   "cell_type": "code",
   "source": [
    "#df['LIT101']"
   ],
   "outputs": [],
   "execution_count": 13
  },
  {
   "metadata": {
    "collapsed": false,
    "ExecuteTime": {
     "end_time": "2024-10-03T13:29:08.171131110Z",
     "start_time": "2024-10-03T13:29:06.915234533Z"
    }
   },
   "cell_type": "code",
   "source": [
    "# test with FIT101\n",
    "#lit101_dist, bins = getDistribution('LIT101')\n",
    "#plotBinCounts(lit101_dist, bins)\n",
    "\n",
    "getDistributionBins(df, 'LIT101')"
   ],
   "outputs": [
    {
     "name": "stdout",
     "output_type": "stream",
     "text": [
      "Var Range:  0.9999999999999998\n"
     ]
    },
    {
     "name": "stderr",
     "output_type": "stream",
     "text": [
      "/home/loz/MSc/MSc_Project/final_code/component_module.py:513: RuntimeWarning: divide by zero encountered in scalar divide\n",
      "  tick_positions = np.arange(0, len(bin_edges) - 1, rounded_step_size / (bin_edges[1] - bin_edges[0]))\n"
     ]
    },
    {
     "ename": "ValueError",
     "evalue": "Maximum allowed size exceeded",
     "output_type": "error",
     "traceback": [
      "\u001B[0;31m---------------------------------------------------------------------------\u001B[0m",
      "\u001B[0;31mValueError\u001B[0m                                Traceback (most recent call last)",
      "Cell \u001B[0;32mIn[14], line 5\u001B[0m\n\u001B[1;32m      1\u001B[0m \u001B[38;5;66;03m# test with FIT101\u001B[39;00m\n\u001B[1;32m      2\u001B[0m \u001B[38;5;66;03m#lit101_dist, bins = getDistribution('LIT101')\u001B[39;00m\n\u001B[1;32m      3\u001B[0m \u001B[38;5;66;03m#plotBinCounts(lit101_dist, bins)\u001B[39;00m\n\u001B[0;32m----> 5\u001B[0m \u001B[43mgetDistributionBins\u001B[49m\u001B[43m(\u001B[49m\u001B[43mdf\u001B[49m\u001B[43m,\u001B[49m\u001B[43m \u001B[49m\u001B[38;5;124;43m'\u001B[39;49m\u001B[38;5;124;43mLIT101\u001B[39;49m\u001B[38;5;124;43m'\u001B[39;49m\u001B[43m)\u001B[49m\n",
      "File \u001B[0;32m~/MSc/MSc_Project/final_code/component_module.py:482\u001B[0m, in \u001B[0;36mgetDistributionBins\u001B[0;34m(df, variable_col, save_path)\u001B[0m\n\u001B[1;32m    479\u001B[0m bin_counts \u001B[38;5;241m=\u001B[39m df_distributions[variable_col \u001B[38;5;241m+\u001B[39m \u001B[38;5;124m'\u001B[39m\u001B[38;5;124m_bins\u001B[39m\u001B[38;5;124m'\u001B[39m]\u001B[38;5;241m.\u001B[39mvalue_counts()\u001B[38;5;241m.\u001B[39msort_index()\n\u001B[1;32m    481\u001B[0m \u001B[38;5;66;03m# call sisualisation function\u001B[39;00m\n\u001B[0;32m--> 482\u001B[0m \u001B[43mplotBinCounts\u001B[49m\u001B[43m(\u001B[49m\u001B[43mvariable_col\u001B[49m\u001B[43m,\u001B[49m\u001B[43m \u001B[49m\u001B[43mbin_counts\u001B[49m\u001B[43m,\u001B[49m\u001B[43m \u001B[49m\u001B[43mbins\u001B[49m\u001B[43m,\u001B[49m\u001B[43m \u001B[49m\u001B[43msave_path\u001B[49m\u001B[43m)\u001B[49m\n",
      "File \u001B[0;32m~/MSc/MSc_Project/final_code/component_module.py:513\u001B[0m, in \u001B[0;36mplotBinCounts\u001B[0;34m(name, bin_counts, bin_edges, save_path)\u001B[0m\n\u001B[1;32m    510\u001B[0m rounded_step_size \u001B[38;5;241m=\u001B[39m \u001B[38;5;28mround\u001B[39m(step_size \u001B[38;5;241m/\u001B[39m \u001B[38;5;241m10\u001B[39m) \u001B[38;5;241m*\u001B[39m \u001B[38;5;241m10\u001B[39m\n\u001B[1;32m    512\u001B[0m \u001B[38;5;66;03m# Generate custom tick positions and labels\u001B[39;00m\n\u001B[0;32m--> 513\u001B[0m tick_positions \u001B[38;5;241m=\u001B[39m \u001B[43mnp\u001B[49m\u001B[38;5;241;43m.\u001B[39;49m\u001B[43marange\u001B[49m\u001B[43m(\u001B[49m\u001B[38;5;241;43m0\u001B[39;49m\u001B[43m,\u001B[49m\u001B[43m \u001B[49m\u001B[38;5;28;43mlen\u001B[39;49m\u001B[43m(\u001B[49m\u001B[43mbin_edges\u001B[49m\u001B[43m)\u001B[49m\u001B[43m \u001B[49m\u001B[38;5;241;43m-\u001B[39;49m\u001B[43m \u001B[49m\u001B[38;5;241;43m1\u001B[39;49m\u001B[43m,\u001B[49m\u001B[43m \u001B[49m\u001B[43mrounded_step_size\u001B[49m\u001B[43m \u001B[49m\u001B[38;5;241;43m/\u001B[39;49m\u001B[43m \u001B[49m\u001B[43m(\u001B[49m\u001B[43mbin_edges\u001B[49m\u001B[43m[\u001B[49m\u001B[38;5;241;43m1\u001B[39;49m\u001B[43m]\u001B[49m\u001B[43m \u001B[49m\u001B[38;5;241;43m-\u001B[39;49m\u001B[43m \u001B[49m\u001B[43mbin_edges\u001B[49m\u001B[43m[\u001B[49m\u001B[38;5;241;43m0\u001B[39;49m\u001B[43m]\u001B[49m\u001B[43m)\u001B[49m\u001B[43m)\u001B[49m\n\u001B[1;32m    514\u001B[0m tick_labels \u001B[38;5;241m=\u001B[39m [\u001B[38;5;124mf\u001B[39m\u001B[38;5;124m\"\u001B[39m\u001B[38;5;132;01m{\u001B[39;00mbin_edges[\u001B[38;5;28mint\u001B[39m(pos)]\u001B[38;5;132;01m:\u001B[39;00m\u001B[38;5;124m.0f\u001B[39m\u001B[38;5;132;01m}\u001B[39;00m\u001B[38;5;124m\"\u001B[39m \u001B[38;5;28;01mfor\u001B[39;00m pos \u001B[38;5;129;01min\u001B[39;00m tick_positions]\n\u001B[1;32m    516\u001B[0m \u001B[38;5;66;03m# Set x-ticks to represent the overall value range of the bins\u001B[39;00m\n",
      "\u001B[0;31mValueError\u001B[0m: Maximum allowed size exceeded"
     ]
    },
    {
     "data": {
      "text/plain": "<Figure size 1000x600 with 1 Axes>",
      "image/png": "[encoded data removed]"
     },
     "metadata": {},
     "output_type": "display_data"
    }
   ],
   "execution_count": 14
  },
  {
   "metadata": {
    "collapsed": false,
    "ExecuteTime": {
     "start_time": "2024-10-03T13:29:08.150180041Z"
    }
   },
   "cell_type": "code",
   "outputs": [],
   "execution_count": null,
   "source": [
    "getKDEDensity(df, 'LIT101', save_path='D:\\GitHub\\MSc-Project-March\\Write_Up\\Charts\\lit_101_kde_plot.jpeg')"
   ]
  },
  {
   "metadata": {
    "collapsed": false,
    "ExecuteTime": {
     "start_time": "2024-10-03T13:29:08.151394820Z"
    }
   },
   "cell_type": "code",
   "source": [
    "getKDEDensity(df, 'MV101')"
   ],
   "outputs": [],
   "execution_count": null
  },
  {
   "cell_type": "markdown",
   "source": [
    "# Calculate mutual information between features\n",
    "mutual_info_matrix = pd.DataFrame(index=df.columns, columns=df.columns)\n",
    "\n",
    "# Calculate mutual information\n",
    "for col1 in df.columns:\n",
    "    for col2 in df.columns:\n",
    "        mutual_info = mutual_info_regression(df[[col1]], df[col2])[0]\n",
    "        mutual_info_matrix.loc[col1, col2] = mutual_info\n",
    "\n",
    "# Display the mutual information matrix\n",
    "print(mutual_info_matrix)\n"
   ],
   "metadata": {
    "collapsed": false
   }
  },
  {
   "cell_type": "markdown",
   "source": [
    "# using scaled already\n",
    "scaler = StandardScaler()\n",
    "df_normalised = scaler.fit_transform(df)\n",
    "# convert back to df\n",
    "df_normalised = pd.DataFrame(df_normalised, columns=df.columns)"
   ],
   "metadata": {
    "collapsed": false
   }
  },
  {
   "metadata": {
    "collapsed": false,
    "ExecuteTime": {
     "end_time": "2024-10-03T13:29:09.836982065Z",
     "start_time": "2024-10-03T13:29:09.794082288Z"
    }
   },
   "cell_type": "code",
   "source": [
    "#mi_lit101 = kde_mutual_information(df_normalised, 'LIT101', num_points=100, n_jobs=-1)\n",
    "#print(mi_lit101)"
   ],
   "outputs": [],
   "execution_count": 15
  },
  {
   "metadata": {},
   "cell_type": "markdown",
   "source": [
    "# slow so son't re-run. Import df instead\n",
    "\n",
    "mi_results_df = pd.DataFrame()\n",
    "for component_name, component_obj in components.items():\n",
    "\n",
    "    try:\n",
    "        mi_results = kde_mutual_information(df_normalised, component_name, num_points=100, n_jobs=-1)\n",
    "        mi_results_df[component_name] = mi_results\n",
    "    except Exception as e:\n",
    "        # In case of error, add a column of NaNs\n",
    "        mi_results_df[component_name] = np.nan\n",
    "        print(f\"Error calculating MI for {component_name}: {e}\")\n",
    "\n",
    "    print(f\"Finished:{component_name}\")\n",
    "\n",
    "# Transpose the result to make each row represent a component and each column an MI score\n",
    "mi_results_df = mi_results_df.T\n",
    "\n",
    "# Fill any missing values (optional, this step is already handled)\n",
    "mi_results_df.fillna(np.nan, inplace=True)\n",
    "\n",
    "# Print the final DataFrame\n",
    "print(mi_results_df)"
   ]
  },
  {
   "metadata": {
    "collapsed": false,
    "ExecuteTime": {
     "end_time": "2024-10-03T13:29:10.644542563Z",
     "start_time": "2024-10-03T13:29:10.576678814Z"
    }
   },
   "cell_type": "code",
   "source": [
    "#mi_results_df.to_csv('D:\\GitHub\\MSc-Project-March\\SWaT Data\\mi_results.csv', index=False)"
   ],
   "outputs": [],
   "execution_count": 16
  },
  {
   "cell_type": "code",
   "source": [
    "# get previously run results\n",
    "#mi_results_df = pd.read_csv('D:\\GitHub\\MSc-Project-March\\SWaT Data\\mi_results.csv')\n",
    "# ubuntu\n",
    "mi_results_df = pd.read_csv('/home/loz/MSc/MSc_Project/SWaT Data/mi_results.csv')"
   ],
   "metadata": {
    "collapsed": false,
    "ExecuteTime": {
     "end_time": "2024-10-03T13:30:06.167750054Z",
     "start_time": "2024-10-03T13:30:06.096166992Z"
    }
   },
   "outputs": [],
   "execution_count": 20
  },
  {
   "cell_type": "code",
   "source": [
    "mi_results_df.rename(columns={'Unnamed: 0':'Component'}, inplace=True)\n",
    "mi_results_df.set_index('Component', inplace=True)\n",
    "mi_results_df.index"
   ],
   "metadata": {
    "collapsed": false,
    "ExecuteTime": {
     "end_time": "2024-10-03T13:30:08.087775235Z",
     "start_time": "2024-10-03T13:30:08.014135466Z"
    }
   },
   "outputs": [
    {
     "data": {
      "text/plain": "Index(['FIT101', 'LIT101', 'MV101', 'P101', 'AIT201', 'AIT202', 'AIT203',\n       'FIT201', 'MV201', 'P203', 'P205', 'DPIT301', 'FIT301', 'LIT301',\n       'MV301', 'MV302', 'MV303', 'MV304', 'P301', 'P302', 'AIT401', 'AIT402',\n       'FIT401', 'LIT401', 'P402', 'UV401', 'AIT501', 'AIT502', 'AIT503',\n       'AIT504', 'FIT501', 'FIT502', 'FIT503', 'FIT504', 'P501', 'PIT501',\n       'PIT502', 'PIT503', 'FIT601', 'P602'],\n      dtype='object', name='Component')"
     },
     "execution_count": 21,
     "metadata": {},
     "output_type": "execute_result"
    }
   ],
   "execution_count": 21
  },
  {
   "cell_type": "code",
   "source": [
    "#mi_results_df"
   ],
   "metadata": {
    "collapsed": false,
    "ExecuteTime": {
     "end_time": "2024-10-03T13:30:09.052059254Z",
     "start_time": "2024-10-03T13:30:08.982179280Z"
    }
   },
   "outputs": [],
   "execution_count": 22
  },
  {
   "cell_type": "code",
   "source": [
    "#components"
   ],
   "metadata": {
    "collapsed": false,
    "ExecuteTime": {
     "end_time": "2024-10-03T13:30:09.700915522Z",
     "start_time": "2024-10-03T13:30:09.599506198Z"
    }
   },
   "outputs": [],
   "execution_count": 23
  },
  {
   "metadata": {
    "collapsed": false,
    "ExecuteTime": {
     "end_time": "2024-10-03T13:40:09.249307727Z",
     "start_time": "2024-10-03T13:40:09.171632458Z"
    }
   },
   "cell_type": "code",
   "source": [
    "# set mi attribute with dict for each component\n",
    "for component_name, component in components.items():\n",
    "    if component_name in mi_results_df.columns:\n",
    "        component.mutual_info_dict = mi_results_df[component_name]\n",
    "    else:\n",
    "        component.mutual_info_dict = {}\n"
   ],
   "outputs": [],
   "execution_count": 59
  },
  {
   "cell_type": "markdown",
   "source": [
    "1,FIT-101,Sensor,Flow meter; Measures inflow into raw water tank.\n",
    "2,LIT-101,Sensor,Level Transmitter; Raw water tank level.\n",
    "3,MV-101,Actuator,Motorized valve; Controls water flow to the raw water tank."
   ],
   "metadata": {
    "collapsed": false
   }
  },
  {
   "cell_type": "markdown",
   "source": [
    "# Calculate FFT and set Phase & Time Difference"
   ],
   "metadata": {
    "collapsed": false
   }
  },
  {
   "metadata": {
    "ExecuteTime": {
     "end_time": "2024-10-03T13:40:21.428132Z",
     "start_time": "2024-10-03T13:40:12.687069142Z"
    }
   },
   "cell_type": "code",
   "source": [
    "#calculate_phase_and_time_difference(df_orig, 'LIT101', 'FIT101')\n",
    "# make dict with every componet with a list of dict with phase diff for every other component where posssible\n",
    "phase_dict = {}\n",
    "for col_1 in df_orig.columns:\n",
    "    phase_dict[col_1] = {}\n",
    "    for col_2 in df_orig.columns:\n",
    "        try:\n",
    "            phase, time_diff = calculate_phase_and_time_difference(df_orig, col_1, col_2)\n",
    "            phase_dict[col_1][col_2] = {'phase': phase, 'time_diff': time_diff}\n",
    "        # catch errors in missing values etc\n",
    "        except Exception as e:\n",
    "            phase_dict[col_1][col_2] = {'phase': 9999, 'time_diff': 9999}\n",
    "\n",
    "phase_dict['LIT101']\n",
    "phase_dict['LIT101']['FIT503']"
   ],
   "outputs": [
    {
     "name": "stderr",
     "output_type": "stream",
     "text": [
      "/home/loz/MSc/MSc_Project/final_code/component_module.py:812: RuntimeWarning: divide by zero encountered in scalar divide\n",
      "  time_difference = phase_difference / (2 * np.pi * avg_freq)\n"
     ]
    },
    {
     "data": {
      "text/plain": "{'phase': 2.0303257741907172, 'time_diff': 2233.5186796369826}"
     },
     "execution_count": 60,
     "metadata": {},
     "output_type": "execute_result"
    }
   ],
   "execution_count": 60
  },
  {
   "metadata": {
    "ExecuteTime": {
     "end_time": "2024-10-03T13:40:21.438804798Z",
     "start_time": "2024-10-03T13:40:21.417251390Z"
    }
   },
   "cell_type": "code",
   "source": [
    "# sort values\n",
    "for key, value in phase_dict.items(): \n",
    "    \n",
    "    # check for dict  \n",
    "    if isinstance(value, dict):    \n",
    "        # sort\n",
    "        sorted_items = sorted(value.items(), key=lambda x: x[1]['time_diff'])\n",
    "        \n",
    "        # back to dict\n",
    "        phase_dict[key] = dict(sorted_items) \n"
   ],
   "outputs": [],
   "execution_count": 61
  },
  {
   "metadata": {
    "ExecuteTime": {
     "end_time": "2024-10-03T13:40:21.439040583Z",
     "start_time": "2024-10-03T13:40:21.417406683Z"
    }
   },
   "cell_type": "code",
   "source": [
    "# set wave_diff_dict attribute of each component\n",
    "for component_name, component_obj in components.items():\n",
    "    if component_name in phase_dict.keys():\n",
    "        \n",
    "        # drop self comparison\n",
    "        wave_diff_dict = {col: value for col, value in phase_dict[component_name].items() if col != component_name}\n",
    "        # set attribute\n",
    "        component_obj.wave_diff_dict = wave_diff_dict\n",
    "    else:\n",
    "        # set an empty dict as default\n",
    "        print(component_name)\n",
    "        component_obj.wave_diff_dict = {}\n"
   ],
   "outputs": [],
   "execution_count": 62
  },
  {
   "cell_type": "code",
   "execution_count": 63,
   "outputs": [
    {
     "data": {
      "text/plain": "{'MV302': {'phase': 3.0784821702536207, 'time_diff': -4031.6351008412935},\n 'P602': {'phase': -2.608830535392224, 'time_diff': -1793.6997497139528},\n 'FIT301': {'phase': -2.4813617108210613, 'time_diff': -1706.0586417048994},\n 'PIT502': {'phase': -1.2526555246729587, 'time_diff': -1497.847820817523},\n 'AIT203': {'phase': -1.1460466357619095, 'time_diff': -1370.3715204380692},\n 'AIT501': {'phase': -1.1981514606161852, 'time_diff': -1318.0612206862559},\n 'AIT504': {'phase': -0.9051393936441574, 'time_diff': -1131.5054645856146},\n 'FIT502': {'phase': -0.9625901744355627, 'time_diff': -1058.9252044016537},\n 'DPIT301': {'phase': -2.158923040416133, 'time_diff': -973.354847287051},\n 'AIT201': {'phase': -1.049789438411084, 'time_diff': -962.3760671738239},\n 'P302': {'phase': -2.0964077833016534, 'time_diff': -945.1697163663833},\n 'AIT202': {'phase': -1.8041079100036126, 'time_diff': -708.8075590585698},\n 'MV304': {'phase': -2.5364781603950304, 'time_diff': -147.48024702011904},\n 'MV301': {'phase': -0.32652471932472255, 'time_diff': -6.150735887342595},\n 'P301': {'phase': 2.561770505174461, 'time_diff': 6.242578969807271},\n 'LIT301': {'phase': 1.4738217524757868, 'time_diff': 1013.3251940572475},\n 'LIT401': {'phase': 2.21268106526943, 'time_diff': 1521.3274373813929},\n 'FIT101': {'phase': 2.5263780217198546, 'time_diff': 1737.009577189895},\n 'MV101': {'phase': 2.538419032369298, 'time_diff': 1745.2883662853174},\n 'FIT401': {'phase': 2.560366044151451, 'time_diff': 1760.3780200618123},\n 'FIT501': {'phase': 2.5625599256863576, 'time_diff': 1761.8864218942342},\n 'AIT502': {'phase': 2.8977209730822766, 'time_diff': 1992.326183569878},\n 'P205': {'phase': 2.99096612967513, 'time_diff': 2056.4368307635614},\n 'AIT402': {'phase': 3.030432802730424, 'time_diff': 2083.5721163334542},\n 'PIT503': {'phase': 1.965151866135729, 'time_diff': 2161.822234211232},\n 'PIT501': {'phase': 1.9721070888983547, 'time_diff': 2169.4735284807703},\n 'FIT503': {'phase': 2.0303257741907172, 'time_diff': 2233.5186796369826},\n 'FIT201': {'phase': 3.418961823165965, 'time_diff': 2350.7049934051574},\n 'P203': {'phase': 3.4193604992378996, 'time_diff': 2350.9791028809336},\n 'MV201': {'phase': 3.42608422829807, 'time_diff': 2355.6019984537807},\n 'P101': {'phase': 3.4273879908226283, 'time_diff': 2356.4983995355146},\n 'AIT401': {'phase': 2.1525881894650984, 'time_diff': 2466.684365721147},\n 'AIT503': {'phase': 2.08086052583992, 'time_diff': 3366.3395544282525},\n 'FIT504': {'phase': 2.098803043013641, 'time_diff': 3395.3662981805874},\n 'P102': {'phase': 9999, 'time_diff': 9999},\n 'P201': {'phase': 9999, 'time_diff': 9999},\n 'P202': {'phase': 9999, 'time_diff': 9999},\n 'P204': {'phase': 9999, 'time_diff': 9999},\n 'P206': {'phase': 9999, 'time_diff': 9999},\n 'P401': {'phase': 9999, 'time_diff': 9999},\n 'P402': {'phase': 9999, 'time_diff': 9999},\n 'P403': {'phase': 9999, 'time_diff': 9999},\n 'P404': {'phase': 9999, 'time_diff': 9999},\n 'UV401': {'phase': 9999, 'time_diff': 9999},\n 'P501': {'phase': 9999, 'time_diff': 9999},\n 'P502': {'phase': 9999, 'time_diff': 9999},\n 'P601': {'phase': 9999, 'time_diff': 9999},\n 'P603': {'phase': 9999, 'time_diff': 9999},\n 'MV303': {'phase': 3.5664675772029226, 'time_diff': inf},\n 'FIT601': {'phase': 3.5327329396766376, 'time_diff': inf}}"
     },
     "execution_count": 63,
     "metadata": {},
     "output_type": "execute_result"
    }
   ],
   "source": [
    "components['LIT101'].wave_diff_dict"
   ],
   "metadata": {
    "collapsed": false,
    "ExecuteTime": {
     "end_time": "2024-10-03T13:40:29.822214092Z",
     "start_time": "2024-10-03T13:40:29.743963406Z"
    }
   }
  },
  {
   "metadata": {
    "ExecuteTime": {
     "end_time": "2024-10-03T13:31:08.688107717Z",
     "start_time": "2024-10-03T13:31:08.625789070Z"
    }
   },
   "cell_type": "code",
   "source": [
    "#components['LIT101'].wave_diff_dict\n",
    "#df_lit_phase = pd.DataFrame(components['LIT101'].wave_diff_dict.T)\n",
    "#df_lit_phase = df_lit_phase.T\n",
    "#df_lit_phase = df_lit_phase.round(decimals= 2)"
   ],
   "outputs": [],
   "execution_count": 28
  },
  {
   "metadata": {
    "ExecuteTime": {
     "end_time": "2024-10-03T13:31:08.965007665Z",
     "start_time": "2024-10-03T13:31:08.902859809Z"
    }
   },
   "cell_type": "code",
   "source": [
    "#df_lit_cut = df_lit_phase.iloc[10:18]\n",
    "#df_lit_cut"
   ],
   "outputs": [],
   "execution_count": 29
  },
  {
   "metadata": {
    "collapsed": false,
    "ExecuteTime": {
     "end_time": "2024-10-03T13:31:09.222180372Z",
     "start_time": "2024-10-03T13:31:09.149832601Z"
    }
   },
   "cell_type": "code",
   "source": [
    "#sorted_phase_MV101 = sorted(phase_dict['MV101'], key=lambda x: x['time_diff'])\n",
    "#f_phase = pd.DataFrame(sorted_phase_MV101)\n",
    "#df_phase.loc['P101',]\n",
    "#df_phase.iloc[20:30,]"
   ],
   "outputs": [],
   "execution_count": 30
  },
  {
   "metadata": {
    "collapsed": false,
    "ExecuteTime": {
     "end_time": "2024-10-03T13:31:09.804600851Z",
     "start_time": "2024-10-03T13:31:09.774528481Z"
    }
   },
   "cell_type": "code",
   "outputs": [
    {
     "ename": "NameError",
     "evalue": "name 'switch_ratio' is not defined",
     "output_type": "error",
     "traceback": [
      "\u001B[0;31m---------------------------------------------------------------------------\u001B[0m",
      "\u001B[0;31mNameError\u001B[0m                                 Traceback (most recent call last)",
      "Cell \u001B[0;32mIn[31], line 1\u001B[0m\n\u001B[0;32m----> 1\u001B[0m \u001B[43mswitch_ratio\u001B[49m(components[\u001B[38;5;124m'\u001B[39m\u001B[38;5;124mFIT101\u001B[39m\u001B[38;5;124m'\u001B[39m])\n",
      "\u001B[0;31mNameError\u001B[0m: name 'switch_ratio' is not defined"
     ]
    }
   ],
   "execution_count": 31,
   "source": [
    "switch_ratio(components['FIT101'])"
   ]
  },
  {
   "metadata": {
    "ExecuteTime": {
     "end_time": "2024-10-03T13:31:16.013301464Z",
     "start_time": "2024-10-03T13:31:15.920307389Z"
    }
   },
   "cell_type": "code",
   "outputs": [],
   "execution_count": 31,
   "source": []
  },
  {
   "metadata": {},
   "cell_type": "markdown",
   "source": [
    "# Serialising Component Objects"
   ]
  },
  {
   "metadata": {
    "ExecuteTime": {
     "end_time": "2024-10-03T13:40:38.644943771Z",
     "start_time": "2024-10-03T13:40:38.553472110Z"
    }
   },
   "cell_type": "code",
   "source": [
    "object_saves = {}\n",
    "path = '/home/loz/MSc/MSc_Project/final_code/component_objs'\n",
    "for component_name, component_obj in components.items():    \n",
    "    filename = path + component_name\n",
    "    save_component(component_obj, filename)\n",
    "    object_saves[component_name] = filename\n",
    "\n",
    "object_saves[component_name] = filename\n",
    "component_filename = pd.DataFrame.from_dict(object_saves, orient='index', columns=['filename'])\n",
    "component_filename.to_csv(path + 'component_filenames.csv', index=True)"
   ],
   "outputs": [
    {
     "name": "stdout",
     "output_type": "stream",
     "text": [
      "Component 'FIT101' saved to /home/loz/MSc/MSc_Project/final_code/component_objsFIT101.\n",
      "Component 'LIT101' saved to /home/loz/MSc/MSc_Project/final_code/component_objsLIT101.\n",
      "Component 'MV101' saved to /home/loz/MSc/MSc_Project/final_code/component_objsMV101.\n",
      "Component 'P101' saved to /home/loz/MSc/MSc_Project/final_code/component_objsP101.\n",
      "Component 'P102' saved to /home/loz/MSc/MSc_Project/final_code/component_objsP102.\n",
      "Component 'AIT201' saved to /home/loz/MSc/MSc_Project/final_code/component_objsAIT201.\n",
      "Component 'AIT202' saved to /home/loz/MSc/MSc_Project/final_code/component_objsAIT202.\n",
      "Component 'AIT203' saved to /home/loz/MSc/MSc_Project/final_code/component_objsAIT203.\n",
      "Component 'FIT201' saved to /home/loz/MSc/MSc_Project/final_code/component_objsFIT201.\n",
      "Component 'MV201' saved to /home/loz/MSc/MSc_Project/final_code/component_objsMV201.\n",
      "Component 'P201' saved to /home/loz/MSc/MSc_Project/final_code/component_objsP201.\n",
      "Component 'P202' saved to /home/loz/MSc/MSc_Project/final_code/component_objsP202.\n",
      "Component 'P203' saved to /home/loz/MSc/MSc_Project/final_code/component_objsP203.\n",
      "Component 'P204' saved to /home/loz/MSc/MSc_Project/final_code/component_objsP204.\n",
      "Component 'P205' saved to /home/loz/MSc/MSc_Project/final_code/component_objsP205.\n",
      "Component 'P206' saved to /home/loz/MSc/MSc_Project/final_code/component_objsP206.\n",
      "Component 'DPIT301' saved to /home/loz/MSc/MSc_Project/final_code/component_objsDPIT301.\n",
      "Component 'FIT301' saved to /home/loz/MSc/MSc_Project/final_code/component_objsFIT301.\n",
      "Component 'LIT301' saved to /home/loz/MSc/MSc_Project/final_code/component_objsLIT301.\n",
      "Component 'MV301' saved to /home/loz/MSc/MSc_Project/final_code/component_objsMV301.\n",
      "Component 'MV302' saved to /home/loz/MSc/MSc_Project/final_code/component_objsMV302.\n",
      "Component 'MV303' saved to /home/loz/MSc/MSc_Project/final_code/component_objsMV303.\n",
      "Component 'MV304' saved to /home/loz/MSc/MSc_Project/final_code/component_objsMV304.\n",
      "Component 'P301' saved to /home/loz/MSc/MSc_Project/final_code/component_objsP301.\n",
      "Component 'P302' saved to /home/loz/MSc/MSc_Project/final_code/component_objsP302.\n",
      "Component 'AIT401' saved to /home/loz/MSc/MSc_Project/final_code/component_objsAIT401.\n",
      "Component 'AIT402' saved to /home/loz/MSc/MSc_Project/final_code/component_objsAIT402.\n",
      "Component 'FIT401' saved to /home/loz/MSc/MSc_Project/final_code/component_objsFIT401.\n",
      "Component 'LIT401' saved to /home/loz/MSc/MSc_Project/final_code/component_objsLIT401.\n",
      "Component 'P401' saved to /home/loz/MSc/MSc_Project/final_code/component_objsP401.\n",
      "Component 'P402' saved to /home/loz/MSc/MSc_Project/final_code/component_objsP402.\n",
      "Component 'P403' saved to /home/loz/MSc/MSc_Project/final_code/component_objsP403.\n",
      "Component 'P404' saved to /home/loz/MSc/MSc_Project/final_code/component_objsP404.\n",
      "Component 'UV401' saved to /home/loz/MSc/MSc_Project/final_code/component_objsUV401.\n",
      "Component 'AIT501' saved to /home/loz/MSc/MSc_Project/final_code/component_objsAIT501.\n",
      "Component 'AIT502' saved to /home/loz/MSc/MSc_Project/final_code/component_objsAIT502.\n",
      "Component 'AIT503' saved to /home/loz/MSc/MSc_Project/final_code/component_objsAIT503.\n",
      "Component 'AIT504' saved to /home/loz/MSc/MSc_Project/final_code/component_objsAIT504.\n",
      "Component 'FIT501' saved to /home/loz/MSc/MSc_Project/final_code/component_objsFIT501.\n",
      "Component 'FIT502' saved to /home/loz/MSc/MSc_Project/final_code/component_objsFIT502.\n",
      "Component 'FIT503' saved to /home/loz/MSc/MSc_Project/final_code/component_objsFIT503.\n",
      "Component 'FIT504' saved to /home/loz/MSc/MSc_Project/final_code/component_objsFIT504.\n",
      "Component 'P501' saved to /home/loz/MSc/MSc_Project/final_code/component_objsP501.\n",
      "Component 'P502' saved to /home/loz/MSc/MSc_Project/final_code/component_objsP502.\n",
      "Component 'PIT501' saved to /home/loz/MSc/MSc_Project/final_code/component_objsPIT501.\n",
      "Component 'PIT502' saved to /home/loz/MSc/MSc_Project/final_code/component_objsPIT502.\n",
      "Component 'PIT503' saved to /home/loz/MSc/MSc_Project/final_code/component_objsPIT503.\n",
      "Component 'FIT601' saved to /home/loz/MSc/MSc_Project/final_code/component_objsFIT601.\n",
      "Component 'P601' saved to /home/loz/MSc/MSc_Project/final_code/component_objsP601.\n",
      "Component 'P602' saved to /home/loz/MSc/MSc_Project/final_code/component_objsP602.\n",
      "Component 'P603' saved to /home/loz/MSc/MSc_Project/final_code/component_objsP603.\n"
     ]
    }
   ],
   "execution_count": 64
  },
  {
   "cell_type": "code",
   "execution_count": 65,
   "outputs": [
    {
     "name": "stdout",
     "output_type": "stream",
     "text": [
      "Component 'FIT101' has been loaded from /home/loz/MSc/MSc_Project/final_code/component_objsFIT101.\n",
      "Component 'LIT101' has been loaded from /home/loz/MSc/MSc_Project/final_code/component_objsLIT101.\n",
      "Component 'MV101' has been loaded from /home/loz/MSc/MSc_Project/final_code/component_objsMV101.\n",
      "Component 'P101' has been loaded from /home/loz/MSc/MSc_Project/final_code/component_objsP101.\n",
      "Component 'P102' has been loaded from /home/loz/MSc/MSc_Project/final_code/component_objsP102.\n",
      "Component 'AIT201' has been loaded from /home/loz/MSc/MSc_Project/final_code/component_objsAIT201.\n",
      "Component 'AIT202' has been loaded from /home/loz/MSc/MSc_Project/final_code/component_objsAIT202.\n",
      "Component 'AIT203' has been loaded from /home/loz/MSc/MSc_Project/final_code/component_objsAIT203.\n",
      "Component 'FIT201' has been loaded from /home/loz/MSc/MSc_Project/final_code/component_objsFIT201.\n",
      "Component 'MV201' has been loaded from /home/loz/MSc/MSc_Project/final_code/component_objsMV201.\n",
      "Component 'P201' has been loaded from /home/loz/MSc/MSc_Project/final_code/component_objsP201.\n",
      "Component 'P202' has been loaded from /home/loz/MSc/MSc_Project/final_code/component_objsP202.\n",
      "Component 'P203' has been loaded from /home/loz/MSc/MSc_Project/final_code/component_objsP203.\n",
      "Component 'P204' has been loaded from /home/loz/MSc/MSc_Project/final_code/component_objsP204.\n",
      "Component 'P205' has been loaded from /home/loz/MSc/MSc_Project/final_code/component_objsP205.\n",
      "Component 'P206' has been loaded from /home/loz/MSc/MSc_Project/final_code/component_objsP206.\n",
      "Component 'DPIT301' has been loaded from /home/loz/MSc/MSc_Project/final_code/component_objsDPIT301.\n",
      "Component 'FIT301' has been loaded from /home/loz/MSc/MSc_Project/final_code/component_objsFIT301.\n",
      "Component 'LIT301' has been loaded from /home/loz/MSc/MSc_Project/final_code/component_objsLIT301.\n",
      "Component 'MV301' has been loaded from /home/loz/MSc/MSc_Project/final_code/component_objsMV301.\n",
      "Component 'MV302' has been loaded from /home/loz/MSc/MSc_Project/final_code/component_objsMV302.\n",
      "Component 'MV303' has been loaded from /home/loz/MSc/MSc_Project/final_code/component_objsMV303.\n",
      "Component 'MV304' has been loaded from /home/loz/MSc/MSc_Project/final_code/component_objsMV304.\n",
      "Component 'P301' has been loaded from /home/loz/MSc/MSc_Project/final_code/component_objsP301.\n",
      "Component 'P302' has been loaded from /home/loz/MSc/MSc_Project/final_code/component_objsP302.\n",
      "Component 'AIT401' has been loaded from /home/loz/MSc/MSc_Project/final_code/component_objsAIT401.\n",
      "Component 'AIT402' has been loaded from /home/loz/MSc/MSc_Project/final_code/component_objsAIT402.\n",
      "Component 'FIT401' has been loaded from /home/loz/MSc/MSc_Project/final_code/component_objsFIT401.\n",
      "Component 'LIT401' has been loaded from /home/loz/MSc/MSc_Project/final_code/component_objsLIT401.\n",
      "Component 'P401' has been loaded from /home/loz/MSc/MSc_Project/final_code/component_objsP401.\n",
      "Component 'P402' has been loaded from /home/loz/MSc/MSc_Project/final_code/component_objsP402.\n",
      "Component 'P403' has been loaded from /home/loz/MSc/MSc_Project/final_code/component_objsP403.\n",
      "Component 'P404' has been loaded from /home/loz/MSc/MSc_Project/final_code/component_objsP404.\n",
      "Component 'UV401' has been loaded from /home/loz/MSc/MSc_Project/final_code/component_objsUV401.\n",
      "Component 'AIT501' has been loaded from /home/loz/MSc/MSc_Project/final_code/component_objsAIT501.\n",
      "Component 'AIT502' has been loaded from /home/loz/MSc/MSc_Project/final_code/component_objsAIT502.\n",
      "Component 'AIT503' has been loaded from /home/loz/MSc/MSc_Project/final_code/component_objsAIT503.\n",
      "Component 'AIT504' has been loaded from /home/loz/MSc/MSc_Project/final_code/component_objsAIT504.\n",
      "Component 'FIT501' has been loaded from /home/loz/MSc/MSc_Project/final_code/component_objsFIT501.\n",
      "Component 'FIT502' has been loaded from /home/loz/MSc/MSc_Project/final_code/component_objsFIT502.\n",
      "Component 'FIT503' has been loaded from /home/loz/MSc/MSc_Project/final_code/component_objsFIT503.\n",
      "Component 'FIT504' has been loaded from /home/loz/MSc/MSc_Project/final_code/component_objsFIT504.\n",
      "Component 'P501' has been loaded from /home/loz/MSc/MSc_Project/final_code/component_objsP501.\n",
      "Component 'P502' has been loaded from /home/loz/MSc/MSc_Project/final_code/component_objsP502.\n",
      "Component 'PIT501' has been loaded from /home/loz/MSc/MSc_Project/final_code/component_objsPIT501.\n",
      "Component 'PIT502' has been loaded from /home/loz/MSc/MSc_Project/final_code/component_objsPIT502.\n",
      "Component 'PIT503' has been loaded from /home/loz/MSc/MSc_Project/final_code/component_objsPIT503.\n",
      "Component 'FIT601' has been loaded from /home/loz/MSc/MSc_Project/final_code/component_objsFIT601.\n",
      "Component 'P601' has been loaded from /home/loz/MSc/MSc_Project/final_code/component_objsP601.\n",
      "Component 'P602' has been loaded from /home/loz/MSc/MSc_Project/final_code/component_objsP602.\n",
      "Component 'P603' has been loaded from /home/loz/MSc/MSc_Project/final_code/component_objsP603.\n"
     ]
    }
   ],
   "source": [
    "#path = '/home/loz/Documents/GitHub/MSc-Project/final_code/component_objs/'\n",
    "#path = '/home/loz/MSc/MSc_Project/final_code/component_objs/'\n",
    "\n",
    "\n",
    "df_comp_files = pd.read_csv(path + 'component_filenames.csv', index_col=0)\n",
    "components = {}\n",
    "for component_name, filename in df_comp_files['filename'].items():    \n",
    "    # put returned component object into dict\n",
    "    components[component_name] = load_component(filename)"
   ],
   "metadata": {
    "collapsed": false,
    "ExecuteTime": {
     "end_time": "2024-10-03T13:41:13.090164722Z",
     "start_time": "2024-10-03T13:41:12.907806046Z"
    }
   }
  },
  {
   "metadata": {
    "ExecuteTime": {
     "end_time": "2024-10-03T13:41:14.780289982Z",
     "start_time": "2024-10-03T13:41:14.712819263Z"
    }
   },
   "cell_type": "code",
   "source": [
    "components['LIT101'].mutual_info_dict"
   ],
   "outputs": [
    {
     "data": {
      "text/plain": "Component\nFIT101       6.930098\nLIT101            NaN\nMV101        6.460144\nP101         6.997855\nAIT201       2.246728\nAIT202      11.635775\nAIT203       8.625869\nFIT201       6.969463\nMV201        7.436206\nP203         6.994789\nP205         6.998430\nDPIT301      5.276992\nFIT301       5.978915\nLIT301       5.115845\nMV301       26.010566\nMV302        6.938717\nMV303       11.520720\nMV304       13.205717\nP301       119.486524\nP302         6.179314\nAIT401      36.106187\nAIT402       8.627242\nFIT401      85.786212\nLIT401       5.014222\nP402        46.286453\nUV401             inf\nAIT501       5.165579\nAIT502       8.745994\nAIT503       3.374725\nAIT504      38.699792\nFIT501      82.113939\nFIT502      17.970737\nFIT503      45.918802\nFIT504     249.880251\nP501              inf\nPIT501      47.039659\nPIT502      21.273287\nPIT503            inf\nFIT601      12.196271\nP602        15.859432\nName: LIT101, dtype: float64"
     },
     "execution_count": 66,
     "metadata": {},
     "output_type": "execute_result"
    }
   ],
   "execution_count": 66
  },
  {
   "metadata": {
    "ExecuteTime": {
     "start_time": "2024-10-03T13:28:19.120083651Z"
    }
   },
   "cell_type": "code",
   "source": [
    "components_loaded"
   ],
   "outputs": [],
   "execution_count": null
  },
  {
   "metadata": {
    "ExecuteTime": {
     "start_time": "2024-10-03T13:28:19.120126923Z"
    }
   },
   "cell_type": "code",
   "source": [
    "#df_comp_files"
   ],
   "outputs": [],
   "execution_count": null
  },
  {
   "metadata": {
    "ExecuteTime": {
     "end_time": "2024-10-03T13:43:35.548165776Z",
     "start_time": "2024-10-03T13:43:35.474086173Z"
    }
   },
   "cell_type": "code",
   "source": [
    "df_comp_files = pd.read_csv(path + 'component_filenames.csv', index_col=0)\n",
    "components_loaded = {}\n",
    "for component_name, filename in df_comp_files['filename'].items():    \n",
    "    # put returned component object into dict\n",
    "    components_loaded[component_name] = load_component(filename)\n",
    "    #print(filename)"
   ],
   "outputs": [
    {
     "name": "stdout",
     "output_type": "stream",
     "text": [
      "Component 'FIT101' has been loaded from /home/loz/MSc/MSc_Project/final_code/component_objsFIT101.\n",
      "Component 'LIT101' has been loaded from /home/loz/MSc/MSc_Project/final_code/component_objsLIT101.\n",
      "Component 'MV101' has been loaded from /home/loz/MSc/MSc_Project/final_code/component_objsMV101.\n",
      "Component 'P101' has been loaded from /home/loz/MSc/MSc_Project/final_code/component_objsP101.\n",
      "Component 'P102' has been loaded from /home/loz/MSc/MSc_Project/final_code/component_objsP102.\n",
      "Component 'AIT201' has been loaded from /home/loz/MSc/MSc_Project/final_code/component_objsAIT201.\n",
      "Component 'AIT202' has been loaded from /home/loz/MSc/MSc_Project/final_code/component_objsAIT202.\n",
      "Component 'AIT203' has been loaded from /home/loz/MSc/MSc_Project/final_code/component_objsAIT203.\n",
      "Component 'FIT201' has been loaded from /home/loz/MSc/MSc_Project/final_code/component_objsFIT201.\n",
      "Component 'MV201' has been loaded from /home/loz/MSc/MSc_Project/final_code/component_objsMV201.\n",
      "Component 'P201' has been loaded from /home/loz/MSc/MSc_Project/final_code/component_objsP201.\n",
      "Component 'P202' has been loaded from /home/loz/MSc/MSc_Project/final_code/component_objsP202.\n",
      "Component 'P203' has been loaded from /home/loz/MSc/MSc_Project/final_code/component_objsP203.\n",
      "Component 'P204' has been loaded from /home/loz/MSc/MSc_Project/final_code/component_objsP204.\n",
      "Component 'P205' has been loaded from /home/loz/MSc/MSc_Project/final_code/component_objsP205.\n",
      "Component 'P206' has been loaded from /home/loz/MSc/MSc_Project/final_code/component_objsP206.\n",
      "Component 'DPIT301' has been loaded from /home/loz/MSc/MSc_Project/final_code/component_objsDPIT301.\n",
      "Component 'FIT301' has been loaded from /home/loz/MSc/MSc_Project/final_code/component_objsFIT301.\n",
      "Component 'LIT301' has been loaded from /home/loz/MSc/MSc_Project/final_code/component_objsLIT301.\n",
      "Component 'MV301' has been loaded from /home/loz/MSc/MSc_Project/final_code/component_objsMV301.\n",
      "Component 'MV302' has been loaded from /home/loz/MSc/MSc_Project/final_code/component_objsMV302.\n",
      "Component 'MV303' has been loaded from /home/loz/MSc/MSc_Project/final_code/component_objsMV303.\n",
      "Component 'MV304' has been loaded from /home/loz/MSc/MSc_Project/final_code/component_objsMV304.\n",
      "Component 'P301' has been loaded from /home/loz/MSc/MSc_Project/final_code/component_objsP301.\n",
      "Component 'P302' has been loaded from /home/loz/MSc/MSc_Project/final_code/component_objsP302.\n",
      "Component 'AIT401' has been loaded from /home/loz/MSc/MSc_Project/final_code/component_objsAIT401.\n",
      "Component 'AIT402' has been loaded from /home/loz/MSc/MSc_Project/final_code/component_objsAIT402.\n",
      "Component 'FIT401' has been loaded from /home/loz/MSc/MSc_Project/final_code/component_objsFIT401.\n",
      "Component 'LIT401' has been loaded from /home/loz/MSc/MSc_Project/final_code/component_objsLIT401.\n",
      "Component 'P401' has been loaded from /home/loz/MSc/MSc_Project/final_code/component_objsP401.\n",
      "Component 'P402' has been loaded from /home/loz/MSc/MSc_Project/final_code/component_objsP402.\n",
      "Component 'P403' has been loaded from /home/loz/MSc/MSc_Project/final_code/component_objsP403.\n",
      "Component 'P404' has been loaded from /home/loz/MSc/MSc_Project/final_code/component_objsP404.\n",
      "Component 'UV401' has been loaded from /home/loz/MSc/MSc_Project/final_code/component_objsUV401.\n",
      "Component 'AIT501' has been loaded from /home/loz/MSc/MSc_Project/final_code/component_objsAIT501.\n",
      "Component 'AIT502' has been loaded from /home/loz/MSc/MSc_Project/final_code/component_objsAIT502.\n",
      "Component 'AIT503' has been loaded from /home/loz/MSc/MSc_Project/final_code/component_objsAIT503.\n",
      "Component 'AIT504' has been loaded from /home/loz/MSc/MSc_Project/final_code/component_objsAIT504.\n",
      "Component 'FIT501' has been loaded from /home/loz/MSc/MSc_Project/final_code/component_objsFIT501.\n",
      "Component 'FIT502' has been loaded from /home/loz/MSc/MSc_Project/final_code/component_objsFIT502.\n",
      "Component 'FIT503' has been loaded from /home/loz/MSc/MSc_Project/final_code/component_objsFIT503.\n",
      "Component 'FIT504' has been loaded from /home/loz/MSc/MSc_Project/final_code/component_objsFIT504.\n",
      "Component 'P501' has been loaded from /home/loz/MSc/MSc_Project/final_code/component_objsP501.\n",
      "Component 'P502' has been loaded from /home/loz/MSc/MSc_Project/final_code/component_objsP502.\n",
      "Component 'PIT501' has been loaded from /home/loz/MSc/MSc_Project/final_code/component_objsPIT501.\n",
      "Component 'PIT502' has been loaded from /home/loz/MSc/MSc_Project/final_code/component_objsPIT502.\n",
      "Component 'PIT503' has been loaded from /home/loz/MSc/MSc_Project/final_code/component_objsPIT503.\n",
      "Component 'FIT601' has been loaded from /home/loz/MSc/MSc_Project/final_code/component_objsFIT601.\n",
      "Component 'P601' has been loaded from /home/loz/MSc/MSc_Project/final_code/component_objsP601.\n",
      "Component 'P602' has been loaded from /home/loz/MSc/MSc_Project/final_code/component_objsP602.\n",
      "Component 'P603' has been loaded from /home/loz/MSc/MSc_Project/final_code/component_objsP603.\n"
     ]
    }
   ],
   "execution_count": 67
  },
  {
   "metadata": {
    "ExecuteTime": {
     "end_time": "2024-10-03T13:44:00.259717586Z",
     "start_time": "2024-10-03T13:44:00.153009521Z"
    }
   },
   "cell_type": "code",
   "source": [
    "components_loaded['LIT101'].mutual_info_dict"
   ],
   "outputs": [
    {
     "data": {
      "text/plain": "Component\nFIT101       6.930098\nLIT101            NaN\nMV101        6.460144\nP101         6.997855\nAIT201       2.246728\nAIT202      11.635775\nAIT203       8.625869\nFIT201       6.969463\nMV201        7.436206\nP203         6.994789\nP205         6.998430\nDPIT301      5.276992\nFIT301       5.978915\nLIT301       5.115845\nMV301       26.010566\nMV302        6.938717\nMV303       11.520720\nMV304       13.205717\nP301       119.486524\nP302         6.179314\nAIT401      36.106187\nAIT402       8.627242\nFIT401      85.786212\nLIT401       5.014222\nP402        46.286453\nUV401             inf\nAIT501       5.165579\nAIT502       8.745994\nAIT503       3.374725\nAIT504      38.699792\nFIT501      82.113939\nFIT502      17.970737\nFIT503      45.918802\nFIT504     249.880251\nP501              inf\nPIT501      47.039659\nPIT502      21.273287\nPIT503            inf\nFIT601      12.196271\nP602        15.859432\nName: LIT101, dtype: float64"
     },
     "execution_count": 68,
     "metadata": {},
     "output_type": "execute_result"
    }
   ],
   "execution_count": 68
  },
  {
   "metadata": {
    "ExecuteTime": {
     "start_time": "2024-10-03T13:28:19.120249313Z"
    }
   },
   "cell_type": "code",
   "source": [
    "components_loaded.keys()"
   ],
   "outputs": [],
   "execution_count": null
  },
  {
   "metadata": {
    "ExecuteTime": {
     "start_time": "2024-10-03T13:28:19.120295460Z"
    }
   },
   "cell_type": "code",
   "source": [
    "#components_loaded['LIT101'].max_value"
   ],
   "outputs": [],
   "execution_count": null
  },
  {
   "metadata": {
    "ExecuteTime": {
     "start_time": "2024-10-03T13:28:19.120336027Z"
    }
   },
   "cell_type": "code",
   "source": [
    "#components['LIT101'].max_value"
   ],
   "outputs": [],
   "execution_count": null
  },
  {
   "metadata": {},
   "cell_type": "markdown",
   "source": [
    "# get  component objects\n",
    "path = '/home/loz/Documents/GitHub/MSc-Project/final_code/component_objs/'\n",
    "df_comp_files = pd.read_csv(os.path.join(path + 'component_filenames.csv'), index_col=0)\n",
    "components = {}\n",
    "for component_name, row in df_comp_files.iterrows():  \n",
    "    filename = row['filename'] \n",
    "    # put returned component object into dict\n",
    "    components[component_name] = load_component(filename)"
   ]
  },
  {
   "metadata": {
    "ExecuteTime": {
     "start_time": "2024-10-03T13:28:19.120380290Z"
    }
   },
   "cell_type": "code",
   "outputs": [],
   "execution_count": null,
   "source": []
  },
  {
   "metadata": {},
   "cell_type": "markdown",
   "source": [
    "# Component Relationship Overview"
   ]
  },
  {
   "cell_type": "code",
   "source": [
    "comp_dict = {}\n",
    "for name, values in zip(['Mutual Info', 'Linear Cor', 'Non Linear Cor'], [top_mi, top_lin_cor, top_non_lin_cor]):\n",
    "    comp_dict[name] = values\n",
    "data = pd.DataFrame(comp_dict)\n",
    "data.head(10)"
   ],
   "metadata": {
    "collapsed": false,
    "ExecuteTime": {
     "end_time": "2024-10-03T13:32:41.124382900Z",
     "start_time": "2024-10-03T13:32:41.068198508Z"
    }
   },
   "outputs": [
    {
     "ename": "NameError",
     "evalue": "name 'top_mi' is not defined",
     "output_type": "error",
     "traceback": [
      "\u001B[0;31m---------------------------------------------------------------------------\u001B[0m",
      "\u001B[0;31mNameError\u001B[0m                                 Traceback (most recent call last)",
      "Cell \u001B[0;32mIn[35], line 2\u001B[0m\n\u001B[1;32m      1\u001B[0m comp_dict \u001B[38;5;241m=\u001B[39m {}\n\u001B[0;32m----> 2\u001B[0m \u001B[38;5;28;01mfor\u001B[39;00m name, values \u001B[38;5;129;01min\u001B[39;00m \u001B[38;5;28mzip\u001B[39m([\u001B[38;5;124m'\u001B[39m\u001B[38;5;124mMutual Info\u001B[39m\u001B[38;5;124m'\u001B[39m, \u001B[38;5;124m'\u001B[39m\u001B[38;5;124mLinear Cor\u001B[39m\u001B[38;5;124m'\u001B[39m, \u001B[38;5;124m'\u001B[39m\u001B[38;5;124mNon Linear Cor\u001B[39m\u001B[38;5;124m'\u001B[39m], [\u001B[43mtop_mi\u001B[49m, top_lin_cor, top_non_lin_cor]):\n\u001B[1;32m      3\u001B[0m     comp_dict[name] \u001B[38;5;241m=\u001B[39m values\n\u001B[1;32m      4\u001B[0m data \u001B[38;5;241m=\u001B[39m pd\u001B[38;5;241m.\u001B[39mDataFrame(comp_dict)\n",
      "\u001B[0;31mNameError\u001B[0m: name 'top_mi' is not defined"
     ]
    }
   ],
   "execution_count": 35
  },
  {
   "metadata": {
    "ExecuteTime": {
     "start_time": "2024-10-03T13:28:19.120466032Z"
    }
   },
   "cell_type": "code",
   "outputs": [],
   "execution_count": null,
   "source": []
  }
 ],
 "metadata": {
  "kernelspec": {
   "display_name": "Python 3",
   "language": "python",
   "name": "python3"
  },
  "language_info": {
   "codemirror_mode": {
    "name": "ipython",
    "version": 2
   },
   "file_extension": ".py",
   "mimetype": "text/x-python",
   "name": "python",
   "nbconvert_exporter": "python",
   "pygments_lexer": "ipython2",
   "version": "2.7.6"
  }
 },
 "nbformat": 4,
 "nbformat_minor": 0
}
