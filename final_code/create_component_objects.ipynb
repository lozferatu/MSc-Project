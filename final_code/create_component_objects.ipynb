{
 "cells": [
  {
   "metadata": {
    "ExecuteTime": {
     "end_time": "2024-09-26T13:18:49.716490Z",
     "start_time": "2024-09-26T13:18:49.709995Z"
    }
   },
   "cell_type": "code",
   "source": [
    "#!pip install matplotlib\n",
    "#!pip install scipy\n",
    "#!pip install networkx\n",
    "#!pip install seaborn\n",
    "#!pip install scikit-learn\n"
   ],
   "outputs": [],
   "execution_count": 1
  },
  {
   "cell_type": "code",
   "metadata": {
    "collapsed": true,
    "ExecuteTime": {
     "end_time": "2024-09-26T13:19:35.223617Z",
     "start_time": "2024-09-26T13:19:33.504926Z"
    }
   },
   "source": [
    "import pandas as pd\n",
    "import numpy as np\n",
    "\n",
    "import matplotlib.pyplot as plt\n",
    "import scipy.stats as stats\n",
    "#import statsmodels.api as sm\n",
    "\n",
    "# for type hinting\n",
    "#from typing import List\n",
    "\n",
    "# for pearson corr coef and p values\n",
    "from scipy.stats import pearsonr\n",
    "\n",
    "# For plotting relationships\n",
    "import networkx as nx\n",
    "\n",
    "\n",
    "#from matplotlib.lines import Line2D\n",
    "#from matplotlib.text import Annotation\n",
    "#import seaborn as sns\n",
    "\n",
    "# for non linear coefficients\n",
    "from scipy.stats import spearmanr\n",
    "from scipy.spatial.distance import squareform, pdist\n",
    "from sklearn.feature_selection import mutual_info_regression\n",
    "from sklearn.preprocessing import StandardScaler, MinMaxScaler\n",
    "\n",
    "# get component class from custom module\n",
    "from component_module import Component, plot_correlation_network, plot_component_comparison, getKDEDensity, getDistributionBins, kde_mutual_information, drop_static_columns, performFourierAndLimitHarmonics, scaler_sec_midnight, save_component, load_component, calculate_phase_and_time_difference"
   ],
   "outputs": [],
   "execution_count": 1
  },
  {
   "cell_type": "markdown",
   "source": [
    "See range of values in each column so allow filtering of unchanging values before correlation matrix."
   ],
   "metadata": {
    "collapsed": false
   }
  },
  {
   "cell_type": "code",
   "source": [
    "# windows\n",
    "#csv_path = \"/home/loz/MSc/MSc_Project/SWaT DataSWaT 2015-12-23.csv\"\n",
    "#converted_path = \"/home/loz/MSc/MSc_Project/SWaT_12_23_sec_orig.csv\"\n",
    "# ubuntu\n",
    "csv_path = \"/home/loz/Documents/GitHub/MSc-Project/SWaT DataSWaT 2015-12-23.csv\"\n",
    "converted_path = \"/home/loz/Documents/GitHub/MSc-Project/SWaT_12_23_sec_minmax.csv\"\n",
    "\n",
    "# dataset with original values for step size etc\n",
    "df_orig = pd.read_csv(csv_path, index_col='time_in_seconds')\n",
    "\n",
    "#df_orig.columns\n",
    "# drop time columns and use normal index as 1 second increments anyway\n",
    "#df_orig = df_orig.drop(columns=['Timestamp', 'time', 'date'])\n",
    "# call function to normalise and covert timestamp to seconds since midnight\n",
    "#df_norm_sec = scaler_sec_midnight(csv_path, converted_path, scaler_type='minmax')  \n",
    "\n",
    "# dataset with minmax scaled values\n",
    "df_norm_sec = pd.read_csv(converted_path, index_col='time_in_seconds')\n",
    "\n",
    "df= df_norm_sec.copy()\n",
    "#df_norm_sec"
   ],
   "metadata": {
    "collapsed": false,
    "ExecuteTime": {
     "end_time": "2024-09-26T13:19:40.760558Z",
     "start_time": "2024-09-26T13:19:39.889728Z"
    }
   },
   "outputs": [],
   "execution_count": 2
  },
  {
   "cell_type": "markdown",
   "source": [
    "# Create Component Object for Each Component in SWaT Data"
   ],
   "metadata": {
    "collapsed": false
   }
  },
  {
   "cell_type": "markdown",
   "source": [
    "Use a class to hold knowledge about each component which can be updated throughout pipeline. Can include functions which return top antecendent/ dependent modules etc."
   ],
   "metadata": {
    "collapsed": false
   }
  },
  {
   "cell_type": "code",
   "source": [
    "# iterate through every column and create object of component class\n",
    "# dictionary for all component objects\n",
    "# intialise from original data- not normalised\n",
    "components = {}\n",
    "for n, component in enumerate(df_orig.columns):\n",
    "    # print(n, component)\n",
    "    components[component] = Component(name= component, list_position= n, df_orig=df_orig)\n"
   ],
   "metadata": {
    "collapsed": false,
    "ExecuteTime": {
     "end_time": "2024-09-26T13:19:43.660906Z",
     "start_time": "2024-09-26T13:19:43.586779Z"
    }
   },
   "outputs": [
    {
     "name": "stderr",
     "output_type": "stream",
     "text": [
      "/home/loz/Documents/GitHub/MSc-Project/final_code/component_module.py:68: RuntimeWarning: invalid value encountered in scalar divide\n",
      "  norm_step_size = step_size/ (max_value - min_value)\n",
      "/home/loz/Documents/GitHub/MSc-Project/final_code/component_module.py:72: RuntimeWarning: invalid value encountered in scalar divide\n",
      "  change_ratio = value_range / step_size\n"
     ]
    }
   ],
   "execution_count": 3
  },
  {
   "metadata": {
    "ExecuteTime": {
     "end_time": "2024-09-26T13:19:45.321770Z",
     "start_time": "2024-09-26T13:19:45.313125Z"
    }
   },
   "cell_type": "code",
   "source": "components['LIT101'].change_ratio",
   "outputs": [
    {
     "data": {
      "text/plain": [
       "150.18229379918944"
      ]
     },
     "execution_count": 4,
     "metadata": {},
     "output_type": "execute_result"
    }
   ],
   "execution_count": 4
  },
  {
   "cell_type": "markdown",
   "source": [
    "# Make Matrices then update object for each component"
   ],
   "metadata": {
    "collapsed": false
   }
  },
  {
   "metadata": {},
   "cell_type": "markdown",
   "source": "### Calculate the linear (Pearson) correlation matrix"
  },
  {
   "metadata": {
    "collapsed": false,
    "ExecuteTime": {
     "end_time": "2024-09-26T13:20:00.684116Z",
     "start_time": "2024-09-26T13:19:56.125598Z"
    }
   },
   "cell_type": "code",
   "source": [
    "# set linear correaltion attribute\n",
    "\n",
    "#if df.index.name != 'Timestamp':\n",
    "#    df = df.set_index('Timestamp')\n",
    "\n",
    "\n",
    "# Calculate the linear correlation matrix\n",
    "correlation_matrix = df.corr().round(decimals= 4)\n",
    "\n",
    "# DataFrame to store p-values with rows and cols being column names\n",
    "p_values = pd.DataFrame(index=df.columns, columns=df.columns)\n",
    "\n",
    "# Calculate p-values\n",
    "# for every column\n",
    "for col1 in df.columns:\n",
    "    # calculate values with every other column\n",
    "    for col2 in df.columns:\n",
    "        correlation_coefficient, p_value = pearsonr(df[col1], df[col2])\n",
    "        # Save values to corresponding location in p_values df, rounded to 4.d.p\n",
    "        p_values.loc[col1, col2] = round(p_value, 4)\n",
    "\n",
    "# Apply a color gradient to the correlation matrix and display it\n",
    "correlation_matrix_styled  = correlation_matrix.style.background_gradient(cmap='coolwarm').format(precision= 2)\n",
    "p_values_styled  = p_values.style.background_gradient(cmap='coolwarm').format(precision= 2)\n",
    "\n"
   ],
   "outputs": [],
   "execution_count": 5
  },
  {
   "metadata": {
    "ExecuteTime": {
     "end_time": "2024-09-26T13:20:00.694542Z",
     "start_time": "2024-09-26T13:20:00.691632Z"
    }
   },
   "cell_type": "code",
   "source": "#correlation_matrix_styled",
   "outputs": [],
   "execution_count": 6
  },
  {
   "cell_type": "markdown",
   "source": "### Assign relevant linear correllation values to each component object",
   "metadata": {
    "collapsed": false
   }
  },
  {
   "cell_type": "code",
   "source": [
    "# Set Component objects values\n",
    "for component_name, component_obj in components.items():\n",
    "    if component_name in correlation_matrix.index:\n",
    "        # Convert correlation coefficient row to dict\n",
    "        correlation_dict = {col: value for col, value in zip(correlation_matrix.columns, correlation_matrix.loc[component_name]) if col != component_name }\n",
    "        component_obj.correlation_dict = correlation_dict\n",
    "        #print(component_name, component_obj.correlation_dict )\n",
    "\n",
    "    if component_name in p_values.index:\n",
    "        # Convert p-value row to dict\n",
    "        p_value_dict = {col: value for col, value in zip(p_values.columns, p_values.loc[component_name])}\n",
    "        #p_value_dict = {index: value for index, value in enumerate(p_values.loc[component_name])}\n",
    "        component_obj.p_value_dict = p_value_dict"
   ],
   "metadata": {
    "collapsed": false,
    "ExecuteTime": {
     "end_time": "2024-09-26T13:20:00.764881Z",
     "start_time": "2024-09-26T13:20:00.758443Z"
    }
   },
   "outputs": [],
   "execution_count": 7
  },
  {
   "cell_type": "markdown",
   "source": [
    "# Non-Linear Correlation of Components\n",
    "The previous stage looked for linear correlation between components, other non- linear methods were evaluated as the complex interplay of componets could lead to non-linear behaviour even with pairwise linear relationships. These methods look for monatonic relationships- the values for two components consistently change together ( positive or negative)."
   ],
   "metadata": {
    "collapsed": false
   }
  },
  {
   "cell_type": "markdown",
   "source": [
    "### Calculate the correlation matrix using Spearman's rank correlation"
   ],
   "metadata": {
    "collapsed": false
   }
  },
  {
   "cell_type": "code",
   "source": [
    "# Calculate the correlation matrix using Spearman's rank correlation\n",
    "non_lin_correlation_matrix = df.corr(method='spearman').round(decimals=4)\n",
    "\n",
    "# DataFrame to store p-values with rows and cols being column names\n",
    "non_lin_p_values = pd.DataFrame(index=df.columns, columns=df.columns)\n",
    "\n",
    "# Calculate p-values\n",
    "# for every column\n",
    "for col1 in df.columns:\n",
    "    # calculate values with every other column\n",
    "    for col2 in df.columns:\n",
    "        correlation_coefficient, p_value = spearmanr(df[col1], df[col2])\n",
    "        # Save values to corresponding location in p_values df, rounded to 4.d.p\n",
    "        non_lin_p_values.loc[col1, col2] = round(p_value, 4)\n",
    "\n",
    "# Apply a color gradient to the correlation matrix and display it\n",
    "non_lin_correlation_matrix_styled = non_lin_correlation_matrix.style.background_gradient(cmap='coolwarm')\n",
    "non_lin_p_values_styled = non_lin_p_values.style.background_gradient(cmap='coolwarm').format(precision=2)\n"
   ],
   "metadata": {
    "collapsed": false,
    "ExecuteTime": {
     "end_time": "2024-09-26T13:20:16.359068Z",
     "start_time": "2024-09-26T13:20:00.829040Z"
    }
   },
   "outputs": [],
   "execution_count": 8
  },
  {
   "cell_type": "code",
   "source": [
    "#non_lin_correlation_dict"
   ],
   "metadata": {
    "collapsed": false,
    "ExecuteTime": {
     "end_time": "2024-09-26T13:20:16.436151Z",
     "start_time": "2024-09-26T13:20:16.433588Z"
    }
   },
   "outputs": [],
   "execution_count": 9
  },
  {
   "cell_type": "markdown",
   "source": [
    "### Assign relevant non-linear correlation values to each component object"
   ],
   "metadata": {
    "collapsed": false
   }
  },
  {
   "cell_type": "code",
   "source": [
    "for component_name, component_obj in components.items():\n",
    "     if component_name in non_lin_correlation_matrix.index:\n",
    "        # Convert correlation coefficient row to dict\n",
    "        non_lin_correlation_dict = {col: value for col, value in zip(non_lin_correlation_matrix.columns, non_lin_correlation_matrix.loc[component_name]) if col != component_name}\n",
    "        component_obj.non_lin_correlation_dict = non_lin_correlation_dict\n",
    "        #print(component_name, component_obj.non_lin_correlation_dict )\n",
    "         \n",
    "     if component_name in non_lin_p_values.index:      \n",
    "        # Convert p-value row to dict\n",
    "        non_lin_p_value_dict = {col: value for col, value in zip(non_lin_p_values.columns, non_lin_p_values.loc[component_name])}\n",
    "        #p_value_dict = {index: value for index, value in enumerate(p_values.loc[component_name])}\n",
    "        component_obj.non_lin_p_value_dict = non_lin_p_value_dict"
   ],
   "metadata": {
    "collapsed": false,
    "ExecuteTime": {
     "end_time": "2024-09-26T13:20:16.532046Z",
     "start_time": "2024-09-26T13:20:16.525382Z"
    }
   },
   "outputs": [],
   "execution_count": 10
  },
  {
   "cell_type": "code",
   "source": [],
   "metadata": {
    "collapsed": false,
    "ExecuteTime": {
     "end_time": "2024-09-26T13:20:16.608787Z",
     "start_time": "2024-09-26T13:20:16.606636Z"
    }
   },
   "outputs": [],
   "execution_count": null
  },
  {
   "cell_type": "markdown",
   "source": [
    "# Kernel Distributions"
   ],
   "metadata": {
    "collapsed": false
   }
  },
  {
   "cell_type": "markdown",
   "source": [
    "Get distributions for each variable. Get range, divide into 100 bins then count variables ineach. Visualise in plot"
   ],
   "metadata": {
    "collapsed": false
   }
  },
  {
   "metadata": {
    "collapsed": false,
    "ExecuteTime": {
     "end_time": "2024-09-26T13:20:16.685017Z",
     "start_time": "2024-09-26T13:20:16.682311Z"
    }
   },
   "cell_type": "code",
   "source": "#df['LIT101']",
   "outputs": [],
   "execution_count": 11
  },
  {
   "metadata": {
    "collapsed": false,
    "ExecuteTime": {
     "end_time": "2024-09-26T13:20:17.959019Z",
     "start_time": "2024-09-26T13:20:16.761552Z"
    }
   },
   "cell_type": "code",
   "source": [
    "# test with FIT101\n",
    "#lit101_dist, bins = getDistribution('LIT101')\n",
    "#plotBinCounts(lit101_dist, bins)\n",
    "\n",
    "getDistributionBins(df, 'LIT101')"
   ],
   "outputs": [
    {
     "name": "stdout",
     "output_type": "stream",
     "text": [
      "Var Range:  0.9999999999999998\n"
     ]
    },
    {
     "name": "stderr",
     "output_type": "stream",
     "text": [
      "/home/loz/Documents/GitHub/MSc-Project/final_code/component_module.py:513: RuntimeWarning: divide by zero encountered in scalar divide\n",
      "  tick_positions = np.arange(0, len(bin_edges) - 1, rounded_step_size / (bin_edges[1] - bin_edges[0]))\n"
     ]
    },
    {
     "ename": "ValueError",
     "evalue": "Maximum allowed size exceeded",
     "output_type": "error",
     "traceback": [
      "\u001B[0;31m---------------------------------------------------------------------------\u001B[0m",
      "\u001B[0;31mValueError\u001B[0m                                Traceback (most recent call last)",
      "Cell \u001B[0;32mIn[12], line 5\u001B[0m\n\u001B[1;32m      1\u001B[0m \u001B[38;5;66;03m# test with FIT101\u001B[39;00m\n\u001B[1;32m      2\u001B[0m \u001B[38;5;66;03m#lit101_dist, bins = getDistribution('LIT101')\u001B[39;00m\n\u001B[1;32m      3\u001B[0m \u001B[38;5;66;03m#plotBinCounts(lit101_dist, bins)\u001B[39;00m\n\u001B[0;32m----> 5\u001B[0m \u001B[43mgetDistributionBins\u001B[49m\u001B[43m(\u001B[49m\u001B[43mdf\u001B[49m\u001B[43m,\u001B[49m\u001B[43m \u001B[49m\u001B[38;5;124;43m'\u001B[39;49m\u001B[38;5;124;43mLIT101\u001B[39;49m\u001B[38;5;124;43m'\u001B[39;49m\u001B[43m)\u001B[49m\n",
      "File \u001B[0;32m~/Documents/GitHub/MSc-Project/final_code/component_module.py:482\u001B[0m, in \u001B[0;36mgetDistributionBins\u001B[0;34m(df, variable_col, save_path)\u001B[0m\n\u001B[1;32m    479\u001B[0m bin_counts \u001B[38;5;241m=\u001B[39m df_distributions[variable_col \u001B[38;5;241m+\u001B[39m \u001B[38;5;124m'\u001B[39m\u001B[38;5;124m_bins\u001B[39m\u001B[38;5;124m'\u001B[39m]\u001B[38;5;241m.\u001B[39mvalue_counts()\u001B[38;5;241m.\u001B[39msort_index()\n\u001B[1;32m    481\u001B[0m \u001B[38;5;66;03m# call sisualisation function\u001B[39;00m\n\u001B[0;32m--> 482\u001B[0m \u001B[43mplotBinCounts\u001B[49m\u001B[43m(\u001B[49m\u001B[43mvariable_col\u001B[49m\u001B[43m,\u001B[49m\u001B[43m \u001B[49m\u001B[43mbin_counts\u001B[49m\u001B[43m,\u001B[49m\u001B[43m \u001B[49m\u001B[43mbins\u001B[49m\u001B[43m,\u001B[49m\u001B[43m \u001B[49m\u001B[43msave_path\u001B[49m\u001B[43m)\u001B[49m\n",
      "File \u001B[0;32m~/Documents/GitHub/MSc-Project/final_code/component_module.py:513\u001B[0m, in \u001B[0;36mplotBinCounts\u001B[0;34m(name, bin_counts, bin_edges, save_path)\u001B[0m\n\u001B[1;32m    510\u001B[0m rounded_step_size \u001B[38;5;241m=\u001B[39m \u001B[38;5;28mround\u001B[39m(step_size \u001B[38;5;241m/\u001B[39m \u001B[38;5;241m10\u001B[39m) \u001B[38;5;241m*\u001B[39m \u001B[38;5;241m10\u001B[39m\n\u001B[1;32m    512\u001B[0m \u001B[38;5;66;03m# Generate custom tick positions and labels\u001B[39;00m\n\u001B[0;32m--> 513\u001B[0m tick_positions \u001B[38;5;241m=\u001B[39m \u001B[43mnp\u001B[49m\u001B[38;5;241;43m.\u001B[39;49m\u001B[43marange\u001B[49m\u001B[43m(\u001B[49m\u001B[38;5;241;43m0\u001B[39;49m\u001B[43m,\u001B[49m\u001B[43m \u001B[49m\u001B[38;5;28;43mlen\u001B[39;49m\u001B[43m(\u001B[49m\u001B[43mbin_edges\u001B[49m\u001B[43m)\u001B[49m\u001B[43m \u001B[49m\u001B[38;5;241;43m-\u001B[39;49m\u001B[43m \u001B[49m\u001B[38;5;241;43m1\u001B[39;49m\u001B[43m,\u001B[49m\u001B[43m \u001B[49m\u001B[43mrounded_step_size\u001B[49m\u001B[43m \u001B[49m\u001B[38;5;241;43m/\u001B[39;49m\u001B[43m \u001B[49m\u001B[43m(\u001B[49m\u001B[43mbin_edges\u001B[49m\u001B[43m[\u001B[49m\u001B[38;5;241;43m1\u001B[39;49m\u001B[43m]\u001B[49m\u001B[43m \u001B[49m\u001B[38;5;241;43m-\u001B[39;49m\u001B[43m \u001B[49m\u001B[43mbin_edges\u001B[49m\u001B[43m[\u001B[49m\u001B[38;5;241;43m0\u001B[39;49m\u001B[43m]\u001B[49m\u001B[43m)\u001B[49m\u001B[43m)\u001B[49m\n\u001B[1;32m    514\u001B[0m tick_labels \u001B[38;5;241m=\u001B[39m [\u001B[38;5;124mf\u001B[39m\u001B[38;5;124m\"\u001B[39m\u001B[38;5;132;01m{\u001B[39;00mbin_edges[\u001B[38;5;28mint\u001B[39m(pos)]\u001B[38;5;132;01m:\u001B[39;00m\u001B[38;5;124m.0f\u001B[39m\u001B[38;5;132;01m}\u001B[39;00m\u001B[38;5;124m\"\u001B[39m \u001B[38;5;28;01mfor\u001B[39;00m pos \u001B[38;5;129;01min\u001B[39;00m tick_positions]\n\u001B[1;32m    516\u001B[0m \u001B[38;5;66;03m# Set x-ticks to represent the overall value range of the bins\u001B[39;00m\n",
      "\u001B[0;31mValueError\u001B[0m: Maximum allowed size exceeded"
     ]
    },
    {
     "data": {
      "text/plain": [
       "<Figure size 1000x600 with 1 Axes>"
      ],
      "image/png": "[encoded data removed]"
     },
     "metadata": {},
     "output_type": "display_data"
    }
   ],
   "execution_count": 12
  },
  {
   "metadata": {
    "collapsed": false,
    "ExecuteTime": {
     "end_time": "2024-09-26T13:20:17.980524664Z",
     "start_time": "2024-09-22T13:25:27.382579569Z"
    }
   },
   "cell_type": "code",
   "outputs": [],
   "execution_count": null,
   "source": "getKDEDensity(df, 'LIT101', save_path='D:\\GitHub\\MSc-Project-March\\Write_Up\\Charts\\lit_101_kde_plot.jpeg')"
  },
  {
   "metadata": {
    "collapsed": false,
    "ExecuteTime": {
     "end_time": "2024-09-26T13:20:17.980917376Z",
     "start_time": "2024-09-26T11:40:21.553490Z"
    }
   },
   "cell_type": "code",
   "source": "getKDEDensity(df, 'MV101')",
   "outputs": [
    {
     "data": {
      "text/plain": [
       "<Figure size 1000x600 with 1 Axes>"
      ],
      "image/png": "[encoded data removed]"
     },
     "metadata": {},
     "output_type": "display_data"
    }
   ],
   "execution_count": 13
  },
  {
   "cell_type": "markdown",
   "source": [
    "# Calculate mutual information between features\n",
    "mutual_info_matrix = pd.DataFrame(index=df.columns, columns=df.columns)\n",
    "\n",
    "# Calculate mutual information\n",
    "for col1 in df.columns:\n",
    "    for col2 in df.columns:\n",
    "        mutual_info = mutual_info_regression(df[[col1]], df[col2])[0]\n",
    "        mutual_info_matrix.loc[col1, col2] = mutual_info\n",
    "\n",
    "# Display the mutual information matrix\n",
    "print(mutual_info_matrix)\n"
   ],
   "metadata": {
    "collapsed": false
   }
  },
  {
   "cell_type": "markdown",
   "source": [
    "# using scaled already\n",
    "scaler = StandardScaler()\n",
    "df_normalised = scaler.fit_transform(df)\n",
    "# convert back to df\n",
    "df_normalised = pd.DataFrame(df_normalised, columns=df.columns)"
   ],
   "metadata": {
    "collapsed": false
   }
  },
  {
   "metadata": {
    "collapsed": false,
    "ExecuteTime": {
     "end_time": "2024-09-26T13:20:17.981094262Z",
     "start_time": "2024-09-26T11:40:25.273086Z"
    }
   },
   "cell_type": "code",
   "source": [
    "#mi_lit101 = kde_mutual_information(df_normalised, 'LIT101', num_points=100, n_jobs=-1)\n",
    "#print(mi_lit101)"
   ],
   "outputs": [],
   "execution_count": 14
  },
  {
   "metadata": {},
   "cell_type": "markdown",
   "source": [
    "# slow so son't re-run. Import df instead\n",
    "\n",
    "mi_results_df = pd.DataFrame()\n",
    "for component_name, component_obj in components.items():\n",
    "\n",
    "    try:\n",
    "        mi_results = kde_mutual_information(df_normalised, component_name, num_points=100, n_jobs=-1)\n",
    "        mi_results_df[component_name] = mi_results\n",
    "    except Exception as e:\n",
    "        # In case of error, add a column of NaNs\n",
    "        mi_results_df[component_name] = np.nan\n",
    "        print(f\"Error calculating MI for {component_name}: {e}\")\n",
    "\n",
    "    print(f\"Finished:{component_name}\")\n",
    "\n",
    "# Transpose the result to make each row represent a component and each column an MI score\n",
    "mi_results_df = mi_results_df.T\n",
    "\n",
    "# Fill any missing values (optional, this step is already handled)\n",
    "mi_results_df.fillna(np.nan, inplace=True)\n",
    "\n",
    "# Print the final DataFrame\n",
    "print(mi_results_df)"
   ]
  },
  {
   "metadata": {
    "collapsed": false,
    "ExecuteTime": {
     "end_time": "2024-09-26T13:20:17.981205669Z",
     "start_time": "2024-09-26T11:40:26.855032Z"
    }
   },
   "cell_type": "code",
   "source": "#mi_results_df.to_csv('D:\\GitHub\\MSc-Project-March\\SWaT Data\\mi_results.csv', index=False)",
   "outputs": [],
   "execution_count": 15
  },
  {
   "cell_type": "code",
   "source": [
    "# get previously run results\n",
    "#mi_results_df = pd.read_csv('D:\\GitHub\\MSc-Project-March\\SWaT Data\\mi_results.csv')\n",
    "# ubuntu\n",
    "mi_results_df = pd.read_csv('/home/loz/Documents/GitHub/MSc-Project/SWaT Data/mi_results.csv')"
   ],
   "metadata": {
    "collapsed": false,
    "ExecuteTime": {
     "end_time": "2024-09-26T13:20:17.981311558Z",
     "start_time": "2024-09-26T11:40:27.469137Z"
    }
   },
   "outputs": [],
   "execution_count": 16
  },
  {
   "cell_type": "code",
   "source": [
    "mi_results_df.rename(columns={'Unnamed: 0':'Component'}, inplace=True)\n",
    "mi_results_df.set_index('Component', inplace=True)\n",
    "mi_results_df.index"
   ],
   "metadata": {
    "collapsed": false,
    "ExecuteTime": {
     "end_time": "2024-09-26T13:20:17.981410572Z",
     "start_time": "2024-09-26T11:40:28.299266Z"
    }
   },
   "outputs": [
    {
     "data": {
      "text/plain": [
       "Index(['FIT101', 'LIT101', 'MV101', 'P101', 'AIT201', 'AIT202', 'AIT203',\n",
       "       'FIT201', 'MV201', 'P203', 'P205', 'DPIT301', 'FIT301', 'LIT301',\n",
       "       'MV301', 'MV302', 'MV303', 'MV304', 'P301', 'P302', 'AIT401', 'AIT402',\n",
       "       'FIT401', 'LIT401', 'P402', 'UV401', 'AIT501', 'AIT502', 'AIT503',\n",
       "       'AIT504', 'FIT501', 'FIT502', 'FIT503', 'FIT504', 'P501', 'PIT501',\n",
       "       'PIT502', 'PIT503', 'FIT601', 'P602'],\n",
       "      dtype='object', name='Component')"
      ]
     },
     "execution_count": 17,
     "metadata": {},
     "output_type": "execute_result"
    }
   ],
   "execution_count": 17
  },
  {
   "cell_type": "code",
   "source": [
    "#mi_results_df"
   ],
   "metadata": {
    "collapsed": false,
    "ExecuteTime": {
     "end_time": "2024-09-26T13:20:17.982236092Z",
     "start_time": "2024-09-26T11:40:29.062954Z"
    }
   },
   "outputs": [],
   "execution_count": 18
  },
  {
   "cell_type": "code",
   "source": "#components",
   "metadata": {
    "collapsed": false,
    "ExecuteTime": {
     "end_time": "2024-09-26T13:20:17.982394087Z",
     "start_time": "2024-09-26T11:40:29.515121Z"
    }
   },
   "outputs": [],
   "execution_count": 19
  },
  {
   "metadata": {
    "collapsed": false,
    "ExecuteTime": {
     "end_time": "2024-09-26T13:20:17.983103561Z",
     "start_time": "2024-09-26T11:40:29.994084Z"
    }
   },
   "cell_type": "code",
   "source": [
    "# set mi attribute with dict for each component\n",
    "for component_name, component in components.items():\n",
    "    if component_name in mi_results_df.columns:\n",
    "        component.mutual_info_dict = mi_results_df[component_name]\n",
    "    else:\n",
    "        component.mutual_info_dict = {}\n"
   ],
   "outputs": [],
   "execution_count": 20
  },
  {
   "cell_type": "markdown",
   "source": [
    "1,FIT-101,Sensor,Flow meter; Measures inflow into raw water tank.\n",
    "2,LIT-101,Sensor,Level Transmitter; Raw water tank level.\n",
    "3,MV-101,Actuator,Motorized valve; Controls water flow to the raw water tank."
   ],
   "metadata": {
    "collapsed": false
   }
  },
  {
   "cell_type": "markdown",
   "source": "# Calculate FFT and set Phase & Time Difference",
   "metadata": {
    "collapsed": false
   }
  },
  {
   "metadata": {
    "ExecuteTime": {
     "end_time": "2024-09-26T13:20:17.983372896Z",
     "start_time": "2024-09-26T11:59:55.864953Z"
    }
   },
   "cell_type": "code",
   "source": [
    "#calculate_phase_and_time_difference(df_orig, 'LIT101', 'FIT101')\n",
    "# make dict with every componet with a list of dict with phase diff for every other component where posssible\n",
    "phase_dict = {}\n",
    "for col_1 in df_orig.columns:\n",
    "    phase_dict[col_1] = {}\n",
    "    for col_2 in df_orig.columns:\n",
    "        try:\n",
    "            phase, time_diff = calculate_phase_and_time_difference(df_orig, col_1, col_2)\n",
    "            phase_dict[col_1][col_2] = {'phase': phase, 'time_diff': time_diff}\n",
    "        # catch errors in missing values etc\n",
    "        except Exception as e:\n",
    "            phase_dict[col_1][col_2] = {'phase': 9999, 'time_diff': 9999}\n",
    "\n",
    "phase_dict['LIT101']\n",
    "phase_dict['LIT101']['FIT503']"
   ],
   "outputs": [
    {
     "name": "stderr",
     "output_type": "stream",
     "text": [
      "/home/loz/Documents/GitHub/MSc-Project/final_code/component_module.py:808: RuntimeWarning: divide by zero encountered in scalar divide\n",
      "  time_difference = phase_difference / (2 * np.pi * avg_freq)\n"
     ]
    },
    {
     "data": {
      "text/plain": [
       "{'phase': 2.0303257741907172, 'time_diff': 2233.5186796369826}"
      ]
     },
     "execution_count": 63,
     "metadata": {},
     "output_type": "execute_result"
    }
   ],
   "execution_count": 63
  },
  {
   "metadata": {
    "ExecuteTime": {
     "end_time": "2024-09-26T13:20:17.984346963Z",
     "start_time": "2024-09-26T12:00:07.094918Z"
    }
   },
   "cell_type": "code",
   "source": [
    "# sort values\n",
    "for key, value in phase_dict.items(): \n",
    "    \n",
    "    # check for dict  \n",
    "    if isinstance(value, dict):    \n",
    "        # sort\n",
    "        sorted_items = sorted(value.items(), key=lambda x: x[1]['time_diff'])\n",
    "        \n",
    "        # back to dict\n",
    "        phase_dict[key] = dict(sorted_items) \n"
   ],
   "outputs": [],
   "execution_count": 64
  },
  {
   "metadata": {
    "ExecuteTime": {
     "end_time": "2024-09-26T13:20:17.984553337Z",
     "start_time": "2024-09-26T12:00:08.248404Z"
    }
   },
   "cell_type": "code",
   "source": [
    "# set wave_diff_dict attribute of each component\n",
    "for component_name, component_obj in components.items():\n",
    "    if component_name in phase_dict:\n",
    "        # drop self comparison\n",
    "        wave_diff_dict = {col: value for col, value in phase_dict[component_name].items() if col != component_name}\n",
    "        # set attribute\n",
    "        component_obj.wave_diff_dict = wave_diff_dict\n",
    "    else:\n",
    "        # set an empty dict as default\n",
    "        component_obj.wave_diff_dict = {}\n"
   ],
   "outputs": [],
   "execution_count": 65
  },
  {
   "metadata": {
    "ExecuteTime": {
     "end_time": "2024-09-26T13:20:17.984681127Z",
     "start_time": "2024-09-26T11:28:16.384040Z"
    }
   },
   "cell_type": "code",
   "source": [
    "#components['LIT101'].wave_diff_dict\n",
    "#df_lit_phase = pd.DataFrame(components['LIT101'].wave_diff_dict.T)\n",
    "#df_lit_phase = df_lit_phase.T\n",
    "#df_lit_phase = df_lit_phase.round(decimals= 2)"
   ],
   "outputs": [],
   "execution_count": 96
  },
  {
   "metadata": {
    "ExecuteTime": {
     "end_time": "2024-09-26T13:20:17.984785621Z",
     "start_time": "2024-09-26T11:28:16.783189Z"
    }
   },
   "cell_type": "code",
   "source": [
    "#df_lit_cut = df_lit_phase.iloc[10:18]\n",
    "#df_lit_cut"
   ],
   "outputs": [],
   "execution_count": 97
  },
  {
   "metadata": {
    "collapsed": false,
    "ExecuteTime": {
     "end_time": "2024-09-26T13:20:17.984884499Z",
     "start_time": "2024-09-26T11:28:17.235224Z"
    }
   },
   "cell_type": "code",
   "source": [
    "#sorted_phase_MV101 = sorted(phase_dict['MV101'], key=lambda x: x['time_diff'])\n",
    "#f_phase = pd.DataFrame(sorted_phase_MV101)\n",
    "#df_phase.loc['P101',]\n",
    "#df_phase.iloc[20:30,]"
   ],
   "outputs": [],
   "execution_count": 98
  },
  {
   "metadata": {
    "collapsed": false,
    "ExecuteTime": {
     "end_time": "2024-09-26T13:20:18.088177600Z",
     "start_time": "2024-09-26T11:43:22.541455Z"
    }
   },
   "cell_type": "code",
   "outputs": [
    {
     "data": {
      "text/plain": [
       "4.096286201750075"
      ]
     },
     "execution_count": 36,
     "metadata": {},
     "output_type": "execute_result"
    }
   ],
   "execution_count": 36,
   "source": "switch_ratio(components['FIT101'])"
  },
  {
   "metadata": {},
   "cell_type": "code",
   "outputs": [],
   "execution_count": null,
   "source": ""
  },
  {
   "metadata": {},
   "cell_type": "markdown",
   "source": "# Serialising Component Objects"
  },
  {
   "metadata": {
    "ExecuteTime": {
     "end_time": "2024-09-26T13:23:06.361540Z",
     "start_time": "2024-09-26T13:23:06.332180Z"
    }
   },
   "cell_type": "code",
   "source": [
    "object_saves = {}\n",
    "path = '/home/loz/Documents/GitHub/MSc-Project/final_code/component_objs/'\n",
    "for component_name, component_obj in components.items():    \n",
    "    filename = path + component_name\n",
    "    save_component(component_obj, filename)\n",
    "    object_saves[component_name] = filename\n",
    "\n",
    "object_saves[component_name] = filename\n",
    "component_filename = pd.DataFrame.from_dict(object_saves, orient='index', columns=['filename'])\n",
    "component_filename.to_csv(path + 'component_filenames.csv', index=True)"
   ],
   "outputs": [
    {
     "name": "stdout",
     "output_type": "stream",
     "text": [
      "Component 'FIT101' saved to /home/loz/Documents/GitHub/MSc-Project/final_code/component_objs/FIT101.\n",
      "Component 'LIT101' saved to /home/loz/Documents/GitHub/MSc-Project/final_code/component_objs/LIT101.\n",
      "Component 'MV101' saved to /home/loz/Documents/GitHub/MSc-Project/final_code/component_objs/MV101.\n",
      "Component 'P101' saved to /home/loz/Documents/GitHub/MSc-Project/final_code/component_objs/P101.\n",
      "Component 'P102' saved to /home/loz/Documents/GitHub/MSc-Project/final_code/component_objs/P102.\n",
      "Component 'AIT201' saved to /home/loz/Documents/GitHub/MSc-Project/final_code/component_objs/AIT201.\n",
      "Component 'AIT202' saved to /home/loz/Documents/GitHub/MSc-Project/final_code/component_objs/AIT202.\n",
      "Component 'AIT203' saved to /home/loz/Documents/GitHub/MSc-Project/final_code/component_objs/AIT203.\n",
      "Component 'FIT201' saved to /home/loz/Documents/GitHub/MSc-Project/final_code/component_objs/FIT201.\n",
      "Component 'MV201' saved to /home/loz/Documents/GitHub/MSc-Project/final_code/component_objs/MV201.\n",
      "Component 'P201' saved to /home/loz/Documents/GitHub/MSc-Project/final_code/component_objs/P201.\n",
      "Component 'P202' saved to /home/loz/Documents/GitHub/MSc-Project/final_code/component_objs/P202.\n",
      "Component 'P203' saved to /home/loz/Documents/GitHub/MSc-Project/final_code/component_objs/P203.\n",
      "Component 'P204' saved to /home/loz/Documents/GitHub/MSc-Project/final_code/component_objs/P204.\n",
      "Component 'P205' saved to /home/loz/Documents/GitHub/MSc-Project/final_code/component_objs/P205.\n",
      "Component 'P206' saved to /home/loz/Documents/GitHub/MSc-Project/final_code/component_objs/P206.\n",
      "Component 'DPIT301' saved to /home/loz/Documents/GitHub/MSc-Project/final_code/component_objs/DPIT301.\n",
      "Component 'FIT301' saved to /home/loz/Documents/GitHub/MSc-Project/final_code/component_objs/FIT301.\n",
      "Component 'LIT301' saved to /home/loz/Documents/GitHub/MSc-Project/final_code/component_objs/LIT301.\n",
      "Component 'MV301' saved to /home/loz/Documents/GitHub/MSc-Project/final_code/component_objs/MV301.\n",
      "Component 'MV302' saved to /home/loz/Documents/GitHub/MSc-Project/final_code/component_objs/MV302.\n",
      "Component 'MV303' saved to /home/loz/Documents/GitHub/MSc-Project/final_code/component_objs/MV303.\n",
      "Component 'MV304' saved to /home/loz/Documents/GitHub/MSc-Project/final_code/component_objs/MV304.\n",
      "Component 'P301' saved to /home/loz/Documents/GitHub/MSc-Project/final_code/component_objs/P301.\n",
      "Component 'P302' saved to /home/loz/Documents/GitHub/MSc-Project/final_code/component_objs/P302.\n",
      "Component 'AIT401' saved to /home/loz/Documents/GitHub/MSc-Project/final_code/component_objs/AIT401.\n",
      "Component 'AIT402' saved to /home/loz/Documents/GitHub/MSc-Project/final_code/component_objs/AIT402.\n",
      "Component 'FIT401' saved to /home/loz/Documents/GitHub/MSc-Project/final_code/component_objs/FIT401.\n",
      "Component 'LIT401' saved to /home/loz/Documents/GitHub/MSc-Project/final_code/component_objs/LIT401.\n",
      "Component 'P401' saved to /home/loz/Documents/GitHub/MSc-Project/final_code/component_objs/P401.\n",
      "Component 'P402' saved to /home/loz/Documents/GitHub/MSc-Project/final_code/component_objs/P402.\n",
      "Component 'P403' saved to /home/loz/Documents/GitHub/MSc-Project/final_code/component_objs/P403.\n",
      "Component 'P404' saved to /home/loz/Documents/GitHub/MSc-Project/final_code/component_objs/P404.\n",
      "Component 'UV401' saved to /home/loz/Documents/GitHub/MSc-Project/final_code/component_objs/UV401.\n",
      "Component 'AIT501' saved to /home/loz/Documents/GitHub/MSc-Project/final_code/component_objs/AIT501.\n",
      "Component 'AIT502' saved to /home/loz/Documents/GitHub/MSc-Project/final_code/component_objs/AIT502.\n",
      "Component 'AIT503' saved to /home/loz/Documents/GitHub/MSc-Project/final_code/component_objs/AIT503.\n",
      "Component 'AIT504' saved to /home/loz/Documents/GitHub/MSc-Project/final_code/component_objs/AIT504.\n",
      "Component 'FIT501' saved to /home/loz/Documents/GitHub/MSc-Project/final_code/component_objs/FIT501.\n",
      "Component 'FIT502' saved to /home/loz/Documents/GitHub/MSc-Project/final_code/component_objs/FIT502.\n",
      "Component 'FIT503' saved to /home/loz/Documents/GitHub/MSc-Project/final_code/component_objs/FIT503.\n",
      "Component 'FIT504' saved to /home/loz/Documents/GitHub/MSc-Project/final_code/component_objs/FIT504.\n",
      "Component 'P501' saved to /home/loz/Documents/GitHub/MSc-Project/final_code/component_objs/P501.\n",
      "Component 'P502' saved to /home/loz/Documents/GitHub/MSc-Project/final_code/component_objs/P502.\n",
      "Component 'PIT501' saved to /home/loz/Documents/GitHub/MSc-Project/final_code/component_objs/PIT501.\n",
      "Component 'PIT502' saved to /home/loz/Documents/GitHub/MSc-Project/final_code/component_objs/PIT502.\n",
      "Component 'PIT503' saved to /home/loz/Documents/GitHub/MSc-Project/final_code/component_objs/PIT503.\n",
      "Component 'FIT601' saved to /home/loz/Documents/GitHub/MSc-Project/final_code/component_objs/FIT601.\n",
      "Component 'P601' saved to /home/loz/Documents/GitHub/MSc-Project/final_code/component_objs/P601.\n",
      "Component 'P602' saved to /home/loz/Documents/GitHub/MSc-Project/final_code/component_objs/P602.\n",
      "Component 'P603' saved to /home/loz/Documents/GitHub/MSc-Project/final_code/component_objs/P603.\n"
     ]
    }
   ],
   "execution_count": 14
  },
  {
   "metadata": {
    "ExecuteTime": {
     "end_time": "2024-09-26T13:23:24.100465Z",
     "start_time": "2024-09-26T13:23:24.073500Z"
    }
   },
   "cell_type": "code",
   "source": "components_loaded['LIT101'].norm_step_size",
   "outputs": [
    {
     "ename": "KeyError",
     "evalue": "'LIT101'",
     "output_type": "error",
     "traceback": [
      "\u001B[0;31m---------------------------------------------------------------------------\u001B[0m",
      "\u001B[0;31mKeyError\u001B[0m                                  Traceback (most recent call last)",
      "Cell \u001B[0;32mIn[16], line 1\u001B[0m\n\u001B[0;32m----> 1\u001B[0m \u001B[43mcomponents_loaded\u001B[49m\u001B[43m[\u001B[49m\u001B[38;5;124;43m'\u001B[39;49m\u001B[38;5;124;43mLIT101\u001B[39;49m\u001B[38;5;124;43m'\u001B[39;49m\u001B[43m]\u001B[49m\u001B[38;5;241m.\u001B[39mnorm_step_size\n",
      "\u001B[0;31mKeyError\u001B[0m: 'LIT101'"
     ]
    }
   ],
   "execution_count": 16
  },
  {
   "metadata": {
    "ExecuteTime": {
     "end_time": "2024-09-26T13:23:50.177296Z",
     "start_time": "2024-09-26T13:23:50.170569Z"
    }
   },
   "cell_type": "code",
   "source": "components_loaded",
   "outputs": [
    {
     "data": {
      "text/plain": [
       "{'P603': <component_module.Component at 0x71d864b21d90>}"
      ]
     },
     "execution_count": 17,
     "metadata": {},
     "output_type": "execute_result"
    }
   ],
   "execution_count": 17
  },
  {
   "metadata": {
    "ExecuteTime": {
     "end_time": "2024-09-26T13:24:19.282653Z",
     "start_time": "2024-09-26T13:24:19.277415Z"
    }
   },
   "cell_type": "code",
   "source": "#df_comp_files",
   "outputs": [],
   "execution_count": 19
  },
  {
   "metadata": {
    "ExecuteTime": {
     "end_time": "2024-09-26T13:26:47.219606Z",
     "start_time": "2024-09-26T13:26:47.202222Z"
    }
   },
   "cell_type": "code",
   "source": [
    "df_comp_files = pd.read_csv(path + 'component_filenames.csv', index_col=0)\n",
    "components_loaded = {}\n",
    "for component_name, filename in df_comp_files['filename'].items():    \n",
    "    # put returned component object into dict\n",
    "    components_loaded[component_name] = load_component(filename)\n",
    "    #print(filename)"
   ],
   "outputs": [
    {
     "name": "stdout",
     "output_type": "stream",
     "text": [
      "Component 'FIT101' has been loaded from /home/loz/Documents/GitHub/MSc-Project/final_code/component_objs/FIT101.\n",
      "Component 'LIT101' has been loaded from /home/loz/Documents/GitHub/MSc-Project/final_code/component_objs/LIT101.\n",
      "Component 'MV101' has been loaded from /home/loz/Documents/GitHub/MSc-Project/final_code/component_objs/MV101.\n",
      "Component 'P101' has been loaded from /home/loz/Documents/GitHub/MSc-Project/final_code/component_objs/P101.\n",
      "Component 'P102' has been loaded from /home/loz/Documents/GitHub/MSc-Project/final_code/component_objs/P102.\n",
      "Component 'AIT201' has been loaded from /home/loz/Documents/GitHub/MSc-Project/final_code/component_objs/AIT201.\n",
      "Component 'AIT202' has been loaded from /home/loz/Documents/GitHub/MSc-Project/final_code/component_objs/AIT202.\n",
      "Component 'AIT203' has been loaded from /home/loz/Documents/GitHub/MSc-Project/final_code/component_objs/AIT203.\n",
      "Component 'FIT201' has been loaded from /home/loz/Documents/GitHub/MSc-Project/final_code/component_objs/FIT201.\n",
      "Component 'MV201' has been loaded from /home/loz/Documents/GitHub/MSc-Project/final_code/component_objs/MV201.\n",
      "Component 'P201' has been loaded from /home/loz/Documents/GitHub/MSc-Project/final_code/component_objs/P201.\n",
      "Component 'P202' has been loaded from /home/loz/Documents/GitHub/MSc-Project/final_code/component_objs/P202.\n",
      "Component 'P203' has been loaded from /home/loz/Documents/GitHub/MSc-Project/final_code/component_objs/P203.\n",
      "Component 'P204' has been loaded from /home/loz/Documents/GitHub/MSc-Project/final_code/component_objs/P204.\n",
      "Component 'P205' has been loaded from /home/loz/Documents/GitHub/MSc-Project/final_code/component_objs/P205.\n",
      "Component 'P206' has been loaded from /home/loz/Documents/GitHub/MSc-Project/final_code/component_objs/P206.\n",
      "Component 'DPIT301' has been loaded from /home/loz/Documents/GitHub/MSc-Project/final_code/component_objs/DPIT301.\n",
      "Component 'FIT301' has been loaded from /home/loz/Documents/GitHub/MSc-Project/final_code/component_objs/FIT301.\n",
      "Component 'LIT301' has been loaded from /home/loz/Documents/GitHub/MSc-Project/final_code/component_objs/LIT301.\n",
      "Component 'MV301' has been loaded from /home/loz/Documents/GitHub/MSc-Project/final_code/component_objs/MV301.\n",
      "Component 'MV302' has been loaded from /home/loz/Documents/GitHub/MSc-Project/final_code/component_objs/MV302.\n",
      "Component 'MV303' has been loaded from /home/loz/Documents/GitHub/MSc-Project/final_code/component_objs/MV303.\n",
      "Component 'MV304' has been loaded from /home/loz/Documents/GitHub/MSc-Project/final_code/component_objs/MV304.\n",
      "Component 'P301' has been loaded from /home/loz/Documents/GitHub/MSc-Project/final_code/component_objs/P301.\n",
      "Component 'P302' has been loaded from /home/loz/Documents/GitHub/MSc-Project/final_code/component_objs/P302.\n",
      "Component 'AIT401' has been loaded from /home/loz/Documents/GitHub/MSc-Project/final_code/component_objs/AIT401.\n",
      "Component 'AIT402' has been loaded from /home/loz/Documents/GitHub/MSc-Project/final_code/component_objs/AIT402.\n",
      "Component 'FIT401' has been loaded from /home/loz/Documents/GitHub/MSc-Project/final_code/component_objs/FIT401.\n",
      "Component 'LIT401' has been loaded from /home/loz/Documents/GitHub/MSc-Project/final_code/component_objs/LIT401.\n",
      "Component 'P401' has been loaded from /home/loz/Documents/GitHub/MSc-Project/final_code/component_objs/P401.\n",
      "Component 'P402' has been loaded from /home/loz/Documents/GitHub/MSc-Project/final_code/component_objs/P402.\n",
      "Component 'P403' has been loaded from /home/loz/Documents/GitHub/MSc-Project/final_code/component_objs/P403.\n",
      "Component 'P404' has been loaded from /home/loz/Documents/GitHub/MSc-Project/final_code/component_objs/P404.\n",
      "Component 'UV401' has been loaded from /home/loz/Documents/GitHub/MSc-Project/final_code/component_objs/UV401.\n",
      "Component 'AIT501' has been loaded from /home/loz/Documents/GitHub/MSc-Project/final_code/component_objs/AIT501.\n",
      "Component 'AIT502' has been loaded from /home/loz/Documents/GitHub/MSc-Project/final_code/component_objs/AIT502.\n",
      "Component 'AIT503' has been loaded from /home/loz/Documents/GitHub/MSc-Project/final_code/component_objs/AIT503.\n",
      "Component 'AIT504' has been loaded from /home/loz/Documents/GitHub/MSc-Project/final_code/component_objs/AIT504.\n",
      "Component 'FIT501' has been loaded from /home/loz/Documents/GitHub/MSc-Project/final_code/component_objs/FIT501.\n",
      "Component 'FIT502' has been loaded from /home/loz/Documents/GitHub/MSc-Project/final_code/component_objs/FIT502.\n",
      "Component 'FIT503' has been loaded from /home/loz/Documents/GitHub/MSc-Project/final_code/component_objs/FIT503.\n",
      "Component 'FIT504' has been loaded from /home/loz/Documents/GitHub/MSc-Project/final_code/component_objs/FIT504.\n",
      "Component 'P501' has been loaded from /home/loz/Documents/GitHub/MSc-Project/final_code/component_objs/P501.\n",
      "Component 'P502' has been loaded from /home/loz/Documents/GitHub/MSc-Project/final_code/component_objs/P502.\n",
      "Component 'PIT501' has been loaded from /home/loz/Documents/GitHub/MSc-Project/final_code/component_objs/PIT501.\n",
      "Component 'PIT502' has been loaded from /home/loz/Documents/GitHub/MSc-Project/final_code/component_objs/PIT502.\n",
      "Component 'PIT503' has been loaded from /home/loz/Documents/GitHub/MSc-Project/final_code/component_objs/PIT503.\n",
      "Component 'FIT601' has been loaded from /home/loz/Documents/GitHub/MSc-Project/final_code/component_objs/FIT601.\n",
      "Component 'P601' has been loaded from /home/loz/Documents/GitHub/MSc-Project/final_code/component_objs/P601.\n",
      "Component 'P602' has been loaded from /home/loz/Documents/GitHub/MSc-Project/final_code/component_objs/P602.\n",
      "Component 'P603' has been loaded from /home/loz/Documents/GitHub/MSc-Project/final_code/component_objs/P603.\n"
     ]
    }
   ],
   "execution_count": 23
  },
  {
   "metadata": {
    "ExecuteTime": {
     "end_time": "2024-09-26T13:26:50.944139Z",
     "start_time": "2024-09-26T13:26:50.917464Z"
    }
   },
   "cell_type": "code",
   "source": "component_filename_load",
   "outputs": [
    {
     "ename": "NameError",
     "evalue": "name 'component_filename_load' is not defined",
     "output_type": "error",
     "traceback": [
      "\u001B[0;31m---------------------------------------------------------------------------\u001B[0m",
      "\u001B[0;31mNameError\u001B[0m                                 Traceback (most recent call last)",
      "Cell \u001B[0;32mIn[24], line 1\u001B[0m\n\u001B[0;32m----> 1\u001B[0m \u001B[43mcomponent_filename_load\u001B[49m\n",
      "\u001B[0;31mNameError\u001B[0m: name 'component_filename_load' is not defined"
     ]
    }
   ],
   "execution_count": 24
  },
  {
   "metadata": {
    "ExecuteTime": {
     "end_time": "2024-09-26T13:26:52.724541Z",
     "start_time": "2024-09-26T13:26:52.716799Z"
    }
   },
   "cell_type": "code",
   "source": "components_loaded.keys()",
   "outputs": [
    {
     "data": {
      "text/plain": [
       "dict_keys(['FIT101', 'LIT101', 'MV101', 'P101', 'P102', 'AIT201', 'AIT202', 'AIT203', 'FIT201', 'MV201', 'P201', 'P202', 'P203', 'P204', 'P205', 'P206', 'DPIT301', 'FIT301', 'LIT301', 'MV301', 'MV302', 'MV303', 'MV304', 'P301', 'P302', 'AIT401', 'AIT402', 'FIT401', 'LIT401', 'P401', 'P402', 'P403', 'P404', 'UV401', 'AIT501', 'AIT502', 'AIT503', 'AIT504', 'FIT501', 'FIT502', 'FIT503', 'FIT504', 'P501', 'P502', 'PIT501', 'PIT502', 'PIT503', 'FIT601', 'P601', 'P602', 'P603'])"
      ]
     },
     "execution_count": 25,
     "metadata": {},
     "output_type": "execute_result"
    }
   ],
   "execution_count": 25
  },
  {
   "metadata": {
    "ExecuteTime": {
     "end_time": "2024-09-26T13:18:51.546613217Z",
     "start_time": "2024-09-26T12:09:35.941236Z"
    }
   },
   "cell_type": "code",
   "source": "#components_loaded['LIT101'].max_value",
   "outputs": [
    {
     "data": {
      "text/plain": [
       "816.4966"
      ]
     },
     "execution_count": 71,
     "metadata": {},
     "output_type": "execute_result"
    }
   ],
   "execution_count": 71
  },
  {
   "metadata": {
    "ExecuteTime": {
     "end_time": "2024-09-26T13:18:51.546926537Z",
     "start_time": "2024-09-26T12:09:50.981221Z"
    }
   },
   "cell_type": "code",
   "source": "#components['LIT101'].max_value",
   "outputs": [
    {
     "data": {
      "text/plain": [
       "816.4966"
      ]
     },
     "execution_count": 72,
     "metadata": {},
     "output_type": "execute_result"
    }
   ],
   "execution_count": 72
  },
  {
   "metadata": {},
   "cell_type": "markdown",
   "source": [
    "# get  component objects\n",
    "path = '/home/loz/Documents/GitHub/MSc-Project/final_code/component_objs/'\n",
    "df_comp_files = pd.read_csv(os.path.join(path + 'component_filenames.csv'), index_col=0)\n",
    "components = {}\n",
    "for component_name, row in df_comp_files.iterrows():  \n",
    "    filename = row['filename'] \n",
    "    # put returned component object into dict\n",
    "    components[component_name] = load_component(filename)"
   ]
  },
  {
   "metadata": {},
   "cell_type": "code",
   "outputs": [],
   "execution_count": null,
   "source": ""
  },
  {
   "metadata": {},
   "cell_type": "markdown",
   "source": "# Component Relationship Overview"
  },
  {
   "cell_type": "code",
   "source": [
    "comp_dict = {}\n",
    "for name, values in zip(['Mutual Info', 'Linear Cor', 'Non Linear Cor'], [top_mi, top_lin_cor, top_non_lin_cor]):\n",
    "    comp_dict[name] = values\n",
    "data = pd.DataFrame(comp_dict)\n",
    "data.head(10)"
   ],
   "metadata": {
    "collapsed": false,
    "ExecuteTime": {
     "end_time": "2024-09-26T13:18:51.553990214Z",
     "start_time": "2024-09-26T10:36:41.043511Z"
    }
   },
   "outputs": [
    {
     "data": {
      "text/plain": [
       "        Mutual Info  Linear Cor  Non Linear Cor\n",
       "FIT504   249.880251      0.1790          0.1281\n",
       "P301     119.486524         NaN             NaN\n",
       "FIT401    85.786212         NaN             NaN\n",
       "FIT501    82.113939         NaN             NaN\n",
       "PIT501    47.039659         NaN             NaN\n",
       "P402      46.286453         NaN             NaN\n",
       "AIT202          NaN      0.1846          0.5123\n",
       "AIT501          NaN      0.1182          0.1060\n",
       "FIT503          NaN      0.0626          0.0655\n",
       "PIT502          NaN      0.0400             NaN"
      ],
      "text/html": [
       "<div>\n",
       "<style scoped>\n",
       "    .dataframe tbody tr th:only-of-type {\n",
       "        vertical-align: middle;\n",
       "    }\n",
       "\n",
       "    .dataframe tbody tr th {\n",
       "        vertical-align: top;\n",
       "    }\n",
       "\n",
       "    .dataframe thead th {\n",
       "        text-align: right;\n",
       "    }\n",
       "</style>\n",
       "<table border=\"1\" class=\"dataframe\">\n",
       "  <thead>\n",
       "    <tr style=\"text-align: right;\">\n",
       "      <th></th>\n",
       "      <th>Mutual Info</th>\n",
       "      <th>Linear Cor</th>\n",
       "      <th>Non Linear Cor</th>\n",
       "    </tr>\n",
       "  </thead>\n",
       "  <tbody>\n",
       "    <tr>\n",
       "      <th>FIT504</th>\n",
       "      <td>249.880251</td>\n",
       "      <td>0.1790</td>\n",
       "      <td>0.1281</td>\n",
       "    </tr>\n",
       "    <tr>\n",
       "      <th>P301</th>\n",
       "      <td>119.486524</td>\n",
       "      <td>NaN</td>\n",
       "      <td>NaN</td>\n",
       "    </tr>\n",
       "    <tr>\n",
       "      <th>FIT401</th>\n",
       "      <td>85.786212</td>\n",
       "      <td>NaN</td>\n",
       "      <td>NaN</td>\n",
       "    </tr>\n",
       "    <tr>\n",
       "      <th>FIT501</th>\n",
       "      <td>82.113939</td>\n",
       "      <td>NaN</td>\n",
       "      <td>NaN</td>\n",
       "    </tr>\n",
       "    <tr>\n",
       "      <th>PIT501</th>\n",
       "      <td>47.039659</td>\n",
       "      <td>NaN</td>\n",
       "      <td>NaN</td>\n",
       "    </tr>\n",
       "    <tr>\n",
       "      <th>P402</th>\n",
       "      <td>46.286453</td>\n",
       "      <td>NaN</td>\n",
       "      <td>NaN</td>\n",
       "    </tr>\n",
       "    <tr>\n",
       "      <th>AIT202</th>\n",
       "      <td>NaN</td>\n",
       "      <td>0.1846</td>\n",
       "      <td>0.5123</td>\n",
       "    </tr>\n",
       "    <tr>\n",
       "      <th>AIT501</th>\n",
       "      <td>NaN</td>\n",
       "      <td>0.1182</td>\n",
       "      <td>0.1060</td>\n",
       "    </tr>\n",
       "    <tr>\n",
       "      <th>FIT503</th>\n",
       "      <td>NaN</td>\n",
       "      <td>0.0626</td>\n",
       "      <td>0.0655</td>\n",
       "    </tr>\n",
       "    <tr>\n",
       "      <th>PIT502</th>\n",
       "      <td>NaN</td>\n",
       "      <td>0.0400</td>\n",
       "      <td>NaN</td>\n",
       "    </tr>\n",
       "  </tbody>\n",
       "</table>\n",
       "</div>"
      ]
     },
     "execution_count": 39,
     "metadata": {},
     "output_type": "execute_result"
    }
   ],
   "execution_count": 39
  },
  {
   "metadata": {},
   "cell_type": "code",
   "outputs": [],
   "execution_count": null,
   "source": ""
  }
 ],
 "metadata": {
  "kernelspec": {
   "display_name": "Python 3",
   "language": "python",
   "name": "python3"
  },
  "language_info": {
   "codemirror_mode": {
    "name": "ipython",
    "version": 2
   },
   "file_extension": ".py",
   "mimetype": "text/x-python",
   "name": "python",
   "nbconvert_exporter": "python",
   "pygments_lexer": "ipython2",
   "version": "2.7.6"
  }
 },
 "nbformat": 4,
 "nbformat_minor": 0
}
