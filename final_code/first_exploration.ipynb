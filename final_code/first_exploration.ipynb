{
 "cells": [
  {
   "metadata": {
    "ExecuteTime": {
     "end_time": "2024-09-15T14:10:36.912170Z",
     "start_time": "2024-09-15T14:10:23.718171Z"
    }
   },
   "cell_type": "code",
   "source": [
    "#!pip install matplotlib\n",
    "#!pip install scipy\n",
    "#!pip install networkx\n",
    "#!pip install seaborn\n",
    "#!pip install scikit-learn\n"
   ],
   "outputs": [
    {
     "name": "stdout",
     "output_type": "stream",
     "text": [
      "Collecting scikit-learn\r\n",
      "  Obtaining dependency information for scikit-learn from https://files.pythonhosted.org/packages/c6/29/044048c5e911373827c0e1d3051321b9183b2a4f8d4e2f11c08fcff83f13/scikit_learn-1.5.2-cp312-cp312-manylinux_2_17_x86_64.manylinux2014_x86_64.whl.metadata\r\n",
      "  Downloading scikit_learn-1.5.2-cp312-cp312-manylinux_2_17_x86_64.manylinux2014_x86_64.whl.metadata (13 kB)\r\n",
      "Requirement already satisfied: numpy>=1.19.5 in /home/loz/PycharmProjects/pythonProject1/.venv/lib/python3.12/site-packages (from scikit-learn) (1.26.4)\r\n",
      "Requirement already satisfied: scipy>=1.6.0 in /home/loz/PycharmProjects/pythonProject1/.venv/lib/python3.12/site-packages (from scikit-learn) (1.14.1)\r\n",
      "Collecting joblib>=1.2.0 (from scikit-learn)\r\n",
      "  Obtaining dependency information for joblib>=1.2.0 from https://files.pythonhosted.org/packages/91/29/df4b9b42f2be0b623cbd5e2140cafcaa2bef0759a00b7b70104dcfe2fb51/joblib-1.4.2-py3-none-any.whl.metadata\r\n",
      "  Downloading joblib-1.4.2-py3-none-any.whl.metadata (5.4 kB)\r\n",
      "Collecting threadpoolctl>=3.1.0 (from scikit-learn)\r\n",
      "  Obtaining dependency information for threadpoolctl>=3.1.0 from https://files.pythonhosted.org/packages/4b/2c/ffbf7a134b9ab11a67b0cf0726453cedd9c5043a4fe7a35d1cefa9a1bcfb/threadpoolctl-3.5.0-py3-none-any.whl.metadata\r\n",
      "  Downloading threadpoolctl-3.5.0-py3-none-any.whl.metadata (13 kB)\r\n",
      "Downloading scikit_learn-1.5.2-cp312-cp312-manylinux_2_17_x86_64.manylinux2014_x86_64.whl (12.9 MB)\r\n",
      "\u001B[2K   \u001B[90m━━━━━━━━━━━━━━━━━━━━━━━━━━━━━━━━━━━━━━━━\u001B[0m \u001B[32m12.9/12.9 MB\u001B[0m \u001B[31m2.2 MB/s\u001B[0m eta \u001B[36m0:00:00\u001B[0m00:01\u001B[0m00:01\u001B[0mm\r\n",
      "\u001B[?25hDownloading joblib-1.4.2-py3-none-any.whl (301 kB)\r\n",
      "\u001B[2K   \u001B[90m━━━━━━━━━━━━━━━━━━━━━━━━━━━━━━━━━━━━━━━━\u001B[0m \u001B[32m301.8/301.8 kB\u001B[0m \u001B[31m3.1 MB/s\u001B[0m eta \u001B[36m0:00:00\u001B[0m00:01\u001B[0m00:01\u001B[0m\r\n",
      "\u001B[?25hDownloading threadpoolctl-3.5.0-py3-none-any.whl (18 kB)\r\n",
      "Installing collected packages: threadpoolctl, joblib, scikit-learn\r\n",
      "Successfully installed joblib-1.4.2 scikit-learn-1.5.2 threadpoolctl-3.5.0\r\n",
      "\r\n",
      "\u001B[1m[\u001B[0m\u001B[34;49mnotice\u001B[0m\u001B[1;39;49m]\u001B[0m\u001B[39;49m A new release of pip is available: \u001B[0m\u001B[31;49m23.2.1\u001B[0m\u001B[39;49m -> \u001B[0m\u001B[32;49m24.2\u001B[0m\r\n",
      "\u001B[1m[\u001B[0m\u001B[34;49mnotice\u001B[0m\u001B[1;39;49m]\u001B[0m\u001B[39;49m To update, run: \u001B[0m\u001B[32;49mpip install --upgrade pip\u001B[0m\r\n"
     ]
    }
   ],
   "execution_count": 21
  },
  {
   "cell_type": "code",
   "metadata": {
    "collapsed": true,
    "ExecuteTime": {
     "end_time": "2024-09-15T14:13:08.943948Z",
     "start_time": "2024-09-15T14:13:08.909350Z"
    }
   },
   "source": [
    "import pandas as pd\n",
    "import numpy as np\n",
    "\n",
    "import matplotlib.pyplot as plt\n",
    "import scipy.stats as stats\n",
    "#import statsmodels.api as sm\n",
    "\n",
    "# for type hinting\n",
    "#from typing import List\n",
    "\n",
    "# for pearson corr coef and p values\n",
    "from scipy.stats import pearsonr\n",
    "\n",
    "# For plotting relationships\n",
    "import networkx as nx\n",
    "\n",
    "\n",
    "#from matplotlib.lines import Line2D\n",
    "#from matplotlib.text import Annotation\n",
    "import seaborn as sns\n",
    "\n",
    "# for non linear coefficients\n",
    "from scipy.stats import spearmanr\n",
    "from scipy.spatial.distance import squareform, pdist\n",
    "from sklearn.feature_selection import mutual_info_regression\n",
    "from sklearn.preprocessing import StandardScaler\n",
    "\n",
    "# get component class from custom module\n",
    "from component_module import Component, plot_correlation_network, plot_component_comparison, getKDEDensity, getDistributionBins, kde_mutual_information, drop_static_columns"
   ],
   "outputs": [],
   "execution_count": 27
  },
  {
   "cell_type": "code",
   "source": [
    "# Load data from CSV\n",
    "#df = pd.read_excel('D:\\GitHub\\MSc-Project-March\\SWaT_DataSWaT_2015_12_22_10sec.xlsx', engine=\"openpyxl\")\n",
    "#df = pd.read_excel('D:/GitHub/MSc-Project/SWaT_DataSWaT_2015_12_22_10sec.xlsx', engine=\"openpyxl\")\n",
    "df = pd.read_csv('/home/loz/Documents/GitHub/MSc-Project/SWaT DataSWaT 2015-12-23.csv')"
   ],
   "metadata": {
    "collapsed": false,
    "ExecuteTime": {
     "end_time": "2024-09-15T14:02:24.079955Z",
     "start_time": "2024-09-15T14:02:23.380452Z"
    }
   },
   "outputs": [],
   "execution_count": 8
  },
  {
   "cell_type": "code",
   "source": [
    "df.head()"
   ],
   "metadata": {
    "collapsed": false,
    "ExecuteTime": {
     "end_time": "2024-09-15T14:02:25.478587Z",
     "start_time": "2024-09-15T14:02:25.456135Z"
    }
   },
   "outputs": [
    {
     "data": {
      "text/plain": [
       "             Timestamp  FIT101    LIT101  MV101  P101  P102    AIT201  \\\n",
       "0  2015-12-23 00:00:00     0.0  0.994030    0.5   1.0   0.0  0.509983   \n",
       "1  2015-12-23 00:00:01     0.0  0.993523    0.5   1.0   0.0  0.509983   \n",
       "2  2015-12-23 00:00:02     0.0  0.993523    0.5   1.0   0.0  0.509983   \n",
       "3  2015-12-23 00:00:03     0.0  0.993467    0.5   1.0   0.0  0.494624   \n",
       "4  2015-12-23 00:00:04     0.0  0.993072    0.5   1.0   0.0  0.494624   \n",
       "\n",
       "     AIT202    AIT203    FIT201  ...  P502    PIT501    PIT502    PIT503  \\\n",
       "0  0.197627  0.500754  0.769136  ...   0.0  0.958717  0.279476  0.962447   \n",
       "1  0.197627  0.501658  0.863706  ...   0.0  0.958466  0.279476  0.962447   \n",
       "2  0.197627  0.503767  0.916761  ...   0.0  0.957840  0.279476  0.962366   \n",
       "3  0.194993  0.506178  0.952045  ...   0.0  0.957840  0.279476  0.961636   \n",
       "4  0.194993  0.509593  0.974452  ...   0.0  0.958654  0.279476  0.961636   \n",
       "\n",
       "   FIT601  P601  P602  P603        date      time  \n",
       "0     0.0   0.0   0.0   0.0  2015-12-23  00:00:00  \n",
       "1     0.0   0.0   0.0   0.0  2015-12-23  00:00:01  \n",
       "2     0.0   0.0   0.0   0.0  2015-12-23  00:00:02  \n",
       "3     0.0   0.0   0.0   0.0  2015-12-23  00:00:03  \n",
       "4     0.0   0.0   0.0   0.0  2015-12-23  00:00:04  \n",
       "\n",
       "[5 rows x 54 columns]"
      ],
      "text/html": [
       "<div>\n",
       "<style scoped>\n",
       "    .dataframe tbody tr th:only-of-type {\n",
       "        vertical-align: middle;\n",
       "    }\n",
       "\n",
       "    .dataframe tbody tr th {\n",
       "        vertical-align: top;\n",
       "    }\n",
       "\n",
       "    .dataframe thead th {\n",
       "        text-align: right;\n",
       "    }\n",
       "</style>\n",
       "<table border=\"1\" class=\"dataframe\">\n",
       "  <thead>\n",
       "    <tr style=\"text-align: right;\">\n",
       "      <th></th>\n",
       "      <th>Timestamp</th>\n",
       "      <th>FIT101</th>\n",
       "      <th>LIT101</th>\n",
       "      <th>MV101</th>\n",
       "      <th>P101</th>\n",
       "      <th>P102</th>\n",
       "      <th>AIT201</th>\n",
       "      <th>AIT202</th>\n",
       "      <th>AIT203</th>\n",
       "      <th>FIT201</th>\n",
       "      <th>...</th>\n",
       "      <th>P502</th>\n",
       "      <th>PIT501</th>\n",
       "      <th>PIT502</th>\n",
       "      <th>PIT503</th>\n",
       "      <th>FIT601</th>\n",
       "      <th>P601</th>\n",
       "      <th>P602</th>\n",
       "      <th>P603</th>\n",
       "      <th>date</th>\n",
       "      <th>time</th>\n",
       "    </tr>\n",
       "  </thead>\n",
       "  <tbody>\n",
       "    <tr>\n",
       "      <th>0</th>\n",
       "      <td>2015-12-23 00:00:00</td>\n",
       "      <td>0.0</td>\n",
       "      <td>0.994030</td>\n",
       "      <td>0.5</td>\n",
       "      <td>1.0</td>\n",
       "      <td>0.0</td>\n",
       "      <td>0.509983</td>\n",
       "      <td>0.197627</td>\n",
       "      <td>0.500754</td>\n",
       "      <td>0.769136</td>\n",
       "      <td>...</td>\n",
       "      <td>0.0</td>\n",
       "      <td>0.958717</td>\n",
       "      <td>0.279476</td>\n",
       "      <td>0.962447</td>\n",
       "      <td>0.0</td>\n",
       "      <td>0.0</td>\n",
       "      <td>0.0</td>\n",
       "      <td>0.0</td>\n",
       "      <td>2015-12-23</td>\n",
       "      <td>00:00:00</td>\n",
       "    </tr>\n",
       "    <tr>\n",
       "      <th>1</th>\n",
       "      <td>2015-12-23 00:00:01</td>\n",
       "      <td>0.0</td>\n",
       "      <td>0.993523</td>\n",
       "      <td>0.5</td>\n",
       "      <td>1.0</td>\n",
       "      <td>0.0</td>\n",
       "      <td>0.509983</td>\n",
       "      <td>0.197627</td>\n",
       "      <td>0.501658</td>\n",
       "      <td>0.863706</td>\n",
       "      <td>...</td>\n",
       "      <td>0.0</td>\n",
       "      <td>0.958466</td>\n",
       "      <td>0.279476</td>\n",
       "      <td>0.962447</td>\n",
       "      <td>0.0</td>\n",
       "      <td>0.0</td>\n",
       "      <td>0.0</td>\n",
       "      <td>0.0</td>\n",
       "      <td>2015-12-23</td>\n",
       "      <td>00:00:01</td>\n",
       "    </tr>\n",
       "    <tr>\n",
       "      <th>2</th>\n",
       "      <td>2015-12-23 00:00:02</td>\n",
       "      <td>0.0</td>\n",
       "      <td>0.993523</td>\n",
       "      <td>0.5</td>\n",
       "      <td>1.0</td>\n",
       "      <td>0.0</td>\n",
       "      <td>0.509983</td>\n",
       "      <td>0.197627</td>\n",
       "      <td>0.503767</td>\n",
       "      <td>0.916761</td>\n",
       "      <td>...</td>\n",
       "      <td>0.0</td>\n",
       "      <td>0.957840</td>\n",
       "      <td>0.279476</td>\n",
       "      <td>0.962366</td>\n",
       "      <td>0.0</td>\n",
       "      <td>0.0</td>\n",
       "      <td>0.0</td>\n",
       "      <td>0.0</td>\n",
       "      <td>2015-12-23</td>\n",
       "      <td>00:00:02</td>\n",
       "    </tr>\n",
       "    <tr>\n",
       "      <th>3</th>\n",
       "      <td>2015-12-23 00:00:03</td>\n",
       "      <td>0.0</td>\n",
       "      <td>0.993467</td>\n",
       "      <td>0.5</td>\n",
       "      <td>1.0</td>\n",
       "      <td>0.0</td>\n",
       "      <td>0.494624</td>\n",
       "      <td>0.194993</td>\n",
       "      <td>0.506178</td>\n",
       "      <td>0.952045</td>\n",
       "      <td>...</td>\n",
       "      <td>0.0</td>\n",
       "      <td>0.957840</td>\n",
       "      <td>0.279476</td>\n",
       "      <td>0.961636</td>\n",
       "      <td>0.0</td>\n",
       "      <td>0.0</td>\n",
       "      <td>0.0</td>\n",
       "      <td>0.0</td>\n",
       "      <td>2015-12-23</td>\n",
       "      <td>00:00:03</td>\n",
       "    </tr>\n",
       "    <tr>\n",
       "      <th>4</th>\n",
       "      <td>2015-12-23 00:00:04</td>\n",
       "      <td>0.0</td>\n",
       "      <td>0.993072</td>\n",
       "      <td>0.5</td>\n",
       "      <td>1.0</td>\n",
       "      <td>0.0</td>\n",
       "      <td>0.494624</td>\n",
       "      <td>0.194993</td>\n",
       "      <td>0.509593</td>\n",
       "      <td>0.974452</td>\n",
       "      <td>...</td>\n",
       "      <td>0.0</td>\n",
       "      <td>0.958654</td>\n",
       "      <td>0.279476</td>\n",
       "      <td>0.961636</td>\n",
       "      <td>0.0</td>\n",
       "      <td>0.0</td>\n",
       "      <td>0.0</td>\n",
       "      <td>0.0</td>\n",
       "      <td>2015-12-23</td>\n",
       "      <td>00:00:04</td>\n",
       "    </tr>\n",
       "  </tbody>\n",
       "</table>\n",
       "<p>5 rows × 54 columns</p>\n",
       "</div>"
      ]
     },
     "execution_count": 9,
     "metadata": {},
     "output_type": "execute_result"
    }
   ],
   "execution_count": 9
  },
  {
   "cell_type": "markdown",
   "source": [
    "See range of values in each column so allow filtering of unchanging values before correlation matrix."
   ],
   "metadata": {
    "collapsed": false
   }
  },
  {
   "metadata": {
    "ExecuteTime": {
     "end_time": "2024-09-15T14:02:49.725842Z",
     "start_time": "2024-09-15T14:02:49.719994Z"
    }
   },
   "cell_type": "code",
   "source": "#df.LIT101.max()",
   "outputs": [
    {
     "data": {
      "text/plain": [
       "0.9984791934028648"
      ]
     },
     "execution_count": 10,
     "metadata": {},
     "output_type": "execute_result"
    }
   ],
   "execution_count": 10
  },
  {
   "cell_type": "code",
   "execution_count": 4,
   "outputs": [],
   "source": [
    "# Get columns\n",
    "#column_names = df.columns\n",
    "#rint(column_names)"
   ],
   "metadata": {
    "collapsed": false,
    "ExecuteTime": {
     "end_time": "2024-09-11T00:28:21.396630400Z",
     "start_time": "2024-09-11T00:28:21.388628300Z"
    }
   }
  },
  {
   "metadata": {
    "ExecuteTime": {
     "end_time": "2024-09-15T14:03:48.796224Z",
     "start_time": "2024-09-15T14:03:48.779838Z"
    }
   },
   "cell_type": "code",
   "source": "df, dropped_cols = drop_static_columns(df)\n",
   "outputs": [
    {
     "ename": "NameError",
     "evalue": "name 'drop_static_columns' is not defined",
     "output_type": "error",
     "traceback": [
      "\u001B[0;31m---------------------------------------------------------------------------\u001B[0m",
      "\u001B[0;31mNameError\u001B[0m                                 Traceback (most recent call last)",
      "Cell \u001B[0;32mIn[11], line 1\u001B[0m\n\u001B[0;32m----> 1\u001B[0m df, dropped_cols \u001B[38;5;241m=\u001B[39m \u001B[43mdrop_static_columns\u001B[49m(df)\n",
      "\u001B[0;31mNameError\u001B[0m: name 'drop_static_columns' is not defined"
     ]
    }
   ],
   "execution_count": 11
  },
  {
   "cell_type": "markdown",
   "source": [
    "df_cleaned, dropped_columns = drop_static_columns(df)\n",
    "print(dropped_columns)\n",
    "\n",
    "if 'date' in df_cleaned.columns:\n",
    "    # drop time and date\n",
    "    df_cleaned = df_cleaned.drop(columns= ['date', 'time'])\n",
    "    print(df_cleaned.columns)"
   ],
   "metadata": {
    "collapsed": false
   }
  },
  {
   "cell_type": "markdown",
   "source": [
    "Styler might be worth it for formatting tables"
   ],
   "metadata": {
    "collapsed": false
   }
  },
  {
   "cell_type": "code",
   "execution_count": 5,
   "outputs": [],
   "source": [
    "#help(Styler)"
   ],
   "metadata": {
    "collapsed": false,
    "ExecuteTime": {
     "end_time": "2024-09-11T00:28:21.495308500Z",
     "start_time": "2024-09-11T00:28:21.401250500Z"
    }
   }
  },
  {
   "cell_type": "code",
   "execution_count": 5,
   "outputs": [],
   "source": [],
   "metadata": {
    "collapsed": false,
    "ExecuteTime": {
     "end_time": "2024-09-11T00:28:21.511311900Z",
     "start_time": "2024-09-11T00:28:21.421223100Z"
    }
   }
  },
  {
   "cell_type": "code",
   "execution_count": 6,
   "outputs": [],
   "source": [
    "# Display correlation matrix and p-values\n",
    "#print(\"Correlation Matrix:\")\n",
    "#display(correlation_matrix_styled)\n",
    "#print(\"\\nP-values:\")\n",
    "#display(p_values_styled)"
   ],
   "metadata": {
    "collapsed": false,
    "ExecuteTime": {
     "end_time": "2024-09-11T00:28:21.512312500Z",
     "start_time": "2024-09-11T00:28:21.455298900Z"
    }
   }
  },
  {
   "cell_type": "markdown",
   "source": [
    "# Create Component Object for Each Component in SWaT Data"
   ],
   "metadata": {
    "collapsed": false
   }
  },
  {
   "cell_type": "markdown",
   "source": [
    "Use a class to hold knowledge about each component which can be updated throughout pipeline. Can include functions which return top antecendent/ dependent modules etc."
   ],
   "metadata": {
    "collapsed": false
   }
  },
  {
   "cell_type": "code",
   "execution_count": 7,
   "outputs": [],
   "source": [
    "# check index is timestamp otherwise it's extracted as a component\n",
    "if df.index.name != 'Timestamp':\n",
    "    df = df.set_index('Timestamp')\n",
    "\n",
    "# iterate through every column and create object of component class\n",
    "# dictionary for all component objects\n",
    "components = {}\n",
    "for n, component in enumerate(df.columns):\n",
    "    # print(n, component)\n",
    "    components[component] = Component(name= component, list_position= n)\n"
   ],
   "metadata": {
    "collapsed": false,
    "ExecuteTime": {
     "end_time": "2024-09-11T00:28:21.513312400Z",
     "start_time": "2024-09-11T00:28:21.470302400Z"
    }
   }
  },
  {
   "cell_type": "markdown",
   "source": [
    "# Make Matrices then update object for each component"
   ],
   "metadata": {
    "collapsed": false
   }
  },
  {
   "cell_type": "markdown",
   "source": [
    "### Calculate the linear (Pearson) correlation matrix"
   ],
   "metadata": {
    "collapsed": false
   }
  },
  {
   "cell_type": "code",
   "execution_count": 8,
   "outputs": [],
   "source": [
    "# set linear correaltion attribute\n",
    "\n",
    "if df.index.name != 'Timestamp':\n",
    "    df = df.set_index('Timestamp')\n",
    "\n",
    "\n",
    "# Calculate the linear correlation matrix\n",
    "correlation_matrix = df.corr().round(decimals= 4)\n",
    "\n",
    "# DataFrame to store p-values with rows and cols being column names\n",
    "p_values = pd.DataFrame(index=df.columns, columns=df.columns)\n",
    "\n",
    "# Calculate p-values\n",
    "# for every column\n",
    "for col1 in df.columns:\n",
    "    # calculate values with everyother column\n",
    "    for col2 in df.columns:\n",
    "        correlation_coefficient, p_value = pearsonr(df[col1], df[col2])\n",
    "        # Save values to corresponding location in p_values df, rounded to 4.d.p\n",
    "        p_values.loc[col1, col2] = round(p_value, 4)\n",
    "\n",
    "# Apply a color gradient to the correlation matrix and display it\n",
    "correlation_matrix_styled  = correlation_matrix.style.background_gradient(cmap='coolwarm').format(precision= 2)\n",
    "p_values_styled  = p_values.style.background_gradient(cmap='coolwarm').format(precision= 2)\n",
    "\n"
   ],
   "metadata": {
    "collapsed": false,
    "ExecuteTime": {
     "end_time": "2024-09-11T00:28:23.747745900Z",
     "start_time": "2024-09-11T00:28:21.477304500Z"
    }
   }
  },
  {
   "cell_type": "markdown",
   "source": [
    "### Assign relevant linear correllation values to each component object"
   ],
   "metadata": {
    "collapsed": false
   }
  },
  {
   "cell_type": "code",
   "execution_count": 9,
   "outputs": [],
   "source": [
    "# Assuming components is a dictionary with component names as keys and Component objects as values\n",
    "for component_name, component_obj in components.items():\n",
    "    # Convert correlation coefficient row to dictionary with row index and value\n",
    "    correlation_dict = {col: value for col, value in zip(correlation_matrix.columns, correlation_matrix.loc[component_name]) if col != component_name }\n",
    "    component_obj.correlation_dict = correlation_dict\n",
    "    #print(component_name, component_obj.correlation_dict )\n",
    "\n",
    "    # Convert p-value row to dictionary with row index and value\n",
    "    p_value_dict = {col: value for col, value in zip(p_values.columns, p_values.loc[component_name])}\n",
    "    #p_value_dict = {index: value for index, value in enumerate(p_values.loc[component_name])}\n",
    "    component_obj.p_value_dict = p_value_dict"
   ],
   "metadata": {
    "collapsed": false,
    "ExecuteTime": {
     "end_time": "2024-09-11T00:28:23.764143500Z",
     "start_time": "2024-09-11T00:28:23.754141400Z"
    }
   }
  },
  {
   "cell_type": "markdown",
   "source": [
    "# Non-Linear Correlation of Components\n",
    "The previous stage looked for linear correlation between components, other non- linear methods were evaluated as the complex interplay of componets could lead to non-linear behaviour even with pairwise linear relationships. These methods look for monatonic relationships- the values for two components consistently change together ( positive or negative)."
   ],
   "metadata": {
    "collapsed": false
   }
  },
  {
   "cell_type": "markdown",
   "source": [
    "### Calculate the correlation matrix using Spearman's rank correlation"
   ],
   "metadata": {
    "collapsed": false
   }
  },
  {
   "cell_type": "code",
   "execution_count": 10,
   "outputs": [],
   "source": [
    "# Calculate the correlation matrix using Spearman's rank correlation\n",
    "non_lin_correlation_matrix = df.corr(method='spearman').round(decimals=4)\n",
    "\n",
    "# DataFrame to store p-values with rows and cols being column names\n",
    "non_lin_p_values = pd.DataFrame(index=df.columns, columns=df.columns)\n",
    "\n",
    "# Calculate p-values\n",
    "# for every column\n",
    "for col1 in df.columns:\n",
    "    # calculate values with every other column\n",
    "    for col2 in df.columns:\n",
    "        correlation_coefficient, p_value = spearmanr(df[col1], df[col2])\n",
    "        # Save values to corresponding location in p_values df, rounded to 4.d.p\n",
    "        non_lin_p_values.loc[col1, col2] = round(p_value, 4)\n",
    "\n",
    "# Apply a color gradient to the correlation matrix and display it\n",
    "non_lin_correlation_matrix_styled = non_lin_correlation_matrix.style.background_gradient(cmap='coolwarm')\n",
    "non_lin_p_values_styled = non_lin_p_values.style.background_gradient(cmap='coolwarm').format(precision=2)\n"
   ],
   "metadata": {
    "collapsed": false,
    "ExecuteTime": {
     "end_time": "2024-09-11T00:28:33.686664800Z",
     "start_time": "2024-09-11T00:28:23.771145300Z"
    }
   }
  },
  {
   "cell_type": "code",
   "execution_count": 11,
   "outputs": [],
   "source": [
    "#non_lin_correlation_dict"
   ],
   "metadata": {
    "collapsed": false,
    "ExecuteTime": {
     "end_time": "2024-09-11T00:28:33.698790400Z",
     "start_time": "2024-09-11T00:28:33.691666600Z"
    }
   }
  },
  {
   "cell_type": "markdown",
   "source": [
    "### Assign relevant non-linear correlation values to each component object"
   ],
   "metadata": {
    "collapsed": false
   }
  },
  {
   "cell_type": "code",
   "execution_count": 12,
   "outputs": [],
   "source": [
    "# Assuming components is a dictionary with component names as keys and Component objects as values\n",
    "for component_name, component_obj in components.items():\n",
    "    # Convert correlation coefficient row to dictionary with row index and value\n",
    "    non_lin_correlation_dict = {col: value for col, value in zip(non_lin_correlation_matrix.columns, non_lin_correlation_matrix.loc[component_name]) if col != component_name}\n",
    "    component_obj.non_lin_correlation_dict = non_lin_correlation_dict\n",
    "    #print(component_name, component_obj.non_lin_correlation_dict )\n",
    "\n",
    "    # Convert p-value row to dictionary with row index and value\n",
    "    non_lin_p_value_dict = {col: value for col, value in zip(non_lin_p_values.columns, non_lin_p_values.loc[component_name])}\n",
    "    #p_value_dict = {index: value for index, value in enumerate(p_values.loc[component_name])}\n",
    "    component_obj.non_lin_p_value_dict = non_lin_p_value_dict"
   ],
   "metadata": {
    "collapsed": false,
    "ExecuteTime": {
     "end_time": "2024-09-11T00:28:33.709856300Z",
     "start_time": "2024-09-11T00:28:33.701790500Z"
    }
   }
  },
  {
   "cell_type": "markdown",
   "source": [],
   "metadata": {
    "collapsed": false
   }
  },
  {
   "cell_type": "code",
   "execution_count": 13,
   "outputs": [],
   "source": [
    "#index_values = correlation_matrix.index.values\n",
    "#print(index_values)"
   ],
   "metadata": {
    "collapsed": false,
    "ExecuteTime": {
     "end_time": "2024-09-11T00:28:33.733847700Z",
     "start_time": "2024-09-11T00:28:33.719858500Z"
    }
   }
  },
  {
   "cell_type": "code",
   "execution_count": 14,
   "outputs": [],
   "source": [
    "#specific_component = components['LIT101']\n",
    "#specific_component.correlation_list\n",
    "#specific_component.correlation_dict"
   ],
   "metadata": {
    "collapsed": false,
    "ExecuteTime": {
     "end_time": "2024-09-11T00:28:33.746205300Z",
     "start_time": "2024-09-11T00:28:33.736848300Z"
    }
   }
  },
  {
   "cell_type": "code",
   "execution_count": 15,
   "outputs": [],
   "source": [
    "#non_lin_correlation_matrix"
   ],
   "metadata": {
    "collapsed": false
   }
  },
  {
   "cell_type": "code",
   "execution_count": 16,
   "outputs": [],
   "source": [
    "\n",
    "#non_lin_correlation_matrix.to_csv(r'D:\\GitHub\\MSc-Project-March\\non_lin_cor_matrix.csv', index=True)"
   ],
   "metadata": {
    "collapsed": false
   }
  },
  {
   "cell_type": "code",
   "execution_count": 17,
   "outputs": [],
   "source": [
    "#specific_component.get_correlated_components_p_value()"
   ],
   "metadata": {
    "collapsed": false
   }
  },
  {
   "cell_type": "markdown",
   "source": [
    "# Visualising Relationships"
   ],
   "metadata": {
    "collapsed": false
   }
  },
  {
   "cell_type": "code",
   "execution_count": 18,
   "outputs": [
    {
     "data": {
      "text/plain": "{'LIT401': 0.6722,\n 'AIT501': 0.5553,\n 'FIT501': 0.4393,\n 'FIT401': 0.439,\n 'FIT502': 0.4357,\n 'P501': 0.4269}"
     },
     "execution_count": 18,
     "metadata": {},
     "output_type": "execute_result"
    }
   ],
   "source": [
    "components['LIT301'].get_strongest_correlated_components('linear', top_n_corrs =6)"
   ],
   "metadata": {
    "collapsed": false,
    "ExecuteTime": {
     "end_time": "2024-09-11T00:28:33.824498100Z",
     "start_time": "2024-09-11T00:28:33.797111200Z"
    }
   }
  },
  {
   "cell_type": "code",
   "execution_count": 19,
   "outputs": [],
   "source": [
    "strongest_correlations = components['LIT401'].get_strongest_correlated_components('linear', top_n_corrs =10)"
   ],
   "metadata": {
    "collapsed": false,
    "ExecuteTime": {
     "end_time": "2024-09-11T00:28:33.824498100Z",
     "start_time": "2024-09-11T00:28:33.815530800Z"
    }
   }
  },
  {
   "cell_type": "code",
   "execution_count": 20,
   "outputs": [
    {
     "data": {
      "text/plain": "{'LIT301': 0.6722,\n 'AIT501': 0.6082,\n 'FIT501': 0.4916,\n 'FIT401': 0.4909,\n 'FIT502': 0.4904,\n 'P501': 0.4667,\n 'UV401': 0.4587,\n 'P402': 0.458,\n 'FIT503': 0.4529,\n 'PIT501': 0.4504}"
     },
     "execution_count": 20,
     "metadata": {},
     "output_type": "execute_result"
    }
   ],
   "source": [
    "strongest_correlations"
   ],
   "metadata": {
    "collapsed": false,
    "ExecuteTime": {
     "end_time": "2024-09-11T00:28:33.836500200Z",
     "start_time": "2024-09-11T00:28:33.828498600Z"
    }
   }
  },
  {
   "cell_type": "markdown",
   "source": [
    "## Compare Linear & Non-Linear Correlations"
   ],
   "metadata": {
    "collapsed": false
   }
  },
  {
   "cell_type": "code",
   "execution_count": 21,
   "outputs": [
    {
     "name": "stdout",
     "output_type": "stream",
     "text": [
      "<class 'int'>\n"
     ]
    },
    {
     "data": {
      "text/plain": "<Figure size 1000x1000 with 1 Axes>",
      "image/png": "[encoded data removed]"
     },
     "metadata": {},
     "output_type": "display_data"
    }
   ],
   "source": [
    "plot_correlation_network(components['LIT301'], top_n_corrs= 3)"
   ],
   "metadata": {
    "collapsed": false,
    "ExecuteTime": {
     "end_time": "2024-09-11T00:28:34.067087800Z",
     "start_time": "2024-09-11T00:28:33.836500200Z"
    }
   }
  },
  {
   "cell_type": "markdown",
   "source": [
    "## Compare Two Components Linear & Non-Linear Correlations"
   ],
   "metadata": {
    "collapsed": false
   }
  },
  {
   "cell_type": "code",
   "execution_count": 22,
   "outputs": [],
   "source": [
    "linear_corr_dict_1 = components['LIT301'].get_strongest_correlated_components('linear', top_n_corrs =4)\n",
    "non_linear_corr_dict_1 = components['LIT301'].get_strongest_correlated_components('non_linear', top_n_corrs =4)\n",
    "linear_corr_dict_2 = components['LIT401'].get_strongest_correlated_components('linear', top_n_corrs =4)\n",
    "non_linear_corr_dict_2 = components['LIT401'].get_strongest_correlated_components('non_linear', top_n_corrs =4)\n",
    "\n",
    "# Create two components\n",
    "component1 = components['LIT301']\n",
    "component2 = components['LIT401']"
   ],
   "metadata": {
    "collapsed": false,
    "ExecuteTime": {
     "end_time": "2024-09-11T00:28:34.068088200Z",
     "start_time": "2024-09-11T00:28:34.040082100Z"
    }
   }
  },
  {
   "cell_type": "code",
   "execution_count": 23,
   "outputs": [
    {
     "data": {
      "text/plain": "<Figure size 1200x1200 with 1 Axes>",
      "image/png": "[encoded data removed]"
     },
     "metadata": {},
     "output_type": "display_data"
    }
   ],
   "source": [
    "# Plot comparison network for both components\n",
    "plot_component_comparison(component1 ,component2, linear_corr_dict_1, non_linear_corr_dict_1, linear_corr_dict_2, non_linear_corr_dict_2, top_n_corrs=3, layout= nx.shell_layout)"
   ],
   "metadata": {
    "collapsed": false,
    "ExecuteTime": {
     "end_time": "2024-09-11T00:28:34.327201100Z",
     "start_time": "2024-09-11T00:28:34.060086100Z"
    }
   }
  },
  {
   "cell_type": "markdown",
   "source": [],
   "metadata": {
    "collapsed": false
   }
  },
  {
   "cell_type": "markdown",
   "source": [
    "## Observations\n",
    "P value ( statistical significance) value of 5% indicates 38 of 39 components disprove the null hypothesis that the relationship between components is random. This numebr of related components is acheived by using a Pearson correlation coefficient 0f 0.01 or above ( a very week linear correlation).\n",
    "These Values were calculated from the correlation from the LIT101 water level sensor which is the main water tank at the beginning of the process ( and so is understandably linked to all other components to some degree.\n",
    "Restricted the results to correlation coefficients above 0.6 identifies 5 componnets with strong correlations, all of which are in the same or following stage and are related to the movement of water ( pumps or flow sensors). This suggests the Pearson values are more useful is revelaing system dependencies.\n"
   ],
   "metadata": {
    "collapsed": false
   }
  },
  {
   "cell_type": "code",
   "execution_count": 23,
   "outputs": [],
   "source": [],
   "metadata": {
    "collapsed": false
   }
  },
  {
   "cell_type": "markdown",
   "source": [
    "# Kernel Distributions"
   ],
   "metadata": {
    "collapsed": false
   }
  },
  {
   "cell_type": "markdown",
   "source": [
    "Get distributions for each variable. Get range, divide into 100 bins then count variables ineach. Visualise in plot"
   ],
   "metadata": {
    "collapsed": false
   }
  },
  {
   "cell_type": "code",
   "execution_count": 23,
   "outputs": [],
   "source": [],
   "metadata": {
    "collapsed": false
   }
  },
  {
   "cell_type": "markdown",
   "source": [
    "Sample df as 10 second mean for all values so df is 10% of original to east manipulation"
   ],
   "metadata": {
    "collapsed": false
   }
  },
  {
   "cell_type": "code",
   "execution_count": 23,
   "outputs": [],
   "source": [],
   "metadata": {
    "collapsed": false,
    "ExecuteTime": {
     "end_time": "2024-09-11T00:28:34.357606300Z",
     "start_time": "2024-09-11T00:28:34.357606300Z"
    }
   }
  },
  {
   "cell_type": "code",
   "execution_count": 24,
   "outputs": [],
   "source": [
    "#df['LIT101']"
   ],
   "metadata": {
    "collapsed": false,
    "ExecuteTime": {
     "end_time": "2024-09-11T00:28:34.484285600Z",
     "start_time": "2024-09-11T00:28:34.360607100Z"
    }
   }
  },
  {
   "cell_type": "code",
   "execution_count": 25,
   "outputs": [
    {
     "name": "stdout",
     "output_type": "stream",
     "text": [
      "Var Range:  696.22615\n"
     ]
    },
    {
     "data": {
      "text/plain": "<Figure size 1000x600 with 1 Axes>",
      "image/png": "[encoded data removed]"
     },
     "metadata": {},
     "output_type": "display_data"
    }
   ],
   "source": [
    "# test with FIT101\n",
    "#lit101_dist, bins = getDistribution('LIT101')\n",
    "#plotBinCounts(lit101_dist, bins)\n",
    "\n",
    "getDistributionBins(df, 'LIT101')"
   ],
   "metadata": {
    "collapsed": false,
    "ExecuteTime": {
     "end_time": "2024-09-11T00:28:34.952531700Z",
     "start_time": "2024-09-11T00:28:34.374261300Z"
    }
   }
  },
  {
   "cell_type": "code",
   "execution_count": 25,
   "outputs": [],
   "source": [],
   "metadata": {
    "collapsed": false,
    "ExecuteTime": {
     "end_time": "2024-09-11T00:28:34.968093Z",
     "start_time": "2024-09-11T00:28:34.963091900Z"
    }
   }
  },
  {
   "cell_type": "code",
   "execution_count": 26,
   "outputs": [
    {
     "name": "stderr",
     "output_type": "stream",
     "text": [
      "<>:1: SyntaxWarning: invalid escape sequence '\\G'\n",
      "<>:1: SyntaxWarning: invalid escape sequence '\\G'\n",
      "C:\\Users\\loz\\AppData\\Local\\Temp\\ipykernel_11212\\923483889.py:1: SyntaxWarning: invalid escape sequence '\\G'\n",
      "  getKDEDensity(df, 'LIT101', save_path='D:\\GitHub\\MSc-Project-March\\Write_Up\\Charts\\lit_101_kde_plot.jpeg')\n"
     ]
    },
    {
     "data": {
      "text/plain": "<Figure size 1000x600 with 1 Axes>",
      "image/png": "[encoded data removed]"
     },
     "metadata": {},
     "output_type": "display_data"
    }
   ],
   "source": [
    "getKDEDensity(df, 'LIT101', save_path='D:\\GitHub\\MSc-Project-March\\Write_Up\\Charts\\lit_101_kde_plot.jpeg')"
   ],
   "metadata": {
    "collapsed": false,
    "ExecuteTime": {
     "end_time": "2024-09-11T00:28:35.770204Z",
     "start_time": "2024-09-11T00:28:34.969093400Z"
    }
   }
  },
  {
   "cell_type": "code",
   "execution_count": 27,
   "outputs": [
    {
     "data": {
      "text/plain": "<Figure size 1000x600 with 1 Axes>",
      "image/png": "[encoded data removed]"
     },
     "metadata": {},
     "output_type": "display_data"
    }
   ],
   "source": [
    "getKDEDensity(df, 'MV101')"
   ],
   "metadata": {
    "collapsed": false,
    "ExecuteTime": {
     "end_time": "2024-09-11T00:28:36.393441900Z",
     "start_time": "2024-09-11T00:28:35.775204900Z"
    }
   }
  },
  {
   "cell_type": "markdown",
   "source": [
    "# Calculate mutual information between features\n",
    "mutual_info_matrix = pd.DataFrame(index=df.columns, columns=df.columns)\n",
    "\n",
    "# Calculate mutual information\n",
    "for col1 in df.columns:\n",
    "    for col2 in df.columns:\n",
    "        mutual_info = mutual_info_regression(df[[col1]], df[col2])[0]\n",
    "        mutual_info_matrix.loc[col1, col2] = mutual_info\n",
    "\n",
    "# Display the mutual information matrix\n",
    "print(mutual_info_matrix)\n"
   ],
   "metadata": {
    "collapsed": false
   }
  },
  {
   "cell_type": "code",
   "execution_count": 28,
   "outputs": [],
   "source": [
    "scaler = StandardScaler()\n",
    "df_normalised = scaler.fit_transform(df)\n",
    "# convert back to df\n",
    "df_normalised = pd.DataFrame(df_normalised, columns=df.columns)"
   ],
   "metadata": {
    "collapsed": false,
    "ExecuteTime": {
     "end_time": "2024-09-11T00:28:36.474833700Z",
     "start_time": "2024-09-11T00:28:36.396442300Z"
    }
   }
  },
  {
   "cell_type": "code",
   "execution_count": 30,
   "outputs": [],
   "source": [
    "#mi_lit101 = kde_mutual_information(df_normalised, 'LIT101', num_points=100, n_jobs=-1)\n",
    "#print(mi_lit101)"
   ],
   "metadata": {
    "collapsed": false,
    "ExecuteTime": {
     "end_time": "2024-09-11T00:29:09.018110600Z",
     "start_time": "2024-09-11T00:29:08.999106500Z"
    }
   }
  },
  {
   "cell_type": "markdown",
   "source": [
    "# slow so son't re-run. Import df instead\n",
    "\n",
    "mi_results_df = pd.DataFrame()\n",
    "for component_name, component_obj in components.items():\n",
    "\n",
    "    try:\n",
    "        mi_results = kde_mutual_information(df_normalised, component_name, num_points=100, n_jobs=-1)\n",
    "        mi_results_df[component_name] = mi_results\n",
    "    except Exception as e:\n",
    "        # In case of error, add a column of NaNs\n",
    "        mi_results_df[component_name] = np.nan\n",
    "        print(f\"Error calculating MI for {component_name}: {e}\")\n",
    "\n",
    "    print(f\"Finished:{component_name}\")\n",
    "\n",
    "# Transpose the result to make each row represent a component and each column an MI score\n",
    "mi_results_df = mi_results_df.T\n",
    "\n",
    "# Fill any missing values (optional, this step is already handled)\n",
    "mi_results_df.fillna(np.nan, inplace=True)\n",
    "\n",
    "# Print the final DataFrame\n",
    "print(mi_results_df)"
   ],
   "metadata": {
    "collapsed": false
   }
  },
  {
   "cell_type": "code",
   "execution_count": 31,
   "outputs": [
    {
     "name": "stderr",
     "output_type": "stream",
     "text": [
      "<>:1: SyntaxWarning: invalid escape sequence '\\G'\n",
      "<>:1: SyntaxWarning: invalid escape sequence '\\G'\n",
      "C:\\Users\\loz\\AppData\\Local\\Temp\\ipykernel_11212\\2230563796.py:1: SyntaxWarning: invalid escape sequence '\\G'\n",
      "  mi_results_df.to_csv('D:\\GitHub\\MSc-Project-March\\SWaT Data\\mi_results.csv', index=False)\n",
      "C:\\Users\\loz\\AppData\\Local\\Temp\\ipykernel_11212\\2230563796.py:1: SyntaxWarning: invalid escape sequence '\\G'\n",
      "  mi_results_df.to_csv('D:\\GitHub\\MSc-Project-March\\SWaT Data\\mi_results.csv', index=False)\n"
     ]
    },
    {
     "ename": "NameError",
     "evalue": "name 'mi_results_df' is not defined",
     "output_type": "error",
     "traceback": [
      "\u001B[1;31m---------------------------------------------------------------------------\u001B[0m",
      "\u001B[1;31mNameError\u001B[0m                                 Traceback (most recent call last)",
      "Cell \u001B[1;32mIn[31], line 1\u001B[0m\n\u001B[1;32m----> 1\u001B[0m mi_results_df\u001B[38;5;241m.\u001B[39mto_csv(\u001B[38;5;124m'\u001B[39m\u001B[38;5;124mD:\u001B[39m\u001B[38;5;124m\\\u001B[39m\u001B[38;5;124mGitHub\u001B[39m\u001B[38;5;124m\\\u001B[39m\u001B[38;5;124mMSc-Project-March\u001B[39m\u001B[38;5;124m\\\u001B[39m\u001B[38;5;124mSWaT Data\u001B[39m\u001B[38;5;124m\\\u001B[39m\u001B[38;5;124mmi_results.csv\u001B[39m\u001B[38;5;124m'\u001B[39m, index\u001B[38;5;241m=\u001B[39m\u001B[38;5;28;01mFalse\u001B[39;00m)\n",
      "\u001B[1;31mNameError\u001B[0m: name 'mi_results_df' is not defined"
     ]
    }
   ],
   "source": [
    "mi_results_df.to_csv('D:\\GitHub\\MSc-Project-March\\SWaT Data\\mi_results.csv', index=False)"
   ],
   "metadata": {
    "collapsed": false,
    "ExecuteTime": {
     "end_time": "2024-09-11T00:29:11.602192200Z",
     "start_time": "2024-09-11T00:29:11.563519400Z"
    }
   }
  },
  {
   "cell_type": "code",
   "execution_count": 32,
   "outputs": [
    {
     "data": {
      "text/plain": "{'FIT101': <component_module.Component at 0x14c21a7c800>,\n 'LIT101': <component_module.Component at 0x14c2181e5a0>,\n 'MV101': <component_module.Component at 0x14c215454c0>,\n 'P101': <component_module.Component at 0x14c21545400>,\n 'AIT201': <component_module.Component at 0x14c21a0b0e0>,\n 'AIT202': <component_module.Component at 0x14c21a21430>,\n 'AIT203': <component_module.Component at 0x14c21b75dc0>,\n 'FIT201': <component_module.Component at 0x14c21b74110>,\n 'MV201': <component_module.Component at 0x14c21b76330>,\n 'P203': <component_module.Component at 0x14c21b75b50>,\n 'P205': <component_module.Component at 0x14c21b74a70>,\n 'DPIT301': <component_module.Component at 0x14c21b770e0>,\n 'FIT301': <component_module.Component at 0x14c21b75250>,\n 'LIT301': <component_module.Component at 0x14c21b77110>,\n 'MV301': <component_module.Component at 0x14c21b74fe0>,\n 'MV302': <component_module.Component at 0x14c21b772f0>,\n 'MV303': <component_module.Component at 0x14c21b74f50>,\n 'MV304': <component_module.Component at 0x14c21b75fd0>,\n 'P301': <component_module.Component at 0x14c21b77410>,\n 'P302': <component_module.Component at 0x14c21b75040>,\n 'AIT401': <component_module.Component at 0x14c21b75820>,\n 'AIT402': <component_module.Component at 0x14c21b76660>,\n 'FIT401': <component_module.Component at 0x14c21b75280>,\n 'LIT401': <component_module.Component at 0x14c21b768a0>,\n 'P402': <component_module.Component at 0x14c21b74650>,\n 'UV401': <component_module.Component at 0x14c21b75010>,\n 'AIT501': <component_module.Component at 0x14c21b752e0>,\n 'AIT502': <component_module.Component at 0x14c21b753a0>,\n 'AIT503': <component_module.Component at 0x14c21b75370>,\n 'AIT504': <component_module.Component at 0x14c21b753d0>,\n 'FIT501': <component_module.Component at 0x14c21b75550>,\n 'FIT502': <component_module.Component at 0x14c21b76ab0>,\n 'FIT503': <component_module.Component at 0x14c21b764b0>,\n 'FIT504': <component_module.Component at 0x14c21b754c0>,\n 'P501': <component_module.Component at 0x14c21b755e0>,\n 'PIT501': <component_module.Component at 0x14c21b755b0>,\n 'PIT502': <component_module.Component at 0x14c21b75610>,\n 'PIT503': <component_module.Component at 0x14c21b75a00>,\n 'FIT601': <component_module.Component at 0x14c21b75940>,\n 'P602': <component_module.Component at 0x14c21b76e70>}"
     },
     "execution_count": 32,
     "metadata": {},
     "output_type": "execute_result"
    }
   ],
   "source": [
    "components"
   ],
   "metadata": {
    "collapsed": false,
    "ExecuteTime": {
     "end_time": "2024-09-11T00:29:12.602011100Z",
     "start_time": "2024-09-11T00:29:12.556979700Z"
    }
   }
  },
  {
   "cell_type": "code",
   "execution_count": 34,
   "outputs": [
    {
     "name": "stderr",
     "output_type": "stream",
     "text": [
      "<>:1: SyntaxWarning: invalid escape sequence '\\G'\n",
      "<>:1: SyntaxWarning: invalid escape sequence '\\G'\n",
      "C:\\Users\\loz\\AppData\\Local\\Temp\\ipykernel_11212\\797737294.py:1: SyntaxWarning: invalid escape sequence '\\G'\n",
      "  mi_results_df = pd.read_csv('D:\\GitHub\\MSc-Project-March\\SWaT Data\\mi_results.csv')\n"
     ]
    }
   ],
   "source": [
    "mi_results_df = pd.read_csv('D:\\GitHub\\MSc-Project-March\\SWaT Data\\mi_results.csv')"
   ],
   "metadata": {
    "collapsed": false,
    "ExecuteTime": {
     "end_time": "2024-09-11T00:29:28.057272700Z",
     "start_time": "2024-09-11T00:29:28.014250700Z"
    }
   }
  },
  {
   "cell_type": "code",
   "execution_count": 35,
   "outputs": [],
   "source": [
    "mi_results_df.rename(columns={'Unnamed: 0':'Component'}, inplace=True)\n",
    "mi_results_df.set_index('Component', inplace=True)\n",
    "mi_results_df.index"
   ],
   "metadata": {
    "collapsed": false,
    "ExecuteTime": {
     "end_time": "2024-09-11T00:29:30.215961600Z",
     "start_time": "2024-09-11T00:29:30.180953900Z"
    }
   }
  },
  {
   "cell_type": "code",
   "execution_count": 37,
   "outputs": [],
   "source": [],
   "metadata": {
    "collapsed": false,
    "ExecuteTime": {
     "end_time": "2024-09-11T00:29:46.869665500Z",
     "start_time": "2024-09-11T00:29:46.850660600Z"
    }
   }
  },
  {
   "cell_type": "code",
   "execution_count": 37,
   "outputs": [],
   "source": [],
   "metadata": {
    "collapsed": false,
    "ExecuteTime": {
     "end_time": "2024-09-11T00:29:47.131262700Z",
     "start_time": "2024-09-11T00:29:47.121260400Z"
    }
   }
  },
  {
   "cell_type": "code",
   "execution_count": 40,
   "outputs": [],
   "source": [
    "for component_name, component in components.items():\n",
    "    if component_name in mi_results_df.columns:\n",
    "        component.mutual_info_dict = mi_results_df[component_name]\n",
    "    else:\n",
    "        component.mutual_info_dict = {}\n"
   ],
   "metadata": {
    "collapsed": false,
    "ExecuteTime": {
     "end_time": "2024-09-11T00:31:04.874473300Z",
     "start_time": "2024-09-11T00:31:04.833452500Z"
    }
   }
  },
  {
   "cell_type": "code",
   "execution_count": 43,
   "outputs": [
    {
     "data": {
      "text/plain": "dict_keys(['FIT101', 'LIT101', 'MV101', 'P101', 'AIT201', 'AIT202', 'AIT203', 'FIT201', 'MV201', 'P203', 'P205', 'DPIT301', 'FIT301', 'LIT301', 'MV301', 'MV302', 'MV303', 'MV304', 'P301', 'P302', 'AIT401', 'AIT402', 'FIT401', 'LIT401', 'P402', 'UV401', 'AIT501', 'AIT502', 'AIT503', 'AIT504', 'FIT501', 'FIT502', 'FIT503', 'FIT504', 'P501', 'PIT501', 'PIT502', 'PIT503', 'FIT601', 'P602'])"
     },
     "execution_count": 43,
     "metadata": {},
     "output_type": "execute_result"
    }
   ],
   "source": [
    "components.keys()"
   ],
   "metadata": {
    "collapsed": false,
    "ExecuteTime": {
     "end_time": "2024-09-11T00:32:05.149860500Z",
     "start_time": "2024-09-11T00:32:05.131856300Z"
    }
   }
  },
  {
   "cell_type": "code",
   "execution_count": 44,
   "outputs": [
    {
     "data": {
      "text/plain": "{'P301': nan,\n 'P402': inf,\n 'UV401': inf,\n 'P501': inf,\n 'PIT503': inf,\n 'MV303': 123.90113482703184,\n 'LIT101': 119.48652422746972,\n 'AIT503': 85.38288021695622,\n 'MV304': 76.96289110870697,\n 'PIT502': 60.43273129931946,\n 'MV101': 48.32396077724568,\n 'AIT201': 48.253455236948696,\n 'MV301': 41.533410866856585,\n 'MV201': 33.47690899379686,\n 'MV302': 29.79166479493874,\n 'AIT402': 29.408785517423592,\n 'FIT502': 28.11599063187585,\n 'PIT501': 27.996776339867584,\n 'AIT502': 27.63793407406125,\n 'AIT202': 26.69144592625172,\n 'AIT203': 25.774797875341,\n 'AIT501': 23.515454317415102,\n 'LIT401': 23.30716758059141,\n 'FIT503': 22.121543491394217,\n 'LIT301': 21.94031652172271,\n 'DPIT301': 21.79165189722752,\n 'FIT504': 17.97722938675739,\n 'FIT301': 17.78394210219206,\n 'FIT501': 17.008178794907327,\n 'FIT401': 16.993063916788,\n 'FIT101': 16.36173087731406,\n 'P302': 15.763809192442624,\n 'FIT201': 15.643522670731691,\n 'AIT401': 15.374563299673028,\n 'P101': 15.101903865185344,\n 'P203': 15.100789862245785,\n 'P205': 14.8678863427081,\n 'AIT504': 9.190749232972928,\n 'FIT601': 1.1130232294332991}"
     },
     "execution_count": 44,
     "metadata": {},
     "output_type": "execute_result"
    }
   ],
   "source": [
    "components['P301'].get_mutual_info()"
   ],
   "metadata": {
    "collapsed": false,
    "ExecuteTime": {
     "end_time": "2024-09-11T00:32:44.606022800Z",
     "start_time": "2024-09-11T00:32:44.590019600Z"
    }
   }
  },
  {
   "cell_type": "code",
   "execution_count": null,
   "outputs": [],
   "source": [
    "#type(mi_results)\n",
    "mi_sorted = mi_lit101.sort_values(ascending=False)"
   ],
   "metadata": {
    "collapsed": false
   }
  },
  {
   "cell_type": "code",
   "execution_count": null,
   "outputs": [],
   "source": [
    "print(mi_sorted.iloc[:20])"
   ],
   "metadata": {
    "collapsed": false
   }
  },
  {
   "cell_type": "markdown",
   "source": [
    "1,FIT-101,Sensor,Flow meter; Measures inflow into raw water tank.\n",
    "2,LIT-101,Sensor,Level Transmitter; Raw water tank level.\n",
    "3,MV-101,Actuator,Motorized valve; Controls water flow to the raw water tank."
   ],
   "metadata": {
    "collapsed": false
   }
  },
  {
   "cell_type": "code",
   "execution_count": null,
   "outputs": [],
   "source": [
    "getDistribution('MV101')"
   ],
   "metadata": {
    "collapsed": false
   }
  },
  {
   "cell_type": "code",
   "execution_count": null,
   "outputs": [],
   "source": [
    "getDistribution('FIT101')"
   ],
   "metadata": {
    "collapsed": false
   }
  },
  {
   "cell_type": "code",
   "execution_count": null,
   "outputs": [],
   "source": [
    "getDistribution('P101')"
   ],
   "metadata": {
    "collapsed": false
   }
  },
  {
   "cell_type": "code",
   "execution_count": null,
   "outputs": [],
   "source": [],
   "metadata": {
    "collapsed": false
   }
  },
  {
   "cell_type": "markdown",
   "source": [
    "# Create masks for Spearman and Mutual Information correlations higher than Pearson\n",
    "\n",
    "This could identify componets such as switches which are strongly correlated but non-linear and would be missed in linear only analysis"
   ],
   "metadata": {
    "collapsed": false
   }
  },
  {
   "cell_type": "code",
   "execution_count": null,
   "outputs": [],
   "source": [
    "# Create masks for Spearman and Mutual Information correlations higher than Pearson\n",
    "spearman_higher_mask = non_lin_correlation_matrix > correlation_matrix\n",
    "#mutual_info_higher_mask = mutual_info_matrix > correlation_matrix\n",
    "\n",
    "# Extract values where Spearman correlation is higher than Pearson\n",
    "spearman_higher_values = non_lin_correlation_matrix[spearman_higher_mask]\n",
    "\n",
    "# Extract values where Mutual Information correlation is higher than Pearson\n",
    "# needs to be cahnged to ranked value\n",
    "#mutual_info_higher_values = mutual_info_matrix[mutual_info_higher_mask]\n",
    "\n",
    "# Combine the extracted values\n",
    "#higher_values = pd.concat([spearman_higher_values, mutual_info_higher_values])\n",
    "\n",
    "# Plot the higher values\n",
    "plt.figure(figsize=(10, 6))\n",
    "sns.barplot(x=higher_values.index, y=higher_values.values, palette='coolwarm')\n",
    "plt.title('Values where Spearman or Mutual Info are higher than Pearson')\n",
    "plt.xlabel('Component Pair')\n",
    "plt.ylabel('Correlation Value')\n",
    "plt.xticks(rotation=90)\n",
    "plt.tight_layout()\n",
    "plt.show()\n"
   ],
   "metadata": {
    "collapsed": false
   }
  },
  {
   "cell_type": "markdown",
   "source": [
    "# Dim Reduction of Corr Matrix"
   ],
   "metadata": {
    "collapsed": false
   }
  },
  {
   "cell_type": "markdown",
   "source": [],
   "metadata": {
    "collapsed": false
   }
  },
  {
   "cell_type": "code",
   "execution_count": null,
   "outputs": [],
   "source": [],
   "metadata": {
    "collapsed": false
   }
  },
  {
   "cell_type": "code",
   "execution_count": null,
   "outputs": [],
   "source": [
    "# Calculate the linear correlation matrix\n",
    "correlation_matrix = df.corr().round(decimals= 4)"
   ],
   "metadata": {
    "collapsed": false
   }
  },
  {
   "cell_type": "code",
   "execution_count": null,
   "outputs": [],
   "source": [
    "correlation_matrix = correlation_matrix.drop(columns = 'Correlation Type')"
   ],
   "metadata": {
    "collapsed": false
   }
  },
  {
   "cell_type": "code",
   "execution_count": null,
   "outputs": [],
   "source": [
    "correlation_matrix."
   ],
   "metadata": {
    "collapsed": false
   }
  },
  {
   "cell_type": "code",
   "execution_count": null,
   "outputs": [],
   "source": [
    "cluster_labels"
   ],
   "metadata": {
    "collapsed": false
   }
  },
  {
   "cell_type": "code",
   "execution_count": null,
   "outputs": [],
   "source": [
    "reduced_data"
   ],
   "metadata": {
    "collapsed": false
   }
  },
  {
   "cell_type": "code",
   "execution_count": null,
   "outputs": [],
   "source": [
    "from sklearn.decomposition import PCA\n",
    "from sklearn.cluster import AgglomerativeClustering\n",
    "from scipy.cluster.hierarchy import dendrogram, linkage\n",
    "\n",
    "# Step 2: Apply Agglomerative Clustering\n",
    "# Perform hierarchical clustering\n",
    "agg_cluster = AgglomerativeClustering(n_clusters=6, affinity='euclidean', linkage='ward')\n",
    "cluster_labels = agg_cluster.fit_predict(correlation_matrix)\n",
    "\n",
    "# Step 2: Apply PCA to reduce to 2 dimensions\n",
    "pca = PCA(n_components=2)\n",
    "reduced_data = pca.fit_transform(correlation_matrix)\n",
    "\n",
    "# Step 3: Plot the results\n",
    "plt.figure(figsize=(10, 8))\n",
    "# Use different colors for different clusters\n",
    "colors = ['red', 'green', 'blue']\n",
    "for i in range(len(reduced_data)):\n",
    "    plt.scatter(reduced_data[i, 0], reduced_data[i, 1],\n",
    "                color=colors[cluster_labels[i]], label=f'Cluster {cluster_labels[i]}' if i == 0 else \"\", s=100)\n",
    "    plt.text(reduced_data[i, 0], reduced_data[i, 1], correlation_matrix.columns[i], fontsize=12)\n",
    "\n",
    "plt.title('2D PCA of Correlation Matrix with Agglomerative Clustering')\n",
    "plt.xlabel('Principal Component 1')\n",
    "plt.ylabel('Principal Component 2')\n",
    "plt.grid(True)\n",
    "plt.legend()\n",
    "plt.show()"
   ],
   "metadata": {
    "collapsed": false
   }
  },
  {
   "cell_type": "code",
   "execution_count": null,
   "outputs": [],
   "source": [
    "\n",
    "from sklearn.decomposition import PCA\n",
    "from sklearn.preprocessing import StandardScaler\n",
    "from sklearn.cluster import AgglomerativeClustering\n",
    "from mpl_toolkits.mplot3d import Axes3D\n",
    "\n",
    "# Example correlation matrix (replace with your actual correlation matrix)\n",
    "np.random.seed(0)\n",
    "\n",
    "# Step 1: Standardize the correlation matrix (optional but often recommended)\n",
    "#scaler = StandardScaler()\n",
    "#correlation_matrix_scaled = scaler.fit_transform(correlation_matrix)\n",
    "\n",
    "\n",
    "\n",
    "# Step 3: Apply PCA to reduce to 3 dimensions\n",
    "pca = PCA(n_components=6)\n",
    "reduced_data = pca.fit_transform(correlation_matrix)\n",
    "\n",
    "# Step 2: Apply Agglomerative Clustering\n",
    "agg_cluster = AgglomerativeClustering(n_clusters=6, affinity='euclidean', linkage='ward')\n",
    "cluster_labels = agg_cluster.fit_predict(reduced_data)\n",
    "\n",
    "\n",
    "# Step 3: Create a DataFrame to show which variables belong to which cluster\n",
    "cluster_df = pd.DataFrame({\n",
    "    'Variable': correlation_matrix.columns,\n",
    "    'Cluster': cluster_labels\n",
    "})\n",
    "\n",
    "grouped = cluster_df_sorted.groupby(by='Cluster')['Variable'].apply(list)\n",
    "grouped\n",
    "\n",
    "\n"
   ],
   "metadata": {
    "collapsed": false
   }
  },
  {
   "cell_type": "code",
   "execution_count": null,
   "outputs": [],
   "source": [],
   "metadata": {
    "collapsed": false
   }
  },
  {
   "cell_type": "code",
   "execution_count": null,
   "outputs": [],
   "source": [],
   "metadata": {
    "collapsed": false
   }
  },
  {
   "cell_type": "code",
   "execution_count": null,
   "outputs": [],
   "source": [
    "# Display the grouped components by cluster and forast for latex\n",
    "\n",
    "# Latex table code\n",
    "latex_table = \"\\\\begin{table}[h!]\\n\\\\centering\\n\\\\begin{tabular}{|c|l|c|}\\n\\\\hline\\n\"\n",
    "latex_table += \"Cluster & Components & No. Components \\\\\\\\\\n\\\\hline\\n\"\n",
    "\n",
    "for cluster, components in clusters.items():\n",
    "    # Split components into lines with a max of 10 components per line\n",
    "    component_lines = [', '.join(components[i:i+10]) for i in range(0, len(components), 10)]\n",
    "    component_str = ' \\\\\\\\ '.join(component_lines)\n",
    "    latex_table += f\"{cluster} & {component_str}  \\\\\\\\\\n\"\n",
    "\n",
    "latex_table += \"\\\\hline\\n\\\\end{tabular}\\n\\\\caption{Clustered Components}\\n\\\\label{tab:clusters}\\n\\\\end{table}\"\n",
    "\n",
    "print(latex_table)"
   ],
   "metadata": {
    "collapsed": false
   }
  },
  {
   "cell_type": "code",
   "execution_count": null,
   "outputs": [],
   "source": [
    "agg_cluster"
   ],
   "metadata": {
    "collapsed": false
   }
  },
  {
   "cell_type": "code",
   "execution_count": null,
   "outputs": [],
   "source": [
    "# Step 2: Apply Agglomerative Clustering\n",
    "agg_cluster = AgglomerativeClustering(n_clusters=6, affinity='euclidean', linkage='ward')\n",
    "cluster_labels = agg_cluster.fit_predict(correlation_matrix)\n",
    "\n",
    "# Step 3: Create a DataFrame to show which variables belong to which cluster\n",
    "cluster_df = pd.DataFrame({\n",
    "    'Variable': correlation_matrix.columns,\n",
    "    'Cluster': cluster_labels\n",
    "})\n",
    "\n",
    "# Step 4: Sort by cluster for better readability\n",
    "cluster_df_sorted = cluster_df.sort_values(by='Cluster').reset_index(drop=True)\n",
    "\n",
    "# Display the DataFrame\n",
    "print(cluster_df_sorted)"
   ],
   "metadata": {
    "collapsed": false
   }
  },
  {
   "cell_type": "code",
   "execution_count": null,
   "outputs": [],
   "source": [
    "# Step 3: Create a DataFrame to show which variables belong to which cluster\n",
    "cluster_df = pd.DataFrame({\n",
    "    'Variable': correlation_matrix.columns,\n",
    "    'Cluster': cluster_labels\n",
    "})\n",
    "\n",
    "grouped = cluster_df_sorted.groupby(by='Cluster')['Variable'].apply(list)\n",
    "grouped"
   ],
   "metadata": {
    "collapsed": false
   }
  },
  {
   "cell_type": "code",
   "execution_count": null,
   "outputs": [],
   "source": [
    "type(cluster_df_sorted)"
   ],
   "metadata": {
    "collapsed": false
   }
  },
  {
   "cell_type": "code",
   "execution_count": null,
   "outputs": [],
   "source": [
    "print(cluster_df_sorted.groupby('Cluster'))"
   ],
   "metadata": {
    "collapsed": false
   }
  },
  {
   "cell_type": "code",
   "execution_count": null,
   "outputs": [],
   "source": [],
   "metadata": {
    "collapsed": false
   }
  },
  {
   "cell_type": "code",
   "execution_count": null,
   "outputs": [],
   "source": [
    "from sklearn.decomposition import FactorAnalysis\n",
    "\n",
    "# Assuming 'data' is your original dataset\n",
    "fa = FactorAnalysis(n_components=6)  # You can choose the number of factors\n",
    "fa.fit(correlation_matrix)\n",
    "\n",
    "# Transformed data with reduced dimensions\n",
    "transformed_data = fa.transform(correlation_matrix)"
   ],
   "metadata": {
    "collapsed": false
   }
  },
  {
   "cell_type": "code",
   "execution_count": null,
   "outputs": [],
   "source": [
    "transformed_data"
   ],
   "metadata": {
    "collapsed": false
   }
  },
  {
   "cell_type": "code",
   "execution_count": null,
   "outputs": [],
   "source": [],
   "metadata": {
    "collapsed": false
   }
  }
 ],
 "metadata": {
  "kernelspec": {
   "display_name": "Python 3",
   "language": "python",
   "name": "python3"
  },
  "language_info": {
   "codemirror_mode": {
    "name": "ipython",
    "version": 2
   },
   "file_extension": ".py",
   "mimetype": "text/x-python",
   "name": "python",
   "nbconvert_exporter": "python",
   "pygments_lexer": "ipython2",
   "version": "2.7.6"
  }
 },
 "nbformat": 4,
 "nbformat_minor": 0
}
