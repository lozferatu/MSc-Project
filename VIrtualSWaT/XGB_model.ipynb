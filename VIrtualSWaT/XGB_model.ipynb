{
 "cells": [
  {
   "cell_type": "code",
   "execution_count": 1,
   "outputs": [],
   "source": [
    "#!pip install -U xgboost"
   ],
   "metadata": {
    "collapsed": false,
    "ExecuteTime": {
     "end_time": "2024-08-31T19:07:40.892492500Z",
     "start_time": "2024-08-31T19:07:40.876867400Z"
    }
   }
  },
  {
   "cell_type": "code",
   "execution_count": 2,
   "outputs": [],
   "source": [
    "#!pip install -U optuna\n",
    "# for third party library support\n",
    "#!pip install -U optuna-integration"
   ],
   "metadata": {
    "collapsed": false,
    "ExecuteTime": {
     "end_time": "2024-08-31T19:07:43.825628300Z",
     "start_time": "2024-08-31T19:07:43.810002100Z"
    }
   }
  },
  {
   "cell_type": "code",
   "execution_count": 3,
   "metadata": {
    "collapsed": true,
    "ExecuteTime": {
     "end_time": "2024-08-31T19:07:48.147623200Z",
     "start_time": "2024-08-31T19:07:47.607316Z"
    }
   },
   "outputs": [
    {
     "name": "stderr",
     "output_type": "stream",
     "text": [
      "C:\\Users\\laure\\anaconda3\\lib\\site-packages\\sklearn\\experimental\\enable_hist_gradient_boosting.py:16: UserWarning: Since version 1.0, it is not needed to import enable_hist_gradient_boosting anymore. HistGradientBoostingClassifier and HistGradientBoostingRegressor are now stable and can be normally imported from sklearn.ensemble.\n",
      "  warnings.warn(\n"
     ]
    }
   ],
   "source": [
    "import os\n",
    "import string\n",
    "import matplotlib.pyplot as plt\n",
    "import numpy as np\n",
    "import pandas as pd\n",
    "from sklearn.model_selection import RepeatedKFold, train_test_split\n",
    "from sklearn.metrics import mean_squared_error\n",
    "from sklearn.ensemble import RandomForestRegressor\n",
    "from sklearn.experimental import enable_hist_gradient_boosting\n",
    "from sklearn.ensemble import HistGradientBoostingRegressor\n",
    "from xgboost import XGBRegressor\n",
    "from optuna import create_study\n",
    "from optuna.samplers import TPESampler\n",
    "from optuna.integration import XGBoostPruningCallback"
   ]
  },
  {
   "cell_type": "code",
   "execution_count": 4,
   "outputs": [],
   "source": [
    "N_JOBS = 8  # number of parallel threads\n",
    "\n",
    "# repeated K-folds\n",
    "N_SPLITS = 10\n",
    "N_REPEATS = 1"
   ],
   "metadata": {
    "collapsed": false,
    "ExecuteTime": {
     "end_time": "2024-08-31T19:07:52.695198200Z",
     "start_time": "2024-08-31T19:07:52.663962700Z"
    }
   }
  },
  {
   "cell_type": "code",
   "execution_count": 5,
   "outputs": [],
   "source": [
    "df = pd.read_csv( 'D:\\GitHub\\MSc-Project\\SWaT DataSWaT Scaled.csv')"
   ],
   "metadata": {
    "collapsed": false,
    "ExecuteTime": {
     "end_time": "2024-08-31T19:07:57.417361200Z",
     "start_time": "2024-08-31T19:07:55.881351600Z"
    }
   }
  },
  {
   "cell_type": "code",
   "execution_count": 6,
   "outputs": [
    {
     "data": {
      "text/plain": "             Timestamp  FIT101    LIT101  MV101  P101  P102    AIT201  \\\n0  2015-12-22 16:30:00     0.0  0.005294    0.5   0.0   0.0  0.012291   \n1  2015-12-22 16:30:01     0.0  0.005407    0.5   0.0   0.0  0.012291   \n2  2015-12-22 16:30:02     0.0  0.005520    0.5   0.0   0.0  0.012291   \n3  2015-12-22 16:30:03     0.0  0.005801    0.5   0.0   0.0  0.012291   \n4  2015-12-22 16:30:04     0.0  0.005576    0.5   0.0   0.0  0.012291   \n\n     AIT202    AIT203  FIT201  ...  FIT504  P501  P502    PIT501  PIT502  \\\n0  0.075099  0.002009     0.0  ...     0.0   0.0   0.0  0.000814     0.0   \n1  0.075099  0.002009     0.0  ...     0.0   0.0   0.0  0.000814     0.0   \n2  0.075099  0.002009     0.0  ...     0.0   0.0   0.0  0.000814     0.0   \n3  0.075099  0.002009     0.0  ...     0.0   0.0   0.0  0.000814     0.0   \n4  0.075099  0.002009     0.0  ...     0.0   0.0   0.0  0.000814     0.0   \n\n     PIT503    FIT601  P601  P602  P603  \n0  0.001217  0.000147   0.0   0.0   0.0  \n1  0.001217  0.000147   0.0   0.0   0.0  \n2  0.001217  0.000147   0.0   0.0   0.0  \n3  0.001217  0.000147   0.0   0.0   0.0  \n4  0.001217  0.000147   0.0   0.0   0.0  \n\n[5 rows x 52 columns]",
      "text/html": "<div>\n<style scoped>\n    .dataframe tbody tr th:only-of-type {\n        vertical-align: middle;\n    }\n\n    .dataframe tbody tr th {\n        vertical-align: top;\n    }\n\n    .dataframe thead th {\n        text-align: right;\n    }\n</style>\n<table border=\"1\" class=\"dataframe\">\n  <thead>\n    <tr style=\"text-align: right;\">\n      <th></th>\n      <th>Timestamp</th>\n      <th>FIT101</th>\n      <th>LIT101</th>\n      <th>MV101</th>\n      <th>P101</th>\n      <th>P102</th>\n      <th>AIT201</th>\n      <th>AIT202</th>\n      <th>AIT203</th>\n      <th>FIT201</th>\n      <th>...</th>\n      <th>FIT504</th>\n      <th>P501</th>\n      <th>P502</th>\n      <th>PIT501</th>\n      <th>PIT502</th>\n      <th>PIT503</th>\n      <th>FIT601</th>\n      <th>P601</th>\n      <th>P602</th>\n      <th>P603</th>\n    </tr>\n  </thead>\n  <tbody>\n    <tr>\n      <th>0</th>\n      <td>2015-12-22 16:30:00</td>\n      <td>0.0</td>\n      <td>0.005294</td>\n      <td>0.5</td>\n      <td>0.0</td>\n      <td>0.0</td>\n      <td>0.012291</td>\n      <td>0.075099</td>\n      <td>0.002009</td>\n      <td>0.0</td>\n      <td>...</td>\n      <td>0.0</td>\n      <td>0.0</td>\n      <td>0.0</td>\n      <td>0.000814</td>\n      <td>0.0</td>\n      <td>0.001217</td>\n      <td>0.000147</td>\n      <td>0.0</td>\n      <td>0.0</td>\n      <td>0.0</td>\n    </tr>\n    <tr>\n      <th>1</th>\n      <td>2015-12-22 16:30:01</td>\n      <td>0.0</td>\n      <td>0.005407</td>\n      <td>0.5</td>\n      <td>0.0</td>\n      <td>0.0</td>\n      <td>0.012291</td>\n      <td>0.075099</td>\n      <td>0.002009</td>\n      <td>0.0</td>\n      <td>...</td>\n      <td>0.0</td>\n      <td>0.0</td>\n      <td>0.0</td>\n      <td>0.000814</td>\n      <td>0.0</td>\n      <td>0.001217</td>\n      <td>0.000147</td>\n      <td>0.0</td>\n      <td>0.0</td>\n      <td>0.0</td>\n    </tr>\n    <tr>\n      <th>2</th>\n      <td>2015-12-22 16:30:02</td>\n      <td>0.0</td>\n      <td>0.005520</td>\n      <td>0.5</td>\n      <td>0.0</td>\n      <td>0.0</td>\n      <td>0.012291</td>\n      <td>0.075099</td>\n      <td>0.002009</td>\n      <td>0.0</td>\n      <td>...</td>\n      <td>0.0</td>\n      <td>0.0</td>\n      <td>0.0</td>\n      <td>0.000814</td>\n      <td>0.0</td>\n      <td>0.001217</td>\n      <td>0.000147</td>\n      <td>0.0</td>\n      <td>0.0</td>\n      <td>0.0</td>\n    </tr>\n    <tr>\n      <th>3</th>\n      <td>2015-12-22 16:30:03</td>\n      <td>0.0</td>\n      <td>0.005801</td>\n      <td>0.5</td>\n      <td>0.0</td>\n      <td>0.0</td>\n      <td>0.012291</td>\n      <td>0.075099</td>\n      <td>0.002009</td>\n      <td>0.0</td>\n      <td>...</td>\n      <td>0.0</td>\n      <td>0.0</td>\n      <td>0.0</td>\n      <td>0.000814</td>\n      <td>0.0</td>\n      <td>0.001217</td>\n      <td>0.000147</td>\n      <td>0.0</td>\n      <td>0.0</td>\n      <td>0.0</td>\n    </tr>\n    <tr>\n      <th>4</th>\n      <td>2015-12-22 16:30:04</td>\n      <td>0.0</td>\n      <td>0.005576</td>\n      <td>0.5</td>\n      <td>0.0</td>\n      <td>0.0</td>\n      <td>0.012291</td>\n      <td>0.075099</td>\n      <td>0.002009</td>\n      <td>0.0</td>\n      <td>...</td>\n      <td>0.0</td>\n      <td>0.0</td>\n      <td>0.0</td>\n      <td>0.000814</td>\n      <td>0.0</td>\n      <td>0.001217</td>\n      <td>0.000147</td>\n      <td>0.0</td>\n      <td>0.0</td>\n      <td>0.0</td>\n    </tr>\n  </tbody>\n</table>\n<p>5 rows × 52 columns</p>\n</div>"
     },
     "execution_count": 6,
     "metadata": {},
     "output_type": "execute_result"
    }
   ],
   "source": [
    "df.head()"
   ],
   "metadata": {
    "collapsed": false,
    "ExecuteTime": {
     "end_time": "2024-08-31T19:07:58.227297800Z",
     "start_time": "2024-08-31T19:07:58.211661800Z"
    }
   }
  },
  {
   "cell_type": "code",
   "execution_count": 7,
   "outputs": [],
   "source": [
    "df = df.drop(columns=['Timestamp'])"
   ],
   "metadata": {
    "collapsed": false,
    "ExecuteTime": {
     "end_time": "2024-08-31T19:07:59.560588200Z",
     "start_time": "2024-08-31T19:07:59.488842700Z"
    }
   }
  },
  {
   "cell_type": "code",
   "execution_count": 8,
   "outputs": [],
   "source": [
    "# check for columns only containing 0\n",
    "empty_cols = []\n",
    "for col in df.columns:\n",
    "    if (df[col] == 0).all():\n",
    "        empty_cols.append(col)\n"
   ],
   "metadata": {
    "collapsed": false,
    "ExecuteTime": {
     "end_time": "2024-08-31T19:08:00.633764900Z",
     "start_time": "2024-08-31T19:08:00.586906300Z"
    }
   }
  },
  {
   "cell_type": "code",
   "execution_count": 9,
   "outputs": [],
   "source": [
    "df= df.drop(columns= empty_cols)"
   ],
   "metadata": {
    "collapsed": false,
    "ExecuteTime": {
     "end_time": "2024-08-31T19:08:01.946393700Z",
     "start_time": "2024-08-31T19:08:01.915019100Z"
    }
   }
  },
  {
   "cell_type": "code",
   "execution_count": 10,
   "outputs": [],
   "source": [
    "random_state = 44"
   ],
   "metadata": {
    "collapsed": false,
    "ExecuteTime": {
     "end_time": "2024-08-31T19:08:02.693238500Z",
     "start_time": "2024-08-31T19:08:02.681664300Z"
    }
   }
  },
  {
   "cell_type": "code",
   "execution_count": 11,
   "outputs": [],
   "source": [
    "train_df, temp = train_test_split(df, test_size= 0.4, random_state= random_state)"
   ],
   "metadata": {
    "collapsed": false,
    "ExecuteTime": {
     "end_time": "2024-08-31T19:08:03.321071Z",
     "start_time": "2024-08-31T19:08:03.161322100Z"
    }
   }
  },
  {
   "cell_type": "code",
   "execution_count": 12,
   "outputs": [],
   "source": [
    "test_df, eval_df = train_test_split(temp, test_size= 0.5, random_state= random_state)"
   ],
   "metadata": {
    "collapsed": false,
    "ExecuteTime": {
     "end_time": "2024-08-31T19:08:04.062098800Z",
     "start_time": "2024-08-31T19:08:03.983862400Z"
    }
   }
  },
  {
   "cell_type": "code",
   "execution_count": 13,
   "outputs": [],
   "source": [
    "train_size= train_df.shape\n",
    "test_size= test_df.shape\n",
    "eval_size= eval_df.shape"
   ],
   "metadata": {
    "collapsed": false,
    "ExecuteTime": {
     "end_time": "2024-08-31T19:08:04.483143400Z",
     "start_time": "2024-08-31T19:08:04.467518100Z"
    }
   }
  },
  {
   "cell_type": "code",
   "execution_count": 14,
   "outputs": [
    {
     "name": "stdout",
     "output_type": "stream",
     "text": [
      "Data sizes are Train:(297000, 40), Test:(99000, 40), Eval:(99000, 40)\n"
     ]
    }
   ],
   "source": [
    "print(f'Data sizes are Train:{train_size}, Test:{test_size}, Eval:{eval_size}')"
   ],
   "metadata": {
    "collapsed": false,
    "ExecuteTime": {
     "end_time": "2024-08-31T19:08:05.313670600Z",
     "start_time": "2024-08-31T19:08:05.301376100Z"
    }
   }
  },
  {
   "cell_type": "code",
   "execution_count": 15,
   "outputs": [],
   "source": [
    "all_cols= train_df.columns"
   ],
   "metadata": {
    "collapsed": false,
    "ExecuteTime": {
     "end_time": "2024-08-31T19:08:05.992899Z",
     "start_time": "2024-08-31T19:08:05.977398700Z"
    }
   }
  },
  {
   "cell_type": "code",
   "execution_count": 16,
   "outputs": [],
   "source": [
    "dependent_col= 'LIT101'\n",
    "independent_cols= [x for x in all_cols if x != dependent_col ]\n"
   ],
   "metadata": {
    "collapsed": false,
    "ExecuteTime": {
     "end_time": "2024-08-31T19:08:06.632518200Z",
     "start_time": "2024-08-31T19:08:06.616968700Z"
    }
   }
  },
  {
   "cell_type": "code",
   "execution_count": 17,
   "outputs": [
    {
     "data": {
      "text/plain": "[]"
     },
     "execution_count": 17,
     "metadata": {},
     "output_type": "execute_result"
    },
    {
     "data": {
      "text/plain": "<Figure size 640x480 with 1 Axes>",
      "image/png": "[encoded data removed]"
     },
     "metadata": {},
     "output_type": "display_data"
    }
   ],
   "source": [
    "ax = df.LIT101.plot.hist(bins= 100)\n",
    "ax.grid()\n",
    "ax.set()"
   ],
   "metadata": {
    "collapsed": false,
    "ExecuteTime": {
     "end_time": "2024-08-31T19:08:07.760552900Z",
     "start_time": "2024-08-31T19:08:07.569331900Z"
    }
   }
  },
  {
   "cell_type": "markdown",
   "source": [],
   "metadata": {
    "collapsed": false
   }
  },
  {
   "cell_type": "code",
   "execution_count": 18,
   "outputs": [],
   "source": [
    "X_train = train_df[independent_cols]\n",
    "X_test = test_df[independent_cols]\n",
    "y_train = train_df[dependent_col]"
   ],
   "metadata": {
    "collapsed": false,
    "ExecuteTime": {
     "end_time": "2024-08-31T19:09:09.457839500Z",
     "start_time": "2024-08-31T19:09:09.426699400Z"
    }
   }
  },
  {
   "cell_type": "code",
   "execution_count": 19,
   "outputs": [],
   "source": [
    "def evaluate_model_rkf(model, X_df, y_df, n_splits=5, n_repeats=2, random_state= random_state):\n",
    "    X_values = X_df.values\n",
    "    y_values = y_df.values\n",
    "    rkf = RepeatedKFold(\n",
    "        n_splits=n_splits, n_repeats=n_repeats, random_state=random_state\n",
    "    )\n",
    "    y_pred = np.zeros_like(y_values)\n",
    "    for train_index, test_index in rkf.split(X_values):\n",
    "        X_A, X_B = X_values[train_index, :], X_values[test_index, :]\n",
    "        y_A = y_values[train_index]\n",
    "        model.fit(\n",
    "            X_A, y_A,\n",
    "        )\n",
    "        y_pred[test_index] += model.predict(X_B)\n",
    "    y_pred /= n_repeats\n",
    "    return np.sqrt(mean_squared_error(y_train, y_pred))"
   ],
   "metadata": {
    "collapsed": false,
    "ExecuteTime": {
     "end_time": "2024-08-31T19:09:09.846905700Z",
     "start_time": "2024-08-31T19:09:09.831205500Z"
    }
   }
  },
  {
   "cell_type": "code",
   "execution_count": 20,
   "outputs": [
    {
     "data": {
      "text/plain": "0.0024377713658742233"
     },
     "execution_count": 20,
     "metadata": {},
     "output_type": "execute_result"
    }
   ],
   "source": [
    "model = RandomForestRegressor(random_state= random_state, n_jobs=N_JOBS)\n",
    "evaluate_model_rkf(\n",
    "    model, X_train, y_train, n_splits= N_SPLITS, n_repeats= N_REPEATS, random_state= random_state\n",
    ")"
   ],
   "metadata": {
    "collapsed": false,
    "ExecuteTime": {
     "end_time": "2024-08-31T19:20:04.503557200Z",
     "start_time": "2024-08-31T19:09:10.479409300Z"
    }
   }
  },
  {
   "cell_type": "code",
   "execution_count": 21,
   "outputs": [],
   "source": [
    "# Get feature importances\n",
    "importances = model.feature_importances_\n",
    "indices = np.argsort(importances)[::-1]"
   ],
   "metadata": {
    "collapsed": false,
    "ExecuteTime": {
     "end_time": "2024-08-31T19:20:04.550431200Z",
     "start_time": "2024-08-31T19:20:04.503557200Z"
    }
   }
  },
  {
   "cell_type": "code",
   "execution_count": 22,
   "outputs": [
    {
     "data": {
      "text/plain": "39"
     },
     "execution_count": 22,
     "metadata": {},
     "output_type": "execute_result"
    }
   ],
   "source": [
    "len(importances)"
   ],
   "metadata": {
    "collapsed": false,
    "ExecuteTime": {
     "end_time": "2024-08-31T19:20:04.566052900Z",
     "start_time": "2024-08-31T19:20:04.550431200Z"
    }
   }
  },
  {
   "cell_type": "code",
   "execution_count": 23,
   "outputs": [
    {
     "data": {
      "text/plain": "numpy.ndarray"
     },
     "execution_count": 23,
     "metadata": {},
     "output_type": "execute_result"
    }
   ],
   "source": [
    "type(indices)"
   ],
   "metadata": {
    "collapsed": false,
    "ExecuteTime": {
     "end_time": "2024-08-31T19:20:04.612997400Z",
     "start_time": "2024-08-31T19:20:04.566052900Z"
    }
   }
  },
  {
   "cell_type": "code",
   "execution_count": 24,
   "outputs": [
    {
     "name": "stdout",
     "output_type": "stream",
     "text": [
      "Importance:1, Name:FIT201\n",
      "Importance:2, Name:LIT401\n",
      "Importance:3, Name:FIT101\n",
      "Importance:4, Name:LIT301\n",
      "Importance:5, Name:MV101\n",
      "Importance:6, Name:AIT501\n",
      "Importance:7, Name:AIT504\n",
      "Importance:8, Name:AIT503\n",
      "Importance:9, Name:AIT202\n",
      "Importance:10, Name:DPIT301\n",
      "Importance:11, Name:AIT201\n",
      "Importance:12, Name:AIT402\n",
      "Importance:13, Name:PIT502\n",
      "Importance:14, Name:FIT502\n",
      "Importance:15, Name:AIT502\n",
      "Importance:16, Name:P501\n",
      "Importance:17, Name:AIT203\n",
      "Importance:18, Name:FIT301\n",
      "Importance:19, Name:PIT501\n",
      "Importance:20, Name:FIT504\n",
      "Importance:21, Name:UV401\n",
      "Importance:22, Name:MV304\n",
      "Importance:23, Name:FIT401\n",
      "Importance:24, Name:PIT503\n",
      "Importance:25, Name:FIT501\n",
      "Importance:26, Name:P101\n",
      "Importance:27, Name:MV201\n",
      "Importance:28, Name:FIT503\n",
      "Importance:29, Name:P203\n",
      "Importance:30, Name:FIT601\n",
      "Importance:31, Name:P302\n",
      "Importance:32, Name:P402\n",
      "Importance:33, Name:MV302\n",
      "Importance:34, Name:AIT401\n",
      "Importance:35, Name:MV303\n",
      "Importance:36, Name:P205\n",
      "Importance:37, Name:MV301\n",
      "Importance:38, Name:P602\n",
      "Importance:39, Name:P301\n"
     ]
    }
   ],
   "source": [
    "features = X_train.columns\n",
    "for x,y in enumerate(indices):\n",
    "    print(f'Importance:{x+1}, Name:{features[y]}')\n",
    "\n"
   ],
   "metadata": {
    "collapsed": false,
    "ExecuteTime": {
     "end_time": "2024-08-31T19:20:04.612997400Z",
     "start_time": "2024-08-31T19:20:04.581678100Z"
    }
   }
  },
  {
   "cell_type": "code",
   "execution_count": 26,
   "outputs": [
    {
     "ename": "NameError",
     "evalue": "name 'X_df' is not defined",
     "output_type": "error",
     "traceback": [
      "\u001B[1;31m---------------------------------------------------------------------------\u001B[0m",
      "\u001B[1;31mNameError\u001B[0m                                 Traceback (most recent call last)",
      "\u001B[1;32m~\\AppData\\Local\\Temp\\ipykernel_6744\\2910127223.py\u001B[0m in \u001B[0;36m<module>\u001B[1;34m\u001B[0m\n\u001B[0;32m      2\u001B[0m \u001B[0mplt\u001B[0m\u001B[1;33m.\u001B[0m\u001B[0mfigure\u001B[0m\u001B[1;33m(\u001B[0m\u001B[0mfigsize\u001B[0m\u001B[1;33m=\u001B[0m\u001B[1;33m(\u001B[0m\u001B[1;36m10\u001B[0m\u001B[1;33m,\u001B[0m \u001B[1;36m6\u001B[0m\u001B[1;33m)\u001B[0m\u001B[1;33m)\u001B[0m\u001B[1;33m\u001B[0m\u001B[1;33m\u001B[0m\u001B[0m\n\u001B[0;32m      3\u001B[0m \u001B[0mplt\u001B[0m\u001B[1;33m.\u001B[0m\u001B[0mtitle\u001B[0m\u001B[1;33m(\u001B[0m\u001B[1;34m\"Feature Importances\"\u001B[0m\u001B[1;33m)\u001B[0m\u001B[1;33m\u001B[0m\u001B[1;33m\u001B[0m\u001B[0m\n\u001B[1;32m----> 4\u001B[1;33m \u001B[0mplt\u001B[0m\u001B[1;33m.\u001B[0m\u001B[0mbar\u001B[0m\u001B[1;33m(\u001B[0m\u001B[0mrange\u001B[0m\u001B[1;33m(\u001B[0m\u001B[0mX_df\u001B[0m\u001B[1;33m.\u001B[0m\u001B[0mshape\u001B[0m\u001B[1;33m[\u001B[0m\u001B[1;36m1\u001B[0m\u001B[1;33m]\u001B[0m\u001B[1;33m)\u001B[0m\u001B[1;33m,\u001B[0m \u001B[0mimportances\u001B[0m\u001B[1;33m[\u001B[0m\u001B[0mindices\u001B[0m\u001B[1;33m]\u001B[0m\u001B[1;33m,\u001B[0m \u001B[0malign\u001B[0m\u001B[1;33m=\u001B[0m\u001B[1;34m'center'\u001B[0m\u001B[1;33m)\u001B[0m\u001B[1;33m\u001B[0m\u001B[1;33m\u001B[0m\u001B[0m\n\u001B[0m\u001B[0;32m      5\u001B[0m \u001B[0mplt\u001B[0m\u001B[1;33m.\u001B[0m\u001B[0mxticks\u001B[0m\u001B[1;33m(\u001B[0m\u001B[0mrange\u001B[0m\u001B[1;33m(\u001B[0m\u001B[0mX_df\u001B[0m\u001B[1;33m.\u001B[0m\u001B[0mshape\u001B[0m\u001B[1;33m[\u001B[0m\u001B[1;36m1\u001B[0m\u001B[1;33m]\u001B[0m\u001B[1;33m)\u001B[0m\u001B[1;33m,\u001B[0m \u001B[0mX_df\u001B[0m\u001B[1;33m.\u001B[0m\u001B[0mcolumns\u001B[0m\u001B[1;33m[\u001B[0m\u001B[0mindices\u001B[0m\u001B[1;33m]\u001B[0m\u001B[1;33m,\u001B[0m \u001B[0mrotation\u001B[0m\u001B[1;33m=\u001B[0m\u001B[1;36m90\u001B[0m\u001B[1;33m)\u001B[0m\u001B[1;33m\u001B[0m\u001B[1;33m\u001B[0m\u001B[0m\n\u001B[0;32m      6\u001B[0m \u001B[0mplt\u001B[0m\u001B[1;33m.\u001B[0m\u001B[0mxlabel\u001B[0m\u001B[1;33m(\u001B[0m\u001B[1;34m'Feature'\u001B[0m\u001B[1;33m)\u001B[0m\u001B[1;33m\u001B[0m\u001B[1;33m\u001B[0m\u001B[0m\n",
      "\u001B[1;31mNameError\u001B[0m: name 'X_df' is not defined"
     ]
    },
    {
     "data": {
      "text/plain": "<Figure size 1000x600 with 1 Axes>",
      "image/png": "[encoded data removed]"
     },
     "metadata": {},
     "output_type": "display_data"
    }
   ],
   "source": [
    "\n",
    "\n",
    "# Plot feature importances\n",
    "plt.figure(figsize=(10, 6))\n",
    "plt.title(\"Feature Importances\")\n",
    "plt.bar(range(X_df.shape[1]), importances[indices], align='center')\n",
    "plt.xticks(range(X_df.shape[1]), X_df.columns[indices], rotation=90)\n",
    "plt.xlabel('Feature')\n",
    "plt.ylabel('Importance')\n",
    "plt.show()"
   ],
   "metadata": {
    "collapsed": false,
    "ExecuteTime": {
     "end_time": "2024-08-31T19:24:12.179477500Z",
     "start_time": "2024-08-31T19:24:12.109581100Z"
    }
   }
  },
  {
   "cell_type": "code",
   "execution_count": null,
   "outputs": [],
   "source": [],
   "metadata": {
    "collapsed": false
   }
  }
 ],
 "metadata": {
  "kernelspec": {
   "display_name": "Python 3",
   "language": "python",
   "name": "python3"
  },
  "language_info": {
   "codemirror_mode": {
    "name": "ipython",
    "version": 2
   },
   "file_extension": ".py",
   "mimetype": "text/x-python",
   "name": "python",
   "nbconvert_exporter": "python",
   "pygments_lexer": "ipython2",
   "version": "2.7.6"
  }
 },
 "nbformat": 4,
 "nbformat_minor": 0
}
