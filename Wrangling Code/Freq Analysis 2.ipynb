{
 "cells": [
  {
   "cell_type": "code",
   "execution_count": 2,
   "metadata": {
    "collapsed": true,
    "ExecuteTime": {
     "end_time": "2024-08-23T12:33:47.752809500Z",
     "start_time": "2024-08-23T12:33:46.492495500Z"
    }
   },
   "outputs": [],
   "source": [
    "import pandas as pd\n",
    "import numpy as np\n",
    "import matplotlib.pyplot as plt\n",
    "from scipy.signal import find_peaks\n",
    "import scipy.stats as stats\n",
    "import statsmodels.api as sm"
   ]
  },
  {
   "cell_type": "code",
   "execution_count": 3,
   "outputs": [
    {
     "name": "stderr",
     "output_type": "stream",
     "text": [
      "<>:1: SyntaxWarning: invalid escape sequence '\\G'\n",
      "<>:1: SyntaxWarning: invalid escape sequence '\\G'\n",
      "C:\\Users\\loz\\AppData\\Local\\Temp\\ipykernel_13716\\4176416569.py:1: SyntaxWarning: invalid escape sequence '\\G'\n",
      "  df = pd.read_csv('D:\\GitHub\\MSc-Project\\SWaT DataSWaT 2015-12-23.csv')\n",
      "C:\\Users\\loz\\AppData\\Local\\Temp\\ipykernel_13716\\4176416569.py:1: SyntaxWarning: invalid escape sequence '\\G'\n",
      "  df = pd.read_csv('D:\\GitHub\\MSc-Project\\SWaT DataSWaT 2015-12-23.csv')\n"
     ]
    },
    {
     "ename": "FileNotFoundError",
     "evalue": "[Errno 2] No such file or directory: 'D:\\\\GitHub\\\\MSc-Project\\\\SWaT DataSWaT 2015-12-23.csv'",
     "output_type": "error",
     "traceback": [
      "\u001B[1;31m---------------------------------------------------------------------------\u001B[0m",
      "\u001B[1;31mFileNotFoundError\u001B[0m                         Traceback (most recent call last)",
      "Cell \u001B[1;32mIn[3], line 1\u001B[0m\n\u001B[1;32m----> 1\u001B[0m df \u001B[38;5;241m=\u001B[39m pd\u001B[38;5;241m.\u001B[39mread_csv(\u001B[38;5;124m'\u001B[39m\u001B[38;5;124mD:\u001B[39m\u001B[38;5;124m\\\u001B[39m\u001B[38;5;124mGitHub\u001B[39m\u001B[38;5;124m\\\u001B[39m\u001B[38;5;124mMSc-Project\u001B[39m\u001B[38;5;124m\\\u001B[39m\u001B[38;5;124mSWaT DataSWaT 2015-12-23.csv\u001B[39m\u001B[38;5;124m'\u001B[39m)\n",
      "File \u001B[1;32m~\\anaconda3\\Lib\\site-packages\\pandas\\io\\parsers\\readers.py:1026\u001B[0m, in \u001B[0;36mread_csv\u001B[1;34m(filepath_or_buffer, sep, delimiter, header, names, index_col, usecols, dtype, engine, converters, true_values, false_values, skipinitialspace, skiprows, skipfooter, nrows, na_values, keep_default_na, na_filter, verbose, skip_blank_lines, parse_dates, infer_datetime_format, keep_date_col, date_parser, date_format, dayfirst, cache_dates, iterator, chunksize, compression, thousands, decimal, lineterminator, quotechar, quoting, doublequote, escapechar, comment, encoding, encoding_errors, dialect, on_bad_lines, delim_whitespace, low_memory, memory_map, float_precision, storage_options, dtype_backend)\u001B[0m\n\u001B[0;32m   1013\u001B[0m kwds_defaults \u001B[38;5;241m=\u001B[39m _refine_defaults_read(\n\u001B[0;32m   1014\u001B[0m     dialect,\n\u001B[0;32m   1015\u001B[0m     delimiter,\n\u001B[1;32m   (...)\u001B[0m\n\u001B[0;32m   1022\u001B[0m     dtype_backend\u001B[38;5;241m=\u001B[39mdtype_backend,\n\u001B[0;32m   1023\u001B[0m )\n\u001B[0;32m   1024\u001B[0m kwds\u001B[38;5;241m.\u001B[39mupdate(kwds_defaults)\n\u001B[1;32m-> 1026\u001B[0m \u001B[38;5;28;01mreturn\u001B[39;00m _read(filepath_or_buffer, kwds)\n",
      "File \u001B[1;32m~\\anaconda3\\Lib\\site-packages\\pandas\\io\\parsers\\readers.py:620\u001B[0m, in \u001B[0;36m_read\u001B[1;34m(filepath_or_buffer, kwds)\u001B[0m\n\u001B[0;32m    617\u001B[0m _validate_names(kwds\u001B[38;5;241m.\u001B[39mget(\u001B[38;5;124m\"\u001B[39m\u001B[38;5;124mnames\u001B[39m\u001B[38;5;124m\"\u001B[39m, \u001B[38;5;28;01mNone\u001B[39;00m))\n\u001B[0;32m    619\u001B[0m \u001B[38;5;66;03m# Create the parser.\u001B[39;00m\n\u001B[1;32m--> 620\u001B[0m parser \u001B[38;5;241m=\u001B[39m TextFileReader(filepath_or_buffer, \u001B[38;5;241m*\u001B[39m\u001B[38;5;241m*\u001B[39mkwds)\n\u001B[0;32m    622\u001B[0m \u001B[38;5;28;01mif\u001B[39;00m chunksize \u001B[38;5;129;01mor\u001B[39;00m iterator:\n\u001B[0;32m    623\u001B[0m     \u001B[38;5;28;01mreturn\u001B[39;00m parser\n",
      "File \u001B[1;32m~\\anaconda3\\Lib\\site-packages\\pandas\\io\\parsers\\readers.py:1620\u001B[0m, in \u001B[0;36mTextFileReader.__init__\u001B[1;34m(self, f, engine, **kwds)\u001B[0m\n\u001B[0;32m   1617\u001B[0m     \u001B[38;5;28mself\u001B[39m\u001B[38;5;241m.\u001B[39moptions[\u001B[38;5;124m\"\u001B[39m\u001B[38;5;124mhas_index_names\u001B[39m\u001B[38;5;124m\"\u001B[39m] \u001B[38;5;241m=\u001B[39m kwds[\u001B[38;5;124m\"\u001B[39m\u001B[38;5;124mhas_index_names\u001B[39m\u001B[38;5;124m\"\u001B[39m]\n\u001B[0;32m   1619\u001B[0m \u001B[38;5;28mself\u001B[39m\u001B[38;5;241m.\u001B[39mhandles: IOHandles \u001B[38;5;241m|\u001B[39m \u001B[38;5;28;01mNone\u001B[39;00m \u001B[38;5;241m=\u001B[39m \u001B[38;5;28;01mNone\u001B[39;00m\n\u001B[1;32m-> 1620\u001B[0m \u001B[38;5;28mself\u001B[39m\u001B[38;5;241m.\u001B[39m_engine \u001B[38;5;241m=\u001B[39m \u001B[38;5;28mself\u001B[39m\u001B[38;5;241m.\u001B[39m_make_engine(f, \u001B[38;5;28mself\u001B[39m\u001B[38;5;241m.\u001B[39mengine)\n",
      "File \u001B[1;32m~\\anaconda3\\Lib\\site-packages\\pandas\\io\\parsers\\readers.py:1880\u001B[0m, in \u001B[0;36mTextFileReader._make_engine\u001B[1;34m(self, f, engine)\u001B[0m\n\u001B[0;32m   1878\u001B[0m     \u001B[38;5;28;01mif\u001B[39;00m \u001B[38;5;124m\"\u001B[39m\u001B[38;5;124mb\u001B[39m\u001B[38;5;124m\"\u001B[39m \u001B[38;5;129;01mnot\u001B[39;00m \u001B[38;5;129;01min\u001B[39;00m mode:\n\u001B[0;32m   1879\u001B[0m         mode \u001B[38;5;241m+\u001B[39m\u001B[38;5;241m=\u001B[39m \u001B[38;5;124m\"\u001B[39m\u001B[38;5;124mb\u001B[39m\u001B[38;5;124m\"\u001B[39m\n\u001B[1;32m-> 1880\u001B[0m \u001B[38;5;28mself\u001B[39m\u001B[38;5;241m.\u001B[39mhandles \u001B[38;5;241m=\u001B[39m get_handle(\n\u001B[0;32m   1881\u001B[0m     f,\n\u001B[0;32m   1882\u001B[0m     mode,\n\u001B[0;32m   1883\u001B[0m     encoding\u001B[38;5;241m=\u001B[39m\u001B[38;5;28mself\u001B[39m\u001B[38;5;241m.\u001B[39moptions\u001B[38;5;241m.\u001B[39mget(\u001B[38;5;124m\"\u001B[39m\u001B[38;5;124mencoding\u001B[39m\u001B[38;5;124m\"\u001B[39m, \u001B[38;5;28;01mNone\u001B[39;00m),\n\u001B[0;32m   1884\u001B[0m     compression\u001B[38;5;241m=\u001B[39m\u001B[38;5;28mself\u001B[39m\u001B[38;5;241m.\u001B[39moptions\u001B[38;5;241m.\u001B[39mget(\u001B[38;5;124m\"\u001B[39m\u001B[38;5;124mcompression\u001B[39m\u001B[38;5;124m\"\u001B[39m, \u001B[38;5;28;01mNone\u001B[39;00m),\n\u001B[0;32m   1885\u001B[0m     memory_map\u001B[38;5;241m=\u001B[39m\u001B[38;5;28mself\u001B[39m\u001B[38;5;241m.\u001B[39moptions\u001B[38;5;241m.\u001B[39mget(\u001B[38;5;124m\"\u001B[39m\u001B[38;5;124mmemory_map\u001B[39m\u001B[38;5;124m\"\u001B[39m, \u001B[38;5;28;01mFalse\u001B[39;00m),\n\u001B[0;32m   1886\u001B[0m     is_text\u001B[38;5;241m=\u001B[39mis_text,\n\u001B[0;32m   1887\u001B[0m     errors\u001B[38;5;241m=\u001B[39m\u001B[38;5;28mself\u001B[39m\u001B[38;5;241m.\u001B[39moptions\u001B[38;5;241m.\u001B[39mget(\u001B[38;5;124m\"\u001B[39m\u001B[38;5;124mencoding_errors\u001B[39m\u001B[38;5;124m\"\u001B[39m, \u001B[38;5;124m\"\u001B[39m\u001B[38;5;124mstrict\u001B[39m\u001B[38;5;124m\"\u001B[39m),\n\u001B[0;32m   1888\u001B[0m     storage_options\u001B[38;5;241m=\u001B[39m\u001B[38;5;28mself\u001B[39m\u001B[38;5;241m.\u001B[39moptions\u001B[38;5;241m.\u001B[39mget(\u001B[38;5;124m\"\u001B[39m\u001B[38;5;124mstorage_options\u001B[39m\u001B[38;5;124m\"\u001B[39m, \u001B[38;5;28;01mNone\u001B[39;00m),\n\u001B[0;32m   1889\u001B[0m )\n\u001B[0;32m   1890\u001B[0m \u001B[38;5;28;01massert\u001B[39;00m \u001B[38;5;28mself\u001B[39m\u001B[38;5;241m.\u001B[39mhandles \u001B[38;5;129;01mis\u001B[39;00m \u001B[38;5;129;01mnot\u001B[39;00m \u001B[38;5;28;01mNone\u001B[39;00m\n\u001B[0;32m   1891\u001B[0m f \u001B[38;5;241m=\u001B[39m \u001B[38;5;28mself\u001B[39m\u001B[38;5;241m.\u001B[39mhandles\u001B[38;5;241m.\u001B[39mhandle\n",
      "File \u001B[1;32m~\\anaconda3\\Lib\\site-packages\\pandas\\io\\common.py:873\u001B[0m, in \u001B[0;36mget_handle\u001B[1;34m(path_or_buf, mode, encoding, compression, memory_map, is_text, errors, storage_options)\u001B[0m\n\u001B[0;32m    868\u001B[0m \u001B[38;5;28;01melif\u001B[39;00m \u001B[38;5;28misinstance\u001B[39m(handle, \u001B[38;5;28mstr\u001B[39m):\n\u001B[0;32m    869\u001B[0m     \u001B[38;5;66;03m# Check whether the filename is to be opened in binary mode.\u001B[39;00m\n\u001B[0;32m    870\u001B[0m     \u001B[38;5;66;03m# Binary mode does not support 'encoding' and 'newline'.\u001B[39;00m\n\u001B[0;32m    871\u001B[0m     \u001B[38;5;28;01mif\u001B[39;00m ioargs\u001B[38;5;241m.\u001B[39mencoding \u001B[38;5;129;01mand\u001B[39;00m \u001B[38;5;124m\"\u001B[39m\u001B[38;5;124mb\u001B[39m\u001B[38;5;124m\"\u001B[39m \u001B[38;5;129;01mnot\u001B[39;00m \u001B[38;5;129;01min\u001B[39;00m ioargs\u001B[38;5;241m.\u001B[39mmode:\n\u001B[0;32m    872\u001B[0m         \u001B[38;5;66;03m# Encoding\u001B[39;00m\n\u001B[1;32m--> 873\u001B[0m         handle \u001B[38;5;241m=\u001B[39m \u001B[38;5;28mopen\u001B[39m(\n\u001B[0;32m    874\u001B[0m             handle,\n\u001B[0;32m    875\u001B[0m             ioargs\u001B[38;5;241m.\u001B[39mmode,\n\u001B[0;32m    876\u001B[0m             encoding\u001B[38;5;241m=\u001B[39mioargs\u001B[38;5;241m.\u001B[39mencoding,\n\u001B[0;32m    877\u001B[0m             errors\u001B[38;5;241m=\u001B[39merrors,\n\u001B[0;32m    878\u001B[0m             newline\u001B[38;5;241m=\u001B[39m\u001B[38;5;124m\"\u001B[39m\u001B[38;5;124m\"\u001B[39m,\n\u001B[0;32m    879\u001B[0m         )\n\u001B[0;32m    880\u001B[0m     \u001B[38;5;28;01melse\u001B[39;00m:\n\u001B[0;32m    881\u001B[0m         \u001B[38;5;66;03m# Binary mode\u001B[39;00m\n\u001B[0;32m    882\u001B[0m         handle \u001B[38;5;241m=\u001B[39m \u001B[38;5;28mopen\u001B[39m(handle, ioargs\u001B[38;5;241m.\u001B[39mmode)\n",
      "\u001B[1;31mFileNotFoundError\u001B[0m: [Errno 2] No such file or directory: 'D:\\\\GitHub\\\\MSc-Project\\\\SWaT DataSWaT 2015-12-23.csv'"
     ]
    }
   ],
   "source": [
    "df = pd.read_csv('D:\\GitHub\\MSc-Project\\SWaT DataSWaT 2015-12-23.csv')"
   ],
   "metadata": {
    "collapsed": false,
    "ExecuteTime": {
     "end_time": "2024-08-23T12:33:48.428928500Z",
     "start_time": "2024-08-23T12:33:47.754809200Z"
    }
   }
  },
  {
   "cell_type": "code",
   "execution_count": null,
   "outputs": [],
   "source": [
    "!nvcc --version"
   ],
   "metadata": {
    "collapsed": false
   }
  },
  {
   "cell_type": "code",
   "execution_count": null,
   "outputs": [],
   "source": [
    "df.head()"
   ],
   "metadata": {
    "collapsed": false
   }
  },
  {
   "cell_type": "code",
   "execution_count": null,
   "outputs": [],
   "source": [
    "def doFourierAnalysis(df, column_name):\n",
    "    \"\"\"\n",
    "    Performs Fourier analysis on named column in the passed DataFrame, plots the power spectrum against the frequency bins.\n",
    "\n",
    "    The plot is displayed on logarithmic scaled axis.\n",
    "\n",
    "    Parameters:\n",
    "    df (pandas.DataFrame): Sensor values DataFrame.\n",
    "    column_name (str): The name of the column to analyze.\n",
    "\n",
    "    Returns:\n",
    "    None\n",
    "    \"\"\"\n",
    "    # Extract the data from the DataFrame\n",
    "    data = df[column_name].values\n",
    "\n",
    "    # Number of data points\n",
    "    N = len(data)\n",
    "\n",
    "    # Compute the Fast Fourier Transform (FFT)\n",
    "    fft_data = np.fft.fft(data)\n",
    "\n",
    "    # Compute the Power Spectrum (magnitude of the FFT squared)\n",
    "    power_spectrum = np.abs(fft_data) ** 2\n",
    "\n",
    "    # Compute the frequency bins\n",
    "    # If you have a time step dt between data points, replace 1.0 with dt in the line below\n",
    "    freq = np.fft.fftfreq(N, 10.0)\n",
    "\n",
    "    return (freq, power_spectrum)\n",
    "\n"
   ],
   "metadata": {
    "collapsed": false
   }
  },
  {
   "cell_type": "code",
   "execution_count": null,
   "outputs": [],
   "source": [
    "\n",
    "def performFourierAndLimitHarmonics(df, column_name, num_harmonics):\n",
    "\n",
    "    data = df[column_name].values\n",
    "\n",
    "    # Perform the Fast Fourier Transform (FFT)\n",
    "    fft_data = np.fft.fft(data)\n",
    "    N = len(data)\n",
    "\n",
    "    # Compute the magnitude of the FFT and find the indices of the largest components\n",
    "    magnitudes = np.abs(fft_data)\n",
    "    indices = np.argsort(magnitudes)[::-1]  # Sort indices by magnitude in descending order\n",
    "\n",
    "    # Zero out all but the largest `num_harmonics` components\n",
    "    fft_data_limited = np.zeros(N, dtype=complex)\n",
    "    for i in range(num_harmonics):\n",
    "        index = indices[i]\n",
    "        fft_data_limited[index] = fft_data[index]\n",
    "\n",
    "    # Inverse FFT to reconstruct the signal with limited harmonics\n",
    "    reconstructed_signal = np.fft.ifft(fft_data_limited)\n",
    "\n",
    "    return reconstructed_signal, fft_data_limited\n",
    "\n",
    "\n"
   ],
   "metadata": {
    "collapsed": false
   }
  },
  {
   "cell_type": "code",
   "execution_count": null,
   "outputs": [],
   "source": [
    "def plot_columns(df, columns_list):\n",
    "\n",
    "    # Convert the 'time' column to datetime if it's not already in that format\n",
    "    if df['time'].dtype == object:\n",
    "        df['time'] = pd.to_datetime(df['time'])\n",
    "\n",
    "    # Set the size of the plot\n",
    "    plt.figure(figsize=(12, 6))\n",
    "\n",
    "    # Loop through the columns and plot each one\n",
    "    for column in columns_list:\n",
    "        plt.plot(df['time'], df[column], label=column)\n",
    "\n",
    "    # Add title and labels\n",
    "    plt.title('Signals Over Time')\n",
    "    plt.xlabel('Time')\n",
    "    plt.yscale('log')\n",
    "    plt.ylabel('Signal Value')\n",
    "\n",
    "    # set y range to plot if passed\n",
    "    plt.ylim( 0.1, 1)\n",
    "\n",
    "    # Show legend\n",
    "    plt.legend()\n",
    "\n",
    "    # Show grid\n",
    "    plt.grid(True)\n",
    "\n",
    "    # Adjust layout\n",
    "    plt.tight_layout()\n",
    "\n",
    "    # Show plot\n",
    "    plt.show()\n"
   ],
   "metadata": {
    "collapsed": false
   }
  },
  {
   "cell_type": "code",
   "execution_count": null,
   "outputs": [],
   "source": [
    "def prep_data(df: pd.DataFrame, columns_list: list, start_time: str= None, end_time: str= None) -> pd.DataFrame:\n",
    "    '''\n",
    "    :param df: df of scaled results for a single date\n",
    "    :param columns_list: columns to keep includingtime column\n",
    "    :param start_time: string in format 'hh:mm:ss', default takes min value in df\n",
    "    :param end_time: string in format 'hh:mm:ss', default takes max value in df\n",
    "    :return: df of only values in time windo for specified columns\n",
    "    '''\n",
    "\n",
    "    # get times if not passed\n",
    "    if start_time is None:\n",
    "        start_time = df['time'].min()\n",
    "    #else:\n",
    "    #    start_time = pd.to_datetime(start_time)\n",
    "    #    print(type(start_time))\n",
    "    if end_time is None:\n",
    "        end_time = df['time'].max()\n",
    "    #else:\n",
    "    #    end_time = pd.to_datetime(end_time)\n",
    "\n",
    "    # filter to rows in time window\n",
    "    df = df[(df['time'] >= start_time) & (df['time'] <= end_time)]\n",
    "    df = df[columns_list]\n",
    "    df_prepped = df.copy()\n",
    "\n",
    "    # replace low values possibly to tidy graph\n",
    "\n",
    "    return df_prepped\n"
   ],
   "metadata": {
    "collapsed": false
   }
  },
  {
   "cell_type": "code",
   "execution_count": null,
   "outputs": [],
   "source": [
    "columns_list = ['time', 'MV101','LIT101','FIT101','P101','FIT201','MV201']"
   ],
   "metadata": {
    "collapsed": false
   }
  },
  {
   "cell_type": "code",
   "execution_count": null,
   "outputs": [],
   "source": [
    "df_prepped = prep_data(df, columns_list, start_time= '00:00:00', end_time= '08:00:00')"
   ],
   "metadata": {
    "collapsed": false
   }
  },
  {
   "cell_type": "code",
   "execution_count": null,
   "outputs": [],
   "source": [
    "columns_to_plot = ['MV101','LIT101','FIT101','P101','FIT201','MV201']"
   ],
   "metadata": {
    "collapsed": false
   }
  },
  {
   "cell_type": "code",
   "execution_count": null,
   "outputs": [],
   "source": [
    "df_prepped.head()\n",
    "# df.columns"
   ],
   "metadata": {
    "collapsed": false
   }
  },
  {
   "cell_type": "code",
   "execution_count": null,
   "outputs": [],
   "source": [
    "#df.head()"
   ],
   "metadata": {
    "collapsed": false
   }
  },
  {
   "cell_type": "code",
   "execution_count": null,
   "outputs": [],
   "source": [
    "plot_columns(df_prepped, columns_to_plot)"
   ],
   "metadata": {
    "collapsed": false
   }
  },
  {
   "cell_type": "code",
   "execution_count": null,
   "outputs": [],
   "source": [
    "freq, power_spectrum = doFourierAnalysis(df_prepped, 'LIT101')\n",
    "\n",
    "# Plotting the Power Spectrum\n",
    "plt.figure(figsize=(10, 6))\n",
    "plt.plot(freq, power_spectrum)\n",
    "plt.title(f'{column_name} Power Spectrum')\n",
    "plt.xscale('log')\n",
    "plt.xlabel('Frequency')\n",
    "plt.yscale('log')\n",
    "plt.ylabel('Power')\n",
    "plt.xlim(0, np.max(freq))  # Limit x-axis to non-negative frequencies\n",
    "plt.show()"
   ],
   "metadata": {
    "collapsed": false
   }
  },
  {
   "cell_type": "code",
   "execution_count": null,
   "outputs": [],
   "source": [
    "# Assuming df_prepped is already defined and contains 'LIT101' and 'FIT101' columns\n",
    "freq_lit101, power_spectrum_lit101 = doFourierAnalysis(df_prepped, 'LIT101')\n",
    "freq_fit101, power_spectrum_fit101 = doFourierAnalysis(df_prepped, 'FIT101')\n",
    "\n",
    "# Plotting the Power Spectrum for both 'LIT101' and 'FIT101'\n",
    "plt.figure(figsize=(10, 6))\n",
    "plt.plot(freq_lit101, power_spectrum_lit101, label='LIT101')\n",
    "plt.plot(freq_fit101, power_spectrum_fit101, label='FIT101', linestyle='--')\n",
    "plt.title('Power Spectrum')\n",
    "plt.xscale('log')\n",
    "plt.xlabel('Frequency')\n",
    "plt.yscale('log')\n",
    "plt.ylabel('Power')\n",
    "plt.xlim(0, np.max(freq_lit101))  # Limit x-axis to non-negative frequencies\n",
    "plt.legend()\n",
    "plt.show()"
   ],
   "metadata": {
    "collapsed": false
   }
  },
  {
   "cell_type": "code",
   "execution_count": null,
   "outputs": [],
   "source": [
    "column_name_1 = 'LIT101'\n",
    "column_name_2 = 'FIT101'\n",
    "# Example usage:\n",
    "# signal is your input signal, num_harmonics is the number of harmonics you want to keep\n",
    "reconstructed_signal_1, limited_fft_data = performFourierAndLimitHarmonics(df_prepped, column_name_1, num_harmonics=3)\n",
    "reconstructed_signal_2, limited_fft_data = performFourierAndLimitHarmonics(df_prepped, column_name_2, num_harmonics=3)\n",
    "col_1 = df_prepped[column_name_1].values\n",
    "col_2 = df_prepped[column_name_2].values\n",
    "# Plot original and reconstructed signals\n",
    "plt.figure(figsize=(15, 6))\n",
    "\n",
    "# Original Signal\n",
    "plt.subplot(1, 2, 1)\n",
    "plt.plot(col_1, label= column_name_1)\n",
    "plt.plot(col_2, label= column_name_2)\n",
    "plt.title('Original Signal')\n",
    "\n",
    "# Reconstructed Signal with Limited Harmonics\n",
    "plt.subplot(1, 2, 2)\n",
    "plt.plot(reconstructed_signal_1.real, label= 'LIT101')  # Take the real part since the output is complex\n",
    "plt.plot(reconstructed_signal_2.real,label= 'FIT101')  # Take the real part since the output is complex\n",
    "plt.title('Reconstructed Signal with Limited Harmonics')\n",
    "\n",
    "plt.tight_layout()\n",
    "plt.legend()\n",
    "plt.show()\n"
   ],
   "metadata": {
    "collapsed": false
   }
  },
  {
   "cell_type": "code",
   "execution_count": null,
   "outputs": [],
   "source": [
    "# find time difference between peaks\n"
   ],
   "metadata": {
    "collapsed": false
   }
  },
  {
   "cell_type": "code",
   "execution_count": null,
   "outputs": [],
   "source": [
    "# effect of dc component\n",
    "# Create a sample signal with a DC component\n",
    "t = np.linspace(0, 1, 500)\n",
    "signal = 5 + np.sin(2 * np.pi * 50 * t)  # DC component of 5\n",
    "\n",
    "# Compute the FFT\n",
    "fft_data = np.fft.fft(signal)\n",
    "power_spectrum = np.abs(fft_data) ** 2\n",
    "freq = np.fft.fftfreq(len(t), t[1] - t[0])\n",
    "\n",
    "# Plot the Power Spectrum\n",
    "plt.figure(figsize=(10, 6))\n",
    "plt.plot(freq, power_spectrum)\n",
    "plt.title('Power Spectrum with DC Component')\n",
    "plt.xlabel('Frequency (Hz)')\n",
    "plt.ylabel('Power')\n",
    "plt.xscale('log')\n",
    "plt.yscale('log')\n",
    "plt.show()\n",
    "\n",
    "# Remove the DC component\n",
    "signal_detrended = signal - np.mean(signal)\n",
    "\n",
    "# Compute the FFT without the DC component\n",
    "fft_data_detrended = np.fft.fft(signal_detrended)\n",
    "power_spectrum_detrended = np.abs(fft_data_detrended) ** 2\n",
    "\n",
    "# Plot the Power Spectrum without DC Component\n",
    "plt.figure(figsize=(10, 6))\n",
    "plt.plot(freq, power_spectrum_detrended)\n",
    "plt.title('Power Spectrum without DC Component')\n",
    "plt.xlabel('Frequency (Hz)')\n",
    "plt.ylabel('Power')\n",
    "plt.xscale('log')\n",
    "plt.yscale('log')\n",
    "plt.show()"
   ],
   "metadata": {
    "collapsed": false
   }
  },
  {
   "cell_type": "code",
   "execution_count": null,
   "outputs": [],
   "source": [
    "import numpy as np\n",
    "import matplotlib.pyplot as plt\n",
    "import pandas as pd\n",
    "\n",
    "def doFourierAnalysis(df, column_name):\n",
    "    \"\"\"\n",
    "    Perform Fourier analysis on a specified column of a DataFrame and return the frequency bins and power spectrum.\n",
    "\n",
    "    This function computes the Fast Fourier Transform (FFT) of the data in the specified column,\n",
    "    calculates the power spectrum, and returns the power spectrum along with the frequency bins.\n",
    "\n",
    "    Parameters:\n",
    "    df (pandas.DataFrame): The input DataFrame containing the data to analyze.\n",
    "    column_name (str): The name of the column in the DataFrame to analyze.\n",
    "\n",
    "    Returns:\n",
    "    tuple: A tuple containing the frequency bins and the power spectrum.\n",
    "    \"\"\"\n",
    "    # Extract the data from the DataFrame\n",
    "    data = df[column_name].values\n",
    "\n",
    "    # Number of data points\n",
    "    N = len(data)\n",
    "\n",
    "    # Compute the Fast Fourier Transform (FFT)\n",
    "    fft_data = np.fft.fft(data)\n",
    "\n",
    "    # Compute the Power Spectrum (magnitude of the FFT squared)\n",
    "    power_spectrum = np.abs(fft_data) ** 2\n",
    "\n",
    "    # Compute the frequency bins\n",
    "    # If you have a time step dt between data points, replace 10.0 with dt in the line below\n",
    "    freq = np.fft.fftfreq(N, 10.0)\n",
    "\n",
    "    return freq, power_spectrum\n",
    "\n",
    "# Sample DataFrame creation for testing\n",
    "data = {\n",
    "    'time': np.linspace(0, 1, 500),\n",
    "    'LIT101': 5 + np.sin(2 * np.pi * 50 * np.linspace(0, 1, 500)),\n",
    "    'FIT101': 3 + np.sin(2 * np.pi * 60 * np.linspace(0, 1, 500))\n",
    "}\n",
    "#df_prepped = pd.DataFrame(data)\n",
    "\n",
    "# Perform Fourier analysis on the 'LIT101' and 'FIT101' columns\n",
    "freq_lit101, power_spectrum_lit101 = doFourierAnalysis(df_prepped, 'LIT101')\n",
    "freq_fit101, power_spectrum_fit101 = doFourierAnalysis(df_prepped, 'FIT101')\n",
    "\n",
    "# Plotting the Power Spectrum for both 'LIT101' and 'FIT101'\n",
    "plt.figure(figsize=(10, 6))\n",
    "plt.plot(freq_lit101, power_spectrum_lit101, label='LIT101')\n",
    "plt.plot(freq_fit101, power_spectrum_fit101, label='FIT101', linestyle='--')\n",
    "plt.title('Power Spectrum')\n",
    "plt.xscale('log')\n",
    "plt.xlabel('Frequency')\n",
    "plt.yscale('log')\n",
    "plt.ylabel('Power')\n",
    "plt.xlim(0, np.max(freq_lit101))  # Limit x-axis to non-negative frequencies\n",
    "plt.legend()\n",
    "plt.show()\n"
   ],
   "metadata": {
    "collapsed": false
   }
  },
  {
   "cell_type": "code",
   "execution_count": 5,
   "outputs": [
    {
     "name": "stderr",
     "output_type": "stream",
     "text": [
      "C:\\Users\\loz\\AppData\\Local\\Temp\\ipykernel_13716\\297213094.py:86: UserWarning: Attempt to set non-positive xlim on a log-scaled axis will be ignored.\n",
      "  plt.xlim(0, np.max(freq_lit101))  # Limit x-axis to non-negative frequencies\n"
     ]
    },
    {
     "data": {
      "text/plain": "<Figure size 1000x600 with 1 Axes>",
      "image/png": "[encoded data removed]"
     },
     "metadata": {},
     "output_type": "display_data"
    },
    {
     "name": "stdout",
     "output_type": "stream",
     "text": [
      "Harmonic Time Differences for LIT101:\n",
      "Harmonic 2 (0.02) Hz: 50.00000 seconds\n",
      "Harmonic 3 (0.03) Hz: 33.33333 seconds\n",
      "Harmonic 4 (0.04) Hz: 25.00000 seconds\n",
      "Harmonic 5 (0.05) Hz: 20.00000 seconds\n",
      "\n",
      "Harmonic Time Differences for FIT101:\n",
      "Harmonic 2 (0.024) Hz: 41.66667 seconds\n",
      "Harmonic 3 (0.036000000000000004) Hz: 27.77778 seconds\n",
      "Harmonic 4 (0.048) Hz: 20.83333 seconds\n",
      "Harmonic 5 (0.06) Hz: 16.66667 seconds\n"
     ]
    }
   ],
   "source": [
    "import numpy as np\n",
    "import pandas as pd\n",
    "import matplotlib.pyplot as plt\n",
    "from scipy.signal import find_peaks\n",
    "\n",
    "def doFourierAnalysis(df, column_name, dt=10.0):\n",
    "    \"\"\"\n",
    "    Perform Fourier analysis on a specified column of a DataFrame and return the frequency bins and power spectrum.\n",
    "\n",
    "    This function computes the Fast Fourier Transform (FFT) of the data in the specified column,\n",
    "    calculates the power spectrum, and returns the power spectrum along with the frequency bins.\n",
    "\n",
    "    Parameters:\n",
    "    df (pandas.DataFrame): The input DataFrame containing the data to analyze.\n",
    "    column_name (str): The name of the column in the DataFrame to analyze.\n",
    "    dt (float): The time step between data points.\n",
    "\n",
    "    Returns:\n",
    "    tuple: A tuple containing the frequency bins and the power spectrum.\n",
    "    \"\"\"\n",
    "    # Extract the data from the DataFrame\n",
    "    data = df[column_name].values\n",
    "\n",
    "    # Number of data points\n",
    "    N = len(data)\n",
    "\n",
    "    # Compute the Fast Fourier Transform (FFT)\n",
    "    fft_data = np.fft.fft(data)\n",
    "\n",
    "    # Compute the Power Spectrum (magnitude of the FFT squared)\n",
    "    power_spectrum = np.abs(fft_data) ** 2\n",
    "\n",
    "    # Compute the frequency bins\n",
    "    freq = np.fft.fftfreq(N, dt)\n",
    "\n",
    "    return freq, power_spectrum\n",
    "\n",
    "def get_harmonic_time_differences(df, column_name, dt=10.0):\n",
    "    \"\"\"\n",
    "    Calculate the time differences between peak values of the signal for the harmonics.\n",
    "\n",
    "    Parameters:\n",
    "    df (pandas.DataFrame): The input DataFrame containing the data to analyze.\n",
    "    column_name (str): The name of the column in the DataFrame to analyze.\n",
    "    dt (float): The time step between data points.\n",
    "\n",
    "    Returns:\n",
    "    dict: A dictionary containing the harmonic frequencies and their corresponding time differences.\n",
    "    \"\"\"\n",
    "    # Perform Fourier analysis\n",
    "    freq, power_spectrum = doFourierAnalysis(df, column_name, dt)\n",
    "\n",
    "    # Find the peak frequency (fundamental frequency)\n",
    "    peak_indices, _ = find_peaks(power_spectrum)\n",
    "    peak_freq = freq[peak_indices[np.argmax(power_spectrum[peak_indices])]]\n",
    "    fundamental_period = 1 / peak_freq\n",
    "\n",
    "    # Identify harmonics\n",
    "    harmonics = [peak_freq * n for n in range(2, 6)]  # First four harmonics\n",
    "\n",
    "    # Calculate time differences\n",
    "    time_differences = {f\"Harmonic {n} ({harm}) Hz\": fundamental_period / n for n, harm in enumerate(harmonics, start=2)}\n",
    "\n",
    "    return time_differences\n",
    "\n",
    "# Sample DataFrame creation for testing\n",
    "data = {\n",
    "    'time': np.linspace(0, 1, 500),\n",
    "    'LIT101': 5 + np.sin(2 * np.pi * 50 * np.linspace(0, 1, 500)),\n",
    "    'FIT101': 3 + np.sin(2 * np.pi * 60 * np.linspace(0, 1, 500))\n",
    "}\n",
    "df_prepped = pd.DataFrame(data)\n",
    "\n",
    "# Perform Fourier analysis and plot power spectrum\n",
    "freq_lit101, power_spectrum_lit101 = doFourierAnalysis(df_prepped, 'LIT101')\n",
    "freq_fit101, power_spectrum_fit101 = doFourierAnalysis(df_prepped, 'FIT101')\n",
    "\n",
    "plt.figure(figsize=(10, 6))\n",
    "plt.plot(freq_lit101, power_spectrum_lit101, label='LIT101')\n",
    "plt.plot(freq_fit101, power_spectrum_fit101, label='FIT101', linestyle='--')\n",
    "plt.title('Power Spectrum')\n",
    "plt.xscale('log')\n",
    "plt.xlabel('Frequency')\n",
    "plt.yscale('log')\n",
    "plt.ylabel('Power')\n",
    "plt.xlim(0, np.max(freq_lit101))  # Limit x-axis to non-negative frequencies\n",
    "plt.legend()\n",
    "plt.show()\n",
    "\n",
    "# Get time differences for harmonics\n",
    "time_differences_lit101 = get_harmonic_time_differences(df_prepped, 'LIT101')\n",
    "time_differences_fit101 = get_harmonic_time_differences(df_prepped, 'FIT101')\n",
    "\n",
    "# Display the results\n",
    "print(\"Harmonic Time Differences for LIT101:\")\n",
    "for harmonic, time_diff in time_differences_lit101.items():\n",
    "    print(f\"{harmonic}: {time_diff:.5f} seconds\")\n",
    "\n",
    "print(\"\\nHarmonic Time Differences for FIT101:\")\n",
    "for harmonic, time_diff in time_differences_fit101.items():\n",
    "    print(f\"{harmonic}: {time_diff:.5f} seconds\")\n"
   ],
   "metadata": {
    "collapsed": false,
    "ExecuteTime": {
     "end_time": "2024-08-23T12:37:34.510786900Z",
     "start_time": "2024-08-23T12:37:34.471780400Z"
    }
   }
  },
  {
   "cell_type": "code",
   "execution_count": 9,
   "outputs": [
    {
     "name": "stdout",
     "output_type": "stream",
     "text": [
      "Phase Difference between LIT101 and FIT101: 0.06283 radians\n",
      "Time Difference between LIT101 and FIT101: 0.90909 seconds\n"
     ]
    }
   ],
   "source": [
    "def calculate_phase_and_time_difference(df, column1, column2, dt=10.0):\n",
    "    \"\"\"\n",
    "    Calculate the phase difference and time difference between the fundamental frequencies of two signals.\n",
    "\n",
    "    Parameters:\n",
    "    df (pandas.DataFrame): The input DataFrame containing the data to analyze.\n",
    "    column1 (str): The name of the first column in the DataFrame.\n",
    "    column2 (str): The name of the second column in the DataFrame.\n",
    "    dt (float): The time step between data points.\n",
    "\n",
    "    Returns:\n",
    "    tuple: A tuple containing the phase difference in radians and the time difference in seconds.\n",
    "    \"\"\"\n",
    "    # Perform Fourier analysis on both columns\n",
    "    data1 = df[column1].values\n",
    "    data2 = df[column2].values\n",
    "\n",
    "    fft_data1 = np.fft.fft(data1)\n",
    "    fft_data2 = np.fft.fft(data2)\n",
    "\n",
    "    freq1 = np.fft.fftfreq(len(data1), dt)\n",
    "    freq2 = np.fft.fftfreq(len(data2), dt)\n",
    "\n",
    "    # Identify fundamental frequencies\n",
    "    power_spectrum1 = np.abs(fft_data1) ** 2\n",
    "    power_spectrum2 = np.abs(fft_data2) ** 2\n",
    "\n",
    "    peak_indices1, _ = find_peaks(power_spectrum1)\n",
    "    peak_indices2, _ = find_peaks(power_spectrum2)\n",
    "\n",
    "    peak_freq1 = freq1[peak_indices1[np.argmax(power_spectrum1[peak_indices1])]]\n",
    "    peak_freq2 = freq2[peak_indices2[np.argmax(power_spectrum2[peak_indices2])]]\n",
    "\n",
    "    # Find the corresponding phase at the fundamental frequencies\n",
    "    phase1 = np.angle(fft_data1[peak_indices1[np.argmax(power_spectrum1[peak_indices1])]])\n",
    "    phase2 = np.angle(fft_data2[peak_indices2[np.argmax(power_spectrum2[peak_indices2])]])\n",
    "\n",
    "    # Calculate the phase difference\n",
    "    phase_difference = phase2 - phase1\n",
    "\n",
    "    # Calculate the time difference\n",
    "    avg_freq = (peak_freq1 + peak_freq2) / 2  # Average fundamental frequency\n",
    "    time_difference = phase_difference / (2 * np.pi * avg_freq)\n",
    "\n",
    "    return phase_difference, time_difference\n",
    "\n",
    "# Calculate phase and time difference between LIT101 and FIT101\n",
    "phase_difference, time_difference = calculate_phase_and_time_difference(df_prepped, 'LIT101', 'FIT101')\n",
    "\n",
    "# Display the phase difference in radians and the time difference in seconds\n",
    "print(f\"Phase Difference between LIT101 and FIT101: {phase_difference:.5f} radians\")\n",
    "print(f\"Time Difference between LIT101 and FIT101: {time_difference:.5f} seconds\")\n"
   ],
   "metadata": {
    "collapsed": false,
    "ExecuteTime": {
     "end_time": "2024-08-23T12:39:42.198545400Z",
     "start_time": "2024-08-23T12:39:42.177541400Z"
    }
   }
  },
  {
   "cell_type": "code",
   "execution_count": 12,
   "outputs": [
    {
     "data": {
      "text/plain": "(0.0628318530717702, 0.9090909090905378)"
     },
     "execution_count": 12,
     "metadata": {},
     "output_type": "execute_result"
    }
   ],
   "source": [
    "calculate_phase_and_time_difference(df_prepped, 'LIT101', 'FIT101', dt=10.0 )"
   ],
   "metadata": {
    "collapsed": false,
    "ExecuteTime": {
     "end_time": "2024-08-23T12:40:05.846623Z",
     "start_time": "2024-08-23T12:40:05.841120900Z"
    }
   }
  },
  {
   "cell_type": "code",
   "execution_count": 13,
   "outputs": [
    {
     "data": {
      "text/plain": "(-0.0628318530717702, -0.9090909090905378)"
     },
     "execution_count": 13,
     "metadata": {},
     "output_type": "execute_result"
    }
   ],
   "source": [
    "calculate_phase_and_time_difference(df_prepped, 'FIT101',  'LIT101', dt=10.0 )"
   ],
   "metadata": {
    "collapsed": false,
    "ExecuteTime": {
     "end_time": "2024-08-23T12:40:06.622444600Z",
     "start_time": "2024-08-23T12:40:06.616943800Z"
    }
   }
  },
  {
   "cell_type": "code",
   "execution_count": null,
   "outputs": [],
   "source": [],
   "metadata": {
    "collapsed": false
   }
  }
 ],
 "metadata": {
  "kernelspec": {
   "display_name": "Python 3",
   "language": "python",
   "name": "python3"
  },
  "language_info": {
   "codemirror_mode": {
    "name": "ipython",
    "version": 2
   },
   "file_extension": ".py",
   "mimetype": "text/x-python",
   "name": "python",
   "nbconvert_exporter": "python",
   "pygments_lexer": "ipython2",
   "version": "2.7.6"
  }
 },
 "nbformat": 4,
 "nbformat_minor": 0
}
