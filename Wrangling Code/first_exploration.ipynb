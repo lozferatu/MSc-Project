{
 "cells": [
  {
   "cell_type": "code",
   "execution_count": 2,
   "metadata": {
    "collapsed": true,
    "ExecuteTime": {
     "end_time": "2024-08-31T23:13:07.739186100Z",
     "start_time": "2024-08-31T23:13:07.401419400Z"
    }
   },
   "outputs": [],
   "source": [
    "import pandas as pd\n",
    "import numpy as np\n",
    "\n",
    "import matplotlib.pyplot as plt\n",
    "import scipy.stats as stats\n",
    "import statsmodels.api as sm\n",
    "\n",
    "# for type hinting\n",
    "from typing import List\n",
    "\n",
    "# for pearson corr coef and p values\n",
    "from scipy.stats import pearsonr\n",
    "\n",
    "# For plotting relationships\n",
    "import networkx as nx\n",
    "import matplotlib.pyplot as plt\n",
    "from matplotlib.patches import FancyArrowPatch, ArrowStyle\n",
    "from matplotlib.text import Annotation\n",
    "import seaborn as sns\n",
    "\n",
    "# for non linear coefficients\n",
    "from scipy.stats import spearmanr\n",
    "from scipy.spatial.distance import squareform, pdist\n",
    "from sklearn.feature_selection import mutual_info_regression"
   ]
  },
  {
   "cell_type": "code",
   "execution_count": 3,
   "outputs": [],
   "source": [
    "# for cuda core use but not installing......\n",
    "#import cupy as cp"
   ],
   "metadata": {
    "collapsed": false,
    "ExecuteTime": {
     "end_time": "2024-08-31T23:13:08.385184700Z",
     "start_time": "2024-08-31T23:13:08.357843700Z"
    }
   }
  },
  {
   "cell_type": "code",
   "execution_count": 4,
   "outputs": [],
   "source": [
    "# Load data from CSV\n",
    "#df = pd.read_excel('D:\\GitHub\\MSc-Project-March\\SWaT_DataSWaT_2015_12_22_10sec.xlsx', engine=\"openpyxl\")\n",
    "df = pd.read_excel('D:\\GitHub\\MSc-Project\\SWaT_DataSWaT_2015_12_22_10sec.xlsx', engine=\"openpyxl\")\n"
   ],
   "metadata": {
    "collapsed": false,
    "ExecuteTime": {
     "end_time": "2024-08-31T23:13:19.667021300Z",
     "start_time": "2024-08-31T23:13:08.763466100Z"
    }
   }
  },
  {
   "cell_type": "code",
   "execution_count": 5,
   "outputs": [
    {
     "data": {
      "text/plain": "            Timestamp  FIT101     LIT101  MV101  P101    AIT201    AIT202  \\\n0 2015-12-22 16:30:00     0.0  123.97593    1.0   1.0  251.9226  8.313061   \n1 2015-12-22 16:30:10     0.0  124.40769    1.0   1.0  251.9226  8.308960   \n2 2015-12-22 16:30:20     0.0  123.90527    1.0   1.0  251.9226  8.310979   \n3 2015-12-22 16:30:30     0.0  123.90134    1.0   1.0  251.9226  8.312612   \n4 2015-12-22 16:30:40     0.0  124.85909    1.0   1.0  251.9226  8.308191   \n\n      AIT203  FIT201  MV201  ...    FIT501    FIT502    FIT503  FIT504  P501  \\\n0  312.79160     0.0    1.0  ...  0.001538  0.001409  0.001664     0.0   1.0   \n1  312.90185     0.0    1.0  ...  0.001538  0.001409  0.001664     0.0   1.0   \n2  312.80442     0.0    1.0  ...  0.001538  0.001409  0.001664     0.0   1.0   \n3  312.91980     0.0    1.0  ...  0.001538  0.001409  0.001664     0.0   1.0   \n4  313.00950     0.0    1.0  ...  0.001538  0.001409  0.001664     0.0   1.0   \n\n     PIT501  PIT502  PIT503    FIT601  P602  \n0  9.100231     0.0  3.3485  0.000256   1.0  \n1  9.100231     0.0  3.3485  0.000256   1.0  \n2  9.100231     0.0  3.3485  0.000256   1.0  \n3  9.037747     0.0  3.3485  0.000256   1.0  \n4  9.068188     0.0  3.3485  0.000256   1.0  \n\n[5 rows x 41 columns]",
      "text/html": "<div>\n<style scoped>\n    .dataframe tbody tr th:only-of-type {\n        vertical-align: middle;\n    }\n\n    .dataframe tbody tr th {\n        vertical-align: top;\n    }\n\n    .dataframe thead th {\n        text-align: right;\n    }\n</style>\n<table border=\"1\" class=\"dataframe\">\n  <thead>\n    <tr style=\"text-align: right;\">\n      <th></th>\n      <th>Timestamp</th>\n      <th>FIT101</th>\n      <th>LIT101</th>\n      <th>MV101</th>\n      <th>P101</th>\n      <th>AIT201</th>\n      <th>AIT202</th>\n      <th>AIT203</th>\n      <th>FIT201</th>\n      <th>MV201</th>\n      <th>...</th>\n      <th>FIT501</th>\n      <th>FIT502</th>\n      <th>FIT503</th>\n      <th>FIT504</th>\n      <th>P501</th>\n      <th>PIT501</th>\n      <th>PIT502</th>\n      <th>PIT503</th>\n      <th>FIT601</th>\n      <th>P602</th>\n    </tr>\n  </thead>\n  <tbody>\n    <tr>\n      <th>0</th>\n      <td>2015-12-22 16:30:00</td>\n      <td>0.0</td>\n      <td>123.97593</td>\n      <td>1.0</td>\n      <td>1.0</td>\n      <td>251.9226</td>\n      <td>8.313061</td>\n      <td>312.79160</td>\n      <td>0.0</td>\n      <td>1.0</td>\n      <td>...</td>\n      <td>0.001538</td>\n      <td>0.001409</td>\n      <td>0.001664</td>\n      <td>0.0</td>\n      <td>1.0</td>\n      <td>9.100231</td>\n      <td>0.0</td>\n      <td>3.3485</td>\n      <td>0.000256</td>\n      <td>1.0</td>\n    </tr>\n    <tr>\n      <th>1</th>\n      <td>2015-12-22 16:30:10</td>\n      <td>0.0</td>\n      <td>124.40769</td>\n      <td>1.0</td>\n      <td>1.0</td>\n      <td>251.9226</td>\n      <td>8.308960</td>\n      <td>312.90185</td>\n      <td>0.0</td>\n      <td>1.0</td>\n      <td>...</td>\n      <td>0.001538</td>\n      <td>0.001409</td>\n      <td>0.001664</td>\n      <td>0.0</td>\n      <td>1.0</td>\n      <td>9.100231</td>\n      <td>0.0</td>\n      <td>3.3485</td>\n      <td>0.000256</td>\n      <td>1.0</td>\n    </tr>\n    <tr>\n      <th>2</th>\n      <td>2015-12-22 16:30:20</td>\n      <td>0.0</td>\n      <td>123.90527</td>\n      <td>1.0</td>\n      <td>1.0</td>\n      <td>251.9226</td>\n      <td>8.310979</td>\n      <td>312.80442</td>\n      <td>0.0</td>\n      <td>1.0</td>\n      <td>...</td>\n      <td>0.001538</td>\n      <td>0.001409</td>\n      <td>0.001664</td>\n      <td>0.0</td>\n      <td>1.0</td>\n      <td>9.100231</td>\n      <td>0.0</td>\n      <td>3.3485</td>\n      <td>0.000256</td>\n      <td>1.0</td>\n    </tr>\n    <tr>\n      <th>3</th>\n      <td>2015-12-22 16:30:30</td>\n      <td>0.0</td>\n      <td>123.90134</td>\n      <td>1.0</td>\n      <td>1.0</td>\n      <td>251.9226</td>\n      <td>8.312612</td>\n      <td>312.91980</td>\n      <td>0.0</td>\n      <td>1.0</td>\n      <td>...</td>\n      <td>0.001538</td>\n      <td>0.001409</td>\n      <td>0.001664</td>\n      <td>0.0</td>\n      <td>1.0</td>\n      <td>9.037747</td>\n      <td>0.0</td>\n      <td>3.3485</td>\n      <td>0.000256</td>\n      <td>1.0</td>\n    </tr>\n    <tr>\n      <th>4</th>\n      <td>2015-12-22 16:30:40</td>\n      <td>0.0</td>\n      <td>124.85909</td>\n      <td>1.0</td>\n      <td>1.0</td>\n      <td>251.9226</td>\n      <td>8.308191</td>\n      <td>313.00950</td>\n      <td>0.0</td>\n      <td>1.0</td>\n      <td>...</td>\n      <td>0.001538</td>\n      <td>0.001409</td>\n      <td>0.001664</td>\n      <td>0.0</td>\n      <td>1.0</td>\n      <td>9.068188</td>\n      <td>0.0</td>\n      <td>3.3485</td>\n      <td>0.000256</td>\n      <td>1.0</td>\n    </tr>\n  </tbody>\n</table>\n<p>5 rows × 41 columns</p>\n</div>"
     },
     "execution_count": 5,
     "metadata": {},
     "output_type": "execute_result"
    }
   ],
   "source": [
    "df.head()"
   ],
   "metadata": {
    "collapsed": false,
    "ExecuteTime": {
     "end_time": "2024-08-31T23:13:28.965219Z",
     "start_time": "2024-08-31T23:13:28.902597900Z"
    }
   }
  },
  {
   "cell_type": "markdown",
   "source": [
    "See range of values in each column so allow filtering of unchanging values before correlation matrix."
   ],
   "metadata": {
    "collapsed": false
   }
  },
  {
   "cell_type": "code",
   "execution_count": 6,
   "outputs": [],
   "source": [
    "# Get columns\n",
    "#column_names = df.columns\n",
    "#rint(column_names)"
   ],
   "metadata": {
    "collapsed": false,
    "ExecuteTime": {
     "end_time": "2024-08-31T23:13:30.870092100Z",
     "start_time": "2024-08-31T23:13:30.838972300Z"
    }
   }
  },
  {
   "cell_type": "markdown",
   "source": [
    "def drop_static_columns(df: pd.DataFrame) -> (pd.DataFrame, List[str]):\n",
    "    \"\"\"\n",
    "    Find columns in the DataFrame where all values are the same (static columns).\n",
    "\n",
    "    Parameters:\n",
    "        df (DataFrame): All values from SWaT .\n",
    "\n",
    "    Returns:\n",
    "        df (DataFrame): Columns from SWaT which have more than 1 value.\n",
    "\n",
    "    Example:\n",
    "        df = pd.DataFrame({'LIT101': [1.111, 2.222, 3.333], 'P101': [1, 1, 0], 'P102': [1, 1, 1]})\n",
    "        static_cols = get_static_columns(df, ['A', 'B', 'C'])\n",
    "        # static_cols will be ['P102'] since all values are 1.\n",
    "    \"\"\"\n",
    "    column_names = df.columns\n",
    "    static_columns = []\n",
    "    for column in column_names:\n",
    "        if df[column].min() == df[column].max():\n",
    "            static_columns.append(column)\n",
    "\n",
    "    df_cleaned = df.drop(columns= static_columns)\n",
    "    return df_cleaned, static_columns\n"
   ],
   "metadata": {
    "collapsed": false
   }
  },
  {
   "cell_type": "markdown",
   "source": [
    "df_cleaned, dropped_columns = drop_static_columns(df)\n",
    "print(dropped_columns)\n",
    "\n",
    "if 'date' in df_cleaned.columns:\n",
    "    # drop time and date\n",
    "    df_cleaned = df_cleaned.drop(columns= ['date', 'time'])\n",
    "    print(df_cleaned.columns)"
   ],
   "metadata": {
    "collapsed": false
   }
  },
  {
   "cell_type": "code",
   "execution_count": 7,
   "outputs": [
    {
     "ename": "SyntaxError",
     "evalue": "invalid syntax (4268633678.py, line 1)",
     "output_type": "error",
     "traceback": [
      "\u001B[1;36m  File \u001B[1;32m\"C:\\Users\\laure\\AppData\\Local\\Temp\\ipykernel_12820\\4268633678.py\"\u001B[1;36m, line \u001B[1;32m1\u001B[0m\n\u001B[1;33m    Styler might be worth it for formatting tables\u001B[0m\n\u001B[1;37m           ^\u001B[0m\n\u001B[1;31mSyntaxError\u001B[0m\u001B[1;31m:\u001B[0m invalid syntax\n"
     ]
    }
   ],
   "source": [
    "Styler might be worth it for formatting tables"
   ],
   "metadata": {
    "collapsed": false,
    "ExecuteTime": {
     "end_time": "2024-08-31T23:13:33.071156600Z",
     "start_time": "2024-08-31T23:13:33.055497800Z"
    }
   }
  },
  {
   "cell_type": "code",
   "execution_count": 8,
   "outputs": [],
   "source": [
    "#help(Styler)"
   ],
   "metadata": {
    "collapsed": false,
    "ExecuteTime": {
     "end_time": "2024-08-31T23:13:33.868391300Z",
     "start_time": "2024-08-31T23:13:33.837071400Z"
    }
   }
  },
  {
   "cell_type": "code",
   "execution_count": 8,
   "outputs": [],
   "source": [],
   "metadata": {
    "collapsed": false,
    "ExecuteTime": {
     "end_time": "2024-08-31T23:13:34.267167200Z",
     "start_time": "2024-08-31T23:13:34.235934800Z"
    }
   }
  },
  {
   "cell_type": "code",
   "execution_count": 9,
   "outputs": [],
   "source": [
    "# Display correlation matrix and p-values\n",
    "#print(\"Correlation Matrix:\")\n",
    "#display(correlation_matrix_styled)\n",
    "#print(\"\\nP-values:\")\n",
    "#display(p_values_styled)"
   ],
   "metadata": {
    "collapsed": false,
    "ExecuteTime": {
     "end_time": "2024-08-31T23:13:34.600166300Z",
     "start_time": "2024-08-31T23:13:34.584553300Z"
    }
   }
  },
  {
   "cell_type": "markdown",
   "source": [
    "Use a class to hold knowledge about each component which can be updated throughout pipeline. Can include functions which return top antecendent/ dependent modules etc."
   ],
   "metadata": {
    "collapsed": false
   }
  },
  {
   "cell_type": "code",
   "execution_count": 10,
   "outputs": [],
   "source": [
    "# class to act as knowledge object for each component in the system\n",
    "class Component:\n",
    "    def __init__(self, name, list_position, correlation_dict= None, p_value_dict= None, non_lin_correlation_dict= None, non_lin_p_value_dict = None ):\n",
    "        self.name = name\n",
    "        # position in results list\n",
    "        self.list_position = list_position\n",
    "\n",
    "        # empty dict for results from EDA for components relationship to all other components\n",
    "        self.correlation_dict = correlation_dict if correlation_dict is not None else {}\n",
    "        self.p_value_dict = p_value_dict if p_value_dict is not None else {}\n",
    "        self.non_lin_correlation_dict = non_lin_correlation_dict if non_lin_correlation_dict is not None else {}\n",
    "        self.non_lin_p_value_dict = non_lin_p_value_dict if p_value_dict is not None else {}\n",
    "\n",
    "    def get_correlated_components(self, source_data= 'linear', lower_threshold= 0, upper_threshold= 1):\n",
    "        \"\"\"\n",
    "        Returns correlations, takes optional min threshold argument (default is 1 for all values).\n",
    "\n",
    "        Parameters:\n",
    "        - threshold: The minimum correlation value.\n",
    "\n",
    "        Returns:\n",
    "        - A dictionary containing component names as keys and correlation values as values.\n",
    "        \"\"\"\n",
    "        correlated_components = {}\n",
    "        if source_data == 'linear':\n",
    "            for component, correlation in self.correlation_dict.items():\n",
    "                correlation = float(correlation)\n",
    "                if component != self.name and  lower_threshold <= abs(correlation) <= upper_threshold:\n",
    "                    correlated_components[component] = correlation\n",
    "            return correlated_components\n",
    "\n",
    "        if source_data == 'non_linear':\n",
    "            correlated_components = {}\n",
    "            for component, correlation in self.non_lin_correlation_dict.items():\n",
    "                correlation = float(correlation)\n",
    "                if component != self.name and  lower_threshold <= abs(correlation) <= upper_threshold:\n",
    "                    correlated_components[component] = correlation\n",
    "            return correlated_components\n",
    "\n",
    "    def get_correlated_components_p_value(self, source_data= 'linear', lower_threshold= 0, upper_threshold= 0.05):\n",
    "        \"\"\"\n",
    "        Returns correlated components by p-value, takes optional max threshold argument (default is 1 for all values).\n",
    "\n",
    "        Parameters:\n",
    "        - threshold: The minimum correlation value.\n",
    "\n",
    "        Returns:\n",
    "        - A dictionary containing component names as keys and p values as values.\n",
    "        \"\"\"\n",
    "        correlated_components_p_value = {}\n",
    "\n",
    "        if source_data == 'linear':\n",
    "            for component, p_value in self.p_value_dict.items():\n",
    "                p_value = float(p_value)\n",
    "                if component != self.name and  lower_threshold <= p_value <= upper_threshold:\n",
    "                    correlated_components_p_value[component] = p_value\n",
    "            return correlated_components_p_value\n",
    "\n",
    "        if source_data == 'non_linear':\n",
    "            for component, p_value in self.non_lin_p_value_dict.items():\n",
    "                p_value = float(p_value)\n",
    "                if component != self.name and  lower_threshold <= p_value <= upper_threshold:\n",
    "                    correlated_components_p_value[component] = p_value\n",
    "            return correlated_components_p_value\n",
    "\n",
    "\n",
    "    def plot_network(self, source_data= 'correlation_matrix',lower_threshold= 0.5, upper_threshold= 1, layout= nx.spring_layout ):\n",
    "        \"\"\"\n",
    "        Plot a network of components linked by correlation strength above a certain threshold.\n",
    "        \"\"\"\n",
    "        # Create a graph\n",
    "        G = nx.Graph()\n",
    "\n",
    "        if source_data == 'correlation_matrix':\n",
    "            # Add nodes (components) and edges ( correlation)\n",
    "            for component, correlation in self.get_correlated_components('linear', lower_threshold,upper_threshold).items():\n",
    "                G.add_node(component, correlation_strength=correlation)\n",
    "                G.add_edge(self.name, component, weight= correlation)\n",
    "            # Set title\n",
    "            plt.title(f\"Network of Components Linked by Correlation Strength (upper_threshold: {upper_threshold}, lower_threshold: {lower_threshold})\")\n",
    "\n",
    "        elif source_data == 'correlation_p_value':\n",
    "            # Add nodes (components) and edges ( correlation)\n",
    "            for component, p_value in self.get_correlated_components_p_value('linear', lower_threshold, upper_threshold).items():\n",
    "                G.add_node(component, correlation_strength= p_value)\n",
    "                G.add_edge(self.name, component, weight= p_value)\n",
    "\n",
    "            # Set title\n",
    "            plt.title(f\"Network of Components Linked by P Value (upper_threshold: {upper_threshold}, lower_threshold: {lower_threshold})\")\n",
    "\n",
    "        if source_data == 'non_lin_correlation':\n",
    "            # Add nodes (components) and edges ( correlation)\n",
    "            for component, correlation in self.get_correlated_components('non_linear', lower_threshold,upper_threshold).items():\n",
    "                G.add_node(component, correlation_strength=correlation)\n",
    "                G.add_edge(self.name, component, weight= correlation)\n",
    "            # Set title\n",
    "            plt.title(f\"Network of Components Linked by Non Linear Correlation Strength (upper_threshold: {upper_threshold}, lower_threshold: {lower_threshold})\")\n",
    "\n",
    "        elif source_data == 'non_lin_correlation_p_value':\n",
    "            # Add nodes (components) and edges ( correlation)\n",
    "            for component, p_value in self.get_correlated_components_p_value('non_linear', lower_threshold,upper_threshold).items():\n",
    "                G.add_node(component, correlation_strength= p_value)\n",
    "                G.add_edge(self.name, component, weight= p_value)\n",
    "            # Set title\n",
    "            plt.title(f\"Network of Components Linked by Non Linear P Value (upper_threshold: {upper_threshold}, lower_threshold: {lower_threshold})\")\n",
    "\n",
    "\n",
    "\n",
    "        # Draw the graph\n",
    "        pos = layout(G)  # Use layout argument if passed\n",
    "        nx.draw(G, pos, with_labels=True, node_size=500, node_color='skyblue', font_size=10, font_weight='bold')\n",
    "        edge_labels = nx.get_edge_attributes(G, 'weight')\n",
    "        nx.draw_networkx_edge_labels(G, pos, edge_labels=edge_labels)\n",
    "\n",
    "        # Show the plot\n",
    "        plt.show()\n",
    "\n",
    "\n",
    "    def plot_comparison_network(self, lower_threshold=0.5, upper_threshold=1, layout=nx.spring_layout):\n",
    "        \"\"\"\n",
    "        Plot a network of components linked by correlation strength above a certain threshold,\n",
    "        showing an edge if either linear or non-linear correlation is above the minimum threshold,\n",
    "        and differentiating between correlations with curved edges. Labels are offset to reduce overlap.\n",
    "        \"\"\"\n",
    "        G = nx.MultiDiGraph()\n",
    "\n",
    "        # Add nodes and edges for linear correlation\n",
    "        for component, correlation in self.correlation_dict.items():\n",
    "            if lower_threshold <= abs(correlation) <= upper_threshold or abs(self.non_lin_correlation_dict.get(component, 0)) > lower_threshold:\n",
    "                G.add_node(component, correlation_strength=correlation)\n",
    "                G.add_edge(self.name, component, weight=correlation, correlation_type='Linear')\n",
    "\n",
    "        # Add nodes and edges for non-linear correlation\n",
    "        for component, correlation in self.non_lin_correlation_dict.items():\n",
    "            if lower_threshold <= abs(correlation) <= upper_threshold or abs(self.correlation_dict.get(component, 0)) > lower_threshold:\n",
    "                G.add_node(component, correlation_strength=correlation)\n",
    "                G.add_edge(self.name, component, weight=correlation, correlation_type='Non-linear')\n",
    "\n",
    "        plt.figure(figsize=(10, 10))\n",
    "        pos = layout(G)\n",
    "\n",
    "        # Draw nodes and labels\n",
    "        nx.draw_networkx_nodes(G, pos, node_size=700, node_color=\"skyblue\", alpha=0.6)\n",
    "        nx.draw_networkx_labels(G, pos, font_weight=\"bold\")\n",
    "\n",
    "        # Function to draw edges with FancyArrowPatch and labels with offset\n",
    "        def draw_edges_with_arrows_and_labels():\n",
    "            for (u, v, attribs) in G.edges(data=True):\n",
    "                edge_type = attribs['correlation_type']\n",
    "                weight = attribs['weight']\n",
    "                color = 'red' if edge_type == 'Non-linear' else 'blue'\n",
    "                style = 'dashed' if edge_type == 'Non-linear' else 'solid'\n",
    "                rad = 0.1 if edge_type == 'Non-linear' else -0.1\n",
    "\n",
    "                arrow = FancyArrowPatch(pos[u], pos[v], arrowstyle='-|>', color=color,\n",
    "                                        linestyle=style, connectionstyle=f'arc3,rad={rad}', linewidth=2, alpha=0.5)\n",
    "                plt.gca().add_patch(arrow)\n",
    "\n",
    "                # Calculate label position with offset\n",
    "                label_x = (pos[u][0] + pos[v][0]) / 2\n",
    "                label_y = (pos[u][1] + pos[v][1]) / 2 + (0.1 if edge_type == 'Non-linear' else -0.1)\n",
    "\n",
    "                plt.text(label_x, label_y, f'{weight:.2f}', color='black', fontsize=10,\n",
    "                         ha='center', va='center', bbox=dict(facecolor='white', alpha=0.5, edgecolor='none'))\n",
    "\n",
    "        draw_edges_with_arrows_and_labels()\n",
    "\n",
    "        plt.axis('off')\n",
    "        plt.title(\"Network of Components Linked by Correlation Strength\")\n",
    "        plt.show()\n",
    "\n",
    "\n",
    "\n",
    "\n"
   ],
   "metadata": {
    "collapsed": false,
    "ExecuteTime": {
     "end_time": "2024-08-31T23:13:35.811383Z",
     "start_time": "2024-08-31T23:13:35.795763600Z"
    }
   }
  },
  {
   "cell_type": "code",
   "execution_count": 11,
   "outputs": [],
   "source": [
    "# iterate through every column and create object of component class\n",
    "# dictionary for all component objects\n",
    "components = {}\n",
    "for n, component in enumerate(df.columns):\n",
    "    # print(n, component)\n",
    "    components[component] = Component(name= component, list_position= n)\n"
   ],
   "metadata": {
    "collapsed": false,
    "ExecuteTime": {
     "end_time": "2024-08-31T23:13:36.718077200Z",
     "start_time": "2024-08-31T23:13:36.702443Z"
    }
   }
  },
  {
   "cell_type": "markdown",
   "source": [
    "# Make Matrices then update object for each component"
   ],
   "metadata": {
    "collapsed": false
   }
  },
  {
   "cell_type": "markdown",
   "source": [
    "### Calculate the linear (Pearson) correlation matrix"
   ],
   "metadata": {
    "collapsed": false
   }
  },
  {
   "cell_type": "code",
   "execution_count": 12,
   "outputs": [],
   "source": [
    "# set linear correaltion attribute\n",
    "\n",
    "if df.index.name != 'Timestamp':\n",
    "    df = df.set_index('Timestamp')\n",
    "\n",
    "\n",
    "# Calculate the linear correlation matrix\n",
    "correlation_matrix = df.corr().round(decimals= 4)\n",
    "\n",
    "# DataFrame to store p-values with rows and cols being column names\n",
    "p_values = pd.DataFrame(index=df.columns, columns=df.columns)\n",
    "\n",
    "# Calculate p-values\n",
    "# for every column\n",
    "for col1 in df.columns:\n",
    "    # calculate values with everyother column\n",
    "    for col2 in df.columns:\n",
    "        correlation_coefficient, p_value = pearsonr(df[col1], df[col2])\n",
    "        # Save values to corresponding location in p_values df, rounded to 4.d.p\n",
    "        p_values.loc[col1, col2] = round(p_value, 4)\n",
    "\n",
    "# Apply a color gradient to the correlation matrix and display it\n",
    "correlation_matrix_styled  = correlation_matrix.style.background_gradient(cmap='coolwarm').format(precision= 2)\n",
    "p_values_styled  = p_values.style.background_gradient(cmap='coolwarm').format(precision= 2)\n",
    "\n"
   ],
   "metadata": {
    "collapsed": false,
    "ExecuteTime": {
     "end_time": "2024-08-31T23:13:39.966948500Z",
     "start_time": "2024-08-31T23:13:39.190811800Z"
    }
   }
  },
  {
   "cell_type": "code",
   "execution_count": 13,
   "outputs": [],
   "source": [
    "#non_lin_correlation_dict"
   ],
   "metadata": {
    "collapsed": false,
    "ExecuteTime": {
     "end_time": "2024-08-31T23:13:42.098280400Z",
     "start_time": "2024-08-31T23:13:42.051335Z"
    }
   }
  },
  {
   "cell_type": "markdown",
   "source": [],
   "metadata": {
    "collapsed": false
   }
  },
  {
   "cell_type": "code",
   "execution_count": 14,
   "outputs": [],
   "source": [
    "#index_values = correlation_matrix.index.values\n",
    "#print(index_values)"
   ],
   "metadata": {
    "collapsed": false,
    "ExecuteTime": {
     "end_time": "2024-08-31T23:13:42.671694400Z",
     "start_time": "2024-08-31T23:13:42.656149300Z"
    }
   }
  },
  {
   "cell_type": "code",
   "execution_count": 15,
   "outputs": [],
   "source": [
    "#specific_component = components['LIT101']\n",
    "#specific_component.correlation_list\n",
    "#specific_component.correlation_dict"
   ],
   "metadata": {
    "collapsed": false,
    "ExecuteTime": {
     "end_time": "2024-08-31T23:13:42.962443Z",
     "start_time": "2024-08-31T23:13:42.946892100Z"
    }
   }
  },
  {
   "cell_type": "markdown",
   "source": [
    "### Calculate the correlation matrix using Spearman's rank correlation"
   ],
   "metadata": {
    "collapsed": false
   }
  },
  {
   "cell_type": "code",
   "execution_count": 16,
   "outputs": [],
   "source": [
    "# Calculate the correlation matrix using Spearman's rank correlation\n",
    "non_lin_correlation_matrix = df.corr(method='spearman').round(decimals=4)\n",
    "\n",
    "# DataFrame to store p-values with rows and cols being column names\n",
    "non_lin_p_values = pd.DataFrame(index=df.columns, columns=df.columns)\n",
    "\n",
    "# Calculate p-values\n",
    "# for every column\n",
    "for col1 in df.columns:\n",
    "    # calculate values with every other column\n",
    "    for col2 in df.columns:\n",
    "        correlation_coefficient, p_value = spearmanr(df[col1], df[col2])\n",
    "        # Save values to corresponding location in p_values df, rounded to 4.d.p\n",
    "        non_lin_p_values.loc[col1, col2] = round(p_value, 4)\n",
    "\n",
    "# Apply a color gradient to the correlation matrix and display it\n",
    "non_lin_correlation_matrix_styled = non_lin_correlation_matrix.style.background_gradient(cmap='coolwarm')\n",
    "non_lin_p_values_styled = non_lin_p_values.style.background_gradient(cmap='coolwarm').format(precision=2)\n"
   ],
   "metadata": {
    "collapsed": false,
    "ExecuteTime": {
     "end_time": "2024-08-31T23:13:53.390259200Z",
     "start_time": "2024-08-31T23:13:44.169187Z"
    }
   }
  },
  {
   "cell_type": "code",
   "execution_count": 18,
   "outputs": [],
   "source": [
    "#non_lin_correlation_matrix"
   ],
   "metadata": {
    "collapsed": false,
    "ExecuteTime": {
     "end_time": "2024-08-31T23:14:04.232137200Z",
     "start_time": "2024-08-31T23:14:04.200898600Z"
    }
   }
  },
  {
   "cell_type": "code",
   "execution_count": 20,
   "outputs": [],
   "source": [
    "\n",
    "#non_lin_correlation_matrix.to_csv(r'D:\\GitHub\\MSc-Project-March\\non_lin_cor_matrix.csv', index=True)"
   ],
   "metadata": {
    "collapsed": false,
    "ExecuteTime": {
     "end_time": "2024-08-31T23:09:46.419654400Z",
     "start_time": "2024-08-31T23:09:46.388321Z"
    }
   }
  },
  {
   "cell_type": "code",
   "execution_count": 21,
   "outputs": [],
   "source": [
    "#specific_component.get_correlated_components_p_value()"
   ],
   "metadata": {
    "collapsed": false,
    "ExecuteTime": {
     "end_time": "2024-08-31T23:09:46.878083200Z",
     "start_time": "2024-08-31T23:09:46.846826500Z"
    }
   }
  },
  {
   "cell_type": "code",
   "execution_count": 22,
   "outputs": [],
   "source": [
    "#df.head()"
   ],
   "metadata": {
    "collapsed": false,
    "ExecuteTime": {
     "end_time": "2024-08-31T23:09:48.518207600Z",
     "start_time": "2024-08-31T23:09:48.486881500Z"
    }
   }
  },
  {
   "cell_type": "code",
   "execution_count": 22,
   "outputs": [],
   "source": [],
   "metadata": {
    "collapsed": false,
    "ExecuteTime": {
     "end_time": "2024-08-31T23:09:48.906632200Z",
     "start_time": "2024-08-31T23:09:48.875385200Z"
    }
   }
  },
  {
   "cell_type": "markdown",
   "source": [
    "## Mutual Information is slow........."
   ],
   "metadata": {
    "collapsed": false
   }
  },
  {
   "cell_type": "markdown",
   "source": [
    "# Calculate mutual information between features\n",
    "mutual_info_matrix = pd.DataFrame(index=df_cleaned.columns, columns=df_cleaned.columns)\n",
    "\n",
    "# Calculate mutual information\n",
    "for col1 in df_cleaned.columns:\n",
    "    for col2 in df_cleaned.columns:\n",
    "        mutual_info = mutual_info_regression(df_cleaned[[col1]], df_cleaned[col2])[0]\n",
    "        mutual_info_matrix.loc[col1, col2] = mutual_info\n",
    "\n",
    "# Display the mutual information matrix\n",
    "print(mutual_info_matrix)\n"
   ],
   "metadata": {
    "collapsed": false
   }
  },
  {
   "cell_type": "code",
   "execution_count": 23,
   "outputs": [],
   "source": [
    "# Display the mutual information matrix\n",
    "# print(mutual_info_matrix)"
   ],
   "metadata": {
    "collapsed": false,
    "ExecuteTime": {
     "end_time": "2024-08-31T23:09:51.404410700Z",
     "start_time": "2024-08-31T23:09:51.388775700Z"
    }
   }
  },
  {
   "cell_type": "markdown",
   "source": [
    "## Linear and Non Linear Corr Matrices"
   ],
   "metadata": {
    "collapsed": false
   }
  },
  {
   "cell_type": "markdown",
   "source": [
    "Get"
   ],
   "metadata": {
    "collapsed": false
   }
  },
  {
   "cell_type": "code",
   "execution_count": 19,
   "outputs": [
    {
     "ename": "KeyError",
     "evalue": "'Timestamp'",
     "output_type": "error",
     "traceback": [
      "\u001B[1;31m---------------------------------------------------------------------------\u001B[0m",
      "\u001B[1;31mKeyError\u001B[0m                                  Traceback (most recent call last)",
      "\u001B[1;32m~\\anaconda3\\lib\\site-packages\\pandas\\core\\indexes\\base.py\u001B[0m in \u001B[0;36mget_loc\u001B[1;34m(self, key, method, tolerance)\u001B[0m\n\u001B[0;32m   3628\u001B[0m             \u001B[1;32mtry\u001B[0m\u001B[1;33m:\u001B[0m\u001B[1;33m\u001B[0m\u001B[1;33m\u001B[0m\u001B[0m\n\u001B[1;32m-> 3629\u001B[1;33m                 \u001B[1;32mreturn\u001B[0m \u001B[0mself\u001B[0m\u001B[1;33m.\u001B[0m\u001B[0m_engine\u001B[0m\u001B[1;33m.\u001B[0m\u001B[0mget_loc\u001B[0m\u001B[1;33m(\u001B[0m\u001B[0mcasted_key\u001B[0m\u001B[1;33m)\u001B[0m\u001B[1;33m\u001B[0m\u001B[1;33m\u001B[0m\u001B[0m\n\u001B[0m\u001B[0;32m   3630\u001B[0m             \u001B[1;32mexcept\u001B[0m \u001B[0mKeyError\u001B[0m \u001B[1;32mas\u001B[0m \u001B[0merr\u001B[0m\u001B[1;33m:\u001B[0m\u001B[1;33m\u001B[0m\u001B[1;33m\u001B[0m\u001B[0m\n",
      "\u001B[1;32m~\\anaconda3\\lib\\site-packages\\pandas\\_libs\\index.pyx\u001B[0m in \u001B[0;36mpandas._libs.index.IndexEngine.get_loc\u001B[1;34m()\u001B[0m\n",
      "\u001B[1;32m~\\anaconda3\\lib\\site-packages\\pandas\\_libs\\index.pyx\u001B[0m in \u001B[0;36mpandas._libs.index.IndexEngine.get_loc\u001B[1;34m()\u001B[0m\n",
      "\u001B[1;32mpandas\\_libs\\hashtable_class_helper.pxi\u001B[0m in \u001B[0;36mpandas._libs.hashtable.PyObjectHashTable.get_item\u001B[1;34m()\u001B[0m\n",
      "\u001B[1;32mpandas\\_libs\\hashtable_class_helper.pxi\u001B[0m in \u001B[0;36mpandas._libs.hashtable.PyObjectHashTable.get_item\u001B[1;34m()\u001B[0m\n",
      "\u001B[1;31mKeyError\u001B[0m: 'Timestamp'",
      "\nThe above exception was the direct cause of the following exception:\n",
      "\u001B[1;31mKeyError\u001B[0m                                  Traceback (most recent call last)",
      "\u001B[1;32m~\\AppData\\Local\\Temp\\ipykernel_12820\\2249480068.py\u001B[0m in \u001B[0;36m<module>\u001B[1;34m\u001B[0m\n\u001B[0;32m      2\u001B[0m \u001B[1;32mfor\u001B[0m \u001B[0mcomponent_name\u001B[0m\u001B[1;33m,\u001B[0m \u001B[0mcomponent_obj\u001B[0m \u001B[1;32min\u001B[0m \u001B[0mcomponents\u001B[0m\u001B[1;33m.\u001B[0m\u001B[0mitems\u001B[0m\u001B[1;33m(\u001B[0m\u001B[1;33m)\u001B[0m\u001B[1;33m:\u001B[0m\u001B[1;33m\u001B[0m\u001B[1;33m\u001B[0m\u001B[0m\n\u001B[0;32m      3\u001B[0m     \u001B[1;31m# Convert correlation coefficient row to dictionary with row index and value\u001B[0m\u001B[1;33m\u001B[0m\u001B[1;33m\u001B[0m\u001B[0m\n\u001B[1;32m----> 4\u001B[1;33m     \u001B[0mcorrelation_dict\u001B[0m \u001B[1;33m=\u001B[0m \u001B[1;33m{\u001B[0m\u001B[0mcol\u001B[0m\u001B[1;33m:\u001B[0m \u001B[0mvalue\u001B[0m \u001B[1;32mfor\u001B[0m \u001B[0mcol\u001B[0m\u001B[1;33m,\u001B[0m \u001B[0mvalue\u001B[0m \u001B[1;32min\u001B[0m \u001B[0mzip\u001B[0m\u001B[1;33m(\u001B[0m\u001B[0mcorrelation_matrix\u001B[0m\u001B[1;33m.\u001B[0m\u001B[0mcolumns\u001B[0m\u001B[1;33m,\u001B[0m \u001B[0mcorrelation_matrix\u001B[0m\u001B[1;33m.\u001B[0m\u001B[0mloc\u001B[0m\u001B[1;33m[\u001B[0m\u001B[0mcomponent_name\u001B[0m\u001B[1;33m]\u001B[0m\u001B[1;33m)\u001B[0m \u001B[1;32mif\u001B[0m \u001B[0mcol\u001B[0m \u001B[1;33m!=\u001B[0m \u001B[0mcomponent_name\u001B[0m \u001B[1;33m}\u001B[0m\u001B[1;33m\u001B[0m\u001B[1;33m\u001B[0m\u001B[0m\n\u001B[0m\u001B[0;32m      5\u001B[0m     \u001B[0mcomponent_obj\u001B[0m\u001B[1;33m.\u001B[0m\u001B[0mcorrelation_dict\u001B[0m \u001B[1;33m=\u001B[0m \u001B[0mcorrelation_dict\u001B[0m\u001B[1;33m\u001B[0m\u001B[1;33m\u001B[0m\u001B[0m\n\u001B[0;32m      6\u001B[0m     \u001B[0mprint\u001B[0m\u001B[1;33m(\u001B[0m\u001B[0mcomponent_name\u001B[0m\u001B[1;33m,\u001B[0m \u001B[0mcomponent_obj\u001B[0m\u001B[1;33m.\u001B[0m\u001B[0mcorrelation_dict\u001B[0m \u001B[1;33m)\u001B[0m\u001B[1;33m\u001B[0m\u001B[1;33m\u001B[0m\u001B[0m\n",
      "\u001B[1;32m~\\anaconda3\\lib\\site-packages\\pandas\\core\\indexing.py\u001B[0m in \u001B[0;36m__getitem__\u001B[1;34m(self, key)\u001B[0m\n\u001B[0;32m    965\u001B[0m \u001B[1;33m\u001B[0m\u001B[0m\n\u001B[0;32m    966\u001B[0m             \u001B[0mmaybe_callable\u001B[0m \u001B[1;33m=\u001B[0m \u001B[0mcom\u001B[0m\u001B[1;33m.\u001B[0m\u001B[0mapply_if_callable\u001B[0m\u001B[1;33m(\u001B[0m\u001B[0mkey\u001B[0m\u001B[1;33m,\u001B[0m \u001B[0mself\u001B[0m\u001B[1;33m.\u001B[0m\u001B[0mobj\u001B[0m\u001B[1;33m)\u001B[0m\u001B[1;33m\u001B[0m\u001B[1;33m\u001B[0m\u001B[0m\n\u001B[1;32m--> 967\u001B[1;33m             \u001B[1;32mreturn\u001B[0m \u001B[0mself\u001B[0m\u001B[1;33m.\u001B[0m\u001B[0m_getitem_axis\u001B[0m\u001B[1;33m(\u001B[0m\u001B[0mmaybe_callable\u001B[0m\u001B[1;33m,\u001B[0m \u001B[0maxis\u001B[0m\u001B[1;33m=\u001B[0m\u001B[0maxis\u001B[0m\u001B[1;33m)\u001B[0m\u001B[1;33m\u001B[0m\u001B[1;33m\u001B[0m\u001B[0m\n\u001B[0m\u001B[0;32m    968\u001B[0m \u001B[1;33m\u001B[0m\u001B[0m\n\u001B[0;32m    969\u001B[0m     \u001B[1;32mdef\u001B[0m \u001B[0m_is_scalar_access\u001B[0m\u001B[1;33m(\u001B[0m\u001B[0mself\u001B[0m\u001B[1;33m,\u001B[0m \u001B[0mkey\u001B[0m\u001B[1;33m:\u001B[0m \u001B[0mtuple\u001B[0m\u001B[1;33m)\u001B[0m\u001B[1;33m:\u001B[0m\u001B[1;33m\u001B[0m\u001B[1;33m\u001B[0m\u001B[0m\n",
      "\u001B[1;32m~\\anaconda3\\lib\\site-packages\\pandas\\core\\indexing.py\u001B[0m in \u001B[0;36m_getitem_axis\u001B[1;34m(self, key, axis)\u001B[0m\n\u001B[0;32m   1203\u001B[0m         \u001B[1;31m# fall thru to straight lookup\u001B[0m\u001B[1;33m\u001B[0m\u001B[1;33m\u001B[0m\u001B[0m\n\u001B[0;32m   1204\u001B[0m         \u001B[0mself\u001B[0m\u001B[1;33m.\u001B[0m\u001B[0m_validate_key\u001B[0m\u001B[1;33m(\u001B[0m\u001B[0mkey\u001B[0m\u001B[1;33m,\u001B[0m \u001B[0maxis\u001B[0m\u001B[1;33m)\u001B[0m\u001B[1;33m\u001B[0m\u001B[1;33m\u001B[0m\u001B[0m\n\u001B[1;32m-> 1205\u001B[1;33m         \u001B[1;32mreturn\u001B[0m \u001B[0mself\u001B[0m\u001B[1;33m.\u001B[0m\u001B[0m_get_label\u001B[0m\u001B[1;33m(\u001B[0m\u001B[0mkey\u001B[0m\u001B[1;33m,\u001B[0m \u001B[0maxis\u001B[0m\u001B[1;33m=\u001B[0m\u001B[0maxis\u001B[0m\u001B[1;33m)\u001B[0m\u001B[1;33m\u001B[0m\u001B[1;33m\u001B[0m\u001B[0m\n\u001B[0m\u001B[0;32m   1206\u001B[0m \u001B[1;33m\u001B[0m\u001B[0m\n\u001B[0;32m   1207\u001B[0m     \u001B[1;32mdef\u001B[0m \u001B[0m_get_slice_axis\u001B[0m\u001B[1;33m(\u001B[0m\u001B[0mself\u001B[0m\u001B[1;33m,\u001B[0m \u001B[0mslice_obj\u001B[0m\u001B[1;33m:\u001B[0m \u001B[0mslice\u001B[0m\u001B[1;33m,\u001B[0m \u001B[0maxis\u001B[0m\u001B[1;33m:\u001B[0m \u001B[0mint\u001B[0m\u001B[1;33m)\u001B[0m\u001B[1;33m:\u001B[0m\u001B[1;33m\u001B[0m\u001B[1;33m\u001B[0m\u001B[0m\n",
      "\u001B[1;32m~\\anaconda3\\lib\\site-packages\\pandas\\core\\indexing.py\u001B[0m in \u001B[0;36m_get_label\u001B[1;34m(self, label, axis)\u001B[0m\n\u001B[0;32m   1151\u001B[0m     \u001B[1;32mdef\u001B[0m \u001B[0m_get_label\u001B[0m\u001B[1;33m(\u001B[0m\u001B[0mself\u001B[0m\u001B[1;33m,\u001B[0m \u001B[0mlabel\u001B[0m\u001B[1;33m,\u001B[0m \u001B[0maxis\u001B[0m\u001B[1;33m:\u001B[0m \u001B[0mint\u001B[0m\u001B[1;33m)\u001B[0m\u001B[1;33m:\u001B[0m\u001B[1;33m\u001B[0m\u001B[1;33m\u001B[0m\u001B[0m\n\u001B[0;32m   1152\u001B[0m         \u001B[1;31m# GH#5667 this will fail if the label is not present in the axis.\u001B[0m\u001B[1;33m\u001B[0m\u001B[1;33m\u001B[0m\u001B[0m\n\u001B[1;32m-> 1153\u001B[1;33m         \u001B[1;32mreturn\u001B[0m \u001B[0mself\u001B[0m\u001B[1;33m.\u001B[0m\u001B[0mobj\u001B[0m\u001B[1;33m.\u001B[0m\u001B[0mxs\u001B[0m\u001B[1;33m(\u001B[0m\u001B[0mlabel\u001B[0m\u001B[1;33m,\u001B[0m \u001B[0maxis\u001B[0m\u001B[1;33m=\u001B[0m\u001B[0maxis\u001B[0m\u001B[1;33m)\u001B[0m\u001B[1;33m\u001B[0m\u001B[1;33m\u001B[0m\u001B[0m\n\u001B[0m\u001B[0;32m   1154\u001B[0m \u001B[1;33m\u001B[0m\u001B[0m\n\u001B[0;32m   1155\u001B[0m     \u001B[1;32mdef\u001B[0m \u001B[0m_handle_lowerdim_multi_index_axis0\u001B[0m\u001B[1;33m(\u001B[0m\u001B[0mself\u001B[0m\u001B[1;33m,\u001B[0m \u001B[0mtup\u001B[0m\u001B[1;33m:\u001B[0m \u001B[0mtuple\u001B[0m\u001B[1;33m)\u001B[0m\u001B[1;33m:\u001B[0m\u001B[1;33m\u001B[0m\u001B[1;33m\u001B[0m\u001B[0m\n",
      "\u001B[1;32m~\\anaconda3\\lib\\site-packages\\pandas\\core\\generic.py\u001B[0m in \u001B[0;36mxs\u001B[1;34m(self, key, axis, level, drop_level)\u001B[0m\n\u001B[0;32m   3862\u001B[0m                     \u001B[0mnew_index\u001B[0m \u001B[1;33m=\u001B[0m \u001B[0mindex\u001B[0m\u001B[1;33m[\u001B[0m\u001B[0mloc\u001B[0m\u001B[1;33m]\u001B[0m\u001B[1;33m\u001B[0m\u001B[1;33m\u001B[0m\u001B[0m\n\u001B[0;32m   3863\u001B[0m         \u001B[1;32melse\u001B[0m\u001B[1;33m:\u001B[0m\u001B[1;33m\u001B[0m\u001B[1;33m\u001B[0m\u001B[0m\n\u001B[1;32m-> 3864\u001B[1;33m             \u001B[0mloc\u001B[0m \u001B[1;33m=\u001B[0m \u001B[0mindex\u001B[0m\u001B[1;33m.\u001B[0m\u001B[0mget_loc\u001B[0m\u001B[1;33m(\u001B[0m\u001B[0mkey\u001B[0m\u001B[1;33m)\u001B[0m\u001B[1;33m\u001B[0m\u001B[1;33m\u001B[0m\u001B[0m\n\u001B[0m\u001B[0;32m   3865\u001B[0m \u001B[1;33m\u001B[0m\u001B[0m\n\u001B[0;32m   3866\u001B[0m             \u001B[1;32mif\u001B[0m \u001B[0misinstance\u001B[0m\u001B[1;33m(\u001B[0m\u001B[0mloc\u001B[0m\u001B[1;33m,\u001B[0m \u001B[0mnp\u001B[0m\u001B[1;33m.\u001B[0m\u001B[0mndarray\u001B[0m\u001B[1;33m)\u001B[0m\u001B[1;33m:\u001B[0m\u001B[1;33m\u001B[0m\u001B[1;33m\u001B[0m\u001B[0m\n",
      "\u001B[1;32m~\\anaconda3\\lib\\site-packages\\pandas\\core\\indexes\\base.py\u001B[0m in \u001B[0;36mget_loc\u001B[1;34m(self, key, method, tolerance)\u001B[0m\n\u001B[0;32m   3629\u001B[0m                 \u001B[1;32mreturn\u001B[0m \u001B[0mself\u001B[0m\u001B[1;33m.\u001B[0m\u001B[0m_engine\u001B[0m\u001B[1;33m.\u001B[0m\u001B[0mget_loc\u001B[0m\u001B[1;33m(\u001B[0m\u001B[0mcasted_key\u001B[0m\u001B[1;33m)\u001B[0m\u001B[1;33m\u001B[0m\u001B[1;33m\u001B[0m\u001B[0m\n\u001B[0;32m   3630\u001B[0m             \u001B[1;32mexcept\u001B[0m \u001B[0mKeyError\u001B[0m \u001B[1;32mas\u001B[0m \u001B[0merr\u001B[0m\u001B[1;33m:\u001B[0m\u001B[1;33m\u001B[0m\u001B[1;33m\u001B[0m\u001B[0m\n\u001B[1;32m-> 3631\u001B[1;33m                 \u001B[1;32mraise\u001B[0m \u001B[0mKeyError\u001B[0m\u001B[1;33m(\u001B[0m\u001B[0mkey\u001B[0m\u001B[1;33m)\u001B[0m \u001B[1;32mfrom\u001B[0m \u001B[0merr\u001B[0m\u001B[1;33m\u001B[0m\u001B[1;33m\u001B[0m\u001B[0m\n\u001B[0m\u001B[0;32m   3632\u001B[0m             \u001B[1;32mexcept\u001B[0m \u001B[0mTypeError\u001B[0m\u001B[1;33m:\u001B[0m\u001B[1;33m\u001B[0m\u001B[1;33m\u001B[0m\u001B[0m\n\u001B[0;32m   3633\u001B[0m                 \u001B[1;31m# If we have a listlike key, _check_indexing_error will raise\u001B[0m\u001B[1;33m\u001B[0m\u001B[1;33m\u001B[0m\u001B[0m\n",
      "\u001B[1;31mKeyError\u001B[0m: 'Timestamp'"
     ]
    }
   ],
   "source": [
    "# Assuming components is a dictionary with component names as keys and Component objects as values\n",
    "for component_name, component_obj in components.items():\n",
    "    # Convert correlation coefficient row to dictionary with row index and value\n",
    "    correlation_dict = {col: value for col, value in zip(correlation_matrix.columns, correlation_matrix.loc[component_name]) if col != component_name }\n",
    "    component_obj.correlation_dict = correlation_dict\n",
    "    print(component_name, component_obj.correlation_dict )\n",
    "\n",
    "    # Convert p-value row to dictionary with row index and value\n",
    "    p_value_dict = {col: value for col, value in zip(p_values.columns, p_values.loc[component_name])}\n",
    "    #p_value_dict = {index: value for index, value in enumerate(p_values.loc[component_name])}\n",
    "    component_obj.p_value_dict = p_value_dict"
   ],
   "metadata": {
    "collapsed": false,
    "ExecuteTime": {
     "end_time": "2024-08-31T23:14:25.725622600Z",
     "start_time": "2024-08-31T23:14:25.600103900Z"
    }
   }
  },
  {
   "cell_type": "code",
   "execution_count": 28,
   "outputs": [
    {
     "data": {
      "text/plain": "<__main__.Component at 0x14c56bc9be0>"
     },
     "execution_count": 28,
     "metadata": {},
     "output_type": "execute_result"
    }
   ],
   "source": [
    "components['FIT101']\n"
   ],
   "metadata": {
    "collapsed": false,
    "ExecuteTime": {
     "end_time": "2024-08-31T23:16:53.873532300Z",
     "start_time": "2024-08-31T23:16:53.842293700Z"
    }
   }
  },
  {
   "cell_type": "code",
   "execution_count": 25,
   "outputs": [
    {
     "ename": "KeyError",
     "evalue": "'Timestamp'",
     "output_type": "error",
     "traceback": [
      "\u001B[1;31m---------------------------------------------------------------------------\u001B[0m",
      "\u001B[1;31mKeyError\u001B[0m                                  Traceback (most recent call last)",
      "\u001B[1;32m~\\anaconda3\\lib\\site-packages\\pandas\\core\\indexes\\base.py\u001B[0m in \u001B[0;36mget_loc\u001B[1;34m(self, key, method, tolerance)\u001B[0m\n\u001B[0;32m   3628\u001B[0m             \u001B[1;32mtry\u001B[0m\u001B[1;33m:\u001B[0m\u001B[1;33m\u001B[0m\u001B[1;33m\u001B[0m\u001B[0m\n\u001B[1;32m-> 3629\u001B[1;33m                 \u001B[1;32mreturn\u001B[0m \u001B[0mself\u001B[0m\u001B[1;33m.\u001B[0m\u001B[0m_engine\u001B[0m\u001B[1;33m.\u001B[0m\u001B[0mget_loc\u001B[0m\u001B[1;33m(\u001B[0m\u001B[0mcasted_key\u001B[0m\u001B[1;33m)\u001B[0m\u001B[1;33m\u001B[0m\u001B[1;33m\u001B[0m\u001B[0m\n\u001B[0m\u001B[0;32m   3630\u001B[0m             \u001B[1;32mexcept\u001B[0m \u001B[0mKeyError\u001B[0m \u001B[1;32mas\u001B[0m \u001B[0merr\u001B[0m\u001B[1;33m:\u001B[0m\u001B[1;33m\u001B[0m\u001B[1;33m\u001B[0m\u001B[0m\n",
      "\u001B[1;32m~\\anaconda3\\lib\\site-packages\\pandas\\_libs\\index.pyx\u001B[0m in \u001B[0;36mpandas._libs.index.IndexEngine.get_loc\u001B[1;34m()\u001B[0m\n",
      "\u001B[1;32m~\\anaconda3\\lib\\site-packages\\pandas\\_libs\\index.pyx\u001B[0m in \u001B[0;36mpandas._libs.index.IndexEngine.get_loc\u001B[1;34m()\u001B[0m\n",
      "\u001B[1;32mpandas\\_libs\\hashtable_class_helper.pxi\u001B[0m in \u001B[0;36mpandas._libs.hashtable.PyObjectHashTable.get_item\u001B[1;34m()\u001B[0m\n",
      "\u001B[1;32mpandas\\_libs\\hashtable_class_helper.pxi\u001B[0m in \u001B[0;36mpandas._libs.hashtable.PyObjectHashTable.get_item\u001B[1;34m()\u001B[0m\n",
      "\u001B[1;31mKeyError\u001B[0m: 'Timestamp'",
      "\nThe above exception was the direct cause of the following exception:\n",
      "\u001B[1;31mKeyError\u001B[0m                                  Traceback (most recent call last)",
      "\u001B[1;32m~\\AppData\\Local\\Temp\\ipykernel_18948\\1648226717.py\u001B[0m in \u001B[0;36m<module>\u001B[1;34m\u001B[0m\n\u001B[0;32m      2\u001B[0m \u001B[1;32mfor\u001B[0m \u001B[0mcomponent_name\u001B[0m\u001B[1;33m,\u001B[0m \u001B[0mcomponent_obj\u001B[0m \u001B[1;32min\u001B[0m \u001B[0mcomponents\u001B[0m\u001B[1;33m.\u001B[0m\u001B[0mitems\u001B[0m\u001B[1;33m(\u001B[0m\u001B[1;33m)\u001B[0m\u001B[1;33m:\u001B[0m\u001B[1;33m\u001B[0m\u001B[1;33m\u001B[0m\u001B[0m\n\u001B[0;32m      3\u001B[0m     \u001B[1;31m# Convert correlation coefficient row to dictionary with row index and value\u001B[0m\u001B[1;33m\u001B[0m\u001B[1;33m\u001B[0m\u001B[0m\n\u001B[1;32m----> 4\u001B[1;33m     \u001B[0mnon_lin_correlation_dict\u001B[0m \u001B[1;33m=\u001B[0m \u001B[1;33m{\u001B[0m\u001B[0mcol\u001B[0m\u001B[1;33m:\u001B[0m \u001B[0mvalue\u001B[0m \u001B[1;32mfor\u001B[0m \u001B[0mcol\u001B[0m\u001B[1;33m,\u001B[0m \u001B[0mvalue\u001B[0m \u001B[1;32min\u001B[0m \u001B[0mzip\u001B[0m\u001B[1;33m(\u001B[0m\u001B[0mnon_lin_correlation_matrix\u001B[0m\u001B[1;33m.\u001B[0m\u001B[0mcolumns\u001B[0m\u001B[1;33m,\u001B[0m \u001B[0mnon_lin_correlation_matrix\u001B[0m\u001B[1;33m.\u001B[0m\u001B[0mloc\u001B[0m\u001B[1;33m[\u001B[0m\u001B[0mcomponent_name\u001B[0m\u001B[1;33m]\u001B[0m\u001B[1;33m)\u001B[0m \u001B[1;32mif\u001B[0m \u001B[0mcol\u001B[0m \u001B[1;33m!=\u001B[0m \u001B[0mcomponent_name\u001B[0m\u001B[1;33m}\u001B[0m\u001B[1;33m\u001B[0m\u001B[1;33m\u001B[0m\u001B[0m\n\u001B[0m\u001B[0;32m      5\u001B[0m     \u001B[0mcomponent_obj\u001B[0m\u001B[1;33m.\u001B[0m\u001B[0mnon_lin_correlation_dict\u001B[0m \u001B[1;33m=\u001B[0m \u001B[0mnon_lin_correlation_dict\u001B[0m\u001B[1;33m\u001B[0m\u001B[1;33m\u001B[0m\u001B[0m\n\u001B[0;32m      6\u001B[0m     \u001B[0mprint\u001B[0m\u001B[1;33m(\u001B[0m\u001B[0mcomponent_name\u001B[0m\u001B[1;33m,\u001B[0m \u001B[0mcomponent_obj\u001B[0m\u001B[1;33m.\u001B[0m\u001B[0mnon_lin_correlation_dict\u001B[0m \u001B[1;33m)\u001B[0m\u001B[1;33m\u001B[0m\u001B[1;33m\u001B[0m\u001B[0m\n",
      "\u001B[1;32m~\\anaconda3\\lib\\site-packages\\pandas\\core\\indexing.py\u001B[0m in \u001B[0;36m__getitem__\u001B[1;34m(self, key)\u001B[0m\n\u001B[0;32m    965\u001B[0m \u001B[1;33m\u001B[0m\u001B[0m\n\u001B[0;32m    966\u001B[0m             \u001B[0mmaybe_callable\u001B[0m \u001B[1;33m=\u001B[0m \u001B[0mcom\u001B[0m\u001B[1;33m.\u001B[0m\u001B[0mapply_if_callable\u001B[0m\u001B[1;33m(\u001B[0m\u001B[0mkey\u001B[0m\u001B[1;33m,\u001B[0m \u001B[0mself\u001B[0m\u001B[1;33m.\u001B[0m\u001B[0mobj\u001B[0m\u001B[1;33m)\u001B[0m\u001B[1;33m\u001B[0m\u001B[1;33m\u001B[0m\u001B[0m\n\u001B[1;32m--> 967\u001B[1;33m             \u001B[1;32mreturn\u001B[0m \u001B[0mself\u001B[0m\u001B[1;33m.\u001B[0m\u001B[0m_getitem_axis\u001B[0m\u001B[1;33m(\u001B[0m\u001B[0mmaybe_callable\u001B[0m\u001B[1;33m,\u001B[0m \u001B[0maxis\u001B[0m\u001B[1;33m=\u001B[0m\u001B[0maxis\u001B[0m\u001B[1;33m)\u001B[0m\u001B[1;33m\u001B[0m\u001B[1;33m\u001B[0m\u001B[0m\n\u001B[0m\u001B[0;32m    968\u001B[0m \u001B[1;33m\u001B[0m\u001B[0m\n\u001B[0;32m    969\u001B[0m     \u001B[1;32mdef\u001B[0m \u001B[0m_is_scalar_access\u001B[0m\u001B[1;33m(\u001B[0m\u001B[0mself\u001B[0m\u001B[1;33m,\u001B[0m \u001B[0mkey\u001B[0m\u001B[1;33m:\u001B[0m \u001B[0mtuple\u001B[0m\u001B[1;33m)\u001B[0m\u001B[1;33m:\u001B[0m\u001B[1;33m\u001B[0m\u001B[1;33m\u001B[0m\u001B[0m\n",
      "\u001B[1;32m~\\anaconda3\\lib\\site-packages\\pandas\\core\\indexing.py\u001B[0m in \u001B[0;36m_getitem_axis\u001B[1;34m(self, key, axis)\u001B[0m\n\u001B[0;32m   1203\u001B[0m         \u001B[1;31m# fall thru to straight lookup\u001B[0m\u001B[1;33m\u001B[0m\u001B[1;33m\u001B[0m\u001B[0m\n\u001B[0;32m   1204\u001B[0m         \u001B[0mself\u001B[0m\u001B[1;33m.\u001B[0m\u001B[0m_validate_key\u001B[0m\u001B[1;33m(\u001B[0m\u001B[0mkey\u001B[0m\u001B[1;33m,\u001B[0m \u001B[0maxis\u001B[0m\u001B[1;33m)\u001B[0m\u001B[1;33m\u001B[0m\u001B[1;33m\u001B[0m\u001B[0m\n\u001B[1;32m-> 1205\u001B[1;33m         \u001B[1;32mreturn\u001B[0m \u001B[0mself\u001B[0m\u001B[1;33m.\u001B[0m\u001B[0m_get_label\u001B[0m\u001B[1;33m(\u001B[0m\u001B[0mkey\u001B[0m\u001B[1;33m,\u001B[0m \u001B[0maxis\u001B[0m\u001B[1;33m=\u001B[0m\u001B[0maxis\u001B[0m\u001B[1;33m)\u001B[0m\u001B[1;33m\u001B[0m\u001B[1;33m\u001B[0m\u001B[0m\n\u001B[0m\u001B[0;32m   1206\u001B[0m \u001B[1;33m\u001B[0m\u001B[0m\n\u001B[0;32m   1207\u001B[0m     \u001B[1;32mdef\u001B[0m \u001B[0m_get_slice_axis\u001B[0m\u001B[1;33m(\u001B[0m\u001B[0mself\u001B[0m\u001B[1;33m,\u001B[0m \u001B[0mslice_obj\u001B[0m\u001B[1;33m:\u001B[0m \u001B[0mslice\u001B[0m\u001B[1;33m,\u001B[0m \u001B[0maxis\u001B[0m\u001B[1;33m:\u001B[0m \u001B[0mint\u001B[0m\u001B[1;33m)\u001B[0m\u001B[1;33m:\u001B[0m\u001B[1;33m\u001B[0m\u001B[1;33m\u001B[0m\u001B[0m\n",
      "\u001B[1;32m~\\anaconda3\\lib\\site-packages\\pandas\\core\\indexing.py\u001B[0m in \u001B[0;36m_get_label\u001B[1;34m(self, label, axis)\u001B[0m\n\u001B[0;32m   1151\u001B[0m     \u001B[1;32mdef\u001B[0m \u001B[0m_get_label\u001B[0m\u001B[1;33m(\u001B[0m\u001B[0mself\u001B[0m\u001B[1;33m,\u001B[0m \u001B[0mlabel\u001B[0m\u001B[1;33m,\u001B[0m \u001B[0maxis\u001B[0m\u001B[1;33m:\u001B[0m \u001B[0mint\u001B[0m\u001B[1;33m)\u001B[0m\u001B[1;33m:\u001B[0m\u001B[1;33m\u001B[0m\u001B[1;33m\u001B[0m\u001B[0m\n\u001B[0;32m   1152\u001B[0m         \u001B[1;31m# GH#5667 this will fail if the label is not present in the axis.\u001B[0m\u001B[1;33m\u001B[0m\u001B[1;33m\u001B[0m\u001B[0m\n\u001B[1;32m-> 1153\u001B[1;33m         \u001B[1;32mreturn\u001B[0m \u001B[0mself\u001B[0m\u001B[1;33m.\u001B[0m\u001B[0mobj\u001B[0m\u001B[1;33m.\u001B[0m\u001B[0mxs\u001B[0m\u001B[1;33m(\u001B[0m\u001B[0mlabel\u001B[0m\u001B[1;33m,\u001B[0m \u001B[0maxis\u001B[0m\u001B[1;33m=\u001B[0m\u001B[0maxis\u001B[0m\u001B[1;33m)\u001B[0m\u001B[1;33m\u001B[0m\u001B[1;33m\u001B[0m\u001B[0m\n\u001B[0m\u001B[0;32m   1154\u001B[0m \u001B[1;33m\u001B[0m\u001B[0m\n\u001B[0;32m   1155\u001B[0m     \u001B[1;32mdef\u001B[0m \u001B[0m_handle_lowerdim_multi_index_axis0\u001B[0m\u001B[1;33m(\u001B[0m\u001B[0mself\u001B[0m\u001B[1;33m,\u001B[0m \u001B[0mtup\u001B[0m\u001B[1;33m:\u001B[0m \u001B[0mtuple\u001B[0m\u001B[1;33m)\u001B[0m\u001B[1;33m:\u001B[0m\u001B[1;33m\u001B[0m\u001B[1;33m\u001B[0m\u001B[0m\n",
      "\u001B[1;32m~\\anaconda3\\lib\\site-packages\\pandas\\core\\generic.py\u001B[0m in \u001B[0;36mxs\u001B[1;34m(self, key, axis, level, drop_level)\u001B[0m\n\u001B[0;32m   3862\u001B[0m                     \u001B[0mnew_index\u001B[0m \u001B[1;33m=\u001B[0m \u001B[0mindex\u001B[0m\u001B[1;33m[\u001B[0m\u001B[0mloc\u001B[0m\u001B[1;33m]\u001B[0m\u001B[1;33m\u001B[0m\u001B[1;33m\u001B[0m\u001B[0m\n\u001B[0;32m   3863\u001B[0m         \u001B[1;32melse\u001B[0m\u001B[1;33m:\u001B[0m\u001B[1;33m\u001B[0m\u001B[1;33m\u001B[0m\u001B[0m\n\u001B[1;32m-> 3864\u001B[1;33m             \u001B[0mloc\u001B[0m \u001B[1;33m=\u001B[0m \u001B[0mindex\u001B[0m\u001B[1;33m.\u001B[0m\u001B[0mget_loc\u001B[0m\u001B[1;33m(\u001B[0m\u001B[0mkey\u001B[0m\u001B[1;33m)\u001B[0m\u001B[1;33m\u001B[0m\u001B[1;33m\u001B[0m\u001B[0m\n\u001B[0m\u001B[0;32m   3865\u001B[0m \u001B[1;33m\u001B[0m\u001B[0m\n\u001B[0;32m   3866\u001B[0m             \u001B[1;32mif\u001B[0m \u001B[0misinstance\u001B[0m\u001B[1;33m(\u001B[0m\u001B[0mloc\u001B[0m\u001B[1;33m,\u001B[0m \u001B[0mnp\u001B[0m\u001B[1;33m.\u001B[0m\u001B[0mndarray\u001B[0m\u001B[1;33m)\u001B[0m\u001B[1;33m:\u001B[0m\u001B[1;33m\u001B[0m\u001B[1;33m\u001B[0m\u001B[0m\n",
      "\u001B[1;32m~\\anaconda3\\lib\\site-packages\\pandas\\core\\indexes\\base.py\u001B[0m in \u001B[0;36mget_loc\u001B[1;34m(self, key, method, tolerance)\u001B[0m\n\u001B[0;32m   3629\u001B[0m                 \u001B[1;32mreturn\u001B[0m \u001B[0mself\u001B[0m\u001B[1;33m.\u001B[0m\u001B[0m_engine\u001B[0m\u001B[1;33m.\u001B[0m\u001B[0mget_loc\u001B[0m\u001B[1;33m(\u001B[0m\u001B[0mcasted_key\u001B[0m\u001B[1;33m)\u001B[0m\u001B[1;33m\u001B[0m\u001B[1;33m\u001B[0m\u001B[0m\n\u001B[0;32m   3630\u001B[0m             \u001B[1;32mexcept\u001B[0m \u001B[0mKeyError\u001B[0m \u001B[1;32mas\u001B[0m \u001B[0merr\u001B[0m\u001B[1;33m:\u001B[0m\u001B[1;33m\u001B[0m\u001B[1;33m\u001B[0m\u001B[0m\n\u001B[1;32m-> 3631\u001B[1;33m                 \u001B[1;32mraise\u001B[0m \u001B[0mKeyError\u001B[0m\u001B[1;33m(\u001B[0m\u001B[0mkey\u001B[0m\u001B[1;33m)\u001B[0m \u001B[1;32mfrom\u001B[0m \u001B[0merr\u001B[0m\u001B[1;33m\u001B[0m\u001B[1;33m\u001B[0m\u001B[0m\n\u001B[0m\u001B[0;32m   3632\u001B[0m             \u001B[1;32mexcept\u001B[0m \u001B[0mTypeError\u001B[0m\u001B[1;33m:\u001B[0m\u001B[1;33m\u001B[0m\u001B[1;33m\u001B[0m\u001B[0m\n\u001B[0;32m   3633\u001B[0m                 \u001B[1;31m# If we have a listlike key, _check_indexing_error will raise\u001B[0m\u001B[1;33m\u001B[0m\u001B[1;33m\u001B[0m\u001B[0m\n",
      "\u001B[1;31mKeyError\u001B[0m: 'Timestamp'"
     ]
    }
   ],
   "source": [
    "# Assuming components is a dictionary with component names as keys and Component objects as values\n",
    "for component_name, component_obj in components.items():\n",
    "    # Convert correlation coefficient row to dictionary with row index and value\n",
    "    non_lin_correlation_dict = {col: value for col, value in zip(non_lin_correlation_matrix.columns, non_lin_correlation_matrix.loc[component_name]) if col != component_name}\n",
    "    component_obj.non_lin_correlation_dict = non_lin_correlation_dict\n",
    "    print(component_name, component_obj.non_lin_correlation_dict )\n",
    "\n",
    "    # Convert p-value row to dictionary with row index and value\n",
    "    non_lin_p_value_dict = {col: value for col, value in zip(non_lin_p_values.columns, non_lin_p_values.loc[component_name])}\n",
    "    #p_value_dict = {index: value for index, value in enumerate(p_values.loc[component_name])}\n",
    "    component_obj.non_lin_p_value_dict = non_lin_p_value_dict"
   ],
   "metadata": {
    "collapsed": false,
    "ExecuteTime": {
     "end_time": "2024-08-31T23:12:00.061886300Z",
     "start_time": "2024-08-31T23:11:59.999264100Z"
    }
   }
  },
  {
   "cell_type": "markdown",
   "source": [
    "# Visualising Relationships"
   ],
   "metadata": {
    "collapsed": false
   }
  },
  {
   "cell_type": "code",
   "execution_count": 121,
   "outputs": [
    {
     "data": {
      "text/plain": "(49500, 40)"
     },
     "execution_count": 121,
     "metadata": {},
     "output_type": "execute_result"
    }
   ],
   "source": [
    "df_cleaned.shape"
   ],
   "metadata": {
    "collapsed": false,
    "ExecuteTime": {
     "end_time": "2024-08-31T23:00:37.264994600Z",
     "start_time": "2024-08-31T23:00:37.233660100Z"
    }
   }
  },
  {
   "cell_type": "code",
   "execution_count": 122,
   "outputs": [],
   "source": [
    "#specific_component.get_correlated_components('linear',0.01, 1)"
   ],
   "metadata": {
    "collapsed": false,
    "ExecuteTime": {
     "end_time": "2024-08-31T23:00:38.325383300Z",
     "start_time": "2024-08-31T23:00:38.294111800Z"
    }
   }
  },
  {
   "cell_type": "code",
   "execution_count": 124,
   "outputs": [
    {
     "ename": "TypeError",
     "evalue": "bad operand type for abs(): 'str'",
     "output_type": "error",
     "traceback": [
      "\u001B[1;31m---------------------------------------------------------------------------\u001B[0m",
      "\u001B[1;31mTypeError\u001B[0m                                 Traceback (most recent call last)",
      "\u001B[1;32m~\\AppData\\Local\\Temp\\ipykernel_7652\\887681622.py\u001B[0m in \u001B[0;36m<module>\u001B[1;34m\u001B[0m\n\u001B[1;32m----> 1\u001B[1;33m \u001B[0mlen\u001B[0m\u001B[1;33m(\u001B[0m\u001B[0mspecific_component\u001B[0m\u001B[1;33m.\u001B[0m\u001B[0mget_correlated_components\u001B[0m\u001B[1;33m(\u001B[0m\u001B[1;34m'linear'\u001B[0m\u001B[1;33m,\u001B[0m \u001B[1;36m0.01\u001B[0m\u001B[1;33m,\u001B[0m \u001B[1;36m1\u001B[0m\u001B[1;33m)\u001B[0m\u001B[1;33m)\u001B[0m\u001B[1;33m\u001B[0m\u001B[1;33m\u001B[0m\u001B[0m\n\u001B[0m",
      "\u001B[1;32m~\\AppData\\Local\\Temp\\ipykernel_7652\\1298460120.py\u001B[0m in \u001B[0;36mget_correlated_components\u001B[1;34m(self, source_data, lower_threshold, upper_threshold)\u001B[0m\n\u001B[0;32m     25\u001B[0m         \u001B[1;32mif\u001B[0m \u001B[0msource_data\u001B[0m \u001B[1;33m==\u001B[0m \u001B[1;34m'linear'\u001B[0m\u001B[1;33m:\u001B[0m\u001B[1;33m\u001B[0m\u001B[1;33m\u001B[0m\u001B[0m\n\u001B[0;32m     26\u001B[0m             \u001B[1;32mfor\u001B[0m \u001B[0mcomponent\u001B[0m\u001B[1;33m,\u001B[0m \u001B[0mcorrelation\u001B[0m \u001B[1;32min\u001B[0m \u001B[0mself\u001B[0m\u001B[1;33m.\u001B[0m\u001B[0mcorrelation_dict\u001B[0m\u001B[1;33m.\u001B[0m\u001B[0mitems\u001B[0m\u001B[1;33m(\u001B[0m\u001B[1;33m)\u001B[0m\u001B[1;33m:\u001B[0m\u001B[1;33m\u001B[0m\u001B[1;33m\u001B[0m\u001B[0m\n\u001B[1;32m---> 27\u001B[1;33m                 \u001B[1;32mif\u001B[0m \u001B[0mcomponent\u001B[0m \u001B[1;33m!=\u001B[0m \u001B[0mself\u001B[0m\u001B[1;33m.\u001B[0m\u001B[0mname\u001B[0m \u001B[1;32mand\u001B[0m  \u001B[0mlower_threshold\u001B[0m \u001B[1;33m<=\u001B[0m \u001B[0mabs\u001B[0m\u001B[1;33m(\u001B[0m\u001B[0mcorrelation\u001B[0m\u001B[1;33m)\u001B[0m \u001B[1;33m<=\u001B[0m \u001B[0mupper_threshold\u001B[0m\u001B[1;33m:\u001B[0m\u001B[1;33m\u001B[0m\u001B[1;33m\u001B[0m\u001B[0m\n\u001B[0m\u001B[0;32m     28\u001B[0m                     \u001B[0mcorrelated_components\u001B[0m\u001B[1;33m[\u001B[0m\u001B[0mcomponent\u001B[0m\u001B[1;33m]\u001B[0m \u001B[1;33m=\u001B[0m \u001B[0mcorrelation\u001B[0m\u001B[1;33m\u001B[0m\u001B[1;33m\u001B[0m\u001B[0m\n\u001B[0;32m     29\u001B[0m             \u001B[1;32mreturn\u001B[0m \u001B[0mcorrelated_components\u001B[0m\u001B[1;33m\u001B[0m\u001B[1;33m\u001B[0m\u001B[0m\n",
      "\u001B[1;31mTypeError\u001B[0m: bad operand type for abs(): 'str'"
     ]
    }
   ],
   "source": [
    "len(specific_component.get_correlated_components('linear', 0.01, 1))"
   ],
   "metadata": {
    "collapsed": false,
    "ExecuteTime": {
     "end_time": "2024-08-31T23:00:44.344102900Z",
     "start_time": "2024-08-31T23:00:44.312855600Z"
    }
   }
  },
  {
   "cell_type": "code",
   "execution_count": 128,
   "outputs": [
    {
     "ename": "TypeError",
     "evalue": "bad operand type for abs(): 'str'",
     "output_type": "error",
     "traceback": [
      "\u001B[1;31m---------------------------------------------------------------------------\u001B[0m",
      "\u001B[1;31mTypeError\u001B[0m                                 Traceback (most recent call last)",
      "\u001B[1;32m~\\AppData\\Local\\Temp\\ipykernel_7652\\743420276.py\u001B[0m in \u001B[0;36m<module>\u001B[1;34m\u001B[0m\n\u001B[1;32m----> 1\u001B[1;33m \u001B[0mspecific_component\u001B[0m\u001B[1;33m.\u001B[0m\u001B[0mplot_network\u001B[0m\u001B[1;33m(\u001B[0m\u001B[1;34m'correlation_matrix'\u001B[0m\u001B[1;33m,\u001B[0m \u001B[1;36m0.05\u001B[0m\u001B[1;33m,\u001B[0m \u001B[1;36m1\u001B[0m\u001B[1;33m,\u001B[0m \u001B[0mnx\u001B[0m\u001B[1;33m.\u001B[0m\u001B[0mcircular_layout\u001B[0m \u001B[1;33m)\u001B[0m\u001B[1;33m\u001B[0m\u001B[1;33m\u001B[0m\u001B[0m\n\u001B[0m",
      "\u001B[1;32m~\\AppData\\Local\\Temp\\ipykernel_7652\\1298460120.py\u001B[0m in \u001B[0;36mplot_network\u001B[1;34m(self, source_data, lower_threshold, upper_threshold, layout)\u001B[0m\n\u001B[0;32m     70\u001B[0m         \u001B[1;32mif\u001B[0m \u001B[0msource_data\u001B[0m \u001B[1;33m==\u001B[0m \u001B[1;34m'correlation_matrix'\u001B[0m\u001B[1;33m:\u001B[0m\u001B[1;33m\u001B[0m\u001B[1;33m\u001B[0m\u001B[0m\n\u001B[0;32m     71\u001B[0m             \u001B[1;31m# Add nodes (components) and edges ( correlation)\u001B[0m\u001B[1;33m\u001B[0m\u001B[1;33m\u001B[0m\u001B[0m\n\u001B[1;32m---> 72\u001B[1;33m             \u001B[1;32mfor\u001B[0m \u001B[0mcomponent\u001B[0m\u001B[1;33m,\u001B[0m \u001B[0mcorrelation\u001B[0m \u001B[1;32min\u001B[0m \u001B[0mself\u001B[0m\u001B[1;33m.\u001B[0m\u001B[0mget_correlated_components\u001B[0m\u001B[1;33m(\u001B[0m\u001B[1;34m'linear'\u001B[0m\u001B[1;33m,\u001B[0m \u001B[0mlower_threshold\u001B[0m\u001B[1;33m,\u001B[0m\u001B[0mupper_threshold\u001B[0m\u001B[1;33m)\u001B[0m\u001B[1;33m.\u001B[0m\u001B[0mitems\u001B[0m\u001B[1;33m(\u001B[0m\u001B[1;33m)\u001B[0m\u001B[1;33m:\u001B[0m\u001B[1;33m\u001B[0m\u001B[1;33m\u001B[0m\u001B[0m\n\u001B[0m\u001B[0;32m     73\u001B[0m                 \u001B[0mG\u001B[0m\u001B[1;33m.\u001B[0m\u001B[0madd_node\u001B[0m\u001B[1;33m(\u001B[0m\u001B[0mcomponent\u001B[0m\u001B[1;33m,\u001B[0m \u001B[0mcorrelation_strength\u001B[0m\u001B[1;33m=\u001B[0m\u001B[0mcorrelation\u001B[0m\u001B[1;33m)\u001B[0m\u001B[1;33m\u001B[0m\u001B[1;33m\u001B[0m\u001B[0m\n\u001B[0;32m     74\u001B[0m                 \u001B[0mG\u001B[0m\u001B[1;33m.\u001B[0m\u001B[0madd_edge\u001B[0m\u001B[1;33m(\u001B[0m\u001B[0mself\u001B[0m\u001B[1;33m.\u001B[0m\u001B[0mname\u001B[0m\u001B[1;33m,\u001B[0m \u001B[0mcomponent\u001B[0m\u001B[1;33m,\u001B[0m \u001B[0mweight\u001B[0m\u001B[1;33m=\u001B[0m \u001B[0mcorrelation\u001B[0m\u001B[1;33m)\u001B[0m\u001B[1;33m\u001B[0m\u001B[1;33m\u001B[0m\u001B[0m\n",
      "\u001B[1;32m~\\AppData\\Local\\Temp\\ipykernel_7652\\1298460120.py\u001B[0m in \u001B[0;36mget_correlated_components\u001B[1;34m(self, source_data, lower_threshold, upper_threshold)\u001B[0m\n\u001B[0;32m     25\u001B[0m         \u001B[1;32mif\u001B[0m \u001B[0msource_data\u001B[0m \u001B[1;33m==\u001B[0m \u001B[1;34m'linear'\u001B[0m\u001B[1;33m:\u001B[0m\u001B[1;33m\u001B[0m\u001B[1;33m\u001B[0m\u001B[0m\n\u001B[0;32m     26\u001B[0m             \u001B[1;32mfor\u001B[0m \u001B[0mcomponent\u001B[0m\u001B[1;33m,\u001B[0m \u001B[0mcorrelation\u001B[0m \u001B[1;32min\u001B[0m \u001B[0mself\u001B[0m\u001B[1;33m.\u001B[0m\u001B[0mcorrelation_dict\u001B[0m\u001B[1;33m.\u001B[0m\u001B[0mitems\u001B[0m\u001B[1;33m(\u001B[0m\u001B[1;33m)\u001B[0m\u001B[1;33m:\u001B[0m\u001B[1;33m\u001B[0m\u001B[1;33m\u001B[0m\u001B[0m\n\u001B[1;32m---> 27\u001B[1;33m                 \u001B[1;32mif\u001B[0m \u001B[0mcomponent\u001B[0m \u001B[1;33m!=\u001B[0m \u001B[0mself\u001B[0m\u001B[1;33m.\u001B[0m\u001B[0mname\u001B[0m \u001B[1;32mand\u001B[0m  \u001B[0mlower_threshold\u001B[0m \u001B[1;33m<=\u001B[0m \u001B[0mabs\u001B[0m\u001B[1;33m(\u001B[0m\u001B[0mcorrelation\u001B[0m\u001B[1;33m)\u001B[0m \u001B[1;33m<=\u001B[0m \u001B[0mupper_threshold\u001B[0m\u001B[1;33m:\u001B[0m\u001B[1;33m\u001B[0m\u001B[1;33m\u001B[0m\u001B[0m\n\u001B[0m\u001B[0;32m     28\u001B[0m                     \u001B[0mcorrelated_components\u001B[0m\u001B[1;33m[\u001B[0m\u001B[0mcomponent\u001B[0m\u001B[1;33m]\u001B[0m \u001B[1;33m=\u001B[0m \u001B[0mcorrelation\u001B[0m\u001B[1;33m\u001B[0m\u001B[1;33m\u001B[0m\u001B[0m\n\u001B[0;32m     29\u001B[0m             \u001B[1;32mreturn\u001B[0m \u001B[0mcorrelated_components\u001B[0m\u001B[1;33m\u001B[0m\u001B[1;33m\u001B[0m\u001B[0m\n",
      "\u001B[1;31mTypeError\u001B[0m: bad operand type for abs(): 'str'"
     ]
    }
   ],
   "source": [
    "specific_component.plot_network('correlation_matrix', 0.05, 1, nx.circular_layout )"
   ],
   "metadata": {
    "collapsed": false,
    "ExecuteTime": {
     "end_time": "2024-08-31T23:05:48.588876900Z",
     "start_time": "2024-08-31T23:05:48.550139Z"
    }
   }
  },
  {
   "cell_type": "code",
   "execution_count": 129,
   "outputs": [
    {
     "ename": "TypeError",
     "evalue": "bad operand type for abs(): 'str'",
     "output_type": "error",
     "traceback": [
      "\u001B[1;31m---------------------------------------------------------------------------\u001B[0m",
      "\u001B[1;31mTypeError\u001B[0m                                 Traceback (most recent call last)",
      "\u001B[1;32m~\\AppData\\Local\\Temp\\ipykernel_7652\\3098982585.py\u001B[0m in \u001B[0;36m<module>\u001B[1;34m\u001B[0m\n\u001B[1;32m----> 1\u001B[1;33m \u001B[0mlen\u001B[0m\u001B[1;33m(\u001B[0m\u001B[0mspecific_component\u001B[0m\u001B[1;33m.\u001B[0m\u001B[0mget_correlated_components\u001B[0m\u001B[1;33m(\u001B[0m\u001B[1;34m'linear'\u001B[0m\u001B[1;33m,\u001B[0m \u001B[1;36m0.6\u001B[0m\u001B[1;33m,\u001B[0m \u001B[1;36m1\u001B[0m\u001B[1;33m)\u001B[0m\u001B[1;33m)\u001B[0m\u001B[1;33m\u001B[0m\u001B[1;33m\u001B[0m\u001B[0m\n\u001B[0m",
      "\u001B[1;32m~\\AppData\\Local\\Temp\\ipykernel_7652\\1298460120.py\u001B[0m in \u001B[0;36mget_correlated_components\u001B[1;34m(self, source_data, lower_threshold, upper_threshold)\u001B[0m\n\u001B[0;32m     25\u001B[0m         \u001B[1;32mif\u001B[0m \u001B[0msource_data\u001B[0m \u001B[1;33m==\u001B[0m \u001B[1;34m'linear'\u001B[0m\u001B[1;33m:\u001B[0m\u001B[1;33m\u001B[0m\u001B[1;33m\u001B[0m\u001B[0m\n\u001B[0;32m     26\u001B[0m             \u001B[1;32mfor\u001B[0m \u001B[0mcomponent\u001B[0m\u001B[1;33m,\u001B[0m \u001B[0mcorrelation\u001B[0m \u001B[1;32min\u001B[0m \u001B[0mself\u001B[0m\u001B[1;33m.\u001B[0m\u001B[0mcorrelation_dict\u001B[0m\u001B[1;33m.\u001B[0m\u001B[0mitems\u001B[0m\u001B[1;33m(\u001B[0m\u001B[1;33m)\u001B[0m\u001B[1;33m:\u001B[0m\u001B[1;33m\u001B[0m\u001B[1;33m\u001B[0m\u001B[0m\n\u001B[1;32m---> 27\u001B[1;33m                 \u001B[1;32mif\u001B[0m \u001B[0mcomponent\u001B[0m \u001B[1;33m!=\u001B[0m \u001B[0mself\u001B[0m\u001B[1;33m.\u001B[0m\u001B[0mname\u001B[0m \u001B[1;32mand\u001B[0m  \u001B[0mlower_threshold\u001B[0m \u001B[1;33m<=\u001B[0m \u001B[0mabs\u001B[0m\u001B[1;33m(\u001B[0m\u001B[0mcorrelation\u001B[0m\u001B[1;33m)\u001B[0m \u001B[1;33m<=\u001B[0m \u001B[0mupper_threshold\u001B[0m\u001B[1;33m:\u001B[0m\u001B[1;33m\u001B[0m\u001B[1;33m\u001B[0m\u001B[0m\n\u001B[0m\u001B[0;32m     28\u001B[0m                     \u001B[0mcorrelated_components\u001B[0m\u001B[1;33m[\u001B[0m\u001B[0mcomponent\u001B[0m\u001B[1;33m]\u001B[0m \u001B[1;33m=\u001B[0m \u001B[0mcorrelation\u001B[0m\u001B[1;33m\u001B[0m\u001B[1;33m\u001B[0m\u001B[0m\n\u001B[0;32m     29\u001B[0m             \u001B[1;32mreturn\u001B[0m \u001B[0mcorrelated_components\u001B[0m\u001B[1;33m\u001B[0m\u001B[1;33m\u001B[0m\u001B[0m\n",
      "\u001B[1;31mTypeError\u001B[0m: bad operand type for abs(): 'str'"
     ]
    }
   ],
   "source": [
    "len(specific_component.get_correlated_components('linear', 0.6, 1))"
   ],
   "metadata": {
    "collapsed": false,
    "ExecuteTime": {
     "end_time": "2024-08-31T23:05:50.215545800Z",
     "start_time": "2024-08-31T23:05:50.193289200Z"
    }
   }
  },
  {
   "cell_type": "code",
   "execution_count": 130,
   "outputs": [
    {
     "ename": "TypeError",
     "evalue": "bad operand type for abs(): 'str'",
     "output_type": "error",
     "traceback": [
      "\u001B[1;31m---------------------------------------------------------------------------\u001B[0m",
      "\u001B[1;31mTypeError\u001B[0m                                 Traceback (most recent call last)",
      "\u001B[1;32m~\\AppData\\Local\\Temp\\ipykernel_7652\\2365526933.py\u001B[0m in \u001B[0;36m<module>\u001B[1;34m\u001B[0m\n\u001B[1;32m----> 1\u001B[1;33m \u001B[0mspecific_component\u001B[0m\u001B[1;33m.\u001B[0m\u001B[0mplot_network\u001B[0m\u001B[1;33m(\u001B[0m\u001B[1;34m'correlation_matrix'\u001B[0m\u001B[1;33m,\u001B[0m \u001B[1;36m0.6\u001B[0m\u001B[1;33m,\u001B[0m \u001B[1;36m1\u001B[0m\u001B[1;33m,\u001B[0m \u001B[0mnx\u001B[0m\u001B[1;33m.\u001B[0m\u001B[0mcircular_layout\u001B[0m \u001B[1;33m)\u001B[0m\u001B[1;33m\u001B[0m\u001B[1;33m\u001B[0m\u001B[0m\n\u001B[0m",
      "\u001B[1;32m~\\AppData\\Local\\Temp\\ipykernel_7652\\1298460120.py\u001B[0m in \u001B[0;36mplot_network\u001B[1;34m(self, source_data, lower_threshold, upper_threshold, layout)\u001B[0m\n\u001B[0;32m     70\u001B[0m         \u001B[1;32mif\u001B[0m \u001B[0msource_data\u001B[0m \u001B[1;33m==\u001B[0m \u001B[1;34m'correlation_matrix'\u001B[0m\u001B[1;33m:\u001B[0m\u001B[1;33m\u001B[0m\u001B[1;33m\u001B[0m\u001B[0m\n\u001B[0;32m     71\u001B[0m             \u001B[1;31m# Add nodes (components) and edges ( correlation)\u001B[0m\u001B[1;33m\u001B[0m\u001B[1;33m\u001B[0m\u001B[0m\n\u001B[1;32m---> 72\u001B[1;33m             \u001B[1;32mfor\u001B[0m \u001B[0mcomponent\u001B[0m\u001B[1;33m,\u001B[0m \u001B[0mcorrelation\u001B[0m \u001B[1;32min\u001B[0m \u001B[0mself\u001B[0m\u001B[1;33m.\u001B[0m\u001B[0mget_correlated_components\u001B[0m\u001B[1;33m(\u001B[0m\u001B[1;34m'linear'\u001B[0m\u001B[1;33m,\u001B[0m \u001B[0mlower_threshold\u001B[0m\u001B[1;33m,\u001B[0m\u001B[0mupper_threshold\u001B[0m\u001B[1;33m)\u001B[0m\u001B[1;33m.\u001B[0m\u001B[0mitems\u001B[0m\u001B[1;33m(\u001B[0m\u001B[1;33m)\u001B[0m\u001B[1;33m:\u001B[0m\u001B[1;33m\u001B[0m\u001B[1;33m\u001B[0m\u001B[0m\n\u001B[0m\u001B[0;32m     73\u001B[0m                 \u001B[0mG\u001B[0m\u001B[1;33m.\u001B[0m\u001B[0madd_node\u001B[0m\u001B[1;33m(\u001B[0m\u001B[0mcomponent\u001B[0m\u001B[1;33m,\u001B[0m \u001B[0mcorrelation_strength\u001B[0m\u001B[1;33m=\u001B[0m\u001B[0mcorrelation\u001B[0m\u001B[1;33m)\u001B[0m\u001B[1;33m\u001B[0m\u001B[1;33m\u001B[0m\u001B[0m\n\u001B[0;32m     74\u001B[0m                 \u001B[0mG\u001B[0m\u001B[1;33m.\u001B[0m\u001B[0madd_edge\u001B[0m\u001B[1;33m(\u001B[0m\u001B[0mself\u001B[0m\u001B[1;33m.\u001B[0m\u001B[0mname\u001B[0m\u001B[1;33m,\u001B[0m \u001B[0mcomponent\u001B[0m\u001B[1;33m,\u001B[0m \u001B[0mweight\u001B[0m\u001B[1;33m=\u001B[0m \u001B[0mcorrelation\u001B[0m\u001B[1;33m)\u001B[0m\u001B[1;33m\u001B[0m\u001B[1;33m\u001B[0m\u001B[0m\n",
      "\u001B[1;32m~\\AppData\\Local\\Temp\\ipykernel_7652\\1298460120.py\u001B[0m in \u001B[0;36mget_correlated_components\u001B[1;34m(self, source_data, lower_threshold, upper_threshold)\u001B[0m\n\u001B[0;32m     25\u001B[0m         \u001B[1;32mif\u001B[0m \u001B[0msource_data\u001B[0m \u001B[1;33m==\u001B[0m \u001B[1;34m'linear'\u001B[0m\u001B[1;33m:\u001B[0m\u001B[1;33m\u001B[0m\u001B[1;33m\u001B[0m\u001B[0m\n\u001B[0;32m     26\u001B[0m             \u001B[1;32mfor\u001B[0m \u001B[0mcomponent\u001B[0m\u001B[1;33m,\u001B[0m \u001B[0mcorrelation\u001B[0m \u001B[1;32min\u001B[0m \u001B[0mself\u001B[0m\u001B[1;33m.\u001B[0m\u001B[0mcorrelation_dict\u001B[0m\u001B[1;33m.\u001B[0m\u001B[0mitems\u001B[0m\u001B[1;33m(\u001B[0m\u001B[1;33m)\u001B[0m\u001B[1;33m:\u001B[0m\u001B[1;33m\u001B[0m\u001B[1;33m\u001B[0m\u001B[0m\n\u001B[1;32m---> 27\u001B[1;33m                 \u001B[1;32mif\u001B[0m \u001B[0mcomponent\u001B[0m \u001B[1;33m!=\u001B[0m \u001B[0mself\u001B[0m\u001B[1;33m.\u001B[0m\u001B[0mname\u001B[0m \u001B[1;32mand\u001B[0m  \u001B[0mlower_threshold\u001B[0m \u001B[1;33m<=\u001B[0m \u001B[0mabs\u001B[0m\u001B[1;33m(\u001B[0m\u001B[0mcorrelation\u001B[0m\u001B[1;33m)\u001B[0m \u001B[1;33m<=\u001B[0m \u001B[0mupper_threshold\u001B[0m\u001B[1;33m:\u001B[0m\u001B[1;33m\u001B[0m\u001B[1;33m\u001B[0m\u001B[0m\n\u001B[0m\u001B[0;32m     28\u001B[0m                     \u001B[0mcorrelated_components\u001B[0m\u001B[1;33m[\u001B[0m\u001B[0mcomponent\u001B[0m\u001B[1;33m]\u001B[0m \u001B[1;33m=\u001B[0m \u001B[0mcorrelation\u001B[0m\u001B[1;33m\u001B[0m\u001B[1;33m\u001B[0m\u001B[0m\n\u001B[0;32m     29\u001B[0m             \u001B[1;32mreturn\u001B[0m \u001B[0mcorrelated_components\u001B[0m\u001B[1;33m\u001B[0m\u001B[1;33m\u001B[0m\u001B[0m\n",
      "\u001B[1;31mTypeError\u001B[0m: bad operand type for abs(): 'str'"
     ]
    }
   ],
   "source": [
    "specific_component.plot_network('correlation_matrix', 0.6, 1, nx.circular_layout )"
   ],
   "metadata": {
    "collapsed": false,
    "ExecuteTime": {
     "end_time": "2024-08-31T23:05:50.894780400Z",
     "start_time": "2024-08-31T23:05:50.879130200Z"
    }
   }
  },
  {
   "cell_type": "code",
   "execution_count": 131,
   "outputs": [
    {
     "data": {
      "text/plain": "{'FIT101': 0.0,\n 'MV101': 0.0,\n 'P101': 0.0,\n 'AIT202': 0.0,\n 'AIT203': 0.0,\n 'FIT201': 0.0,\n 'MV201': 0.0,\n 'P203': 0.0,\n 'P205': 0.0,\n 'DPIT301': 0.0,\n 'FIT301': 0.0,\n 'LIT301': 0.0,\n 'MV301': 0.0,\n 'MV302': 0.0,\n 'MV303': 0.0,\n 'MV304': 0.0037,\n 'P301': 0.0,\n 'P302': 0.0,\n 'AIT401': 0.0,\n 'AIT402': 0.0,\n 'FIT401': 0.0,\n 'LIT401': 0.0,\n 'P402': 0.0,\n 'UV401': 0.0,\n 'AIT501': 0.0,\n 'AIT502': 0.0,\n 'AIT503': 0.0,\n 'AIT504': 0.0,\n 'FIT501': 0.0,\n 'FIT502': 0.0,\n 'FIT503': 0.0,\n 'FIT504': 0.0,\n 'P501': 0.0,\n 'PIT501': 0.0,\n 'PIT502': 0.0,\n 'PIT503': 0.0,\n 'FIT601': 0.0,\n 'P602': 0.0}"
     },
     "execution_count": 131,
     "metadata": {},
     "output_type": "execute_result"
    }
   ],
   "source": [
    "specific_component.get_correlated_components_p_value('linear', 0.0, 0.05)"
   ],
   "metadata": {
    "collapsed": false,
    "ExecuteTime": {
     "end_time": "2024-08-31T23:05:51.359602100Z",
     "start_time": "2024-08-31T23:05:51.328437800Z"
    }
   }
  },
  {
   "cell_type": "code",
   "execution_count": 96,
   "outputs": [
    {
     "data": {
      "text/plain": "38"
     },
     "execution_count": 96,
     "metadata": {},
     "output_type": "execute_result"
    }
   ],
   "source": [
    " len(specific_component.get_correlated_components_p_value('linear', 0.0, 0.05))"
   ],
   "metadata": {
    "collapsed": false,
    "ExecuteTime": {
     "end_time": "2024-08-31T22:50:04.043814200Z",
     "start_time": "2024-08-31T22:50:04.012609400Z"
    }
   }
  },
  {
   "cell_type": "code",
   "execution_count": 97,
   "outputs": [
    {
     "data": {
      "text/plain": "<Figure size 640x480 with 1 Axes>",
      "image/png": "[encoded data removed]"
     },
     "metadata": {},
     "output_type": "display_data"
    }
   ],
   "source": [
    "specific_component.plot_network('correlation_p_value', 0.0, 0.05, nx.circular_layout )"
   ],
   "metadata": {
    "collapsed": false,
    "ExecuteTime": {
     "end_time": "2024-08-31T22:50:35.335828Z",
     "start_time": "2024-08-31T22:50:35.200213300Z"
    }
   }
  },
  {
   "cell_type": "markdown",
   "source": [
    "## Observations\n",
    "P value ( statistical significance) value of 5% indicates 38 of 39 components disprove the null hypothesis that the relationship between components is random. This numebr of related components is acheived by using a Pearson correlation coefficient 0f 0.01 or above ( a very week linear correlation).\n",
    "These Values were calculated from the correlation from the LIT101 water level sensor which is the main water tank at the beginning of the process ( and so is understandably linked to all other components to some degree.\n",
    "Restricted the results to correlation coefficients above 0.6 identifies 5 componnets with strong correlations, all of which are in the same or following stage and are related to the movement of water ( pumps or flow sensors). This suggests the Pearson values are more useful is revelaing system dependencies.\n"
   ],
   "metadata": {
    "collapsed": false
   }
  },
  {
   "cell_type": "markdown",
   "source": [
    "# Non-Linear Correlation of Components\n",
    "The previous stage looked for linear correlation between components, other non- linear methods were evaluated as the complex interplay of componets could lead to non-linear behaviour even with pairwise linear relationships. These methods look for monatonic relationships- the values for two components consistently change together ( positive or negative)."
   ],
   "metadata": {
    "collapsed": false
   }
  },
  {
   "cell_type": "code",
   "execution_count": 97,
   "outputs": [],
   "source": [],
   "metadata": {
    "collapsed": false,
    "ExecuteTime": {
     "end_time": "2024-08-31T22:55:11.043956Z",
     "start_time": "2024-08-31T22:55:11.028339400Z"
    }
   }
  },
  {
   "cell_type": "code",
   "execution_count": 98,
   "outputs": [],
   "source": [
    "# Display correlation matrix and p-values\n",
    "#print(\"non_lin Correlation Matrix:\")\n",
    "#display(non_lin_correlation_matrix_styled)\n"
   ],
   "metadata": {
    "collapsed": false,
    "ExecuteTime": {
     "end_time": "2024-08-31T22:55:11.482370600Z",
     "start_time": "2024-08-31T22:55:11.450995200Z"
    }
   }
  },
  {
   "cell_type": "code",
   "execution_count": 99,
   "outputs": [],
   "source": [
    "#non_lin_p_values_styled"
   ],
   "metadata": {
    "collapsed": false,
    "ExecuteTime": {
     "end_time": "2024-08-31T22:55:11.785435500Z",
     "start_time": "2024-08-31T22:55:11.754155600Z"
    }
   }
  },
  {
   "cell_type": "code",
   "execution_count": 99,
   "outputs": [],
   "source": [],
   "metadata": {
    "collapsed": false,
    "ExecuteTime": {
     "end_time": "2024-08-31T22:55:12.068439Z",
     "start_time": "2024-08-31T22:55:12.037151700Z"
    }
   }
  },
  {
   "cell_type": "code",
   "execution_count": 100,
   "outputs": [
    {
     "ename": "TypeError",
     "evalue": "bad operand type for abs(): 'str'",
     "output_type": "error",
     "traceback": [
      "\u001B[1;31m---------------------------------------------------------------------------\u001B[0m",
      "\u001B[1;31mTypeError\u001B[0m                                 Traceback (most recent call last)",
      "\u001B[1;32m~\\AppData\\Local\\Temp\\ipykernel_7652\\1249940246.py\u001B[0m in \u001B[0;36m<module>\u001B[1;34m\u001B[0m\n\u001B[1;32m----> 1\u001B[1;33m \u001B[0mspecific_component\u001B[0m\u001B[1;33m.\u001B[0m\u001B[0mget_correlated_components\u001B[0m\u001B[1;33m(\u001B[0m\u001B[1;34m'non_linear'\u001B[0m\u001B[1;33m,\u001B[0m \u001B[1;36m0.6\u001B[0m\u001B[1;33m,\u001B[0m \u001B[1;36m1\u001B[0m\u001B[1;33m)\u001B[0m\u001B[1;33m\u001B[0m\u001B[1;33m\u001B[0m\u001B[0m\n\u001B[0m",
      "\u001B[1;32m~\\AppData\\Local\\Temp\\ipykernel_7652\\1298460120.py\u001B[0m in \u001B[0;36mget_correlated_components\u001B[1;34m(self, source_data, lower_threshold, upper_threshold)\u001B[0m\n\u001B[0;32m     32\u001B[0m             \u001B[0mcorrelated_components\u001B[0m \u001B[1;33m=\u001B[0m \u001B[1;33m{\u001B[0m\u001B[1;33m}\u001B[0m\u001B[1;33m\u001B[0m\u001B[1;33m\u001B[0m\u001B[0m\n\u001B[0;32m     33\u001B[0m             \u001B[1;32mfor\u001B[0m \u001B[0mcomponent\u001B[0m\u001B[1;33m,\u001B[0m \u001B[0mcorrelation\u001B[0m \u001B[1;32min\u001B[0m \u001B[0mself\u001B[0m\u001B[1;33m.\u001B[0m\u001B[0mnon_lin_correlation_dict\u001B[0m\u001B[1;33m.\u001B[0m\u001B[0mitems\u001B[0m\u001B[1;33m(\u001B[0m\u001B[1;33m)\u001B[0m\u001B[1;33m:\u001B[0m\u001B[1;33m\u001B[0m\u001B[1;33m\u001B[0m\u001B[0m\n\u001B[1;32m---> 34\u001B[1;33m                 \u001B[1;32mif\u001B[0m \u001B[0mcomponent\u001B[0m \u001B[1;33m!=\u001B[0m \u001B[0mself\u001B[0m\u001B[1;33m.\u001B[0m\u001B[0mname\u001B[0m \u001B[1;32mand\u001B[0m  \u001B[0mlower_threshold\u001B[0m \u001B[1;33m<=\u001B[0m \u001B[0mabs\u001B[0m\u001B[1;33m(\u001B[0m\u001B[0mcorrelation\u001B[0m\u001B[1;33m)\u001B[0m \u001B[1;33m<=\u001B[0m \u001B[0mupper_threshold\u001B[0m\u001B[1;33m:\u001B[0m\u001B[1;33m\u001B[0m\u001B[1;33m\u001B[0m\u001B[0m\n\u001B[0m\u001B[0;32m     35\u001B[0m                     \u001B[0mcorrelated_components\u001B[0m\u001B[1;33m[\u001B[0m\u001B[0mcomponent\u001B[0m\u001B[1;33m]\u001B[0m \u001B[1;33m=\u001B[0m \u001B[0mcorrelation\u001B[0m\u001B[1;33m\u001B[0m\u001B[1;33m\u001B[0m\u001B[0m\n\u001B[0;32m     36\u001B[0m             \u001B[1;32mreturn\u001B[0m \u001B[0mcorrelated_components\u001B[0m\u001B[1;33m\u001B[0m\u001B[1;33m\u001B[0m\u001B[0m\n",
      "\u001B[1;31mTypeError\u001B[0m: bad operand type for abs(): 'str'"
     ]
    }
   ],
   "source": [
    "specific_component.get_correlated_components('non_linear', 0.6, 1)"
   ],
   "metadata": {
    "collapsed": false,
    "ExecuteTime": {
     "end_time": "2024-08-31T22:55:12.540453200Z",
     "start_time": "2024-08-31T22:55:12.491344100Z"
    }
   }
  },
  {
   "cell_type": "code",
   "execution_count": 101,
   "outputs": [
    {
     "ename": "TypeError",
     "evalue": "bad operand type for abs(): 'str'",
     "output_type": "error",
     "traceback": [
      "\u001B[1;31m---------------------------------------------------------------------------\u001B[0m",
      "\u001B[1;31mTypeError\u001B[0m                                 Traceback (most recent call last)",
      "\u001B[1;32m~\\AppData\\Local\\Temp\\ipykernel_7652\\4188550271.py\u001B[0m in \u001B[0;36m<module>\u001B[1;34m\u001B[0m\n\u001B[1;32m----> 1\u001B[1;33m \u001B[0mlen\u001B[0m\u001B[1;33m(\u001B[0m\u001B[0mspecific_component\u001B[0m\u001B[1;33m.\u001B[0m\u001B[0mget_correlated_components\u001B[0m\u001B[1;33m(\u001B[0m\u001B[1;34m'non_linear'\u001B[0m\u001B[1;33m,\u001B[0m \u001B[1;36m0.6\u001B[0m\u001B[1;33m,\u001B[0m \u001B[1;36m1\u001B[0m\u001B[1;33m)\u001B[0m\u001B[1;33m)\u001B[0m\u001B[1;33m\u001B[0m\u001B[1;33m\u001B[0m\u001B[0m\n\u001B[0m",
      "\u001B[1;32m~\\AppData\\Local\\Temp\\ipykernel_7652\\1298460120.py\u001B[0m in \u001B[0;36mget_correlated_components\u001B[1;34m(self, source_data, lower_threshold, upper_threshold)\u001B[0m\n\u001B[0;32m     32\u001B[0m             \u001B[0mcorrelated_components\u001B[0m \u001B[1;33m=\u001B[0m \u001B[1;33m{\u001B[0m\u001B[1;33m}\u001B[0m\u001B[1;33m\u001B[0m\u001B[1;33m\u001B[0m\u001B[0m\n\u001B[0;32m     33\u001B[0m             \u001B[1;32mfor\u001B[0m \u001B[0mcomponent\u001B[0m\u001B[1;33m,\u001B[0m \u001B[0mcorrelation\u001B[0m \u001B[1;32min\u001B[0m \u001B[0mself\u001B[0m\u001B[1;33m.\u001B[0m\u001B[0mnon_lin_correlation_dict\u001B[0m\u001B[1;33m.\u001B[0m\u001B[0mitems\u001B[0m\u001B[1;33m(\u001B[0m\u001B[1;33m)\u001B[0m\u001B[1;33m:\u001B[0m\u001B[1;33m\u001B[0m\u001B[1;33m\u001B[0m\u001B[0m\n\u001B[1;32m---> 34\u001B[1;33m                 \u001B[1;32mif\u001B[0m \u001B[0mcomponent\u001B[0m \u001B[1;33m!=\u001B[0m \u001B[0mself\u001B[0m\u001B[1;33m.\u001B[0m\u001B[0mname\u001B[0m \u001B[1;32mand\u001B[0m  \u001B[0mlower_threshold\u001B[0m \u001B[1;33m<=\u001B[0m \u001B[0mabs\u001B[0m\u001B[1;33m(\u001B[0m\u001B[0mcorrelation\u001B[0m\u001B[1;33m)\u001B[0m \u001B[1;33m<=\u001B[0m \u001B[0mupper_threshold\u001B[0m\u001B[1;33m:\u001B[0m\u001B[1;33m\u001B[0m\u001B[1;33m\u001B[0m\u001B[0m\n\u001B[0m\u001B[0;32m     35\u001B[0m                     \u001B[0mcorrelated_components\u001B[0m\u001B[1;33m[\u001B[0m\u001B[0mcomponent\u001B[0m\u001B[1;33m]\u001B[0m \u001B[1;33m=\u001B[0m \u001B[0mcorrelation\u001B[0m\u001B[1;33m\u001B[0m\u001B[1;33m\u001B[0m\u001B[0m\n\u001B[0;32m     36\u001B[0m             \u001B[1;32mreturn\u001B[0m \u001B[0mcorrelated_components\u001B[0m\u001B[1;33m\u001B[0m\u001B[1;33m\u001B[0m\u001B[0m\n",
      "\u001B[1;31mTypeError\u001B[0m: bad operand type for abs(): 'str'"
     ]
    }
   ],
   "source": [
    "len(specific_component.get_correlated_components('non_linear', 0.6, 1))"
   ],
   "metadata": {
    "collapsed": false,
    "ExecuteTime": {
     "end_time": "2024-08-31T22:55:13.808327900Z",
     "start_time": "2024-08-31T22:55:13.745774300Z"
    }
   }
  },
  {
   "cell_type": "code",
   "execution_count": 102,
   "outputs": [
    {
     "ename": "TypeError",
     "evalue": "bad operand type for abs(): 'str'",
     "output_type": "error",
     "traceback": [
      "\u001B[1;31m---------------------------------------------------------------------------\u001B[0m",
      "\u001B[1;31mTypeError\u001B[0m                                 Traceback (most recent call last)",
      "\u001B[1;32m~\\AppData\\Local\\Temp\\ipykernel_7652\\2365526933.py\u001B[0m in \u001B[0;36m<module>\u001B[1;34m\u001B[0m\n\u001B[1;32m----> 1\u001B[1;33m \u001B[0mspecific_component\u001B[0m\u001B[1;33m.\u001B[0m\u001B[0mplot_network\u001B[0m\u001B[1;33m(\u001B[0m\u001B[1;34m'correlation_matrix'\u001B[0m\u001B[1;33m,\u001B[0m \u001B[1;36m0.6\u001B[0m\u001B[1;33m,\u001B[0m \u001B[1;36m1\u001B[0m\u001B[1;33m,\u001B[0m \u001B[0mnx\u001B[0m\u001B[1;33m.\u001B[0m\u001B[0mcircular_layout\u001B[0m \u001B[1;33m)\u001B[0m\u001B[1;33m\u001B[0m\u001B[1;33m\u001B[0m\u001B[0m\n\u001B[0m",
      "\u001B[1;32m~\\AppData\\Local\\Temp\\ipykernel_7652\\1298460120.py\u001B[0m in \u001B[0;36mplot_network\u001B[1;34m(self, source_data, lower_threshold, upper_threshold, layout)\u001B[0m\n\u001B[0;32m     70\u001B[0m         \u001B[1;32mif\u001B[0m \u001B[0msource_data\u001B[0m \u001B[1;33m==\u001B[0m \u001B[1;34m'correlation_matrix'\u001B[0m\u001B[1;33m:\u001B[0m\u001B[1;33m\u001B[0m\u001B[1;33m\u001B[0m\u001B[0m\n\u001B[0;32m     71\u001B[0m             \u001B[1;31m# Add nodes (components) and edges ( correlation)\u001B[0m\u001B[1;33m\u001B[0m\u001B[1;33m\u001B[0m\u001B[0m\n\u001B[1;32m---> 72\u001B[1;33m             \u001B[1;32mfor\u001B[0m \u001B[0mcomponent\u001B[0m\u001B[1;33m,\u001B[0m \u001B[0mcorrelation\u001B[0m \u001B[1;32min\u001B[0m \u001B[0mself\u001B[0m\u001B[1;33m.\u001B[0m\u001B[0mget_correlated_components\u001B[0m\u001B[1;33m(\u001B[0m\u001B[1;34m'linear'\u001B[0m\u001B[1;33m,\u001B[0m \u001B[0mlower_threshold\u001B[0m\u001B[1;33m,\u001B[0m\u001B[0mupper_threshold\u001B[0m\u001B[1;33m)\u001B[0m\u001B[1;33m.\u001B[0m\u001B[0mitems\u001B[0m\u001B[1;33m(\u001B[0m\u001B[1;33m)\u001B[0m\u001B[1;33m:\u001B[0m\u001B[1;33m\u001B[0m\u001B[1;33m\u001B[0m\u001B[0m\n\u001B[0m\u001B[0;32m     73\u001B[0m                 \u001B[0mG\u001B[0m\u001B[1;33m.\u001B[0m\u001B[0madd_node\u001B[0m\u001B[1;33m(\u001B[0m\u001B[0mcomponent\u001B[0m\u001B[1;33m,\u001B[0m \u001B[0mcorrelation_strength\u001B[0m\u001B[1;33m=\u001B[0m\u001B[0mcorrelation\u001B[0m\u001B[1;33m)\u001B[0m\u001B[1;33m\u001B[0m\u001B[1;33m\u001B[0m\u001B[0m\n\u001B[0;32m     74\u001B[0m                 \u001B[0mG\u001B[0m\u001B[1;33m.\u001B[0m\u001B[0madd_edge\u001B[0m\u001B[1;33m(\u001B[0m\u001B[0mself\u001B[0m\u001B[1;33m.\u001B[0m\u001B[0mname\u001B[0m\u001B[1;33m,\u001B[0m \u001B[0mcomponent\u001B[0m\u001B[1;33m,\u001B[0m \u001B[0mweight\u001B[0m\u001B[1;33m=\u001B[0m \u001B[0mcorrelation\u001B[0m\u001B[1;33m)\u001B[0m\u001B[1;33m\u001B[0m\u001B[1;33m\u001B[0m\u001B[0m\n",
      "\u001B[1;32m~\\AppData\\Local\\Temp\\ipykernel_7652\\1298460120.py\u001B[0m in \u001B[0;36mget_correlated_components\u001B[1;34m(self, source_data, lower_threshold, upper_threshold)\u001B[0m\n\u001B[0;32m     25\u001B[0m         \u001B[1;32mif\u001B[0m \u001B[0msource_data\u001B[0m \u001B[1;33m==\u001B[0m \u001B[1;34m'linear'\u001B[0m\u001B[1;33m:\u001B[0m\u001B[1;33m\u001B[0m\u001B[1;33m\u001B[0m\u001B[0m\n\u001B[0;32m     26\u001B[0m             \u001B[1;32mfor\u001B[0m \u001B[0mcomponent\u001B[0m\u001B[1;33m,\u001B[0m \u001B[0mcorrelation\u001B[0m \u001B[1;32min\u001B[0m \u001B[0mself\u001B[0m\u001B[1;33m.\u001B[0m\u001B[0mcorrelation_dict\u001B[0m\u001B[1;33m.\u001B[0m\u001B[0mitems\u001B[0m\u001B[1;33m(\u001B[0m\u001B[1;33m)\u001B[0m\u001B[1;33m:\u001B[0m\u001B[1;33m\u001B[0m\u001B[1;33m\u001B[0m\u001B[0m\n\u001B[1;32m---> 27\u001B[1;33m                 \u001B[1;32mif\u001B[0m \u001B[0mcomponent\u001B[0m \u001B[1;33m!=\u001B[0m \u001B[0mself\u001B[0m\u001B[1;33m.\u001B[0m\u001B[0mname\u001B[0m \u001B[1;32mand\u001B[0m  \u001B[0mlower_threshold\u001B[0m \u001B[1;33m<=\u001B[0m \u001B[0mabs\u001B[0m\u001B[1;33m(\u001B[0m\u001B[0mcorrelation\u001B[0m\u001B[1;33m)\u001B[0m \u001B[1;33m<=\u001B[0m \u001B[0mupper_threshold\u001B[0m\u001B[1;33m:\u001B[0m\u001B[1;33m\u001B[0m\u001B[1;33m\u001B[0m\u001B[0m\n\u001B[0m\u001B[0;32m     28\u001B[0m                     \u001B[0mcorrelated_components\u001B[0m\u001B[1;33m[\u001B[0m\u001B[0mcomponent\u001B[0m\u001B[1;33m]\u001B[0m \u001B[1;33m=\u001B[0m \u001B[0mcorrelation\u001B[0m\u001B[1;33m\u001B[0m\u001B[1;33m\u001B[0m\u001B[0m\n\u001B[0;32m     29\u001B[0m             \u001B[1;32mreturn\u001B[0m \u001B[0mcorrelated_components\u001B[0m\u001B[1;33m\u001B[0m\u001B[1;33m\u001B[0m\u001B[0m\n",
      "\u001B[1;31mTypeError\u001B[0m: bad operand type for abs(): 'str'"
     ]
    }
   ],
   "source": [
    "specific_component.plot_network('correlation_matrix', 0.6, 1, nx.circular_layout )"
   ],
   "metadata": {
    "collapsed": false,
    "ExecuteTime": {
     "end_time": "2024-08-31T22:55:14.352746700Z",
     "start_time": "2024-08-31T22:55:14.274580600Z"
    }
   }
  },
  {
   "cell_type": "code",
   "execution_count": 132,
   "outputs": [
    {
     "ename": "TypeError",
     "evalue": "bad operand type for abs(): 'str'",
     "output_type": "error",
     "traceback": [
      "\u001B[1;31m---------------------------------------------------------------------------\u001B[0m",
      "\u001B[1;31mTypeError\u001B[0m                                 Traceback (most recent call last)",
      "\u001B[1;32m~\\AppData\\Local\\Temp\\ipykernel_7652\\3686247163.py\u001B[0m in \u001B[0;36m<module>\u001B[1;34m\u001B[0m\n\u001B[1;32m----> 1\u001B[1;33m \u001B[0mspecific_component\u001B[0m\u001B[1;33m.\u001B[0m\u001B[0mplot_network\u001B[0m\u001B[1;33m(\u001B[0m\u001B[1;34m'non_lin_correlation'\u001B[0m\u001B[1;33m,\u001B[0m \u001B[1;36m0.6\u001B[0m\u001B[1;33m,\u001B[0m \u001B[1;36m1\u001B[0m\u001B[1;33m,\u001B[0m \u001B[0mnx\u001B[0m\u001B[1;33m.\u001B[0m\u001B[0mcircular_layout\u001B[0m \u001B[1;33m)\u001B[0m\u001B[1;33m\u001B[0m\u001B[1;33m\u001B[0m\u001B[0m\n\u001B[0m",
      "\u001B[1;32m~\\AppData\\Local\\Temp\\ipykernel_7652\\1298460120.py\u001B[0m in \u001B[0;36mplot_network\u001B[1;34m(self, source_data, lower_threshold, upper_threshold, layout)\u001B[0m\n\u001B[0;32m     87\u001B[0m         \u001B[1;32mif\u001B[0m \u001B[0msource_data\u001B[0m \u001B[1;33m==\u001B[0m \u001B[1;34m'non_lin_correlation'\u001B[0m\u001B[1;33m:\u001B[0m\u001B[1;33m\u001B[0m\u001B[1;33m\u001B[0m\u001B[0m\n\u001B[0;32m     88\u001B[0m             \u001B[1;31m# Add nodes (components) and edges ( correlation)\u001B[0m\u001B[1;33m\u001B[0m\u001B[1;33m\u001B[0m\u001B[0m\n\u001B[1;32m---> 89\u001B[1;33m             \u001B[1;32mfor\u001B[0m \u001B[0mcomponent\u001B[0m\u001B[1;33m,\u001B[0m \u001B[0mcorrelation\u001B[0m \u001B[1;32min\u001B[0m \u001B[0mself\u001B[0m\u001B[1;33m.\u001B[0m\u001B[0mget_correlated_components\u001B[0m\u001B[1;33m(\u001B[0m\u001B[1;34m'non_linear'\u001B[0m\u001B[1;33m,\u001B[0m \u001B[0mlower_threshold\u001B[0m\u001B[1;33m,\u001B[0m\u001B[0mupper_threshold\u001B[0m\u001B[1;33m)\u001B[0m\u001B[1;33m.\u001B[0m\u001B[0mitems\u001B[0m\u001B[1;33m(\u001B[0m\u001B[1;33m)\u001B[0m\u001B[1;33m:\u001B[0m\u001B[1;33m\u001B[0m\u001B[1;33m\u001B[0m\u001B[0m\n\u001B[0m\u001B[0;32m     90\u001B[0m                 \u001B[0mG\u001B[0m\u001B[1;33m.\u001B[0m\u001B[0madd_node\u001B[0m\u001B[1;33m(\u001B[0m\u001B[0mcomponent\u001B[0m\u001B[1;33m,\u001B[0m \u001B[0mcorrelation_strength\u001B[0m\u001B[1;33m=\u001B[0m\u001B[0mcorrelation\u001B[0m\u001B[1;33m)\u001B[0m\u001B[1;33m\u001B[0m\u001B[1;33m\u001B[0m\u001B[0m\n\u001B[0;32m     91\u001B[0m                 \u001B[0mG\u001B[0m\u001B[1;33m.\u001B[0m\u001B[0madd_edge\u001B[0m\u001B[1;33m(\u001B[0m\u001B[0mself\u001B[0m\u001B[1;33m.\u001B[0m\u001B[0mname\u001B[0m\u001B[1;33m,\u001B[0m \u001B[0mcomponent\u001B[0m\u001B[1;33m,\u001B[0m \u001B[0mweight\u001B[0m\u001B[1;33m=\u001B[0m \u001B[0mcorrelation\u001B[0m\u001B[1;33m)\u001B[0m\u001B[1;33m\u001B[0m\u001B[1;33m\u001B[0m\u001B[0m\n",
      "\u001B[1;32m~\\AppData\\Local\\Temp\\ipykernel_7652\\1298460120.py\u001B[0m in \u001B[0;36mget_correlated_components\u001B[1;34m(self, source_data, lower_threshold, upper_threshold)\u001B[0m\n\u001B[0;32m     32\u001B[0m             \u001B[0mcorrelated_components\u001B[0m \u001B[1;33m=\u001B[0m \u001B[1;33m{\u001B[0m\u001B[1;33m}\u001B[0m\u001B[1;33m\u001B[0m\u001B[1;33m\u001B[0m\u001B[0m\n\u001B[0;32m     33\u001B[0m             \u001B[1;32mfor\u001B[0m \u001B[0mcomponent\u001B[0m\u001B[1;33m,\u001B[0m \u001B[0mcorrelation\u001B[0m \u001B[1;32min\u001B[0m \u001B[0mself\u001B[0m\u001B[1;33m.\u001B[0m\u001B[0mnon_lin_correlation_dict\u001B[0m\u001B[1;33m.\u001B[0m\u001B[0mitems\u001B[0m\u001B[1;33m(\u001B[0m\u001B[1;33m)\u001B[0m\u001B[1;33m:\u001B[0m\u001B[1;33m\u001B[0m\u001B[1;33m\u001B[0m\u001B[0m\n\u001B[1;32m---> 34\u001B[1;33m                 \u001B[1;32mif\u001B[0m \u001B[0mcomponent\u001B[0m \u001B[1;33m!=\u001B[0m \u001B[0mself\u001B[0m\u001B[1;33m.\u001B[0m\u001B[0mname\u001B[0m \u001B[1;32mand\u001B[0m  \u001B[0mlower_threshold\u001B[0m \u001B[1;33m<=\u001B[0m \u001B[0mabs\u001B[0m\u001B[1;33m(\u001B[0m\u001B[0mcorrelation\u001B[0m\u001B[1;33m)\u001B[0m \u001B[1;33m<=\u001B[0m \u001B[0mupper_threshold\u001B[0m\u001B[1;33m:\u001B[0m\u001B[1;33m\u001B[0m\u001B[1;33m\u001B[0m\u001B[0m\n\u001B[0m\u001B[0;32m     35\u001B[0m                     \u001B[0mcorrelated_components\u001B[0m\u001B[1;33m[\u001B[0m\u001B[0mcomponent\u001B[0m\u001B[1;33m]\u001B[0m \u001B[1;33m=\u001B[0m \u001B[0mcorrelation\u001B[0m\u001B[1;33m\u001B[0m\u001B[1;33m\u001B[0m\u001B[0m\n\u001B[0;32m     36\u001B[0m             \u001B[1;32mreturn\u001B[0m \u001B[0mcorrelated_components\u001B[0m\u001B[1;33m\u001B[0m\u001B[1;33m\u001B[0m\u001B[0m\n",
      "\u001B[1;31mTypeError\u001B[0m: bad operand type for abs(): 'str'"
     ]
    }
   ],
   "source": [
    "specific_component.plot_network('non_lin_correlation', 0.6, 1, nx.circular_layout )"
   ],
   "metadata": {
    "collapsed": false,
    "ExecuteTime": {
     "end_time": "2024-08-31T23:07:28.248704500Z",
     "start_time": "2024-08-31T23:07:28.186242700Z"
    }
   }
  },
  {
   "cell_type": "markdown",
   "source": [],
   "metadata": {
    "collapsed": false
   }
  },
  {
   "cell_type": "code",
   "execution_count": 104,
   "outputs": [],
   "source": [
    "# Add type of correlation to each matrix\n",
    "correlation_matrix['Correlation Type'] = 'Pearson'\n",
    "non_lin_correlation_matrix['Correlation Type'] = 'Spearman'\n",
    "\n",
    "# jsut use spearman for now\n",
    "#mutual_info_matrix['Correlation Type'] = 'Mutal_Info'"
   ],
   "metadata": {
    "collapsed": false,
    "ExecuteTime": {
     "end_time": "2024-08-31T22:55:17.780362900Z",
     "start_time": "2024-08-31T22:55:17.764730700Z"
    }
   }
  },
  {
   "cell_type": "code",
   "execution_count": 105,
   "outputs": [],
   "source": [
    "# Concatenate two correlation matrices vertically\n",
    "#merged_correlation_matrix = pd.concat([correlation_matrix, non_lin_correlation_matrix, mutual_info_matrix])\n",
    "#merged_correlation_matrix = pd.concat([correlation_matrix, non_lin_correlation_matrix])\n",
    "# Display the merged correlation matrix\n",
    "#print(merged_correlation_matrix)"
   ],
   "metadata": {
    "collapsed": false,
    "ExecuteTime": {
     "end_time": "2024-08-31T22:55:18.193616400Z",
     "start_time": "2024-08-31T22:55:18.162326400Z"
    }
   }
  },
  {
   "cell_type": "code",
   "execution_count": 106,
   "outputs": [
    {
     "name": "stdout",
     "output_type": "stream",
     "text": [
      "FIT101   -0.6478\n",
      "LIT101       1.0\n",
      "MV101    -0.6527\n",
      "P101     -0.6587\n",
      "AIT201    0.0044\n",
      "Name: LIT101, dtype: object\n"
     ]
    }
   ],
   "source": [
    "# Get rows for the component named \"LIT101\" from the merged correlation matrix\n",
    "rows_for_LIT101 = correlation_matrix.loc[\"LIT101\"]\n",
    "\n",
    "# Display the rows for LIT101\n",
    "print(rows_for_LIT101.head())"
   ],
   "metadata": {
    "collapsed": false,
    "ExecuteTime": {
     "end_time": "2024-08-31T22:55:18.510084100Z",
     "start_time": "2024-08-31T22:55:18.478902200Z"
    }
   }
  },
  {
   "cell_type": "code",
   "execution_count": 107,
   "outputs": [
    {
     "data": {
      "text/plain": "{'FIT101': -0.6478,\n 'MV101': -0.6527,\n 'P101': -0.6587,\n 'AIT201': 0.0044,\n 'AIT202': 0.2195,\n 'AIT203': -0.138,\n 'FIT201': -0.6668,\n 'MV201': -0.6591,\n 'P203': -0.6671,\n 'P205': -0.4893,\n 'DPIT301': -0.1531,\n 'FIT301': -0.1511,\n 'LIT301': 0.1817,\n 'MV301': -0.0416,\n 'MV302': -0.145,\n 'MV303': -0.0873,\n 'MV304': -0.0131,\n 'P301': -0.1572,\n 'P302': -0.1078,\n 'AIT401': 0.0811,\n 'AIT402': -0.1662,\n 'FIT401': 0.1771,\n 'LIT401': -0.1631,\n 'P402': 0.1787,\n 'UV401': 0.179,\n 'AIT501': 0.2652,\n 'AIT502': -0.1781,\n 'AIT503': -0.0538,\n 'AIT504': -0.1803,\n 'FIT501': 0.177,\n 'FIT502': 0.1726,\n 'FIT503': 0.18,\n 'FIT504': 0.1875,\n 'P501': 0.1818,\n 'PIT501': 0.166,\n 'PIT502': -0.0271,\n 'PIT503': 0.162,\n 'FIT601': -0.0676,\n 'P602': -0.0648,\n 'Correlation Type': 'Pearson'}"
     },
     "execution_count": 107,
     "metadata": {},
     "output_type": "execute_result"
    }
   ],
   "source": [
    "specific_component.correlation_dict"
   ],
   "metadata": {
    "collapsed": false,
    "ExecuteTime": {
     "end_time": "2024-08-31T22:55:19.112554200Z",
     "start_time": "2024-08-31T22:55:19.065611300Z"
    }
   }
  },
  {
   "cell_type": "code",
   "execution_count": 108,
   "outputs": [
    {
     "data": {
      "text/plain": "{'FIT101': -0.488,\n 'MV101': -0.6239,\n 'P101': -0.641,\n 'AIT201': -0.0061,\n 'AIT202': 0.5272,\n 'AIT203': -0.3624,\n 'FIT201': -0.389,\n 'MV201': -0.6422,\n 'P203': -0.6471,\n 'P205': -0.4798,\n 'DPIT301': -0.127,\n 'FIT301': -0.0678,\n 'LIT301': 0.1962,\n 'MV301': -0.0255,\n 'MV302': -0.1913,\n 'MV303': -0.0958,\n 'MV304': -0.0431,\n 'P301': -0.1039,\n 'P302': -0.1747,\n 'AIT401': 0.0019,\n 'AIT402': -0.1206,\n 'FIT401': 0.0257,\n 'LIT401': -0.3085,\n 'P402': 0.0939,\n 'UV401': 0.0942,\n 'AIT501': 0.0753,\n 'AIT502': -0.1471,\n 'AIT503': -0.0059,\n 'AIT504': 0.0333,\n 'FIT501': 0.0256,\n 'FIT502': 0.0261,\n 'FIT503': -0.0241,\n 'FIT504': 0.012,\n 'P501': 0.0965,\n 'PIT501': -0.0423,\n 'PIT502': -0.0622,\n 'PIT503': -0.0426,\n 'FIT601': -0.0517,\n 'P602': -0.099,\n 'Correlation Type': 'Spearman'}"
     },
     "execution_count": 108,
     "metadata": {},
     "output_type": "execute_result"
    }
   ],
   "source": [
    "specific_component.non_lin_correlation_dict"
   ],
   "metadata": {
    "collapsed": false,
    "ExecuteTime": {
     "end_time": "2024-08-31T22:55:19.481284200Z",
     "start_time": "2024-08-31T22:55:19.450023700Z"
    }
   }
  },
  {
   "cell_type": "code",
   "execution_count": 109,
   "outputs": [
    {
     "data": {
      "text/plain": "        FIT101  LIT101   MV101    P101  AIT201  AIT202  AIT203  FIT201  \\\nFIT101  1.0000 -0.6478  0.9805  0.2205 -0.0021 -0.0864  0.0320  0.2267   \nLIT101 -0.6478  1.0000 -0.6527 -0.6587  0.0044  0.2195 -0.1380 -0.6668   \nMV101   0.9805 -0.6527  1.0000  0.2337 -0.0020 -0.0899  0.0338  0.2399   \nP101    0.2205 -0.6587  0.2337  1.0000  0.0016 -0.3130  0.1253  0.9949   \nAIT201 -0.0021  0.0044 -0.0020  0.0016  1.0000 -0.1015 -0.3301  0.0026   \n\n         MV201    P203  ...  FIT502  FIT503  FIT504    P501  PIT501  PIT502  \\\nFIT101  0.2223  0.2287  ...  0.0269  0.0155  0.0048  0.0155  0.0266  0.0542   \nLIT101 -0.6591 -0.6671  ...  0.1726  0.1800  0.1875  0.1818  0.1660 -0.0271   \nMV101   0.2356  0.2419  ...  0.0263  0.0152  0.0044  0.0152  0.0264  0.0537   \nP101    0.9940  0.9956  ...  0.0484  0.0404  0.0340  0.0410  0.0452  0.0508   \nAIT201 -0.0013  0.0010  ...  0.1223  0.0583  0.0597  0.0837  0.0383 -0.1904   \n\n        PIT503  FIT601    P602  Correlation Type  \nFIT101  0.0284  0.0589  0.0565           Pearson  \nLIT101  0.1620 -0.0676 -0.0648           Pearson  \nMV101   0.0282  0.0593  0.0569           Pearson  \nP101    0.0454  0.0492  0.0494           Pearson  \nAIT201  0.0234 -0.0000  0.0003           Pearson  \n\n[5 rows x 41 columns]",
      "text/html": "<div>\n<style scoped>\n    .dataframe tbody tr th:only-of-type {\n        vertical-align: middle;\n    }\n\n    .dataframe tbody tr th {\n        vertical-align: top;\n    }\n\n    .dataframe thead th {\n        text-align: right;\n    }\n</style>\n<table border=\"1\" class=\"dataframe\">\n  <thead>\n    <tr style=\"text-align: right;\">\n      <th></th>\n      <th>FIT101</th>\n      <th>LIT101</th>\n      <th>MV101</th>\n      <th>P101</th>\n      <th>AIT201</th>\n      <th>AIT202</th>\n      <th>AIT203</th>\n      <th>FIT201</th>\n      <th>MV201</th>\n      <th>P203</th>\n      <th>...</th>\n      <th>FIT502</th>\n      <th>FIT503</th>\n      <th>FIT504</th>\n      <th>P501</th>\n      <th>PIT501</th>\n      <th>PIT502</th>\n      <th>PIT503</th>\n      <th>FIT601</th>\n      <th>P602</th>\n      <th>Correlation Type</th>\n    </tr>\n  </thead>\n  <tbody>\n    <tr>\n      <th>FIT101</th>\n      <td>1.0000</td>\n      <td>-0.6478</td>\n      <td>0.9805</td>\n      <td>0.2205</td>\n      <td>-0.0021</td>\n      <td>-0.0864</td>\n      <td>0.0320</td>\n      <td>0.2267</td>\n      <td>0.2223</td>\n      <td>0.2287</td>\n      <td>...</td>\n      <td>0.0269</td>\n      <td>0.0155</td>\n      <td>0.0048</td>\n      <td>0.0155</td>\n      <td>0.0266</td>\n      <td>0.0542</td>\n      <td>0.0284</td>\n      <td>0.0589</td>\n      <td>0.0565</td>\n      <td>Pearson</td>\n    </tr>\n    <tr>\n      <th>LIT101</th>\n      <td>-0.6478</td>\n      <td>1.0000</td>\n      <td>-0.6527</td>\n      <td>-0.6587</td>\n      <td>0.0044</td>\n      <td>0.2195</td>\n      <td>-0.1380</td>\n      <td>-0.6668</td>\n      <td>-0.6591</td>\n      <td>-0.6671</td>\n      <td>...</td>\n      <td>0.1726</td>\n      <td>0.1800</td>\n      <td>0.1875</td>\n      <td>0.1818</td>\n      <td>0.1660</td>\n      <td>-0.0271</td>\n      <td>0.1620</td>\n      <td>-0.0676</td>\n      <td>-0.0648</td>\n      <td>Pearson</td>\n    </tr>\n    <tr>\n      <th>MV101</th>\n      <td>0.9805</td>\n      <td>-0.6527</td>\n      <td>1.0000</td>\n      <td>0.2337</td>\n      <td>-0.0020</td>\n      <td>-0.0899</td>\n      <td>0.0338</td>\n      <td>0.2399</td>\n      <td>0.2356</td>\n      <td>0.2419</td>\n      <td>...</td>\n      <td>0.0263</td>\n      <td>0.0152</td>\n      <td>0.0044</td>\n      <td>0.0152</td>\n      <td>0.0264</td>\n      <td>0.0537</td>\n      <td>0.0282</td>\n      <td>0.0593</td>\n      <td>0.0569</td>\n      <td>Pearson</td>\n    </tr>\n    <tr>\n      <th>P101</th>\n      <td>0.2205</td>\n      <td>-0.6587</td>\n      <td>0.2337</td>\n      <td>1.0000</td>\n      <td>0.0016</td>\n      <td>-0.3130</td>\n      <td>0.1253</td>\n      <td>0.9949</td>\n      <td>0.9940</td>\n      <td>0.9956</td>\n      <td>...</td>\n      <td>0.0484</td>\n      <td>0.0404</td>\n      <td>0.0340</td>\n      <td>0.0410</td>\n      <td>0.0452</td>\n      <td>0.0508</td>\n      <td>0.0454</td>\n      <td>0.0492</td>\n      <td>0.0494</td>\n      <td>Pearson</td>\n    </tr>\n    <tr>\n      <th>AIT201</th>\n      <td>-0.0021</td>\n      <td>0.0044</td>\n      <td>-0.0020</td>\n      <td>0.0016</td>\n      <td>1.0000</td>\n      <td>-0.1015</td>\n      <td>-0.3301</td>\n      <td>0.0026</td>\n      <td>-0.0013</td>\n      <td>0.0010</td>\n      <td>...</td>\n      <td>0.1223</td>\n      <td>0.0583</td>\n      <td>0.0597</td>\n      <td>0.0837</td>\n      <td>0.0383</td>\n      <td>-0.1904</td>\n      <td>0.0234</td>\n      <td>-0.0000</td>\n      <td>0.0003</td>\n      <td>Pearson</td>\n    </tr>\n  </tbody>\n</table>\n<p>5 rows × 41 columns</p>\n</div>"
     },
     "execution_count": 109,
     "metadata": {},
     "output_type": "execute_result"
    }
   ],
   "source": [
    "correlation_matrix.head()"
   ],
   "metadata": {
    "collapsed": false,
    "ExecuteTime": {
     "end_time": "2024-08-31T22:55:20.087117600Z",
     "start_time": "2024-08-31T22:55:20.055871Z"
    }
   }
  },
  {
   "cell_type": "code",
   "execution_count": 110,
   "outputs": [
    {
     "ename": "TypeError",
     "evalue": "bad operand type for abs(): 'str'",
     "output_type": "error",
     "traceback": [
      "\u001B[1;31m---------------------------------------------------------------------------\u001B[0m",
      "\u001B[1;31mTypeError\u001B[0m                                 Traceback (most recent call last)",
      "\u001B[1;32m~\\AppData\\Local\\Temp\\ipykernel_7652\\1615191341.py\u001B[0m in \u001B[0;36m<module>\u001B[1;34m\u001B[0m\n\u001B[1;32m----> 1\u001B[1;33m \u001B[0mspecific_component\u001B[0m\u001B[1;33m.\u001B[0m\u001B[0mplot_comparison_network\u001B[0m\u001B[1;33m(\u001B[0m\u001B[1;36m.5\u001B[0m\u001B[1;33m,\u001B[0m \u001B[1;36m1\u001B[0m\u001B[1;33m,\u001B[0m \u001B[0mnx\u001B[0m\u001B[1;33m.\u001B[0m\u001B[0mcircular_layout\u001B[0m \u001B[1;33m)\u001B[0m\u001B[1;33m\u001B[0m\u001B[1;33m\u001B[0m\u001B[0m\n\u001B[0m",
      "\u001B[1;32m~\\AppData\\Local\\Temp\\ipykernel_7652\\1298460120.py\u001B[0m in \u001B[0;36mplot_comparison_network\u001B[1;34m(self, lower_threshold, upper_threshold, layout)\u001B[0m\n\u001B[0;32m    123\u001B[0m         \u001B[1;31m# Add nodes and edges for linear correlation\u001B[0m\u001B[1;33m\u001B[0m\u001B[1;33m\u001B[0m\u001B[0m\n\u001B[0;32m    124\u001B[0m         \u001B[1;32mfor\u001B[0m \u001B[0mcomponent\u001B[0m\u001B[1;33m,\u001B[0m \u001B[0mcorrelation\u001B[0m \u001B[1;32min\u001B[0m \u001B[0mself\u001B[0m\u001B[1;33m.\u001B[0m\u001B[0mcorrelation_dict\u001B[0m\u001B[1;33m.\u001B[0m\u001B[0mitems\u001B[0m\u001B[1;33m(\u001B[0m\u001B[1;33m)\u001B[0m\u001B[1;33m:\u001B[0m\u001B[1;33m\u001B[0m\u001B[1;33m\u001B[0m\u001B[0m\n\u001B[1;32m--> 125\u001B[1;33m             \u001B[1;32mif\u001B[0m \u001B[0mlower_threshold\u001B[0m \u001B[1;33m<=\u001B[0m \u001B[0mabs\u001B[0m\u001B[1;33m(\u001B[0m\u001B[0mcorrelation\u001B[0m\u001B[1;33m)\u001B[0m \u001B[1;33m<=\u001B[0m \u001B[0mupper_threshold\u001B[0m \u001B[1;32mor\u001B[0m \u001B[0mabs\u001B[0m\u001B[1;33m(\u001B[0m\u001B[0mself\u001B[0m\u001B[1;33m.\u001B[0m\u001B[0mnon_lin_correlation_dict\u001B[0m\u001B[1;33m.\u001B[0m\u001B[0mget\u001B[0m\u001B[1;33m(\u001B[0m\u001B[0mcomponent\u001B[0m\u001B[1;33m,\u001B[0m \u001B[1;36m0\u001B[0m\u001B[1;33m)\u001B[0m\u001B[1;33m)\u001B[0m \u001B[1;33m>\u001B[0m \u001B[0mlower_threshold\u001B[0m\u001B[1;33m:\u001B[0m\u001B[1;33m\u001B[0m\u001B[1;33m\u001B[0m\u001B[0m\n\u001B[0m\u001B[0;32m    126\u001B[0m                 \u001B[0mG\u001B[0m\u001B[1;33m.\u001B[0m\u001B[0madd_node\u001B[0m\u001B[1;33m(\u001B[0m\u001B[0mcomponent\u001B[0m\u001B[1;33m,\u001B[0m \u001B[0mcorrelation_strength\u001B[0m\u001B[1;33m=\u001B[0m\u001B[0mcorrelation\u001B[0m\u001B[1;33m)\u001B[0m\u001B[1;33m\u001B[0m\u001B[1;33m\u001B[0m\u001B[0m\n\u001B[0;32m    127\u001B[0m                 \u001B[0mG\u001B[0m\u001B[1;33m.\u001B[0m\u001B[0madd_edge\u001B[0m\u001B[1;33m(\u001B[0m\u001B[0mself\u001B[0m\u001B[1;33m.\u001B[0m\u001B[0mname\u001B[0m\u001B[1;33m,\u001B[0m \u001B[0mcomponent\u001B[0m\u001B[1;33m,\u001B[0m \u001B[0mweight\u001B[0m\u001B[1;33m=\u001B[0m\u001B[0mcorrelation\u001B[0m\u001B[1;33m,\u001B[0m \u001B[0mcorrelation_type\u001B[0m\u001B[1;33m=\u001B[0m\u001B[1;34m'Linear'\u001B[0m\u001B[1;33m)\u001B[0m\u001B[1;33m\u001B[0m\u001B[1;33m\u001B[0m\u001B[0m\n",
      "\u001B[1;31mTypeError\u001B[0m: bad operand type for abs(): 'str'"
     ]
    }
   ],
   "source": [
    "specific_component.plot_comparison_network(.5, 1, nx.circular_layout )"
   ],
   "metadata": {
    "collapsed": false,
    "ExecuteTime": {
     "end_time": "2024-08-31T22:55:20.886872600Z",
     "start_time": "2024-08-31T22:55:20.871239100Z"
    }
   }
  },
  {
   "cell_type": "code",
   "execution_count": 111,
   "outputs": [
    {
     "data": {
      "text/plain": "__main__.Component"
     },
     "execution_count": 111,
     "metadata": {},
     "output_type": "execute_result"
    }
   ],
   "source": [
    "type(specific_component)"
   ],
   "metadata": {
    "collapsed": false,
    "ExecuteTime": {
     "end_time": "2024-08-31T22:55:22.899094100Z",
     "start_time": "2024-08-31T22:55:22.883464200Z"
    }
   }
  },
  {
   "cell_type": "code",
   "execution_count": 111,
   "outputs": [],
   "source": [],
   "metadata": {
    "collapsed": false,
    "ExecuteTime": {
     "end_time": "2024-08-31T22:55:34.555978400Z",
     "start_time": "2024-08-31T22:55:34.524676800Z"
    }
   }
  },
  {
   "cell_type": "code",
   "execution_count": 111,
   "outputs": [],
   "source": [],
   "metadata": {
    "collapsed": false,
    "ExecuteTime": {
     "end_time": "2024-08-31T22:55:35.866515700Z",
     "start_time": "2024-08-31T22:55:35.850813300Z"
    }
   }
  },
  {
   "cell_type": "code",
   "execution_count": 111,
   "outputs": [],
   "source": [],
   "metadata": {
    "collapsed": false,
    "ExecuteTime": {
     "end_time": "2024-08-31T22:55:36.600104600Z",
     "start_time": "2024-08-31T22:55:36.568773500Z"
    }
   }
  },
  {
   "cell_type": "code",
   "execution_count": 111,
   "outputs": [],
   "source": [],
   "metadata": {
    "collapsed": false,
    "ExecuteTime": {
     "end_time": "2024-08-31T22:55:36.904865100Z",
     "start_time": "2024-08-31T22:55:36.887315Z"
    }
   }
  },
  {
   "cell_type": "code",
   "execution_count": 112,
   "outputs": [
    {
     "data": {
      "text/plain": "FIT101              -0.6478\nLIT101                  1.0\nMV101               -0.6527\nP101                -0.6587\nAIT201               0.0044\nAIT202               0.2195\nAIT203               -0.138\nFIT201              -0.6668\nMV201               -0.6591\nP203                -0.6671\nP205                -0.4893\nDPIT301             -0.1531\nFIT301              -0.1511\nLIT301               0.1817\nMV301               -0.0416\nMV302                -0.145\nMV303               -0.0873\nMV304               -0.0131\nP301                -0.1572\nP302                -0.1078\nAIT401               0.0811\nAIT402              -0.1662\nFIT401               0.1771\nLIT401              -0.1631\nP402                 0.1787\nUV401                 0.179\nAIT501               0.2652\nAIT502              -0.1781\nAIT503              -0.0538\nAIT504              -0.1803\nFIT501                0.177\nFIT502               0.1726\nFIT503                 0.18\nFIT504               0.1875\nP501                 0.1818\nPIT501                0.166\nPIT502              -0.0271\nPIT503                0.162\nFIT601              -0.0676\nP602                -0.0648\nCorrelation Type    Pearson\nName: LIT101, dtype: object"
     },
     "metadata": {},
     "output_type": "display_data"
    }
   ],
   "source": [
    "display(rows_for_LIT101)"
   ],
   "metadata": {
    "collapsed": false,
    "ExecuteTime": {
     "end_time": "2024-08-31T22:55:37.177602900Z",
     "start_time": "2024-08-31T22:55:37.161968500Z"
    }
   }
  },
  {
   "cell_type": "code",
   "execution_count": null,
   "outputs": [],
   "source": [],
   "metadata": {
    "collapsed": false
   }
  },
  {
   "cell_type": "markdown",
   "source": [
    "# Create masks for Spearman and Mutual Information correlations higher than Pearson"
   ],
   "metadata": {
    "collapsed": false
   }
  },
  {
   "cell_type": "code",
   "execution_count": 113,
   "outputs": [
    {
     "ename": "NameError",
     "evalue": "name 'mutual_info_matrix' is not defined",
     "output_type": "error",
     "traceback": [
      "\u001B[1;31m---------------------------------------------------------------------------\u001B[0m",
      "\u001B[1;31mNameError\u001B[0m                                 Traceback (most recent call last)",
      "\u001B[1;32m~\\AppData\\Local\\Temp\\ipykernel_7652\\2786719287.py\u001B[0m in \u001B[0;36m<module>\u001B[1;34m\u001B[0m\n\u001B[0;32m      1\u001B[0m \u001B[1;31m# Create masks for Spearman and Mutual Information correlations higher than Pearson\u001B[0m\u001B[1;33m\u001B[0m\u001B[1;33m\u001B[0m\u001B[0m\n\u001B[0;32m      2\u001B[0m \u001B[0mspearman_higher_mask\u001B[0m \u001B[1;33m=\u001B[0m \u001B[0mnon_lin_correlation_matrix\u001B[0m \u001B[1;33m>\u001B[0m \u001B[0mcorrelation_matrix\u001B[0m\u001B[1;33m\u001B[0m\u001B[1;33m\u001B[0m\u001B[0m\n\u001B[1;32m----> 3\u001B[1;33m \u001B[0mmutual_info_higher_mask\u001B[0m \u001B[1;33m=\u001B[0m \u001B[0mmutual_info_matrix\u001B[0m \u001B[1;33m>\u001B[0m \u001B[0mcorrelation_matrix\u001B[0m\u001B[1;33m\u001B[0m\u001B[1;33m\u001B[0m\u001B[0m\n\u001B[0m\u001B[0;32m      4\u001B[0m \u001B[1;33m\u001B[0m\u001B[0m\n\u001B[0;32m      5\u001B[0m \u001B[1;31m# Extract values where Spearman correlation is higher than Pearson\u001B[0m\u001B[1;33m\u001B[0m\u001B[1;33m\u001B[0m\u001B[0m\n",
      "\u001B[1;31mNameError\u001B[0m: name 'mutual_info_matrix' is not defined"
     ]
    }
   ],
   "source": [
    "# Create masks for Spearman and Mutual Information correlations higher than Pearson\n",
    "spearman_higher_mask = non_lin_correlation_matrix > correlation_matrix\n",
    "mutual_info_higher_mask = mutual_info_matrix > correlation_matrix\n",
    "\n",
    "# Extract values where Spearman correlation is higher than Pearson\n",
    "spearman_higher_values = non_lin_correlation_matrix[spearman_higher_mask]\n",
    "\n",
    "# Extract values where Mutual Information correlation is higher than Pearson\n",
    "mutual_info_higher_values = mutual_info_matrix[mutual_info_higher_mask]\n",
    "\n",
    "# Combine the extracted values\n",
    "higher_values = pd.concat([spearman_higher_values, mutual_info_higher_values])\n",
    "\n",
    "# Plot the higher values\n",
    "plt.figure(figsize=(10, 6))\n",
    "sns.barplot(x=higher_values.index, y=higher_values.values, palette='coolwarm')\n",
    "plt.title('Values where Spearman or Mutual Info are higher than Pearson')\n",
    "plt.xlabel('Component Pair')\n",
    "plt.ylabel('Correlation Value')\n",
    "plt.xticks(rotation=90)\n",
    "plt.tight_layout()\n",
    "plt.show()\n"
   ],
   "metadata": {
    "collapsed": false,
    "ExecuteTime": {
     "end_time": "2024-08-31T22:55:37.823888400Z",
     "start_time": "2024-08-31T22:55:37.761273700Z"
    }
   }
  },
  {
   "cell_type": "markdown",
   "source": [
    "# Original Section"
   ],
   "metadata": {
    "collapsed": false
   }
  },
  {
   "cell_type": "markdown",
   "source": [
    "Get distributions for each variable. Get range, divide into 100 bins then count variables ineach. Visualise in plot"
   ],
   "metadata": {
    "collapsed": false
   }
  },
  {
   "cell_type": "code",
   "execution_count": 114,
   "outputs": [],
   "source": [
    "# make new df to hold variable distributions\n",
    "df_distributions = pd.DataFrame()"
   ],
   "metadata": {
    "collapsed": false,
    "ExecuteTime": {
     "end_time": "2024-08-31T22:55:39.562784600Z",
     "start_time": "2024-08-31T22:55:39.539111600Z"
    }
   }
  },
  {
   "cell_type": "markdown",
   "source": [
    "Sample df as 10 second mean for all values so df is 10% of original to east manipulation"
   ],
   "metadata": {
    "collapsed": false
   }
  },
  {
   "cell_type": "code",
   "execution_count": 115,
   "outputs": [],
   "source": [
    "def plotBinCounts(name, bin_counts, bin_edges):\n",
    "    '''\n",
    "    Function to plot the distribution of bin counts.\n",
    "    Parameters:\n",
    "    - bin_counts: a pandas Series containing the counts of values in each bin.\n",
    "    - bin_edges: an array containing the bin edges.\n",
    "    '''\n",
    "\n",
    "    # Set the size of the plot\n",
    "    plt.figure(figsize=(10,6))\n",
    "\n",
    "    # Plot the bin counts\n",
    "    bin_counts.plot(kind='bar', logy=True)\n",
    "\n",
    "    # Set the title and labels\n",
    "    plt.title(f'Distribution of {name}')\n",
    "    plt.ylabel('Counts')\n",
    "\n",
    "    # Calculate total range and step size for approximately 10 divisions\n",
    "    total_range = bin_edges[-1] - bin_edges[0]\n",
    "    step_size = total_range / 10\n",
    "\n",
    "    # Round step size to a whole number (e.g., 10, 20, etc.) that makes sense for your data\n",
    "    rounded_step_size = round(step_size / 10) * 10\n",
    "\n",
    "    # Generate custom tick positions and labels\n",
    "    tick_positions = np.arange(0, len(bin_edges) - 1, rounded_step_size / (bin_edges[1] - bin_edges[0]))\n",
    "    tick_labels = [f\"{bin_edges[int(pos)]:.0f}\" for pos in tick_positions]\n",
    "\n",
    "    # Set x-ticks to represent the overall value range of the bins\n",
    "    plt.xticks(ticks=tick_positions,\n",
    "               labels=tick_labels,\n",
    "               rotation=45)  # Rotate labels for better readability\n",
    "\n",
    "    # Optional: Set x-axis label\n",
    "    plt.xlabel('Value Range')\n",
    "\n",
    "    # Show the plot\n",
    "    plt.show()\n",
    "\n",
    "# Example usage:\n",
    "# Assuming bin_counts and bins are obtained from the getDistribution function\n",
    "# plotBinCounts(bin_counts, bins)\n"
   ],
   "metadata": {
    "collapsed": false,
    "ExecuteTime": {
     "end_time": "2024-08-31T22:55:40.494078Z",
     "start_time": "2024-08-31T22:55:40.477973400Z"
    }
   }
  },
  {
   "cell_type": "code",
   "execution_count": 116,
   "outputs": [],
   "source": [
    "# function to get distribution\n",
    "def getDistribution(variable_col):\n",
    "    '''\n",
    "    Function to get distribution of values in variable column.\n",
    "    Returns\n",
    "    '''\n",
    "    #get variable min and max values and calculate range\n",
    "\n",
    "    var_range = df[variable_col].max() - df[variable_col].min()\n",
    "\n",
    "    print(f'Var Range:  {var_range}')\n",
    "\n",
    "    # divide into 100 bins\n",
    "    bin_size = var_range/100\n",
    "\n",
    "    # Create bins edges from min to max with using bin_size'\n",
    "    bins = np.arange(df[variable_col].min(), df[variable_col].max() + bin_size, bin_size)\n",
    "\n",
    "    # Use pd.cut to segment and sort the data values into bins\n",
    "    df_distributions[variable_col + '_bins'] = pd.cut(df[variable_col], bins=bins, include_lowest=True)\n",
    "\n",
    "    # Count the number of values in each bin\n",
    "    bin_counts = df_distributions[variable_col + '_bins'].value_counts().sort_index()\n",
    "\n",
    "    # call sisualisation function\n",
    "    plotBinCounts(variable_col, bin_counts, bins)\n",
    "\n",
    "    # return bin_counts, bins"
   ],
   "metadata": {
    "collapsed": false,
    "ExecuteTime": {
     "end_time": "2024-08-31T22:55:41.140383300Z",
     "start_time": "2024-08-31T22:55:41.109071400Z"
    }
   }
  },
  {
   "cell_type": "code",
   "execution_count": 85,
   "outputs": [
    {
     "name": "stdout",
     "output_type": "stream",
     "text": [
      "Var Range:  696.22615\n"
     ]
    },
    {
     "data": {
      "text/plain": "<Figure size 1000x600 with 1 Axes>",
      "image/png": "[encoded data removed]"
     },
     "metadata": {},
     "output_type": "display_data"
    }
   ],
   "source": [
    "# test with FIT101\n",
    "#lit101_dist, bins = getDistribution('LIT101')\n",
    "#plotBinCounts(lit101_dist, bins)\n",
    "\n",
    "getDistribution('LIT101')"
   ],
   "metadata": {
    "collapsed": false,
    "ExecuteTime": {
     "end_time": "2024-08-31T22:21:01.503504Z",
     "start_time": "2024-08-31T22:21:01.075746300Z"
    }
   }
  },
  {
   "cell_type": "markdown",
   "source": [
    "1,FIT-101,Sensor,Flow meter; Measures inflow into raw water tank.\n",
    "2,LIT-101,Sensor,Level Transmitter; Raw water tank level.\n",
    "3,MV-101,Actuator,Motorized valve; Controls water flow to the raw water tank."
   ],
   "metadata": {
    "collapsed": false
   }
  },
  {
   "cell_type": "code",
   "execution_count": null,
   "outputs": [],
   "source": [
    "getDistribution('MV101')"
   ],
   "metadata": {
    "collapsed": false
   }
  },
  {
   "cell_type": "code",
   "execution_count": null,
   "outputs": [],
   "source": [
    "getDistribution('FIT101')"
   ],
   "metadata": {
    "collapsed": false
   }
  },
  {
   "cell_type": "code",
   "execution_count": null,
   "outputs": [],
   "source": [
    "getDistribution('P101')"
   ],
   "metadata": {
    "collapsed": false
   }
  },
  {
   "cell_type": "code",
   "execution_count": null,
   "outputs": [],
   "source": [],
   "metadata": {
    "collapsed": false
   }
  }
 ],
 "metadata": {
  "kernelspec": {
   "display_name": "Python 3",
   "language": "python",
   "name": "python3"
  },
  "language_info": {
   "codemirror_mode": {
    "name": "ipython",
    "version": 2
   },
   "file_extension": ".py",
   "mimetype": "text/x-python",
   "name": "python",
   "nbconvert_exporter": "python",
   "pygments_lexer": "ipython2",
   "version": "2.7.6"
  }
 },
 "nbformat": 4,
 "nbformat_minor": 0
}
