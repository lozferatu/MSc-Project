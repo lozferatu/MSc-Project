{
 "cells": [
  {
   "cell_type": "code",
   "execution_count": 17,
   "metadata": {
    "collapsed": true,
    "ExecuteTime": {
     "end_time": "2024-08-23T14:08:00.434506700Z",
     "start_time": "2024-08-23T14:07:59.924916300Z"
    }
   },
   "outputs": [],
   "source": [
    "import pandas as pd\n",
    "import numpy as np\n",
    "\n",
    "import matplotlib.pyplot as plt\n",
    "import scipy.stats as stats\n",
    "import statsmodels.api as sm\n",
    "\n",
    "# for type hinting\n",
    "from typing import List\n",
    "\n",
    "# for pearson corr coef and p values\n",
    "from scipy.stats import pearsonr\n",
    "\n",
    "# For plotting relationships\n",
    "import networkx as nx\n",
    "import matplotlib.pyplot as plt\n",
    "from matplotlib.patches import FancyArrowPatch, ArrowStyle\n",
    "from matplotlib.text import Annotation\n",
    "import seaborn as sns\n",
    "\n",
    "# for non linear coefficients\n",
    "from scipy.stats import spearmanr\n",
    "from scipy.spatial.distance import squareform, pdist\n",
    "from sklearn.feature_selection import mutual_info_regression"
   ]
  },
  {
   "cell_type": "code",
   "execution_count": 18,
   "outputs": [],
   "source": [
    "# for cuda core use but not installing......\n",
    "#import cupy as cp"
   ],
   "metadata": {
    "collapsed": false,
    "ExecuteTime": {
     "end_time": "2024-08-23T14:08:00.670548Z",
     "start_time": "2024-08-23T14:07:59.930418200Z"
    }
   }
  },
  {
   "cell_type": "code",
   "execution_count": 19,
   "outputs": [
    {
     "name": "stderr",
     "output_type": "stream",
     "text": [
      "<>:2: SyntaxWarning: invalid escape sequence '\\G'\n",
      "<>:2: SyntaxWarning: invalid escape sequence '\\G'\n",
      "C:\\Users\\loz\\AppData\\Local\\Temp\\ipykernel_21700\\3603742050.py:2: SyntaxWarning: invalid escape sequence '\\G'\n",
      "  df = pd.read_excel('D:\\GitHub\\MSc-Project-March\\SWaT_DataSWaT_2015_12_22_10sec.xlsx', engine=\"openpyxl\")\n"
     ]
    }
   ],
   "source": [
    "# Load data from CSV\n",
    "df = pd.read_excel('D:\\GitHub\\MSc-Project-March\\SWaT_DataSWaT_2015_12_22_10sec.xlsx', engine=\"openpyxl\")\n"
   ],
   "metadata": {
    "collapsed": false,
    "ExecuteTime": {
     "end_time": "2024-08-23T14:08:20.607073100Z",
     "start_time": "2024-08-23T14:07:59.940419500Z"
    }
   }
  },
  {
   "cell_type": "code",
   "execution_count": 20,
   "outputs": [
    {
     "data": {
      "text/plain": "            Timestamp  FIT101     LIT101  MV101  P101    AIT201    AIT202  \\\n0 2015-12-22 16:30:00     0.0  123.97593    1.0   1.0  251.9226  8.313061   \n1 2015-12-22 16:30:10     0.0  124.40769    1.0   1.0  251.9226  8.308960   \n2 2015-12-22 16:30:20     0.0  123.90527    1.0   1.0  251.9226  8.310979   \n3 2015-12-22 16:30:30     0.0  123.90134    1.0   1.0  251.9226  8.312612   \n4 2015-12-22 16:30:40     0.0  124.85909    1.0   1.0  251.9226  8.308191   \n\n      AIT203  FIT201  MV201  ...    FIT501    FIT502    FIT503  FIT504  P501  \\\n0  312.79160     0.0    1.0  ...  0.001538  0.001409  0.001664     0.0   1.0   \n1  312.90185     0.0    1.0  ...  0.001538  0.001409  0.001664     0.0   1.0   \n2  312.80442     0.0    1.0  ...  0.001538  0.001409  0.001664     0.0   1.0   \n3  312.91980     0.0    1.0  ...  0.001538  0.001409  0.001664     0.0   1.0   \n4  313.00950     0.0    1.0  ...  0.001538  0.001409  0.001664     0.0   1.0   \n\n     PIT501  PIT502  PIT503    FIT601  P602  \n0  9.100231     0.0  3.3485  0.000256   1.0  \n1  9.100231     0.0  3.3485  0.000256   1.0  \n2  9.100231     0.0  3.3485  0.000256   1.0  \n3  9.037747     0.0  3.3485  0.000256   1.0  \n4  9.068188     0.0  3.3485  0.000256   1.0  \n\n[5 rows x 41 columns]",
      "text/html": "<div>\n<style scoped>\n    .dataframe tbody tr th:only-of-type {\n        vertical-align: middle;\n    }\n\n    .dataframe tbody tr th {\n        vertical-align: top;\n    }\n\n    .dataframe thead th {\n        text-align: right;\n    }\n</style>\n<table border=\"1\" class=\"dataframe\">\n  <thead>\n    <tr style=\"text-align: right;\">\n      <th></th>\n      <th>Timestamp</th>\n      <th>FIT101</th>\n      <th>LIT101</th>\n      <th>MV101</th>\n      <th>P101</th>\n      <th>AIT201</th>\n      <th>AIT202</th>\n      <th>AIT203</th>\n      <th>FIT201</th>\n      <th>MV201</th>\n      <th>...</th>\n      <th>FIT501</th>\n      <th>FIT502</th>\n      <th>FIT503</th>\n      <th>FIT504</th>\n      <th>P501</th>\n      <th>PIT501</th>\n      <th>PIT502</th>\n      <th>PIT503</th>\n      <th>FIT601</th>\n      <th>P602</th>\n    </tr>\n  </thead>\n  <tbody>\n    <tr>\n      <th>0</th>\n      <td>2015-12-22 16:30:00</td>\n      <td>0.0</td>\n      <td>123.97593</td>\n      <td>1.0</td>\n      <td>1.0</td>\n      <td>251.9226</td>\n      <td>8.313061</td>\n      <td>312.79160</td>\n      <td>0.0</td>\n      <td>1.0</td>\n      <td>...</td>\n      <td>0.001538</td>\n      <td>0.001409</td>\n      <td>0.001664</td>\n      <td>0.0</td>\n      <td>1.0</td>\n      <td>9.100231</td>\n      <td>0.0</td>\n      <td>3.3485</td>\n      <td>0.000256</td>\n      <td>1.0</td>\n    </tr>\n    <tr>\n      <th>1</th>\n      <td>2015-12-22 16:30:10</td>\n      <td>0.0</td>\n      <td>124.40769</td>\n      <td>1.0</td>\n      <td>1.0</td>\n      <td>251.9226</td>\n      <td>8.308960</td>\n      <td>312.90185</td>\n      <td>0.0</td>\n      <td>1.0</td>\n      <td>...</td>\n      <td>0.001538</td>\n      <td>0.001409</td>\n      <td>0.001664</td>\n      <td>0.0</td>\n      <td>1.0</td>\n      <td>9.100231</td>\n      <td>0.0</td>\n      <td>3.3485</td>\n      <td>0.000256</td>\n      <td>1.0</td>\n    </tr>\n    <tr>\n      <th>2</th>\n      <td>2015-12-22 16:30:20</td>\n      <td>0.0</td>\n      <td>123.90527</td>\n      <td>1.0</td>\n      <td>1.0</td>\n      <td>251.9226</td>\n      <td>8.310979</td>\n      <td>312.80442</td>\n      <td>0.0</td>\n      <td>1.0</td>\n      <td>...</td>\n      <td>0.001538</td>\n      <td>0.001409</td>\n      <td>0.001664</td>\n      <td>0.0</td>\n      <td>1.0</td>\n      <td>9.100231</td>\n      <td>0.0</td>\n      <td>3.3485</td>\n      <td>0.000256</td>\n      <td>1.0</td>\n    </tr>\n    <tr>\n      <th>3</th>\n      <td>2015-12-22 16:30:30</td>\n      <td>0.0</td>\n      <td>123.90134</td>\n      <td>1.0</td>\n      <td>1.0</td>\n      <td>251.9226</td>\n      <td>8.312612</td>\n      <td>312.91980</td>\n      <td>0.0</td>\n      <td>1.0</td>\n      <td>...</td>\n      <td>0.001538</td>\n      <td>0.001409</td>\n      <td>0.001664</td>\n      <td>0.0</td>\n      <td>1.0</td>\n      <td>9.037747</td>\n      <td>0.0</td>\n      <td>3.3485</td>\n      <td>0.000256</td>\n      <td>1.0</td>\n    </tr>\n    <tr>\n      <th>4</th>\n      <td>2015-12-22 16:30:40</td>\n      <td>0.0</td>\n      <td>124.85909</td>\n      <td>1.0</td>\n      <td>1.0</td>\n      <td>251.9226</td>\n      <td>8.308191</td>\n      <td>313.00950</td>\n      <td>0.0</td>\n      <td>1.0</td>\n      <td>...</td>\n      <td>0.001538</td>\n      <td>0.001409</td>\n      <td>0.001664</td>\n      <td>0.0</td>\n      <td>1.0</td>\n      <td>9.068188</td>\n      <td>0.0</td>\n      <td>3.3485</td>\n      <td>0.000256</td>\n      <td>1.0</td>\n    </tr>\n  </tbody>\n</table>\n<p>5 rows × 41 columns</p>\n</div>"
     },
     "execution_count": 20,
     "metadata": {},
     "output_type": "execute_result"
    }
   ],
   "source": [
    "df.head()"
   ],
   "metadata": {
    "collapsed": false,
    "ExecuteTime": {
     "end_time": "2024-08-23T14:08:20.624575600Z",
     "start_time": "2024-08-23T14:08:20.607572700Z"
    }
   }
  },
  {
   "cell_type": "markdown",
   "source": [
    "See range of values in each column so allow filtering of unchanging values before correlation matrix."
   ],
   "metadata": {
    "collapsed": false
   }
  },
  {
   "cell_type": "code",
   "execution_count": 21,
   "outputs": [],
   "source": [
    "# Get columns\n",
    "#column_names = df.columns\n",
    "#rint(column_names)"
   ],
   "metadata": {
    "collapsed": false,
    "ExecuteTime": {
     "end_time": "2024-08-23T14:08:20.634077700Z",
     "start_time": "2024-08-23T14:08:20.628075800Z"
    }
   }
  },
  {
   "cell_type": "markdown",
   "source": [
    "def drop_static_columns(df: pd.DataFrame) -> (pd.DataFrame, List[str]):\n",
    "    \"\"\"\n",
    "    Find columns in the DataFrame where all values are the same (static columns).\n",
    "\n",
    "    Parameters:\n",
    "        df (DataFrame): All values from SWaT .\n",
    "\n",
    "    Returns:\n",
    "        df (DataFrame): Columns from SWaT which have more than 1 value.\n",
    "\n",
    "    Example:\n",
    "        df = pd.DataFrame({'LIT101': [1.111, 2.222, 3.333], 'P101': [1, 1, 0], 'P102': [1, 1, 1]})\n",
    "        static_cols = get_static_columns(df, ['A', 'B', 'C'])\n",
    "        # static_cols will be ['P102'] since all values are 1.\n",
    "    \"\"\"\n",
    "    column_names = df.columns\n",
    "    static_columns = []\n",
    "    for column in column_names:\n",
    "        if df[column].min() == df[column].max():\n",
    "            static_columns.append(column)\n",
    "\n",
    "    df_cleaned = df.drop(columns= static_columns)\n",
    "    return df_cleaned, static_columns\n"
   ],
   "metadata": {
    "collapsed": false
   }
  },
  {
   "cell_type": "markdown",
   "source": [
    "df_cleaned, dropped_columns = drop_static_columns(df)\n",
    "print(dropped_columns)\n",
    "# drop time and date\n",
    "df_cleaned = df_cleaned.drop(columns= ['date', 'time'])\n",
    "print(df_cleaned.columns)"
   ],
   "metadata": {
    "collapsed": false
   }
  },
  {
   "cell_type": "markdown",
   "source": [
    "Styler might be worth it for formatting tables"
   ],
   "metadata": {
    "collapsed": false
   }
  },
  {
   "cell_type": "code",
   "execution_count": 22,
   "outputs": [],
   "source": [
    "#help(Styler)"
   ],
   "metadata": {
    "collapsed": false,
    "ExecuteTime": {
     "end_time": "2024-08-23T14:08:20.681085400Z",
     "start_time": "2024-08-23T14:08:20.636077600Z"
    }
   }
  },
  {
   "cell_type": "code",
   "execution_count": 22,
   "outputs": [],
   "source": [],
   "metadata": {
    "collapsed": false,
    "ExecuteTime": {
     "end_time": "2024-08-23T14:08:20.681085400Z",
     "start_time": "2024-08-23T14:08:20.647079800Z"
    }
   }
  },
  {
   "cell_type": "code",
   "execution_count": 23,
   "outputs": [],
   "source": [
    "# Display correlation matrix and p-values\n",
    "#print(\"Correlation Matrix:\")\n",
    "#display(correlation_matrix_styled)\n",
    "#print(\"\\nP-values:\")\n",
    "#display(p_values_styled)"
   ],
   "metadata": {
    "collapsed": false,
    "ExecuteTime": {
     "end_time": "2024-08-23T14:08:20.681585900Z",
     "start_time": "2024-08-23T14:08:20.652580300Z"
    }
   }
  },
  {
   "cell_type": "markdown",
   "source": [
    "Use a class to hold knowledge about each component which can be updated throughout pipeline. Can include functions which return top antecendent/ dependent modules etc."
   ],
   "metadata": {
    "collapsed": false
   }
  },
  {
   "cell_type": "code",
   "execution_count": 24,
   "outputs": [],
   "source": [
    "# class to act as knowledge object for each component in the system\n",
    "class Component:\n",
    "    def __init__(self, name, list_position, correlation_dict= None, p_value_dict= None, non_lin_correlation_dict= None, non_lin_p_value_dict = None ):\n",
    "        self.name = name\n",
    "        # position in results list\n",
    "        self.list_position = list_position\n",
    "\n",
    "        # empty dict for results from EDA for components relationship to all other components\n",
    "        self.correlation_dict = correlation_dict if correlation_dict is not None else {}\n",
    "        self.p_value_dict = p_value_dict if p_value_dict is not None else {}\n",
    "        self.non_lin_correlation_dict = non_lin_correlation_dict if non_lin_correlation_dict is not None else {}\n",
    "        self.non_lin_p_value_dict = non_lin_p_value_dict if p_value_dict is not None else {}\n",
    "\n",
    "    def get_correlated_components(self, source_data= 'linear', lower_threshold= 0, upper_threshold= 1):\n",
    "        \"\"\"\n",
    "        Returns correlations, takes optional min threshold argument (default is 1 for all values).\n",
    "\n",
    "        Parameters:\n",
    "        - threshold: The minimum correlation value.\n",
    "\n",
    "        Returns:\n",
    "        - A dictionary containing component names as keys and correlation values as values.\n",
    "        \"\"\"\n",
    "        correlated_components = {}\n",
    "        if source_data == 'linear':\n",
    "            for component, correlation in self.correlation_dict.items():\n",
    "                if component != self.name and  lower_threshold <= abs(correlation) <= upper_threshold:\n",
    "                    correlated_components[component] = correlation\n",
    "            return correlated_components\n",
    "\n",
    "        if source_data == 'non_linear':\n",
    "            correlated_components = {}\n",
    "            for component, correlation in self.non_lin_correlation_dict.items():\n",
    "                if component != self.name and  lower_threshold <= abs(correlation) <= upper_threshold:\n",
    "                    correlated_components[component] = correlation\n",
    "            return correlated_components\n",
    "\n",
    "    def get_correlated_components_p_value(self, source_data= 'linear', lower_threshold= 0, upper_threshold= 0.05):\n",
    "        \"\"\"\n",
    "        Returns correlated components by p-value, takes optional max threshold argument (default is 1 for all values).\n",
    "\n",
    "        Parameters:\n",
    "        - threshold: The minimum correlation value.\n",
    "\n",
    "        Returns:\n",
    "        - A dictionary containing component names as keys and p values as values.\n",
    "        \"\"\"\n",
    "        correlated_components_p_value = {}\n",
    "\n",
    "        if source_data == 'linear':\n",
    "            for component, p_value in self.p_value_dict.items():\n",
    "                if component != self.name and  lower_threshold <= p_value <= upper_threshold:\n",
    "                    correlated_components_p_value[component] = p_value\n",
    "            return correlated_components_p_value\n",
    "\n",
    "        if source_data == 'non_linear':\n",
    "            for component, p_value in self.non_lin_p_value_dict.items():\n",
    "                if component != self.name and  lower_threshold <= p_value <= upper_threshold:\n",
    "                    correlated_components_p_value[component] = p_value\n",
    "            return correlated_components_p_value\n",
    "\n",
    "\n",
    "    def plot_network(self, source_data= 'correlation_matrix',lower_threshold= 0.5, upper_threshold= 1, layout= nx.spring_layout ):\n",
    "        \"\"\"\n",
    "        Plot a network of components linked by correlation strength above a certain threshold.\n",
    "        \"\"\"\n",
    "        # Create a graph\n",
    "        G = nx.Graph()\n",
    "\n",
    "        if source_data == 'correlation_matrix':\n",
    "            # Add nodes (components) and edges ( correlation)\n",
    "            for component, correlation in self.get_correlated_components('linear', lower_threshold,upper_threshold).items():\n",
    "                G.add_node(component, correlation_strength=correlation)\n",
    "                G.add_edge(self.name, component, weight= correlation)\n",
    "            # Set title\n",
    "            plt.title(f\"Network of Components Linked by Correlation Strength (upper_threshold: {upper_threshold}, lower_threshold: {lower_threshold})\")\n",
    "\n",
    "        elif source_data == 'correlation_p_value':\n",
    "            # Add nodes (components) and edges ( correlation)\n",
    "            for component, p_value in self.get_correlated_components_p_value('linear', lower_threshold, upper_threshold).items():\n",
    "                G.add_node(component, correlation_strength= p_value)\n",
    "                G.add_edge(self.name, component, weight= p_value)\n",
    "\n",
    "            # Set title\n",
    "            plt.title(f\"Network of Components Linked by P Value (upper_threshold: {upper_threshold}, lower_threshold: {lower_threshold})\")\n",
    "\n",
    "        if source_data == 'non_lin_correlation':\n",
    "            # Add nodes (components) and edges ( correlation)\n",
    "            for component, correlation in self.get_correlated_components('non_linear', lower_threshold,upper_threshold).items():\n",
    "                G.add_node(component, correlation_strength=correlation)\n",
    "                G.add_edge(self.name, component, weight= correlation)\n",
    "            # Set title\n",
    "            plt.title(f\"Network of Components Linked by Non Linear Correlation Strength (upper_threshold: {upper_threshold}, lower_threshold: {lower_threshold})\")\n",
    "\n",
    "        elif source_data == 'non_lin_correlation_p_value':\n",
    "            # Add nodes (components) and edges ( correlation)\n",
    "            for component, p_value in self.get_correlated_components_p_value('non_linear', lower_threshold,upper_threshold).items():\n",
    "                G.add_node(component, correlation_strength= p_value)\n",
    "                G.add_edge(self.name, component, weight= p_value)\n",
    "            # Set title\n",
    "            plt.title(f\"Network of Components Linked by Non Linear P Value (upper_threshold: {upper_threshold}, lower_threshold: {lower_threshold})\")\n",
    "\n",
    "\n",
    "\n",
    "        # Draw the graph\n",
    "        pos = layout(G)  # Use layout argument if passed\n",
    "        nx.draw(G, pos, with_labels=True, node_size=500, node_color='skyblue', font_size=10, font_weight='bold')\n",
    "        edge_labels = nx.get_edge_attributes(G, 'weight')\n",
    "        nx.draw_networkx_edge_labels(G, pos, edge_labels=edge_labels)\n",
    "\n",
    "        # Show the plot\n",
    "        plt.show()\n",
    "\n",
    "\n",
    "    def plot_comparison_network(self, lower_threshold=0.5, upper_threshold=1, layout=nx.spring_layout):\n",
    "        \"\"\"\n",
    "        Plot a network of components linked by correlation strength above a certain threshold,\n",
    "        showing an edge if either linear or non-linear correlation is above the minimum threshold,\n",
    "        and differentiating between correlations with curved edges. Labels are offset to reduce overlap.\n",
    "        \"\"\"\n",
    "        G = nx.MultiDiGraph()\n",
    "\n",
    "        # Add nodes and edges for linear correlation\n",
    "        for component, correlation in self.correlation_dict.items():\n",
    "            if lower_threshold <= abs(correlation) <= upper_threshold or abs(self.non_lin_correlation_dict.get(component, 0)) > lower_threshold:\n",
    "                G.add_node(component, correlation_strength=correlation)\n",
    "                G.add_edge(self.name, component, weight=correlation, correlation_type='Linear')\n",
    "\n",
    "        # Add nodes and edges for non-linear correlation\n",
    "        for component, correlation in self.non_lin_correlation_dict.items():\n",
    "            if lower_threshold <= abs(correlation) <= upper_threshold or abs(self.correlation_dict.get(component, 0)) > lower_threshold:\n",
    "                G.add_node(component, correlation_strength=correlation)\n",
    "                G.add_edge(self.name, component, weight=correlation, correlation_type='Non-linear')\n",
    "\n",
    "        plt.figure(figsize=(10, 10))\n",
    "        pos = layout(G)\n",
    "\n",
    "        # Draw nodes and labels\n",
    "        nx.draw_networkx_nodes(G, pos, node_size=700, node_color=\"skyblue\", alpha=0.6)\n",
    "        nx.draw_networkx_labels(G, pos, font_weight=\"bold\")\n",
    "\n",
    "        # Function to draw edges with FancyArrowPatch and labels with offset\n",
    "        def draw_edges_with_arrows_and_labels():\n",
    "            for (u, v, attribs) in G.edges(data=True):\n",
    "                edge_type = attribs['correlation_type']\n",
    "                weight = attribs['weight']\n",
    "                color = 'red' if edge_type == 'Non-linear' else 'blue'\n",
    "                style = 'dashed' if edge_type == 'Non-linear' else 'solid'\n",
    "                rad = 0.1 if edge_type == 'Non-linear' else -0.1\n",
    "\n",
    "                arrow = FancyArrowPatch(pos[u], pos[v], arrowstyle='-|>', color=color,\n",
    "                                        linestyle=style, connectionstyle=f'arc3,rad={rad}', linewidth=2, alpha=0.5)\n",
    "                plt.gca().add_patch(arrow)\n",
    "\n",
    "                # Calculate label position with offset\n",
    "                label_x = (pos[u][0] + pos[v][0]) / 2\n",
    "                label_y = (pos[u][1] + pos[v][1]) / 2 + (0.1 if edge_type == 'Non-linear' else -0.1)\n",
    "\n",
    "                plt.text(label_x, label_y, f'{weight:.2f}', color='black', fontsize=10,\n",
    "                         ha='center', va='center', bbox=dict(facecolor='white', alpha=0.5, edgecolor='none'))\n",
    "\n",
    "        draw_edges_with_arrows_and_labels()\n",
    "\n",
    "        plt.axis('off')\n",
    "        plt.title(\"Network of Components Linked by Correlation Strength\")\n",
    "        plt.show()\n",
    "\n",
    "\n",
    "\n",
    "\n"
   ],
   "metadata": {
    "collapsed": false,
    "ExecuteTime": {
     "end_time": "2024-08-23T14:08:20.748097700Z",
     "start_time": "2024-08-23T14:08:20.706590200Z"
    }
   }
  },
  {
   "cell_type": "code",
   "execution_count": 25,
   "outputs": [],
   "source": [
    "# iterate through every column and create object of component class\n",
    "# dictionary for all components\n",
    "components = {}\n",
    "for n, component in enumerate(df.columns):\n",
    "    # print(n, component)\n",
    "    components[component] = Component(name= component, list_position= n)\n"
   ],
   "metadata": {
    "collapsed": false,
    "ExecuteTime": {
     "end_time": "2024-08-23T14:08:20.783603600Z",
     "start_time": "2024-08-23T14:08:20.710591400Z"
    }
   }
  },
  {
   "cell_type": "code",
   "execution_count": 26,
   "outputs": [],
   "source": [
    "#components.items()"
   ],
   "metadata": {
    "collapsed": false,
    "ExecuteTime": {
     "end_time": "2024-08-23T14:08:20.784603900Z",
     "start_time": "2024-08-23T14:08:20.721592400Z"
    }
   }
  },
  {
   "cell_type": "markdown",
   "source": [
    "### Calculate the linear (Pearson) correlation matrix"
   ],
   "metadata": {
    "collapsed": false
   }
  },
  {
   "cell_type": "code",
   "execution_count": 27,
   "outputs": [],
   "source": [
    "df = df.set_index('Timestamp')"
   ],
   "metadata": {
    "collapsed": false,
    "ExecuteTime": {
     "end_time": "2024-08-23T14:08:20.784603900Z",
     "start_time": "2024-08-23T14:08:20.731094500Z"
    }
   }
  },
  {
   "cell_type": "code",
   "execution_count": 28,
   "outputs": [
    {
     "data": {
      "text/plain": "Index(['FIT101', 'LIT101', 'MV101', 'P101', 'AIT201', 'AIT202', 'AIT203',\n       'FIT201', 'MV201', 'P203', 'P205', 'DPIT301', 'FIT301', 'LIT301',\n       'MV301', 'MV302', 'MV303', 'MV304', 'P301', 'P302', 'AIT401', 'AIT402',\n       'FIT401', 'LIT401', 'P402', 'UV401', 'AIT501', 'AIT502', 'AIT503',\n       'AIT504', 'FIT501', 'FIT502', 'FIT503', 'FIT504', 'P501', 'PIT501',\n       'PIT502', 'PIT503', 'FIT601', 'P602'],\n      dtype='object')"
     },
     "execution_count": 28,
     "metadata": {},
     "output_type": "execute_result"
    }
   ],
   "source": [
    "df.columns"
   ],
   "metadata": {
    "collapsed": false,
    "ExecuteTime": {
     "end_time": "2024-08-23T14:08:20.797605900Z",
     "start_time": "2024-08-23T14:08:20.747097400Z"
    }
   }
  },
  {
   "cell_type": "code",
   "execution_count": 29,
   "outputs": [],
   "source": [
    "#non_lin_correlation_dict"
   ],
   "metadata": {
    "collapsed": false,
    "ExecuteTime": {
     "end_time": "2024-08-23T14:08:20.798106Z",
     "start_time": "2024-08-23T14:08:20.755599200Z"
    }
   }
  },
  {
   "cell_type": "markdown",
   "source": [],
   "metadata": {
    "collapsed": false
   }
  },
  {
   "cell_type": "code",
   "execution_count": 30,
   "outputs": [],
   "source": [
    "# Calculate the linear correlation matrix\n",
    "correlation_matrix = df.corr().round(decimals= 4)\n",
    "\n",
    "# DataFrame to store p-values with rows and cols being column names\n",
    "p_values = pd.DataFrame(index=df.columns, columns=df.columns)\n",
    "\n",
    "# Calculate p-values\n",
    "# for every column\n",
    "for col1 in df.columns:\n",
    "    # calculate values with everyother column\n",
    "    for col2 in df.columns:\n",
    "        correlation_coefficient, p_value = pearsonr(df[col1], df[col2])\n",
    "        # Save values to corresponding location in p_values df, rounded to 4.d.p\n",
    "        p_values.loc[col1, col2] = round(p_value, 4)\n",
    "\n",
    "# Apply a color gradient to the correlation matrix and display it\n",
    "correlation_matrix_styled  = correlation_matrix.style.background_gradient(cmap='coolwarm').format(precision= 2)\n",
    "p_values_styled  = p_values.style.background_gradient(cmap='coolwarm').format(precision= 2)\n",
    "\n"
   ],
   "metadata": {
    "collapsed": false,
    "ExecuteTime": {
     "end_time": "2024-08-23T14:08:23.029500500Z",
     "start_time": "2024-08-23T14:08:20.764100700Z"
    }
   }
  },
  {
   "cell_type": "code",
   "execution_count": 31,
   "outputs": [],
   "source": [
    "#index_values = correlation_matrix.index.values\n",
    "#print(index_values)"
   ],
   "metadata": {
    "collapsed": false,
    "ExecuteTime": {
     "end_time": "2024-08-23T14:08:23.030000400Z",
     "start_time": "2024-08-23T14:08:23.026999700Z"
    }
   }
  },
  {
   "cell_type": "code",
   "execution_count": 32,
   "outputs": [],
   "source": [
    "specific_component = components['LIT101']\n",
    "#specific_component.correlation_list\n",
    "#specific_component.correlation_dict"
   ],
   "metadata": {
    "collapsed": false,
    "ExecuteTime": {
     "end_time": "2024-08-23T14:08:23.046003Z",
     "start_time": "2024-08-23T14:08:23.030000400Z"
    }
   }
  },
  {
   "cell_type": "code",
   "execution_count": 33,
   "outputs": [],
   "source": [
    "#specific_component.get_correlated_components(0.2,1)"
   ],
   "metadata": {
    "collapsed": false,
    "ExecuteTime": {
     "end_time": "2024-08-23T14:08:23.049503500Z",
     "start_time": "2024-08-23T14:08:23.041003Z"
    }
   }
  },
  {
   "cell_type": "markdown",
   "source": [
    "### Calculate the correlation matrix using Spearman's rank correlation"
   ],
   "metadata": {
    "collapsed": false
   }
  },
  {
   "cell_type": "code",
   "execution_count": 34,
   "outputs": [],
   "source": [
    "# Calculate the correlation matrix using Spearman's rank correlation\n",
    "non_lin_correlation_matrix = df.corr(method='spearman').round(decimals=4)\n",
    "\n",
    "# DataFrame to store p-values with rows and cols being column names\n",
    "non_lin_p_values = pd.DataFrame(index=df.columns, columns=df.columns)\n",
    "\n",
    "# Calculate p-values\n",
    "# for every column\n",
    "for col1 in df.columns:\n",
    "    # calculate values with every other column\n",
    "    for col2 in df.columns:\n",
    "        correlation_coefficient, p_value = spearmanr(df[col1], df[col2])\n",
    "        # Save values to corresponding location in p_values df, rounded to 4.d.p\n",
    "        non_lin_p_values.loc[col1, col2] = round(p_value, 4)\n",
    "\n",
    "# Apply a color gradient to the correlation matrix and display it\n",
    "non_lin_correlation_matrix_styled = non_lin_correlation_matrix.style.background_gradient(cmap='coolwarm').format(precision=2)\n",
    "non_lin_p_values_styled = non_lin_p_values.style.background_gradient(cmap='coolwarm').format(precision=2)\n"
   ],
   "metadata": {
    "collapsed": false,
    "ExecuteTime": {
     "end_time": "2024-08-23T14:08:33.514854100Z",
     "start_time": "2024-08-23T14:08:23.052504300Z"
    }
   }
  },
  {
   "cell_type": "code",
   "execution_count": 35,
   "outputs": [
    {
     "data": {
      "text/plain": "pandas.core.frame.DataFrame"
     },
     "execution_count": 35,
     "metadata": {},
     "output_type": "execute_result"
    }
   ],
   "source": [
    "type(non_lin_correlation_matrix)"
   ],
   "metadata": {
    "collapsed": false,
    "ExecuteTime": {
     "end_time": "2024-08-23T14:08:33.524856300Z",
     "start_time": "2024-08-23T14:08:33.518133600Z"
    }
   }
  },
  {
   "cell_type": "code",
   "execution_count": 36,
   "outputs": [],
   "source": [
    "\n",
    "non_lin_correlation_matrix.to_csv(r'D:\\GitHub\\MSc-Project-March\\non_lin_cor_matrix.csv', index=True)"
   ],
   "metadata": {
    "collapsed": false,
    "ExecuteTime": {
     "end_time": "2024-08-23T14:08:33.541858600Z",
     "start_time": "2024-08-23T14:08:33.526355900Z"
    }
   }
  },
  {
   "cell_type": "code",
   "execution_count": 37,
   "outputs": [
    {
     "data": {
      "text/plain": "                     FIT101     LIT101  MV101  P101    AIT201    AIT202  \\\nTimestamp                                                                 \n2015-12-22 16:30:00     0.0  123.97593    1.0   1.0  251.9226  8.313061   \n2015-12-22 16:30:10     0.0  124.40769    1.0   1.0  251.9226  8.308960   \n2015-12-22 16:30:20     0.0  123.90527    1.0   1.0  251.9226  8.310979   \n2015-12-22 16:30:30     0.0  123.90134    1.0   1.0  251.9226  8.312612   \n2015-12-22 16:30:40     0.0  124.85909    1.0   1.0  251.9226  8.308191   \n\n                        AIT203  FIT201  MV201  P203  ...    FIT501    FIT502  \\\nTimestamp                                            ...                       \n2015-12-22 16:30:00  312.79160     0.0    1.0   1.0  ...  0.001538  0.001409   \n2015-12-22 16:30:10  312.90185     0.0    1.0   1.0  ...  0.001538  0.001409   \n2015-12-22 16:30:20  312.80442     0.0    1.0   1.0  ...  0.001538  0.001409   \n2015-12-22 16:30:30  312.91980     0.0    1.0   1.0  ...  0.001538  0.001409   \n2015-12-22 16:30:40  313.00950     0.0    1.0   1.0  ...  0.001538  0.001409   \n\n                       FIT503  FIT504  P501    PIT501  PIT502  PIT503  \\\nTimestamp                                                               \n2015-12-22 16:30:00  0.001664     0.0   1.0  9.100231     0.0  3.3485   \n2015-12-22 16:30:10  0.001664     0.0   1.0  9.100231     0.0  3.3485   \n2015-12-22 16:30:20  0.001664     0.0   1.0  9.100231     0.0  3.3485   \n2015-12-22 16:30:30  0.001664     0.0   1.0  9.037747     0.0  3.3485   \n2015-12-22 16:30:40  0.001664     0.0   1.0  9.068188     0.0  3.3485   \n\n                       FIT601  P602  \nTimestamp                            \n2015-12-22 16:30:00  0.000256   1.0  \n2015-12-22 16:30:10  0.000256   1.0  \n2015-12-22 16:30:20  0.000256   1.0  \n2015-12-22 16:30:30  0.000256   1.0  \n2015-12-22 16:30:40  0.000256   1.0  \n\n[5 rows x 40 columns]",
      "text/html": "<div>\n<style scoped>\n    .dataframe tbody tr th:only-of-type {\n        vertical-align: middle;\n    }\n\n    .dataframe tbody tr th {\n        vertical-align: top;\n    }\n\n    .dataframe thead th {\n        text-align: right;\n    }\n</style>\n<table border=\"1\" class=\"dataframe\">\n  <thead>\n    <tr style=\"text-align: right;\">\n      <th></th>\n      <th>FIT101</th>\n      <th>LIT101</th>\n      <th>MV101</th>\n      <th>P101</th>\n      <th>AIT201</th>\n      <th>AIT202</th>\n      <th>AIT203</th>\n      <th>FIT201</th>\n      <th>MV201</th>\n      <th>P203</th>\n      <th>...</th>\n      <th>FIT501</th>\n      <th>FIT502</th>\n      <th>FIT503</th>\n      <th>FIT504</th>\n      <th>P501</th>\n      <th>PIT501</th>\n      <th>PIT502</th>\n      <th>PIT503</th>\n      <th>FIT601</th>\n      <th>P602</th>\n    </tr>\n    <tr>\n      <th>Timestamp</th>\n      <th></th>\n      <th></th>\n      <th></th>\n      <th></th>\n      <th></th>\n      <th></th>\n      <th></th>\n      <th></th>\n      <th></th>\n      <th></th>\n      <th></th>\n      <th></th>\n      <th></th>\n      <th></th>\n      <th></th>\n      <th></th>\n      <th></th>\n      <th></th>\n      <th></th>\n      <th></th>\n      <th></th>\n    </tr>\n  </thead>\n  <tbody>\n    <tr>\n      <th>2015-12-22 16:30:00</th>\n      <td>0.0</td>\n      <td>123.97593</td>\n      <td>1.0</td>\n      <td>1.0</td>\n      <td>251.9226</td>\n      <td>8.313061</td>\n      <td>312.79160</td>\n      <td>0.0</td>\n      <td>1.0</td>\n      <td>1.0</td>\n      <td>...</td>\n      <td>0.001538</td>\n      <td>0.001409</td>\n      <td>0.001664</td>\n      <td>0.0</td>\n      <td>1.0</td>\n      <td>9.100231</td>\n      <td>0.0</td>\n      <td>3.3485</td>\n      <td>0.000256</td>\n      <td>1.0</td>\n    </tr>\n    <tr>\n      <th>2015-12-22 16:30:10</th>\n      <td>0.0</td>\n      <td>124.40769</td>\n      <td>1.0</td>\n      <td>1.0</td>\n      <td>251.9226</td>\n      <td>8.308960</td>\n      <td>312.90185</td>\n      <td>0.0</td>\n      <td>1.0</td>\n      <td>1.0</td>\n      <td>...</td>\n      <td>0.001538</td>\n      <td>0.001409</td>\n      <td>0.001664</td>\n      <td>0.0</td>\n      <td>1.0</td>\n      <td>9.100231</td>\n      <td>0.0</td>\n      <td>3.3485</td>\n      <td>0.000256</td>\n      <td>1.0</td>\n    </tr>\n    <tr>\n      <th>2015-12-22 16:30:20</th>\n      <td>0.0</td>\n      <td>123.90527</td>\n      <td>1.0</td>\n      <td>1.0</td>\n      <td>251.9226</td>\n      <td>8.310979</td>\n      <td>312.80442</td>\n      <td>0.0</td>\n      <td>1.0</td>\n      <td>1.0</td>\n      <td>...</td>\n      <td>0.001538</td>\n      <td>0.001409</td>\n      <td>0.001664</td>\n      <td>0.0</td>\n      <td>1.0</td>\n      <td>9.100231</td>\n      <td>0.0</td>\n      <td>3.3485</td>\n      <td>0.000256</td>\n      <td>1.0</td>\n    </tr>\n    <tr>\n      <th>2015-12-22 16:30:30</th>\n      <td>0.0</td>\n      <td>123.90134</td>\n      <td>1.0</td>\n      <td>1.0</td>\n      <td>251.9226</td>\n      <td>8.312612</td>\n      <td>312.91980</td>\n      <td>0.0</td>\n      <td>1.0</td>\n      <td>1.0</td>\n      <td>...</td>\n      <td>0.001538</td>\n      <td>0.001409</td>\n      <td>0.001664</td>\n      <td>0.0</td>\n      <td>1.0</td>\n      <td>9.037747</td>\n      <td>0.0</td>\n      <td>3.3485</td>\n      <td>0.000256</td>\n      <td>1.0</td>\n    </tr>\n    <tr>\n      <th>2015-12-22 16:30:40</th>\n      <td>0.0</td>\n      <td>124.85909</td>\n      <td>1.0</td>\n      <td>1.0</td>\n      <td>251.9226</td>\n      <td>8.308191</td>\n      <td>313.00950</td>\n      <td>0.0</td>\n      <td>1.0</td>\n      <td>1.0</td>\n      <td>...</td>\n      <td>0.001538</td>\n      <td>0.001409</td>\n      <td>0.001664</td>\n      <td>0.0</td>\n      <td>1.0</td>\n      <td>9.068188</td>\n      <td>0.0</td>\n      <td>3.3485</td>\n      <td>0.000256</td>\n      <td>1.0</td>\n    </tr>\n  </tbody>\n</table>\n<p>5 rows × 40 columns</p>\n</div>"
     },
     "execution_count": 37,
     "metadata": {},
     "output_type": "execute_result"
    }
   ],
   "source": [
    "df.head()"
   ],
   "metadata": {
    "collapsed": false,
    "ExecuteTime": {
     "end_time": "2024-08-23T14:08:33.610370500Z",
     "start_time": "2024-08-23T14:08:33.549859900Z"
    }
   }
  },
  {
   "cell_type": "code",
   "execution_count": 37,
   "outputs": [],
   "source": [],
   "metadata": {
    "collapsed": false,
    "ExecuteTime": {
     "end_time": "2024-08-23T14:08:33.625873400Z",
     "start_time": "2024-08-23T14:08:33.565862900Z"
    }
   }
  },
  {
   "cell_type": "markdown",
   "source": [
    "## Mutual Information is slow........."
   ],
   "metadata": {
    "collapsed": false
   }
  },
  {
   "cell_type": "markdown",
   "source": [
    "# Calculate mutual information between features\n",
    "mutual_info_matrix = pd.DataFrame(index=df_cleaned.columns, columns=df_cleaned.columns)\n",
    "\n",
    "# Calculate mutual information\n",
    "for col1 in df_cleaned.columns:\n",
    "    for col2 in df_cleaned.columns:\n",
    "        mutual_info = mutual_info_regression(df_cleaned[[col1]], df_cleaned[col2])[0]\n",
    "        mutual_info_matrix.loc[col1, col2] = mutual_info\n",
    "\n",
    "# Display the mutual information matrix\n",
    "print(mutual_info_matrix)\n"
   ],
   "metadata": {
    "collapsed": false
   }
  },
  {
   "cell_type": "code",
   "execution_count": 38,
   "outputs": [],
   "source": [
    "# Display the mutual information matrix\n",
    "# print(mutual_info_matrix)"
   ],
   "metadata": {
    "collapsed": false,
    "ExecuteTime": {
     "end_time": "2024-08-23T14:08:33.628373600Z",
     "start_time": "2024-08-23T14:08:33.575364700Z"
    }
   }
  },
  {
   "cell_type": "markdown",
   "source": [
    "## Linear and Non Linear Corr Matrices"
   ],
   "metadata": {
    "collapsed": false
   }
  },
  {
   "cell_type": "markdown",
   "source": [
    "Get"
   ],
   "metadata": {
    "collapsed": false
   }
  },
  {
   "cell_type": "code",
   "execution_count": 39,
   "outputs": [
    {
     "ename": "KeyError",
     "evalue": "'Timestamp'",
     "output_type": "error",
     "traceback": [
      "\u001B[1;31m---------------------------------------------------------------------------\u001B[0m",
      "\u001B[1;31mKeyError\u001B[0m                                  Traceback (most recent call last)",
      "File \u001B[1;32m~\\anaconda3\\Lib\\site-packages\\pandas\\core\\indexes\\base.py:3805\u001B[0m, in \u001B[0;36mIndex.get_loc\u001B[1;34m(self, key)\u001B[0m\n\u001B[0;32m   3804\u001B[0m \u001B[38;5;28;01mtry\u001B[39;00m:\n\u001B[1;32m-> 3805\u001B[0m     \u001B[38;5;28;01mreturn\u001B[39;00m \u001B[38;5;28mself\u001B[39m\u001B[38;5;241m.\u001B[39m_engine\u001B[38;5;241m.\u001B[39mget_loc(casted_key)\n\u001B[0;32m   3806\u001B[0m \u001B[38;5;28;01mexcept\u001B[39;00m \u001B[38;5;167;01mKeyError\u001B[39;00m \u001B[38;5;28;01mas\u001B[39;00m err:\n",
      "File \u001B[1;32mindex.pyx:167\u001B[0m, in \u001B[0;36mpandas._libs.index.IndexEngine.get_loc\u001B[1;34m()\u001B[0m\n",
      "File \u001B[1;32mindex.pyx:196\u001B[0m, in \u001B[0;36mpandas._libs.index.IndexEngine.get_loc\u001B[1;34m()\u001B[0m\n",
      "File \u001B[1;32mpandas\\\\_libs\\\\hashtable_class_helper.pxi:7081\u001B[0m, in \u001B[0;36mpandas._libs.hashtable.PyObjectHashTable.get_item\u001B[1;34m()\u001B[0m\n",
      "File \u001B[1;32mpandas\\\\_libs\\\\hashtable_class_helper.pxi:7089\u001B[0m, in \u001B[0;36mpandas._libs.hashtable.PyObjectHashTable.get_item\u001B[1;34m()\u001B[0m\n",
      "\u001B[1;31mKeyError\u001B[0m: 'Timestamp'",
      "\nThe above exception was the direct cause of the following exception:\n",
      "\u001B[1;31mKeyError\u001B[0m                                  Traceback (most recent call last)",
      "Cell \u001B[1;32mIn[39], line 4\u001B[0m\n\u001B[0;32m      1\u001B[0m \u001B[38;5;66;03m# Assuming components is a dictionary with component names as keys and Component objects as values\u001B[39;00m\n\u001B[0;32m      2\u001B[0m \u001B[38;5;28;01mfor\u001B[39;00m component_name, component_obj \u001B[38;5;129;01min\u001B[39;00m components\u001B[38;5;241m.\u001B[39mitems():\n\u001B[0;32m      3\u001B[0m     \u001B[38;5;66;03m# Convert correlation coefficient row to dictionary with row index and value\u001B[39;00m\n\u001B[1;32m----> 4\u001B[0m     correlation_dict \u001B[38;5;241m=\u001B[39m {col: value \u001B[38;5;28;01mfor\u001B[39;00m col, value \u001B[38;5;129;01min\u001B[39;00m \u001B[38;5;28mzip\u001B[39m(correlation_matrix\u001B[38;5;241m.\u001B[39mcolumns, correlation_matrix\u001B[38;5;241m.\u001B[39mloc[component_name])}\n\u001B[0;32m      5\u001B[0m     component_obj\u001B[38;5;241m.\u001B[39mcorrelation_dict \u001B[38;5;241m=\u001B[39m correlation_dict\n\u001B[0;32m      6\u001B[0m     \u001B[38;5;28mprint\u001B[39m(component_name, component_obj\u001B[38;5;241m.\u001B[39mcorrelation_dict )\n",
      "File \u001B[1;32m~\\anaconda3\\Lib\\site-packages\\pandas\\core\\indexing.py:1191\u001B[0m, in \u001B[0;36m_LocationIndexer.__getitem__\u001B[1;34m(self, key)\u001B[0m\n\u001B[0;32m   1189\u001B[0m maybe_callable \u001B[38;5;241m=\u001B[39m com\u001B[38;5;241m.\u001B[39mapply_if_callable(key, \u001B[38;5;28mself\u001B[39m\u001B[38;5;241m.\u001B[39mobj)\n\u001B[0;32m   1190\u001B[0m maybe_callable \u001B[38;5;241m=\u001B[39m \u001B[38;5;28mself\u001B[39m\u001B[38;5;241m.\u001B[39m_check_deprecated_callable_usage(key, maybe_callable)\n\u001B[1;32m-> 1191\u001B[0m \u001B[38;5;28;01mreturn\u001B[39;00m \u001B[38;5;28mself\u001B[39m\u001B[38;5;241m.\u001B[39m_getitem_axis(maybe_callable, axis\u001B[38;5;241m=\u001B[39maxis)\n",
      "File \u001B[1;32m~\\anaconda3\\Lib\\site-packages\\pandas\\core\\indexing.py:1431\u001B[0m, in \u001B[0;36m_LocIndexer._getitem_axis\u001B[1;34m(self, key, axis)\u001B[0m\n\u001B[0;32m   1429\u001B[0m \u001B[38;5;66;03m# fall thru to straight lookup\u001B[39;00m\n\u001B[0;32m   1430\u001B[0m \u001B[38;5;28mself\u001B[39m\u001B[38;5;241m.\u001B[39m_validate_key(key, axis)\n\u001B[1;32m-> 1431\u001B[0m \u001B[38;5;28;01mreturn\u001B[39;00m \u001B[38;5;28mself\u001B[39m\u001B[38;5;241m.\u001B[39m_get_label(key, axis\u001B[38;5;241m=\u001B[39maxis)\n",
      "File \u001B[1;32m~\\anaconda3\\Lib\\site-packages\\pandas\\core\\indexing.py:1381\u001B[0m, in \u001B[0;36m_LocIndexer._get_label\u001B[1;34m(self, label, axis)\u001B[0m\n\u001B[0;32m   1379\u001B[0m \u001B[38;5;28;01mdef\u001B[39;00m \u001B[38;5;21m_get_label\u001B[39m(\u001B[38;5;28mself\u001B[39m, label, axis: AxisInt):\n\u001B[0;32m   1380\u001B[0m     \u001B[38;5;66;03m# GH#5567 this will fail if the label is not present in the axis.\u001B[39;00m\n\u001B[1;32m-> 1381\u001B[0m     \u001B[38;5;28;01mreturn\u001B[39;00m \u001B[38;5;28mself\u001B[39m\u001B[38;5;241m.\u001B[39mobj\u001B[38;5;241m.\u001B[39mxs(label, axis\u001B[38;5;241m=\u001B[39maxis)\n",
      "File \u001B[1;32m~\\anaconda3\\Lib\\site-packages\\pandas\\core\\generic.py:4301\u001B[0m, in \u001B[0;36mNDFrame.xs\u001B[1;34m(self, key, axis, level, drop_level)\u001B[0m\n\u001B[0;32m   4299\u001B[0m             new_index \u001B[38;5;241m=\u001B[39m index[loc]\n\u001B[0;32m   4300\u001B[0m \u001B[38;5;28;01melse\u001B[39;00m:\n\u001B[1;32m-> 4301\u001B[0m     loc \u001B[38;5;241m=\u001B[39m index\u001B[38;5;241m.\u001B[39mget_loc(key)\n\u001B[0;32m   4303\u001B[0m     \u001B[38;5;28;01mif\u001B[39;00m \u001B[38;5;28misinstance\u001B[39m(loc, np\u001B[38;5;241m.\u001B[39mndarray):\n\u001B[0;32m   4304\u001B[0m         \u001B[38;5;28;01mif\u001B[39;00m loc\u001B[38;5;241m.\u001B[39mdtype \u001B[38;5;241m==\u001B[39m np\u001B[38;5;241m.\u001B[39mbool_:\n",
      "File \u001B[1;32m~\\anaconda3\\Lib\\site-packages\\pandas\\core\\indexes\\base.py:3812\u001B[0m, in \u001B[0;36mIndex.get_loc\u001B[1;34m(self, key)\u001B[0m\n\u001B[0;32m   3807\u001B[0m     \u001B[38;5;28;01mif\u001B[39;00m \u001B[38;5;28misinstance\u001B[39m(casted_key, \u001B[38;5;28mslice\u001B[39m) \u001B[38;5;129;01mor\u001B[39;00m (\n\u001B[0;32m   3808\u001B[0m         \u001B[38;5;28misinstance\u001B[39m(casted_key, abc\u001B[38;5;241m.\u001B[39mIterable)\n\u001B[0;32m   3809\u001B[0m         \u001B[38;5;129;01mand\u001B[39;00m \u001B[38;5;28many\u001B[39m(\u001B[38;5;28misinstance\u001B[39m(x, \u001B[38;5;28mslice\u001B[39m) \u001B[38;5;28;01mfor\u001B[39;00m x \u001B[38;5;129;01min\u001B[39;00m casted_key)\n\u001B[0;32m   3810\u001B[0m     ):\n\u001B[0;32m   3811\u001B[0m         \u001B[38;5;28;01mraise\u001B[39;00m InvalidIndexError(key)\n\u001B[1;32m-> 3812\u001B[0m     \u001B[38;5;28;01mraise\u001B[39;00m \u001B[38;5;167;01mKeyError\u001B[39;00m(key) \u001B[38;5;28;01mfrom\u001B[39;00m \u001B[38;5;21;01merr\u001B[39;00m\n\u001B[0;32m   3813\u001B[0m \u001B[38;5;28;01mexcept\u001B[39;00m \u001B[38;5;167;01mTypeError\u001B[39;00m:\n\u001B[0;32m   3814\u001B[0m     \u001B[38;5;66;03m# If we have a listlike key, _check_indexing_error will raise\u001B[39;00m\n\u001B[0;32m   3815\u001B[0m     \u001B[38;5;66;03m#  InvalidIndexError. Otherwise we fall through and re-raise\u001B[39;00m\n\u001B[0;32m   3816\u001B[0m     \u001B[38;5;66;03m#  the TypeError.\u001B[39;00m\n\u001B[0;32m   3817\u001B[0m     \u001B[38;5;28mself\u001B[39m\u001B[38;5;241m.\u001B[39m_check_indexing_error(key)\n",
      "\u001B[1;31mKeyError\u001B[0m: 'Timestamp'"
     ]
    }
   ],
   "source": [
    "# Assuming components is a dictionary with component names as keys and Component objects as values\n",
    "for component_name, component_obj in components.items():\n",
    "    # Convert correlation coefficient row to dictionary with row index and value\n",
    "    correlation_dict = {col: value for col, value in zip(correlation_matrix.columns, correlation_matrix.loc[component_name])}\n",
    "    component_obj.correlation_dict = correlation_dict\n",
    "    print(component_name, component_obj.correlation_dict )\n",
    "\n",
    "    # Convert p-value row to dictionary with row index and value\n",
    "    p_value_dict = {col: value for col, value in zip(p_values.columns, p_values.loc[component_name])}\n",
    "    #p_value_dict = {index: value for index, value in enumerate(p_values.loc[component_name])}\n",
    "    component_obj.p_value_dict = p_value_dict"
   ],
   "metadata": {
    "collapsed": false,
    "ExecuteTime": {
     "end_time": "2024-08-23T14:08:35.612725300Z",
     "start_time": "2024-08-23T14:08:33.594867800Z"
    }
   }
  },
  {
   "cell_type": "code",
   "execution_count": null,
   "outputs": [],
   "source": [
    "# Assuming components is a dictionary with component names as keys and Component objects as values\n",
    "for component_name, component_obj in components.items():\n",
    "    # Convert correlation coefficient row to dictionary with row index and value\n",
    "    non_lin_correlation_dict = {col: value for col, value in zip(non_lin_correlation_matrix.columns, non_lin_correlation_matrix.loc[component_name])}\n",
    "    component_obj.non_lin_correlation_dict = non_lin_correlation_dict\n",
    "    print(component_name, component_obj.non_lin_correlation_dict )\n",
    "\n",
    "    # Convert p-value row to dictionary with row index and value\n",
    "    non_lin_p_value_dict = {col: value for col, value in zip(non_lin_p_values.columns, non_lin_p_values.loc[component_name])}\n",
    "    #p_value_dict = {index: value for index, value in enumerate(p_values.loc[component_name])}\n",
    "    component_obj.non_lin_p_value_dict = non_lin_p_value_dict"
   ],
   "metadata": {
    "collapsed": false
   }
  },
  {
   "cell_type": "markdown",
   "source": [
    "# Visualising Relationships"
   ],
   "metadata": {
    "collapsed": false
   }
  },
  {
   "cell_type": "code",
   "execution_count": null,
   "outputs": [],
   "source": [
    "df_cleaned.shape"
   ],
   "metadata": {
    "collapsed": false
   }
  },
  {
   "cell_type": "code",
   "execution_count": null,
   "outputs": [],
   "source": [
    "#specific_component.get_correlated_components('linear',0.01, 1)"
   ],
   "metadata": {
    "collapsed": false
   }
  },
  {
   "cell_type": "code",
   "execution_count": null,
   "outputs": [],
   "source": [
    "len(specific_component.get_correlated_components('linear', 0.01, 1))"
   ],
   "metadata": {
    "collapsed": false
   }
  },
  {
   "cell_type": "code",
   "execution_count": null,
   "outputs": [],
   "source": [
    "specific_component.plot_network('correlation_matrix', 0.05, 1, nx.circular_layout )"
   ],
   "metadata": {
    "collapsed": false
   }
  },
  {
   "cell_type": "code",
   "execution_count": null,
   "outputs": [],
   "source": [
    "len(specific_component.get_correlated_components('linear', 0.6, 1))"
   ],
   "metadata": {
    "collapsed": false
   }
  },
  {
   "cell_type": "code",
   "execution_count": null,
   "outputs": [],
   "source": [
    "specific_component.plot_network('correlation_matrix', 0.6, 1, nx.circular_layout )"
   ],
   "metadata": {
    "collapsed": false
   }
  },
  {
   "cell_type": "code",
   "execution_count": null,
   "outputs": [],
   "source": [
    "specific_component.get_correlated_components_p_value('linear', 0.0, 0.05)"
   ],
   "metadata": {
    "collapsed": false
   }
  },
  {
   "cell_type": "code",
   "execution_count": null,
   "outputs": [],
   "source": [
    " len(specific_component.get_correlated_components_p_value('linear', 0.0, 0.05))"
   ],
   "metadata": {
    "collapsed": false
   }
  },
  {
   "cell_type": "code",
   "execution_count": null,
   "outputs": [],
   "source": [
    "specific_component.plot_network('correlation_p_value', 0.0, 0.05, nx.circular_layout )"
   ],
   "metadata": {
    "collapsed": false
   }
  },
  {
   "cell_type": "markdown",
   "source": [
    "## Observations\n",
    "P value ( statistical significance) value of 5% indicates 38 of 39 components disprove the null hypothesis that the relationship between components is random. This numebr of related components is acheived by using a Pearson correlation coefficient 0f 0.01 or above ( a very week linear correlation).\n",
    "These Values were calculated from the correlation from the LIT101 water level sensor which is the main water tank at the beginning of the process ( and so is understandably linked to all other components to some degree.\n",
    "Restricted the results to correlation coefficients above 0.6 identifies 5 componnets with strong correlations, all of which are in the same or following stage and are related to the movement of water ( pumps or flow sensors). This suggests the Pearson values are more useful is revelaing system dependencies.\n"
   ],
   "metadata": {
    "collapsed": false
   }
  },
  {
   "cell_type": "markdown",
   "source": [
    "# Non-Linear Correlation of Components\n",
    "The previous stage looked for linear correlation between components, other non- linear methods were evaluated as the complex interplay of componets could lead to non-linear behaviour even with pairwise linear relationships. These methods look for monatonic relationships- the values for two components consistently change together ( positive or negative)."
   ],
   "metadata": {
    "collapsed": false
   }
  },
  {
   "cell_type": "code",
   "execution_count": null,
   "outputs": [],
   "source": [],
   "metadata": {
    "collapsed": false
   }
  },
  {
   "cell_type": "code",
   "execution_count": null,
   "outputs": [],
   "source": [
    "# Display correlation matrix and p-values\n",
    "#print(\"non_lin Correlation Matrix:\")\n",
    "#display(non_lin_correlation_matrix_styled)\n"
   ],
   "metadata": {
    "collapsed": false
   }
  },
  {
   "cell_type": "code",
   "execution_count": null,
   "outputs": [],
   "source": [
    "#non_lin_p_values_styled"
   ],
   "metadata": {
    "collapsed": false
   }
  },
  {
   "cell_type": "code",
   "execution_count": null,
   "outputs": [],
   "source": [],
   "metadata": {
    "collapsed": false
   }
  },
  {
   "cell_type": "code",
   "execution_count": null,
   "outputs": [],
   "source": [
    "specific_component.get_correlated_components('non_linear', 0.6, 1)"
   ],
   "metadata": {
    "collapsed": false
   }
  },
  {
   "cell_type": "code",
   "execution_count": null,
   "outputs": [],
   "source": [
    "len(specific_component.get_correlated_components('non_linear', 0.6, 1))"
   ],
   "metadata": {
    "collapsed": false
   }
  },
  {
   "cell_type": "code",
   "execution_count": null,
   "outputs": [],
   "source": [
    "specific_component.plot_network('correlation_matrix', 0.6, 1, nx.circular_layout )"
   ],
   "metadata": {
    "collapsed": false
   }
  },
  {
   "cell_type": "code",
   "execution_count": null,
   "outputs": [],
   "source": [
    "specific_component.plot_network('non_lin_correlation', 0.6, 1, nx.circular_layout )"
   ],
   "metadata": {
    "collapsed": false
   }
  },
  {
   "cell_type": "markdown",
   "source": [],
   "metadata": {
    "collapsed": false
   }
  },
  {
   "cell_type": "code",
   "execution_count": null,
   "outputs": [],
   "source": [
    "# Add type of correlation to each matrix\n",
    "correlation_matrix['Correlation Type'] = 'Pearson'\n",
    "non_lin_correlation_matrix['Correlation Type'] = 'Spearman'\n",
    "\n",
    "# jsut use spearman for now\n",
    "#mutual_info_matrix['Correlation Type'] = 'Mutal_Info'"
   ],
   "metadata": {
    "collapsed": false
   }
  },
  {
   "cell_type": "code",
   "execution_count": null,
   "outputs": [],
   "source": [
    "# Concatenate two correlation matrices vertically\n",
    "#merged_correlation_matrix = pd.concat([correlation_matrix, non_lin_correlation_matrix, mutual_info_matrix])\n",
    "#merged_correlation_matrix = pd.concat([correlation_matrix, non_lin_correlation_matrix])\n",
    "# Display the merged correlation matrix\n",
    "#print(merged_correlation_matrix)"
   ],
   "metadata": {
    "collapsed": false
   }
  },
  {
   "cell_type": "code",
   "execution_count": null,
   "outputs": [],
   "source": [
    "# Get rows for the component named \"LIT101\" from the merged correlation matrix\n",
    "rows_for_LIT101 = correlation_matrix.loc[\"LIT101\"]\n",
    "\n",
    "# Display the rows for LIT101\n",
    "print(rows_for_LIT101.head())"
   ],
   "metadata": {
    "collapsed": false
   }
  },
  {
   "cell_type": "code",
   "execution_count": null,
   "outputs": [],
   "source": [
    "specific_component.correlation_dict"
   ],
   "metadata": {
    "collapsed": false
   }
  },
  {
   "cell_type": "code",
   "execution_count": null,
   "outputs": [],
   "source": [
    "specific_component.non_lin_correlation_dict"
   ],
   "metadata": {
    "collapsed": false
   }
  },
  {
   "cell_type": "code",
   "execution_count": null,
   "outputs": [],
   "source": [
    "correlation_matrix.head()"
   ],
   "metadata": {
    "collapsed": false
   }
  },
  {
   "cell_type": "code",
   "execution_count": null,
   "outputs": [],
   "source": [
    "specific_component.plot_comparison_network(.5, 1, nx.circular_layout )"
   ],
   "metadata": {
    "collapsed": false
   }
  },
  {
   "cell_type": "code",
   "execution_count": null,
   "outputs": [],
   "source": [
    "type(specific_component)"
   ],
   "metadata": {
    "collapsed": false
   }
  },
  {
   "cell_type": "code",
   "execution_count": null,
   "outputs": [],
   "source": [],
   "metadata": {
    "collapsed": false
   }
  },
  {
   "cell_type": "code",
   "execution_count": null,
   "outputs": [],
   "source": [],
   "metadata": {
    "collapsed": false
   }
  },
  {
   "cell_type": "code",
   "execution_count": null,
   "outputs": [],
   "source": [],
   "metadata": {
    "collapsed": false
   }
  },
  {
   "cell_type": "code",
   "execution_count": null,
   "outputs": [],
   "source": [],
   "metadata": {
    "collapsed": false
   }
  },
  {
   "cell_type": "code",
   "execution_count": null,
   "outputs": [],
   "source": [
    "display(rows_for_LIT101)"
   ],
   "metadata": {
    "collapsed": false
   }
  },
  {
   "cell_type": "code",
   "execution_count": null,
   "outputs": [],
   "source": [
    "# Create masks for Spearman and Mutual Information correlations higher than Pearson\n",
    "spearman_higher_mask = non_lin_correlation_matrix > correlation_matrix\n",
    "mutual_info_higher_mask = mutual_info_matrix > correlation_matrix\n",
    "\n",
    "# Extract values where Spearman correlation is higher than Pearson\n",
    "spearman_higher_values = non_lin_correlation_matrix[spearman_higher_mask]\n",
    "\n",
    "# Extract values where Mutual Information correlation is higher than Pearson\n",
    "mutual_info_higher_values = mutual_info_matrix[mutual_info_higher_mask]\n",
    "\n",
    "# Combine the extracted values\n",
    "higher_values = pd.concat([spearman_higher_values, mutual_info_higher_values])\n",
    "\n",
    "# Plot the higher values\n",
    "plt.figure(figsize=(10, 6))\n",
    "sns.barplot(x=higher_values.index, y=higher_values.values, palette='coolwarm')\n",
    "plt.title('Values where Spearman or Mutual Info are higher than Pearson')\n",
    "plt.xlabel('Component Pair')\n",
    "plt.ylabel('Correlation Value')\n",
    "plt.xticks(rotation=90)\n",
    "plt.tight_layout()\n",
    "plt.show()\n"
   ],
   "metadata": {
    "collapsed": false
   }
  },
  {
   "cell_type": "markdown",
   "source": [
    "# Original Section"
   ],
   "metadata": {
    "collapsed": false
   }
  },
  {
   "cell_type": "markdown",
   "source": [
    "Get distributions for each variable. Get range, divide into 100 bins then count variables ineach. Visualise in plot"
   ],
   "metadata": {
    "collapsed": false
   }
  },
  {
   "cell_type": "code",
   "execution_count": null,
   "outputs": [],
   "source": [
    "# make new df to hold variable distributions\n",
    "df_distributions = pd.DataFrame()"
   ],
   "metadata": {
    "collapsed": false
   }
  },
  {
   "cell_type": "markdown",
   "source": [
    "Sample df as 10 second mean for all values so df is 10% of original to east manipulation"
   ],
   "metadata": {
    "collapsed": false
   }
  },
  {
   "cell_type": "code",
   "execution_count": null,
   "outputs": [],
   "source": [
    "def plotBinCounts(name, bin_counts, bin_edges):\n",
    "    '''\n",
    "    Function to plot the distribution of bin counts.\n",
    "    Parameters:\n",
    "    - bin_counts: a pandas Series containing the counts of values in each bin.\n",
    "    - bin_edges: an array containing the bin edges.\n",
    "    '''\n",
    "\n",
    "    # Set the size of the plot\n",
    "    plt.figure(figsize=(10,6))\n",
    "\n",
    "    # Plot the bin counts\n",
    "    bin_counts.plot(kind='bar', logy=True)\n",
    "\n",
    "    # Set the title and labels\n",
    "    plt.title(f'Distribution of {name}')\n",
    "    plt.ylabel('Counts')\n",
    "\n",
    "    # Calculate total range and step size for approximately 10 divisions\n",
    "    total_range = bin_edges[-1] - bin_edges[0]\n",
    "    step_size = total_range / 10\n",
    "\n",
    "    # Round step size to a whole number (e.g., 10, 20, etc.) that makes sense for your data\n",
    "    rounded_step_size = round(step_size / 10) * 10\n",
    "\n",
    "    # Generate custom tick positions and labels\n",
    "    tick_positions = np.arange(0, len(bin_edges) - 1, rounded_step_size / (bin_edges[1] - bin_edges[0]))\n",
    "    tick_labels = [f\"{bin_edges[int(pos)]:.0f}\" for pos in tick_positions]\n",
    "\n",
    "    # Set x-ticks to represent the overall value range of the bins\n",
    "    plt.xticks(ticks=tick_positions,\n",
    "               labels=tick_labels,\n",
    "               rotation=45)  # Rotate labels for better readability\n",
    "\n",
    "    # Optional: Set x-axis label\n",
    "    plt.xlabel('Value Range')\n",
    "\n",
    "    # Show the plot\n",
    "    plt.show()\n",
    "\n",
    "# Example usage:\n",
    "# Assuming bin_counts and bins are obtained from the getDistribution function\n",
    "# plotBinCounts(bin_counts, bins)\n"
   ],
   "metadata": {
    "collapsed": false
   }
  },
  {
   "cell_type": "code",
   "execution_count": null,
   "outputs": [],
   "source": [
    "# function to get distribution\n",
    "def getDistribution(variable_col):\n",
    "    '''\n",
    "    Function to get distribution of values in variable column.\n",
    "    Returns\n",
    "    '''\n",
    "    #get variable min and max values and calculate range\n",
    "\n",
    "    var_range = df[variable_col].max() - df[variable_col].min()\n",
    "\n",
    "    print(f'Var Range:  {var_range}')\n",
    "\n",
    "    # divide into 100 bins\n",
    "    bin_size = var_range/100\n",
    "\n",
    "    # Create bins edges from min to max with using bin_size'\n",
    "    bins = np.arange(df[variable_col].min(), df[variable_col].max() + bin_size, bin_size)\n",
    "\n",
    "    # Use pd.cut to segment and sort the data values into bins\n",
    "    df_distributions[variable_col + '_bins'] = pd.cut(df[variable_col], bins=bins, include_lowest=True)\n",
    "\n",
    "    # Count the number of values in each bin\n",
    "    bin_counts = df_distributions[variable_col + '_bins'].value_counts().sort_index()\n",
    "\n",
    "    # call sisualisation function\n",
    "    plotBinCounts(variable_col, bin_counts, bins)\n",
    "\n",
    "    # return bin_counts, bins"
   ],
   "metadata": {
    "collapsed": false
   }
  },
  {
   "cell_type": "code",
   "execution_count": null,
   "outputs": [],
   "source": [
    "# test with FIT101\n",
    "#lit101_dist, bins = getDistribution('LIT101')\n",
    "#plotBinCounts(lit101_dist, bins)\n",
    "\n",
    "getDistribution('LIT101')"
   ],
   "metadata": {
    "collapsed": false
   }
  },
  {
   "cell_type": "markdown",
   "source": [
    "1,FIT-101,Sensor,Flow meter; Measures inflow into raw water tank.\n",
    "2,LIT-101,Sensor,Level Transmitter; Raw water tank level.\n",
    "3,MV-101,Actuator,Motorized valve; Controls water flow to the raw water tank."
   ],
   "metadata": {
    "collapsed": false
   }
  },
  {
   "cell_type": "code",
   "execution_count": null,
   "outputs": [],
   "source": [
    "getDistribution('MV101')"
   ],
   "metadata": {
    "collapsed": false
   }
  },
  {
   "cell_type": "code",
   "execution_count": null,
   "outputs": [],
   "source": [
    "getDistribution('FIT101')"
   ],
   "metadata": {
    "collapsed": false
   }
  },
  {
   "cell_type": "code",
   "execution_count": null,
   "outputs": [],
   "source": [
    "getDistribution('P101')"
   ],
   "metadata": {
    "collapsed": false
   }
  },
  {
   "cell_type": "code",
   "execution_count": null,
   "outputs": [],
   "source": [],
   "metadata": {
    "collapsed": false
   }
  }
 ],
 "metadata": {
  "kernelspec": {
   "display_name": "Python 3",
   "language": "python",
   "name": "python3"
  },
  "language_info": {
   "codemirror_mode": {
    "name": "ipython",
    "version": 2
   },
   "file_extension": ".py",
   "mimetype": "text/x-python",
   "name": "python",
   "nbconvert_exporter": "python",
   "pygments_lexer": "ipython2",
   "version": "2.7.6"
  }
 },
 "nbformat": 4,
 "nbformat_minor": 0
}
