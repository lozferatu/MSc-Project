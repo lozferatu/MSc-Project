{
 "cells": [
  {
   "cell_type": "code",
   "execution_count": 250,
   "metadata": {
    "collapsed": true,
    "ExecuteTime": {
     "end_time": "2024-09-01T23:19:59.984519200Z",
     "start_time": "2024-09-01T23:19:59.953141200Z"
    }
   },
   "outputs": [],
   "source": [
    "import pandas as pd\n",
    "import numpy as np\n",
    "\n",
    "import matplotlib.pyplot as plt\n",
    "import scipy.stats as stats\n",
    "import statsmodels.api as sm\n",
    "\n",
    "# for type hinting\n",
    "from typing import List\n",
    "\n",
    "# for pearson corr coef and p values\n",
    "from scipy.stats import pearsonr\n",
    "\n",
    "# For plotting relationships\n",
    "import networkx as nx\n",
    "import matplotlib.pyplot as plt\n",
    "from matplotlib.patches import FancyArrowPatch, Patch, ArrowStyle\n",
    "from matplotlib.lines import Line2D\n",
    "from matplotlib.text import Annotation\n",
    "import seaborn as sns\n",
    "\n",
    "# for non linear coefficients\n",
    "from scipy.stats import spearmanr\n",
    "from scipy.spatial.distance import squareform, pdist\n",
    "from sklearn.feature_selection import mutual_info_regression"
   ]
  },
  {
   "cell_type": "code",
   "execution_count": 251,
   "outputs": [],
   "source": [
    "# for cuda core use but not installing......\n",
    "#import cupy as cp"
   ],
   "metadata": {
    "collapsed": false,
    "ExecuteTime": {
     "end_time": "2024-09-01T23:20:00.631871Z",
     "start_time": "2024-09-01T23:20:00.600624600Z"
    }
   }
  },
  {
   "cell_type": "code",
   "execution_count": 252,
   "outputs": [],
   "source": [
    "# Load data from CSV\n",
    "#df = pd.read_excel('D:\\GitHub\\MSc-Project-March\\SWaT_DataSWaT_2015_12_22_10sec.xlsx', engine=\"openpyxl\")\n",
    "df = pd.read_excel('D:\\GitHub\\MSc-Project\\SWaT_DataSWaT_2015_12_22_10sec.xlsx', engine=\"openpyxl\")\n"
   ],
   "metadata": {
    "collapsed": false,
    "ExecuteTime": {
     "end_time": "2024-09-01T23:20:12.615631600Z",
     "start_time": "2024-09-01T23:20:01.276268800Z"
    }
   }
  },
  {
   "cell_type": "code",
   "execution_count": 253,
   "outputs": [
    {
     "data": {
      "text/plain": "            Timestamp  FIT101     LIT101  MV101  P101    AIT201    AIT202  \\\n0 2015-12-22 16:30:00     0.0  123.97593    1.0   1.0  251.9226  8.313061   \n1 2015-12-22 16:30:10     0.0  124.40769    1.0   1.0  251.9226  8.308960   \n2 2015-12-22 16:30:20     0.0  123.90527    1.0   1.0  251.9226  8.310979   \n3 2015-12-22 16:30:30     0.0  123.90134    1.0   1.0  251.9226  8.312612   \n4 2015-12-22 16:30:40     0.0  124.85909    1.0   1.0  251.9226  8.308191   \n\n      AIT203  FIT201  MV201  ...    FIT501    FIT502    FIT503  FIT504  P501  \\\n0  312.79160     0.0    1.0  ...  0.001538  0.001409  0.001664     0.0   1.0   \n1  312.90185     0.0    1.0  ...  0.001538  0.001409  0.001664     0.0   1.0   \n2  312.80442     0.0    1.0  ...  0.001538  0.001409  0.001664     0.0   1.0   \n3  312.91980     0.0    1.0  ...  0.001538  0.001409  0.001664     0.0   1.0   \n4  313.00950     0.0    1.0  ...  0.001538  0.001409  0.001664     0.0   1.0   \n\n     PIT501  PIT502  PIT503    FIT601  P602  \n0  9.100231     0.0  3.3485  0.000256   1.0  \n1  9.100231     0.0  3.3485  0.000256   1.0  \n2  9.100231     0.0  3.3485  0.000256   1.0  \n3  9.037747     0.0  3.3485  0.000256   1.0  \n4  9.068188     0.0  3.3485  0.000256   1.0  \n\n[5 rows x 41 columns]",
      "text/html": "<div>\n<style scoped>\n    .dataframe tbody tr th:only-of-type {\n        vertical-align: middle;\n    }\n\n    .dataframe tbody tr th {\n        vertical-align: top;\n    }\n\n    .dataframe thead th {\n        text-align: right;\n    }\n</style>\n<table border=\"1\" class=\"dataframe\">\n  <thead>\n    <tr style=\"text-align: right;\">\n      <th></th>\n      <th>Timestamp</th>\n      <th>FIT101</th>\n      <th>LIT101</th>\n      <th>MV101</th>\n      <th>P101</th>\n      <th>AIT201</th>\n      <th>AIT202</th>\n      <th>AIT203</th>\n      <th>FIT201</th>\n      <th>MV201</th>\n      <th>...</th>\n      <th>FIT501</th>\n      <th>FIT502</th>\n      <th>FIT503</th>\n      <th>FIT504</th>\n      <th>P501</th>\n      <th>PIT501</th>\n      <th>PIT502</th>\n      <th>PIT503</th>\n      <th>FIT601</th>\n      <th>P602</th>\n    </tr>\n  </thead>\n  <tbody>\n    <tr>\n      <th>0</th>\n      <td>2015-12-22 16:30:00</td>\n      <td>0.0</td>\n      <td>123.97593</td>\n      <td>1.0</td>\n      <td>1.0</td>\n      <td>251.9226</td>\n      <td>8.313061</td>\n      <td>312.79160</td>\n      <td>0.0</td>\n      <td>1.0</td>\n      <td>...</td>\n      <td>0.001538</td>\n      <td>0.001409</td>\n      <td>0.001664</td>\n      <td>0.0</td>\n      <td>1.0</td>\n      <td>9.100231</td>\n      <td>0.0</td>\n      <td>3.3485</td>\n      <td>0.000256</td>\n      <td>1.0</td>\n    </tr>\n    <tr>\n      <th>1</th>\n      <td>2015-12-22 16:30:10</td>\n      <td>0.0</td>\n      <td>124.40769</td>\n      <td>1.0</td>\n      <td>1.0</td>\n      <td>251.9226</td>\n      <td>8.308960</td>\n      <td>312.90185</td>\n      <td>0.0</td>\n      <td>1.0</td>\n      <td>...</td>\n      <td>0.001538</td>\n      <td>0.001409</td>\n      <td>0.001664</td>\n      <td>0.0</td>\n      <td>1.0</td>\n      <td>9.100231</td>\n      <td>0.0</td>\n      <td>3.3485</td>\n      <td>0.000256</td>\n      <td>1.0</td>\n    </tr>\n    <tr>\n      <th>2</th>\n      <td>2015-12-22 16:30:20</td>\n      <td>0.0</td>\n      <td>123.90527</td>\n      <td>1.0</td>\n      <td>1.0</td>\n      <td>251.9226</td>\n      <td>8.310979</td>\n      <td>312.80442</td>\n      <td>0.0</td>\n      <td>1.0</td>\n      <td>...</td>\n      <td>0.001538</td>\n      <td>0.001409</td>\n      <td>0.001664</td>\n      <td>0.0</td>\n      <td>1.0</td>\n      <td>9.100231</td>\n      <td>0.0</td>\n      <td>3.3485</td>\n      <td>0.000256</td>\n      <td>1.0</td>\n    </tr>\n    <tr>\n      <th>3</th>\n      <td>2015-12-22 16:30:30</td>\n      <td>0.0</td>\n      <td>123.90134</td>\n      <td>1.0</td>\n      <td>1.0</td>\n      <td>251.9226</td>\n      <td>8.312612</td>\n      <td>312.91980</td>\n      <td>0.0</td>\n      <td>1.0</td>\n      <td>...</td>\n      <td>0.001538</td>\n      <td>0.001409</td>\n      <td>0.001664</td>\n      <td>0.0</td>\n      <td>1.0</td>\n      <td>9.037747</td>\n      <td>0.0</td>\n      <td>3.3485</td>\n      <td>0.000256</td>\n      <td>1.0</td>\n    </tr>\n    <tr>\n      <th>4</th>\n      <td>2015-12-22 16:30:40</td>\n      <td>0.0</td>\n      <td>124.85909</td>\n      <td>1.0</td>\n      <td>1.0</td>\n      <td>251.9226</td>\n      <td>8.308191</td>\n      <td>313.00950</td>\n      <td>0.0</td>\n      <td>1.0</td>\n      <td>...</td>\n      <td>0.001538</td>\n      <td>0.001409</td>\n      <td>0.001664</td>\n      <td>0.0</td>\n      <td>1.0</td>\n      <td>9.068188</td>\n      <td>0.0</td>\n      <td>3.3485</td>\n      <td>0.000256</td>\n      <td>1.0</td>\n    </tr>\n  </tbody>\n</table>\n<p>5 rows × 41 columns</p>\n</div>"
     },
     "execution_count": 253,
     "metadata": {},
     "output_type": "execute_result"
    }
   ],
   "source": [
    "df.head()"
   ],
   "metadata": {
    "collapsed": false,
    "ExecuteTime": {
     "end_time": "2024-09-01T23:20:12.631260600Z",
     "start_time": "2024-09-01T23:20:12.615631600Z"
    }
   }
  },
  {
   "cell_type": "markdown",
   "source": [
    "See range of values in each column so allow filtering of unchanging values before correlation matrix."
   ],
   "metadata": {
    "collapsed": false
   }
  },
  {
   "cell_type": "code",
   "execution_count": 254,
   "outputs": [],
   "source": [
    "# Get columns\n",
    "#column_names = df.columns\n",
    "#rint(column_names)"
   ],
   "metadata": {
    "collapsed": false,
    "ExecuteTime": {
     "end_time": "2024-09-01T23:20:12.646885100Z",
     "start_time": "2024-09-01T23:20:12.631260600Z"
    }
   }
  },
  {
   "cell_type": "markdown",
   "source": [
    "def drop_static_columns(df: pd.DataFrame) -> (pd.DataFrame, List[str]):\n",
    "    \"\"\"\n",
    "    Find columns in the DataFrame where all values are the same (static columns).\n",
    "\n",
    "    Parameters:\n",
    "        df (DataFrame): All values from SWaT .\n",
    "\n",
    "    Returns:\n",
    "        df (DataFrame): Columns from SWaT which have more than 1 value.\n",
    "\n",
    "    Example:\n",
    "        df = pd.DataFrame({'LIT101': [1.111, 2.222, 3.333], 'P101': [1, 1, 0], 'P102': [1, 1, 1]})\n",
    "        static_cols = get_static_columns(df, ['A', 'B', 'C'])\n",
    "        # static_cols will be ['P102'] since all values are 1.\n",
    "    \"\"\"\n",
    "    column_names = df.columns\n",
    "    static_columns = []\n",
    "    for column in column_names:\n",
    "        if df[column].min() == df[column].max():\n",
    "            static_columns.append(column)\n",
    "\n",
    "    df_cleaned = df.drop(columns= static_columns)\n",
    "    return df_cleaned, static_columns\n"
   ],
   "metadata": {
    "collapsed": false
   }
  },
  {
   "cell_type": "markdown",
   "source": [
    "df_cleaned, dropped_columns = drop_static_columns(df)\n",
    "print(dropped_columns)\n",
    "\n",
    "if 'date' in df_cleaned.columns:\n",
    "    # drop time and date\n",
    "    df_cleaned = df_cleaned.drop(columns= ['date', 'time'])\n",
    "    print(df_cleaned.columns)"
   ],
   "metadata": {
    "collapsed": false
   }
  },
  {
   "cell_type": "markdown",
   "source": [
    "Styler might be worth it for formatting tables"
   ],
   "metadata": {
    "collapsed": false
   }
  },
  {
   "cell_type": "code",
   "execution_count": 255,
   "outputs": [],
   "source": [
    "#help(Styler)"
   ],
   "metadata": {
    "collapsed": false,
    "ExecuteTime": {
     "end_time": "2024-09-01T23:20:12.693794400Z",
     "start_time": "2024-09-01T23:20:12.646885100Z"
    }
   }
  },
  {
   "cell_type": "code",
   "execution_count": 255,
   "outputs": [],
   "source": [],
   "metadata": {
    "collapsed": false,
    "ExecuteTime": {
     "end_time": "2024-09-01T23:20:12.756247100Z",
     "start_time": "2024-09-01T23:20:12.662423200Z"
    }
   }
  },
  {
   "cell_type": "code",
   "execution_count": 256,
   "outputs": [],
   "source": [
    "# Display correlation matrix and p-values\n",
    "#print(\"Correlation Matrix:\")\n",
    "#display(correlation_matrix_styled)\n",
    "#print(\"\\nP-values:\")\n",
    "#display(p_values_styled)"
   ],
   "metadata": {
    "collapsed": false,
    "ExecuteTime": {
     "end_time": "2024-09-01T23:20:12.819250200Z",
     "start_time": "2024-09-01T23:20:12.693794400Z"
    }
   }
  },
  {
   "cell_type": "markdown",
   "source": [
    "Use a class to hold knowledge about each component which can be updated throughout pipeline. Can include functions which return top antecendent/ dependent modules etc."
   ],
   "metadata": {
    "collapsed": false
   }
  },
  {
   "cell_type": "markdown",
   "source": [
    "# Make Matrices then update object for each component"
   ],
   "metadata": {
    "collapsed": false
   }
  },
  {
   "cell_type": "markdown",
   "source": [
    "### Calculate the linear (Pearson) correlation matrix"
   ],
   "metadata": {
    "collapsed": false
   }
  },
  {
   "cell_type": "code",
   "execution_count": 257,
   "outputs": [],
   "source": [
    "#non_lin_correlation_dict"
   ],
   "metadata": {
    "collapsed": false,
    "ExecuteTime": {
     "end_time": "2024-09-01T23:20:12.819250200Z",
     "start_time": "2024-09-01T23:20:12.693794400Z"
    }
   }
  },
  {
   "cell_type": "markdown",
   "source": [],
   "metadata": {
    "collapsed": false
   }
  },
  {
   "cell_type": "code",
   "execution_count": 258,
   "outputs": [],
   "source": [
    "#index_values = correlation_matrix.index.values\n",
    "#print(index_values)"
   ],
   "metadata": {
    "collapsed": false,
    "ExecuteTime": {
     "end_time": "2024-09-01T23:20:12.819250200Z",
     "start_time": "2024-09-01T23:20:12.709292400Z"
    }
   }
  },
  {
   "cell_type": "code",
   "execution_count": 259,
   "outputs": [],
   "source": [
    "# set linear correaltion attribute\n",
    "\n",
    "if df.index.name != 'Timestamp':\n",
    "    df = df.set_index('Timestamp')\n",
    "\n",
    "\n",
    "# Calculate the linear correlation matrix\n",
    "correlation_matrix = df.corr().round(decimals= 4)\n",
    "\n",
    "# DataFrame to store p-values with rows and cols being column names\n",
    "p_values = pd.DataFrame(index=df.columns, columns=df.columns)\n",
    "\n",
    "# Calculate p-values\n",
    "# for every column\n",
    "for col1 in df.columns:\n",
    "    # calculate values with everyother column\n",
    "    for col2 in df.columns:\n",
    "        correlation_coefficient, p_value = pearsonr(df[col1], df[col2])\n",
    "        # Save values to corresponding location in p_values df, rounded to 4.d.p\n",
    "        p_values.loc[col1, col2] = round(p_value, 4)\n",
    "\n",
    "# Apply a color gradient to the correlation matrix and display it\n",
    "correlation_matrix_styled  = correlation_matrix.style.background_gradient(cmap='coolwarm').format(precision= 2)\n",
    "p_values_styled  = p_values.style.background_gradient(cmap='coolwarm').format(precision= 2)\n",
    "\n"
   ],
   "metadata": {
    "collapsed": false,
    "ExecuteTime": {
     "end_time": "2024-09-01T23:20:13.779447Z",
     "start_time": "2024-09-01T23:20:12.725006500Z"
    }
   }
  },
  {
   "cell_type": "code",
   "execution_count": 260,
   "outputs": [],
   "source": [
    "#specific_component = components['LIT101']\n",
    "#specific_component.correlation_list\n",
    "#specific_component.correlation_dict"
   ],
   "metadata": {
    "collapsed": false,
    "ExecuteTime": {
     "end_time": "2024-09-01T23:20:13.795071300Z",
     "start_time": "2024-09-01T23:20:13.779447Z"
    }
   }
  },
  {
   "cell_type": "markdown",
   "source": [
    "### Calculate the correlation matrix using Spearman's rank correlation"
   ],
   "metadata": {
    "collapsed": false
   }
  },
  {
   "cell_type": "code",
   "execution_count": 261,
   "outputs": [],
   "source": [
    "# Calculate the correlation matrix using Spearman's rank correlation\n",
    "non_lin_correlation_matrix = df.corr(method='spearman').round(decimals=4)\n",
    "\n",
    "# DataFrame to store p-values with rows and cols being column names\n",
    "non_lin_p_values = pd.DataFrame(index=df.columns, columns=df.columns)\n",
    "\n",
    "# Calculate p-values\n",
    "# for every column\n",
    "for col1 in df.columns:\n",
    "    # calculate values with every other column\n",
    "    for col2 in df.columns:\n",
    "        correlation_coefficient, p_value = spearmanr(df[col1], df[col2])\n",
    "        # Save values to corresponding location in p_values df, rounded to 4.d.p\n",
    "        non_lin_p_values.loc[col1, col2] = round(p_value, 4)\n",
    "\n",
    "# Apply a color gradient to the correlation matrix and display it\n",
    "non_lin_correlation_matrix_styled = non_lin_correlation_matrix.style.background_gradient(cmap='coolwarm')\n",
    "non_lin_p_values_styled = non_lin_p_values.style.background_gradient(cmap='coolwarm').format(precision=2)\n"
   ],
   "metadata": {
    "collapsed": false,
    "ExecuteTime": {
     "end_time": "2024-09-01T23:20:22.701460600Z",
     "start_time": "2024-09-01T23:20:13.795071300Z"
    }
   }
  },
  {
   "cell_type": "code",
   "execution_count": 262,
   "outputs": [],
   "source": [
    "#non_lin_correlation_matrix"
   ],
   "metadata": {
    "collapsed": false,
    "ExecuteTime": {
     "end_time": "2024-09-01T23:20:22.701460600Z",
     "start_time": "2024-09-01T23:20:22.701460600Z"
    }
   }
  },
  {
   "cell_type": "code",
   "execution_count": 263,
   "outputs": [],
   "source": [
    "\n",
    "#non_lin_correlation_matrix.to_csv(r'D:\\GitHub\\MSc-Project-March\\non_lin_cor_matrix.csv', index=True)"
   ],
   "metadata": {
    "collapsed": false,
    "ExecuteTime": {
     "end_time": "2024-09-01T23:20:22.717086900Z",
     "start_time": "2024-09-01T23:20:22.701460600Z"
    }
   }
  },
  {
   "cell_type": "code",
   "execution_count": 264,
   "outputs": [],
   "source": [
    "#specific_component.get_correlated_components_p_value()"
   ],
   "metadata": {
    "collapsed": false,
    "ExecuteTime": {
     "end_time": "2024-09-01T23:20:22.732703100Z",
     "start_time": "2024-09-01T23:20:22.717086900Z"
    }
   }
  },
  {
   "cell_type": "code",
   "execution_count": 296,
   "outputs": [],
   "source": [
    "# class to act as knowledge object for each component in the system\n",
    "class Component:\n",
    "    def __init__(self, name, list_position, correlation_dict= None, p_value_dict= None, non_lin_correlation_dict= None, non_lin_p_value_dict = None ):\n",
    "        self.name = name\n",
    "        # position in results list\n",
    "        self.list_position = list_position\n",
    "        self.top_n_corrs = 0\n",
    "\n",
    "        # empty dict for results from EDA for components relationship to all other components\n",
    "        self.correlation_dict = correlation_dict if correlation_dict is not None else {}\n",
    "        self.p_value_dict = p_value_dict if p_value_dict is not None else {}\n",
    "        self.non_lin_correlation_dict = non_lin_correlation_dict if non_lin_correlation_dict is not None else {}\n",
    "        self.non_lin_p_value_dict = non_lin_p_value_dict if p_value_dict is not None else {}\n",
    "\n",
    "    def get_correlated_components(self, source_data= 'linear', lower_threshold= 0, upper_threshold= 1):\n",
    "        \"\"\"\n",
    "        Returns correlations, takes optional min threshold argument (default is 1 for all values).\n",
    "\n",
    "        Parameters:\n",
    "        - threshold: The minimum correlation value.\n",
    "\n",
    "        Returns:\n",
    "        - A dictionary containing component names as keys and correlation values as values.\n",
    "        \"\"\"\n",
    "        correlated_components = {}\n",
    "        if source_data == 'linear':\n",
    "            for component, correlation in self.correlation_dict.items():\n",
    "                correlation = float(correlation)\n",
    "                if component != self.name and  lower_threshold <= abs(correlation) <= upper_threshold:\n",
    "                    correlated_components[component] = correlation\n",
    "            return correlated_components\n",
    "\n",
    "        if source_data == 'non_linear':\n",
    "            correlated_components = {}\n",
    "            for component, correlation in self.non_lin_correlation_dict.items():\n",
    "                correlation = float(correlation)\n",
    "                if component != self.name and  lower_threshold <= abs(correlation) <= upper_threshold:\n",
    "                    correlated_components[component] = correlation\n",
    "            return correlated_components\n",
    "\n",
    "    # return n strongerst correlations\n",
    "    def get_strongest_correlated_components(self, source_data= 'linear', top_n_corrs = 0):\n",
    "        \"\"\"\n",
    "        Returns correlations, takes optional min threshold argument (default is 1 for all values).\n",
    "\n",
    "        Parameters:\n",
    "        - top_n_corrs: Number of strongest correlations to return.\n",
    "\n",
    "        Returns:\n",
    "        - A dictionary containing component names as keys and correlation values as values.\n",
    "        \"\"\"\n",
    "\n",
    "        if source_data == 'linear':\n",
    "            sorted_dict = dict(sorted(self.correlation_dict.items(), key=lambda item: item[1], reverse=True))\n",
    "\n",
    "            return dict(list(sorted_dict.items())[:top_n_corrs])\n",
    "\n",
    "        if source_data == 'non_linear':\n",
    "            sorted_dict = dict(sorted(self.non_lin_correlation_dict.items(), key=lambda item: item[1], reverse=True))\n",
    "\n",
    "            return dict(list(sorted_dict.items())[:top_n_corrs])\n",
    "\n",
    "    def get_correlated_components_p_value(self, source_data= 'linear', lower_threshold= 0, upper_threshold= 0.05):\n",
    "        \"\"\"\n",
    "        Returns correlated components by p-value, takes optional max threshold argument (default is 1 for all values).\n",
    "\n",
    "        Parameters:\n",
    "        - threshold: The minimum correlation value.\n",
    "\n",
    "        Returns:\n",
    "        - A dictionary containing component names as keys and p values as values.\n",
    "        \"\"\"\n",
    "        correlated_components_p_value = {}\n",
    "\n",
    "        if source_data == 'linear':\n",
    "            for component, p_value in self.p_value_dict.items():\n",
    "                p_value = float(p_value)\n",
    "                if component != self.name and  lower_threshold <= p_value <= upper_threshold:\n",
    "                    correlated_components_p_value[component] = p_value\n",
    "            return correlated_components_p_value\n",
    "\n",
    "        if source_data == 'non_linear':\n",
    "            for component, p_value in self.non_lin_p_value_dict.items():\n",
    "                p_value = float(p_value)\n",
    "                if component != self.name and  lower_threshold <= p_value <= upper_threshold:\n",
    "                    correlated_components_p_value[component] = p_value\n",
    "            return correlated_components_p_value\n",
    "\n",
    "\n",
    "\n",
    "    def plot_comparison_network(self,lower_threshold= 0.5, upper_threshold= 1, top_n_corrs = 0 ,layout= nx.spring_layout ):\n",
    "        \"\"\"\n",
    "        Plot a network of components linked by correlation strength above a certain threshold,\n",
    "        showing an edge if either linear or non-linear correlation is above the minimum threshold,\n",
    "        and differentiating between correlations with curved edges. Labels are offset to reduce overlap.\n",
    "        \"\"\"\n",
    "        G = nx.MultiDiGraph()\n",
    "        # top_n_corrs = int(top_n_corrs)\n",
    "\n",
    "        # Ensure top_n_corrs is an integer\n",
    "        if not isinstance(top_n_corrs, int):\n",
    "            raise ValueError(\"top_n_corrs must be an integer.\")\n",
    "        print(type(top_n_corrs))\n",
    "\n",
    "        # check if top correlations wanted\n",
    "        if top_n_corrs > 0:\n",
    "            # Add nodes (components) and edges ( correlation)\n",
    "            for component, correlation in self.get_strongest_correlated_components('linear', top_n_corrs).items():\n",
    "                G.add_node(component, correlation_strength=correlation)\n",
    "                G.add_edge(self.name, component, weight= correlation, correlation_type='Linear')\n",
    "\n",
    "            for component, correlation in self.get_strongest_correlated_components('non_linear', top_n_corrs).items():\n",
    "                G.add_node(component, correlation_strength=correlation)\n",
    "                G.add_edge(self.name, component, weight= correlation, correlation_type='Non-linear')\n",
    "\n",
    "        # otherwise return results within thresholds\n",
    "        else:\n",
    "            # Add nodes and edges for linear correlation\n",
    "            for component, correlation in self.correlation_dict.items():\n",
    "                if lower_threshold <= abs(correlation) <= upper_threshold or abs(self.non_lin_correlation_dict.get(component, 0)) > lower_threshold:\n",
    "                    G.add_node(component, correlation_strength=correlation)\n",
    "                    G.add_edge(self.name, component, weight=correlation, correlation_type='Linear')\n",
    "\n",
    "            # Add nodes and edges for non-linear correlation\n",
    "            for component, correlation in self.non_lin_correlation_dict.items():\n",
    "                if lower_threshold <= abs(correlation) <= upper_threshold or abs(self.correlation_dict.get(component, 0)) > lower_threshold:\n",
    "                    G.add_node(component, correlation_strength=correlation)\n",
    "                    G.add_edge(self.name, component, weight=correlation, correlation_type='Non-linear')\n",
    "\n",
    "        plt.figure(figsize=(10, 10))\n",
    "        pos = layout(G)\n",
    "\n",
    "        # Draw nodes and labels\n",
    "        nx.draw_networkx_nodes(G, pos, node_size=700, node_color=\"skyblue\", alpha=0.6)\n",
    "        nx.draw_networkx_labels(G, pos, font_weight=\"bold\")\n",
    "\n",
    "        # Function to draw edges with FancyArrowPatch and labels with offset\n",
    "        def draw_edges_with_arrows_and_labels():\n",
    "            for (u, v, attribs) in G.edges(data=True):\n",
    "                edge_type = attribs['correlation_type']\n",
    "                weight = attribs['weight']\n",
    "                color = 'red' if edge_type == 'Non-linear' else 'blue'\n",
    "                style = 'dashed' if edge_type == 'Non-linear' else 'solid'\n",
    "                rad = 0.1 if edge_type == 'Non-linear' else -0.1\n",
    "\n",
    "                arrow = FancyArrowPatch(pos[u], pos[v], arrowstyle='-|>', color=color,\n",
    "                                        linestyle=style, connectionstyle=f'arc3,rad={rad}', linewidth=2, alpha=0.5)\n",
    "                plt.gca().add_patch(arrow)\n",
    "\n",
    "                # Calculate label position with offset\n",
    "                label_x = (pos[u][0] + pos[v][0]) / 2\n",
    "                label_y = (pos[u][1] + pos[v][1]) / 2 + (0.1 if edge_type == 'Non-linear' else -0.1)\n",
    "\n",
    "                plt.text(label_x, label_y, f'{weight:.2f}', color='black', fontsize=10,\n",
    "                         ha='center', va='center', bbox=dict(facecolor='white', alpha=0.5, edgecolor='none'))\n",
    "\n",
    "        draw_edges_with_arrows_and_labels()\n",
    "\n",
    "        plt.axis('off')\n",
    "        plt.title(\"Network of Components Linked by Correlation Strength\")\n",
    "        plt.show()\n",
    "\n",
    "\n",
    "\n",
    "\n",
    "    def plot_dual_component_comparison_network(self, other_component, linear_corr_dict_1, non_linear_corr_dict_1, linear_corr_dict_2, non_linear_corr_dict_2, lower_threshold=0.5, upper_threshold=1, top_n_corrs=0, layout=nx.spring_layout):\n",
    "        \"\"\"\n",
    "        Plot a network of two components linked by correlation strength, showing an edge if either linear or non-linear\n",
    "        correlation is above the minimum threshold. The seed nodes are highlighted in yellow and orange.\n",
    "        \"\"\"\n",
    "        G = nx.MultiDiGraph()\n",
    "\n",
    "        # Ensure top_n_corrs is an integer\n",
    "        if not isinstance(top_n_corrs, int):\n",
    "            raise ValueError(\"top_n_corrs must be an integer.\")\n",
    "\n",
    "        # Add the first component and its correlations\n",
    "        G.add_node(self.name, node_color='yellow')\n",
    "        if top_n_corrs > 0:\n",
    "            # Add top N correlations for the first component\n",
    "            for component, correlation in sorted(linear_corr_dict_1.items(), key=lambda x: abs(x[1]), reverse=True)[:top_n_corrs]:\n",
    "                if component != self.name:\n",
    "                    G.add_node(component, correlation_strength=correlation)\n",
    "                    G.add_edge(self.name, component, weight=correlation, correlation_type='Linear')\n",
    "\n",
    "            for component, correlation in sorted(non_linear_corr_dict_1.items(), key=lambda x: abs(x[1]), reverse=True)[:top_n_corrs]:\n",
    "                if component != self.name:\n",
    "                    G.add_node(component, correlation_strength=correlation)\n",
    "                    G.add_edge(self.name, component, weight=correlation, correlation_type='Non-linear')\n",
    "\n",
    "        else:\n",
    "            # Add correlations within thresholds for the first component\n",
    "            for component, correlation in linear_corr_dict_1.items():\n",
    "                if lower_threshold <= abs(correlation) <= upper_threshold:\n",
    "                    G.add_node(component, correlation_strength=correlation)\n",
    "                    G.add_edge(self.name, component, weight=correlation, correlation_type='Linear')\n",
    "\n",
    "            for component, correlation in non_linear_corr_dict_1.items():\n",
    "                if lower_threshold <= abs(correlation) <= upper_threshold:\n",
    "                    G.add_node(component, correlation_strength=correlation)\n",
    "                    G.add_edge(self.name, component, weight=correlation, correlation_type='Non-linear')\n",
    "\n",
    "        # Add the second component and its correlations\n",
    "        G.add_node(other_component.name, node_color='orange')\n",
    "        if top_n_corrs > 0:\n",
    "            # Add top N correlations for the second component\n",
    "            for component, correlation in sorted(linear_corr_dict_2.items(), key=lambda x: abs(x[1]), reverse=True)[:top_n_corrs]:\n",
    "                if component != other_component.name:\n",
    "                    G.add_node(component, correlation_strength=correlation)\n",
    "                    G.add_edge(other_component.name, component, weight=correlation, correlation_type='Linear')\n",
    "\n",
    "            for component, correlation in sorted(non_linear_corr_dict_2.items(), key=lambda x: abs(x[1]), reverse=True)[:top_n_corrs]:\n",
    "                if component != other_component.name:\n",
    "                    G.add_node(component, correlation_strength=correlation)\n",
    "                    G.add_edge(other_component.name, component, weight=correlation, correlation_type='Non-linear')\n",
    "\n",
    "        else:\n",
    "            # Add correlations within thresholds for the second component\n",
    "            for component, correlation in linear_corr_dict_2.items():\n",
    "                if lower_threshold <= abs(correlation) <= upper_threshold:\n",
    "                    G.add_node(component, correlation_strength=correlation)\n",
    "                    G.add_edge(other_component.name, component, weight=correlation, correlation_type='Linear')\n",
    "\n",
    "            for component, correlation in non_linear_corr_dict_2.items():\n",
    "                if lower_threshold <= abs(correlation) <= upper_threshold:\n",
    "                    G.add_node(component, correlation_strength=correlation)\n",
    "                    G.add_edge(other_component.name, component, weight=correlation, correlation_type='Non-linear')\n",
    "\n",
    "        plt.figure(figsize=(12, 12))\n",
    "        pos = layout(G)\n",
    "\n",
    "        # Draw nodes and labels\n",
    "        node_colors = ['yellow' if node == self.name else 'orange' if node == other_component.name else 'skyblue' for node in G.nodes()]\n",
    "        nx.draw_networkx_nodes(G, pos, node_size=700, node_color=node_colors, alpha=0.6)\n",
    "        nx.draw_networkx_labels(G, pos, font_weight=\"bold\")\n",
    "\n",
    "        # Draw edges with straight lines and labels\n",
    "        edge_colors = ['blue' if attribs['correlation_type'] == 'Linear' else 'red' for _, _, attribs in G.edges(data=True)]\n",
    "        nx.draw_networkx_edges(G, pos, edge_color=edge_colors, width=2, alpha=0.5)\n",
    "\n",
    "        # Add edge labels\n",
    "        edge_labels = {(u, v): f'{d[\"weight\"]:.2f}' for u, v, d in G.edges(data=True)}\n",
    "        nx.draw_networkx_edge_labels(G, pos, edge_labels=edge_labels)\n",
    "\n",
    "        # Create a legend\n",
    "        legend_elements = [\n",
    "            Patch(facecolor='yellow', edgecolor='black', label=f'{self.name} Node'),\n",
    "            Patch(facecolor='orange', edgecolor='black', label=f'{other_component.name} Node'),\n",
    "            Line2D([0], [0], color='blue', lw=2, label='Linear Correlation'),\n",
    "            Line2D([0], [0], color='red', lw=2, linestyle='dashed', label='Non-linear Correlation')\n",
    "        ]\n",
    "        plt.legend(handles=legend_elements, loc='best')\n",
    "\n",
    "\n",
    "\n",
    "        plt.axis('off')\n",
    "        plt.title(f\"Network of {self.name} and {other_component.name} Strongest Correlations\")\n",
    "\n",
    "        plt.savefig('D:\\GitHub\\MSc-Project\\Write_Up\\Charts\\lit_301_401_corr_comparison.jpeg', format='jpeg')\n",
    "\n",
    "        plt.show()\n"
   ],
   "metadata": {
    "collapsed": false,
    "ExecuteTime": {
     "end_time": "2024-09-01T23:25:59.765236600Z",
     "start_time": "2024-09-01T23:25:59.748691Z"
    }
   }
  },
  {
   "cell_type": "code",
   "execution_count": 297,
   "outputs": [],
   "source": [
    "#df.head()"
   ],
   "metadata": {
    "collapsed": false,
    "ExecuteTime": {
     "end_time": "2024-09-01T23:26:00.589416100Z",
     "start_time": "2024-09-01T23:26:00.558169300Z"
    }
   }
  },
  {
   "cell_type": "markdown",
   "source": [
    "## Mutual Information is slow......... Need to bin values before running!"
   ],
   "metadata": {
    "collapsed": false
   }
  },
  {
   "cell_type": "markdown",
   "source": [
    "# Calculate mutual information between features\n",
    "mutual_info_matrix = pd.DataFrame(index=df.columns, columns=df.columns)\n",
    "\n",
    "# Calculate mutual information\n",
    "for col1 in df.columns:\n",
    "    for col2 in df.columns:\n",
    "        mutual_info = mutual_info_regression(df[[col1]], df[col2])[0]\n",
    "        mutual_info_matrix.loc[col1, col2] = mutual_info\n",
    "\n",
    "# Display the mutual information matrix\n",
    "print(mutual_info_matrix)\n"
   ],
   "metadata": {
    "collapsed": false
   }
  },
  {
   "cell_type": "code",
   "execution_count": 298,
   "outputs": [],
   "source": [
    "# Display the mutual information matrix\n",
    "# print(mutual_info_matrix)"
   ],
   "metadata": {
    "collapsed": false,
    "ExecuteTime": {
     "end_time": "2024-09-01T23:26:01.183790200Z",
     "start_time": "2024-09-01T23:26:01.168263500Z"
    }
   }
  },
  {
   "cell_type": "markdown",
   "source": [
    "## Linear and Non Linear Corr Matrices"
   ],
   "metadata": {
    "collapsed": false
   }
  },
  {
   "cell_type": "code",
   "execution_count": 299,
   "outputs": [],
   "source": [
    "# check index is timestamp otherwise it's extracted as a component\n",
    "if df.index.name != 'Timestamp':\n",
    "    df = df.set_index('Timestamp')\n",
    "\n",
    "# iterate through every column and create object of component class\n",
    "# dictionary for all component objects\n",
    "components = {}\n",
    "for n, component in enumerate(df.columns):\n",
    "    # print(n, component)\n",
    "    components[component] = Component(name= component, list_position= n)\n"
   ],
   "metadata": {
    "collapsed": false,
    "ExecuteTime": {
     "end_time": "2024-09-01T23:26:01.574416400Z",
     "start_time": "2024-09-01T23:26:01.558798Z"
    }
   }
  },
  {
   "cell_type": "markdown",
   "source": [
    "Get"
   ],
   "metadata": {
    "collapsed": false
   }
  },
  {
   "cell_type": "code",
   "execution_count": 299,
   "outputs": [],
   "source": [],
   "metadata": {
    "collapsed": false,
    "ExecuteTime": {
     "end_time": "2024-09-01T23:26:01.942467500Z",
     "start_time": "2024-09-01T23:26:01.926902Z"
    }
   }
  },
  {
   "cell_type": "code",
   "execution_count": 300,
   "outputs": [],
   "source": [
    "#components.items()"
   ],
   "metadata": {
    "collapsed": false,
    "ExecuteTime": {
     "end_time": "2024-09-01T23:26:02.161265900Z",
     "start_time": "2024-09-01T23:26:02.129952500Z"
    }
   }
  },
  {
   "cell_type": "code",
   "execution_count": 301,
   "outputs": [],
   "source": [
    "# Assuming components is a dictionary with component names as keys and Component objects as values\n",
    "for component_name, component_obj in components.items():\n",
    "    # Convert correlation coefficient row to dictionary with row index and value\n",
    "    correlation_dict = {col: value for col, value in zip(correlation_matrix.columns, correlation_matrix.loc[component_name]) if col != component_name }\n",
    "    component_obj.correlation_dict = correlation_dict\n",
    "    #print(component_name, component_obj.correlation_dict )\n",
    "\n",
    "    # Convert p-value row to dictionary with row index and value\n",
    "    p_value_dict = {col: value for col, value in zip(p_values.columns, p_values.loc[component_name])}\n",
    "    #p_value_dict = {index: value for index, value in enumerate(p_values.loc[component_name])}\n",
    "    component_obj.p_value_dict = p_value_dict"
   ],
   "metadata": {
    "collapsed": false,
    "ExecuteTime": {
     "end_time": "2024-09-01T23:26:02.362841600Z",
     "start_time": "2024-09-01T23:26:02.316053500Z"
    }
   }
  },
  {
   "cell_type": "code",
   "execution_count": 302,
   "outputs": [],
   "source": [
    "# Assuming components is a dictionary with component names as keys and Component objects as values\n",
    "for component_name, component_obj in components.items():\n",
    "    # Convert correlation coefficient row to dictionary with row index and value\n",
    "    non_lin_correlation_dict = {col: value for col, value in zip(non_lin_correlation_matrix.columns, non_lin_correlation_matrix.loc[component_name]) if col != component_name}\n",
    "    component_obj.non_lin_correlation_dict = non_lin_correlation_dict\n",
    "    #print(component_name, component_obj.non_lin_correlation_dict )\n",
    "\n",
    "    # Convert p-value row to dictionary with row index and value\n",
    "    non_lin_p_value_dict = {col: value for col, value in zip(non_lin_p_values.columns, non_lin_p_values.loc[component_name])}\n",
    "    #p_value_dict = {index: value for index, value in enumerate(p_values.loc[component_name])}\n",
    "    component_obj.non_lin_p_value_dict = non_lin_p_value_dict"
   ],
   "metadata": {
    "collapsed": false,
    "ExecuteTime": {
     "end_time": "2024-09-01T23:26:02.550406800Z",
     "start_time": "2024-09-01T23:26:02.519074800Z"
    }
   }
  },
  {
   "cell_type": "markdown",
   "source": [
    "# Visualising Relationships"
   ],
   "metadata": {
    "collapsed": false
   }
  },
  {
   "cell_type": "code",
   "execution_count": 303,
   "outputs": [
    {
     "ename": "TypeError",
     "evalue": "'<' not supported between instances of 'numpy.ndarray' and 'str'",
     "output_type": "error",
     "traceback": [
      "\u001B[1;31m---------------------------------------------------------------------------\u001B[0m",
      "\u001B[1;31mTypeError\u001B[0m                                 Traceback (most recent call last)",
      "\u001B[1;32m~\\AppData\\Local\\Temp\\ipykernel_19136\\4269960768.py\u001B[0m in \u001B[0;36m<module>\u001B[1;34m\u001B[0m\n\u001B[1;32m----> 1\u001B[1;33m \u001B[0mcomponents\u001B[0m\u001B[1;33m[\u001B[0m\u001B[1;34m'LIT301'\u001B[0m\u001B[1;33m]\u001B[0m\u001B[1;33m.\u001B[0m\u001B[0mget_strongest_correlated_components\u001B[0m\u001B[1;33m(\u001B[0m\u001B[1;34m'linear'\u001B[0m\u001B[1;33m,\u001B[0m \u001B[0mtop_n_corrs\u001B[0m \u001B[1;33m=\u001B[0m\u001B[1;36m6\u001B[0m\u001B[1;33m)\u001B[0m\u001B[1;33m\u001B[0m\u001B[1;33m\u001B[0m\u001B[0m\n\u001B[0m",
      "\u001B[1;32m~\\AppData\\Local\\Temp\\ipykernel_19136\\1297866611.py\u001B[0m in \u001B[0;36mget_strongest_correlated_components\u001B[1;34m(self, source_data, top_n_corrs)\u001B[0m\n\u001B[0;32m     52\u001B[0m \u001B[1;33m\u001B[0m\u001B[0m\n\u001B[0;32m     53\u001B[0m         \u001B[1;32mif\u001B[0m \u001B[0msource_data\u001B[0m \u001B[1;33m==\u001B[0m \u001B[1;34m'linear'\u001B[0m\u001B[1;33m:\u001B[0m\u001B[1;33m\u001B[0m\u001B[1;33m\u001B[0m\u001B[0m\n\u001B[1;32m---> 54\u001B[1;33m             \u001B[0msorted_dict\u001B[0m \u001B[1;33m=\u001B[0m \u001B[0mdict\u001B[0m\u001B[1;33m(\u001B[0m\u001B[0msorted\u001B[0m\u001B[1;33m(\u001B[0m\u001B[0mself\u001B[0m\u001B[1;33m.\u001B[0m\u001B[0mcorrelation_dict\u001B[0m\u001B[1;33m.\u001B[0m\u001B[0mitems\u001B[0m\u001B[1;33m(\u001B[0m\u001B[1;33m)\u001B[0m\u001B[1;33m,\u001B[0m \u001B[0mkey\u001B[0m\u001B[1;33m=\u001B[0m\u001B[1;32mlambda\u001B[0m \u001B[0mitem\u001B[0m\u001B[1;33m:\u001B[0m \u001B[0mitem\u001B[0m\u001B[1;33m[\u001B[0m\u001B[1;36m1\u001B[0m\u001B[1;33m]\u001B[0m\u001B[1;33m,\u001B[0m \u001B[0mreverse\u001B[0m\u001B[1;33m=\u001B[0m\u001B[1;32mTrue\u001B[0m\u001B[1;33m)\u001B[0m\u001B[1;33m)\u001B[0m\u001B[1;33m\u001B[0m\u001B[1;33m\u001B[0m\u001B[0m\n\u001B[0m\u001B[0;32m     55\u001B[0m \u001B[1;33m\u001B[0m\u001B[0m\n\u001B[0;32m     56\u001B[0m             \u001B[1;32mreturn\u001B[0m \u001B[0mdict\u001B[0m\u001B[1;33m(\u001B[0m\u001B[0mlist\u001B[0m\u001B[1;33m(\u001B[0m\u001B[0msorted_dict\u001B[0m\u001B[1;33m.\u001B[0m\u001B[0mitems\u001B[0m\u001B[1;33m(\u001B[0m\u001B[1;33m)\u001B[0m\u001B[1;33m)\u001B[0m\u001B[1;33m[\u001B[0m\u001B[1;33m:\u001B[0m\u001B[0mtop_n_corrs\u001B[0m\u001B[1;33m]\u001B[0m\u001B[1;33m)\u001B[0m\u001B[1;33m\u001B[0m\u001B[1;33m\u001B[0m\u001B[0m\n",
      "\u001B[1;31mTypeError\u001B[0m: '<' not supported between instances of 'numpy.ndarray' and 'str'"
     ]
    }
   ],
   "source": [
    "components['LIT301'].get_strongest_correlated_components('linear', top_n_corrs =6)"
   ],
   "metadata": {
    "collapsed": false,
    "ExecuteTime": {
     "end_time": "2024-09-01T23:26:02.914357500Z",
     "start_time": "2024-09-01T23:26:02.851862400Z"
    }
   }
  },
  {
   "cell_type": "code",
   "execution_count": 304,
   "outputs": [
    {
     "ename": "TypeError",
     "evalue": "'<' not supported between instances of 'numpy.ndarray' and 'str'",
     "output_type": "error",
     "traceback": [
      "\u001B[1;31m---------------------------------------------------------------------------\u001B[0m",
      "\u001B[1;31mTypeError\u001B[0m                                 Traceback (most recent call last)",
      "\u001B[1;32m~\\AppData\\Local\\Temp\\ipykernel_19136\\2322738614.py\u001B[0m in \u001B[0;36m<module>\u001B[1;34m\u001B[0m\n\u001B[1;32m----> 1\u001B[1;33m \u001B[0mstrongest_correlations\u001B[0m \u001B[1;33m=\u001B[0m \u001B[0mcomponents\u001B[0m\u001B[1;33m[\u001B[0m\u001B[1;34m'LIT401'\u001B[0m\u001B[1;33m]\u001B[0m\u001B[1;33m.\u001B[0m\u001B[0mget_strongest_correlated_components\u001B[0m\u001B[1;33m(\u001B[0m\u001B[1;34m'linear'\u001B[0m\u001B[1;33m,\u001B[0m \u001B[0mtop_n_corrs\u001B[0m \u001B[1;33m=\u001B[0m\u001B[1;36m10\u001B[0m\u001B[1;33m)\u001B[0m\u001B[1;33m\u001B[0m\u001B[1;33m\u001B[0m\u001B[0m\n\u001B[0m",
      "\u001B[1;32m~\\AppData\\Local\\Temp\\ipykernel_19136\\1297866611.py\u001B[0m in \u001B[0;36mget_strongest_correlated_components\u001B[1;34m(self, source_data, top_n_corrs)\u001B[0m\n\u001B[0;32m     52\u001B[0m \u001B[1;33m\u001B[0m\u001B[0m\n\u001B[0;32m     53\u001B[0m         \u001B[1;32mif\u001B[0m \u001B[0msource_data\u001B[0m \u001B[1;33m==\u001B[0m \u001B[1;34m'linear'\u001B[0m\u001B[1;33m:\u001B[0m\u001B[1;33m\u001B[0m\u001B[1;33m\u001B[0m\u001B[0m\n\u001B[1;32m---> 54\u001B[1;33m             \u001B[0msorted_dict\u001B[0m \u001B[1;33m=\u001B[0m \u001B[0mdict\u001B[0m\u001B[1;33m(\u001B[0m\u001B[0msorted\u001B[0m\u001B[1;33m(\u001B[0m\u001B[0mself\u001B[0m\u001B[1;33m.\u001B[0m\u001B[0mcorrelation_dict\u001B[0m\u001B[1;33m.\u001B[0m\u001B[0mitems\u001B[0m\u001B[1;33m(\u001B[0m\u001B[1;33m)\u001B[0m\u001B[1;33m,\u001B[0m \u001B[0mkey\u001B[0m\u001B[1;33m=\u001B[0m\u001B[1;32mlambda\u001B[0m \u001B[0mitem\u001B[0m\u001B[1;33m:\u001B[0m \u001B[0mitem\u001B[0m\u001B[1;33m[\u001B[0m\u001B[1;36m1\u001B[0m\u001B[1;33m]\u001B[0m\u001B[1;33m,\u001B[0m \u001B[0mreverse\u001B[0m\u001B[1;33m=\u001B[0m\u001B[1;32mTrue\u001B[0m\u001B[1;33m)\u001B[0m\u001B[1;33m)\u001B[0m\u001B[1;33m\u001B[0m\u001B[1;33m\u001B[0m\u001B[0m\n\u001B[0m\u001B[0;32m     55\u001B[0m \u001B[1;33m\u001B[0m\u001B[0m\n\u001B[0;32m     56\u001B[0m             \u001B[1;32mreturn\u001B[0m \u001B[0mdict\u001B[0m\u001B[1;33m(\u001B[0m\u001B[0mlist\u001B[0m\u001B[1;33m(\u001B[0m\u001B[0msorted_dict\u001B[0m\u001B[1;33m.\u001B[0m\u001B[0mitems\u001B[0m\u001B[1;33m(\u001B[0m\u001B[1;33m)\u001B[0m\u001B[1;33m)\u001B[0m\u001B[1;33m[\u001B[0m\u001B[1;33m:\u001B[0m\u001B[0mtop_n_corrs\u001B[0m\u001B[1;33m]\u001B[0m\u001B[1;33m)\u001B[0m\u001B[1;33m\u001B[0m\u001B[1;33m\u001B[0m\u001B[0m\n",
      "\u001B[1;31mTypeError\u001B[0m: '<' not supported between instances of 'numpy.ndarray' and 'str'"
     ]
    }
   ],
   "source": [
    "strongest_correlations = components['LIT401'].get_strongest_correlated_components('linear', top_n_corrs =10)"
   ],
   "metadata": {
    "collapsed": false,
    "ExecuteTime": {
     "end_time": "2024-09-01T23:26:03.117460300Z",
     "start_time": "2024-09-01T23:26:03.086182Z"
    }
   }
  },
  {
   "cell_type": "code",
   "execution_count": 305,
   "outputs": [
    {
     "data": {
      "text/plain": "{'LIT301': 0.6722,\n 'AIT501': 0.6082,\n 'FIT501': 0.4916,\n 'FIT401': 0.4909,\n 'FIT502': 0.4904,\n 'P501': 0.4667,\n 'UV401': 0.4587,\n 'P402': 0.458,\n 'FIT503': 0.4529,\n 'PIT501': 0.4504}"
     },
     "execution_count": 305,
     "metadata": {},
     "output_type": "execute_result"
    }
   ],
   "source": [
    "strongest_correlations"
   ],
   "metadata": {
    "collapsed": false,
    "ExecuteTime": {
     "end_time": "2024-09-01T23:26:03.336103900Z",
     "start_time": "2024-09-01T23:26:03.289315300Z"
    }
   }
  },
  {
   "cell_type": "code",
   "execution_count": 305,
   "outputs": [],
   "source": [],
   "metadata": {
    "collapsed": false,
    "ExecuteTime": {
     "end_time": "2024-09-01T23:26:03.508048Z",
     "start_time": "2024-09-01T23:26:03.476795100Z"
    }
   }
  },
  {
   "cell_type": "code",
   "execution_count": 306,
   "outputs": [
    {
     "data": {
      "text/plain": "Text(0.5, 1.0, 'Network of Components Linked by Correlation Strength')"
     },
     "execution_count": 306,
     "metadata": {},
     "output_type": "execute_result"
    },
    {
     "data": {
      "text/plain": "<Figure size 1000x800 with 1 Axes>",
      "image/png": "[encoded data removed]"
     },
     "metadata": {},
     "output_type": "display_data"
    }
   ],
   "source": [
    "G = nx.Graph()\n",
    "# Add nodes (components) and edges ( correlation)\n",
    "for component, correlation in strongest_correlations.items():\n",
    "    G.add_node(component, correlation_strength=correlation)\n",
    "    G.add_edge('LIT401', component, weight= correlation)\n",
    "\n",
    "# Set up the layout for the graph\n",
    "pos = nx.spring_layout(G)\n",
    "\n",
    "# Draw the network graph\n",
    "plt.figure(figsize=(10, 8))\n",
    "nx.draw(G, pos, with_labels=True, node_size=500, node_color='skyblue', font_size=10, font_weight='bold')\n",
    "\n",
    "# Draw the edge labels (correlation strengths)\n",
    "edge_labels = nx.get_edge_attributes(G, 'weight')\n",
    "nx.draw_networkx_edge_labels(G, pos, edge_labels=edge_labels)\n",
    "\n",
    "# Set title\n",
    "plt.title(\"Network of Components Linked by Correlation Strength\")"
   ],
   "metadata": {
    "collapsed": false,
    "ExecuteTime": {
     "end_time": "2024-09-01T23:26:03.801963200Z",
     "start_time": "2024-09-01T23:26:03.692547300Z"
    }
   }
  },
  {
   "cell_type": "code",
   "execution_count": 307,
   "outputs": [
    {
     "name": "stdout",
     "output_type": "stream",
     "text": [
      "<class 'int'>\n"
     ]
    },
    {
     "ename": "TypeError",
     "evalue": "'<' not supported between instances of 'numpy.ndarray' and 'str'",
     "output_type": "error",
     "traceback": [
      "\u001B[1;31m---------------------------------------------------------------------------\u001B[0m",
      "\u001B[1;31mTypeError\u001B[0m                                 Traceback (most recent call last)",
      "\u001B[1;32m~\\AppData\\Local\\Temp\\ipykernel_19136\\1701380430.py\u001B[0m in \u001B[0;36m<module>\u001B[1;34m\u001B[0m\n\u001B[1;32m----> 1\u001B[1;33m \u001B[0mcomponents\u001B[0m\u001B[1;33m[\u001B[0m\u001B[1;34m'LIT301'\u001B[0m\u001B[1;33m]\u001B[0m\u001B[1;33m.\u001B[0m\u001B[0mplot_comparison_network\u001B[0m\u001B[1;33m(\u001B[0m \u001B[0mtop_n_corrs\u001B[0m\u001B[1;33m=\u001B[0m \u001B[1;36m3\u001B[0m\u001B[1;33m)\u001B[0m\u001B[1;33m\u001B[0m\u001B[1;33m\u001B[0m\u001B[0m\n\u001B[0m",
      "\u001B[1;32m~\\AppData\\Local\\Temp\\ipykernel_19136\\1297866611.py\u001B[0m in \u001B[0;36mplot_comparison_network\u001B[1;34m(self, lower_threshold, upper_threshold, top_n_corrs, layout)\u001B[0m\n\u001B[0;32m    106\u001B[0m         \u001B[1;32mif\u001B[0m \u001B[0mtop_n_corrs\u001B[0m \u001B[1;33m>\u001B[0m \u001B[1;36m0\u001B[0m\u001B[1;33m:\u001B[0m\u001B[1;33m\u001B[0m\u001B[1;33m\u001B[0m\u001B[0m\n\u001B[0;32m    107\u001B[0m             \u001B[1;31m# Add nodes (components) and edges ( correlation)\u001B[0m\u001B[1;33m\u001B[0m\u001B[1;33m\u001B[0m\u001B[0m\n\u001B[1;32m--> 108\u001B[1;33m             \u001B[1;32mfor\u001B[0m \u001B[0mcomponent\u001B[0m\u001B[1;33m,\u001B[0m \u001B[0mcorrelation\u001B[0m \u001B[1;32min\u001B[0m \u001B[0mself\u001B[0m\u001B[1;33m.\u001B[0m\u001B[0mget_strongest_correlated_components\u001B[0m\u001B[1;33m(\u001B[0m\u001B[1;34m'linear'\u001B[0m\u001B[1;33m,\u001B[0m \u001B[0mtop_n_corrs\u001B[0m\u001B[1;33m)\u001B[0m\u001B[1;33m.\u001B[0m\u001B[0mitems\u001B[0m\u001B[1;33m(\u001B[0m\u001B[1;33m)\u001B[0m\u001B[1;33m:\u001B[0m\u001B[1;33m\u001B[0m\u001B[1;33m\u001B[0m\u001B[0m\n\u001B[0m\u001B[0;32m    109\u001B[0m                 \u001B[0mG\u001B[0m\u001B[1;33m.\u001B[0m\u001B[0madd_node\u001B[0m\u001B[1;33m(\u001B[0m\u001B[0mcomponent\u001B[0m\u001B[1;33m,\u001B[0m \u001B[0mcorrelation_strength\u001B[0m\u001B[1;33m=\u001B[0m\u001B[0mcorrelation\u001B[0m\u001B[1;33m)\u001B[0m\u001B[1;33m\u001B[0m\u001B[1;33m\u001B[0m\u001B[0m\n\u001B[0;32m    110\u001B[0m                 \u001B[0mG\u001B[0m\u001B[1;33m.\u001B[0m\u001B[0madd_edge\u001B[0m\u001B[1;33m(\u001B[0m\u001B[0mself\u001B[0m\u001B[1;33m.\u001B[0m\u001B[0mname\u001B[0m\u001B[1;33m,\u001B[0m \u001B[0mcomponent\u001B[0m\u001B[1;33m,\u001B[0m \u001B[0mweight\u001B[0m\u001B[1;33m=\u001B[0m \u001B[0mcorrelation\u001B[0m\u001B[1;33m,\u001B[0m \u001B[0mcorrelation_type\u001B[0m\u001B[1;33m=\u001B[0m\u001B[1;34m'Linear'\u001B[0m\u001B[1;33m)\u001B[0m\u001B[1;33m\u001B[0m\u001B[1;33m\u001B[0m\u001B[0m\n",
      "\u001B[1;32m~\\AppData\\Local\\Temp\\ipykernel_19136\\1297866611.py\u001B[0m in \u001B[0;36mget_strongest_correlated_components\u001B[1;34m(self, source_data, top_n_corrs)\u001B[0m\n\u001B[0;32m     52\u001B[0m \u001B[1;33m\u001B[0m\u001B[0m\n\u001B[0;32m     53\u001B[0m         \u001B[1;32mif\u001B[0m \u001B[0msource_data\u001B[0m \u001B[1;33m==\u001B[0m \u001B[1;34m'linear'\u001B[0m\u001B[1;33m:\u001B[0m\u001B[1;33m\u001B[0m\u001B[1;33m\u001B[0m\u001B[0m\n\u001B[1;32m---> 54\u001B[1;33m             \u001B[0msorted_dict\u001B[0m \u001B[1;33m=\u001B[0m \u001B[0mdict\u001B[0m\u001B[1;33m(\u001B[0m\u001B[0msorted\u001B[0m\u001B[1;33m(\u001B[0m\u001B[0mself\u001B[0m\u001B[1;33m.\u001B[0m\u001B[0mcorrelation_dict\u001B[0m\u001B[1;33m.\u001B[0m\u001B[0mitems\u001B[0m\u001B[1;33m(\u001B[0m\u001B[1;33m)\u001B[0m\u001B[1;33m,\u001B[0m \u001B[0mkey\u001B[0m\u001B[1;33m=\u001B[0m\u001B[1;32mlambda\u001B[0m \u001B[0mitem\u001B[0m\u001B[1;33m:\u001B[0m \u001B[0mitem\u001B[0m\u001B[1;33m[\u001B[0m\u001B[1;36m1\u001B[0m\u001B[1;33m]\u001B[0m\u001B[1;33m,\u001B[0m \u001B[0mreverse\u001B[0m\u001B[1;33m=\u001B[0m\u001B[1;32mTrue\u001B[0m\u001B[1;33m)\u001B[0m\u001B[1;33m)\u001B[0m\u001B[1;33m\u001B[0m\u001B[1;33m\u001B[0m\u001B[0m\n\u001B[0m\u001B[0;32m     55\u001B[0m \u001B[1;33m\u001B[0m\u001B[0m\n\u001B[0;32m     56\u001B[0m             \u001B[1;32mreturn\u001B[0m \u001B[0mdict\u001B[0m\u001B[1;33m(\u001B[0m\u001B[0mlist\u001B[0m\u001B[1;33m(\u001B[0m\u001B[0msorted_dict\u001B[0m\u001B[1;33m.\u001B[0m\u001B[0mitems\u001B[0m\u001B[1;33m(\u001B[0m\u001B[1;33m)\u001B[0m\u001B[1;33m)\u001B[0m\u001B[1;33m[\u001B[0m\u001B[1;33m:\u001B[0m\u001B[0mtop_n_corrs\u001B[0m\u001B[1;33m]\u001B[0m\u001B[1;33m)\u001B[0m\u001B[1;33m\u001B[0m\u001B[1;33m\u001B[0m\u001B[0m\n",
      "\u001B[1;31mTypeError\u001B[0m: '<' not supported between instances of 'numpy.ndarray' and 'str'"
     ]
    }
   ],
   "source": [
    "components['LIT301'].plot_comparison_network( top_n_corrs= 3)"
   ],
   "metadata": {
    "collapsed": false,
    "ExecuteTime": {
     "end_time": "2024-09-01T23:26:04.851080900Z",
     "start_time": "2024-09-01T23:26:04.772965400Z"
    }
   }
  },
  {
   "cell_type": "code",
   "execution_count": 308,
   "outputs": [
    {
     "ename": "ValueError",
     "evalue": "top_n_corrs must be an integer.",
     "output_type": "error",
     "traceback": [
      "\u001B[1;31m---------------------------------------------------------------------------\u001B[0m",
      "\u001B[1;31mValueError\u001B[0m                                Traceback (most recent call last)",
      "\u001B[1;32m~\\AppData\\Local\\Temp\\ipykernel_19136\\3761365416.py\u001B[0m in \u001B[0;36m<module>\u001B[1;34m\u001B[0m\n\u001B[1;32m----> 1\u001B[1;33m \u001B[0mcomponents\u001B[0m\u001B[1;33m[\u001B[0m\u001B[1;34m'LIT401'\u001B[0m\u001B[1;33m]\u001B[0m\u001B[1;33m.\u001B[0m\u001B[0mplot_comparison_network\u001B[0m\u001B[1;33m(\u001B[0m\u001B[1;36m0.5\u001B[0m\u001B[1;33m,\u001B[0m \u001B[1;36m1\u001B[0m\u001B[1;33m,\u001B[0m \u001B[0mnx\u001B[0m\u001B[1;33m.\u001B[0m\u001B[0mcircular_layout\u001B[0m \u001B[1;33m)\u001B[0m\u001B[1;33m\u001B[0m\u001B[1;33m\u001B[0m\u001B[0m\n\u001B[0m",
      "\u001B[1;32m~\\AppData\\Local\\Temp\\ipykernel_19136\\1297866611.py\u001B[0m in \u001B[0;36mplot_comparison_network\u001B[1;34m(self, lower_threshold, upper_threshold, top_n_corrs, layout)\u001B[0m\n\u001B[0;32m    100\u001B[0m         \u001B[1;31m# Ensure top_n_corrs is an integer\u001B[0m\u001B[1;33m\u001B[0m\u001B[1;33m\u001B[0m\u001B[0m\n\u001B[0;32m    101\u001B[0m         \u001B[1;32mif\u001B[0m \u001B[1;32mnot\u001B[0m \u001B[0misinstance\u001B[0m\u001B[1;33m(\u001B[0m\u001B[0mtop_n_corrs\u001B[0m\u001B[1;33m,\u001B[0m \u001B[0mint\u001B[0m\u001B[1;33m)\u001B[0m\u001B[1;33m:\u001B[0m\u001B[1;33m\u001B[0m\u001B[1;33m\u001B[0m\u001B[0m\n\u001B[1;32m--> 102\u001B[1;33m             \u001B[1;32mraise\u001B[0m \u001B[0mValueError\u001B[0m\u001B[1;33m(\u001B[0m\u001B[1;34m\"top_n_corrs must be an integer.\"\u001B[0m\u001B[1;33m)\u001B[0m\u001B[1;33m\u001B[0m\u001B[1;33m\u001B[0m\u001B[0m\n\u001B[0m\u001B[0;32m    103\u001B[0m         \u001B[0mprint\u001B[0m\u001B[1;33m(\u001B[0m\u001B[0mtype\u001B[0m\u001B[1;33m(\u001B[0m\u001B[0mtop_n_corrs\u001B[0m\u001B[1;33m)\u001B[0m\u001B[1;33m)\u001B[0m\u001B[1;33m\u001B[0m\u001B[1;33m\u001B[0m\u001B[0m\n\u001B[0;32m    104\u001B[0m \u001B[1;33m\u001B[0m\u001B[0m\n",
      "\u001B[1;31mValueError\u001B[0m: top_n_corrs must be an integer."
     ]
    }
   ],
   "source": [
    "components['LIT401'].plot_comparison_network(0.5, 1, nx.circular_layout )"
   ],
   "metadata": {
    "collapsed": false,
    "ExecuteTime": {
     "end_time": "2024-09-01T23:26:05.290240100Z",
     "start_time": "2024-09-01T23:26:05.212118Z"
    }
   }
  },
  {
   "cell_type": "code",
   "execution_count": 309,
   "outputs": [
    {
     "ename": "TypeError",
     "evalue": "'<' not supported between instances of 'numpy.ndarray' and 'str'",
     "output_type": "error",
     "traceback": [
      "\u001B[1;31m---------------------------------------------------------------------------\u001B[0m",
      "\u001B[1;31mTypeError\u001B[0m                                 Traceback (most recent call last)",
      "\u001B[1;32m~\\AppData\\Local\\Temp\\ipykernel_19136\\2817702605.py\u001B[0m in \u001B[0;36m<module>\u001B[1;34m\u001B[0m\n\u001B[1;32m----> 1\u001B[1;33m \u001B[0mlinear_corr_dict_1\u001B[0m \u001B[1;33m=\u001B[0m \u001B[0mcomponents\u001B[0m\u001B[1;33m[\u001B[0m\u001B[1;34m'LIT301'\u001B[0m\u001B[1;33m]\u001B[0m\u001B[1;33m.\u001B[0m\u001B[0mget_strongest_correlated_components\u001B[0m\u001B[1;33m(\u001B[0m\u001B[1;34m'linear'\u001B[0m\u001B[1;33m,\u001B[0m \u001B[0mtop_n_corrs\u001B[0m \u001B[1;33m=\u001B[0m\u001B[1;36m4\u001B[0m\u001B[1;33m)\u001B[0m\u001B[1;33m\u001B[0m\u001B[1;33m\u001B[0m\u001B[0m\n\u001B[0m\u001B[0;32m      2\u001B[0m \u001B[0mnon_linear_corr_dict_1\u001B[0m \u001B[1;33m=\u001B[0m \u001B[0mcomponents\u001B[0m\u001B[1;33m[\u001B[0m\u001B[1;34m'LIT301'\u001B[0m\u001B[1;33m]\u001B[0m\u001B[1;33m.\u001B[0m\u001B[0mget_strongest_correlated_components\u001B[0m\u001B[1;33m(\u001B[0m\u001B[1;34m'non_linear'\u001B[0m\u001B[1;33m,\u001B[0m \u001B[0mtop_n_corrs\u001B[0m \u001B[1;33m=\u001B[0m\u001B[1;36m4\u001B[0m\u001B[1;33m)\u001B[0m\u001B[1;33m\u001B[0m\u001B[1;33m\u001B[0m\u001B[0m\n\u001B[0;32m      3\u001B[0m \u001B[0mlinear_corr_dict_2\u001B[0m \u001B[1;33m=\u001B[0m \u001B[0mcomponents\u001B[0m\u001B[1;33m[\u001B[0m\u001B[1;34m'LIT401'\u001B[0m\u001B[1;33m]\u001B[0m\u001B[1;33m.\u001B[0m\u001B[0mget_strongest_correlated_components\u001B[0m\u001B[1;33m(\u001B[0m\u001B[1;34m'linear'\u001B[0m\u001B[1;33m,\u001B[0m \u001B[0mtop_n_corrs\u001B[0m \u001B[1;33m=\u001B[0m\u001B[1;36m4\u001B[0m\u001B[1;33m)\u001B[0m\u001B[1;33m\u001B[0m\u001B[1;33m\u001B[0m\u001B[0m\n\u001B[0;32m      4\u001B[0m \u001B[0mnon_linear_corr_dict_2\u001B[0m \u001B[1;33m=\u001B[0m \u001B[0mcomponents\u001B[0m\u001B[1;33m[\u001B[0m\u001B[1;34m'LIT401'\u001B[0m\u001B[1;33m]\u001B[0m\u001B[1;33m.\u001B[0m\u001B[0mget_strongest_correlated_components\u001B[0m\u001B[1;33m(\u001B[0m\u001B[1;34m'non_linear'\u001B[0m\u001B[1;33m,\u001B[0m \u001B[0mtop_n_corrs\u001B[0m \u001B[1;33m=\u001B[0m\u001B[1;36m4\u001B[0m\u001B[1;33m)\u001B[0m\u001B[1;33m\u001B[0m\u001B[1;33m\u001B[0m\u001B[0m\n",
      "\u001B[1;32m~\\AppData\\Local\\Temp\\ipykernel_19136\\1297866611.py\u001B[0m in \u001B[0;36mget_strongest_correlated_components\u001B[1;34m(self, source_data, top_n_corrs)\u001B[0m\n\u001B[0;32m     52\u001B[0m \u001B[1;33m\u001B[0m\u001B[0m\n\u001B[0;32m     53\u001B[0m         \u001B[1;32mif\u001B[0m \u001B[0msource_data\u001B[0m \u001B[1;33m==\u001B[0m \u001B[1;34m'linear'\u001B[0m\u001B[1;33m:\u001B[0m\u001B[1;33m\u001B[0m\u001B[1;33m\u001B[0m\u001B[0m\n\u001B[1;32m---> 54\u001B[1;33m             \u001B[0msorted_dict\u001B[0m \u001B[1;33m=\u001B[0m \u001B[0mdict\u001B[0m\u001B[1;33m(\u001B[0m\u001B[0msorted\u001B[0m\u001B[1;33m(\u001B[0m\u001B[0mself\u001B[0m\u001B[1;33m.\u001B[0m\u001B[0mcorrelation_dict\u001B[0m\u001B[1;33m.\u001B[0m\u001B[0mitems\u001B[0m\u001B[1;33m(\u001B[0m\u001B[1;33m)\u001B[0m\u001B[1;33m,\u001B[0m \u001B[0mkey\u001B[0m\u001B[1;33m=\u001B[0m\u001B[1;32mlambda\u001B[0m \u001B[0mitem\u001B[0m\u001B[1;33m:\u001B[0m \u001B[0mitem\u001B[0m\u001B[1;33m[\u001B[0m\u001B[1;36m1\u001B[0m\u001B[1;33m]\u001B[0m\u001B[1;33m,\u001B[0m \u001B[0mreverse\u001B[0m\u001B[1;33m=\u001B[0m\u001B[1;32mTrue\u001B[0m\u001B[1;33m)\u001B[0m\u001B[1;33m)\u001B[0m\u001B[1;33m\u001B[0m\u001B[1;33m\u001B[0m\u001B[0m\n\u001B[0m\u001B[0;32m     55\u001B[0m \u001B[1;33m\u001B[0m\u001B[0m\n\u001B[0;32m     56\u001B[0m             \u001B[1;32mreturn\u001B[0m \u001B[0mdict\u001B[0m\u001B[1;33m(\u001B[0m\u001B[0mlist\u001B[0m\u001B[1;33m(\u001B[0m\u001B[0msorted_dict\u001B[0m\u001B[1;33m.\u001B[0m\u001B[0mitems\u001B[0m\u001B[1;33m(\u001B[0m\u001B[1;33m)\u001B[0m\u001B[1;33m)\u001B[0m\u001B[1;33m[\u001B[0m\u001B[1;33m:\u001B[0m\u001B[0mtop_n_corrs\u001B[0m\u001B[1;33m]\u001B[0m\u001B[1;33m)\u001B[0m\u001B[1;33m\u001B[0m\u001B[1;33m\u001B[0m\u001B[0m\n",
      "\u001B[1;31mTypeError\u001B[0m: '<' not supported between instances of 'numpy.ndarray' and 'str'"
     ]
    }
   ],
   "source": [
    "linear_corr_dict_1 = components['LIT301'].get_strongest_correlated_components('linear', top_n_corrs =4)\n",
    "non_linear_corr_dict_1 = components['LIT301'].get_strongest_correlated_components('non_linear', top_n_corrs =4)\n",
    "linear_corr_dict_2 = components['LIT401'].get_strongest_correlated_components('linear', top_n_corrs =4)\n",
    "non_linear_corr_dict_2 = components['LIT401'].get_strongest_correlated_components('non_linear', top_n_corrs =4)"
   ],
   "metadata": {
    "collapsed": false,
    "ExecuteTime": {
     "end_time": "2024-09-01T23:26:05.785976100Z",
     "start_time": "2024-09-01T23:26:05.754721700Z"
    }
   }
  },
  {
   "cell_type": "code",
   "execution_count": 312,
   "outputs": [
    {
     "data": {
      "text/plain": "<Figure size 1200x1200 with 1 Axes>",
      "image/png": "[encoded data removed]"
     },
     "metadata": {},
     "output_type": "display_data"
    }
   ],
   "source": [
    "# Create two components\n",
    "component1 = components['LIT301']\n",
    "component2 = components['LIT401']\n",
    "\n",
    "# Plot comparison network for both components\n",
    "component1.plot_dual_component_comparison_network(component2, linear_corr_dict_1, non_linear_corr_dict_1, linear_corr_dict_2, non_linear_corr_dict_2, top_n_corrs=3, layout= nx.shell_layout)"
   ],
   "metadata": {
    "collapsed": false,
    "ExecuteTime": {
     "end_time": "2024-09-01T23:35:42.647868200Z",
     "start_time": "2024-09-01T23:35:42.352002100Z"
    }
   }
  },
  {
   "cell_type": "code",
   "execution_count": null,
   "outputs": [],
   "source": [],
   "metadata": {
    "collapsed": false,
    "ExecuteTime": {
     "start_time": "2024-09-01T23:20:23.062555900Z"
    }
   }
  },
  {
   "cell_type": "code",
   "execution_count": null,
   "outputs": [],
   "source": [],
   "metadata": {
    "collapsed": false,
    "ExecuteTime": {
     "start_time": "2024-09-01T23:20:23.062555900Z"
    }
   }
  },
  {
   "cell_type": "code",
   "execution_count": null,
   "outputs": [],
   "source": [],
   "metadata": {
    "collapsed": false,
    "ExecuteTime": {
     "start_time": "2024-09-01T23:20:23.062555900Z"
    }
   }
  },
  {
   "cell_type": "markdown",
   "source": [
    "## Observations\n",
    "P value ( statistical significance) value of 5% indicates 38 of 39 components disprove the null hypothesis that the relationship between components is random. This numebr of related components is acheived by using a Pearson correlation coefficient 0f 0.01 or above ( a very week linear correlation).\n",
    "These Values were calculated from the correlation from the LIT101 water level sensor which is the main water tank at the beginning of the process ( and so is understandably linked to all other components to some degree.\n",
    "Restricted the results to correlation coefficients above 0.6 identifies 5 componnets with strong correlations, all of which are in the same or following stage and are related to the movement of water ( pumps or flow sensors). This suggests the Pearson values are more useful is revelaing system dependencies.\n"
   ],
   "metadata": {
    "collapsed": false
   }
  },
  {
   "cell_type": "markdown",
   "source": [
    "# Non-Linear Correlation of Components\n",
    "The previous stage looked for linear correlation between components, other non- linear methods were evaluated as the complex interplay of componets could lead to non-linear behaviour even with pairwise linear relationships. These methods look for monatonic relationships- the values for two components consistently change together ( positive or negative)."
   ],
   "metadata": {
    "collapsed": false
   }
  },
  {
   "cell_type": "code",
   "execution_count": null,
   "outputs": [],
   "source": [],
   "metadata": {
    "collapsed": false,
    "ExecuteTime": {
     "start_time": "2024-09-01T23:20:23.062555900Z"
    }
   }
  },
  {
   "cell_type": "code",
   "execution_count": null,
   "outputs": [],
   "source": [
    "# Display correlation matrix and p-values\n",
    "#print(\"non_lin Correlation Matrix:\")\n",
    "#display(non_lin_correlation_matrix_styled)\n"
   ],
   "metadata": {
    "collapsed": false,
    "ExecuteTime": {
     "start_time": "2024-09-01T23:20:23.062555900Z"
    }
   }
  },
  {
   "cell_type": "code",
   "execution_count": null,
   "outputs": [],
   "source": [
    "#non_lin_p_values_styled"
   ],
   "metadata": {
    "collapsed": false,
    "ExecuteTime": {
     "start_time": "2024-09-01T23:20:23.062555900Z"
    }
   }
  },
  {
   "cell_type": "code",
   "execution_count": null,
   "outputs": [],
   "source": [],
   "metadata": {
    "collapsed": false,
    "ExecuteTime": {
     "start_time": "2024-09-01T23:20:23.062555900Z"
    }
   }
  },
  {
   "cell_type": "code",
   "execution_count": null,
   "outputs": [],
   "source": [
    "specific_component.get_correlated_components('non_linear', 0.6, 1)"
   ],
   "metadata": {
    "collapsed": false,
    "ExecuteTime": {
     "start_time": "2024-09-01T23:20:23.062555900Z"
    }
   }
  },
  {
   "cell_type": "code",
   "execution_count": 277,
   "outputs": [
    {
     "ename": "NameError",
     "evalue": "name 'specific_component' is not defined",
     "output_type": "error",
     "traceback": [
      "\u001B[1;31m---------------------------------------------------------------------------\u001B[0m",
      "\u001B[1;31mNameError\u001B[0m                                 Traceback (most recent call last)",
      "\u001B[1;32m~\\AppData\\Local\\Temp\\ipykernel_19136\\4188550271.py\u001B[0m in \u001B[0;36m<module>\u001B[1;34m\u001B[0m\n\u001B[1;32m----> 1\u001B[1;33m \u001B[0mlen\u001B[0m\u001B[1;33m(\u001B[0m\u001B[0mspecific_component\u001B[0m\u001B[1;33m.\u001B[0m\u001B[0mget_correlated_components\u001B[0m\u001B[1;33m(\u001B[0m\u001B[1;34m'non_linear'\u001B[0m\u001B[1;33m,\u001B[0m \u001B[1;36m0.6\u001B[0m\u001B[1;33m,\u001B[0m \u001B[1;36m1\u001B[0m\u001B[1;33m)\u001B[0m\u001B[1;33m)\u001B[0m\u001B[1;33m\u001B[0m\u001B[1;33m\u001B[0m\u001B[0m\n\u001B[0m",
      "\u001B[1;31mNameError\u001B[0m: name 'specific_component' is not defined"
     ]
    }
   ],
   "source": [
    "len(specific_component.get_correlated_components('non_linear', 0.6, 1))"
   ],
   "metadata": {
    "collapsed": false,
    "ExecuteTime": {
     "start_time": "2024-09-01T23:20:23.141352300Z"
    }
   }
  },
  {
   "cell_type": "code",
   "execution_count": 278,
   "outputs": [
    {
     "ename": "NameError",
     "evalue": "name 'specific_component' is not defined",
     "output_type": "error",
     "traceback": [
      "\u001B[1;31m---------------------------------------------------------------------------\u001B[0m",
      "\u001B[1;31mNameError\u001B[0m                                 Traceback (most recent call last)",
      "\u001B[1;32m~\\AppData\\Local\\Temp\\ipykernel_19136\\2365526933.py\u001B[0m in \u001B[0;36m<module>\u001B[1;34m\u001B[0m\n\u001B[1;32m----> 1\u001B[1;33m \u001B[0mspecific_component\u001B[0m\u001B[1;33m.\u001B[0m\u001B[0mplot_network\u001B[0m\u001B[1;33m(\u001B[0m\u001B[1;34m'correlation_matrix'\u001B[0m\u001B[1;33m,\u001B[0m \u001B[1;36m0.6\u001B[0m\u001B[1;33m,\u001B[0m \u001B[1;36m1\u001B[0m\u001B[1;33m,\u001B[0m \u001B[0mnx\u001B[0m\u001B[1;33m.\u001B[0m\u001B[0mcircular_layout\u001B[0m \u001B[1;33m)\u001B[0m\u001B[1;33m\u001B[0m\u001B[1;33m\u001B[0m\u001B[0m\n\u001B[0m",
      "\u001B[1;31mNameError\u001B[0m: name 'specific_component' is not defined"
     ]
    }
   ],
   "source": [
    "specific_component.plot_network('correlation_matrix', 0.6, 1, nx.circular_layout )"
   ],
   "metadata": {
    "collapsed": false,
    "ExecuteTime": {
     "end_time": "2024-09-01T23:20:23.400324400Z",
     "start_time": "2024-09-01T23:20:23.364164Z"
    }
   }
  },
  {
   "cell_type": "code",
   "execution_count": 279,
   "outputs": [
    {
     "ename": "NameError",
     "evalue": "name 'specific_component' is not defined",
     "output_type": "error",
     "traceback": [
      "\u001B[1;31m---------------------------------------------------------------------------\u001B[0m",
      "\u001B[1;31mNameError\u001B[0m                                 Traceback (most recent call last)",
      "\u001B[1;32m~\\AppData\\Local\\Temp\\ipykernel_19136\\3686247163.py\u001B[0m in \u001B[0;36m<module>\u001B[1;34m\u001B[0m\n\u001B[1;32m----> 1\u001B[1;33m \u001B[0mspecific_component\u001B[0m\u001B[1;33m.\u001B[0m\u001B[0mplot_network\u001B[0m\u001B[1;33m(\u001B[0m\u001B[1;34m'non_lin_correlation'\u001B[0m\u001B[1;33m,\u001B[0m \u001B[1;36m0.6\u001B[0m\u001B[1;33m,\u001B[0m \u001B[1;36m1\u001B[0m\u001B[1;33m,\u001B[0m \u001B[0mnx\u001B[0m\u001B[1;33m.\u001B[0m\u001B[0mcircular_layout\u001B[0m \u001B[1;33m)\u001B[0m\u001B[1;33m\u001B[0m\u001B[1;33m\u001B[0m\u001B[0m\n\u001B[0m",
      "\u001B[1;31mNameError\u001B[0m: name 'specific_component' is not defined"
     ]
    }
   ],
   "source": [
    "specific_component.plot_network('non_lin_correlation', 0.6, 1, nx.circular_layout )"
   ],
   "metadata": {
    "collapsed": false,
    "ExecuteTime": {
     "end_time": "2024-09-01T23:20:23.653354700Z",
     "start_time": "2024-09-01T23:20:23.589365600Z"
    }
   }
  },
  {
   "cell_type": "markdown",
   "source": [],
   "metadata": {
    "collapsed": false
   }
  },
  {
   "cell_type": "code",
   "execution_count": 280,
   "outputs": [],
   "source": [
    "# Add type of correlation to each matrix\n",
    "correlation_matrix['Correlation Type'] = 'Pearson'\n",
    "non_lin_correlation_matrix['Correlation Type'] = 'Spearman'\n",
    "\n",
    "# jsut use spearman for now\n",
    "#mutual_info_matrix['Correlation Type'] = 'Mutal_Info'"
   ],
   "metadata": {
    "collapsed": false,
    "ExecuteTime": {
     "end_time": "2024-09-01T23:20:24.070075700Z",
     "start_time": "2024-09-01T23:20:24.054450800Z"
    }
   }
  },
  {
   "cell_type": "code",
   "execution_count": 281,
   "outputs": [],
   "source": [
    "# Concatenate two correlation matrices vertically\n",
    "#merged_correlation_matrix = pd.concat([correlation_matrix, non_lin_correlation_matrix, mutual_info_matrix])\n",
    "#merged_correlation_matrix = pd.concat([correlation_matrix, non_lin_correlation_matrix])\n",
    "# Display the merged correlation matrix\n",
    "#print(merged_correlation_matrix)"
   ],
   "metadata": {
    "collapsed": false,
    "ExecuteTime": {
     "end_time": "2024-09-01T23:20:24.288801200Z",
     "start_time": "2024-09-01T23:20:24.273178400Z"
    }
   }
  },
  {
   "cell_type": "code",
   "execution_count": 282,
   "outputs": [
    {
     "name": "stdout",
     "output_type": "stream",
     "text": [
      "FIT101   -0.6478\n",
      "LIT101       1.0\n",
      "MV101    -0.6527\n",
      "P101     -0.6587\n",
      "AIT201    0.0044\n",
      "Name: LIT101, dtype: object\n"
     ]
    }
   ],
   "source": [
    "# Get rows for the component named \"LIT101\" from the merged correlation matrix\n",
    "rows_for_LIT101 = correlation_matrix.loc[\"LIT101\"]\n",
    "\n",
    "# Display the rows for LIT101\n",
    "print(rows_for_LIT101.head())"
   ],
   "metadata": {
    "collapsed": false,
    "ExecuteTime": {
     "end_time": "2024-09-01T23:20:24.526773300Z",
     "start_time": "2024-09-01T23:20:24.511149800Z"
    }
   }
  },
  {
   "cell_type": "code",
   "execution_count": 283,
   "outputs": [
    {
     "ename": "NameError",
     "evalue": "name 'specific_component' is not defined",
     "output_type": "error",
     "traceback": [
      "\u001B[1;31m---------------------------------------------------------------------------\u001B[0m",
      "\u001B[1;31mNameError\u001B[0m                                 Traceback (most recent call last)",
      "\u001B[1;32m~\\AppData\\Local\\Temp\\ipykernel_19136\\3006536546.py\u001B[0m in \u001B[0;36m<module>\u001B[1;34m\u001B[0m\n\u001B[1;32m----> 1\u001B[1;33m \u001B[0mspecific_component\u001B[0m\u001B[1;33m.\u001B[0m\u001B[0mcorrelation_dict\u001B[0m\u001B[1;33m\u001B[0m\u001B[1;33m\u001B[0m\u001B[0m\n\u001B[0m",
      "\u001B[1;31mNameError\u001B[0m: name 'specific_component' is not defined"
     ]
    }
   ],
   "source": [
    "specific_component.correlation_dict"
   ],
   "metadata": {
    "collapsed": false,
    "ExecuteTime": {
     "end_time": "2024-09-01T23:20:25.076244900Z",
     "start_time": "2024-09-01T23:20:25.060619700Z"
    }
   }
  },
  {
   "cell_type": "code",
   "execution_count": 284,
   "outputs": [
    {
     "ename": "NameError",
     "evalue": "name 'specific_component' is not defined",
     "output_type": "error",
     "traceback": [
      "\u001B[1;31m---------------------------------------------------------------------------\u001B[0m",
      "\u001B[1;31mNameError\u001B[0m                                 Traceback (most recent call last)",
      "\u001B[1;32m~\\AppData\\Local\\Temp\\ipykernel_19136\\3673981956.py\u001B[0m in \u001B[0;36m<module>\u001B[1;34m\u001B[0m\n\u001B[1;32m----> 1\u001B[1;33m \u001B[0mspecific_component\u001B[0m\u001B[1;33m.\u001B[0m\u001B[0mnon_lin_correlation_dict\u001B[0m\u001B[1;33m\u001B[0m\u001B[1;33m\u001B[0m\u001B[0m\n\u001B[0m",
      "\u001B[1;31mNameError\u001B[0m: name 'specific_component' is not defined"
     ]
    }
   ],
   "source": [
    "specific_component.non_lin_correlation_dict"
   ],
   "metadata": {
    "collapsed": false,
    "ExecuteTime": {
     "end_time": "2024-09-01T23:20:25.543281Z",
     "start_time": "2024-09-01T23:20:25.480782700Z"
    }
   }
  },
  {
   "cell_type": "code",
   "execution_count": 285,
   "outputs": [
    {
     "data": {
      "text/plain": "        FIT101  LIT101   MV101    P101  AIT201  AIT202  AIT203  FIT201  \\\nFIT101  1.0000 -0.6478  0.9805  0.2205 -0.0021 -0.0864  0.0320  0.2267   \nLIT101 -0.6478  1.0000 -0.6527 -0.6587  0.0044  0.2195 -0.1380 -0.6668   \nMV101   0.9805 -0.6527  1.0000  0.2337 -0.0020 -0.0899  0.0338  0.2399   \nP101    0.2205 -0.6587  0.2337  1.0000  0.0016 -0.3130  0.1253  0.9949   \nAIT201 -0.0021  0.0044 -0.0020  0.0016  1.0000 -0.1015 -0.3301  0.0026   \n\n         MV201    P203  ...  FIT502  FIT503  FIT504    P501  PIT501  PIT502  \\\nFIT101  0.2223  0.2287  ...  0.0269  0.0155  0.0048  0.0155  0.0266  0.0542   \nLIT101 -0.6591 -0.6671  ...  0.1726  0.1800  0.1875  0.1818  0.1660 -0.0271   \nMV101   0.2356  0.2419  ...  0.0263  0.0152  0.0044  0.0152  0.0264  0.0537   \nP101    0.9940  0.9956  ...  0.0484  0.0404  0.0340  0.0410  0.0452  0.0508   \nAIT201 -0.0013  0.0010  ...  0.1223  0.0583  0.0597  0.0837  0.0383 -0.1904   \n\n        PIT503  FIT601    P602  Correlation Type  \nFIT101  0.0284  0.0589  0.0565           Pearson  \nLIT101  0.1620 -0.0676 -0.0648           Pearson  \nMV101   0.0282  0.0593  0.0569           Pearson  \nP101    0.0454  0.0492  0.0494           Pearson  \nAIT201  0.0234 -0.0000  0.0003           Pearson  \n\n[5 rows x 41 columns]",
      "text/html": "<div>\n<style scoped>\n    .dataframe tbody tr th:only-of-type {\n        vertical-align: middle;\n    }\n\n    .dataframe tbody tr th {\n        vertical-align: top;\n    }\n\n    .dataframe thead th {\n        text-align: right;\n    }\n</style>\n<table border=\"1\" class=\"dataframe\">\n  <thead>\n    <tr style=\"text-align: right;\">\n      <th></th>\n      <th>FIT101</th>\n      <th>LIT101</th>\n      <th>MV101</th>\n      <th>P101</th>\n      <th>AIT201</th>\n      <th>AIT202</th>\n      <th>AIT203</th>\n      <th>FIT201</th>\n      <th>MV201</th>\n      <th>P203</th>\n      <th>...</th>\n      <th>FIT502</th>\n      <th>FIT503</th>\n      <th>FIT504</th>\n      <th>P501</th>\n      <th>PIT501</th>\n      <th>PIT502</th>\n      <th>PIT503</th>\n      <th>FIT601</th>\n      <th>P602</th>\n      <th>Correlation Type</th>\n    </tr>\n  </thead>\n  <tbody>\n    <tr>\n      <th>FIT101</th>\n      <td>1.0000</td>\n      <td>-0.6478</td>\n      <td>0.9805</td>\n      <td>0.2205</td>\n      <td>-0.0021</td>\n      <td>-0.0864</td>\n      <td>0.0320</td>\n      <td>0.2267</td>\n      <td>0.2223</td>\n      <td>0.2287</td>\n      <td>...</td>\n      <td>0.0269</td>\n      <td>0.0155</td>\n      <td>0.0048</td>\n      <td>0.0155</td>\n      <td>0.0266</td>\n      <td>0.0542</td>\n      <td>0.0284</td>\n      <td>0.0589</td>\n      <td>0.0565</td>\n      <td>Pearson</td>\n    </tr>\n    <tr>\n      <th>LIT101</th>\n      <td>-0.6478</td>\n      <td>1.0000</td>\n      <td>-0.6527</td>\n      <td>-0.6587</td>\n      <td>0.0044</td>\n      <td>0.2195</td>\n      <td>-0.1380</td>\n      <td>-0.6668</td>\n      <td>-0.6591</td>\n      <td>-0.6671</td>\n      <td>...</td>\n      <td>0.1726</td>\n      <td>0.1800</td>\n      <td>0.1875</td>\n      <td>0.1818</td>\n      <td>0.1660</td>\n      <td>-0.0271</td>\n      <td>0.1620</td>\n      <td>-0.0676</td>\n      <td>-0.0648</td>\n      <td>Pearson</td>\n    </tr>\n    <tr>\n      <th>MV101</th>\n      <td>0.9805</td>\n      <td>-0.6527</td>\n      <td>1.0000</td>\n      <td>0.2337</td>\n      <td>-0.0020</td>\n      <td>-0.0899</td>\n      <td>0.0338</td>\n      <td>0.2399</td>\n      <td>0.2356</td>\n      <td>0.2419</td>\n      <td>...</td>\n      <td>0.0263</td>\n      <td>0.0152</td>\n      <td>0.0044</td>\n      <td>0.0152</td>\n      <td>0.0264</td>\n      <td>0.0537</td>\n      <td>0.0282</td>\n      <td>0.0593</td>\n      <td>0.0569</td>\n      <td>Pearson</td>\n    </tr>\n    <tr>\n      <th>P101</th>\n      <td>0.2205</td>\n      <td>-0.6587</td>\n      <td>0.2337</td>\n      <td>1.0000</td>\n      <td>0.0016</td>\n      <td>-0.3130</td>\n      <td>0.1253</td>\n      <td>0.9949</td>\n      <td>0.9940</td>\n      <td>0.9956</td>\n      <td>...</td>\n      <td>0.0484</td>\n      <td>0.0404</td>\n      <td>0.0340</td>\n      <td>0.0410</td>\n      <td>0.0452</td>\n      <td>0.0508</td>\n      <td>0.0454</td>\n      <td>0.0492</td>\n      <td>0.0494</td>\n      <td>Pearson</td>\n    </tr>\n    <tr>\n      <th>AIT201</th>\n      <td>-0.0021</td>\n      <td>0.0044</td>\n      <td>-0.0020</td>\n      <td>0.0016</td>\n      <td>1.0000</td>\n      <td>-0.1015</td>\n      <td>-0.3301</td>\n      <td>0.0026</td>\n      <td>-0.0013</td>\n      <td>0.0010</td>\n      <td>...</td>\n      <td>0.1223</td>\n      <td>0.0583</td>\n      <td>0.0597</td>\n      <td>0.0837</td>\n      <td>0.0383</td>\n      <td>-0.1904</td>\n      <td>0.0234</td>\n      <td>-0.0000</td>\n      <td>0.0003</td>\n      <td>Pearson</td>\n    </tr>\n  </tbody>\n</table>\n<p>5 rows × 41 columns</p>\n</div>"
     },
     "execution_count": 285,
     "metadata": {},
     "output_type": "execute_result"
    }
   ],
   "source": [
    "correlation_matrix.head()"
   ],
   "metadata": {
    "collapsed": false,
    "ExecuteTime": {
     "end_time": "2024-09-01T23:20:26.046409800Z",
     "start_time": "2024-09-01T23:20:25.983793100Z"
    }
   }
  },
  {
   "cell_type": "code",
   "execution_count": 286,
   "outputs": [
    {
     "ename": "NameError",
     "evalue": "name 'specific_component' is not defined",
     "output_type": "error",
     "traceback": [
      "\u001B[1;31m---------------------------------------------------------------------------\u001B[0m",
      "\u001B[1;31mNameError\u001B[0m                                 Traceback (most recent call last)",
      "\u001B[1;32m~\\AppData\\Local\\Temp\\ipykernel_19136\\1615191341.py\u001B[0m in \u001B[0;36m<module>\u001B[1;34m\u001B[0m\n\u001B[1;32m----> 1\u001B[1;33m \u001B[0mspecific_component\u001B[0m\u001B[1;33m.\u001B[0m\u001B[0mplot_comparison_network\u001B[0m\u001B[1;33m(\u001B[0m\u001B[1;36m.5\u001B[0m\u001B[1;33m,\u001B[0m \u001B[1;36m1\u001B[0m\u001B[1;33m,\u001B[0m \u001B[0mnx\u001B[0m\u001B[1;33m.\u001B[0m\u001B[0mcircular_layout\u001B[0m \u001B[1;33m)\u001B[0m\u001B[1;33m\u001B[0m\u001B[1;33m\u001B[0m\u001B[0m\n\u001B[0m",
      "\u001B[1;31mNameError\u001B[0m: name 'specific_component' is not defined"
     ]
    }
   ],
   "source": [
    "specific_component.plot_comparison_network(.5, 1, nx.circular_layout )"
   ],
   "metadata": {
    "collapsed": false,
    "ExecuteTime": {
     "end_time": "2024-09-01T23:20:26.916234400Z",
     "start_time": "2024-09-01T23:20:26.853612800Z"
    }
   }
  },
  {
   "cell_type": "code",
   "execution_count": 287,
   "outputs": [
    {
     "ename": "NameError",
     "evalue": "name 'specific_component' is not defined",
     "output_type": "error",
     "traceback": [
      "\u001B[1;31m---------------------------------------------------------------------------\u001B[0m",
      "\u001B[1;31mNameError\u001B[0m                                 Traceback (most recent call last)",
      "\u001B[1;32m~\\AppData\\Local\\Temp\\ipykernel_19136\\727483395.py\u001B[0m in \u001B[0;36m<module>\u001B[1;34m\u001B[0m\n\u001B[1;32m----> 1\u001B[1;33m \u001B[0mtype\u001B[0m\u001B[1;33m(\u001B[0m\u001B[0mspecific_component\u001B[0m\u001B[1;33m)\u001B[0m\u001B[1;33m\u001B[0m\u001B[1;33m\u001B[0m\u001B[0m\n\u001B[0m",
      "\u001B[1;31mNameError\u001B[0m: name 'specific_component' is not defined"
     ]
    }
   ],
   "source": [
    "type(specific_component)"
   ],
   "metadata": {
    "collapsed": false,
    "ExecuteTime": {
     "end_time": "2024-09-01T23:20:27.705908500Z",
     "start_time": "2024-09-01T23:20:27.426907400Z"
    }
   }
  },
  {
   "cell_type": "code",
   "execution_count": 287,
   "outputs": [],
   "source": [],
   "metadata": {
    "collapsed": false,
    "ExecuteTime": {
     "end_time": "2024-09-01T23:20:28.467974400Z",
     "start_time": "2024-09-01T23:20:28.221147700Z"
    }
   }
  },
  {
   "cell_type": "code",
   "execution_count": 287,
   "outputs": [],
   "source": [],
   "metadata": {
    "collapsed": false,
    "ExecuteTime": {
     "end_time": "2024-09-01T23:20:41.400836600Z",
     "start_time": "2024-09-01T23:20:41.369510100Z"
    }
   }
  },
  {
   "cell_type": "code",
   "execution_count": 287,
   "outputs": [],
   "source": [],
   "metadata": {
    "collapsed": false,
    "ExecuteTime": {
     "end_time": "2024-09-01T23:20:41.650204300Z",
     "start_time": "2024-09-01T23:20:41.634580300Z"
    }
   }
  },
  {
   "cell_type": "code",
   "execution_count": 287,
   "outputs": [],
   "source": [],
   "metadata": {
    "collapsed": false,
    "ExecuteTime": {
     "end_time": "2024-09-01T23:20:41.909041400Z",
     "start_time": "2024-09-01T23:20:41.881887100Z"
    }
   }
  },
  {
   "cell_type": "code",
   "execution_count": 288,
   "outputs": [
    {
     "data": {
      "text/plain": "FIT101              -0.6478\nLIT101                  1.0\nMV101               -0.6527\nP101                -0.6587\nAIT201               0.0044\nAIT202               0.2195\nAIT203               -0.138\nFIT201              -0.6668\nMV201               -0.6591\nP203                -0.6671\nP205                -0.4893\nDPIT301             -0.1531\nFIT301              -0.1511\nLIT301               0.1817\nMV301               -0.0416\nMV302                -0.145\nMV303               -0.0873\nMV304               -0.0131\nP301                -0.1572\nP302                -0.1078\nAIT401               0.0811\nAIT402              -0.1662\nFIT401               0.1771\nLIT401              -0.1631\nP402                 0.1787\nUV401                 0.179\nAIT501               0.2652\nAIT502              -0.1781\nAIT503              -0.0538\nAIT504              -0.1803\nFIT501                0.177\nFIT502               0.1726\nFIT503                 0.18\nFIT504               0.1875\nP501                 0.1818\nPIT501                0.166\nPIT502              -0.0271\nPIT503                0.162\nFIT601              -0.0676\nP602                -0.0648\nCorrelation Type    Pearson\nName: LIT101, dtype: object"
     },
     "metadata": {},
     "output_type": "display_data"
    }
   ],
   "source": [
    "display(rows_for_LIT101)"
   ],
   "metadata": {
    "collapsed": false,
    "ExecuteTime": {
     "end_time": "2024-09-01T23:20:42.102585800Z",
     "start_time": "2024-09-01T23:20:42.087019400Z"
    }
   }
  },
  {
   "cell_type": "code",
   "execution_count": 288,
   "outputs": [],
   "source": [],
   "metadata": {
    "collapsed": false,
    "ExecuteTime": {
     "end_time": "2024-09-01T23:20:42.297560300Z",
     "start_time": "2024-09-01T23:20:42.266314500Z"
    }
   }
  },
  {
   "cell_type": "markdown",
   "source": [
    "# Create masks for Spearman and Mutual Information correlations higher than Pearson"
   ],
   "metadata": {
    "collapsed": false
   }
  },
  {
   "cell_type": "code",
   "execution_count": 289,
   "outputs": [
    {
     "ename": "NameError",
     "evalue": "name 'mutual_info_matrix' is not defined",
     "output_type": "error",
     "traceback": [
      "\u001B[1;31m---------------------------------------------------------------------------\u001B[0m",
      "\u001B[1;31mNameError\u001B[0m                                 Traceback (most recent call last)",
      "\u001B[1;32m~\\AppData\\Local\\Temp\\ipykernel_19136\\2786719287.py\u001B[0m in \u001B[0;36m<module>\u001B[1;34m\u001B[0m\n\u001B[0;32m      1\u001B[0m \u001B[1;31m# Create masks for Spearman and Mutual Information correlations higher than Pearson\u001B[0m\u001B[1;33m\u001B[0m\u001B[1;33m\u001B[0m\u001B[0m\n\u001B[0;32m      2\u001B[0m \u001B[0mspearman_higher_mask\u001B[0m \u001B[1;33m=\u001B[0m \u001B[0mnon_lin_correlation_matrix\u001B[0m \u001B[1;33m>\u001B[0m \u001B[0mcorrelation_matrix\u001B[0m\u001B[1;33m\u001B[0m\u001B[1;33m\u001B[0m\u001B[0m\n\u001B[1;32m----> 3\u001B[1;33m \u001B[0mmutual_info_higher_mask\u001B[0m \u001B[1;33m=\u001B[0m \u001B[0mmutual_info_matrix\u001B[0m \u001B[1;33m>\u001B[0m \u001B[0mcorrelation_matrix\u001B[0m\u001B[1;33m\u001B[0m\u001B[1;33m\u001B[0m\u001B[0m\n\u001B[0m\u001B[0;32m      4\u001B[0m \u001B[1;33m\u001B[0m\u001B[0m\n\u001B[0;32m      5\u001B[0m \u001B[1;31m# Extract values where Spearman correlation is higher than Pearson\u001B[0m\u001B[1;33m\u001B[0m\u001B[1;33m\u001B[0m\u001B[0m\n",
      "\u001B[1;31mNameError\u001B[0m: name 'mutual_info_matrix' is not defined"
     ]
    }
   ],
   "source": [
    "# Create masks for Spearman and Mutual Information correlations higher than Pearson\n",
    "spearman_higher_mask = non_lin_correlation_matrix > correlation_matrix\n",
    "mutual_info_higher_mask = mutual_info_matrix > correlation_matrix\n",
    "\n",
    "# Extract values where Spearman correlation is higher than Pearson\n",
    "spearman_higher_values = non_lin_correlation_matrix[spearman_higher_mask]\n",
    "\n",
    "# Extract values where Mutual Information correlation is higher than Pearson\n",
    "mutual_info_higher_values = mutual_info_matrix[mutual_info_higher_mask]\n",
    "\n",
    "# Combine the extracted values\n",
    "higher_values = pd.concat([spearman_higher_values, mutual_info_higher_values])\n",
    "\n",
    "# Plot the higher values\n",
    "plt.figure(figsize=(10, 6))\n",
    "sns.barplot(x=higher_values.index, y=higher_values.values, palette='coolwarm')\n",
    "plt.title('Values where Spearman or Mutual Info are higher than Pearson')\n",
    "plt.xlabel('Component Pair')\n",
    "plt.ylabel('Correlation Value')\n",
    "plt.xticks(rotation=90)\n",
    "plt.tight_layout()\n",
    "plt.show()\n"
   ],
   "metadata": {
    "collapsed": false,
    "ExecuteTime": {
     "end_time": "2024-09-01T23:20:42.809360100Z",
     "start_time": "2024-09-01T23:20:42.746730Z"
    }
   }
  },
  {
   "cell_type": "markdown",
   "source": [
    "# Original Section"
   ],
   "metadata": {
    "collapsed": false
   }
  },
  {
   "cell_type": "markdown",
   "source": [
    "Get distributions for each variable. Get range, divide into 100 bins then count variables ineach. Visualise in plot"
   ],
   "metadata": {
    "collapsed": false
   }
  },
  {
   "cell_type": "code",
   "execution_count": 290,
   "outputs": [],
   "source": [
    "# make new df to hold variable distributions\n",
    "df_distributions = pd.DataFrame()"
   ],
   "metadata": {
    "collapsed": false,
    "ExecuteTime": {
     "end_time": "2024-09-01T23:20:43.821468700Z",
     "start_time": "2024-09-01T23:20:43.804527900Z"
    }
   }
  },
  {
   "cell_type": "markdown",
   "source": [
    "Sample df as 10 second mean for all values so df is 10% of original to east manipulation"
   ],
   "metadata": {
    "collapsed": false
   }
  },
  {
   "cell_type": "code",
   "execution_count": 291,
   "outputs": [],
   "source": [
    "def plotBinCounts(name, bin_counts, bin_edges):\n",
    "    '''\n",
    "    Function to plot the distribution of bin counts.\n",
    "    Parameters:\n",
    "    - bin_counts: a pandas Series containing the counts of values in each bin.\n",
    "    - bin_edges: an array containing the bin edges.\n",
    "    '''\n",
    "\n",
    "    # Set the size of the plot\n",
    "    plt.figure(figsize=(10,6))\n",
    "\n",
    "    # Plot the bin counts\n",
    "    bin_counts.plot(kind='bar', logy=True)\n",
    "\n",
    "    # Set the title and labels\n",
    "    plt.title(f'Distribution of {name}')\n",
    "    plt.ylabel('Counts')\n",
    "\n",
    "    # Calculate total range and step size for approximately 10 divisions\n",
    "    total_range = bin_edges[-1] - bin_edges[0]\n",
    "    step_size = total_range / 10\n",
    "\n",
    "    # Round step size to a whole number (e.g., 10, 20, etc.) that makes sense for your data\n",
    "    rounded_step_size = round(step_size / 10) * 10\n",
    "\n",
    "    # Generate custom tick positions and labels\n",
    "    tick_positions = np.arange(0, len(bin_edges) - 1, rounded_step_size / (bin_edges[1] - bin_edges[0]))\n",
    "    tick_labels = [f\"{bin_edges[int(pos)]:.0f}\" for pos in tick_positions]\n",
    "\n",
    "    # Set x-ticks to represent the overall value range of the bins\n",
    "    plt.xticks(ticks=tick_positions,\n",
    "               labels=tick_labels,\n",
    "               rotation=45)  # Rotate labels for better readability\n",
    "\n",
    "    # Optional: Set x-axis label\n",
    "    plt.xlabel('Value Range')\n",
    "\n",
    "    # Show the plot\n",
    "    plt.show()\n",
    "\n",
    "# Example usage:\n",
    "# Assuming bin_counts and bins are obtained from the getDistribution function\n",
    "# plotBinCounts(bin_counts, bins)\n"
   ],
   "metadata": {
    "collapsed": false,
    "ExecuteTime": {
     "end_time": "2024-09-01T23:20:44.463301500Z",
     "start_time": "2024-09-01T23:20:44.447598500Z"
    }
   }
  },
  {
   "cell_type": "code",
   "execution_count": 292,
   "outputs": [],
   "source": [
    "# function to get distribution\n",
    "def getDistribution(variable_col):\n",
    "    '''\n",
    "    Function to get distribution of values in variable column.\n",
    "    Returns\n",
    "    '''\n",
    "    #get variable min and max values and calculate range\n",
    "\n",
    "    var_range = df[variable_col].max() - df[variable_col].min()\n",
    "\n",
    "    print(f'Var Range:  {var_range}')\n",
    "\n",
    "    # divide into 100 bins\n",
    "    bin_size = var_range/100\n",
    "\n",
    "    # Create bins edges from min to max with using bin_size'\n",
    "    bins = np.arange(df[variable_col].min(), df[variable_col].max() + bin_size, bin_size)\n",
    "\n",
    "    # Use pd.cut to segment and sort the data values into bins\n",
    "    df_distributions[variable_col + '_bins'] = pd.cut(df[variable_col], bins=bins, include_lowest=True)\n",
    "\n",
    "    # Count the number of values in each bin\n",
    "    bin_counts = df_distributions[variable_col + '_bins'].value_counts().sort_index()\n",
    "\n",
    "    # call sisualisation function\n",
    "    plotBinCounts(variable_col, bin_counts, bins)\n",
    "\n",
    "    # return bin_counts, bins"
   ],
   "metadata": {
    "collapsed": false,
    "ExecuteTime": {
     "end_time": "2024-09-01T23:20:44.720456700Z",
     "start_time": "2024-09-01T23:20:44.706175300Z"
    }
   }
  },
  {
   "cell_type": "code",
   "execution_count": 293,
   "outputs": [
    {
     "name": "stdout",
     "output_type": "stream",
     "text": [
      "Var Range:  696.22615\n"
     ]
    },
    {
     "data": {
      "text/plain": "<Figure size 1000x600 with 1 Axes>",
      "image/png": "[encoded data removed]"
     },
     "metadata": {},
     "output_type": "display_data"
    }
   ],
   "source": [
    "# test with FIT101\n",
    "#lit101_dist, bins = getDistribution('LIT101')\n",
    "#plotBinCounts(lit101_dist, bins)\n",
    "\n",
    "getDistribution('LIT101')"
   ],
   "metadata": {
    "collapsed": false,
    "ExecuteTime": {
     "end_time": "2024-09-01T23:20:45.404025300Z",
     "start_time": "2024-09-01T23:20:44.923631700Z"
    }
   }
  },
  {
   "cell_type": "markdown",
   "source": [
    "1,FIT-101,Sensor,Flow meter; Measures inflow into raw water tank.\n",
    "2,LIT-101,Sensor,Level Transmitter; Raw water tank level.\n",
    "3,MV-101,Actuator,Motorized valve; Controls water flow to the raw water tank."
   ],
   "metadata": {
    "collapsed": false
   }
  },
  {
   "cell_type": "code",
   "execution_count": 294,
   "outputs": [
    {
     "name": "stdout",
     "output_type": "stream",
     "text": [
      "Var Range:  1.9\n"
     ]
    },
    {
     "name": "stderr",
     "output_type": "stream",
     "text": [
      "C:\\Users\\laure\\AppData\\Local\\Temp\\ipykernel_19136\\2836748902.py:27: RuntimeWarning: divide by zero encountered in double_scalars\n",
      "  tick_positions = np.arange(0, len(bin_edges) - 1, rounded_step_size / (bin_edges[1] - bin_edges[0]))\n"
     ]
    },
    {
     "ename": "ValueError",
     "evalue": "Maximum allowed size exceeded",
     "output_type": "error",
     "traceback": [
      "\u001B[1;31m---------------------------------------------------------------------------\u001B[0m",
      "\u001B[1;31mValueError\u001B[0m                                Traceback (most recent call last)",
      "\u001B[1;32m~\\AppData\\Local\\Temp\\ipykernel_19136\\3545525452.py\u001B[0m in \u001B[0;36m<module>\u001B[1;34m\u001B[0m\n\u001B[1;32m----> 1\u001B[1;33m \u001B[0mgetDistribution\u001B[0m\u001B[1;33m(\u001B[0m\u001B[1;34m'MV101'\u001B[0m\u001B[1;33m)\u001B[0m\u001B[1;33m\u001B[0m\u001B[1;33m\u001B[0m\u001B[0m\n\u001B[0m",
      "\u001B[1;32m~\\AppData\\Local\\Temp\\ipykernel_19136\\1717738332.py\u001B[0m in \u001B[0;36mgetDistribution\u001B[1;34m(variable_col)\u001B[0m\n\u001B[0;32m     24\u001B[0m \u001B[1;33m\u001B[0m\u001B[0m\n\u001B[0;32m     25\u001B[0m     \u001B[1;31m# call sisualisation function\u001B[0m\u001B[1;33m\u001B[0m\u001B[1;33m\u001B[0m\u001B[0m\n\u001B[1;32m---> 26\u001B[1;33m     \u001B[0mplotBinCounts\u001B[0m\u001B[1;33m(\u001B[0m\u001B[0mvariable_col\u001B[0m\u001B[1;33m,\u001B[0m \u001B[0mbin_counts\u001B[0m\u001B[1;33m,\u001B[0m \u001B[0mbins\u001B[0m\u001B[1;33m)\u001B[0m\u001B[1;33m\u001B[0m\u001B[1;33m\u001B[0m\u001B[0m\n\u001B[0m\u001B[0;32m     27\u001B[0m \u001B[1;33m\u001B[0m\u001B[0m\n\u001B[0;32m     28\u001B[0m     \u001B[1;31m# return bin_counts, bins\u001B[0m\u001B[1;33m\u001B[0m\u001B[1;33m\u001B[0m\u001B[0m\n",
      "\u001B[1;32m~\\AppData\\Local\\Temp\\ipykernel_19136\\2836748902.py\u001B[0m in \u001B[0;36mplotBinCounts\u001B[1;34m(name, bin_counts, bin_edges)\u001B[0m\n\u001B[0;32m     25\u001B[0m \u001B[1;33m\u001B[0m\u001B[0m\n\u001B[0;32m     26\u001B[0m     \u001B[1;31m# Generate custom tick positions and labels\u001B[0m\u001B[1;33m\u001B[0m\u001B[1;33m\u001B[0m\u001B[0m\n\u001B[1;32m---> 27\u001B[1;33m     \u001B[0mtick_positions\u001B[0m \u001B[1;33m=\u001B[0m \u001B[0mnp\u001B[0m\u001B[1;33m.\u001B[0m\u001B[0marange\u001B[0m\u001B[1;33m(\u001B[0m\u001B[1;36m0\u001B[0m\u001B[1;33m,\u001B[0m \u001B[0mlen\u001B[0m\u001B[1;33m(\u001B[0m\u001B[0mbin_edges\u001B[0m\u001B[1;33m)\u001B[0m \u001B[1;33m-\u001B[0m \u001B[1;36m1\u001B[0m\u001B[1;33m,\u001B[0m \u001B[0mrounded_step_size\u001B[0m \u001B[1;33m/\u001B[0m \u001B[1;33m(\u001B[0m\u001B[0mbin_edges\u001B[0m\u001B[1;33m[\u001B[0m\u001B[1;36m1\u001B[0m\u001B[1;33m]\u001B[0m \u001B[1;33m-\u001B[0m \u001B[0mbin_edges\u001B[0m\u001B[1;33m[\u001B[0m\u001B[1;36m0\u001B[0m\u001B[1;33m]\u001B[0m\u001B[1;33m)\u001B[0m\u001B[1;33m)\u001B[0m\u001B[1;33m\u001B[0m\u001B[1;33m\u001B[0m\u001B[0m\n\u001B[0m\u001B[0;32m     28\u001B[0m     \u001B[0mtick_labels\u001B[0m \u001B[1;33m=\u001B[0m \u001B[1;33m[\u001B[0m\u001B[1;34mf\"{bin_edges[int(pos)]:.0f}\"\u001B[0m \u001B[1;32mfor\u001B[0m \u001B[0mpos\u001B[0m \u001B[1;32min\u001B[0m \u001B[0mtick_positions\u001B[0m\u001B[1;33m]\u001B[0m\u001B[1;33m\u001B[0m\u001B[1;33m\u001B[0m\u001B[0m\n\u001B[0;32m     29\u001B[0m \u001B[1;33m\u001B[0m\u001B[0m\n",
      "\u001B[1;31mValueError\u001B[0m: Maximum allowed size exceeded"
     ]
    },
    {
     "data": {
      "text/plain": "<Figure size 1000x600 with 1 Axes>",
      "image/png": "[encoded data removed]"
     },
     "metadata": {},
     "output_type": "display_data"
    }
   ],
   "source": [
    "getDistribution('MV101')"
   ],
   "metadata": {
    "collapsed": false,
    "ExecuteTime": {
     "end_time": "2024-09-01T23:20:47.465745600Z",
     "start_time": "2024-09-01T23:20:45.769913600Z"
    }
   }
  },
  {
   "cell_type": "code",
   "execution_count": null,
   "outputs": [],
   "source": [
    "getDistribution('FIT101')"
   ],
   "metadata": {
    "collapsed": false
   }
  },
  {
   "cell_type": "code",
   "execution_count": null,
   "outputs": [],
   "source": [
    "getDistribution('P101')"
   ],
   "metadata": {
    "collapsed": false
   }
  },
  {
   "cell_type": "code",
   "execution_count": null,
   "outputs": [],
   "source": [],
   "metadata": {
    "collapsed": false
   }
  },
  {
   "cell_type": "markdown",
   "source": [
    "# Dim Reduction of Corr Matrix"
   ],
   "metadata": {
    "collapsed": false
   }
  },
  {
   "cell_type": "markdown",
   "source": [],
   "metadata": {
    "collapsed": false
   }
  },
  {
   "cell_type": "code",
   "execution_count": null,
   "outputs": [],
   "source": [
    "# Calculate the linear correlation matrix\n",
    "correlation_matrix = df.corr().round(decimals= 4)"
   ],
   "metadata": {
    "collapsed": false
   }
  },
  {
   "cell_type": "code",
   "execution_count": 317,
   "outputs": [],
   "source": [
    "correlation_matrix = correlation_matrix.drop(columns = 'Correlation Type')"
   ],
   "metadata": {
    "collapsed": false,
    "ExecuteTime": {
     "end_time": "2024-09-02T00:04:55.311562500Z",
     "start_time": "2024-09-02T00:04:55.264693700Z"
    }
   }
  },
  {
   "cell_type": "code",
   "execution_count": 320,
   "outputs": [
    {
     "data": {
      "text/plain": "         FIT101  LIT101   MV101    P101  AIT201  AIT202  AIT203  FIT201  \\\nFIT101   1.0000 -0.6478  0.9805  0.2205 -0.0021 -0.0864  0.0320  0.2267   \nLIT101  -0.6478  1.0000 -0.6527 -0.6587  0.0044  0.2195 -0.1380 -0.6668   \nMV101    0.9805 -0.6527  1.0000  0.2337 -0.0020 -0.0899  0.0338  0.2399   \nP101     0.2205 -0.6587  0.2337  1.0000  0.0016 -0.3130  0.1253  0.9949   \nAIT201  -0.0021  0.0044 -0.0020  0.0016  1.0000 -0.1015 -0.3301  0.0026   \nAIT202  -0.0864  0.2195 -0.0899 -0.3130 -0.1015  1.0000  0.3652 -0.3150   \nAIT203   0.0320 -0.1380  0.0338  0.1253 -0.3301  0.3652  1.0000  0.1288   \nFIT201   0.2267 -0.6668  0.2399  0.9949  0.0026 -0.3150  0.1288  1.0000   \nMV201    0.2223 -0.6591  0.2356  0.9940 -0.0013 -0.3113  0.1233  0.9867   \nP203     0.2287 -0.6671  0.2419  0.9956  0.0010 -0.3152  0.1256  0.9980   \nP205     0.1672 -0.4893  0.1783  0.8096  0.1336 -0.2603 -0.3455  0.8099   \nDPIT301 -0.2020 -0.1531 -0.1789  0.5269  0.0177 -0.1484  0.0771  0.5167   \nFIT301  -0.2092 -0.1511 -0.1850  0.5310  0.0140 -0.1499  0.0785  0.5205   \nLIT301   0.3514  0.1817  0.3375 -0.3241  0.0334  0.0822 -0.2008 -0.3177   \nMV301    0.0364 -0.0416  0.0366  0.0322  0.0000 -0.0222  0.0057  0.0335   \nMV302   -0.1873 -0.1450 -0.1661  0.5009  0.0095 -0.1347  0.0835  0.4914   \nMV303    0.0768 -0.0873  0.0774  0.0575 -0.0001 -0.0436  0.0115  0.0592   \nMV304    0.0108 -0.0131  0.0173 -0.0152  0.0012 -0.0065 -0.0010 -0.0152   \nP301     0.0371 -0.1572  0.0371  0.0349  0.0163  0.0009  0.1564  0.0362   \nP302    -0.2233 -0.1078 -0.2003  0.4989  0.0080 -0.1351  0.0605  0.4884   \nAIT401  -0.0275  0.0811 -0.0276 -0.0104  0.3964 -0.3391 -0.8927 -0.0130   \nAIT402   0.0685 -0.1662  0.0691  0.0662 -0.5554  0.1114  0.6055  0.0695   \nFIT401   0.0251  0.1771  0.0246  0.0477  0.1085 -0.0411 -0.0852  0.0475   \nLIT401   0.4062 -0.1631  0.4081  0.2487  0.0330 -0.1470 -0.2054  0.2532   \nP402     0.0177  0.1787  0.0173  0.0437  0.0862 -0.0245 -0.0254  0.0439   \nUV401    0.0177  0.1790  0.0173  0.0436  0.0861 -0.0243 -0.0258  0.0438   \nAIT501  -0.0245  0.2652 -0.0250 -0.0297  0.5071 -0.0376 -0.3830 -0.0304   \nAIT502   0.0716 -0.1781  0.0722  0.0632 -0.5278  0.0963  0.5628  0.0667   \nAIT503   0.1096 -0.0538  0.1082  0.0165  0.7304  0.0971  0.1747  0.0190   \nAIT504  -0.0109 -0.1803 -0.0106 -0.0380 -0.0300  0.0129  0.0128 -0.0382   \nFIT501   0.0253  0.1770  0.0248  0.0477  0.1101 -0.0418 -0.0879  0.0475   \nFIT502   0.0269  0.1726  0.0263  0.0484  0.1223 -0.0478 -0.1115  0.0480   \nFIT503   0.0155  0.1800  0.0152  0.0404  0.0583 -0.0084  0.0136  0.0408   \nFIT504   0.0048  0.1875  0.0044  0.0340  0.0597 -0.0033  0.0088  0.0342   \nP501     0.0155  0.1818  0.0152  0.0410  0.0837 -0.0199 -0.0328  0.0411   \nPIT501   0.0266  0.1660  0.0264  0.0452  0.0383 -0.0022  0.0466  0.0461   \nPIT502   0.0542 -0.0271  0.0537  0.0508 -0.1904 -0.0314  0.0389  0.0521   \nPIT503   0.0284  0.1620  0.0282  0.0454  0.0234  0.0027  0.0678  0.0465   \nFIT601   0.0589 -0.0676  0.0593  0.0492 -0.0000 -0.0357  0.0098  0.0513   \nP602     0.0565 -0.0648  0.0569  0.0494  0.0003 -0.0344  0.0096  0.0511   \n\n          MV201    P203  ...  FIT501  FIT502  FIT503  FIT504    P501  PIT501  \\\nFIT101   0.2223  0.2287  ...  0.0253  0.0269  0.0155  0.0048  0.0155  0.0266   \nLIT101  -0.6591 -0.6671  ...  0.1770  0.1726  0.1800  0.1875  0.1818  0.1660   \nMV101    0.2356  0.2419  ...  0.0248  0.0263  0.0152  0.0044  0.0152  0.0264   \nP101     0.9940  0.9956  ...  0.0477  0.0484  0.0404  0.0340  0.0410  0.0452   \nAIT201  -0.0013  0.0010  ...  0.1101  0.1223  0.0583  0.0597  0.0837  0.0383   \nAIT202  -0.3113 -0.3152  ... -0.0418 -0.0478 -0.0084 -0.0033 -0.0199 -0.0022   \nAIT203   0.1233  0.1256  ... -0.0879 -0.1115  0.0136  0.0088 -0.0328  0.0466   \nFIT201   0.9867  0.9980  ...  0.0475  0.0480  0.0408  0.0342  0.0411  0.0461   \nMV201    1.0000  0.9910  ...  0.0251  0.0264  0.0181  0.0123  0.0188  0.0232   \nP203     0.9910  1.0000  ...  0.0482  0.0489  0.0408  0.0343  0.0414  0.0458   \nP205     0.8058  0.8131  ...  0.0815  0.0910  0.0326  0.0292  0.0527  0.0235   \nDPIT301  0.5216  0.5210  ...  0.0786  0.0756  0.0830  0.0821  0.0804  0.0807   \nFIT301   0.5258  0.5252  ...  0.0870  0.0848  0.0876  0.0876  0.0870  0.0829   \nLIT301  -0.3282 -0.3159  ...  0.4393  0.4357  0.4190  0.4135  0.4269  0.4137   \nMV301    0.0310  0.0327  ...  0.0042  0.0049  0.0027  0.0026  0.0034  0.0026   \nMV302    0.4955  0.4952  ...  0.0777  0.0757  0.0796  0.0793  0.0783  0.0761   \nMV303    0.0559  0.0584  ...  0.0088  0.0093  0.0057  0.0056  0.0072  0.0054   \nMV304   -0.0144 -0.0145  ...  0.0029  0.0026  0.0016  0.0026  0.0027  0.0002   \nP301     0.0348  0.0351  ... -0.2412 -0.2479 -0.2234 -0.2472 -0.2438 -0.2003   \nP302     0.4941  0.4932  ...  0.1198  0.1184  0.1192  0.1233  0.1212  0.1110   \nAIT401  -0.0129 -0.0102  ...  0.1791  0.2004  0.0849  0.0847  0.1271  0.0568   \nAIT402   0.0657  0.0665  ... -0.0966 -0.1484  0.0775  0.0674 -0.0026  0.1387   \nFIT401   0.0251  0.0482  ...  0.9999  0.9892  0.9655  0.9566  0.9801  0.9331   \nLIT401   0.2344  0.2529  ...  0.4916  0.4904  0.4529  0.4411  0.4667  0.4504   \nP402     0.0210  0.0441  ...  0.9841  0.9621  0.9816  0.9603  0.9747  0.9678   \nUV401    0.0209  0.0441  ...  0.9855  0.9629  0.9831  0.9620  0.9765  0.9692   \nAIT501  -0.0422 -0.0294  ...  0.6182  0.6304  0.5368  0.5447  0.5788  0.4940   \nAIT502   0.0644  0.0636  ... -0.1778 -0.2334  0.0120 -0.0004 -0.0765  0.0824   \nAIT503   0.0150  0.0168  ...  0.0824  0.0950  0.0472  0.0551  0.0667  0.0251   \nAIT504  -0.0166 -0.0384  ... -0.9386 -0.9114 -0.9795 -0.9891 -0.9836 -0.9634   \nFIT501   0.0251  0.0482  ...  1.0000  0.9897  0.9643  0.9556  0.9796  0.9313   \nFIT502   0.0264  0.0489  ...  0.9897  1.0000  0.9333  0.9287  0.9595  0.8911   \nFIT503   0.0181  0.0408  ...  0.9643  0.9333  1.0000  0.9915  0.9862  0.9913   \nFIT504   0.0123  0.0343  ...  0.9556  0.9287  0.9915  1.0000  0.9862  0.9729   \nP501     0.0188  0.0414  ...  0.9796  0.9595  0.9862  0.9862  1.0000  0.9625   \nPIT501   0.0232  0.0458  ...  0.9313  0.8911  0.9913  0.9729  0.9625  1.0000   \nPIT502   0.0430  0.0511  ...  0.2707  0.2366  0.3341  0.3098  0.2901  0.3568   \nPIT503   0.0237  0.0460  ...  0.9141  0.8704  0.9843  0.9632  0.9496  0.9988   \nFIT601   0.0473  0.0500  ...  0.0067  0.0074  0.0044  0.0041  0.0055  0.0043   \nP602     0.0480  0.0501  ...  0.0066  0.0071  0.0043  0.0040  0.0053  0.0042   \n\n         PIT502  PIT503  FIT601    P602  \nFIT101   0.0542  0.0284  0.0589  0.0565  \nLIT101  -0.0271  0.1620 -0.0676 -0.0648  \nMV101    0.0537  0.0282  0.0593  0.0569  \nP101     0.0508  0.0454  0.0492  0.0494  \nAIT201  -0.1904  0.0234 -0.0000  0.0003  \nAIT202  -0.0314  0.0027 -0.0357 -0.0344  \nAIT203   0.0389  0.0678  0.0098  0.0096  \nFIT201   0.0521  0.0465  0.0513  0.0511  \nMV201    0.0430  0.0237  0.0473  0.0480  \nP203     0.0511  0.0460  0.0500  0.0501  \nP205     0.0286  0.0146  0.0312  0.0319  \nDPIT301  0.0307  0.0800 -0.2428 -0.2301  \nFIT301   0.0336  0.0816 -0.2168 -0.2085  \nLIT301   0.0333  0.4080 -0.0325 -0.0347  \nMV301    0.0047  0.0024  0.7178  0.9200  \nMV302    0.0326  0.0753 -0.1958 -0.1875  \nMV303    0.0114  0.0050  0.6135  0.5279  \nMV304    0.0040 -0.0002 -0.0308 -0.0134  \nP301     0.0436 -0.1932 -0.0059 -0.0057  \nP302     0.0268  0.1088 -0.2149 -0.2058  \nAIT401  -0.0842  0.0348 -0.0070 -0.0066  \nAIT402   0.3435  0.1742  0.0108  0.0101  \nFIT401   0.2726  0.9162  0.0066  0.0065  \nLIT401   0.0276  0.4432  0.0261  0.0275  \nP402     0.3190  0.9578  0.0053  0.0052  \nUV401    0.3189  0.9591  0.0053  0.0052  \nAIT501  -0.1276  0.4709 -0.0046 -0.0041  \nAIT502   0.3679  0.1209  0.0104  0.0097  \nAIT503  -0.2041  0.0168 -0.0411 -0.0389  \nAIT504  -0.2991 -0.9541 -0.0069 -0.0066  \nFIT501   0.2707  0.9141  0.0067  0.0066  \nFIT502   0.2366  0.8704  0.0074  0.0071  \nFIT503   0.3341  0.9843  0.0044  0.0043  \nFIT504   0.3098  0.9632  0.0041  0.0040  \nP501     0.2901  0.9496  0.0055  0.0053  \nPIT501   0.3568  0.9988  0.0043  0.0042  \nPIT502   1.0000  0.3700  0.0078  0.0078  \nPIT503   0.3700  1.0000  0.0040  0.0039  \nFIT601   0.0078  0.0040  1.0000  0.8619  \nP602     0.0078  0.0039  0.8619  1.0000  \n\n[40 rows x 40 columns]",
      "text/html": "<div>\n<style scoped>\n    .dataframe tbody tr th:only-of-type {\n        vertical-align: middle;\n    }\n\n    .dataframe tbody tr th {\n        vertical-align: top;\n    }\n\n    .dataframe thead th {\n        text-align: right;\n    }\n</style>\n<table border=\"1\" class=\"dataframe\">\n  <thead>\n    <tr style=\"text-align: right;\">\n      <th></th>\n      <th>FIT101</th>\n      <th>LIT101</th>\n      <th>MV101</th>\n      <th>P101</th>\n      <th>AIT201</th>\n      <th>AIT202</th>\n      <th>AIT203</th>\n      <th>FIT201</th>\n      <th>MV201</th>\n      <th>P203</th>\n      <th>...</th>\n      <th>FIT501</th>\n      <th>FIT502</th>\n      <th>FIT503</th>\n      <th>FIT504</th>\n      <th>P501</th>\n      <th>PIT501</th>\n      <th>PIT502</th>\n      <th>PIT503</th>\n      <th>FIT601</th>\n      <th>P602</th>\n    </tr>\n  </thead>\n  <tbody>\n    <tr>\n      <th>FIT101</th>\n      <td>1.0000</td>\n      <td>-0.6478</td>\n      <td>0.9805</td>\n      <td>0.2205</td>\n      <td>-0.0021</td>\n      <td>-0.0864</td>\n      <td>0.0320</td>\n      <td>0.2267</td>\n      <td>0.2223</td>\n      <td>0.2287</td>\n      <td>...</td>\n      <td>0.0253</td>\n      <td>0.0269</td>\n      <td>0.0155</td>\n      <td>0.0048</td>\n      <td>0.0155</td>\n      <td>0.0266</td>\n      <td>0.0542</td>\n      <td>0.0284</td>\n      <td>0.0589</td>\n      <td>0.0565</td>\n    </tr>\n    <tr>\n      <th>LIT101</th>\n      <td>-0.6478</td>\n      <td>1.0000</td>\n      <td>-0.6527</td>\n      <td>-0.6587</td>\n      <td>0.0044</td>\n      <td>0.2195</td>\n      <td>-0.1380</td>\n      <td>-0.6668</td>\n      <td>-0.6591</td>\n      <td>-0.6671</td>\n      <td>...</td>\n      <td>0.1770</td>\n      <td>0.1726</td>\n      <td>0.1800</td>\n      <td>0.1875</td>\n      <td>0.1818</td>\n      <td>0.1660</td>\n      <td>-0.0271</td>\n      <td>0.1620</td>\n      <td>-0.0676</td>\n      <td>-0.0648</td>\n    </tr>\n    <tr>\n      <th>MV101</th>\n      <td>0.9805</td>\n      <td>-0.6527</td>\n      <td>1.0000</td>\n      <td>0.2337</td>\n      <td>-0.0020</td>\n      <td>-0.0899</td>\n      <td>0.0338</td>\n      <td>0.2399</td>\n      <td>0.2356</td>\n      <td>0.2419</td>\n      <td>...</td>\n      <td>0.0248</td>\n      <td>0.0263</td>\n      <td>0.0152</td>\n      <td>0.0044</td>\n      <td>0.0152</td>\n      <td>0.0264</td>\n      <td>0.0537</td>\n      <td>0.0282</td>\n      <td>0.0593</td>\n      <td>0.0569</td>\n    </tr>\n    <tr>\n      <th>P101</th>\n      <td>0.2205</td>\n      <td>-0.6587</td>\n      <td>0.2337</td>\n      <td>1.0000</td>\n      <td>0.0016</td>\n      <td>-0.3130</td>\n      <td>0.1253</td>\n      <td>0.9949</td>\n      <td>0.9940</td>\n      <td>0.9956</td>\n      <td>...</td>\n      <td>0.0477</td>\n      <td>0.0484</td>\n      <td>0.0404</td>\n      <td>0.0340</td>\n      <td>0.0410</td>\n      <td>0.0452</td>\n      <td>0.0508</td>\n      <td>0.0454</td>\n      <td>0.0492</td>\n      <td>0.0494</td>\n    </tr>\n    <tr>\n      <th>AIT201</th>\n      <td>-0.0021</td>\n      <td>0.0044</td>\n      <td>-0.0020</td>\n      <td>0.0016</td>\n      <td>1.0000</td>\n      <td>-0.1015</td>\n      <td>-0.3301</td>\n      <td>0.0026</td>\n      <td>-0.0013</td>\n      <td>0.0010</td>\n      <td>...</td>\n      <td>0.1101</td>\n      <td>0.1223</td>\n      <td>0.0583</td>\n      <td>0.0597</td>\n      <td>0.0837</td>\n      <td>0.0383</td>\n      <td>-0.1904</td>\n      <td>0.0234</td>\n      <td>-0.0000</td>\n      <td>0.0003</td>\n    </tr>\n    <tr>\n      <th>AIT202</th>\n      <td>-0.0864</td>\n      <td>0.2195</td>\n      <td>-0.0899</td>\n      <td>-0.3130</td>\n      <td>-0.1015</td>\n      <td>1.0000</td>\n      <td>0.3652</td>\n      <td>-0.3150</td>\n      <td>-0.3113</td>\n      <td>-0.3152</td>\n      <td>...</td>\n      <td>-0.0418</td>\n      <td>-0.0478</td>\n      <td>-0.0084</td>\n      <td>-0.0033</td>\n      <td>-0.0199</td>\n      <td>-0.0022</td>\n      <td>-0.0314</td>\n      <td>0.0027</td>\n      <td>-0.0357</td>\n      <td>-0.0344</td>\n    </tr>\n    <tr>\n      <th>AIT203</th>\n      <td>0.0320</td>\n      <td>-0.1380</td>\n      <td>0.0338</td>\n      <td>0.1253</td>\n      <td>-0.3301</td>\n      <td>0.3652</td>\n      <td>1.0000</td>\n      <td>0.1288</td>\n      <td>0.1233</td>\n      <td>0.1256</td>\n      <td>...</td>\n      <td>-0.0879</td>\n      <td>-0.1115</td>\n      <td>0.0136</td>\n      <td>0.0088</td>\n      <td>-0.0328</td>\n      <td>0.0466</td>\n      <td>0.0389</td>\n      <td>0.0678</td>\n      <td>0.0098</td>\n      <td>0.0096</td>\n    </tr>\n    <tr>\n      <th>FIT201</th>\n      <td>0.2267</td>\n      <td>-0.6668</td>\n      <td>0.2399</td>\n      <td>0.9949</td>\n      <td>0.0026</td>\n      <td>-0.3150</td>\n      <td>0.1288</td>\n      <td>1.0000</td>\n      <td>0.9867</td>\n      <td>0.9980</td>\n      <td>...</td>\n      <td>0.0475</td>\n      <td>0.0480</td>\n      <td>0.0408</td>\n      <td>0.0342</td>\n      <td>0.0411</td>\n      <td>0.0461</td>\n      <td>0.0521</td>\n      <td>0.0465</td>\n      <td>0.0513</td>\n      <td>0.0511</td>\n    </tr>\n    <tr>\n      <th>MV201</th>\n      <td>0.2223</td>\n      <td>-0.6591</td>\n      <td>0.2356</td>\n      <td>0.9940</td>\n      <td>-0.0013</td>\n      <td>-0.3113</td>\n      <td>0.1233</td>\n      <td>0.9867</td>\n      <td>1.0000</td>\n      <td>0.9910</td>\n      <td>...</td>\n      <td>0.0251</td>\n      <td>0.0264</td>\n      <td>0.0181</td>\n      <td>0.0123</td>\n      <td>0.0188</td>\n      <td>0.0232</td>\n      <td>0.0430</td>\n      <td>0.0237</td>\n      <td>0.0473</td>\n      <td>0.0480</td>\n    </tr>\n    <tr>\n      <th>P203</th>\n      <td>0.2287</td>\n      <td>-0.6671</td>\n      <td>0.2419</td>\n      <td>0.9956</td>\n      <td>0.0010</td>\n      <td>-0.3152</td>\n      <td>0.1256</td>\n      <td>0.9980</td>\n      <td>0.9910</td>\n      <td>1.0000</td>\n      <td>...</td>\n      <td>0.0482</td>\n      <td>0.0489</td>\n      <td>0.0408</td>\n      <td>0.0343</td>\n      <td>0.0414</td>\n      <td>0.0458</td>\n      <td>0.0511</td>\n      <td>0.0460</td>\n      <td>0.0500</td>\n      <td>0.0501</td>\n    </tr>\n    <tr>\n      <th>P205</th>\n      <td>0.1672</td>\n      <td>-0.4893</td>\n      <td>0.1783</td>\n      <td>0.8096</td>\n      <td>0.1336</td>\n      <td>-0.2603</td>\n      <td>-0.3455</td>\n      <td>0.8099</td>\n      <td>0.8058</td>\n      <td>0.8131</td>\n      <td>...</td>\n      <td>0.0815</td>\n      <td>0.0910</td>\n      <td>0.0326</td>\n      <td>0.0292</td>\n      <td>0.0527</td>\n      <td>0.0235</td>\n      <td>0.0286</td>\n      <td>0.0146</td>\n      <td>0.0312</td>\n      <td>0.0319</td>\n    </tr>\n    <tr>\n      <th>DPIT301</th>\n      <td>-0.2020</td>\n      <td>-0.1531</td>\n      <td>-0.1789</td>\n      <td>0.5269</td>\n      <td>0.0177</td>\n      <td>-0.1484</td>\n      <td>0.0771</td>\n      <td>0.5167</td>\n      <td>0.5216</td>\n      <td>0.5210</td>\n      <td>...</td>\n      <td>0.0786</td>\n      <td>0.0756</td>\n      <td>0.0830</td>\n      <td>0.0821</td>\n      <td>0.0804</td>\n      <td>0.0807</td>\n      <td>0.0307</td>\n      <td>0.0800</td>\n      <td>-0.2428</td>\n      <td>-0.2301</td>\n    </tr>\n    <tr>\n      <th>FIT301</th>\n      <td>-0.2092</td>\n      <td>-0.1511</td>\n      <td>-0.1850</td>\n      <td>0.5310</td>\n      <td>0.0140</td>\n      <td>-0.1499</td>\n      <td>0.0785</td>\n      <td>0.5205</td>\n      <td>0.5258</td>\n      <td>0.5252</td>\n      <td>...</td>\n      <td>0.0870</td>\n      <td>0.0848</td>\n      <td>0.0876</td>\n      <td>0.0876</td>\n      <td>0.0870</td>\n      <td>0.0829</td>\n      <td>0.0336</td>\n      <td>0.0816</td>\n      <td>-0.2168</td>\n      <td>-0.2085</td>\n    </tr>\n    <tr>\n      <th>LIT301</th>\n      <td>0.3514</td>\n      <td>0.1817</td>\n      <td>0.3375</td>\n      <td>-0.3241</td>\n      <td>0.0334</td>\n      <td>0.0822</td>\n      <td>-0.2008</td>\n      <td>-0.3177</td>\n      <td>-0.3282</td>\n      <td>-0.3159</td>\n      <td>...</td>\n      <td>0.4393</td>\n      <td>0.4357</td>\n      <td>0.4190</td>\n      <td>0.4135</td>\n      <td>0.4269</td>\n      <td>0.4137</td>\n      <td>0.0333</td>\n      <td>0.4080</td>\n      <td>-0.0325</td>\n      <td>-0.0347</td>\n    </tr>\n    <tr>\n      <th>MV301</th>\n      <td>0.0364</td>\n      <td>-0.0416</td>\n      <td>0.0366</td>\n      <td>0.0322</td>\n      <td>0.0000</td>\n      <td>-0.0222</td>\n      <td>0.0057</td>\n      <td>0.0335</td>\n      <td>0.0310</td>\n      <td>0.0327</td>\n      <td>...</td>\n      <td>0.0042</td>\n      <td>0.0049</td>\n      <td>0.0027</td>\n      <td>0.0026</td>\n      <td>0.0034</td>\n      <td>0.0026</td>\n      <td>0.0047</td>\n      <td>0.0024</td>\n      <td>0.7178</td>\n      <td>0.9200</td>\n    </tr>\n    <tr>\n      <th>MV302</th>\n      <td>-0.1873</td>\n      <td>-0.1450</td>\n      <td>-0.1661</td>\n      <td>0.5009</td>\n      <td>0.0095</td>\n      <td>-0.1347</td>\n      <td>0.0835</td>\n      <td>0.4914</td>\n      <td>0.4955</td>\n      <td>0.4952</td>\n      <td>...</td>\n      <td>0.0777</td>\n      <td>0.0757</td>\n      <td>0.0796</td>\n      <td>0.0793</td>\n      <td>0.0783</td>\n      <td>0.0761</td>\n      <td>0.0326</td>\n      <td>0.0753</td>\n      <td>-0.1958</td>\n      <td>-0.1875</td>\n    </tr>\n    <tr>\n      <th>MV303</th>\n      <td>0.0768</td>\n      <td>-0.0873</td>\n      <td>0.0774</td>\n      <td>0.0575</td>\n      <td>-0.0001</td>\n      <td>-0.0436</td>\n      <td>0.0115</td>\n      <td>0.0592</td>\n      <td>0.0559</td>\n      <td>0.0584</td>\n      <td>...</td>\n      <td>0.0088</td>\n      <td>0.0093</td>\n      <td>0.0057</td>\n      <td>0.0056</td>\n      <td>0.0072</td>\n      <td>0.0054</td>\n      <td>0.0114</td>\n      <td>0.0050</td>\n      <td>0.6135</td>\n      <td>0.5279</td>\n    </tr>\n    <tr>\n      <th>MV304</th>\n      <td>0.0108</td>\n      <td>-0.0131</td>\n      <td>0.0173</td>\n      <td>-0.0152</td>\n      <td>0.0012</td>\n      <td>-0.0065</td>\n      <td>-0.0010</td>\n      <td>-0.0152</td>\n      <td>-0.0144</td>\n      <td>-0.0145</td>\n      <td>...</td>\n      <td>0.0029</td>\n      <td>0.0026</td>\n      <td>0.0016</td>\n      <td>0.0026</td>\n      <td>0.0027</td>\n      <td>0.0002</td>\n      <td>0.0040</td>\n      <td>-0.0002</td>\n      <td>-0.0308</td>\n      <td>-0.0134</td>\n    </tr>\n    <tr>\n      <th>P301</th>\n      <td>0.0371</td>\n      <td>-0.1572</td>\n      <td>0.0371</td>\n      <td>0.0349</td>\n      <td>0.0163</td>\n      <td>0.0009</td>\n      <td>0.1564</td>\n      <td>0.0362</td>\n      <td>0.0348</td>\n      <td>0.0351</td>\n      <td>...</td>\n      <td>-0.2412</td>\n      <td>-0.2479</td>\n      <td>-0.2234</td>\n      <td>-0.2472</td>\n      <td>-0.2438</td>\n      <td>-0.2003</td>\n      <td>0.0436</td>\n      <td>-0.1932</td>\n      <td>-0.0059</td>\n      <td>-0.0057</td>\n    </tr>\n    <tr>\n      <th>P302</th>\n      <td>-0.2233</td>\n      <td>-0.1078</td>\n      <td>-0.2003</td>\n      <td>0.4989</td>\n      <td>0.0080</td>\n      <td>-0.1351</td>\n      <td>0.0605</td>\n      <td>0.4884</td>\n      <td>0.4941</td>\n      <td>0.4932</td>\n      <td>...</td>\n      <td>0.1198</td>\n      <td>0.1184</td>\n      <td>0.1192</td>\n      <td>0.1233</td>\n      <td>0.1212</td>\n      <td>0.1110</td>\n      <td>0.0268</td>\n      <td>0.1088</td>\n      <td>-0.2149</td>\n      <td>-0.2058</td>\n    </tr>\n    <tr>\n      <th>AIT401</th>\n      <td>-0.0275</td>\n      <td>0.0811</td>\n      <td>-0.0276</td>\n      <td>-0.0104</td>\n      <td>0.3964</td>\n      <td>-0.3391</td>\n      <td>-0.8927</td>\n      <td>-0.0130</td>\n      <td>-0.0129</td>\n      <td>-0.0102</td>\n      <td>...</td>\n      <td>0.1791</td>\n      <td>0.2004</td>\n      <td>0.0849</td>\n      <td>0.0847</td>\n      <td>0.1271</td>\n      <td>0.0568</td>\n      <td>-0.0842</td>\n      <td>0.0348</td>\n      <td>-0.0070</td>\n      <td>-0.0066</td>\n    </tr>\n    <tr>\n      <th>AIT402</th>\n      <td>0.0685</td>\n      <td>-0.1662</td>\n      <td>0.0691</td>\n      <td>0.0662</td>\n      <td>-0.5554</td>\n      <td>0.1114</td>\n      <td>0.6055</td>\n      <td>0.0695</td>\n      <td>0.0657</td>\n      <td>0.0665</td>\n      <td>...</td>\n      <td>-0.0966</td>\n      <td>-0.1484</td>\n      <td>0.0775</td>\n      <td>0.0674</td>\n      <td>-0.0026</td>\n      <td>0.1387</td>\n      <td>0.3435</td>\n      <td>0.1742</td>\n      <td>0.0108</td>\n      <td>0.0101</td>\n    </tr>\n    <tr>\n      <th>FIT401</th>\n      <td>0.0251</td>\n      <td>0.1771</td>\n      <td>0.0246</td>\n      <td>0.0477</td>\n      <td>0.1085</td>\n      <td>-0.0411</td>\n      <td>-0.0852</td>\n      <td>0.0475</td>\n      <td>0.0251</td>\n      <td>0.0482</td>\n      <td>...</td>\n      <td>0.9999</td>\n      <td>0.9892</td>\n      <td>0.9655</td>\n      <td>0.9566</td>\n      <td>0.9801</td>\n      <td>0.9331</td>\n      <td>0.2726</td>\n      <td>0.9162</td>\n      <td>0.0066</td>\n      <td>0.0065</td>\n    </tr>\n    <tr>\n      <th>LIT401</th>\n      <td>0.4062</td>\n      <td>-0.1631</td>\n      <td>0.4081</td>\n      <td>0.2487</td>\n      <td>0.0330</td>\n      <td>-0.1470</td>\n      <td>-0.2054</td>\n      <td>0.2532</td>\n      <td>0.2344</td>\n      <td>0.2529</td>\n      <td>...</td>\n      <td>0.4916</td>\n      <td>0.4904</td>\n      <td>0.4529</td>\n      <td>0.4411</td>\n      <td>0.4667</td>\n      <td>0.4504</td>\n      <td>0.0276</td>\n      <td>0.4432</td>\n      <td>0.0261</td>\n      <td>0.0275</td>\n    </tr>\n    <tr>\n      <th>P402</th>\n      <td>0.0177</td>\n      <td>0.1787</td>\n      <td>0.0173</td>\n      <td>0.0437</td>\n      <td>0.0862</td>\n      <td>-0.0245</td>\n      <td>-0.0254</td>\n      <td>0.0439</td>\n      <td>0.0210</td>\n      <td>0.0441</td>\n      <td>...</td>\n      <td>0.9841</td>\n      <td>0.9621</td>\n      <td>0.9816</td>\n      <td>0.9603</td>\n      <td>0.9747</td>\n      <td>0.9678</td>\n      <td>0.3190</td>\n      <td>0.9578</td>\n      <td>0.0053</td>\n      <td>0.0052</td>\n    </tr>\n    <tr>\n      <th>UV401</th>\n      <td>0.0177</td>\n      <td>0.1790</td>\n      <td>0.0173</td>\n      <td>0.0436</td>\n      <td>0.0861</td>\n      <td>-0.0243</td>\n      <td>-0.0258</td>\n      <td>0.0438</td>\n      <td>0.0209</td>\n      <td>0.0441</td>\n      <td>...</td>\n      <td>0.9855</td>\n      <td>0.9629</td>\n      <td>0.9831</td>\n      <td>0.9620</td>\n      <td>0.9765</td>\n      <td>0.9692</td>\n      <td>0.3189</td>\n      <td>0.9591</td>\n      <td>0.0053</td>\n      <td>0.0052</td>\n    </tr>\n    <tr>\n      <th>AIT501</th>\n      <td>-0.0245</td>\n      <td>0.2652</td>\n      <td>-0.0250</td>\n      <td>-0.0297</td>\n      <td>0.5071</td>\n      <td>-0.0376</td>\n      <td>-0.3830</td>\n      <td>-0.0304</td>\n      <td>-0.0422</td>\n      <td>-0.0294</td>\n      <td>...</td>\n      <td>0.6182</td>\n      <td>0.6304</td>\n      <td>0.5368</td>\n      <td>0.5447</td>\n      <td>0.5788</td>\n      <td>0.4940</td>\n      <td>-0.1276</td>\n      <td>0.4709</td>\n      <td>-0.0046</td>\n      <td>-0.0041</td>\n    </tr>\n    <tr>\n      <th>AIT502</th>\n      <td>0.0716</td>\n      <td>-0.1781</td>\n      <td>0.0722</td>\n      <td>0.0632</td>\n      <td>-0.5278</td>\n      <td>0.0963</td>\n      <td>0.5628</td>\n      <td>0.0667</td>\n      <td>0.0644</td>\n      <td>0.0636</td>\n      <td>...</td>\n      <td>-0.1778</td>\n      <td>-0.2334</td>\n      <td>0.0120</td>\n      <td>-0.0004</td>\n      <td>-0.0765</td>\n      <td>0.0824</td>\n      <td>0.3679</td>\n      <td>0.1209</td>\n      <td>0.0104</td>\n      <td>0.0097</td>\n    </tr>\n    <tr>\n      <th>AIT503</th>\n      <td>0.1096</td>\n      <td>-0.0538</td>\n      <td>0.1082</td>\n      <td>0.0165</td>\n      <td>0.7304</td>\n      <td>0.0971</td>\n      <td>0.1747</td>\n      <td>0.0190</td>\n      <td>0.0150</td>\n      <td>0.0168</td>\n      <td>...</td>\n      <td>0.0824</td>\n      <td>0.0950</td>\n      <td>0.0472</td>\n      <td>0.0551</td>\n      <td>0.0667</td>\n      <td>0.0251</td>\n      <td>-0.2041</td>\n      <td>0.0168</td>\n      <td>-0.0411</td>\n      <td>-0.0389</td>\n    </tr>\n    <tr>\n      <th>AIT504</th>\n      <td>-0.0109</td>\n      <td>-0.1803</td>\n      <td>-0.0106</td>\n      <td>-0.0380</td>\n      <td>-0.0300</td>\n      <td>0.0129</td>\n      <td>0.0128</td>\n      <td>-0.0382</td>\n      <td>-0.0166</td>\n      <td>-0.0384</td>\n      <td>...</td>\n      <td>-0.9386</td>\n      <td>-0.9114</td>\n      <td>-0.9795</td>\n      <td>-0.9891</td>\n      <td>-0.9836</td>\n      <td>-0.9634</td>\n      <td>-0.2991</td>\n      <td>-0.9541</td>\n      <td>-0.0069</td>\n      <td>-0.0066</td>\n    </tr>\n    <tr>\n      <th>FIT501</th>\n      <td>0.0253</td>\n      <td>0.1770</td>\n      <td>0.0248</td>\n      <td>0.0477</td>\n      <td>0.1101</td>\n      <td>-0.0418</td>\n      <td>-0.0879</td>\n      <td>0.0475</td>\n      <td>0.0251</td>\n      <td>0.0482</td>\n      <td>...</td>\n      <td>1.0000</td>\n      <td>0.9897</td>\n      <td>0.9643</td>\n      <td>0.9556</td>\n      <td>0.9796</td>\n      <td>0.9313</td>\n      <td>0.2707</td>\n      <td>0.9141</td>\n      <td>0.0067</td>\n      <td>0.0066</td>\n    </tr>\n    <tr>\n      <th>FIT502</th>\n      <td>0.0269</td>\n      <td>0.1726</td>\n      <td>0.0263</td>\n      <td>0.0484</td>\n      <td>0.1223</td>\n      <td>-0.0478</td>\n      <td>-0.1115</td>\n      <td>0.0480</td>\n      <td>0.0264</td>\n      <td>0.0489</td>\n      <td>...</td>\n      <td>0.9897</td>\n      <td>1.0000</td>\n      <td>0.9333</td>\n      <td>0.9287</td>\n      <td>0.9595</td>\n      <td>0.8911</td>\n      <td>0.2366</td>\n      <td>0.8704</td>\n      <td>0.0074</td>\n      <td>0.0071</td>\n    </tr>\n    <tr>\n      <th>FIT503</th>\n      <td>0.0155</td>\n      <td>0.1800</td>\n      <td>0.0152</td>\n      <td>0.0404</td>\n      <td>0.0583</td>\n      <td>-0.0084</td>\n      <td>0.0136</td>\n      <td>0.0408</td>\n      <td>0.0181</td>\n      <td>0.0408</td>\n      <td>...</td>\n      <td>0.9643</td>\n      <td>0.9333</td>\n      <td>1.0000</td>\n      <td>0.9915</td>\n      <td>0.9862</td>\n      <td>0.9913</td>\n      <td>0.3341</td>\n      <td>0.9843</td>\n      <td>0.0044</td>\n      <td>0.0043</td>\n    </tr>\n    <tr>\n      <th>FIT504</th>\n      <td>0.0048</td>\n      <td>0.1875</td>\n      <td>0.0044</td>\n      <td>0.0340</td>\n      <td>0.0597</td>\n      <td>-0.0033</td>\n      <td>0.0088</td>\n      <td>0.0342</td>\n      <td>0.0123</td>\n      <td>0.0343</td>\n      <td>...</td>\n      <td>0.9556</td>\n      <td>0.9287</td>\n      <td>0.9915</td>\n      <td>1.0000</td>\n      <td>0.9862</td>\n      <td>0.9729</td>\n      <td>0.3098</td>\n      <td>0.9632</td>\n      <td>0.0041</td>\n      <td>0.0040</td>\n    </tr>\n    <tr>\n      <th>P501</th>\n      <td>0.0155</td>\n      <td>0.1818</td>\n      <td>0.0152</td>\n      <td>0.0410</td>\n      <td>0.0837</td>\n      <td>-0.0199</td>\n      <td>-0.0328</td>\n      <td>0.0411</td>\n      <td>0.0188</td>\n      <td>0.0414</td>\n      <td>...</td>\n      <td>0.9796</td>\n      <td>0.9595</td>\n      <td>0.9862</td>\n      <td>0.9862</td>\n      <td>1.0000</td>\n      <td>0.9625</td>\n      <td>0.2901</td>\n      <td>0.9496</td>\n      <td>0.0055</td>\n      <td>0.0053</td>\n    </tr>\n    <tr>\n      <th>PIT501</th>\n      <td>0.0266</td>\n      <td>0.1660</td>\n      <td>0.0264</td>\n      <td>0.0452</td>\n      <td>0.0383</td>\n      <td>-0.0022</td>\n      <td>0.0466</td>\n      <td>0.0461</td>\n      <td>0.0232</td>\n      <td>0.0458</td>\n      <td>...</td>\n      <td>0.9313</td>\n      <td>0.8911</td>\n      <td>0.9913</td>\n      <td>0.9729</td>\n      <td>0.9625</td>\n      <td>1.0000</td>\n      <td>0.3568</td>\n      <td>0.9988</td>\n      <td>0.0043</td>\n      <td>0.0042</td>\n    </tr>\n    <tr>\n      <th>PIT502</th>\n      <td>0.0542</td>\n      <td>-0.0271</td>\n      <td>0.0537</td>\n      <td>0.0508</td>\n      <td>-0.1904</td>\n      <td>-0.0314</td>\n      <td>0.0389</td>\n      <td>0.0521</td>\n      <td>0.0430</td>\n      <td>0.0511</td>\n      <td>...</td>\n      <td>0.2707</td>\n      <td>0.2366</td>\n      <td>0.3341</td>\n      <td>0.3098</td>\n      <td>0.2901</td>\n      <td>0.3568</td>\n      <td>1.0000</td>\n      <td>0.3700</td>\n      <td>0.0078</td>\n      <td>0.0078</td>\n    </tr>\n    <tr>\n      <th>PIT503</th>\n      <td>0.0284</td>\n      <td>0.1620</td>\n      <td>0.0282</td>\n      <td>0.0454</td>\n      <td>0.0234</td>\n      <td>0.0027</td>\n      <td>0.0678</td>\n      <td>0.0465</td>\n      <td>0.0237</td>\n      <td>0.0460</td>\n      <td>...</td>\n      <td>0.9141</td>\n      <td>0.8704</td>\n      <td>0.9843</td>\n      <td>0.9632</td>\n      <td>0.9496</td>\n      <td>0.9988</td>\n      <td>0.3700</td>\n      <td>1.0000</td>\n      <td>0.0040</td>\n      <td>0.0039</td>\n    </tr>\n    <tr>\n      <th>FIT601</th>\n      <td>0.0589</td>\n      <td>-0.0676</td>\n      <td>0.0593</td>\n      <td>0.0492</td>\n      <td>-0.0000</td>\n      <td>-0.0357</td>\n      <td>0.0098</td>\n      <td>0.0513</td>\n      <td>0.0473</td>\n      <td>0.0500</td>\n      <td>...</td>\n      <td>0.0067</td>\n      <td>0.0074</td>\n      <td>0.0044</td>\n      <td>0.0041</td>\n      <td>0.0055</td>\n      <td>0.0043</td>\n      <td>0.0078</td>\n      <td>0.0040</td>\n      <td>1.0000</td>\n      <td>0.8619</td>\n    </tr>\n    <tr>\n      <th>P602</th>\n      <td>0.0565</td>\n      <td>-0.0648</td>\n      <td>0.0569</td>\n      <td>0.0494</td>\n      <td>0.0003</td>\n      <td>-0.0344</td>\n      <td>0.0096</td>\n      <td>0.0511</td>\n      <td>0.0480</td>\n      <td>0.0501</td>\n      <td>...</td>\n      <td>0.0066</td>\n      <td>0.0071</td>\n      <td>0.0043</td>\n      <td>0.0040</td>\n      <td>0.0053</td>\n      <td>0.0042</td>\n      <td>0.0078</td>\n      <td>0.0039</td>\n      <td>0.8619</td>\n      <td>1.0000</td>\n    </tr>\n  </tbody>\n</table>\n<p>40 rows × 40 columns</p>\n</div>"
     },
     "execution_count": 320,
     "metadata": {},
     "output_type": "execute_result"
    }
   ],
   "source": [
    "correlation_matrix."
   ],
   "metadata": {
    "collapsed": false,
    "ExecuteTime": {
     "end_time": "2024-09-02T00:05:37.072125100Z",
     "start_time": "2024-09-02T00:05:37.040839200Z"
    }
   }
  },
  {
   "cell_type": "code",
   "execution_count": 325,
   "outputs": [
    {
     "data": {
      "text/plain": "array([2, 5, 2, 0, 1, 5, 5, 0, 0, 0, 0, 0, 0, 1, 2, 0, 2, 5, 5, 0, 1, 5,\n       3, 1, 3, 3, 1, 5, 1, 4, 3, 3, 3, 3, 3, 3, 5, 3, 2, 2], dtype=int64)"
     },
     "execution_count": 325,
     "metadata": {},
     "output_type": "execute_result"
    }
   ],
   "source": [
    "cluster_labels"
   ],
   "metadata": {
    "collapsed": false,
    "ExecuteTime": {
     "end_time": "2024-09-02T00:08:36.537102700Z",
     "start_time": "2024-09-02T00:08:36.490104500Z"
    }
   }
  },
  {
   "cell_type": "code",
   "execution_count": 324,
   "outputs": [
    {
     "data": {
      "text/plain": "array([[ 0.8444442 ,  0.38382379],\n       [-0.1603704 ,  1.85611936],\n       [ 0.85560205,  0.33339269],\n       [ 1.225623  , -1.76592684],\n       [ 0.38165774,  0.43395791],\n       [ 0.83450993,  1.44710877],\n       [ 1.31322371,  0.5328756 ],\n       [ 1.22376103, -1.75263481],\n       [ 1.29727993, -1.7417867 ],\n       [ 1.22291673, -1.76107548],\n       [ 0.9444135 , -1.46754753],\n       [ 0.95085268, -1.62326973],\n       [ 0.93281976, -1.60376618],\n       [-1.0604472 ,  1.29358437],\n       [ 0.91281981,  0.99005304],\n       [ 0.94624128, -1.53282137],\n       [ 0.88756771,  1.08426256],\n       [ 0.82605069,  0.90890997],\n       [ 1.92579986,  0.67949131],\n       [ 0.76528249, -1.5576894 ],\n       [ 0.13725922,  0.31304588],\n       [ 1.25385442,  0.58345803],\n       [-2.43276031, -0.11442555],\n       [-0.92744384, -0.1352789 ],\n       [-2.41348721, -0.09884656],\n       [-2.41769723, -0.09938601],\n       [-1.45587927,  0.23880542],\n       [ 1.46647262,  0.62491774],\n       [ 0.54396317,  0.47665546],\n       [ 4.05255237,  1.23675506],\n       [-2.43169448, -0.11470104],\n       [-2.37327644, -0.10819421],\n       [-2.40944299, -0.08332196],\n       [-2.38812305, -0.06854134],\n       [-2.43038828, -0.09394672],\n       [-2.33388988, -0.07064172],\n       [-0.04432163,  0.30717869],\n       [-2.28816872, -0.05916568],\n       [ 0.90883129,  1.06465295],\n       [ 0.91359172,  1.06391911]])"
     },
     "execution_count": 324,
     "metadata": {},
     "output_type": "execute_result"
    }
   ],
   "source": [
    "reduced_data"
   ],
   "metadata": {
    "collapsed": false,
    "ExecuteTime": {
     "end_time": "2024-09-02T00:08:19.520439800Z",
     "start_time": "2024-09-02T00:08:19.489175100Z"
    }
   }
  },
  {
   "cell_type": "code",
   "execution_count": 318,
   "outputs": [
    {
     "ename": "IndexError",
     "evalue": "list index out of range",
     "output_type": "error",
     "traceback": [
      "\u001B[1;31m---------------------------------------------------------------------------\u001B[0m",
      "\u001B[1;31mIndexError\u001B[0m                                Traceback (most recent call last)",
      "\u001B[1;32m~\\AppData\\Local\\Temp\\ipykernel_19136\\3295758729.py\u001B[0m in \u001B[0;36m<module>\u001B[1;34m\u001B[0m\n\u001B[0;32m     18\u001B[0m \u001B[1;32mfor\u001B[0m \u001B[0mi\u001B[0m \u001B[1;32min\u001B[0m \u001B[0mrange\u001B[0m\u001B[1;33m(\u001B[0m\u001B[0mlen\u001B[0m\u001B[1;33m(\u001B[0m\u001B[0mreduced_data\u001B[0m\u001B[1;33m)\u001B[0m\u001B[1;33m)\u001B[0m\u001B[1;33m:\u001B[0m\u001B[1;33m\u001B[0m\u001B[1;33m\u001B[0m\u001B[0m\n\u001B[0;32m     19\u001B[0m     plt.scatter(reduced_data[i, 0], reduced_data[i, 1],\n\u001B[1;32m---> 20\u001B[1;33m                 color=colors[cluster_labels[i]], label=f'Cluster {cluster_labels[i]}' if i == 0 else \"\", s=100)\n\u001B[0m\u001B[0;32m     21\u001B[0m     \u001B[0mplt\u001B[0m\u001B[1;33m.\u001B[0m\u001B[0mtext\u001B[0m\u001B[1;33m(\u001B[0m\u001B[0mreduced_data\u001B[0m\u001B[1;33m[\u001B[0m\u001B[0mi\u001B[0m\u001B[1;33m,\u001B[0m \u001B[1;36m0\u001B[0m\u001B[1;33m]\u001B[0m\u001B[1;33m,\u001B[0m \u001B[0mreduced_data\u001B[0m\u001B[1;33m[\u001B[0m\u001B[0mi\u001B[0m\u001B[1;33m,\u001B[0m \u001B[1;36m1\u001B[0m\u001B[1;33m]\u001B[0m\u001B[1;33m,\u001B[0m \u001B[0mcorrelation_matrix\u001B[0m\u001B[1;33m.\u001B[0m\u001B[0mcolumns\u001B[0m\u001B[1;33m[\u001B[0m\u001B[0mi\u001B[0m\u001B[1;33m]\u001B[0m\u001B[1;33m,\u001B[0m \u001B[0mfontsize\u001B[0m\u001B[1;33m=\u001B[0m\u001B[1;36m12\u001B[0m\u001B[1;33m)\u001B[0m\u001B[1;33m\u001B[0m\u001B[1;33m\u001B[0m\u001B[0m\n\u001B[0;32m     22\u001B[0m \u001B[1;33m\u001B[0m\u001B[0m\n",
      "\u001B[1;31mIndexError\u001B[0m: list index out of range"
     ]
    },
    {
     "data": {
      "text/plain": "<Figure size 1000x800 with 1 Axes>",
      "image/png": "[encoded data removed]"
     },
     "metadata": {},
     "output_type": "display_data"
    }
   ],
   "source": [
    "from sklearn.decomposition import PCA\n",
    "from sklearn.cluster import AgglomerativeClustering\n",
    "from scipy.cluster.hierarchy import dendrogram, linkage\n",
    "\n",
    "# Step 2: Apply Agglomerative Clustering\n",
    "# Perform hierarchical clustering\n",
    "agg_cluster = AgglomerativeClustering(n_clusters=6, affinity='euclidean', linkage='ward')\n",
    "cluster_labels = agg_cluster.fit_predict(correlation_matrix)\n",
    "\n",
    "# Step 2: Apply PCA to reduce to 2 dimensions\n",
    "pca = PCA(n_components=2)\n",
    "reduced_data = pca.fit_transform(correlation_matrix)\n",
    "\n",
    "# Step 3: Plot the results\n",
    "plt.figure(figsize=(10, 8))\n",
    "# Use different colors for different clusters\n",
    "colors = ['red', 'green', 'blue']\n",
    "for i in range(len(reduced_data)):\n",
    "    plt.scatter(reduced_data[i, 0], reduced_data[i, 1],\n",
    "                color=colors[cluster_labels[i]], label=f'Cluster {cluster_labels[i]}' if i == 0 else \"\", s=100)\n",
    "    plt.text(reduced_data[i, 0], reduced_data[i, 1], correlation_matrix.columns[i], fontsize=12)\n",
    "\n",
    "plt.title('2D PCA of Correlation Matrix with Agglomerative Clustering')\n",
    "plt.xlabel('Principal Component 1')\n",
    "plt.ylabel('Principal Component 2')\n",
    "plt.grid(True)\n",
    "plt.legend()\n",
    "plt.show()"
   ],
   "metadata": {
    "collapsed": false,
    "ExecuteTime": {
     "end_time": "2024-09-02T00:04:59.013973100Z",
     "start_time": "2024-09-02T00:04:58.904332700Z"
    }
   }
  },
  {
   "cell_type": "code",
   "execution_count": 359,
   "outputs": [
    {
     "data": {
      "text/plain": "Cluster\n0    [P302, P101, FIT201, MV201, P203, P205, DPIT30...\n1     [AIT503, AIT501, AIT201, LIT401, AIT401, LIT301]\n2          [FIT601, FIT101, P602, MV301, MV101, MV303]\n3    [PIT503, PIT501, FIT401, P501, P402, UV401, FI...\n4                                             [AIT504]\n5    [PIT502, MV304, AIT202, AIT402, AIT203, P301, ...\nName: Variable, dtype: object"
     },
     "execution_count": 359,
     "metadata": {},
     "output_type": "execute_result"
    }
   ],
   "source": [
    "import numpy as np\n",
    "import pandas as pd\n",
    "import matplotlib.pyplot as plt\n",
    "from sklearn.decomposition import PCA\n",
    "from sklearn.preprocessing import StandardScaler\n",
    "from sklearn.cluster import AgglomerativeClustering\n",
    "from mpl_toolkits.mplot3d import Axes3D\n",
    "\n",
    "# Example correlation matrix (replace with your actual correlation matrix)\n",
    "np.random.seed(0)\n",
    "\n",
    "# Step 1: Standardize the correlation matrix (optional but often recommended)\n",
    "#scaler = StandardScaler()\n",
    "#correlation_matrix_scaled = scaler.fit_transform(correlation_matrix)\n",
    "\n",
    "\n",
    "\n",
    "# Step 3: Apply PCA to reduce to 3 dimensions\n",
    "pca = PCA(n_components=6)\n",
    "reduced_data = pca.fit_transform(correlation_matrix)\n",
    "\n",
    "# Step 2: Apply Agglomerative Clustering\n",
    "agg_cluster = AgglomerativeClustering(n_clusters=6, affinity='euclidean', linkage='ward')\n",
    "cluster_labels = agg_cluster.fit_predict(reduced_data)\n",
    "\n",
    "\n",
    "# Step 3: Create a DataFrame to show which variables belong to which cluster\n",
    "cluster_df = pd.DataFrame({\n",
    "    'Variable': correlation_matrix.columns,\n",
    "    'Cluster': cluster_labels\n",
    "})\n",
    "\n",
    "grouped = cluster_df_sorted.groupby(by='Cluster')['Variable'].apply(list)\n",
    "grouped\n",
    "\n",
    "\n"
   ],
   "metadata": {
    "collapsed": false,
    "ExecuteTime": {
     "end_time": "2024-09-02T00:46:21.062537400Z",
     "start_time": "2024-09-02T00:46:21.015658600Z"
    }
   }
  },
  {
   "cell_type": "code",
   "execution_count": 354,
   "outputs": [
    {
     "data": {
      "text/plain": "Cluster\n0    [P302, P101, FIT201, MV201, P203, P205, DPIT30...\n1     [AIT503, AIT501, AIT201, LIT401, AIT401, LIT301]\n2          [FIT601, FIT101, P602, MV301, MV101, MV303]\n3    [PIT503, PIT501, FIT401, P501, P402, UV401, FI...\n4                                             [AIT504]\n5    [PIT502, MV304, AIT202, AIT402, AIT203, P301, ...\nName: Variable, dtype: object"
     },
     "execution_count": 354,
     "metadata": {},
     "output_type": "execute_result"
    }
   ],
   "source": [],
   "metadata": {
    "collapsed": false,
    "ExecuteTime": {
     "end_time": "2024-09-02T00:44:48.332007900Z",
     "start_time": "2024-09-02T00:44:48.300749300Z"
    }
   }
  },
  {
   "cell_type": "code",
   "execution_count": null,
   "outputs": [],
   "source": [],
   "metadata": {
    "collapsed": false
   }
  },
  {
   "cell_type": "code",
   "execution_count": null,
   "outputs": [],
   "source": [
    "# Display the grouped components by cluster and forast for latex\n",
    "\n",
    "# Latex table code\n",
    "latex_table = \"\\\\begin{table}[h!]\\n\\\\centering\\n\\\\begin{tabular}{|c|l|c|}\\n\\\\hline\\n\"\n",
    "latex_table += \"Cluster & Components & No. Components \\\\\\\\\\n\\\\hline\\n\"\n",
    "\n",
    "for cluster, components in clusters.items():\n",
    "    # Split components into lines with a max of 10 components per line\n",
    "    component_lines = [', '.join(components[i:i+10]) for i in range(0, len(components), 10)]\n",
    "    component_str = ' \\\\\\\\ '.join(component_lines)\n",
    "    latex_table += f\"{cluster} & {component_str}  \\\\\\\\\\n\"\n",
    "\n",
    "latex_table += \"\\\\hline\\n\\\\end{tabular}\\n\\\\caption{Clustered Components}\\n\\\\label{tab:clusters}\\n\\\\end{table}\"\n",
    "\n",
    "print(latex_table)"
   ],
   "metadata": {
    "collapsed": false
   }
  },
  {
   "cell_type": "code",
   "execution_count": 360,
   "outputs": [
    {
     "data": {
      "text/plain": "AgglomerativeClustering(n_clusters=6)"
     },
     "execution_count": 360,
     "metadata": {},
     "output_type": "execute_result"
    }
   ],
   "source": [
    "agg_cluster"
   ],
   "metadata": {
    "collapsed": false,
    "ExecuteTime": {
     "end_time": "2024-09-02T00:46:44.806965300Z",
     "start_time": "2024-09-02T00:46:44.775850900Z"
    }
   }
  },
  {
   "cell_type": "code",
   "execution_count": 361,
   "outputs": [
    {
     "name": "stdout",
     "output_type": "stream",
     "text": [
      "   Variable  Cluster\n",
      "0      P302        0\n",
      "1      P101        0\n",
      "2    FIT201        0\n",
      "3     MV201        0\n",
      "4      P203        0\n",
      "5      P205        0\n",
      "6   DPIT301        0\n",
      "7    FIT301        0\n",
      "8     MV302        0\n",
      "9    AIT503        1\n",
      "10   AIT501        1\n",
      "11   AIT201        1\n",
      "12   LIT401        1\n",
      "13   AIT401        1\n",
      "14   LIT301        1\n",
      "15   FIT601        2\n",
      "16   FIT101        2\n",
      "17     P602        2\n",
      "18    MV301        2\n",
      "19    MV101        2\n",
      "20    MV303        2\n",
      "21   PIT503        3\n",
      "22   PIT501        3\n",
      "23   FIT401        3\n",
      "24     P501        3\n",
      "25     P402        3\n",
      "26    UV401        3\n",
      "27   FIT504        3\n",
      "28   FIT501        3\n",
      "29   FIT502        3\n",
      "30   FIT503        3\n",
      "31   AIT504        4\n",
      "32   PIT502        5\n",
      "33    MV304        5\n",
      "34   AIT202        5\n",
      "35   AIT402        5\n",
      "36   AIT203        5\n",
      "37     P301        5\n",
      "38   AIT502        5\n",
      "39   LIT101        5\n"
     ]
    }
   ],
   "source": [
    "# Step 2: Apply Agglomerative Clustering\n",
    "agg_cluster = AgglomerativeClustering(n_clusters=6, affinity='euclidean', linkage='ward')\n",
    "cluster_labels = agg_cluster.fit_predict(correlation_matrix)\n",
    "\n",
    "# Step 3: Create a DataFrame to show which variables belong to which cluster\n",
    "cluster_df = pd.DataFrame({\n",
    "    'Variable': correlation_matrix.columns,\n",
    "    'Cluster': cluster_labels\n",
    "})\n",
    "\n",
    "# Step 4: Sort by cluster for better readability\n",
    "cluster_df_sorted = cluster_df.sort_values(by='Cluster').reset_index(drop=True)\n",
    "\n",
    "# Display the DataFrame\n",
    "print(cluster_df_sorted)"
   ],
   "metadata": {
    "collapsed": false,
    "ExecuteTime": {
     "end_time": "2024-09-02T00:46:46.210744900Z",
     "start_time": "2024-09-02T00:46:46.179401200Z"
    }
   }
  },
  {
   "cell_type": "code",
   "execution_count": 362,
   "outputs": [
    {
     "data": {
      "text/plain": "Cluster\n0    [P302, P101, FIT201, MV201, P203, P205, DPIT30...\n1     [AIT503, AIT501, AIT201, LIT401, AIT401, LIT301]\n2          [FIT601, FIT101, P602, MV301, MV101, MV303]\n3    [PIT503, PIT501, FIT401, P501, P402, UV401, FI...\n4                                             [AIT504]\n5    [PIT502, MV304, AIT202, AIT402, AIT203, P301, ...\nName: Variable, dtype: object"
     },
     "execution_count": 362,
     "metadata": {},
     "output_type": "execute_result"
    }
   ],
   "source": [
    "# Step 3: Create a DataFrame to show which variables belong to which cluster\n",
    "cluster_df = pd.DataFrame({\n",
    "    'Variable': correlation_matrix.columns,\n",
    "    'Cluster': cluster_labels\n",
    "})\n",
    "\n",
    "grouped = cluster_df_sorted.groupby(by='Cluster')['Variable'].apply(list)\n",
    "grouped"
   ],
   "metadata": {
    "collapsed": false,
    "ExecuteTime": {
     "end_time": "2024-09-02T00:46:50.017587Z",
     "start_time": "2024-09-02T00:46:49.986240Z"
    }
   }
  },
  {
   "cell_type": "code",
   "execution_count": 349,
   "outputs": [
    {
     "data": {
      "text/plain": "pandas.core.frame.DataFrame"
     },
     "execution_count": 349,
     "metadata": {},
     "output_type": "execute_result"
    }
   ],
   "source": [
    "type(cluster_df_sorted)"
   ],
   "metadata": {
    "collapsed": false,
    "ExecuteTime": {
     "end_time": "2024-09-02T00:41:59.784276100Z",
     "start_time": "2024-09-02T00:41:59.538905700Z"
    }
   }
  },
  {
   "cell_type": "code",
   "execution_count": 350,
   "outputs": [
    {
     "name": "stdout",
     "output_type": "stream",
     "text": [
      "<pandas.core.groupby.generic.DataFrameGroupBy object at 0x000001CF2EE66490>\n"
     ]
    }
   ],
   "source": [
    "print(cluster_df_sorted.groupby('Cluster'))"
   ],
   "metadata": {
    "collapsed": false,
    "ExecuteTime": {
     "end_time": "2024-09-02T00:42:03.217713100Z",
     "start_time": "2024-09-02T00:42:03.170718400Z"
    }
   }
  },
  {
   "cell_type": "code",
   "execution_count": 350,
   "outputs": [],
   "source": [],
   "metadata": {
    "collapsed": false,
    "ExecuteTime": {
     "end_time": "2024-09-02T00:42:03.939140800Z",
     "start_time": "2024-09-02T00:42:03.907895400Z"
    }
   }
  },
  {
   "cell_type": "code",
   "execution_count": 343,
   "outputs": [],
   "source": [
    "from sklearn.decomposition import FactorAnalysis\n",
    "\n",
    "# Assuming 'data' is your original dataset\n",
    "fa = FactorAnalysis(n_components=6)  # You can choose the number of factors\n",
    "fa.fit(correlation_matrix)\n",
    "\n",
    "# Transformed data with reduced dimensions\n",
    "transformed_data = fa.transform(correlation_matrix)"
   ],
   "metadata": {
    "collapsed": false,
    "ExecuteTime": {
     "end_time": "2024-09-02T00:30:27.566329500Z",
     "start_time": "2024-09-02T00:30:27.488203400Z"
    }
   }
  },
  {
   "cell_type": "code",
   "execution_count": 344,
   "outputs": [
    {
     "data": {
      "text/plain": "array([[ 5.85213169e-01,  1.16224639e-01,  9.89270086e-02,\n        -9.12290331e-01, -1.53925761e+00, -1.25394093e-01],\n       [-1.37094565e-01,  2.39221100e+00, -5.00364480e-01,\n         1.38472545e+00,  3.01348643e-01, -3.14770061e-01],\n       [ 5.91576713e-01,  7.80845233e-02,  9.83043372e-02,\n        -8.78065838e-01, -1.47754155e+00, -1.25741914e-01],\n       [ 8.57970021e-01, -2.06196424e+00, -3.17051751e-02,\n        -6.11443712e-01, -5.02409800e-01,  3.54072436e-01],\n       [ 3.87508694e-01,  6.70793441e-01, -1.77060072e+00,\n         2.66053341e-01, -3.90891512e-01,  2.90342161e-01],\n       [ 4.13791645e-01,  1.58867562e+00,  3.25275746e-01,\n         6.56639338e-01, -3.89971440e-01,  1.64748981e+00],\n       [ 5.66034513e-01,  3.52058956e-01,  1.83933189e+00,\n         2.45295027e-01, -3.06587539e-01,  3.44839084e+00],\n       [ 8.57968560e-01, -2.06667105e+00, -1.99401491e-02,\n        -6.48015294e-01, -5.41250412e-01,  3.66664392e-01],\n       [ 9.02860732e-01, -2.03023929e+00, -3.73051725e-02,\n        -6.03047274e-01, -5.21401977e-01,  3.33312084e-01],\n       [ 8.58405970e-01, -2.07032326e+00, -3.05277047e-02,\n        -6.37044911e-01, -5.31420399e-01,  3.58209537e-01],\n       [ 7.89007032e-01, -1.54716394e+00, -9.60840691e-01,\n        -4.51176534e-01, -5.44500601e-01, -1.32149184e+00],\n       [ 5.74998961e-01, -8.74770247e-01, -1.07755992e-01,\n         2.24174490e+00,  1.32851630e+00, -1.77407033e-01],\n       [ 5.66692581e-01, -8.86493803e-01, -1.21386321e-01,\n         2.13438056e+00,  1.32623449e+00, -1.27145194e-01],\n       [-5.01307955e-01,  1.29204448e+00, -6.29936120e-01,\n        -1.49329222e-01, -1.19664980e+00, -1.64831794e-01],\n       [ 5.34576601e-01,  6.58826337e-01, -8.61705846e-02,\n        -1.77854680e+00,  2.78045208e+00, -4.87697450e-02],\n       [ 5.71323690e-01, -7.98079485e-01, -1.06853161e-01,\n         2.13586147e+00,  1.43694443e+00, -1.17435142e-01],\n       [ 5.35670201e-01,  5.98903087e-01, -5.78438504e-02,\n        -1.58736477e+00,  4.80029468e-01,  3.30554122e-02],\n       [ 5.12448447e-01,  7.81172633e-01, -8.31627418e-02,\n        -2.79516581e-01, -1.31344426e+00, -9.00498255e-02],\n       [ 1.01571621e+00,  7.89656973e-01,  3.96484763e-01,\n         3.95655069e-01, -4.44640913e-01, -1.35089710e-01],\n       [ 4.85861377e-01, -8.21628425e-01, -1.84762791e-01,\n         2.12282056e+00,  1.32640494e+00, -1.09252665e-01],\n       [ 3.23392120e-01,  6.85072313e-01, -2.02101266e+00,\n         2.20025760e-01, -4.84354710e-01, -3.13036035e+00],\n       [ 4.16477818e-01,  4.64570101e-01,  3.04808896e+00,\n         1.98462472e-01, -3.67154055e-01, -1.10202379e+00],\n       [-1.49646340e+00, -1.68108196e-01, -2.46160694e-01,\n        -2.92156789e-02, -2.77170531e-02,  2.08124511e-01],\n       [-3.34998539e-01, -3.08361616e-01, -8.31505313e-01,\n        -6.23359570e-01, -9.57864455e-01,  4.29881673e-03],\n       [-1.52909393e+00, -1.71325610e-01,  7.90382694e-02,\n        -3.97873821e-03,  6.90105910e-03,  9.55284322e-02],\n       [-1.53227077e+00, -1.72391417e-01,  7.90036678e-02,\n        -4.82164490e-03,  6.85269387e-03,  9.42133985e-02],\n       [-6.38993099e-01,  3.86094763e-01, -2.02139307e+00,\n         1.12869626e-01, -2.89314974e-01,  7.37519755e-01],\n       [ 5.53853650e-01,  5.24167887e-01,  3.06879734e+00,\n         2.02634904e-01, -4.17242067e-01, -1.47922001e+00],\n       [ 4.24851006e-01,  6.29616378e-01, -9.63676928e-01,\n         4.31213479e-01, -4.16848089e-01,  2.40417343e+00],\n       [ 2.57349669e+00,  1.58807747e+00, -5.44562659e-01,\n         5.58086536e-01, -8.66147266e-01, -1.41228556e-01],\n       [-1.49405891e+00, -1.67126899e-01, -2.60732205e-01,\n        -2.93910094e-02, -2.81813412e-02,  2.12471395e-01],\n       [-1.43006939e+00, -1.44098340e-01, -4.49250066e-01,\n        -2.96939292e-02, -4.79766213e-02,  3.34432576e-01],\n       [-1.56676188e+00, -1.77376813e-01,  3.58196415e-01,\n        -2.64332492e-03,  1.37690199e-02, -7.52817189e-02],\n       [-1.55190351e+00, -1.53087377e-01,  3.16574819e-01,\n         1.32654414e-02,  2.29598225e-02, -4.56551374e-02],\n       [-1.54017024e+00, -1.67155708e-01,  7.14230160e-02,\n        -1.11930255e-02, -4.49234018e-04,  6.52678434e-02],\n       [-1.54434001e+00, -1.84511710e-01,  5.76142728e-01,\n        -1.40451141e-02, -6.81454016e-03, -2.11160416e-01],\n       [-1.48838352e-01,  3.13580782e-01,  1.15640732e+00,\n         9.87567670e-02, -3.29882561e-01, -1.69502632e+00],\n       [-1.52838160e+00, -1.79981273e-01,  6.95467638e-01,\n        -1.14293573e-02, -1.08652207e-02, -2.65466970e-01],\n       [ 5.37037898e-01,  6.20300763e-01, -6.87305643e-02,\n        -1.96398920e+00,  2.14268699e+00,  8.72809185e-03],\n       [ 5.38011853e-01,  6.20726564e-01, -7.12841077e-02,\n        -2.15888885e+00,  2.77768007e+00,  6.50736507e-03]])"
     },
     "execution_count": 344,
     "metadata": {},
     "output_type": "execute_result"
    }
   ],
   "source": [
    "transformed_data"
   ],
   "metadata": {
    "collapsed": false,
    "ExecuteTime": {
     "end_time": "2024-09-02T00:30:47.551800500Z",
     "start_time": "2024-09-02T00:30:47.504879900Z"
    }
   }
  },
  {
   "cell_type": "code",
   "execution_count": null,
   "outputs": [],
   "source": [],
   "metadata": {
    "collapsed": false
   }
  }
 ],
 "metadata": {
  "kernelspec": {
   "display_name": "Python 3",
   "language": "python",
   "name": "python3"
  },
  "language_info": {
   "codemirror_mode": {
    "name": "ipython",
    "version": 2
   },
   "file_extension": ".py",
   "mimetype": "text/x-python",
   "name": "python",
   "nbconvert_exporter": "python",
   "pygments_lexer": "ipython2",
   "version": "2.7.6"
  }
 },
 "nbformat": 4,
 "nbformat_minor": 0
}
