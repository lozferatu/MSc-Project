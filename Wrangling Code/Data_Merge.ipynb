{
 "cells": [
  {
   "cell_type": "markdown",
   "source": [
    "\n",
    "## 1.1 Formats Component Description\n",
    "\n",
    "## 1.2 Imports Normal data and reduces to 10 sec average values\n"
   ],
   "metadata": {
    "collapsed": false
   }
  },
  {
   "cell_type": "code",
   "execution_count": 1,
   "metadata": {
    "collapsed": true,
    "ExecuteTime": {
     "end_time": "2024-08-08T14:44:11.500631Z",
     "start_time": "2024-08-08T14:44:11.485617200Z"
    }
   },
   "outputs": [],
   "source": [
    "import pandas as pd\n",
    "import datetime as dt\n",
    "\n"
   ]
  },
  {
   "cell_type": "markdown",
   "source": [
    "# import normal data\n",
    "df_normal = pd.read_excel('D:\\GitHub\\MSc-Project\\SWaT Data\\SWaT.A1 _ A2_Dec 2015\\Physical\\SWaT_Dataset_Normal_v1.xlsx',  engine='openpyxl')\n",
    "\n",
    "\n",
    "# import attack data\n",
    "df_attack = pd.read_excel('D:\\GitHub\\MSc-Project\\SWaT Data\\SWaT.A1 _ A2_Dec 2015\\Physical\\SWaT_Dataset_Attack_v0.xlsx', engine='openpyxl')"
   ],
   "metadata": {
    "collapsed": false
   }
  },
  {
   "cell_type": "markdown",
   "source": [
    "df_normal.head()"
   ],
   "metadata": {
    "collapsed": false
   }
  },
  {
   "cell_type": "markdown",
   "source": [
    "Length of original data:"
   ],
   "metadata": {
    "collapsed": false
   }
  },
  {
   "cell_type": "markdown",
   "source": [
    "print(f'Length of original data: {len(df_normal)}')"
   ],
   "metadata": {
    "collapsed": false
   }
  },
  {
   "cell_type": "markdown",
   "source": [
    "Format .txt file containing system element descriptions in to .csv"
   ],
   "metadata": {
    "collapsed": false
   }
  },
  {
   "cell_type": "markdown",
   "source": [
    "# List to hold the rows\n",
    "rows = []\n",
    "\n",
    "# Known types\n",
    "types = [\"Sensor\", \"Actuator\", \"(backup) Actuator\"]\n",
    "\n",
    "with open('D:\\GitHub\\MSc-Project\\SWaT Data\\Sensor_Dsec_Table.txt', 'r') as file:\n",
    "    for line in file:\n",
    "        print(line)\n",
    "        # Split by the first space to get No.\n",
    "        no_, rest_of_line = line.split(' ', 1)"
   ],
   "metadata": {
    "collapsed": false
   }
  },
  {
   "cell_type": "markdown",
   "source": [
    "\n",
    "## 1.1 Format Component Description"
   ],
   "metadata": {
    "collapsed": false
   }
  },
  {
   "cell_type": "code",
   "execution_count": 2,
   "outputs": [
    {
     "ename": "FileNotFoundError",
     "evalue": "[Errno 2] No such file or directory: 'D:\\\\GitHub\\\\MSc-Project\\\\SWaT Data\\\\Sensor_Dsec_Table.txt'",
     "output_type": "error",
     "traceback": [
      "\u001B[1;31m---------------------------------------------------------------------------\u001B[0m",
      "\u001B[1;31mFileNotFoundError\u001B[0m                         Traceback (most recent call last)",
      "Cell \u001B[1;32mIn[2], line 7\u001B[0m\n\u001B[0;32m      4\u001B[0m \u001B[38;5;66;03m# Known types\u001B[39;00m\n\u001B[0;32m      5\u001B[0m types \u001B[38;5;241m=\u001B[39m [\u001B[38;5;124m\"\u001B[39m\u001B[38;5;124mSensor\u001B[39m\u001B[38;5;124m\"\u001B[39m, \u001B[38;5;124m\"\u001B[39m\u001B[38;5;124mActuator\u001B[39m\u001B[38;5;124m\"\u001B[39m, \u001B[38;5;124m\"\u001B[39m\u001B[38;5;124m(backup) Actuator\u001B[39m\u001B[38;5;124m\"\u001B[39m, \u001B[38;5;124m\"\u001B[39m\u001B[38;5;124mType\u001B[39m\u001B[38;5;124m\"\u001B[39m]\n\u001B[1;32m----> 7\u001B[0m \u001B[38;5;28;01mwith\u001B[39;00m \u001B[38;5;28;43mopen\u001B[39;49m\u001B[43m(\u001B[49m\u001B[38;5;124;43m'\u001B[39;49m\u001B[38;5;124;43mD:\u001B[39;49m\u001B[38;5;124;43m\\\u001B[39;49m\u001B[38;5;124;43mGitHub\u001B[39;49m\u001B[38;5;124;43m\\\u001B[39;49m\u001B[38;5;124;43mMSc-Project\u001B[39;49m\u001B[38;5;124;43m\\\u001B[39;49m\u001B[38;5;124;43mSWaT Data\u001B[39;49m\u001B[38;5;124;43m\\\u001B[39;49m\u001B[38;5;124;43mSensor_Dsec_Table.txt\u001B[39;49m\u001B[38;5;124;43m'\u001B[39;49m\u001B[43m,\u001B[49m\u001B[43m \u001B[49m\u001B[38;5;124;43m'\u001B[39;49m\u001B[38;5;124;43mr\u001B[39;49m\u001B[38;5;124;43m'\u001B[39;49m\u001B[43m)\u001B[49m \u001B[38;5;28;01mas\u001B[39;00m file:\n\u001B[0;32m      8\u001B[0m         \u001B[38;5;66;03m# Skip the first line\u001B[39;00m\n\u001B[0;32m      9\u001B[0m     \u001B[38;5;28mnext\u001B[39m(file)\n\u001B[0;32m     10\u001B[0m     \u001B[38;5;28;01mfor\u001B[39;00m line \u001B[38;5;129;01min\u001B[39;00m file:\n\u001B[0;32m     11\u001B[0m         \u001B[38;5;66;03m# print(line)\u001B[39;00m\n\u001B[0;32m     12\u001B[0m         \u001B[38;5;66;03m# Split by the first space to get No.\u001B[39;00m\n",
      "File \u001B[1;32m~\\anaconda3\\lib\\site-packages\\IPython\\core\\interactiveshell.py:286\u001B[0m, in \u001B[0;36m_modified_open\u001B[1;34m(file, *args, **kwargs)\u001B[0m\n\u001B[0;32m    279\u001B[0m \u001B[38;5;28;01mif\u001B[39;00m file \u001B[38;5;129;01min\u001B[39;00m {\u001B[38;5;241m0\u001B[39m, \u001B[38;5;241m1\u001B[39m, \u001B[38;5;241m2\u001B[39m}:\n\u001B[0;32m    280\u001B[0m     \u001B[38;5;28;01mraise\u001B[39;00m \u001B[38;5;167;01mValueError\u001B[39;00m(\n\u001B[0;32m    281\u001B[0m         \u001B[38;5;124mf\u001B[39m\u001B[38;5;124m\"\u001B[39m\u001B[38;5;124mIPython won\u001B[39m\u001B[38;5;124m'\u001B[39m\u001B[38;5;124mt let you open fd=\u001B[39m\u001B[38;5;132;01m{\u001B[39;00mfile\u001B[38;5;132;01m}\u001B[39;00m\u001B[38;5;124m by default \u001B[39m\u001B[38;5;124m\"\u001B[39m\n\u001B[0;32m    282\u001B[0m         \u001B[38;5;124m\"\u001B[39m\u001B[38;5;124mas it is likely to crash IPython. If you know what you are doing, \u001B[39m\u001B[38;5;124m\"\u001B[39m\n\u001B[0;32m    283\u001B[0m         \u001B[38;5;124m\"\u001B[39m\u001B[38;5;124myou can use builtins\u001B[39m\u001B[38;5;124m'\u001B[39m\u001B[38;5;124m open.\u001B[39m\u001B[38;5;124m\"\u001B[39m\n\u001B[0;32m    284\u001B[0m     )\n\u001B[1;32m--> 286\u001B[0m \u001B[38;5;28;01mreturn\u001B[39;00m io_open(file, \u001B[38;5;241m*\u001B[39margs, \u001B[38;5;241m*\u001B[39m\u001B[38;5;241m*\u001B[39mkwargs)\n",
      "\u001B[1;31mFileNotFoundError\u001B[0m: [Errno 2] No such file or directory: 'D:\\\\GitHub\\\\MSc-Project\\\\SWaT Data\\\\Sensor_Dsec_Table.txt'"
     ]
    }
   ],
   "source": [
    "# List to hold the rows\n",
    "rows = []\n",
    "\n",
    "# Known types\n",
    "types = [\"Sensor\", \"Actuator\", \"(backup) Actuator\", \"Type\"]\n",
    "\n",
    "with open('D:\\GitHub\\MSc-Project\\SWaT Data\\Sensor_Dsec_Table.txt', 'r') as file:\n",
    "        # Skip the first line\n",
    "    next(file)\n",
    "    for line in file:\n",
    "        # print(line)\n",
    "        # Split by the first space to get No.\n",
    "        no_, rest_of_line = line.split(' ', 1)\n",
    "\n",
    "        # Determine which type exists in the rest_of_line\n",
    "        for t in types:\n",
    "            # print(t)\n",
    "            if t in rest_of_line:\n",
    "                type_ = t\n",
    "                break\n",
    "        # print(line)\n",
    "        # Splitting by type to get name and description\n",
    "        name, description = rest_of_line.split(type_, 1)\n",
    "\n",
    "        # Cleaning up and storing the values\n",
    "        rows.append({\n",
    "            'No.': no_,\n",
    "            'Name': name.strip(),\n",
    "            'Type': type_,\n",
    "            'Description': description.strip()\n",
    "        })\n",
    "\n",
    "# Convert rows into DataFrame\n",
    "df = pd.DataFrame(rows)\n",
    "print(df)\n"
   ],
   "metadata": {
    "collapsed": false,
    "ExecuteTime": {
     "end_time": "2024-08-08T14:44:12.570817800Z",
     "start_time": "2024-08-08T14:44:11.502131200Z"
    }
   }
  },
  {
   "cell_type": "code",
   "execution_count": null,
   "outputs": [],
   "source": [
    "filename = 'D:\\GitHub\\MSc-Project\\SWaT DataSWaT_Component_Desc.csv'\n",
    "\n",
    "df.to_csv(filename, index = False)"
   ],
   "metadata": {
    "collapsed": false
   }
  },
  {
   "cell_type": "code",
   "execution_count": null,
   "outputs": [],
   "source": [],
   "metadata": {
    "collapsed": false
   }
  },
  {
   "cell_type": "code",
   "execution_count": null,
   "outputs": [],
   "source": [
    "## Not sure, guess it was about getting data from hex representation"
   ],
   "metadata": {
    "collapsed": false
   }
  },
  {
   "cell_type": "code",
   "execution_count": 3,
   "outputs": [
    {
     "name": "stdout",
     "output_type": "stream",
     "text": [
      "[0.0, 0.0, 0.0, 3.4527994160963493e-41, 8.96831017167883e-44, 0.0, 0.0, 4.0283880740415446e-36]\n"
     ]
    }
   ],
   "source": [
    "import struct\n",
    "\n",
    "data_strs = [\n",
    "    \"0x00 0x00 0x00 0x00\",\n",
    "    \"0x00 0x00 0x00 0x00\",\n",
    "    \"0x00 0x00 0x00 0x00\",\n",
    "    \"0x00 0x00 0x60 0x40\",\n",
    "    \"0x00 0x00 0x00 0x40\",\n",
    "    \"0x00 0x00 0x00 0x00\",\n",
    "    \"0x00 0x00 0x00 0x00\",\n",
    "    \"0x04 0xab 0x59 0x43\"\n",
    "]\n",
    "\n",
    "decoded_values = []\n",
    "\n",
    "for data_str in data_strs:\n",
    "    bytes_data = bytes.fromhex(data_str.replace(\"0x\", \"\").replace(\" \", \"\"))\n",
    "    value = struct.unpack('>f', bytes_data)[0]\n",
    "    decoded_values.append(value)\n",
    "\n",
    "print(decoded_values)\n"
   ],
   "metadata": {
    "collapsed": false,
    "ExecuteTime": {
     "end_time": "2024-08-08T14:52:01.392997400Z",
     "start_time": "2024-08-08T14:52:01.381993700Z"
    }
   }
  },
  {
   "cell_type": "code",
   "execution_count": 4,
   "outputs": [
    {
     "name": "stdout",
     "output_type": "stream",
     "text": [
      "[134056796160.0, 0.0, 0.0, 5.390514932564706e-41, 2.5924021590009116e-41, 8.977698871389806e-41, 4.385924063490245e-41, '36', 134056796160.0]\n",
      "[32073350.0, 0.0, 0.0, 5.390514932564706e-41, 2.5924021590009116e-41, 8.977698871389806e-41, 4.385924063490245e-41, '36', 32073350.0]\n"
     ]
    }
   ],
   "source": [
    "import struct\n",
    "\n",
    "data_lines = [\n",
    "    \"0x51 0xf9 0xb3 0x43; 0x00 0x00 0x00 0x00; 0x00 0x00 0x00 0x00; 0x00 0x00 0x96 0x44; 0x00 0x00 0x48 0x44; 0x00 0x00 0xfa 0x43; 0x00 0x00 0x7a 0x43; 36; 0x51 0xf9 0xb3 0x43\",\n",
    "    # ... add the other lines here\n",
    "    \"0x4b 0xf4 0xb3 0x43; 0x00 0x00 0x00 0x00; 0x00 0x00 0x00 0x00; 0x00 0x00 0x96 0x44; 0x00 0x00 0x48 0x44; 0x00 0x00 0xfa 0x43; 0x00 0x00 0x7a 0x43; 36; 0x4b 0xf4 0xb3 0x43\"\n",
    "]\n",
    "\n",
    "for line in data_lines:\n",
    "    segments = line.split(\";\")\n",
    "    decoded_segments = []\n",
    "    for segment in segments:\n",
    "        segment = segment.strip()\n",
    "        if segment.startswith(\"0x\"):  # likely a byte sequence\n",
    "            bytes_data = bytes.fromhex(segment.replace(\"0x\", \"\").replace(\" \", \"\"))\n",
    "            value = struct.unpack('>f', bytes_data)[0]\n",
    "            decoded_segments.append(value)\n",
    "        else:  # possibly just a plain number or something else\n",
    "            decoded_segments.append(segment)\n",
    "    print(decoded_segments)\n"
   ],
   "metadata": {
    "collapsed": false,
    "ExecuteTime": {
     "end_time": "2024-08-08T14:52:37.044082200Z",
     "start_time": "2024-08-08T14:52:36.988049200Z"
    }
   }
  },
  {
   "cell_type": "markdown",
   "source": [
    "## Correlation Matrix for Physical values"
   ],
   "metadata": {
    "collapsed": false
   }
  },
  {
   "cell_type": "code",
   "execution_count": 58,
   "outputs": [],
   "source": [
    "# Load data from CSV\n",
    "df = pd.read_excel('D:\\SWaT_DataSets\\SWaT_Dataset_Normal_v1.xlsx', engine='openpyxl')\n"
   ],
   "metadata": {
    "collapsed": false,
    "ExecuteTime": {
     "end_time": "2024-08-08T15:51:49.042777Z",
     "start_time": "2024-08-08T15:48:06.738955200Z"
    }
   }
  },
  {
   "cell_type": "code",
   "execution_count": 68,
   "outputs": [
    {
     "data": {
      "text/plain": "   Unnamed: 0           Timestamp  FIT101    LIT101  MV101  P101  P102  \\\n0           0 2015-12-22 16:30:00     0.0  124.3135      1     1     1   \n1           1 2015-12-22 16:30:01     0.0  124.3920      1     1     1   \n2           2 2015-12-22 16:30:02     0.0  124.4705      1     1     1   \n3           3 2015-12-22 16:30:03     0.0  124.6668      1     1     1   \n4           4 2015-12-22 16:30:04     0.0  124.5098      1     1     1   \n\n     AIT201    AIT202    AIT203  ...  P501  P502    PIT501  PIT502  PIT503  \\\n0  251.9226  8.313446  312.7916  ...     1     1  9.100231     0.0  3.3485   \n1  251.9226  8.313446  312.7916  ...     1     1  9.100231     0.0  3.3485   \n2  251.9226  8.313446  312.7916  ...     1     1  9.100231     0.0  3.3485   \n3  251.9226  8.313446  312.7916  ...     1     1  9.100231     0.0  3.3485   \n4  251.9226  8.313446  312.7916  ...     1     1  9.100231     0.0  3.3485   \n\n     FIT601  P601  P602  P603  Normal/Attack  \n0  0.000256     1     1     1         Normal  \n1  0.000256     1     1     1         Normal  \n2  0.000256     1     1     1         Normal  \n3  0.000256     1     1     1         Normal  \n4  0.000256     1     1     1         Normal  \n\n[5 rows x 54 columns]",
      "text/html": "<div>\n<style scoped>\n    .dataframe tbody tr th:only-of-type {\n        vertical-align: middle;\n    }\n\n    .dataframe tbody tr th {\n        vertical-align: top;\n    }\n\n    .dataframe thead th {\n        text-align: right;\n    }\n</style>\n<table border=\"1\" class=\"dataframe\">\n  <thead>\n    <tr style=\"text-align: right;\">\n      <th></th>\n      <th>Unnamed: 0</th>\n      <th>Timestamp</th>\n      <th>FIT101</th>\n      <th>LIT101</th>\n      <th>MV101</th>\n      <th>P101</th>\n      <th>P102</th>\n      <th>AIT201</th>\n      <th>AIT202</th>\n      <th>AIT203</th>\n      <th>...</th>\n      <th>P501</th>\n      <th>P502</th>\n      <th>PIT501</th>\n      <th>PIT502</th>\n      <th>PIT503</th>\n      <th>FIT601</th>\n      <th>P601</th>\n      <th>P602</th>\n      <th>P603</th>\n      <th>Normal/Attack</th>\n    </tr>\n  </thead>\n  <tbody>\n    <tr>\n      <th>0</th>\n      <td>0</td>\n      <td>2015-12-22 16:30:00</td>\n      <td>0.0</td>\n      <td>124.3135</td>\n      <td>1</td>\n      <td>1</td>\n      <td>1</td>\n      <td>251.9226</td>\n      <td>8.313446</td>\n      <td>312.7916</td>\n      <td>...</td>\n      <td>1</td>\n      <td>1</td>\n      <td>9.100231</td>\n      <td>0.0</td>\n      <td>3.3485</td>\n      <td>0.000256</td>\n      <td>1</td>\n      <td>1</td>\n      <td>1</td>\n      <td>Normal</td>\n    </tr>\n    <tr>\n      <th>1</th>\n      <td>1</td>\n      <td>2015-12-22 16:30:01</td>\n      <td>0.0</td>\n      <td>124.3920</td>\n      <td>1</td>\n      <td>1</td>\n      <td>1</td>\n      <td>251.9226</td>\n      <td>8.313446</td>\n      <td>312.7916</td>\n      <td>...</td>\n      <td>1</td>\n      <td>1</td>\n      <td>9.100231</td>\n      <td>0.0</td>\n      <td>3.3485</td>\n      <td>0.000256</td>\n      <td>1</td>\n      <td>1</td>\n      <td>1</td>\n      <td>Normal</td>\n    </tr>\n    <tr>\n      <th>2</th>\n      <td>2</td>\n      <td>2015-12-22 16:30:02</td>\n      <td>0.0</td>\n      <td>124.4705</td>\n      <td>1</td>\n      <td>1</td>\n      <td>1</td>\n      <td>251.9226</td>\n      <td>8.313446</td>\n      <td>312.7916</td>\n      <td>...</td>\n      <td>1</td>\n      <td>1</td>\n      <td>9.100231</td>\n      <td>0.0</td>\n      <td>3.3485</td>\n      <td>0.000256</td>\n      <td>1</td>\n      <td>1</td>\n      <td>1</td>\n      <td>Normal</td>\n    </tr>\n    <tr>\n      <th>3</th>\n      <td>3</td>\n      <td>2015-12-22 16:30:03</td>\n      <td>0.0</td>\n      <td>124.6668</td>\n      <td>1</td>\n      <td>1</td>\n      <td>1</td>\n      <td>251.9226</td>\n      <td>8.313446</td>\n      <td>312.7916</td>\n      <td>...</td>\n      <td>1</td>\n      <td>1</td>\n      <td>9.100231</td>\n      <td>0.0</td>\n      <td>3.3485</td>\n      <td>0.000256</td>\n      <td>1</td>\n      <td>1</td>\n      <td>1</td>\n      <td>Normal</td>\n    </tr>\n    <tr>\n      <th>4</th>\n      <td>4</td>\n      <td>2015-12-22 16:30:04</td>\n      <td>0.0</td>\n      <td>124.5098</td>\n      <td>1</td>\n      <td>1</td>\n      <td>1</td>\n      <td>251.9226</td>\n      <td>8.313446</td>\n      <td>312.7916</td>\n      <td>...</td>\n      <td>1</td>\n      <td>1</td>\n      <td>9.100231</td>\n      <td>0.0</td>\n      <td>3.3485</td>\n      <td>0.000256</td>\n      <td>1</td>\n      <td>1</td>\n      <td>1</td>\n      <td>Normal</td>\n    </tr>\n  </tbody>\n</table>\n<p>5 rows × 54 columns</p>\n</div>"
     },
     "execution_count": 68,
     "metadata": {},
     "output_type": "execute_result"
    }
   ],
   "source": [
    "df.head()"
   ],
   "metadata": {
    "collapsed": false,
    "ExecuteTime": {
     "end_time": "2024-08-08T16:07:34.877114700Z",
     "start_time": "2024-08-08T16:07:34.843608500Z"
    }
   }
  },
  {
   "cell_type": "code",
   "execution_count": 74,
   "outputs": [
    {
     "data": {
      "text/plain": "Index(['Timestamp', 'FIT101', 'LIT101', 'MV101', 'P101', 'P102', 'AIT201',\n       'AIT202', 'AIT203', 'FIT201', 'MV201', 'P201', 'P202', 'P203', 'P204',\n       'P205', 'P206', 'DPIT301', 'FIT301', 'LIT301', 'MV301', 'MV302',\n       'MV303', 'MV304', 'P301', 'P302', 'AIT401', 'AIT402', 'FIT401',\n       'LIT401', 'P401', 'P402', 'P403', 'P404', 'UV401', 'AIT501', 'AIT502',\n       'AIT503', 'AIT504', 'FIT501', 'FIT502', 'FIT503', 'FIT504', 'P501',\n       'P502', 'PIT501', 'PIT502', 'PIT503', 'FIT601', 'P601', 'P602', 'P603',\n       'Normal/Attack'],\n      dtype='object')"
     },
     "execution_count": 74,
     "metadata": {},
     "output_type": "execute_result"
    }
   ],
   "source": [
    "df.columns"
   ],
   "metadata": {
    "collapsed": false,
    "ExecuteTime": {
     "end_time": "2024-08-08T16:08:32.125885200Z",
     "start_time": "2024-08-08T16:08:32.104375900Z"
    }
   }
  },
  {
   "cell_type": "code",
   "execution_count": 73,
   "outputs": [],
   "source": [
    "#df = df.drop('Unnamed: 0', axis=1)"
   ],
   "metadata": {
    "collapsed": false,
    "ExecuteTime": {
     "end_time": "2024-08-08T16:08:29.523302300Z",
     "start_time": "2024-08-08T16:08:29.468292500Z"
    }
   }
  },
  {
   "cell_type": "code",
   "execution_count": 63,
   "outputs": [
    {
     "data": {
      "text/plain": "dtype('<M8[ns]')"
     },
     "execution_count": 63,
     "metadata": {},
     "output_type": "execute_result"
    }
   ],
   "source": [
    "df['Timestamp'].dtype"
   ],
   "metadata": {
    "collapsed": false,
    "ExecuteTime": {
     "end_time": "2024-08-08T16:05:54.965074Z",
     "start_time": "2024-08-08T16:05:54.942070100Z"
    }
   }
  },
  {
   "cell_type": "code",
   "execution_count": 62,
   "outputs": [],
   "source": [
    "# Reduce precision to seconds\n",
    "df['Timestamp'] = df['Timestamp'].dt.floor('S')"
   ],
   "metadata": {
    "collapsed": false,
    "ExecuteTime": {
     "end_time": "2024-08-08T16:05:46.850929300Z",
     "start_time": "2024-08-08T16:05:46.811921300Z"
    }
   }
  },
  {
   "cell_type": "code",
   "execution_count": 72,
   "outputs": [
    {
     "name": "stdout",
     "output_type": "stream",
     "text": [
      "None\n"
     ]
    }
   ],
   "source": [
    "# Set the datetime column as the index\n",
    "#df.set_index('Timestamp', inplace=True)\n",
    "\n",
    "# check timestamp is the index\n",
    "index_name = df.index.name\n",
    "print(index_name)"
   ],
   "metadata": {
    "collapsed": false,
    "ExecuteTime": {
     "end_time": "2024-08-08T16:08:10.385149600Z",
     "start_time": "2024-08-08T16:08:10.362611900Z"
    }
   }
  },
  {
   "cell_type": "code",
   "execution_count": 71,
   "outputs": [],
   "source": [],
   "metadata": {
    "collapsed": false,
    "ExecuteTime": {
     "end_time": "2024-08-08T16:07:56.744278100Z",
     "start_time": "2024-08-08T16:07:56.739277300Z"
    }
   }
  },
  {
   "cell_type": "markdown",
   "source": [
    "## Drop backup devices/ columsn with no information"
   ],
   "metadata": {
    "collapsed": false
   }
  },
  {
   "cell_type": "markdown",
   "source": [
    " Find columns with all the same value"
   ],
   "metadata": {
    "collapsed": false
   }
  },
  {
   "cell_type": "code",
   "execution_count": 75,
   "outputs": [],
   "source": [
    "# Find columns where all values are the same\n",
    "columns_with_same_values = [col for col in df.columns if df[col].nunique() == 1]"
   ],
   "metadata": {
    "collapsed": false,
    "ExecuteTime": {
     "end_time": "2024-08-08T16:09:03.016287100Z",
     "start_time": "2024-08-08T16:09:02.760209300Z"
    }
   }
  },
  {
   "cell_type": "code",
   "execution_count": 76,
   "outputs": [],
   "source": [
    "#columns_with_same_values"
   ],
   "metadata": {
    "collapsed": false,
    "ExecuteTime": {
     "end_time": "2024-08-08T16:09:03.290143200Z",
     "start_time": "2024-08-08T16:09:03.268609600Z"
    }
   }
  },
  {
   "cell_type": "code",
   "execution_count": 77,
   "outputs": [],
   "source": [
    "df = df.drop(columns_with_same_values, axis=1)\n"
   ],
   "metadata": {
    "collapsed": false,
    "ExecuteTime": {
     "end_time": "2024-08-08T16:09:04.125446700Z",
     "start_time": "2024-08-08T16:09:04.041931800Z"
    }
   }
  },
  {
   "cell_type": "code",
   "execution_count": 78,
   "outputs": [
    {
     "data": {
      "text/plain": "(495000, 41)"
     },
     "execution_count": 78,
     "metadata": {},
     "output_type": "execute_result"
    }
   ],
   "source": [
    "df.shape"
   ],
   "metadata": {
    "collapsed": false,
    "ExecuteTime": {
     "end_time": "2024-08-08T16:09:05.901249400Z",
     "start_time": "2024-08-08T16:09:05.883246300Z"
    }
   }
  },
  {
   "cell_type": "code",
   "execution_count": 81,
   "outputs": [],
   "source": [
    "#df.index.dtype"
   ],
   "metadata": {
    "collapsed": false,
    "ExecuteTime": {
     "end_time": "2024-08-08T16:09:18.906327Z",
     "start_time": "2024-08-08T16:09:18.878818Z"
    }
   }
  },
  {
   "cell_type": "code",
   "execution_count": 82,
   "outputs": [],
   "source": [
    "# save useful data\n",
    "df.to_excel('D:\\GitHub\\MSc-Project-March\\SWaT DataSWaT 2015-12-23.xlsx', index=False)"
   ],
   "metadata": {
    "collapsed": false,
    "ExecuteTime": {
     "end_time": "2024-08-08T16:14:06.259639200Z",
     "start_time": "2024-08-08T16:09:26.008728900Z"
    }
   }
  },
  {
   "cell_type": "markdown",
   "source": [
    "## Get 10 second mean of values to reduce computing overhead"
   ],
   "metadata": {
    "collapsed": false
   }
  },
  {
   "cell_type": "code",
   "execution_count": 84,
   "outputs": [],
   "source": [
    "# set index to timestamp to allow mean\n",
    "df.set_index('Timestamp', inplace=True)\n",
    "# Resample the data in 10-second windows and calculate the mean\n",
    "resampled_df = df.resample('10S').mean()"
   ],
   "metadata": {
    "collapsed": false,
    "ExecuteTime": {
     "end_time": "2024-08-08T16:31:20.530882100Z",
     "start_time": "2024-08-08T16:31:20.353339300Z"
    }
   }
  },
  {
   "cell_type": "code",
   "execution_count": 85,
   "outputs": [],
   "source": [
    "resampled_df = resampled_df.reset_index()"
   ],
   "metadata": {
    "collapsed": false,
    "ExecuteTime": {
     "end_time": "2024-08-08T16:31:24.113518200Z",
     "start_time": "2024-08-08T16:31:24.080017200Z"
    }
   }
  },
  {
   "cell_type": "code",
   "execution_count": 86,
   "outputs": [
    {
     "data": {
      "text/plain": "Index(['Timestamp', 'FIT101', 'LIT101', 'MV101', 'P101', 'AIT201', 'AIT202',\n       'AIT203', 'FIT201', 'MV201', 'P203', 'P205', 'DPIT301', 'FIT301',\n       'LIT301', 'MV301', 'MV302', 'MV303', 'MV304', 'P301', 'P302', 'AIT401',\n       'AIT402', 'FIT401', 'LIT401', 'P402', 'UV401', 'AIT501', 'AIT502',\n       'AIT503', 'AIT504', 'FIT501', 'FIT502', 'FIT503', 'FIT504', 'P501',\n       'PIT501', 'PIT502', 'PIT503', 'FIT601', 'P602'],\n      dtype='object')"
     },
     "execution_count": 86,
     "metadata": {},
     "output_type": "execute_result"
    }
   ],
   "source": [
    "resampled_df.columns"
   ],
   "metadata": {
    "collapsed": false,
    "ExecuteTime": {
     "end_time": "2024-08-08T16:31:24.780989Z",
     "start_time": "2024-08-08T16:31:24.759977700Z"
    }
   }
  },
  {
   "cell_type": "code",
   "execution_count": 88,
   "outputs": [],
   "source": [
    "#resampled_df"
   ],
   "metadata": {
    "collapsed": false,
    "ExecuteTime": {
     "end_time": "2024-08-08T16:31:31.429716700Z",
     "start_time": "2024-08-08T16:31:31.390033100Z"
    }
   }
  },
  {
   "cell_type": "code",
   "execution_count": 89,
   "outputs": [
    {
     "data": {
      "text/plain": "            Timestamp  FIT101     LIT101  MV101  P101    AIT201    AIT202  \\\n0 2015-12-22 16:30:00     0.0  123.97593    1.0   1.0  251.9226  8.313061   \n1 2015-12-22 16:30:10     0.0  124.40769    1.0   1.0  251.9226  8.308960   \n2 2015-12-22 16:30:20     0.0  123.90527    1.0   1.0  251.9226  8.310979   \n3 2015-12-22 16:30:30     0.0  123.90134    1.0   1.0  251.9226  8.312612   \n4 2015-12-22 16:30:40     0.0  124.85909    1.0   1.0  251.9226  8.308191   \n\n      AIT203  FIT201  MV201  ...    FIT501    FIT502    FIT503  FIT504  P501  \\\n0  312.79160     0.0    1.0  ...  0.001538  0.001409  0.001664     0.0   1.0   \n1  312.90185     0.0    1.0  ...  0.001538  0.001409  0.001664     0.0   1.0   \n2  312.80442     0.0    1.0  ...  0.001538  0.001409  0.001664     0.0   1.0   \n3  312.91980     0.0    1.0  ...  0.001538  0.001409  0.001664     0.0   1.0   \n4  313.00950     0.0    1.0  ...  0.001538  0.001409  0.001664     0.0   1.0   \n\n     PIT501  PIT502  PIT503    FIT601  P602  \n0  9.100231     0.0  3.3485  0.000256   1.0  \n1  9.100231     0.0  3.3485  0.000256   1.0  \n2  9.100231     0.0  3.3485  0.000256   1.0  \n3  9.037747     0.0  3.3485  0.000256   1.0  \n4  9.068188     0.0  3.3485  0.000256   1.0  \n\n[5 rows x 41 columns]",
      "text/html": "<div>\n<style scoped>\n    .dataframe tbody tr th:only-of-type {\n        vertical-align: middle;\n    }\n\n    .dataframe tbody tr th {\n        vertical-align: top;\n    }\n\n    .dataframe thead th {\n        text-align: right;\n    }\n</style>\n<table border=\"1\" class=\"dataframe\">\n  <thead>\n    <tr style=\"text-align: right;\">\n      <th></th>\n      <th>Timestamp</th>\n      <th>FIT101</th>\n      <th>LIT101</th>\n      <th>MV101</th>\n      <th>P101</th>\n      <th>AIT201</th>\n      <th>AIT202</th>\n      <th>AIT203</th>\n      <th>FIT201</th>\n      <th>MV201</th>\n      <th>...</th>\n      <th>FIT501</th>\n      <th>FIT502</th>\n      <th>FIT503</th>\n      <th>FIT504</th>\n      <th>P501</th>\n      <th>PIT501</th>\n      <th>PIT502</th>\n      <th>PIT503</th>\n      <th>FIT601</th>\n      <th>P602</th>\n    </tr>\n  </thead>\n  <tbody>\n    <tr>\n      <th>0</th>\n      <td>2015-12-22 16:30:00</td>\n      <td>0.0</td>\n      <td>123.97593</td>\n      <td>1.0</td>\n      <td>1.0</td>\n      <td>251.9226</td>\n      <td>8.313061</td>\n      <td>312.79160</td>\n      <td>0.0</td>\n      <td>1.0</td>\n      <td>...</td>\n      <td>0.001538</td>\n      <td>0.001409</td>\n      <td>0.001664</td>\n      <td>0.0</td>\n      <td>1.0</td>\n      <td>9.100231</td>\n      <td>0.0</td>\n      <td>3.3485</td>\n      <td>0.000256</td>\n      <td>1.0</td>\n    </tr>\n    <tr>\n      <th>1</th>\n      <td>2015-12-22 16:30:10</td>\n      <td>0.0</td>\n      <td>124.40769</td>\n      <td>1.0</td>\n      <td>1.0</td>\n      <td>251.9226</td>\n      <td>8.308960</td>\n      <td>312.90185</td>\n      <td>0.0</td>\n      <td>1.0</td>\n      <td>...</td>\n      <td>0.001538</td>\n      <td>0.001409</td>\n      <td>0.001664</td>\n      <td>0.0</td>\n      <td>1.0</td>\n      <td>9.100231</td>\n      <td>0.0</td>\n      <td>3.3485</td>\n      <td>0.000256</td>\n      <td>1.0</td>\n    </tr>\n    <tr>\n      <th>2</th>\n      <td>2015-12-22 16:30:20</td>\n      <td>0.0</td>\n      <td>123.90527</td>\n      <td>1.0</td>\n      <td>1.0</td>\n      <td>251.9226</td>\n      <td>8.310979</td>\n      <td>312.80442</td>\n      <td>0.0</td>\n      <td>1.0</td>\n      <td>...</td>\n      <td>0.001538</td>\n      <td>0.001409</td>\n      <td>0.001664</td>\n      <td>0.0</td>\n      <td>1.0</td>\n      <td>9.100231</td>\n      <td>0.0</td>\n      <td>3.3485</td>\n      <td>0.000256</td>\n      <td>1.0</td>\n    </tr>\n    <tr>\n      <th>3</th>\n      <td>2015-12-22 16:30:30</td>\n      <td>0.0</td>\n      <td>123.90134</td>\n      <td>1.0</td>\n      <td>1.0</td>\n      <td>251.9226</td>\n      <td>8.312612</td>\n      <td>312.91980</td>\n      <td>0.0</td>\n      <td>1.0</td>\n      <td>...</td>\n      <td>0.001538</td>\n      <td>0.001409</td>\n      <td>0.001664</td>\n      <td>0.0</td>\n      <td>1.0</td>\n      <td>9.037747</td>\n      <td>0.0</td>\n      <td>3.3485</td>\n      <td>0.000256</td>\n      <td>1.0</td>\n    </tr>\n    <tr>\n      <th>4</th>\n      <td>2015-12-22 16:30:40</td>\n      <td>0.0</td>\n      <td>124.85909</td>\n      <td>1.0</td>\n      <td>1.0</td>\n      <td>251.9226</td>\n      <td>8.308191</td>\n      <td>313.00950</td>\n      <td>0.0</td>\n      <td>1.0</td>\n      <td>...</td>\n      <td>0.001538</td>\n      <td>0.001409</td>\n      <td>0.001664</td>\n      <td>0.0</td>\n      <td>1.0</td>\n      <td>9.068188</td>\n      <td>0.0</td>\n      <td>3.3485</td>\n      <td>0.000256</td>\n      <td>1.0</td>\n    </tr>\n  </tbody>\n</table>\n<p>5 rows × 41 columns</p>\n</div>"
     },
     "execution_count": 89,
     "metadata": {},
     "output_type": "execute_result"
    }
   ],
   "source": [
    "resampled_df.head()"
   ],
   "metadata": {
    "collapsed": false,
    "ExecuteTime": {
     "end_time": "2024-08-08T16:31:31.954462700Z",
     "start_time": "2024-08-08T16:31:31.869447900Z"
    }
   }
  },
  {
   "cell_type": "code",
   "execution_count": 90,
   "outputs": [],
   "source": [
    "df_index = resampled_df.index"
   ],
   "metadata": {
    "collapsed": false,
    "ExecuteTime": {
     "end_time": "2024-08-08T16:32:20.974399800Z",
     "start_time": "2024-08-08T16:32:20.960462800Z"
    }
   }
  },
  {
   "cell_type": "code",
   "execution_count": 92,
   "outputs": [
    {
     "data": {
      "text/plain": "RangeIndex(start=0, stop=49500, step=1)"
     },
     "execution_count": 92,
     "metadata": {},
     "output_type": "execute_result"
    }
   ],
   "source": [
    "df_index"
   ],
   "metadata": {
    "collapsed": false,
    "ExecuteTime": {
     "end_time": "2024-08-08T16:32:36.474251200Z",
     "start_time": "2024-08-08T16:32:36.449222500Z"
    }
   }
  },
  {
   "cell_type": "code",
   "execution_count": 32,
   "outputs": [],
   "source": [
    "# set Timestamp as index\n",
    "#resampled_df.set_index('Timestamp', inplace=True)\n"
   ],
   "metadata": {
    "collapsed": false,
    "ExecuteTime": {
     "end_time": "2024-08-08T15:28:28.438034400Z",
     "start_time": "2024-08-08T15:28:28.416283800Z"
    }
   }
  },
  {
   "cell_type": "code",
   "execution_count": 39,
   "outputs": [],
   "source": [
    "#resampled_df = resampled_df.drop(['index'], axis=1)"
   ],
   "metadata": {
    "collapsed": false,
    "ExecuteTime": {
     "end_time": "2024-08-08T15:33:42.356779Z",
     "start_time": "2024-08-08T15:33:42.329274100Z"
    }
   }
  },
  {
   "cell_type": "code",
   "execution_count": 39,
   "outputs": [],
   "source": [],
   "metadata": {
    "collapsed": false,
    "ExecuteTime": {
     "end_time": "2024-08-08T15:33:43.285312700Z",
     "start_time": "2024-08-08T15:33:43.255021100Z"
    }
   }
  },
  {
   "cell_type": "code",
   "execution_count": 93,
   "outputs": [
    {
     "data": {
      "text/plain": "Index(['Timestamp', 'FIT101', 'LIT101', 'MV101', 'P101', 'AIT201', 'AIT202',\n       'AIT203', 'FIT201', 'MV201', 'P203', 'P205', 'DPIT301', 'FIT301',\n       'LIT301', 'MV301', 'MV302', 'MV303', 'MV304', 'P301', 'P302', 'AIT401',\n       'AIT402', 'FIT401', 'LIT401', 'P402', 'UV401', 'AIT501', 'AIT502',\n       'AIT503', 'AIT504', 'FIT501', 'FIT502', 'FIT503', 'FIT504', 'P501',\n       'PIT501', 'PIT502', 'PIT503', 'FIT601', 'P602'],\n      dtype='object')"
     },
     "execution_count": 93,
     "metadata": {},
     "output_type": "execute_result"
    }
   ],
   "source": [
    "resampled_df.columns"
   ],
   "metadata": {
    "collapsed": false,
    "ExecuteTime": {
     "end_time": "2024-08-08T16:33:56.686437600Z",
     "start_time": "2024-08-08T16:33:56.644893Z"
    }
   }
  },
  {
   "cell_type": "code",
   "execution_count": 32,
   "outputs": [],
   "source": [
    "# Extract components\n",
    "#resampled_df['date'] = resampled_df['Timestamp'].dt.date        # Extracts date\n",
    "#resampled_df['time'] = resampled_df['Timestamp'].dt.time        # Extracts time"
   ],
   "metadata": {
    "collapsed": false,
    "ExecuteTime": {
     "end_time": "2024-02-03T23:56:58.800676Z",
     "start_time": "2024-02-03T23:56:58.720742100Z"
    }
   }
  },
  {
   "cell_type": "code",
   "execution_count": 97,
   "outputs": [],
   "source": [
    "filename = 'D:\\GitHub\\MSc-Project-March\\SWaT_DataSWaT_2015_12_22_10sec.xlsx'\n",
    "\n",
    "# save useful data\n",
    "resampled_df.to_excel(filename, index=False)"
   ],
   "metadata": {
    "collapsed": false,
    "ExecuteTime": {
     "end_time": "2024-08-08T16:37:50.455372Z",
     "start_time": "2024-08-08T16:37:14.847149100Z"
    }
   }
  },
  {
   "cell_type": "code",
   "execution_count": null,
   "outputs": [],
   "source": [],
   "metadata": {
    "collapsed": false
   }
  }
 ],
 "metadata": {
  "kernelspec": {
   "display_name": "Python 3",
   "language": "python",
   "name": "python3"
  },
  "language_info": {
   "codemirror_mode": {
    "name": "ipython",
    "version": 2
   },
   "file_extension": ".py",
   "mimetype": "text/x-python",
   "name": "python",
   "nbconvert_exporter": "python",
   "pygments_lexer": "ipython2",
   "version": "2.7.6"
  }
 },
 "nbformat": 4,
 "nbformat_minor": 0
}
