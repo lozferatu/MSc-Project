{
 "cells": [
  {
   "cell_type": "code",
   "execution_count": 1,
   "metadata": {
    "collapsed": true,
    "ExecuteTime": {
     "end_time": "2024-02-03T18:24:19.746551200Z",
     "start_time": "2024-02-03T18:24:19.266881600Z"
    }
   },
   "outputs": [],
   "source": [
    "import pandas as pd\n",
    "import datetime as dt\n",
    "\n"
   ]
  },
  {
   "cell_type": "markdown",
   "source": [
    "# import normal data\n",
    "df_normal = pd.read_excel('D:\\GitHub\\MSc-Project\\SWaT Data\\SWaT.A1 _ A2_Dec 2015\\Physical\\SWaT_Dataset_Normal_v1.xlsx',  engine='openpyxl')\n",
    "\n",
    "\n",
    "# import attack data\n",
    "df_attack = pd.read_excel('D:\\GitHub\\MSc-Project\\SWaT Data\\SWaT.A1 _ A2_Dec 2015\\Physical\\SWaT_Dataset_Attack_v0.xlsx', engine='openpyxl')"
   ],
   "metadata": {
    "collapsed": false
   }
  },
  {
   "cell_type": "markdown",
   "source": [
    "df_normal.head()"
   ],
   "metadata": {
    "collapsed": false
   }
  },
  {
   "cell_type": "markdown",
   "source": [
    "Length of original data:"
   ],
   "metadata": {
    "collapsed": false
   }
  },
  {
   "cell_type": "markdown",
   "source": [
    "print(f'Length of original data: {len(df_normal)}')"
   ],
   "metadata": {
    "collapsed": false
   }
  },
  {
   "cell_type": "markdown",
   "source": [
    "Format .txt file containing system element descriptions in to .csv"
   ],
   "metadata": {
    "collapsed": false
   }
  },
  {
   "cell_type": "markdown",
   "source": [
    "# List to hold the rows\n",
    "rows = []\n",
    "\n",
    "# Known types\n",
    "types = [\"Sensor\", \"Actuator\", \"(backup) Actuator\"]\n",
    "\n",
    "with open('D:\\GitHub\\MSc-Project\\SWaT Data\\Sensor_Dsec_Table.txt', 'r') as file:\n",
    "    for line in file:\n",
    "        print(line)\n",
    "        # Split by the first space to get No.\n",
    "        no_, rest_of_line = line.split(' ', 1)"
   ],
   "metadata": {
    "collapsed": false
   }
  },
  {
   "cell_type": "code",
   "execution_count": 9,
   "outputs": [
    {
     "name": "stdout",
     "output_type": "stream",
     "text": [
      "   No.            Name      Type  \\\n",
      "0    1         FIT-101    Sensor   \n",
      "1    2         LIT-101    Sensor   \n",
      "2    3          MV-101  Actuator   \n",
      "3    4           P-101  Actuator   \n",
      "4    5  P-102 (backup)  Actuator   \n",
      "5    6         AIT-201    Sensor   \n",
      "6    7         AIT-202    Sensor   \n",
      "7    8         AIT-203    Sensor   \n",
      "8    9         FIT-201    Sensor   \n",
      "9   10          MV-201  Actuator   \n",
      "10  11           P-201  Actuator   \n",
      "11  12  P-202 (backup)  Actuator   \n",
      "12  13           P-203  Actuator   \n",
      "13  14  P-204 (backup)  Actuator   \n",
      "14  15           P-205  Actuator   \n",
      "15  16  P-206 (backup)  Actuator   \n",
      "16  17        DPIT-301    Sensor   \n",
      "17  18         FIT-301    Sensor   \n",
      "18  19         LIT-301    Sensor   \n",
      "19  20          MV-301  Actuator   \n",
      "20  21          MV-302  Actuator   \n",
      "21  22          MV-303  Actuator   \n",
      "22  23          MV-304  Actuator   \n",
      "23  24  P-301 (backup)  Actuator   \n",
      "24  25           P-302  Actuator   \n",
      "25  26         AIT-401    Sensor   \n",
      "26  27         AIT-402    Sensor   \n",
      "27  28         FIT-401    Sensor   \n",
      "28  29         LIT-401  Actuator   \n",
      "29  30  P-401 (backup)  Actuator   \n",
      "30  31           P-402  Actuator   \n",
      "31  32           P-403  Actuator   \n",
      "32  33  P-404 (backup)  Actuator   \n",
      "33  34          UV-401  Actuator   \n",
      "34  35         AIT-501    Sensor   \n",
      "35  36         AIT-502    Sensor   \n",
      "36  37         AIT-503    Sensor   \n",
      "37  38         AIT-504    Sensor   \n",
      "38  39         FIT-501    Sensor   \n",
      "39  40         FIT-502    Sensor   \n",
      "40  41         FIT-503    Sensor   \n",
      "41  42         FIT-504    Sensor   \n",
      "42  43           P-501  Actuator   \n",
      "43  44  P-502 (backup)  Actuator   \n",
      "44  45         PIT-501    Sensor   \n",
      "45  46         PIT-502    Sensor   \n",
      "46  47         PIT-503    Sensor   \n",
      "47  48         FIT-601    Sensor   \n",
      "48  49           P-601  Actuator   \n",
      "49  50           P-602  Actuator   \n",
      "50  51           P-603  Actuator   \n",
      "\n",
      "                                          Description  \n",
      "0    Flow meter; Measures inflow into raw water tank.  \n",
      "1            Level Transmitter; Raw water tank level.  \n",
      "2   Motorized valve; Controls water flow to the ra...  \n",
      "3   Pump; Pumps water from raw water tank to secon...  \n",
      "4   Pump; Pumps water from raw water tank to secon...  \n",
      "5         Conductivity analyser; Measures NaCl level.  \n",
      "6                    pH analyser; Measures HCl level.  \n",
      "7                 ORP analyser; Measures NaOCl level.  \n",
      "8             Flow Transmitter; Control dosing pumps.  \n",
      "9   Motorized valve; Controls water flow to the UF...  \n",
      "10                     Dosing pump; NaCl dosing pump.  \n",
      "11                     Dosing pump; NaCl dosing pump.  \n",
      "12                      Dosing pump; HCl dosing pump.  \n",
      "13                      Dosing pump; HCl dosing pump.  \n",
      "14                    Dosing pump; NaOCl dosing pump.  \n",
      "15                    Dosing pump; NaOCl dosing pump.  \n",
      "16  Differential pressure indicating transmitter; ...  \n",
      "17  Flow meter; Measures the flow of water in the ...  \n",
      "18       Level Transmitter; UF feed water tank level.  \n",
      "19     Motorized Valve; Controls UF-Backwash process.  \n",
      "20  Motorized Valve; Controls water from UF proces...  \n",
      "21       Motorized Valve; Controls UF-Backwash drain.  \n",
      "22                Motorized Valve; Controls UF drain.  \n",
      "23  UF feed Pump; Pumps water from UF feed water t...  \n",
      "24  UF feed Pump; Pumps water from UF feed water t...  \n",
      "25                        RO hardness meter of water.  \n",
      "26  ORP meter; Controls the NaHSO3dosing(P203), Na...  \n",
      "27  Flow Transmitter ; Controls the UV dechlorinator.  \n",
      "28       Level Transmitter; RO feed water tank level.  \n",
      "29  Pump; Pumps water from RO feed tank to UV dech...  \n",
      "30  Pump; Pumps water from RO feed tank to UV dech...  \n",
      "31                           Sodium bi-sulphate pump.  \n",
      "32                           Sodium bi-sulphate pump.  \n",
      "33        Dechlorinator; Removes chlorine from water.  \n",
      "34                RO pH analyser; Measures HCl level.  \n",
      "35        RO feed ORP analyser; Measures NaOCl level.  \n",
      "36  RO feed conductivity analyser; Measures NaCl l...  \n",
      "37  RO permeate conductivity analyser; Measures Na...  \n",
      "38          Flow meter; RO membrane inlet flow meter.  \n",
      "39                Flow meter; RO Permeate flow meter.  \n",
      "40                  Flow meter; RO Reject flow meter.  \n",
      "41          Flow meter; RO re-circulation flow meter.  \n",
      "42             Pump; Pumps dechlorinated water to RO.  \n",
      "43             Pump; Pumps dechlorinated water to RO.  \n",
      "44                  Pressure meter; RO feed pressure.  \n",
      "45              Pressure meter; RO permeate pressure.  \n",
      "46                 Pressure meter;RO reject pressure.  \n",
      "47                Flow meter; UF Backwash flow meter.  \n",
      "48  Pump; Pumps water from RO permeate tank to raw...  \n",
      "49  Pump; Pumps water from UF back wash tank to UF...  \n",
      "50                       Not implemented in SWaT yet.  \n"
     ]
    }
   ],
   "source": [
    "# List to hold the rows\n",
    "rows = []\n",
    "\n",
    "# Known types\n",
    "types = [\"Sensor\", \"Actuator\", \"(backup) Actuator\", \"Type\"]\n",
    "\n",
    "with open('D:\\GitHub\\MSc-Project\\SWaT Data\\Sensor_Dsec_Table.txt', 'r') as file:\n",
    "        # Skip the first line\n",
    "    next(file)\n",
    "    for line in file:\n",
    "        # print(line)\n",
    "        # Split by the first space to get No.\n",
    "        no_, rest_of_line = line.split(' ', 1)\n",
    "\n",
    "        # Determine which type exists in the rest_of_line\n",
    "        for t in types:\n",
    "            # print(t)\n",
    "            if t in rest_of_line:\n",
    "                type_ = t\n",
    "                break\n",
    "        # print(line)\n",
    "        # Splitting by type to get name and description\n",
    "        name, description = rest_of_line.split(type_, 1)\n",
    "\n",
    "        # Cleaning up and storing the values\n",
    "        rows.append({\n",
    "            'No.': no_,\n",
    "            'Name': name.strip(),\n",
    "            'Type': type_,\n",
    "            'Description': description.strip()\n",
    "        })\n",
    "\n",
    "# Convert rows into DataFrame\n",
    "df = pd.DataFrame(rows)\n",
    "print(df)\n"
   ],
   "metadata": {
    "collapsed": false,
    "ExecuteTime": {
     "end_time": "2024-02-03T18:40:12.413532100Z",
     "start_time": "2024-02-03T18:40:12.365335900Z"
    }
   }
  },
  {
   "cell_type": "code",
   "execution_count": 24,
   "outputs": [],
   "source": [
    "filename = 'D:\\GitHub\\MSc-Project\\SWaT DataSWaT_Component_Desc.csv'\n",
    "\n",
    "df.to_csv(filename, index = False)"
   ],
   "metadata": {
    "collapsed": false,
    "ExecuteTime": {
     "end_time": "2023-10-09T21:00:06.724370200Z",
     "start_time": "2023-10-09T21:00:06.708745300Z"
    }
   }
  },
  {
   "cell_type": "code",
   "execution_count": 25,
   "outputs": [
    {
     "name": "stdout",
     "output_type": "stream",
     "text": [
      "[0.0, 0.0, 0.0, 3.4527994160963493e-41, 8.96831017167883e-44, 0.0, 0.0, 4.0283880740415446e-36]\n"
     ]
    }
   ],
   "source": [
    "import struct\n",
    "\n",
    "data_strs = [\n",
    "    \"0x00 0x00 0x00 0x00\",\n",
    "    \"0x00 0x00 0x00 0x00\",\n",
    "    \"0x00 0x00 0x00 0x00\",\n",
    "    \"0x00 0x00 0x60 0x40\",\n",
    "    \"0x00 0x00 0x00 0x40\",\n",
    "    \"0x00 0x00 0x00 0x00\",\n",
    "    \"0x00 0x00 0x00 0x00\",\n",
    "    \"0x04 0xab 0x59 0x43\"\n",
    "]\n",
    "\n",
    "decoded_values = []\n",
    "\n",
    "for data_str in data_strs:\n",
    "    bytes_data = bytes.fromhex(data_str.replace(\"0x\", \"\").replace(\" \", \"\"))\n",
    "    value = struct.unpack('>f', bytes_data)[0]\n",
    "    decoded_values.append(value)\n",
    "\n",
    "print(decoded_values)\n"
   ],
   "metadata": {
    "collapsed": false,
    "ExecuteTime": {
     "end_time": "2023-10-11T02:06:37.142430200Z",
     "start_time": "2023-10-11T02:06:37.126810100Z"
    }
   }
  },
  {
   "cell_type": "code",
   "execution_count": 26,
   "outputs": [
    {
     "name": "stdout",
     "output_type": "stream",
     "text": [
      "[134056796160.0, 0.0, 0.0, 5.390514932564706e-41, 2.5924021590009116e-41, 8.977698871389806e-41, 4.385924063490245e-41, '36', 134056796160.0]\n",
      "[32073350.0, 0.0, 0.0, 5.390514932564706e-41, 2.5924021590009116e-41, 8.977698871389806e-41, 4.385924063490245e-41, '36', 32073350.0]\n"
     ]
    }
   ],
   "source": [
    "import struct\n",
    "\n",
    "data_lines = [\n",
    "    \"0x51 0xf9 0xb3 0x43; 0x00 0x00 0x00 0x00; 0x00 0x00 0x00 0x00; 0x00 0x00 0x96 0x44; 0x00 0x00 0x48 0x44; 0x00 0x00 0xfa 0x43; 0x00 0x00 0x7a 0x43; 36; 0x51 0xf9 0xb3 0x43\",\n",
    "    # ... add the other lines here\n",
    "    \"0x4b 0xf4 0xb3 0x43; 0x00 0x00 0x00 0x00; 0x00 0x00 0x00 0x00; 0x00 0x00 0x96 0x44; 0x00 0x00 0x48 0x44; 0x00 0x00 0xfa 0x43; 0x00 0x00 0x7a 0x43; 36; 0x4b 0xf4 0xb3 0x43\"\n",
    "]\n",
    "\n",
    "for line in data_lines:\n",
    "    segments = line.split(\";\")\n",
    "    decoded_segments = []\n",
    "    for segment in segments:\n",
    "        segment = segment.strip()\n",
    "        if segment.startswith(\"0x\"):  # likely a byte sequence\n",
    "            bytes_data = bytes.fromhex(segment.replace(\"0x\", \"\").replace(\" \", \"\"))\n",
    "            value = struct.unpack('>f', bytes_data)[0]\n",
    "            decoded_segments.append(value)\n",
    "        else:  # possibly just a plain number or something else\n",
    "            decoded_segments.append(segment)\n",
    "    print(decoded_segments)\n"
   ],
   "metadata": {
    "collapsed": false,
    "ExecuteTime": {
     "end_time": "2023-10-11T02:45:10.447446700Z",
     "start_time": "2023-10-11T02:45:10.431803300Z"
    }
   }
  },
  {
   "cell_type": "markdown",
   "source": [
    "Correlation Matrix for Physical values"
   ],
   "metadata": {
    "collapsed": false
   }
  },
  {
   "cell_type": "code",
   "execution_count": 25,
   "outputs": [
    {
     "name": "stderr",
     "output_type": "stream",
     "text": [
      "C:\\Users\\laure\\anaconda3\\lib\\site-packages\\openpyxl\\worksheet\\_read_only.py:79: UserWarning: Unknown extension is not supported and will be removed\n",
      "  for idx, row in parser.parse():\n"
     ]
    }
   ],
   "source": [
    "# Load data from CSV\n",
    "df = pd.read_excel('D:\\GitHub\\MSc-Project\\SWaT Data\\SWaT.A1 _ A2_Dec 2015\\Physical\\SWaT_Dataset_Normal_v1.xlsx', engine='openpyxl')\n"
   ],
   "metadata": {
    "collapsed": false,
    "ExecuteTime": {
     "end_time": "2024-02-03T23:53:35.211500400Z",
     "start_time": "2024-02-03T23:47:45.102351Z"
    }
   }
  },
  {
   "cell_type": "code",
   "execution_count": 26,
   "outputs": [
    {
     "data": {
      "text/plain": "                Timestamp  FIT101    LIT101  MV101  P101  P102    AIT201  \\\n0   22/12/2015 4:30:00 PM     0.0  124.3135      1     1     1  251.9226   \n1   22/12/2015 4:30:01 PM     0.0  124.3920      1     1     1  251.9226   \n2   22/12/2015 4:30:02 PM     0.0  124.4705      1     1     1  251.9226   \n3   22/12/2015 4:30:03 PM     0.0  124.6668      1     1     1  251.9226   \n4   22/12/2015 4:30:04 PM     0.0  124.5098      1     1     1  251.9226   \n\n     AIT202    AIT203  FIT201  ...  P501  P502    PIT501  PIT502  PIT503  \\\n0  8.313446  312.7916     0.0  ...     1     1  9.100231     0.0  3.3485   \n1  8.313446  312.7916     0.0  ...     1     1  9.100231     0.0  3.3485   \n2  8.313446  312.7916     0.0  ...     1     1  9.100231     0.0  3.3485   \n3  8.313446  312.7916     0.0  ...     1     1  9.100231     0.0  3.3485   \n4  8.313446  312.7916     0.0  ...     1     1  9.100231     0.0  3.3485   \n\n     FIT601  P601  P602  P603  Normal/Attack  \n0  0.000256     1     1     1         Normal  \n1  0.000256     1     1     1         Normal  \n2  0.000256     1     1     1         Normal  \n3  0.000256     1     1     1         Normal  \n4  0.000256     1     1     1         Normal  \n\n[5 rows x 53 columns]",
      "text/html": "<div>\n<style scoped>\n    .dataframe tbody tr th:only-of-type {\n        vertical-align: middle;\n    }\n\n    .dataframe tbody tr th {\n        vertical-align: top;\n    }\n\n    .dataframe thead th {\n        text-align: right;\n    }\n</style>\n<table border=\"1\" class=\"dataframe\">\n  <thead>\n    <tr style=\"text-align: right;\">\n      <th></th>\n      <th>Timestamp</th>\n      <th>FIT101</th>\n      <th>LIT101</th>\n      <th>MV101</th>\n      <th>P101</th>\n      <th>P102</th>\n      <th>AIT201</th>\n      <th>AIT202</th>\n      <th>AIT203</th>\n      <th>FIT201</th>\n      <th>...</th>\n      <th>P501</th>\n      <th>P502</th>\n      <th>PIT501</th>\n      <th>PIT502</th>\n      <th>PIT503</th>\n      <th>FIT601</th>\n      <th>P601</th>\n      <th>P602</th>\n      <th>P603</th>\n      <th>Normal/Attack</th>\n    </tr>\n  </thead>\n  <tbody>\n    <tr>\n      <th>0</th>\n      <td>22/12/2015 4:30:00 PM</td>\n      <td>0.0</td>\n      <td>124.3135</td>\n      <td>1</td>\n      <td>1</td>\n      <td>1</td>\n      <td>251.9226</td>\n      <td>8.313446</td>\n      <td>312.7916</td>\n      <td>0.0</td>\n      <td>...</td>\n      <td>1</td>\n      <td>1</td>\n      <td>9.100231</td>\n      <td>0.0</td>\n      <td>3.3485</td>\n      <td>0.000256</td>\n      <td>1</td>\n      <td>1</td>\n      <td>1</td>\n      <td>Normal</td>\n    </tr>\n    <tr>\n      <th>1</th>\n      <td>22/12/2015 4:30:01 PM</td>\n      <td>0.0</td>\n      <td>124.3920</td>\n      <td>1</td>\n      <td>1</td>\n      <td>1</td>\n      <td>251.9226</td>\n      <td>8.313446</td>\n      <td>312.7916</td>\n      <td>0.0</td>\n      <td>...</td>\n      <td>1</td>\n      <td>1</td>\n      <td>9.100231</td>\n      <td>0.0</td>\n      <td>3.3485</td>\n      <td>0.000256</td>\n      <td>1</td>\n      <td>1</td>\n      <td>1</td>\n      <td>Normal</td>\n    </tr>\n    <tr>\n      <th>2</th>\n      <td>22/12/2015 4:30:02 PM</td>\n      <td>0.0</td>\n      <td>124.4705</td>\n      <td>1</td>\n      <td>1</td>\n      <td>1</td>\n      <td>251.9226</td>\n      <td>8.313446</td>\n      <td>312.7916</td>\n      <td>0.0</td>\n      <td>...</td>\n      <td>1</td>\n      <td>1</td>\n      <td>9.100231</td>\n      <td>0.0</td>\n      <td>3.3485</td>\n      <td>0.000256</td>\n      <td>1</td>\n      <td>1</td>\n      <td>1</td>\n      <td>Normal</td>\n    </tr>\n    <tr>\n      <th>3</th>\n      <td>22/12/2015 4:30:03 PM</td>\n      <td>0.0</td>\n      <td>124.6668</td>\n      <td>1</td>\n      <td>1</td>\n      <td>1</td>\n      <td>251.9226</td>\n      <td>8.313446</td>\n      <td>312.7916</td>\n      <td>0.0</td>\n      <td>...</td>\n      <td>1</td>\n      <td>1</td>\n      <td>9.100231</td>\n      <td>0.0</td>\n      <td>3.3485</td>\n      <td>0.000256</td>\n      <td>1</td>\n      <td>1</td>\n      <td>1</td>\n      <td>Normal</td>\n    </tr>\n    <tr>\n      <th>4</th>\n      <td>22/12/2015 4:30:04 PM</td>\n      <td>0.0</td>\n      <td>124.5098</td>\n      <td>1</td>\n      <td>1</td>\n      <td>1</td>\n      <td>251.9226</td>\n      <td>8.313446</td>\n      <td>312.7916</td>\n      <td>0.0</td>\n      <td>...</td>\n      <td>1</td>\n      <td>1</td>\n      <td>9.100231</td>\n      <td>0.0</td>\n      <td>3.3485</td>\n      <td>0.000256</td>\n      <td>1</td>\n      <td>1</td>\n      <td>1</td>\n      <td>Normal</td>\n    </tr>\n  </tbody>\n</table>\n<p>5 rows × 53 columns</p>\n</div>"
     },
     "execution_count": 26,
     "metadata": {},
     "output_type": "execute_result"
    }
   ],
   "source": [
    "df.head()"
   ],
   "metadata": {
    "collapsed": false,
    "ExecuteTime": {
     "end_time": "2024-02-03T23:54:13.680936600Z",
     "start_time": "2024-02-03T23:54:13.660951700Z"
    }
   }
  },
  {
   "cell_type": "markdown",
   "source": [
    "Drop backup devices"
   ],
   "metadata": {
    "collapsed": false
   }
  },
  {
   "cell_type": "code",
   "execution_count": 18,
   "outputs": [
    {
     "ename": "KeyError",
     "evalue": "\"['P101', 'P102', 'P201', 'P202', 'P204', 'P206', 'P401', 'P403', 'P404', 'P502', 'P601', 'P603'] not found in axis\"",
     "output_type": "error",
     "traceback": [
      "\u001B[1;31m---------------------------------------------------------------------------\u001B[0m",
      "\u001B[1;31mKeyError\u001B[0m                                  Traceback (most recent call last)",
      "\u001B[1;32m~\\AppData\\Local\\Temp\\ipykernel_24200\\2720648820.py\u001B[0m in \u001B[0;36m<module>\u001B[1;34m\u001B[0m\n\u001B[1;32m----> 1\u001B[1;33m \u001B[0mdf\u001B[0m \u001B[1;33m=\u001B[0m \u001B[0mdf\u001B[0m\u001B[1;33m.\u001B[0m\u001B[0mdrop\u001B[0m\u001B[1;33m(\u001B[0m\u001B[1;33m[\u001B[0m\u001B[1;34m'P101'\u001B[0m\u001B[1;33m,\u001B[0m \u001B[1;34m'P102'\u001B[0m\u001B[1;33m,\u001B[0m \u001B[1;34m'P201'\u001B[0m\u001B[1;33m,\u001B[0m \u001B[1;34m'P202'\u001B[0m\u001B[1;33m,\u001B[0m \u001B[1;34m'P204'\u001B[0m\u001B[1;33m,\u001B[0m \u001B[1;34m'P206'\u001B[0m\u001B[1;33m,\u001B[0m \u001B[1;34m'P401'\u001B[0m\u001B[1;33m,\u001B[0m \u001B[1;34m'P403'\u001B[0m\u001B[1;33m,\u001B[0m \u001B[1;34m'P404'\u001B[0m\u001B[1;33m,\u001B[0m \u001B[1;34m'P502'\u001B[0m\u001B[1;33m,\u001B[0m \u001B[1;34m'P601'\u001B[0m\u001B[1;33m,\u001B[0m \u001B[1;34m'P603'\u001B[0m\u001B[1;33m]\u001B[0m\u001B[1;33m,\u001B[0m \u001B[0maxis\u001B[0m\u001B[1;33m=\u001B[0m\u001B[1;36m1\u001B[0m\u001B[1;33m)\u001B[0m\u001B[1;33m\u001B[0m\u001B[1;33m\u001B[0m\u001B[0m\n\u001B[0m\u001B[0;32m      2\u001B[0m \u001B[1;33m\u001B[0m\u001B[0m\n",
      "\u001B[1;32m~\\anaconda3\\lib\\site-packages\\pandas\\util\\_decorators.py\u001B[0m in \u001B[0;36mwrapper\u001B[1;34m(*args, **kwargs)\u001B[0m\n\u001B[0;32m    309\u001B[0m                     \u001B[0mstacklevel\u001B[0m\u001B[1;33m=\u001B[0m\u001B[0mstacklevel\u001B[0m\u001B[1;33m,\u001B[0m\u001B[1;33m\u001B[0m\u001B[1;33m\u001B[0m\u001B[0m\n\u001B[0;32m    310\u001B[0m                 )\n\u001B[1;32m--> 311\u001B[1;33m             \u001B[1;32mreturn\u001B[0m \u001B[0mfunc\u001B[0m\u001B[1;33m(\u001B[0m\u001B[1;33m*\u001B[0m\u001B[0margs\u001B[0m\u001B[1;33m,\u001B[0m \u001B[1;33m**\u001B[0m\u001B[0mkwargs\u001B[0m\u001B[1;33m)\u001B[0m\u001B[1;33m\u001B[0m\u001B[1;33m\u001B[0m\u001B[0m\n\u001B[0m\u001B[0;32m    312\u001B[0m \u001B[1;33m\u001B[0m\u001B[0m\n\u001B[0;32m    313\u001B[0m         \u001B[1;32mreturn\u001B[0m \u001B[0mwrapper\u001B[0m\u001B[1;33m\u001B[0m\u001B[1;33m\u001B[0m\u001B[0m\n",
      "\u001B[1;32m~\\anaconda3\\lib\\site-packages\\pandas\\core\\frame.py\u001B[0m in \u001B[0;36mdrop\u001B[1;34m(self, labels, axis, index, columns, level, inplace, errors)\u001B[0m\n\u001B[0;32m   4955\u001B[0m                 \u001B[0mweight\u001B[0m  \u001B[1;36m1.0\u001B[0m     \u001B[1;36m0.8\u001B[0m\u001B[1;33m\u001B[0m\u001B[1;33m\u001B[0m\u001B[0m\n\u001B[0;32m   4956\u001B[0m         \"\"\"\n\u001B[1;32m-> 4957\u001B[1;33m         return super().drop(\n\u001B[0m\u001B[0;32m   4958\u001B[0m             \u001B[0mlabels\u001B[0m\u001B[1;33m=\u001B[0m\u001B[0mlabels\u001B[0m\u001B[1;33m,\u001B[0m\u001B[1;33m\u001B[0m\u001B[1;33m\u001B[0m\u001B[0m\n\u001B[0;32m   4959\u001B[0m             \u001B[0maxis\u001B[0m\u001B[1;33m=\u001B[0m\u001B[0maxis\u001B[0m\u001B[1;33m,\u001B[0m\u001B[1;33m\u001B[0m\u001B[1;33m\u001B[0m\u001B[0m\n",
      "\u001B[1;32m~\\anaconda3\\lib\\site-packages\\pandas\\core\\generic.py\u001B[0m in \u001B[0;36mdrop\u001B[1;34m(self, labels, axis, index, columns, level, inplace, errors)\u001B[0m\n\u001B[0;32m   4265\u001B[0m         \u001B[1;32mfor\u001B[0m \u001B[0maxis\u001B[0m\u001B[1;33m,\u001B[0m \u001B[0mlabels\u001B[0m \u001B[1;32min\u001B[0m \u001B[0maxes\u001B[0m\u001B[1;33m.\u001B[0m\u001B[0mitems\u001B[0m\u001B[1;33m(\u001B[0m\u001B[1;33m)\u001B[0m\u001B[1;33m:\u001B[0m\u001B[1;33m\u001B[0m\u001B[1;33m\u001B[0m\u001B[0m\n\u001B[0;32m   4266\u001B[0m             \u001B[1;32mif\u001B[0m \u001B[0mlabels\u001B[0m \u001B[1;32mis\u001B[0m \u001B[1;32mnot\u001B[0m \u001B[1;32mNone\u001B[0m\u001B[1;33m:\u001B[0m\u001B[1;33m\u001B[0m\u001B[1;33m\u001B[0m\u001B[0m\n\u001B[1;32m-> 4267\u001B[1;33m                 \u001B[0mobj\u001B[0m \u001B[1;33m=\u001B[0m \u001B[0mobj\u001B[0m\u001B[1;33m.\u001B[0m\u001B[0m_drop_axis\u001B[0m\u001B[1;33m(\u001B[0m\u001B[0mlabels\u001B[0m\u001B[1;33m,\u001B[0m \u001B[0maxis\u001B[0m\u001B[1;33m,\u001B[0m \u001B[0mlevel\u001B[0m\u001B[1;33m=\u001B[0m\u001B[0mlevel\u001B[0m\u001B[1;33m,\u001B[0m \u001B[0merrors\u001B[0m\u001B[1;33m=\u001B[0m\u001B[0merrors\u001B[0m\u001B[1;33m)\u001B[0m\u001B[1;33m\u001B[0m\u001B[1;33m\u001B[0m\u001B[0m\n\u001B[0m\u001B[0;32m   4268\u001B[0m \u001B[1;33m\u001B[0m\u001B[0m\n\u001B[0;32m   4269\u001B[0m         \u001B[1;32mif\u001B[0m \u001B[0minplace\u001B[0m\u001B[1;33m:\u001B[0m\u001B[1;33m\u001B[0m\u001B[1;33m\u001B[0m\u001B[0m\n",
      "\u001B[1;32m~\\anaconda3\\lib\\site-packages\\pandas\\core\\generic.py\u001B[0m in \u001B[0;36m_drop_axis\u001B[1;34m(self, labels, axis, level, errors, consolidate, only_slice)\u001B[0m\n\u001B[0;32m   4309\u001B[0m                 \u001B[0mnew_axis\u001B[0m \u001B[1;33m=\u001B[0m \u001B[0maxis\u001B[0m\u001B[1;33m.\u001B[0m\u001B[0mdrop\u001B[0m\u001B[1;33m(\u001B[0m\u001B[0mlabels\u001B[0m\u001B[1;33m,\u001B[0m \u001B[0mlevel\u001B[0m\u001B[1;33m=\u001B[0m\u001B[0mlevel\u001B[0m\u001B[1;33m,\u001B[0m \u001B[0merrors\u001B[0m\u001B[1;33m=\u001B[0m\u001B[0merrors\u001B[0m\u001B[1;33m)\u001B[0m\u001B[1;33m\u001B[0m\u001B[1;33m\u001B[0m\u001B[0m\n\u001B[0;32m   4310\u001B[0m             \u001B[1;32melse\u001B[0m\u001B[1;33m:\u001B[0m\u001B[1;33m\u001B[0m\u001B[1;33m\u001B[0m\u001B[0m\n\u001B[1;32m-> 4311\u001B[1;33m                 \u001B[0mnew_axis\u001B[0m \u001B[1;33m=\u001B[0m \u001B[0maxis\u001B[0m\u001B[1;33m.\u001B[0m\u001B[0mdrop\u001B[0m\u001B[1;33m(\u001B[0m\u001B[0mlabels\u001B[0m\u001B[1;33m,\u001B[0m \u001B[0merrors\u001B[0m\u001B[1;33m=\u001B[0m\u001B[0merrors\u001B[0m\u001B[1;33m)\u001B[0m\u001B[1;33m\u001B[0m\u001B[1;33m\u001B[0m\u001B[0m\n\u001B[0m\u001B[0;32m   4312\u001B[0m             \u001B[0mindexer\u001B[0m \u001B[1;33m=\u001B[0m \u001B[0maxis\u001B[0m\u001B[1;33m.\u001B[0m\u001B[0mget_indexer\u001B[0m\u001B[1;33m(\u001B[0m\u001B[0mnew_axis\u001B[0m\u001B[1;33m)\u001B[0m\u001B[1;33m\u001B[0m\u001B[1;33m\u001B[0m\u001B[0m\n\u001B[0;32m   4313\u001B[0m \u001B[1;33m\u001B[0m\u001B[0m\n",
      "\u001B[1;32m~\\anaconda3\\lib\\site-packages\\pandas\\core\\indexes\\base.py\u001B[0m in \u001B[0;36mdrop\u001B[1;34m(self, labels, errors)\u001B[0m\n\u001B[0;32m   6659\u001B[0m         \u001B[1;32mif\u001B[0m \u001B[0mmask\u001B[0m\u001B[1;33m.\u001B[0m\u001B[0many\u001B[0m\u001B[1;33m(\u001B[0m\u001B[1;33m)\u001B[0m\u001B[1;33m:\u001B[0m\u001B[1;33m\u001B[0m\u001B[1;33m\u001B[0m\u001B[0m\n\u001B[0;32m   6660\u001B[0m             \u001B[1;32mif\u001B[0m \u001B[0merrors\u001B[0m \u001B[1;33m!=\u001B[0m \u001B[1;34m\"ignore\"\u001B[0m\u001B[1;33m:\u001B[0m\u001B[1;33m\u001B[0m\u001B[1;33m\u001B[0m\u001B[0m\n\u001B[1;32m-> 6661\u001B[1;33m                 \u001B[1;32mraise\u001B[0m \u001B[0mKeyError\u001B[0m\u001B[1;33m(\u001B[0m\u001B[1;34mf\"{list(labels[mask])} not found in axis\"\u001B[0m\u001B[1;33m)\u001B[0m\u001B[1;33m\u001B[0m\u001B[1;33m\u001B[0m\u001B[0m\n\u001B[0m\u001B[0;32m   6662\u001B[0m             \u001B[0mindexer\u001B[0m \u001B[1;33m=\u001B[0m \u001B[0mindexer\u001B[0m\u001B[1;33m[\u001B[0m\u001B[1;33m~\u001B[0m\u001B[0mmask\u001B[0m\u001B[1;33m]\u001B[0m\u001B[1;33m\u001B[0m\u001B[1;33m\u001B[0m\u001B[0m\n\u001B[0;32m   6663\u001B[0m         \u001B[1;32mreturn\u001B[0m \u001B[0mself\u001B[0m\u001B[1;33m.\u001B[0m\u001B[0mdelete\u001B[0m\u001B[1;33m(\u001B[0m\u001B[0mindexer\u001B[0m\u001B[1;33m)\u001B[0m\u001B[1;33m\u001B[0m\u001B[1;33m\u001B[0m\u001B[0m\n",
      "\u001B[1;31mKeyError\u001B[0m: \"['P101', 'P102', 'P201', 'P202', 'P204', 'P206', 'P401', 'P403', 'P404', 'P502', 'P601', 'P603'] not found in axis\""
     ]
    }
   ],
   "source": [
    "#df = df.drop(['P101', 'P102', 'P201', 'P202', 'P204', 'P206', 'P401', 'P403', 'P404', 'P502', 'P601', 'P603'], axis=1)\n"
   ],
   "metadata": {
    "collapsed": false,
    "ExecuteTime": {
     "end_time": "2024-02-03T19:36:53.174062200Z",
     "start_time": "2024-02-03T19:36:53.068602Z"
    }
   }
  },
  {
   "cell_type": "code",
   "execution_count": 11,
   "outputs": [
    {
     "ename": "KeyError",
     "evalue": "\"['P102'] not found in axis\"",
     "output_type": "error",
     "traceback": [
      "\u001B[1;31m---------------------------------------------------------------------------\u001B[0m",
      "\u001B[1;31mKeyError\u001B[0m                                  Traceback (most recent call last)",
      "\u001B[1;32m~\\AppData\\Local\\Temp\\ipykernel_24200\\3992358257.py\u001B[0m in \u001B[0;36m<module>\u001B[1;34m\u001B[0m\n\u001B[1;32m----> 1\u001B[1;33m \u001B[0mdf\u001B[0m \u001B[1;33m=\u001B[0m \u001B[0mdf\u001B[0m\u001B[1;33m.\u001B[0m\u001B[0mdrop\u001B[0m\u001B[1;33m(\u001B[0m\u001B[1;33m[\u001B[0m\u001B[1;34m'P102'\u001B[0m\u001B[1;33m]\u001B[0m\u001B[1;33m,\u001B[0m \u001B[0maxis\u001B[0m \u001B[1;33m=\u001B[0m \u001B[1;36m1\u001B[0m\u001B[1;33m)\u001B[0m\u001B[1;33m\u001B[0m\u001B[1;33m\u001B[0m\u001B[0m\n\u001B[0m",
      "\u001B[1;32m~\\anaconda3\\lib\\site-packages\\pandas\\util\\_decorators.py\u001B[0m in \u001B[0;36mwrapper\u001B[1;34m(*args, **kwargs)\u001B[0m\n\u001B[0;32m    309\u001B[0m                     \u001B[0mstacklevel\u001B[0m\u001B[1;33m=\u001B[0m\u001B[0mstacklevel\u001B[0m\u001B[1;33m,\u001B[0m\u001B[1;33m\u001B[0m\u001B[1;33m\u001B[0m\u001B[0m\n\u001B[0;32m    310\u001B[0m                 )\n\u001B[1;32m--> 311\u001B[1;33m             \u001B[1;32mreturn\u001B[0m \u001B[0mfunc\u001B[0m\u001B[1;33m(\u001B[0m\u001B[1;33m*\u001B[0m\u001B[0margs\u001B[0m\u001B[1;33m,\u001B[0m \u001B[1;33m**\u001B[0m\u001B[0mkwargs\u001B[0m\u001B[1;33m)\u001B[0m\u001B[1;33m\u001B[0m\u001B[1;33m\u001B[0m\u001B[0m\n\u001B[0m\u001B[0;32m    312\u001B[0m \u001B[1;33m\u001B[0m\u001B[0m\n\u001B[0;32m    313\u001B[0m         \u001B[1;32mreturn\u001B[0m \u001B[0mwrapper\u001B[0m\u001B[1;33m\u001B[0m\u001B[1;33m\u001B[0m\u001B[0m\n",
      "\u001B[1;32m~\\anaconda3\\lib\\site-packages\\pandas\\core\\frame.py\u001B[0m in \u001B[0;36mdrop\u001B[1;34m(self, labels, axis, index, columns, level, inplace, errors)\u001B[0m\n\u001B[0;32m   4955\u001B[0m                 \u001B[0mweight\u001B[0m  \u001B[1;36m1.0\u001B[0m     \u001B[1;36m0.8\u001B[0m\u001B[1;33m\u001B[0m\u001B[1;33m\u001B[0m\u001B[0m\n\u001B[0;32m   4956\u001B[0m         \"\"\"\n\u001B[1;32m-> 4957\u001B[1;33m         return super().drop(\n\u001B[0m\u001B[0;32m   4958\u001B[0m             \u001B[0mlabels\u001B[0m\u001B[1;33m=\u001B[0m\u001B[0mlabels\u001B[0m\u001B[1;33m,\u001B[0m\u001B[1;33m\u001B[0m\u001B[1;33m\u001B[0m\u001B[0m\n\u001B[0;32m   4959\u001B[0m             \u001B[0maxis\u001B[0m\u001B[1;33m=\u001B[0m\u001B[0maxis\u001B[0m\u001B[1;33m,\u001B[0m\u001B[1;33m\u001B[0m\u001B[1;33m\u001B[0m\u001B[0m\n",
      "\u001B[1;32m~\\anaconda3\\lib\\site-packages\\pandas\\core\\generic.py\u001B[0m in \u001B[0;36mdrop\u001B[1;34m(self, labels, axis, index, columns, level, inplace, errors)\u001B[0m\n\u001B[0;32m   4265\u001B[0m         \u001B[1;32mfor\u001B[0m \u001B[0maxis\u001B[0m\u001B[1;33m,\u001B[0m \u001B[0mlabels\u001B[0m \u001B[1;32min\u001B[0m \u001B[0maxes\u001B[0m\u001B[1;33m.\u001B[0m\u001B[0mitems\u001B[0m\u001B[1;33m(\u001B[0m\u001B[1;33m)\u001B[0m\u001B[1;33m:\u001B[0m\u001B[1;33m\u001B[0m\u001B[1;33m\u001B[0m\u001B[0m\n\u001B[0;32m   4266\u001B[0m             \u001B[1;32mif\u001B[0m \u001B[0mlabels\u001B[0m \u001B[1;32mis\u001B[0m \u001B[1;32mnot\u001B[0m \u001B[1;32mNone\u001B[0m\u001B[1;33m:\u001B[0m\u001B[1;33m\u001B[0m\u001B[1;33m\u001B[0m\u001B[0m\n\u001B[1;32m-> 4267\u001B[1;33m                 \u001B[0mobj\u001B[0m \u001B[1;33m=\u001B[0m \u001B[0mobj\u001B[0m\u001B[1;33m.\u001B[0m\u001B[0m_drop_axis\u001B[0m\u001B[1;33m(\u001B[0m\u001B[0mlabels\u001B[0m\u001B[1;33m,\u001B[0m \u001B[0maxis\u001B[0m\u001B[1;33m,\u001B[0m \u001B[0mlevel\u001B[0m\u001B[1;33m=\u001B[0m\u001B[0mlevel\u001B[0m\u001B[1;33m,\u001B[0m \u001B[0merrors\u001B[0m\u001B[1;33m=\u001B[0m\u001B[0merrors\u001B[0m\u001B[1;33m)\u001B[0m\u001B[1;33m\u001B[0m\u001B[1;33m\u001B[0m\u001B[0m\n\u001B[0m\u001B[0;32m   4268\u001B[0m \u001B[1;33m\u001B[0m\u001B[0m\n\u001B[0;32m   4269\u001B[0m         \u001B[1;32mif\u001B[0m \u001B[0minplace\u001B[0m\u001B[1;33m:\u001B[0m\u001B[1;33m\u001B[0m\u001B[1;33m\u001B[0m\u001B[0m\n",
      "\u001B[1;32m~\\anaconda3\\lib\\site-packages\\pandas\\core\\generic.py\u001B[0m in \u001B[0;36m_drop_axis\u001B[1;34m(self, labels, axis, level, errors, consolidate, only_slice)\u001B[0m\n\u001B[0;32m   4309\u001B[0m                 \u001B[0mnew_axis\u001B[0m \u001B[1;33m=\u001B[0m \u001B[0maxis\u001B[0m\u001B[1;33m.\u001B[0m\u001B[0mdrop\u001B[0m\u001B[1;33m(\u001B[0m\u001B[0mlabels\u001B[0m\u001B[1;33m,\u001B[0m \u001B[0mlevel\u001B[0m\u001B[1;33m=\u001B[0m\u001B[0mlevel\u001B[0m\u001B[1;33m,\u001B[0m \u001B[0merrors\u001B[0m\u001B[1;33m=\u001B[0m\u001B[0merrors\u001B[0m\u001B[1;33m)\u001B[0m\u001B[1;33m\u001B[0m\u001B[1;33m\u001B[0m\u001B[0m\n\u001B[0;32m   4310\u001B[0m             \u001B[1;32melse\u001B[0m\u001B[1;33m:\u001B[0m\u001B[1;33m\u001B[0m\u001B[1;33m\u001B[0m\u001B[0m\n\u001B[1;32m-> 4311\u001B[1;33m                 \u001B[0mnew_axis\u001B[0m \u001B[1;33m=\u001B[0m \u001B[0maxis\u001B[0m\u001B[1;33m.\u001B[0m\u001B[0mdrop\u001B[0m\u001B[1;33m(\u001B[0m\u001B[0mlabels\u001B[0m\u001B[1;33m,\u001B[0m \u001B[0merrors\u001B[0m\u001B[1;33m=\u001B[0m\u001B[0merrors\u001B[0m\u001B[1;33m)\u001B[0m\u001B[1;33m\u001B[0m\u001B[1;33m\u001B[0m\u001B[0m\n\u001B[0m\u001B[0;32m   4312\u001B[0m             \u001B[0mindexer\u001B[0m \u001B[1;33m=\u001B[0m \u001B[0maxis\u001B[0m\u001B[1;33m.\u001B[0m\u001B[0mget_indexer\u001B[0m\u001B[1;33m(\u001B[0m\u001B[0mnew_axis\u001B[0m\u001B[1;33m)\u001B[0m\u001B[1;33m\u001B[0m\u001B[1;33m\u001B[0m\u001B[0m\n\u001B[0;32m   4313\u001B[0m \u001B[1;33m\u001B[0m\u001B[0m\n",
      "\u001B[1;32m~\\anaconda3\\lib\\site-packages\\pandas\\core\\indexes\\base.py\u001B[0m in \u001B[0;36mdrop\u001B[1;34m(self, labels, errors)\u001B[0m\n\u001B[0;32m   6659\u001B[0m         \u001B[1;32mif\u001B[0m \u001B[0mmask\u001B[0m\u001B[1;33m.\u001B[0m\u001B[0many\u001B[0m\u001B[1;33m(\u001B[0m\u001B[1;33m)\u001B[0m\u001B[1;33m:\u001B[0m\u001B[1;33m\u001B[0m\u001B[1;33m\u001B[0m\u001B[0m\n\u001B[0;32m   6660\u001B[0m             \u001B[1;32mif\u001B[0m \u001B[0merrors\u001B[0m \u001B[1;33m!=\u001B[0m \u001B[1;34m\"ignore\"\u001B[0m\u001B[1;33m:\u001B[0m\u001B[1;33m\u001B[0m\u001B[1;33m\u001B[0m\u001B[0m\n\u001B[1;32m-> 6661\u001B[1;33m                 \u001B[1;32mraise\u001B[0m \u001B[0mKeyError\u001B[0m\u001B[1;33m(\u001B[0m\u001B[1;34mf\"{list(labels[mask])} not found in axis\"\u001B[0m\u001B[1;33m)\u001B[0m\u001B[1;33m\u001B[0m\u001B[1;33m\u001B[0m\u001B[0m\n\u001B[0m\u001B[0;32m   6662\u001B[0m             \u001B[0mindexer\u001B[0m \u001B[1;33m=\u001B[0m \u001B[0mindexer\u001B[0m\u001B[1;33m[\u001B[0m\u001B[1;33m~\u001B[0m\u001B[0mmask\u001B[0m\u001B[1;33m]\u001B[0m\u001B[1;33m\u001B[0m\u001B[1;33m\u001B[0m\u001B[0m\n\u001B[0;32m   6663\u001B[0m         \u001B[1;32mreturn\u001B[0m \u001B[0mself\u001B[0m\u001B[1;33m.\u001B[0m\u001B[0mdelete\u001B[0m\u001B[1;33m(\u001B[0m\u001B[0mindexer\u001B[0m\u001B[1;33m)\u001B[0m\u001B[1;33m\u001B[0m\u001B[1;33m\u001B[0m\u001B[0m\n",
      "\u001B[1;31mKeyError\u001B[0m: \"['P102'] not found in axis\""
     ]
    }
   ],
   "source": [
    "#df = df.drop(['P102'], axis = 1)"
   ],
   "metadata": {
    "collapsed": false,
    "ExecuteTime": {
     "end_time": "2024-02-03T19:25:32.321761400Z",
     "start_time": "2024-02-03T19:25:32.252762100Z"
    }
   }
  },
  {
   "cell_type": "code",
   "execution_count": 13,
   "outputs": [
    {
     "name": "stderr",
     "output_type": "stream",
     "text": [
      "C:\\Users\\laure\\AppData\\Local\\Temp\\ipykernel_24200\\3801953657.py:5: FutureWarning: this method is deprecated in favour of `Styler.format(precision=..)`\n",
      "  correlation_matrix.style.background_gradient(cmap='coolwarm').set_precision(2)\n"
     ]
    },
    {
     "data": {
      "text/plain": "<pandas.io.formats.style.Styler at 0x29a8084ee50>",
      "text/html": "<style type=\"text/css\">\n</style>\n<table id=\"T_91937\">\n  <thead>\n  </thead>\n  <tbody>\n  </tbody>\n</table>\n"
     },
     "execution_count": 13,
     "metadata": {},
     "output_type": "execute_result"
    }
   ],
   "source": [
    "\n",
    "# Calculate the correlation matrix\n",
    "correlation_matrix = df.corr()\n",
    "\n",
    "# Apply a color gradient to the correlation matrix and display it\n",
    "correlation_matrix.style.background_gradient(cmap='coolwarm').set_precision(2)\n"
   ],
   "metadata": {
    "collapsed": false,
    "ExecuteTime": {
     "end_time": "2024-02-03T19:28:41.740679600Z",
     "start_time": "2024-02-03T19:28:41.655351500Z"
    }
   }
  },
  {
   "cell_type": "code",
   "execution_count": 15,
   "outputs": [
    {
     "data": {
      "text/plain": "Index(['No.', 'Name', 'Type', 'Description'], dtype='object')"
     },
     "execution_count": 15,
     "metadata": {},
     "output_type": "execute_result"
    }
   ],
   "source": [
    "df.columns"
   ],
   "metadata": {
    "collapsed": false,
    "ExecuteTime": {
     "end_time": "2024-02-03T19:29:15.308448100Z",
     "start_time": "2024-02-03T19:29:15.256474500Z"
    }
   }
  },
  {
   "cell_type": "code",
   "execution_count": 27,
   "outputs": [],
   "source": [
    "# remove whitespace\n",
    "df.columns = df.columns.str.strip()\n",
    "\n",
    "# Parse the datetime column\n",
    "df['Timestamp'] = pd.to_datetime(df['Timestamp'])\n",
    "\n",
    "# Set the datetime column as the index\n",
    "df.set_index('Timestamp', inplace=True)\n",
    "\n",
    "# Resample the data in 10-second windows and calculate the mean\n",
    "resampled_df = df.resample('10S').mean()"
   ],
   "metadata": {
    "collapsed": false,
    "ExecuteTime": {
     "end_time": "2024-02-03T23:55:28.993809200Z",
     "start_time": "2024-02-03T23:54:35.555253100Z"
    }
   }
  },
  {
   "cell_type": "code",
   "execution_count": 27,
   "outputs": [],
   "source": [],
   "metadata": {
    "collapsed": false,
    "ExecuteTime": {
     "end_time": "2024-02-03T23:55:52.426358700Z",
     "start_time": "2024-02-03T23:55:52.398691800Z"
    }
   }
  },
  {
   "cell_type": "code",
   "execution_count": 28,
   "outputs": [],
   "source": [
    "resampled_df = resampled_df.reset_index()"
   ],
   "metadata": {
    "collapsed": false,
    "ExecuteTime": {
     "end_time": "2024-02-03T23:55:52.955753400Z",
     "start_time": "2024-02-03T23:55:52.911437700Z"
    }
   }
  },
  {
   "cell_type": "code",
   "execution_count": 29,
   "outputs": [
    {
     "data": {
      "text/plain": "Index(['Timestamp', 'FIT101', 'LIT101', 'MV101', 'P101', 'P102', 'AIT201',\n       'AIT202', 'AIT203', 'FIT201', 'MV201', 'P201', 'P202', 'P203', 'P204',\n       'P205', 'P206', 'DPIT301', 'FIT301', 'LIT301', 'MV301', 'MV302',\n       'MV303', 'MV304', 'P301', 'P302', 'AIT401', 'AIT402', 'FIT401',\n       'LIT401', 'P401', 'P402', 'P403', 'P404', 'UV401', 'AIT501', 'AIT502',\n       'AIT503', 'AIT504', 'FIT501', 'FIT502', 'FIT503', 'FIT504', 'P501',\n       'P502', 'PIT501', 'PIT502', 'PIT503', 'FIT601', 'P601', 'P602', 'P603'],\n      dtype='object')"
     },
     "execution_count": 29,
     "metadata": {},
     "output_type": "execute_result"
    }
   ],
   "source": [
    "resampled_df.columns"
   ],
   "metadata": {
    "collapsed": false,
    "ExecuteTime": {
     "end_time": "2024-02-03T23:55:54.089763200Z",
     "start_time": "2024-02-03T23:55:54.065777100Z"
    }
   }
  },
  {
   "cell_type": "code",
   "execution_count": 30,
   "outputs": [
    {
     "data": {
      "text/plain": "            Timestamp  FIT101     LIT101  MV101  P101  P102    AIT201  \\\n0 2015-12-22 16:30:00     0.0  123.97593    1.0   1.0   1.0  251.9226   \n1 2015-12-22 16:30:10     0.0  124.40769    1.0   1.0   1.0  251.9226   \n2 2015-12-22 16:30:20     0.0  123.90527    1.0   1.0   1.0  251.9226   \n3 2015-12-22 16:30:30     0.0  123.90134    1.0   1.0   1.0  251.9226   \n4 2015-12-22 16:30:40     0.0  124.85909    1.0   1.0   1.0  251.9226   \n\n     AIT202     AIT203  FIT201  ...  FIT504  P501  P502    PIT501  PIT502  \\\n0  8.313061  312.79160     0.0  ...     0.0   1.0   1.0  9.100231     0.0   \n1  8.308960  312.90185     0.0  ...     0.0   1.0   1.0  9.100231     0.0   \n2  8.310979  312.80442     0.0  ...     0.0   1.0   1.0  9.100231     0.0   \n3  8.312612  312.91980     0.0  ...     0.0   1.0   1.0  9.037747     0.0   \n4  8.308191  313.00950     0.0  ...     0.0   1.0   1.0  9.068188     0.0   \n\n   PIT503    FIT601  P601  P602  P603  \n0  3.3485  0.000256   1.0   1.0   1.0  \n1  3.3485  0.000256   1.0   1.0   1.0  \n2  3.3485  0.000256   1.0   1.0   1.0  \n3  3.3485  0.000256   1.0   1.0   1.0  \n4  3.3485  0.000256   1.0   1.0   1.0  \n\n[5 rows x 52 columns]",
      "text/html": "<div>\n<style scoped>\n    .dataframe tbody tr th:only-of-type {\n        vertical-align: middle;\n    }\n\n    .dataframe tbody tr th {\n        vertical-align: top;\n    }\n\n    .dataframe thead th {\n        text-align: right;\n    }\n</style>\n<table border=\"1\" class=\"dataframe\">\n  <thead>\n    <tr style=\"text-align: right;\">\n      <th></th>\n      <th>Timestamp</th>\n      <th>FIT101</th>\n      <th>LIT101</th>\n      <th>MV101</th>\n      <th>P101</th>\n      <th>P102</th>\n      <th>AIT201</th>\n      <th>AIT202</th>\n      <th>AIT203</th>\n      <th>FIT201</th>\n      <th>...</th>\n      <th>FIT504</th>\n      <th>P501</th>\n      <th>P502</th>\n      <th>PIT501</th>\n      <th>PIT502</th>\n      <th>PIT503</th>\n      <th>FIT601</th>\n      <th>P601</th>\n      <th>P602</th>\n      <th>P603</th>\n    </tr>\n  </thead>\n  <tbody>\n    <tr>\n      <th>0</th>\n      <td>2015-12-22 16:30:00</td>\n      <td>0.0</td>\n      <td>123.97593</td>\n      <td>1.0</td>\n      <td>1.0</td>\n      <td>1.0</td>\n      <td>251.9226</td>\n      <td>8.313061</td>\n      <td>312.79160</td>\n      <td>0.0</td>\n      <td>...</td>\n      <td>0.0</td>\n      <td>1.0</td>\n      <td>1.0</td>\n      <td>9.100231</td>\n      <td>0.0</td>\n      <td>3.3485</td>\n      <td>0.000256</td>\n      <td>1.0</td>\n      <td>1.0</td>\n      <td>1.0</td>\n    </tr>\n    <tr>\n      <th>1</th>\n      <td>2015-12-22 16:30:10</td>\n      <td>0.0</td>\n      <td>124.40769</td>\n      <td>1.0</td>\n      <td>1.0</td>\n      <td>1.0</td>\n      <td>251.9226</td>\n      <td>8.308960</td>\n      <td>312.90185</td>\n      <td>0.0</td>\n      <td>...</td>\n      <td>0.0</td>\n      <td>1.0</td>\n      <td>1.0</td>\n      <td>9.100231</td>\n      <td>0.0</td>\n      <td>3.3485</td>\n      <td>0.000256</td>\n      <td>1.0</td>\n      <td>1.0</td>\n      <td>1.0</td>\n    </tr>\n    <tr>\n      <th>2</th>\n      <td>2015-12-22 16:30:20</td>\n      <td>0.0</td>\n      <td>123.90527</td>\n      <td>1.0</td>\n      <td>1.0</td>\n      <td>1.0</td>\n      <td>251.9226</td>\n      <td>8.310979</td>\n      <td>312.80442</td>\n      <td>0.0</td>\n      <td>...</td>\n      <td>0.0</td>\n      <td>1.0</td>\n      <td>1.0</td>\n      <td>9.100231</td>\n      <td>0.0</td>\n      <td>3.3485</td>\n      <td>0.000256</td>\n      <td>1.0</td>\n      <td>1.0</td>\n      <td>1.0</td>\n    </tr>\n    <tr>\n      <th>3</th>\n      <td>2015-12-22 16:30:30</td>\n      <td>0.0</td>\n      <td>123.90134</td>\n      <td>1.0</td>\n      <td>1.0</td>\n      <td>1.0</td>\n      <td>251.9226</td>\n      <td>8.312612</td>\n      <td>312.91980</td>\n      <td>0.0</td>\n      <td>...</td>\n      <td>0.0</td>\n      <td>1.0</td>\n      <td>1.0</td>\n      <td>9.037747</td>\n      <td>0.0</td>\n      <td>3.3485</td>\n      <td>0.000256</td>\n      <td>1.0</td>\n      <td>1.0</td>\n      <td>1.0</td>\n    </tr>\n    <tr>\n      <th>4</th>\n      <td>2015-12-22 16:30:40</td>\n      <td>0.0</td>\n      <td>124.85909</td>\n      <td>1.0</td>\n      <td>1.0</td>\n      <td>1.0</td>\n      <td>251.9226</td>\n      <td>8.308191</td>\n      <td>313.00950</td>\n      <td>0.0</td>\n      <td>...</td>\n      <td>0.0</td>\n      <td>1.0</td>\n      <td>1.0</td>\n      <td>9.068188</td>\n      <td>0.0</td>\n      <td>3.3485</td>\n      <td>0.000256</td>\n      <td>1.0</td>\n      <td>1.0</td>\n      <td>1.0</td>\n    </tr>\n  </tbody>\n</table>\n<p>5 rows × 52 columns</p>\n</div>"
     },
     "execution_count": 30,
     "metadata": {},
     "output_type": "execute_result"
    }
   ],
   "source": [
    "resampled_df.head()"
   ],
   "metadata": {
    "collapsed": false,
    "ExecuteTime": {
     "end_time": "2024-02-03T23:55:58.087755600Z",
     "start_time": "2024-02-03T23:55:58.032061400Z"
    }
   }
  },
  {
   "cell_type": "code",
   "execution_count": 32,
   "outputs": [],
   "source": [
    "# Extract components\n",
    "resampled_df['date'] = resampled_df['Timestamp'].dt.date        # Extracts date\n",
    "resampled_df['time'] = resampled_df['Timestamp'].dt.time        # Extracts time"
   ],
   "metadata": {
    "collapsed": false,
    "ExecuteTime": {
     "end_time": "2024-02-03T23:56:58.800676Z",
     "start_time": "2024-02-03T23:56:58.720742100Z"
    }
   }
  },
  {
   "cell_type": "code",
   "execution_count": 33,
   "outputs": [],
   "source": [
    "filename = 'D:\\GitHub\\MSc-Project\\SWaT DataSWaT 10 sec.csv'\n",
    "\n",
    "resampled_df.to_csv(filename, index = True)"
   ],
   "metadata": {
    "collapsed": false,
    "ExecuteTime": {
     "end_time": "2024-02-03T23:57:12.904365Z",
     "start_time": "2024-02-03T23:57:10.490735Z"
    }
   }
  },
  {
   "cell_type": "code",
   "execution_count": null,
   "outputs": [],
   "source": [],
   "metadata": {
    "collapsed": false
   }
  },
  {
   "cell_type": "code",
   "execution_count": null,
   "outputs": [],
   "source": [],
   "metadata": {
    "collapsed": false
   }
  },
  {
   "cell_type": "code",
   "execution_count": null,
   "outputs": [],
   "source": [],
   "metadata": {
    "collapsed": false
   }
  }
 ],
 "metadata": {
  "kernelspec": {
   "display_name": "Python 3",
   "language": "python",
   "name": "python3"
  },
  "language_info": {
   "codemirror_mode": {
    "name": "ipython",
    "version": 2
   },
   "file_extension": ".py",
   "mimetype": "text/x-python",
   "name": "python",
   "nbconvert_exporter": "python",
   "pygments_lexer": "ipython2",
   "version": "2.7.6"
  }
 },
 "nbformat": 4,
 "nbformat_minor": 0
}
