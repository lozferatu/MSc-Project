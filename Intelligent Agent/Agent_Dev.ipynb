{
 "cells": [
  {
   "cell_type": "code",
   "execution_count": 11,
   "metadata": {
    "collapsed": true,
    "ExecuteTime": {
     "end_time": "2024-09-08T17:04:24.144876800Z",
     "start_time": "2024-09-08T17:04:15.484032300Z"
    }
   },
   "outputs": [
    {
     "name": "stdout",
     "output_type": "stream",
     "text": [
      "Requirement already satisfied: gym in c:\\users\\laure\\anaconda3\\lib\\site-packages (0.26.2)\n",
      "Requirement already satisfied: importlib-metadata>=4.8.0 in c:\\users\\laure\\anaconda3\\lib\\site-packages (from gym) (4.11.3)\n",
      "Requirement already satisfied: numpy>=1.18.0 in c:\\users\\laure\\anaconda3\\lib\\site-packages (from gym) (1.21.5)\n",
      "Requirement already satisfied: cloudpickle>=1.2.0 in c:\\users\\laure\\anaconda3\\lib\\site-packages (from gym) (2.0.0)\n",
      "Requirement already satisfied: gym-notices>=0.0.4 in c:\\users\\laure\\anaconda3\\lib\\site-packages (from gym) (0.0.8)\n",
      "Requirement already satisfied: zipp>=0.5 in c:\\users\\laure\\anaconda3\\lib\\site-packages (from importlib-metadata>=4.8.0->gym) (3.8.0)\n",
      "Collecting pygame\n",
      "  Downloading pygame-2.6.0-cp39-cp39-win_amd64.whl (10.7 MB)\n",
      "     ---------------------------------------- 10.7/10.7 MB 9.1 MB/s eta 0:00:00\n",
      "Installing collected packages: pygame\n",
      "Successfully installed pygame-2.6.0\n"
     ]
    }
   ],
   "source": [
    "!pip install gym\n",
    "!pip install pygame"
   ]
  },
  {
   "cell_type": "code",
   "execution_count": 7,
   "outputs": [
    {
     "name": "stdout",
     "output_type": "stream",
     "text": [
      "Game ended in iteration 2.\n",
      "Rewards: [0.0, 0.0]\n"
     ]
    }
   ],
   "source": [
    "import gym\n",
    "import pygame\n",
    "import numpy as np\n",
    "\n",
    "# Initialize pygame (this must be done before using pygame functions)\n",
    "pygame.init()\n",
    "\n",
    "# Create the FrozenLake environment\n",
    "env = gym.make('FrozenLake-v1', is_slippery=False)\n",
    "env.reset()\n",
    "\n",
    "# Define colors\n",
    "WHITE = (255, 255, 255)  # Frozen tiles\n",
    "BLUE = (0, 0, 255)       # Start tile\n",
    "BLACK = (0, 0, 0)        # Hole tile\n",
    "GREEN = (0, 255, 0)      # Goal tile\n",
    "RED = (255, 0, 0)        # Player's position\n",
    "\n",
    "# Set up window size\n",
    "tile_size = 50  # Size of each tile\n",
    "grid = env.unwrapped.desc  # Get the grid layout\n",
    "env_size = grid.shape[0]  # Determine the grid size dynamically\n",
    "window_size = env_size * tile_size\n",
    "\n",
    "# Create pygame window (after initialization)\n",
    "screen = pygame.display.set_mode((window_size, window_size))\n",
    "\n",
    "# Function to draw the environment\n",
    "def draw_env(env, screen):\n",
    "    screen.fill(WHITE)  # Fill the screen with white\n",
    "    grid = env.unwrapped.desc  # Get the grid layout of FrozenLake\n",
    "\n",
    "    for i in range(grid.shape[0]):  # Use the shape of the grid to determine size\n",
    "        for j in range(grid.shape[1]):\n",
    "            tile = grid[i, j].decode('utf-8')  # Get tile type\n",
    "            rect = pygame.Rect(j * tile_size, i * tile_size, tile_size, tile_size)\n",
    "\n",
    "            # Color tiles based on type\n",
    "            if tile == 'S':\n",
    "                pygame.draw.rect(screen, BLUE, rect)  # Start\n",
    "            elif tile == 'F':\n",
    "                pygame.draw.rect(screen, WHITE, rect)  # Frozen\n",
    "            elif tile == 'H':\n",
    "                pygame.draw.rect(screen, BLACK, rect)  # Hole\n",
    "            elif tile == 'G':\n",
    "                pygame.draw.rect(screen, GREEN, rect)  # Goal\n",
    "\n",
    "    # Draw the player's position\n",
    "    player_row, player_col = np.unravel_index(env.s, grid.shape)\n",
    "    player_rect = pygame.Rect(player_col * tile_size, player_row * tile_size, tile_size, tile_size)\n",
    "    pygame.draw.rect(screen, RED, player_rect)\n",
    "\n",
    "# Main loop to render the environment and play random actions\n",
    "MAX_ITERATIONS = 10\n",
    "rewards = []\n",
    "done = False\n",
    "\n",
    "# Reset environment before starting the game\n",
    "env.reset()\n",
    "\n",
    "# Start the rendering loop\n",
    "for i in range(MAX_ITERATIONS):\n",
    "    for event in pygame.event.get():\n",
    "        if event.type == pygame.QUIT:\n",
    "            done = True\n",
    "            break\n",
    "\n",
    "    # Take a random action\n",
    "    random_action = env.action_space.sample()\n",
    "    new_state, reward, done, info, probs = env.step(random_action)\n",
    "\n",
    "    # Render the environment using pygame\n",
    "    draw_env(env, screen)\n",
    "\n",
    "    # Update the pygame display\n",
    "    pygame.display.flip()\n",
    "\n",
    "    # Add a delay (in milliseconds) to slow down the rendering\n",
    "    pygame.time.delay(500)  # Delay for 500 milliseconds (0.5 seconds)\n",
    "\n",
    "    rewards.append(reward)\n",
    "\n",
    "    if done:\n",
    "        print(f\"Game ended in iteration {i+1}.\")\n",
    "        break\n",
    "\n",
    "# Ensure pygame.quit() is called **after** the loop\n",
    "pygame.quit()\n",
    "\n",
    "# Output the accumulated rewards\n",
    "print(\"Rewards:\", rewards)\n"
   ],
   "metadata": {
    "collapsed": false,
    "ExecuteTime": {
     "end_time": "2024-09-08T18:02:57.862981500Z",
     "start_time": "2024-09-08T18:02:55.514812500Z"
    }
   }
  },
  {
   "cell_type": "code",
   "execution_count": null,
   "outputs": [],
   "source": [],
   "metadata": {
    "collapsed": false
   }
  }
 ],
 "metadata": {
  "kernelspec": {
   "display_name": "Python 3",
   "language": "python",
   "name": "python3"
  },
  "language_info": {
   "codemirror_mode": {
    "name": "ipython",
    "version": 2
   },
   "file_extension": ".py",
   "mimetype": "text/x-python",
   "name": "python",
   "nbconvert_exporter": "python",
   "pygments_lexer": "ipython2",
   "version": "2.7.6"
  }
 },
 "nbformat": 4,
 "nbformat_minor": 0
}
